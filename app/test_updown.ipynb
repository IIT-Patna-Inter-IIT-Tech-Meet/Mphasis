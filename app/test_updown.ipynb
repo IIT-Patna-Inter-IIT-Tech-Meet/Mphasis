{
 "cells": [
  {
   "cell_type": "code",
   "execution_count": 1,
   "metadata": {},
   "outputs": [],
   "source": [
    "# import matplotlib.pyplot as plt\n",
    "\n",
    "# # Assuming you have the following dictionaries\n",
    "# pnr_flight_dict = {123: 'F123', 456: 'F456', 789: 'F789', 987: 'F987'}\n",
    "# pnr_score_dict = {123: 90, 456: 80, 789: 95, 987: 70}\n",
    "# rescheduling_score_dict = {(123, 'F123'): 10, (456, 'F456'): 5, (789, 'F789'): 15, (987, 'F987'): 8}\n",
    "\n",
    "# # Sort the PNRS by scores\n",
    "# sorted_pnrs = sorted(pnr_score_dict.keys(), key=lambda x: pnr_score_dict[x], reverse=True)\n",
    "\n",
    "# # Extract flight IDs and scores for each PNR\n",
    "# flight_ids = [pnr_flight_dict[pnr] for pnr in sorted_pnrs]\n",
    "# scores = [pnr_score_dict[pnr] for pnr in sorted_pnrs]\n",
    "\n",
    "# # Plotting\n",
    "# fig, ax = plt.subplots(figsize=(10, 6))\n",
    "# bar_width = 0.35\n",
    "# index = range(len(sorted_pnrs))\n",
    "\n",
    "# # Plotting the scores\n",
    "# bars1 = ax.bar(index, scores, bar_width, label='Original Score')\n",
    "\n",
    "# # Plotting the rescheduling scores as a line plot\n",
    "# rescheduling_scores = [rescheduling_score_dict[(pnr, pnr_flight_dict[pnr])] for pnr in sorted_pnrs]\n",
    "# line = ax.plot(index, rescheduling_scores, label='Rescheduling Score', marker='o', color='red')\n",
    "\n",
    "# # Adding labels and title\n",
    "# ax.set_xlabel('PNR')\n",
    "# ax.set_ylabel('Score')\n",
    "# ax.set_title('PNRs with High Scores and Rescheduling Scores')\n",
    "# ax.set_xticks(index)\n",
    "# ax.set_xticklabels(sorted_pnrs)\n",
    "# ax.legend()\n",
    "\n",
    "# # Adding flight IDs as text on top of bars\n",
    "# for i, score in enumerate(scores):\n",
    "#     ax.text(i, score + 1, pnr_flight_dict[sorted_pnrs[i]], ha='center')\n",
    "\n",
    "# # Display the plot\n",
    "# plt.tight_layout()\n",
    "# plt.show()"
   ]
  },
  {
   "cell_type": "code",
   "execution_count": 2,
   "metadata": {},
   "outputs": [],
   "source": [
    "# import plotly.graph_objects as go\n",
    "\n",
    "# # Assuming you have the following dictionaries\n",
    "# pnr_flight_dict = {123: 'F123', 456: 'F456', 789: 'F789', 987: 'F987'}\n",
    "# pnr_score_dict = {123: 90, 456: 80, 789: 95, 987: 70}\n",
    "# rescheduling_score_dict = {(123, 'F123'): 10, (456, 'F456'): 5, (789, 'F789'): 15, (987, 'F987'): 8}\n",
    "\n",
    "# # Sort the PNRS by scores\n",
    "# sorted_pnrs = sorted(pnr_score_dict.keys(), key=lambda x: pnr_score_dict[x], reverse=True)\n",
    "\n",
    "# # Extract flight IDs and scores for each PNR\n",
    "# flight_ids = [pnr_flight_dict[pnr] for pnr in sorted_pnrs]\n",
    "# original_scores = [pnr_score_dict[pnr] for pnr in sorted_pnrs]\n",
    "# rescheduling_scores = [rescheduling_score_dict[(pnr, pnr_flight_dict[pnr])] for pnr in sorted_pnrs]\n",
    "\n",
    "# # Create a bar chart\n",
    "# fig = go.Figure()\n",
    "\n",
    "# # Bar chart for original scores\n",
    "# fig.add_trace(go.Bar(x=sorted_pnrs, y=original_scores, name='Original Score'))\n",
    "\n",
    "# # Line chart for rescheduling scores\n",
    "# fig.add_trace(go.Scatter(x=sorted_pnrs, y=rescheduling_scores, mode='lines+markers', name='Rescheduling Score', line=dict(color='red')))\n",
    "\n",
    "# # Layout customization\n",
    "# fig.update_layout(\n",
    "#     xaxis=dict(title='PNR'),\n",
    "#     yaxis=dict(title='Score'),\n",
    "#     title='PNRs with High Scores and Rescheduling Scores',\n",
    "#     barmode='group'\n",
    "# )\n",
    "\n",
    "# # Display the plot\n",
    "# fig.show()\n"
   ]
  },
  {
   "cell_type": "code",
   "execution_count": 3,
   "metadata": {},
   "outputs": [],
   "source": [
    "### TEST PLOTS\n",
    "import plotly.graph_objects as go\n",
    "from plotly.subplots import make_subplots\n",
    "import plotly.express as px\n",
    "import pandas as pd"
   ]
  },
  {
   "cell_type": "code",
   "execution_count": 4,
   "metadata": {},
   "outputs": [
    {
     "name": "stdout",
     "output_type": "stream",
     "text": [
      "Index(['pnr', 'pnr_score', 'canclled_flight', 'canclled_class',\n",
      "       'canclled_flight_departure', 'canclled_flight_arrival', 'canclled_src',\n",
      "       'canclled_dst', 'allocated_src', 'allocated_dst', 'allocated_flights',\n",
      "       'allocated_flights_departure', 'allocated_flights_arrival',\n",
      "       'allocated_classes', 'allocated_flights_score'],\n",
      "      dtype='object')\n"
     ]
    }
   ],
   "source": [
    "df = pd.read_csv('result.csv')\n",
    "print(df.keys()) "
   ]
  },
  {
   "cell_type": "code",
   "execution_count": 5,
   "metadata": {},
   "outputs": [
    {
     "name": "stdout",
     "output_type": "stream",
     "text": [
      "6965.384615384615 4643.073332769441\n"
     ]
    },
    {
     "data": {
      "application/vnd.plotly.v1+json": {
       "config": {
        "plotlyServerURL": "https://plot.ly"
       },
       "data": [
        {
         "alignmentgroup": "True",
         "hovertemplate": "pnr=%{x}<br>PNR Score=%{y}<extra></extra>",
         "legendgroup": "",
         "marker": {
          "color": "#636efa",
          "pattern": {
           "shape": ""
          }
         },
         "name": "",
         "offsetgroup": "",
         "orientation": "v",
         "showlegend": false,
         "textposition": "auto",
         "type": "bar",
         "x": [
          "SLWF58",
          "HUKX32",
          "RMNS44",
          "RNHC46",
          "TOAW70",
          "UXAS88",
          "HIGU55",
          "ZLEF86",
          "MFWE70",
          "GUAU64",
          "QDUN60",
          "SPLX71",
          "YYZK76",
          "HDTU72",
          "POBU85",
          "DNHG88",
          "KJHI85",
          "GMHO31",
          "GDLS51",
          "CPKB55",
          "IGWJ82",
          "EUTS74",
          "ZJHG87",
          "ZTBI89",
          "YVPJ82",
          "NVCA93",
          "BFRO63",
          "MDMH38",
          "LVCF80",
          "FBGT91",
          "NGDC92",
          "WJFY37",
          "FTGB88",
          "DFIE34",
          "OFRV69",
          "VDDA36",
          "ZTUQ49",
          "OJRQ64",
          "PEXT79",
          "YJLZ64",
          "KCQQ68",
          "MBAM17",
          "SROP81",
          "JASH81",
          "LLEF53",
          "QJNK58",
          "ZQHE32",
          "OSUE50",
          "JQTS12",
          "TBYG80",
          "YADJ50",
          "DEWR55",
          "KVEF56",
          "ERTF56",
          "WJXU73",
          "NABH75",
          "GYIO26",
          "IMRP11",
          "JGML71",
          "TXVU12",
          "NGQJ46",
          "PNNK58",
          "NQXC83",
          "YPQM28",
          "FRDT60",
          "CWMG83",
          "ROMJ23",
          "NJPX66",
          "ENTR65",
          "CNKT67",
          "XBAR37",
          "JCQH28",
          "PUUA42",
          "HPZP14",
          "NEOL38",
          "ERAY33",
          "YYFD12",
          "YZPW46",
          "VEFY39",
          "MMUU86",
          "MTKY90",
          "ZJJW20",
          "TLEF33",
          "OUMP14",
          "OVGT73",
          "DWRK59",
          "ASVC73",
          "VAXI35",
          "HLWQ69",
          "IZYT94",
          "GCQO47",
          "JXBM73",
          "DCNF10",
          "SZQS66",
          "CQAZ15",
          "KZGI84",
          "FELL42",
          "FKHH76",
          "RHKC58",
          "KVAQ89",
          "VNSB37",
          "UMBY94",
          "PCXW92",
          "SAEN79",
          "VBQJ24",
          "VEJG80",
          "GBEV32",
          "HHSD24",
          "UNCM41",
          "JSOP84",
          "NBLR72",
          "YYSA99",
          "GJBD30",
          "OIIX82",
          "SRYJ83",
          "IUHG90",
          "AOAY42",
          "PESX80",
          "NCGK60",
          "OXBM44",
          "QRUC80",
          "PSRW66",
          "CIYF30",
          "LESF66",
          "VBFE55",
          "CGMX55",
          "REVI55",
          "GTZG73",
          "ITBC65",
          "FMMN51",
          "LNTU75",
          "FKUZ11",
          "UEFQ82",
          "FKYE25",
          "HBDM25",
          "QVZR28",
          "OJJD32",
          "EZJQ34",
          "ESNZ73",
          "GLZH70",
          "MJCQ77",
          "MQVH27",
          "SKOF68",
          "QKFL16",
          "OEQB41",
          "SDUJ66",
          "GRYG45",
          "CJFG55",
          "YNVH98",
          "VUFI57",
          "YKRW85",
          "YCFY20",
          "ENMX14",
          "EUBB46",
          "QTMO12",
          "BVGP53",
          "QITU67",
          "MJGC88",
          "ZKHV21",
          "TAFO80",
          "TGLA19",
          "QYGB61",
          "HVQI51",
          "NZDT59",
          "XEKG81",
          "JDAQ43",
          "GMDF29",
          "IYTB69",
          "WDLY71",
          "EVXJ95",
          "PSCH51",
          "CZGN82",
          "ISPE89",
          "LERB88",
          "SSRY96",
          "BHFM82",
          "NBIC95",
          "KFTY31",
          "LUER90",
          "SHKX32",
          "IKXG12",
          "KUCS34",
          "GVTW47",
          "OHAQ57",
          "GECZ65",
          "OSOJ58",
          "HPAH52",
          "NOTC40",
          "STJC26",
          "GVJX51",
          "NXIE96",
          "MHXK85",
          "GVVD60",
          "PAON66",
          "QIYI53",
          "QGKG60",
          "ZDCR88",
          "VWJG33",
          "CIDM82",
          "LJQT67",
          "LFFG30",
          "ZTLP21",
          "VRTK46",
          "XNWT76",
          "KUDS27",
          "LAZX16",
          "HSWI28",
          "BQTI44",
          "UDFV52",
          "GWZT84",
          "LVHU92",
          "YWUG56",
          "CDHS51",
          "ZWKV35",
          "SFXB99",
          "FGRO78",
          "CVYZ12",
          "NJYP36",
          "HRKK97",
          "HANJ53",
          "TXCF52",
          "NPYR39",
          "NFTL30",
          "VZYV16",
          "QMOM17",
          "OZZY47",
          "TDMB51",
          "YFXR19",
          "WSLR16",
          "CWNP76",
          "QFQU21",
          "LABW39",
          "LAZY29",
          "IDYX76",
          "YGUC74",
          "PLJA16",
          "AXGK85",
          "PYKY47",
          "DJIQ49",
          "IABG33",
          "CRAX19",
          "YGXX40",
          "FQOX52",
          "WBDR45",
          "SEDO49",
          "ANGJ31",
          "SYWD80",
          "BQTB82",
          "THRW51",
          "DWGT72",
          "PJSW75",
          "NKAG77",
          "ZXAS14",
          "SHSG52",
          "YPRL90",
          "GTCV95",
          "XFNO62",
          "UJTN27",
          "WVNN63",
          "YWLE82",
          "QSYZ21",
          "ZNZN28",
          "VYLL99",
          "GKEX23",
          "EVAK73",
          "PTUY96",
          "YMPM85",
          "SYWZ82",
          "BNUI96",
          "NKMQ66",
          "LEMX32",
          "YVAG67",
          "PLQB19",
          "DGWC65",
          "WQYF77",
          "SDPS98",
          "QXPI96",
          "JDXT39",
          "HIQR56",
          "UXJB75",
          "DXGB32",
          "MKEC26",
          "EEAM43",
          "XSTW93",
          "CSSK72",
          "GOVS59",
          "QQQO76",
          "HVFP61",
          "DBFZ64",
          "LTPM72",
          "COHT21",
          "MSNO65",
          "RGIO83",
          "MMDF31",
          "FNQP86",
          "MBSM82",
          "KJZW13",
          "CGIO61",
          "WRFX66",
          "YQQS17",
          "BKLR94",
          "ALHS41",
          "VNJL91",
          "MZBS30",
          "HVYQ50",
          "DVFE61",
          "HGJV99",
          "ADCH37",
          "BGEG92",
          "WFRB77",
          "KNDJ88",
          "MLHN86",
          "IISW62",
          "ARVN27",
          "LEEB66",
          "SBED48",
          "HFRI32",
          "ROQR61",
          "VFDB97",
          "KZMX40",
          "VKIF54",
          "MGVZ29",
          "VBEI50",
          "ELTK72",
          "CIVJ43",
          "YEQZ86",
          "EPTO88",
          "YWFS71",
          "WGNQ78",
          "XWHL99",
          "XTNH59",
          "KMJT64",
          "EUBR62",
          "TTZS56",
          "AROQ67",
          "UKYC18",
          "WXNR77",
          "CLPY88",
          "IIND68",
          "ZHEV67",
          "FYSX16",
          "VOVU55",
          "IAPJ59",
          "ETIV54",
          "DYRK47",
          "SPXR29",
          "PXBU41",
          "NZLG27",
          "CWZX77",
          "IUUO84",
          "YGII83",
          "VLIQ18",
          "OIOG94",
          "VCBE94",
          "UGGT20",
          "HNRJ86",
          "ZHYQ58",
          "IQCO42",
          "ZNWD27",
          "NADC75",
          "RJLR15",
          "KDKQ63",
          "VDVN10",
          "CFPB37",
          "JFFJ40",
          "FAEK13",
          "LLIH12",
          "ATIE88",
          "QMQZ86",
          "MPMX64",
          "ULFL16",
          "IXZJ80",
          "MIAT30",
          "CVTF93",
          "TAIZ87",
          "RMZJ88",
          "MAKS27",
          "PYHP39",
          "GOQY43",
          "WETV31",
          "KWFB47",
          "EWOA44",
          "DBRI80",
          "IAFE92",
          "PTDC81",
          "MWHA69",
          "TQME21",
          "XVCQ73",
          "MGHI53",
          "WDES82",
          "EPAQ16",
          "UQDG53",
          "JTSI96",
          "DZXA68",
          "URTD46",
          "ZDHE28",
          "PCMV31",
          "WNHW64",
          "ZFIR69",
          "TFCZ84",
          "KYPS48",
          "RPKH30",
          "MAKF53",
          "GSDB28",
          "BWHE51",
          "DSVM73",
          "JNPB82",
          "LSOQ56",
          "TQKO83",
          "MGXD95",
          "QJUH52",
          "MHGN40",
          "RXOE67",
          "OGUV31",
          "OCZA55",
          "UNTY50",
          "QVQI21",
          "XUJW57",
          "BLUG39",
          "ZXWU97",
          "VGAM26",
          "KJBW36",
          "TNCT92",
          "SIZM49",
          "BMPL83",
          "XYRW70",
          "NQET33",
          "TWMV60",
          "DUIE61",
          "IBTM27",
          "FMQN78",
          "KQWR50",
          "SKUA12",
          "HBVI25",
          "EWON83",
          "OMYB89",
          "EECE55",
          "FBXP28",
          "BTKY58",
          "JKPY74",
          "UCEV32",
          "VLCB67",
          "OBNN66",
          "CBJS81",
          "UAMR95",
          "YEIQ10",
          "MSZL95",
          "SBTM18",
          "LTOP61",
          "KVBJ89",
          "WUMO52",
          "MDXO87",
          "ZLFS69",
          "ADNY69",
          "JNZQ22",
          "LBDC93",
          "QJDE49",
          "FNON77",
          "WJMN79",
          "RWUR57",
          "VJCQ14",
          "RNKT66",
          "TAFR87",
          "CDMS24",
          "OSXT48",
          "XLKI20",
          "NFPD22",
          "XEUB20",
          "BHTJ96",
          "XJLH35",
          "AKKC40",
          "PEFW32",
          "VJXW66",
          "SRON53",
          "ALAX84",
          "RSIM44",
          "HGQV61",
          "JFFG88",
          "HNIU84",
          "EZBC54",
          "LBBF92",
          "ACKK33",
          "DQVZ74",
          "ELES76",
          "PQUB72",
          "QPYJ53",
          "FNGR35",
          "XABE41",
          "SDON87",
          "ORUR32",
          "FSNQ98",
          "EJKT27",
          "SYJU33",
          "HHBZ71"
         ],
         "xaxis": "x",
         "y": [
          21700,
          21500,
          21500,
          21000,
          20700,
          19600,
          19500,
          19100,
          18700,
          18500,
          18500,
          18200,
          18100,
          18000,
          18000,
          17600,
          17500,
          17500,
          17300,
          17200,
          17000,
          16800,
          16700,
          16600,
          16600,
          16100,
          16100,
          16000,
          16000,
          16000,
          15600,
          15500,
          15100,
          15100,
          15000,
          15000,
          15000,
          14700,
          14600,
          14600,
          14600,
          14600,
          14500,
          14200,
          14100,
          14000,
          14000,
          13800,
          13800,
          13700,
          13600,
          13500,
          13500,
          13300,
          13100,
          13100,
          13100,
          13100,
          13100,
          13000,
          13000,
          13000,
          12600,
          12600,
          12600,
          12600,
          12500,
          12300,
          12300,
          12300,
          12300,
          12200,
          12100,
          12100,
          12100,
          12000,
          12000,
          12000,
          12000,
          12000,
          11800,
          11800,
          11700,
          11600,
          11500,
          11300,
          11300,
          11300,
          11100,
          11100,
          11000,
          11000,
          11000,
          11000,
          11000,
          11000,
          11000,
          11000,
          10600,
          10600,
          10600,
          10600,
          10500,
          10500,
          10500,
          10300,
          10100,
          10100,
          10100,
          10100,
          10100,
          10100,
          10000,
          10000,
          9700,
          9600,
          9600,
          9600,
          9600,
          9600,
          9500,
          9500,
          9500,
          9500,
          9300,
          9200,
          9100,
          9100,
          9100,
          9100,
          9100,
          9100,
          9100,
          9100,
          9100,
          9000,
          9000,
          9000,
          9000,
          9000,
          9000,
          9000,
          8900,
          8800,
          8700,
          8600,
          8600,
          8600,
          8600,
          8600,
          8500,
          8500,
          8500,
          8500,
          8500,
          8500,
          8500,
          8500,
          8500,
          8300,
          8300,
          8300,
          8100,
          8100,
          8100,
          8100,
          8100,
          8100,
          8100,
          8100,
          8000,
          8000,
          8000,
          8000,
          8000,
          8000,
          8000,
          8000,
          7800,
          7600,
          7600,
          7600,
          7500,
          7500,
          7500,
          7300,
          7300,
          7300,
          7100,
          7100,
          7100,
          7100,
          7100,
          7100,
          7100,
          7100,
          7100,
          7100,
          7100,
          7100,
          7100,
          7000,
          7000,
          7000,
          7000,
          7000,
          7000,
          7000,
          7000,
          7000,
          7000,
          7000,
          6800,
          6800,
          6800,
          6700,
          6600,
          6600,
          6600,
          6600,
          6600,
          6600,
          6600,
          6600,
          6600,
          6600,
          6600,
          6600,
          6500,
          6500,
          6500,
          6500,
          6500,
          6500,
          6500,
          6500,
          6300,
          6200,
          6100,
          6100,
          6100,
          6100,
          6100,
          6100,
          6100,
          6100,
          6100,
          6100,
          6100,
          6100,
          6100,
          6100,
          6100,
          6000,
          6000,
          6000,
          6000,
          6000,
          6000,
          6000,
          6000,
          6000,
          6000,
          5800,
          5600,
          5600,
          5600,
          5600,
          5600,
          5600,
          5500,
          5500,
          5500,
          5500,
          5500,
          5500,
          5500,
          5500,
          5500,
          5500,
          5500,
          5500,
          5500,
          5500,
          5500,
          5500,
          5500,
          5300,
          5300,
          5100,
          5100,
          5100,
          5100,
          5100,
          5100,
          5100,
          5100,
          5100,
          5100,
          5100,
          5100,
          5100,
          5000,
          5000,
          5000,
          5000,
          5000,
          5000,
          5000,
          4600,
          4600,
          4600,
          4600,
          4600,
          4600,
          4600,
          4600,
          4600,
          4500,
          4500,
          4500,
          4500,
          4500,
          4500,
          4500,
          4500,
          4500,
          4500,
          4500,
          4200,
          4100,
          4100,
          4100,
          4100,
          4100,
          4100,
          4100,
          4100,
          4100,
          4100,
          4100,
          4100,
          4100,
          4100,
          4100,
          4100,
          4100,
          4100,
          4100,
          4100,
          4100,
          4100,
          4000,
          4000,
          4000,
          3800,
          3600,
          3600,
          3600,
          3600,
          3600,
          3600,
          3600,
          3600,
          3600,
          3600,
          3600,
          3600,
          3600,
          3600,
          3500,
          3500,
          3500,
          3500,
          3500,
          3500,
          3500,
          3300,
          3100,
          3100,
          3100,
          3100,
          3100,
          3100,
          3100,
          3100,
          3100,
          3100,
          3100,
          3100,
          3100,
          3100,
          3100,
          3100,
          3000,
          3000,
          2700,
          2600,
          2600,
          2600,
          2600,
          2600,
          2600,
          2600,
          2600,
          2600,
          2600,
          2600,
          2600,
          2600,
          2600,
          2600,
          2600,
          2600,
          2500,
          2500,
          2500,
          2500,
          2500,
          2500,
          2500,
          2500,
          2500,
          2500,
          2500,
          2500,
          2500,
          2500,
          2500,
          2500,
          2500,
          2500,
          2500,
          2100,
          2100,
          2100,
          2100,
          2100,
          1600,
          1600,
          1600,
          1600,
          1600,
          1600,
          1600,
          1600,
          1600,
          1600,
          1100,
          1100,
          1100,
          1100,
          1100,
          1100,
          1100,
          1100,
          1100,
          1100,
          1100,
          1100,
          600,
          600,
          600,
          600,
          600,
          600,
          600,
          600,
          600,
          600,
          600,
          600,
          600,
          600,
          600,
          600,
          600,
          600,
          600,
          600,
          600,
          600,
          600,
          600,
          600,
          600,
          600,
          600,
          600,
          600,
          600,
          600,
          600,
          600
         ],
         "yaxis": "y"
        }
       ],
       "layout": {
        "barmode": "relative",
        "legend": {
         "tracegroupgap": 0
        },
        "shapes": [
         {
          "line": {
           "color": "red",
           "width": 2
          },
          "name": "Mean",
          "type": "line",
          "x0": -0.5,
          "x1": 493.5,
          "y0": 6965.384615384615,
          "y1": 6965.384615384615
         }
        ],
        "template": {
         "data": {
          "bar": [
           {
            "error_x": {
             "color": "#2a3f5f"
            },
            "error_y": {
             "color": "#2a3f5f"
            },
            "marker": {
             "line": {
              "color": "#E5ECF6",
              "width": 0.5
             },
             "pattern": {
              "fillmode": "overlay",
              "size": 10,
              "solidity": 0.2
             }
            },
            "type": "bar"
           }
          ],
          "barpolar": [
           {
            "marker": {
             "line": {
              "color": "#E5ECF6",
              "width": 0.5
             },
             "pattern": {
              "fillmode": "overlay",
              "size": 10,
              "solidity": 0.2
             }
            },
            "type": "barpolar"
           }
          ],
          "carpet": [
           {
            "aaxis": {
             "endlinecolor": "#2a3f5f",
             "gridcolor": "white",
             "linecolor": "white",
             "minorgridcolor": "white",
             "startlinecolor": "#2a3f5f"
            },
            "baxis": {
             "endlinecolor": "#2a3f5f",
             "gridcolor": "white",
             "linecolor": "white",
             "minorgridcolor": "white",
             "startlinecolor": "#2a3f5f"
            },
            "type": "carpet"
           }
          ],
          "choropleth": [
           {
            "colorbar": {
             "outlinewidth": 0,
             "ticks": ""
            },
            "type": "choropleth"
           }
          ],
          "contour": [
           {
            "colorbar": {
             "outlinewidth": 0,
             "ticks": ""
            },
            "colorscale": [
             [
              0,
              "#0d0887"
             ],
             [
              0.1111111111111111,
              "#46039f"
             ],
             [
              0.2222222222222222,
              "#7201a8"
             ],
             [
              0.3333333333333333,
              "#9c179e"
             ],
             [
              0.4444444444444444,
              "#bd3786"
             ],
             [
              0.5555555555555556,
              "#d8576b"
             ],
             [
              0.6666666666666666,
              "#ed7953"
             ],
             [
              0.7777777777777778,
              "#fb9f3a"
             ],
             [
              0.8888888888888888,
              "#fdca26"
             ],
             [
              1,
              "#f0f921"
             ]
            ],
            "type": "contour"
           }
          ],
          "contourcarpet": [
           {
            "colorbar": {
             "outlinewidth": 0,
             "ticks": ""
            },
            "type": "contourcarpet"
           }
          ],
          "heatmap": [
           {
            "colorbar": {
             "outlinewidth": 0,
             "ticks": ""
            },
            "colorscale": [
             [
              0,
              "#0d0887"
             ],
             [
              0.1111111111111111,
              "#46039f"
             ],
             [
              0.2222222222222222,
              "#7201a8"
             ],
             [
              0.3333333333333333,
              "#9c179e"
             ],
             [
              0.4444444444444444,
              "#bd3786"
             ],
             [
              0.5555555555555556,
              "#d8576b"
             ],
             [
              0.6666666666666666,
              "#ed7953"
             ],
             [
              0.7777777777777778,
              "#fb9f3a"
             ],
             [
              0.8888888888888888,
              "#fdca26"
             ],
             [
              1,
              "#f0f921"
             ]
            ],
            "type": "heatmap"
           }
          ],
          "heatmapgl": [
           {
            "colorbar": {
             "outlinewidth": 0,
             "ticks": ""
            },
            "colorscale": [
             [
              0,
              "#0d0887"
             ],
             [
              0.1111111111111111,
              "#46039f"
             ],
             [
              0.2222222222222222,
              "#7201a8"
             ],
             [
              0.3333333333333333,
              "#9c179e"
             ],
             [
              0.4444444444444444,
              "#bd3786"
             ],
             [
              0.5555555555555556,
              "#d8576b"
             ],
             [
              0.6666666666666666,
              "#ed7953"
             ],
             [
              0.7777777777777778,
              "#fb9f3a"
             ],
             [
              0.8888888888888888,
              "#fdca26"
             ],
             [
              1,
              "#f0f921"
             ]
            ],
            "type": "heatmapgl"
           }
          ],
          "histogram": [
           {
            "marker": {
             "pattern": {
              "fillmode": "overlay",
              "size": 10,
              "solidity": 0.2
             }
            },
            "type": "histogram"
           }
          ],
          "histogram2d": [
           {
            "colorbar": {
             "outlinewidth": 0,
             "ticks": ""
            },
            "colorscale": [
             [
              0,
              "#0d0887"
             ],
             [
              0.1111111111111111,
              "#46039f"
             ],
             [
              0.2222222222222222,
              "#7201a8"
             ],
             [
              0.3333333333333333,
              "#9c179e"
             ],
             [
              0.4444444444444444,
              "#bd3786"
             ],
             [
              0.5555555555555556,
              "#d8576b"
             ],
             [
              0.6666666666666666,
              "#ed7953"
             ],
             [
              0.7777777777777778,
              "#fb9f3a"
             ],
             [
              0.8888888888888888,
              "#fdca26"
             ],
             [
              1,
              "#f0f921"
             ]
            ],
            "type": "histogram2d"
           }
          ],
          "histogram2dcontour": [
           {
            "colorbar": {
             "outlinewidth": 0,
             "ticks": ""
            },
            "colorscale": [
             [
              0,
              "#0d0887"
             ],
             [
              0.1111111111111111,
              "#46039f"
             ],
             [
              0.2222222222222222,
              "#7201a8"
             ],
             [
              0.3333333333333333,
              "#9c179e"
             ],
             [
              0.4444444444444444,
              "#bd3786"
             ],
             [
              0.5555555555555556,
              "#d8576b"
             ],
             [
              0.6666666666666666,
              "#ed7953"
             ],
             [
              0.7777777777777778,
              "#fb9f3a"
             ],
             [
              0.8888888888888888,
              "#fdca26"
             ],
             [
              1,
              "#f0f921"
             ]
            ],
            "type": "histogram2dcontour"
           }
          ],
          "mesh3d": [
           {
            "colorbar": {
             "outlinewidth": 0,
             "ticks": ""
            },
            "type": "mesh3d"
           }
          ],
          "parcoords": [
           {
            "line": {
             "colorbar": {
              "outlinewidth": 0,
              "ticks": ""
             }
            },
            "type": "parcoords"
           }
          ],
          "pie": [
           {
            "automargin": true,
            "type": "pie"
           }
          ],
          "scatter": [
           {
            "fillpattern": {
             "fillmode": "overlay",
             "size": 10,
             "solidity": 0.2
            },
            "type": "scatter"
           }
          ],
          "scatter3d": [
           {
            "line": {
             "colorbar": {
              "outlinewidth": 0,
              "ticks": ""
             }
            },
            "marker": {
             "colorbar": {
              "outlinewidth": 0,
              "ticks": ""
             }
            },
            "type": "scatter3d"
           }
          ],
          "scattercarpet": [
           {
            "marker": {
             "colorbar": {
              "outlinewidth": 0,
              "ticks": ""
             }
            },
            "type": "scattercarpet"
           }
          ],
          "scattergeo": [
           {
            "marker": {
             "colorbar": {
              "outlinewidth": 0,
              "ticks": ""
             }
            },
            "type": "scattergeo"
           }
          ],
          "scattergl": [
           {
            "marker": {
             "colorbar": {
              "outlinewidth": 0,
              "ticks": ""
             }
            },
            "type": "scattergl"
           }
          ],
          "scattermapbox": [
           {
            "marker": {
             "colorbar": {
              "outlinewidth": 0,
              "ticks": ""
             }
            },
            "type": "scattermapbox"
           }
          ],
          "scatterpolar": [
           {
            "marker": {
             "colorbar": {
              "outlinewidth": 0,
              "ticks": ""
             }
            },
            "type": "scatterpolar"
           }
          ],
          "scatterpolargl": [
           {
            "marker": {
             "colorbar": {
              "outlinewidth": 0,
              "ticks": ""
             }
            },
            "type": "scatterpolargl"
           }
          ],
          "scatterternary": [
           {
            "marker": {
             "colorbar": {
              "outlinewidth": 0,
              "ticks": ""
             }
            },
            "type": "scatterternary"
           }
          ],
          "surface": [
           {
            "colorbar": {
             "outlinewidth": 0,
             "ticks": ""
            },
            "colorscale": [
             [
              0,
              "#0d0887"
             ],
             [
              0.1111111111111111,
              "#46039f"
             ],
             [
              0.2222222222222222,
              "#7201a8"
             ],
             [
              0.3333333333333333,
              "#9c179e"
             ],
             [
              0.4444444444444444,
              "#bd3786"
             ],
             [
              0.5555555555555556,
              "#d8576b"
             ],
             [
              0.6666666666666666,
              "#ed7953"
             ],
             [
              0.7777777777777778,
              "#fb9f3a"
             ],
             [
              0.8888888888888888,
              "#fdca26"
             ],
             [
              1,
              "#f0f921"
             ]
            ],
            "type": "surface"
           }
          ],
          "table": [
           {
            "cells": {
             "fill": {
              "color": "#EBF0F8"
             },
             "line": {
              "color": "white"
             }
            },
            "header": {
             "fill": {
              "color": "#C8D4E3"
             },
             "line": {
              "color": "white"
             }
            },
            "type": "table"
           }
          ]
         },
         "layout": {
          "annotationdefaults": {
           "arrowcolor": "#2a3f5f",
           "arrowhead": 0,
           "arrowwidth": 1
          },
          "autotypenumbers": "strict",
          "coloraxis": {
           "colorbar": {
            "outlinewidth": 0,
            "ticks": ""
           }
          },
          "colorscale": {
           "diverging": [
            [
             0,
             "#8e0152"
            ],
            [
             0.1,
             "#c51b7d"
            ],
            [
             0.2,
             "#de77ae"
            ],
            [
             0.3,
             "#f1b6da"
            ],
            [
             0.4,
             "#fde0ef"
            ],
            [
             0.5,
             "#f7f7f7"
            ],
            [
             0.6,
             "#e6f5d0"
            ],
            [
             0.7,
             "#b8e186"
            ],
            [
             0.8,
             "#7fbc41"
            ],
            [
             0.9,
             "#4d9221"
            ],
            [
             1,
             "#276419"
            ]
           ],
           "sequential": [
            [
             0,
             "#0d0887"
            ],
            [
             0.1111111111111111,
             "#46039f"
            ],
            [
             0.2222222222222222,
             "#7201a8"
            ],
            [
             0.3333333333333333,
             "#9c179e"
            ],
            [
             0.4444444444444444,
             "#bd3786"
            ],
            [
             0.5555555555555556,
             "#d8576b"
            ],
            [
             0.6666666666666666,
             "#ed7953"
            ],
            [
             0.7777777777777778,
             "#fb9f3a"
            ],
            [
             0.8888888888888888,
             "#fdca26"
            ],
            [
             1,
             "#f0f921"
            ]
           ],
           "sequentialminus": [
            [
             0,
             "#0d0887"
            ],
            [
             0.1111111111111111,
             "#46039f"
            ],
            [
             0.2222222222222222,
             "#7201a8"
            ],
            [
             0.3333333333333333,
             "#9c179e"
            ],
            [
             0.4444444444444444,
             "#bd3786"
            ],
            [
             0.5555555555555556,
             "#d8576b"
            ],
            [
             0.6666666666666666,
             "#ed7953"
            ],
            [
             0.7777777777777778,
             "#fb9f3a"
            ],
            [
             0.8888888888888888,
             "#fdca26"
            ],
            [
             1,
             "#f0f921"
            ]
           ]
          },
          "colorway": [
           "#636efa",
           "#EF553B",
           "#00cc96",
           "#ab63fa",
           "#FFA15A",
           "#19d3f3",
           "#FF6692",
           "#B6E880",
           "#FF97FF",
           "#FECB52"
          ],
          "font": {
           "color": "#2a3f5f"
          },
          "geo": {
           "bgcolor": "white",
           "lakecolor": "white",
           "landcolor": "#E5ECF6",
           "showlakes": true,
           "showland": true,
           "subunitcolor": "white"
          },
          "hoverlabel": {
           "align": "left"
          },
          "hovermode": "closest",
          "mapbox": {
           "style": "light"
          },
          "paper_bgcolor": "white",
          "plot_bgcolor": "#E5ECF6",
          "polar": {
           "angularaxis": {
            "gridcolor": "white",
            "linecolor": "white",
            "ticks": ""
           },
           "bgcolor": "#E5ECF6",
           "radialaxis": {
            "gridcolor": "white",
            "linecolor": "white",
            "ticks": ""
           }
          },
          "scene": {
           "xaxis": {
            "backgroundcolor": "#E5ECF6",
            "gridcolor": "white",
            "gridwidth": 2,
            "linecolor": "white",
            "showbackground": true,
            "ticks": "",
            "zerolinecolor": "white"
           },
           "yaxis": {
            "backgroundcolor": "#E5ECF6",
            "gridcolor": "white",
            "gridwidth": 2,
            "linecolor": "white",
            "showbackground": true,
            "ticks": "",
            "zerolinecolor": "white"
           },
           "zaxis": {
            "backgroundcolor": "#E5ECF6",
            "gridcolor": "white",
            "gridwidth": 2,
            "linecolor": "white",
            "showbackground": true,
            "ticks": "",
            "zerolinecolor": "white"
           }
          },
          "shapedefaults": {
           "line": {
            "color": "#2a3f5f"
           }
          },
          "ternary": {
           "aaxis": {
            "gridcolor": "white",
            "linecolor": "white",
            "ticks": ""
           },
           "baxis": {
            "gridcolor": "white",
            "linecolor": "white",
            "ticks": ""
           },
           "bgcolor": "#E5ECF6",
           "caxis": {
            "gridcolor": "white",
            "linecolor": "white",
            "ticks": ""
           }
          },
          "title": {
           "x": 0.05
          },
          "xaxis": {
           "automargin": true,
           "gridcolor": "white",
           "linecolor": "white",
           "ticks": "",
           "title": {
            "standoff": 15
           },
           "zerolinecolor": "white",
           "zerolinewidth": 2
          },
          "yaxis": {
           "automargin": true,
           "gridcolor": "white",
           "linecolor": "white",
           "ticks": "",
           "title": {
            "standoff": 15
           },
           "zerolinecolor": "white",
           "zerolinewidth": 2
          }
         }
        },
        "title": {
         "text": "PNR Scores"
        },
        "xaxis": {
         "anchor": "y",
         "domain": [
          0,
          1
         ],
         "title": {
          "text": "pnr"
         }
        },
        "yaxis": {
         "anchor": "x",
         "domain": [
          0,
          1
         ],
         "title": {
          "text": "PNR Score"
         }
        }
       }
      }
     },
     "metadata": {},
     "output_type": "display_data"
    }
   ],
   "source": [
    "# plot for pnr_score distribution of cancelled flights-pnrs\n",
    "mean_score = df[\"pnr_score\"].mean()\n",
    "std_dev_score = df[\"pnr_score\"].std()\n",
    "fig = px.bar(\n",
    "    df, x=\"pnr\", y=\"pnr_score\", title=\"PNR Scores\", labels={\"pnr_score\": \"PNR Score\"}\n",
    ")\n",
    "# Add mean and standard deviation annotations\n",
    "fig.add_shape(\n",
    "    type=\"line\",\n",
    "    x0=-0.5,\n",
    "    x1=len(df) - 0.5,\n",
    "    y0=mean_score,\n",
    "    y1=mean_score,\n",
    "    line=dict(color=\"red\", width=2),\n",
    "    name=\"Mean\",\n",
    ")\n",
    "# Show the chart\n",
    "print(mean_score, std_dev_score)\n",
    "fig.show()"
   ]
  },
  {
   "cell_type": "code",
   "execution_count": 6,
   "metadata": {},
   "outputs": [
    {
     "data": {
      "application/vnd.plotly.v1+json": {
       "config": {
        "plotlyServerURL": "https://plot.ly"
       },
       "data": [
        {
         "domain": {
          "x": [
           0,
           1
          ],
          "y": [
           0,
           1
          ]
         },
         "hovertemplate": "allocated_classes=%{label}<extra></extra>",
         "labels": [
          "['F', 'F']",
          "['F', 'F']",
          "['F', 'F']",
          "[]",
          "[]",
          "['E']",
          "['F', 'F']",
          "[]",
          "[]",
          "[]",
          "[]",
          "['F', 'F']",
          "[]",
          "[]",
          "[]",
          "['E', 'E']",
          "[]",
          "[]",
          "[]",
          "[]",
          "[]",
          "['E']",
          "['F']",
          "[]",
          "['E']",
          "['E', 'E', 'E']",
          "['E']",
          "['F', 'F', 'F']",
          "['F', 'F']",
          "['E']",
          "['E', 'E']",
          "['F', 'F']",
          "['E', 'E', 'E']",
          "['E']",
          "[]",
          "['F', 'F']",
          "[]",
          "[]",
          "[]",
          "['E']",
          "['E', 'E']",
          "[]",
          "['F']",
          "['F']",
          "['E']",
          "['E', 'E']",
          "[]",
          "['E']",
          "['E']",
          "['F']",
          "[]",
          "[]",
          "['F', 'F', 'F']",
          "['E', 'E']",
          "['E', 'E']",
          "['E', 'E']",
          "['E', 'E']",
          "['F', 'F', 'F']",
          "['E']",
          "['F']",
          "[]",
          "[]",
          "[]",
          "['E', 'E']",
          "[]",
          "['E', 'E', 'E']",
          "['F', 'F', 'F']",
          "['E']",
          "['E', 'E', 'E']",
          "['E', 'E', 'E']",
          "['E', 'E', 'E']",
          "[]",
          "['E']",
          "['E', 'E']",
          "['E']",
          "[]",
          "['F', 'F']",
          "['F', 'F']",
          "['F']",
          "[]",
          "['E']",
          "[]",
          "[]",
          "[]",
          "['F', 'F', 'F']",
          "['E']",
          "['E']",
          "[]",
          "['E', 'E']",
          "['E', 'E']",
          "['F', 'F']",
          "[]",
          "[]",
          "['F', 'F', 'F']",
          "[]",
          "[]",
          "['F', 'F']",
          "[]",
          "['E', 'E']",
          "[]",
          "['E']",
          "[]",
          "['F', 'F', 'F']",
          "[]",
          "['F', 'F', 'F']",
          "['E', 'E']",
          "['E', 'E']",
          "['E']",
          "[]",
          "['E']",
          "['E']",
          "['E', 'E']",
          "['F', 'F', 'F']",
          "[]",
          "[]",
          "[]",
          "['E', 'E', 'E']",
          "['E', 'E']",
          "['E']",
          "[]",
          "[]",
          "[]",
          "[]",
          "['F']",
          "[]",
          "['F']",
          "[]",
          "[]",
          "['E', 'E']",
          "['E', 'E']",
          "[]",
          "[]",
          "['E']",
          "['E']",
          "['E', 'E']",
          "['F']",
          "['F', 'F']",
          "[]",
          "['F', 'F']",
          "[]",
          "['F', 'F', 'F']",
          "[]",
          "[]",
          "['E', 'E']",
          "['F']",
          "[]",
          "['E']",
          "['E']",
          "['E', 'E', 'E']",
          "[]",
          "[]",
          "[]",
          "[]",
          "['F', 'F']",
          "['F', 'F']",
          "[]",
          "['F']",
          "[]",
          "[]",
          "['E', 'E']",
          "['E', 'E', 'E']",
          "['E']",
          "['E']",
          "[]",
          "[]",
          "['E', 'E']",
          "['E', 'E']",
          "['E']",
          "['E']",
          "[]",
          "[]",
          "['F']",
          "['F', 'F', 'F']",
          "[]",
          "[]",
          "[]",
          "['F', 'F', 'F']",
          "['F', 'F']",
          "['E', 'E', 'E']",
          "[]",
          "['E', 'E', 'E']",
          "[]",
          "[]",
          "[]",
          "['F', 'F', 'F']",
          "['E', 'E', 'E']",
          "['E', 'E']",
          "['E', 'E', 'E']",
          "[]",
          "[]",
          "[]",
          "['E', 'E']",
          "['E', 'E']",
          "['E', 'E']",
          "['E', 'E']",
          "[]",
          "[]",
          "[]",
          "['E']",
          "[]",
          "[]",
          "['F']",
          "['F', 'F', 'F']",
          "[]",
          "['F', 'F']",
          "[]",
          "['F', 'F', 'F']",
          "['F', 'F']",
          "[]",
          "['F', 'F', 'F']",
          "[]",
          "['F']",
          "[]",
          "['E', 'E']",
          "[]",
          "[]",
          "[]",
          "[]",
          "['E']",
          "['E', 'E']",
          "['E', 'E']",
          "['E', 'E', 'E']",
          "['E', 'E', 'E']",
          "['E']",
          "[]",
          "[]",
          "['E']",
          "['E']",
          "[]",
          "['F', 'F', 'F']",
          "['F', 'F', 'F']",
          "['F', 'F']",
          "['F']",
          "[]",
          "[]",
          "[]",
          "[]",
          "['F', 'F', 'F']",
          "[]",
          "[]",
          "[]",
          "['E', 'E']",
          "['E', 'E']",
          "['E', 'E']",
          "['E', 'E']",
          "['E', 'E']",
          "['E', 'E', 'E']",
          "['E', 'E']",
          "['E']",
          "['E']",
          "['E']",
          "[]",
          "[]",
          "['F', 'F', 'F']",
          "['F']",
          "[]",
          "['F', 'F']",
          "['F', 'F', 'F']",
          "['F', 'F', 'F']",
          "[]",
          "[]",
          "['F']",
          "['F']",
          "[]",
          "['E', 'E', 'E']",
          "['E', 'E']",
          "['E', 'E', 'E']",
          "[]",
          "[]",
          "['E', 'E']",
          "[]",
          "['F']",
          "['F']",
          "[]",
          "['F', 'F', 'F']",
          "['F', 'F']",
          "['F', 'F']",
          "['F', 'F']",
          "[]",
          "[]",
          "[]",
          "[]",
          "[]",
          "['F']",
          "[]",
          "['F', 'F']",
          "[]",
          "['E']",
          "['E']",
          "[]",
          "['E']",
          "['E']",
          "[]",
          "['E', 'E']",
          "['E', 'E']",
          "['E', 'E']",
          "['E', 'E']",
          "[]",
          "['E', 'E', 'E']",
          "[]",
          "['E']",
          "['E']",
          "['F', 'F', 'F']",
          "['F', 'F']",
          "['F', 'F']",
          "[]",
          "['F', 'F', 'F']",
          "['F']",
          "['F']",
          "[]",
          "['E', 'E']",
          "['E', 'E', 'E']",
          "['E', 'E']",
          "['E', 'E']",
          "['E', 'E']",
          "['E', 'E']",
          "[]",
          "['E']",
          "[]",
          "['F', 'F', 'F']",
          "['F', 'F', 'F']",
          "[]",
          "['F', 'F']",
          "['F']",
          "[]",
          "['F']",
          "[]",
          "['F', 'F']",
          "['F', 'F']",
          "['F']",
          "[]",
          "[]",
          "[]",
          "['E', 'E']",
          "['E', 'E']",
          "['E', 'E']",
          "['E', 'E', 'E']",
          "['E', 'E', 'E']",
          "['E', 'E']",
          "['E', 'E']",
          "[]",
          "[]",
          "[]",
          "[]",
          "[]",
          "['E']",
          "['E']",
          "[]",
          "[]",
          "[]",
          "[]",
          "[]",
          "[]",
          "['F', 'F']",
          "[]",
          "['E', 'E']",
          "[]",
          "['E']",
          "[]",
          "['E', 'E']",
          "['E', 'E', 'E']",
          "['E', 'E']",
          "['E', 'E']",
          "['E', 'E']",
          "['E', 'E']",
          "['E', 'E', 'E']",
          "[]",
          "['E']",
          "[]",
          "[]",
          "[]",
          "['F', 'F']",
          "[]",
          "[]",
          "[]",
          "['F']",
          "[]",
          "[]",
          "[]",
          "[]",
          "['E', 'E']",
          "['E', 'E', 'E']",
          "['E', 'E']",
          "['E', 'E']",
          "[]",
          "[]",
          "[]",
          "['E']",
          "['E']",
          "[]",
          "['E']",
          "['E']",
          "['E', 'E']",
          "[]",
          "['F', 'F', 'F']",
          "[]",
          "['F']",
          "['E']",
          "[]",
          "[]",
          "[]",
          "[]",
          "[]",
          "['E', 'E']",
          "['E', 'E', 'E']",
          "['E', 'E', 'E']",
          "['E', 'E']",
          "['E']",
          "[]",
          "[]",
          "[]",
          "[]",
          "['E']",
          "[]",
          "['F', 'F']",
          "['F']",
          "['F', 'F']",
          "['F', 'F', 'F']",
          "[]",
          "[]",
          "[]",
          "[]",
          "['F', 'F', 'F']",
          "[]",
          "[]",
          "[]",
          "[]",
          "['F']",
          "['F']",
          "['F']",
          "['F']",
          "['F']",
          "[]",
          "['E', 'E', 'E']",
          "['E', 'E']",
          "[]",
          "[]",
          "['E']",
          "['E']",
          "[]",
          "['E']",
          "[]",
          "['E', 'E']",
          "['E', 'E', 'E']",
          "[]",
          "[]",
          "['E', 'E', 'E']",
          "['E']",
          "['E']",
          "[]",
          "[]",
          "[]",
          "[]",
          "['E', 'E']",
          "['E']",
          "[]",
          "['E']",
          "['E', 'E', 'E']",
          "[]",
          "[]",
          "[]",
          "[]",
          "[]",
          "['E']",
          "[]",
          "['E', 'E']",
          "['E', 'E', 'E']",
          "['E', 'E', 'E']",
          "['E', 'E', 'E']",
          "['E', 'E']",
          "['E', 'E']",
          "['E', 'E']",
          "['E', 'E']",
          "['E', 'E']",
          "['E', 'E']",
          "['E', 'E']",
          "[]",
          "[]",
          "[]",
          "[]",
          "['E', 'E', 'E']",
          "['E', 'E', 'E']",
          "['E']",
          "['E']",
          "[]",
          "[]",
          "['E']",
          "['E']",
          "[]",
          "[]",
          "[]",
          "[]",
          "[]",
          "[]"
         ],
         "legendgroup": "",
         "name": "",
         "showlegend": true,
         "type": "pie"
        }
       ],
       "layout": {
        "legend": {
         "tracegroupgap": 0
        },
        "template": {
         "data": {
          "bar": [
           {
            "error_x": {
             "color": "#2a3f5f"
            },
            "error_y": {
             "color": "#2a3f5f"
            },
            "marker": {
             "line": {
              "color": "#E5ECF6",
              "width": 0.5
             },
             "pattern": {
              "fillmode": "overlay",
              "size": 10,
              "solidity": 0.2
             }
            },
            "type": "bar"
           }
          ],
          "barpolar": [
           {
            "marker": {
             "line": {
              "color": "#E5ECF6",
              "width": 0.5
             },
             "pattern": {
              "fillmode": "overlay",
              "size": 10,
              "solidity": 0.2
             }
            },
            "type": "barpolar"
           }
          ],
          "carpet": [
           {
            "aaxis": {
             "endlinecolor": "#2a3f5f",
             "gridcolor": "white",
             "linecolor": "white",
             "minorgridcolor": "white",
             "startlinecolor": "#2a3f5f"
            },
            "baxis": {
             "endlinecolor": "#2a3f5f",
             "gridcolor": "white",
             "linecolor": "white",
             "minorgridcolor": "white",
             "startlinecolor": "#2a3f5f"
            },
            "type": "carpet"
           }
          ],
          "choropleth": [
           {
            "colorbar": {
             "outlinewidth": 0,
             "ticks": ""
            },
            "type": "choropleth"
           }
          ],
          "contour": [
           {
            "colorbar": {
             "outlinewidth": 0,
             "ticks": ""
            },
            "colorscale": [
             [
              0,
              "#0d0887"
             ],
             [
              0.1111111111111111,
              "#46039f"
             ],
             [
              0.2222222222222222,
              "#7201a8"
             ],
             [
              0.3333333333333333,
              "#9c179e"
             ],
             [
              0.4444444444444444,
              "#bd3786"
             ],
             [
              0.5555555555555556,
              "#d8576b"
             ],
             [
              0.6666666666666666,
              "#ed7953"
             ],
             [
              0.7777777777777778,
              "#fb9f3a"
             ],
             [
              0.8888888888888888,
              "#fdca26"
             ],
             [
              1,
              "#f0f921"
             ]
            ],
            "type": "contour"
           }
          ],
          "contourcarpet": [
           {
            "colorbar": {
             "outlinewidth": 0,
             "ticks": ""
            },
            "type": "contourcarpet"
           }
          ],
          "heatmap": [
           {
            "colorbar": {
             "outlinewidth": 0,
             "ticks": ""
            },
            "colorscale": [
             [
              0,
              "#0d0887"
             ],
             [
              0.1111111111111111,
              "#46039f"
             ],
             [
              0.2222222222222222,
              "#7201a8"
             ],
             [
              0.3333333333333333,
              "#9c179e"
             ],
             [
              0.4444444444444444,
              "#bd3786"
             ],
             [
              0.5555555555555556,
              "#d8576b"
             ],
             [
              0.6666666666666666,
              "#ed7953"
             ],
             [
              0.7777777777777778,
              "#fb9f3a"
             ],
             [
              0.8888888888888888,
              "#fdca26"
             ],
             [
              1,
              "#f0f921"
             ]
            ],
            "type": "heatmap"
           }
          ],
          "heatmapgl": [
           {
            "colorbar": {
             "outlinewidth": 0,
             "ticks": ""
            },
            "colorscale": [
             [
              0,
              "#0d0887"
             ],
             [
              0.1111111111111111,
              "#46039f"
             ],
             [
              0.2222222222222222,
              "#7201a8"
             ],
             [
              0.3333333333333333,
              "#9c179e"
             ],
             [
              0.4444444444444444,
              "#bd3786"
             ],
             [
              0.5555555555555556,
              "#d8576b"
             ],
             [
              0.6666666666666666,
              "#ed7953"
             ],
             [
              0.7777777777777778,
              "#fb9f3a"
             ],
             [
              0.8888888888888888,
              "#fdca26"
             ],
             [
              1,
              "#f0f921"
             ]
            ],
            "type": "heatmapgl"
           }
          ],
          "histogram": [
           {
            "marker": {
             "pattern": {
              "fillmode": "overlay",
              "size": 10,
              "solidity": 0.2
             }
            },
            "type": "histogram"
           }
          ],
          "histogram2d": [
           {
            "colorbar": {
             "outlinewidth": 0,
             "ticks": ""
            },
            "colorscale": [
             [
              0,
              "#0d0887"
             ],
             [
              0.1111111111111111,
              "#46039f"
             ],
             [
              0.2222222222222222,
              "#7201a8"
             ],
             [
              0.3333333333333333,
              "#9c179e"
             ],
             [
              0.4444444444444444,
              "#bd3786"
             ],
             [
              0.5555555555555556,
              "#d8576b"
             ],
             [
              0.6666666666666666,
              "#ed7953"
             ],
             [
              0.7777777777777778,
              "#fb9f3a"
             ],
             [
              0.8888888888888888,
              "#fdca26"
             ],
             [
              1,
              "#f0f921"
             ]
            ],
            "type": "histogram2d"
           }
          ],
          "histogram2dcontour": [
           {
            "colorbar": {
             "outlinewidth": 0,
             "ticks": ""
            },
            "colorscale": [
             [
              0,
              "#0d0887"
             ],
             [
              0.1111111111111111,
              "#46039f"
             ],
             [
              0.2222222222222222,
              "#7201a8"
             ],
             [
              0.3333333333333333,
              "#9c179e"
             ],
             [
              0.4444444444444444,
              "#bd3786"
             ],
             [
              0.5555555555555556,
              "#d8576b"
             ],
             [
              0.6666666666666666,
              "#ed7953"
             ],
             [
              0.7777777777777778,
              "#fb9f3a"
             ],
             [
              0.8888888888888888,
              "#fdca26"
             ],
             [
              1,
              "#f0f921"
             ]
            ],
            "type": "histogram2dcontour"
           }
          ],
          "mesh3d": [
           {
            "colorbar": {
             "outlinewidth": 0,
             "ticks": ""
            },
            "type": "mesh3d"
           }
          ],
          "parcoords": [
           {
            "line": {
             "colorbar": {
              "outlinewidth": 0,
              "ticks": ""
             }
            },
            "type": "parcoords"
           }
          ],
          "pie": [
           {
            "automargin": true,
            "type": "pie"
           }
          ],
          "scatter": [
           {
            "fillpattern": {
             "fillmode": "overlay",
             "size": 10,
             "solidity": 0.2
            },
            "type": "scatter"
           }
          ],
          "scatter3d": [
           {
            "line": {
             "colorbar": {
              "outlinewidth": 0,
              "ticks": ""
             }
            },
            "marker": {
             "colorbar": {
              "outlinewidth": 0,
              "ticks": ""
             }
            },
            "type": "scatter3d"
           }
          ],
          "scattercarpet": [
           {
            "marker": {
             "colorbar": {
              "outlinewidth": 0,
              "ticks": ""
             }
            },
            "type": "scattercarpet"
           }
          ],
          "scattergeo": [
           {
            "marker": {
             "colorbar": {
              "outlinewidth": 0,
              "ticks": ""
             }
            },
            "type": "scattergeo"
           }
          ],
          "scattergl": [
           {
            "marker": {
             "colorbar": {
              "outlinewidth": 0,
              "ticks": ""
             }
            },
            "type": "scattergl"
           }
          ],
          "scattermapbox": [
           {
            "marker": {
             "colorbar": {
              "outlinewidth": 0,
              "ticks": ""
             }
            },
            "type": "scattermapbox"
           }
          ],
          "scatterpolar": [
           {
            "marker": {
             "colorbar": {
              "outlinewidth": 0,
              "ticks": ""
             }
            },
            "type": "scatterpolar"
           }
          ],
          "scatterpolargl": [
           {
            "marker": {
             "colorbar": {
              "outlinewidth": 0,
              "ticks": ""
             }
            },
            "type": "scatterpolargl"
           }
          ],
          "scatterternary": [
           {
            "marker": {
             "colorbar": {
              "outlinewidth": 0,
              "ticks": ""
             }
            },
            "type": "scatterternary"
           }
          ],
          "surface": [
           {
            "colorbar": {
             "outlinewidth": 0,
             "ticks": ""
            },
            "colorscale": [
             [
              0,
              "#0d0887"
             ],
             [
              0.1111111111111111,
              "#46039f"
             ],
             [
              0.2222222222222222,
              "#7201a8"
             ],
             [
              0.3333333333333333,
              "#9c179e"
             ],
             [
              0.4444444444444444,
              "#bd3786"
             ],
             [
              0.5555555555555556,
              "#d8576b"
             ],
             [
              0.6666666666666666,
              "#ed7953"
             ],
             [
              0.7777777777777778,
              "#fb9f3a"
             ],
             [
              0.8888888888888888,
              "#fdca26"
             ],
             [
              1,
              "#f0f921"
             ]
            ],
            "type": "surface"
           }
          ],
          "table": [
           {
            "cells": {
             "fill": {
              "color": "#EBF0F8"
             },
             "line": {
              "color": "white"
             }
            },
            "header": {
             "fill": {
              "color": "#C8D4E3"
             },
             "line": {
              "color": "white"
             }
            },
            "type": "table"
           }
          ]
         },
         "layout": {
          "annotationdefaults": {
           "arrowcolor": "#2a3f5f",
           "arrowhead": 0,
           "arrowwidth": 1
          },
          "autotypenumbers": "strict",
          "coloraxis": {
           "colorbar": {
            "outlinewidth": 0,
            "ticks": ""
           }
          },
          "colorscale": {
           "diverging": [
            [
             0,
             "#8e0152"
            ],
            [
             0.1,
             "#c51b7d"
            ],
            [
             0.2,
             "#de77ae"
            ],
            [
             0.3,
             "#f1b6da"
            ],
            [
             0.4,
             "#fde0ef"
            ],
            [
             0.5,
             "#f7f7f7"
            ],
            [
             0.6,
             "#e6f5d0"
            ],
            [
             0.7,
             "#b8e186"
            ],
            [
             0.8,
             "#7fbc41"
            ],
            [
             0.9,
             "#4d9221"
            ],
            [
             1,
             "#276419"
            ]
           ],
           "sequential": [
            [
             0,
             "#0d0887"
            ],
            [
             0.1111111111111111,
             "#46039f"
            ],
            [
             0.2222222222222222,
             "#7201a8"
            ],
            [
             0.3333333333333333,
             "#9c179e"
            ],
            [
             0.4444444444444444,
             "#bd3786"
            ],
            [
             0.5555555555555556,
             "#d8576b"
            ],
            [
             0.6666666666666666,
             "#ed7953"
            ],
            [
             0.7777777777777778,
             "#fb9f3a"
            ],
            [
             0.8888888888888888,
             "#fdca26"
            ],
            [
             1,
             "#f0f921"
            ]
           ],
           "sequentialminus": [
            [
             0,
             "#0d0887"
            ],
            [
             0.1111111111111111,
             "#46039f"
            ],
            [
             0.2222222222222222,
             "#7201a8"
            ],
            [
             0.3333333333333333,
             "#9c179e"
            ],
            [
             0.4444444444444444,
             "#bd3786"
            ],
            [
             0.5555555555555556,
             "#d8576b"
            ],
            [
             0.6666666666666666,
             "#ed7953"
            ],
            [
             0.7777777777777778,
             "#fb9f3a"
            ],
            [
             0.8888888888888888,
             "#fdca26"
            ],
            [
             1,
             "#f0f921"
            ]
           ]
          },
          "colorway": [
           "#636efa",
           "#EF553B",
           "#00cc96",
           "#ab63fa",
           "#FFA15A",
           "#19d3f3",
           "#FF6692",
           "#B6E880",
           "#FF97FF",
           "#FECB52"
          ],
          "font": {
           "color": "#2a3f5f"
          },
          "geo": {
           "bgcolor": "white",
           "lakecolor": "white",
           "landcolor": "#E5ECF6",
           "showlakes": true,
           "showland": true,
           "subunitcolor": "white"
          },
          "hoverlabel": {
           "align": "left"
          },
          "hovermode": "closest",
          "mapbox": {
           "style": "light"
          },
          "paper_bgcolor": "white",
          "plot_bgcolor": "#E5ECF6",
          "polar": {
           "angularaxis": {
            "gridcolor": "white",
            "linecolor": "white",
            "ticks": ""
           },
           "bgcolor": "#E5ECF6",
           "radialaxis": {
            "gridcolor": "white",
            "linecolor": "white",
            "ticks": ""
           }
          },
          "scene": {
           "xaxis": {
            "backgroundcolor": "#E5ECF6",
            "gridcolor": "white",
            "gridwidth": 2,
            "linecolor": "white",
            "showbackground": true,
            "ticks": "",
            "zerolinecolor": "white"
           },
           "yaxis": {
            "backgroundcolor": "#E5ECF6",
            "gridcolor": "white",
            "gridwidth": 2,
            "linecolor": "white",
            "showbackground": true,
            "ticks": "",
            "zerolinecolor": "white"
           },
           "zaxis": {
            "backgroundcolor": "#E5ECF6",
            "gridcolor": "white",
            "gridwidth": 2,
            "linecolor": "white",
            "showbackground": true,
            "ticks": "",
            "zerolinecolor": "white"
           }
          },
          "shapedefaults": {
           "line": {
            "color": "#2a3f5f"
           }
          },
          "ternary": {
           "aaxis": {
            "gridcolor": "white",
            "linecolor": "white",
            "ticks": ""
           },
           "baxis": {
            "gridcolor": "white",
            "linecolor": "white",
            "ticks": ""
           },
           "bgcolor": "#E5ECF6",
           "caxis": {
            "gridcolor": "white",
            "linecolor": "white",
            "ticks": ""
           }
          },
          "title": {
           "x": 0.05
          },
          "xaxis": {
           "automargin": true,
           "gridcolor": "white",
           "linecolor": "white",
           "ticks": "",
           "title": {
            "standoff": 15
           },
           "zerolinecolor": "white",
           "zerolinewidth": 2
          },
          "yaxis": {
           "automargin": true,
           "gridcolor": "white",
           "linecolor": "white",
           "ticks": "",
           "title": {
            "standoff": 15
           },
           "zerolinecolor": "white",
           "zerolinewidth": 2
          }
         }
        },
        "title": {
         "text": "Class Distribution for All PNRS"
        }
       }
      }
     },
     "metadata": {},
     "output_type": "display_data"
    },
    {
     "data": {
      "application/vnd.plotly.v1+json": {
       "config": {
        "plotlyServerURL": "https://plot.ly"
       },
       "data": [
        {
         "domain": {
          "x": [
           0,
           1
          ],
          "y": [
           0,
           1
          ]
         },
         "hovertemplate": "canclled_class=%{label}<extra></extra>",
         "labels": [
          "[P]",
          "[P]",
          "[P]",
          "[P]",
          "[P]",
          "[E]",
          "[P]",
          "[E]",
          "[P]",
          "[P]",
          "[P]",
          "[P]",
          "[E]",
          "[P]",
          "[P]",
          "[E]",
          "[P]",
          "[P]",
          "[E]",
          "[P]",
          "[P]",
          "[E]",
          "[P]",
          "[E]",
          "[E]",
          "[E]",
          "[E]",
          "[P]",
          "[P]",
          "[E]",
          "[E]",
          "[P]",
          "[E]",
          "[E]",
          "[P]",
          "[P]",
          "[P]",
          "[P]",
          "[E]",
          "[E]",
          "[E]",
          "[E]",
          "[P]",
          "[P]",
          "[E]",
          "[E]",
          "[F]",
          "[E]",
          "[E]",
          "[P]",
          "[E]",
          "[P]",
          "[P]",
          "[E]",
          "[E]",
          "[E]",
          "[E]",
          "[F]",
          "[E]",
          "[P]",
          "[F]",
          "[P]",
          "[E]",
          "[E]",
          "[E]",
          "[E]",
          "[P]",
          "[E]",
          "[E]",
          "[E]",
          "[B]",
          "[F]",
          "[E]",
          "[E]",
          "[E]",
          "[F]",
          "[P]",
          "[F]",
          "[P]",
          "[P]",
          "[E]",
          "[E]",
          "[P]",
          "[E]",
          "[P]",
          "[B]",
          "[B]",
          "[B]",
          "[E]",
          "[E]",
          "[F]",
          "[P]",
          "[P]",
          "[P]",
          "[F]",
          "[P]",
          "[P]",
          "[P]",
          "[E]",
          "[E]",
          "[E]",
          "[E]",
          "[P]",
          "[P]",
          "[P]",
          "[E]",
          "[E]",
          "[E]",
          "[E]",
          "[E]",
          "[B]",
          "[E]",
          "[P]",
          "[P]",
          "[P]",
          "[E]",
          "[E]",
          "[E]",
          "[E]",
          "[E]",
          "[P]",
          "[P]",
          "[P]",
          "[F]",
          "[E]",
          "[P]",
          "[B]",
          "[E]",
          "[B]",
          "[E]",
          "[E]",
          "[B]",
          "[E]",
          "[E]",
          "[B]",
          "[P]",
          "[P]",
          "[F]",
          "[P]",
          "[P]",
          "[F]",
          "[P]",
          "[P]",
          "[B]",
          "[P]",
          "[E]",
          "[E]",
          "[E]",
          "[B]",
          "[E]",
          "[F]",
          "[P]",
          "[P]",
          "[F]",
          "[F]",
          "[P]",
          "[F]",
          "[F]",
          "[P]",
          "[E]",
          "[E]",
          "[B]",
          "[B]",
          "[B]",
          "[E]",
          "[B]",
          "[E]",
          "[E]",
          "[E]",
          "[B]",
          "[P]",
          "[P]",
          "[F]",
          "[F]",
          "[F]",
          "[P]",
          "[F]",
          "[F]",
          "[E]",
          "[E]",
          "[E]",
          "[E]",
          "[P]",
          "[P]",
          "[F]",
          "[B]",
          "[B]",
          "[E]",
          "[B]",
          "[B]",
          "[B]",
          "[E]",
          "[B]",
          "[B]",
          "[B]",
          "[B]",
          "[B]",
          "[E]",
          "[B]",
          "[B]",
          "[B]",
          "[P]",
          "[P]",
          "[F]",
          "[F]",
          "[P]",
          "[F]",
          "[P]",
          "[P]",
          "[F]",
          "[P]",
          "[P]",
          "[E]",
          "[B]",
          "[E]",
          "[P]",
          "[E]",
          "[E]",
          "[B]",
          "[E]",
          "[B]",
          "[B]",
          "[E]",
          "[E]",
          "[B]",
          "[B]",
          "[E]",
          "[B]",
          "[P]",
          "[P]",
          "[P]",
          "[F]",
          "[P]",
          "[F]",
          "[P]",
          "[F]",
          "[E]",
          "[F]",
          "[E]",
          "[B]",
          "[B]",
          "[B]",
          "[B]",
          "[B]",
          "[E]",
          "[E]",
          "[B]",
          "[E]",
          "[B]",
          "[E]",
          "[E]",
          "[E]",
          "[B]",
          "[F]",
          "[P]",
          "[F]",
          "[F]",
          "[F]",
          "[P]",
          "[P]",
          "[F]",
          "[P]",
          "[F]",
          "[B]",
          "[B]",
          "[E]",
          "[B]",
          "[B]",
          "[B]",
          "[B]",
          "[F]",
          "[F]",
          "[P]",
          "[P]",
          "[P]",
          "[P]",
          "[F]",
          "[P]",
          "[F]",
          "[F]",
          "[P]",
          "[P]",
          "[F]",
          "[F]",
          "[F]",
          "[F]",
          "[P]",
          "[E]",
          "[B]",
          "[B]",
          "[B]",
          "[B]",
          "[E]",
          "[B]",
          "[E]",
          "[B]",
          "[E]",
          "[B]",
          "[B]",
          "[B]",
          "[B]",
          "[B]",
          "[P]",
          "[P]",
          "[F]",
          "[F]",
          "[P]",
          "[P]",
          "[P]",
          "[B]",
          "[B]",
          "[B]",
          "[B]",
          "[B]",
          "[B]",
          "[B]",
          "[E]",
          "[E]",
          "[F]",
          "[P]",
          "[F]",
          "[F]",
          "[F]",
          "[F]",
          "[P]",
          "[F]",
          "[F]",
          "[P]",
          "[F]",
          "[P]",
          "[B]",
          "[E]",
          "[B]",
          "[B]",
          "[E]",
          "[B]",
          "[B]",
          "[E]",
          "[E]",
          "[B]",
          "[B]",
          "[B]",
          "[B]",
          "[B]",
          "[E]",
          "[B]",
          "[E]",
          "[B]",
          "[E]",
          "[B]",
          "[B]",
          "[B]",
          "[P]",
          "[P]",
          "[P]",
          "[B]",
          "[E]",
          "[E]",
          "[B]",
          "[B]",
          "[B]",
          "[B]",
          "[E]",
          "[E]",
          "[E]",
          "[B]",
          "[B]",
          "[E]",
          "[B]",
          "[E]",
          "[P]",
          "[P]",
          "[F]",
          "[F]",
          "[F]",
          "[F]",
          "[F]",
          "[E]",
          "[B]",
          "[B]",
          "[E]",
          "[B]",
          "[E]",
          "[E]",
          "[B]",
          "[B]",
          "[E]",
          "[B]",
          "[B]",
          "[B]",
          "[B]",
          "[B]",
          "[E]",
          "[B]",
          "[F]",
          "[P]",
          "[P]",
          "[B]",
          "[E]",
          "[B]",
          "[B]",
          "[E]",
          "[B]",
          "[B]",
          "[B]",
          "[B]",
          "[B]",
          "[B]",
          "[E]",
          "[B]",
          "[B]",
          "[B]",
          "[E]",
          "[E]",
          "[P]",
          "[F]",
          "[P]",
          "[P]",
          "[P]",
          "[P]",
          "[F]",
          "[F]",
          "[F]",
          "[F]",
          "[F]",
          "[F]",
          "[P]",
          "[P]",
          "[F]",
          "[F]",
          "[P]",
          "[F]",
          "[F]",
          "[B]",
          "[E]",
          "[B]",
          "[E]",
          "[B]",
          "[B]",
          "[B]",
          "[B]",
          "[B]",
          "[E]",
          "[B]",
          "[B]",
          "[B]",
          "[B]",
          "[B]",
          "[B]",
          "[B]",
          "[B]",
          "[E]",
          "[E]",
          "[B]",
          "[E]",
          "[B]",
          "[E]",
          "[E]",
          "[B]",
          "[E]",
          "[B]",
          "[B]",
          "[E]",
          "[B]",
          "[B]",
          "[B]",
          "[E]",
          "[E]",
          "[B]",
          "[E]",
          "[B]",
          "[B]",
          "[E]",
          "[B]",
          "[B]",
          "[E]",
          "[B]",
          "[B]",
          "[E]",
          "[E]",
          "[B]",
          "[E]",
          "[B]",
          "[E]",
          "[B]",
          "[B]",
          "[B]",
          "[E]",
          "[B]",
          "[B]",
          "[B]",
          "[E]",
          "[E]",
          "[E]"
         ],
         "legendgroup": "",
         "name": "",
         "showlegend": true,
         "type": "pie"
        }
       ],
       "layout": {
        "legend": {
         "tracegroupgap": 0
        },
        "template": {
         "data": {
          "bar": [
           {
            "error_x": {
             "color": "#2a3f5f"
            },
            "error_y": {
             "color": "#2a3f5f"
            },
            "marker": {
             "line": {
              "color": "#E5ECF6",
              "width": 0.5
             },
             "pattern": {
              "fillmode": "overlay",
              "size": 10,
              "solidity": 0.2
             }
            },
            "type": "bar"
           }
          ],
          "barpolar": [
           {
            "marker": {
             "line": {
              "color": "#E5ECF6",
              "width": 0.5
             },
             "pattern": {
              "fillmode": "overlay",
              "size": 10,
              "solidity": 0.2
             }
            },
            "type": "barpolar"
           }
          ],
          "carpet": [
           {
            "aaxis": {
             "endlinecolor": "#2a3f5f",
             "gridcolor": "white",
             "linecolor": "white",
             "minorgridcolor": "white",
             "startlinecolor": "#2a3f5f"
            },
            "baxis": {
             "endlinecolor": "#2a3f5f",
             "gridcolor": "white",
             "linecolor": "white",
             "minorgridcolor": "white",
             "startlinecolor": "#2a3f5f"
            },
            "type": "carpet"
           }
          ],
          "choropleth": [
           {
            "colorbar": {
             "outlinewidth": 0,
             "ticks": ""
            },
            "type": "choropleth"
           }
          ],
          "contour": [
           {
            "colorbar": {
             "outlinewidth": 0,
             "ticks": ""
            },
            "colorscale": [
             [
              0,
              "#0d0887"
             ],
             [
              0.1111111111111111,
              "#46039f"
             ],
             [
              0.2222222222222222,
              "#7201a8"
             ],
             [
              0.3333333333333333,
              "#9c179e"
             ],
             [
              0.4444444444444444,
              "#bd3786"
             ],
             [
              0.5555555555555556,
              "#d8576b"
             ],
             [
              0.6666666666666666,
              "#ed7953"
             ],
             [
              0.7777777777777778,
              "#fb9f3a"
             ],
             [
              0.8888888888888888,
              "#fdca26"
             ],
             [
              1,
              "#f0f921"
             ]
            ],
            "type": "contour"
           }
          ],
          "contourcarpet": [
           {
            "colorbar": {
             "outlinewidth": 0,
             "ticks": ""
            },
            "type": "contourcarpet"
           }
          ],
          "heatmap": [
           {
            "colorbar": {
             "outlinewidth": 0,
             "ticks": ""
            },
            "colorscale": [
             [
              0,
              "#0d0887"
             ],
             [
              0.1111111111111111,
              "#46039f"
             ],
             [
              0.2222222222222222,
              "#7201a8"
             ],
             [
              0.3333333333333333,
              "#9c179e"
             ],
             [
              0.4444444444444444,
              "#bd3786"
             ],
             [
              0.5555555555555556,
              "#d8576b"
             ],
             [
              0.6666666666666666,
              "#ed7953"
             ],
             [
              0.7777777777777778,
              "#fb9f3a"
             ],
             [
              0.8888888888888888,
              "#fdca26"
             ],
             [
              1,
              "#f0f921"
             ]
            ],
            "type": "heatmap"
           }
          ],
          "heatmapgl": [
           {
            "colorbar": {
             "outlinewidth": 0,
             "ticks": ""
            },
            "colorscale": [
             [
              0,
              "#0d0887"
             ],
             [
              0.1111111111111111,
              "#46039f"
             ],
             [
              0.2222222222222222,
              "#7201a8"
             ],
             [
              0.3333333333333333,
              "#9c179e"
             ],
             [
              0.4444444444444444,
              "#bd3786"
             ],
             [
              0.5555555555555556,
              "#d8576b"
             ],
             [
              0.6666666666666666,
              "#ed7953"
             ],
             [
              0.7777777777777778,
              "#fb9f3a"
             ],
             [
              0.8888888888888888,
              "#fdca26"
             ],
             [
              1,
              "#f0f921"
             ]
            ],
            "type": "heatmapgl"
           }
          ],
          "histogram": [
           {
            "marker": {
             "pattern": {
              "fillmode": "overlay",
              "size": 10,
              "solidity": 0.2
             }
            },
            "type": "histogram"
           }
          ],
          "histogram2d": [
           {
            "colorbar": {
             "outlinewidth": 0,
             "ticks": ""
            },
            "colorscale": [
             [
              0,
              "#0d0887"
             ],
             [
              0.1111111111111111,
              "#46039f"
             ],
             [
              0.2222222222222222,
              "#7201a8"
             ],
             [
              0.3333333333333333,
              "#9c179e"
             ],
             [
              0.4444444444444444,
              "#bd3786"
             ],
             [
              0.5555555555555556,
              "#d8576b"
             ],
             [
              0.6666666666666666,
              "#ed7953"
             ],
             [
              0.7777777777777778,
              "#fb9f3a"
             ],
             [
              0.8888888888888888,
              "#fdca26"
             ],
             [
              1,
              "#f0f921"
             ]
            ],
            "type": "histogram2d"
           }
          ],
          "histogram2dcontour": [
           {
            "colorbar": {
             "outlinewidth": 0,
             "ticks": ""
            },
            "colorscale": [
             [
              0,
              "#0d0887"
             ],
             [
              0.1111111111111111,
              "#46039f"
             ],
             [
              0.2222222222222222,
              "#7201a8"
             ],
             [
              0.3333333333333333,
              "#9c179e"
             ],
             [
              0.4444444444444444,
              "#bd3786"
             ],
             [
              0.5555555555555556,
              "#d8576b"
             ],
             [
              0.6666666666666666,
              "#ed7953"
             ],
             [
              0.7777777777777778,
              "#fb9f3a"
             ],
             [
              0.8888888888888888,
              "#fdca26"
             ],
             [
              1,
              "#f0f921"
             ]
            ],
            "type": "histogram2dcontour"
           }
          ],
          "mesh3d": [
           {
            "colorbar": {
             "outlinewidth": 0,
             "ticks": ""
            },
            "type": "mesh3d"
           }
          ],
          "parcoords": [
           {
            "line": {
             "colorbar": {
              "outlinewidth": 0,
              "ticks": ""
             }
            },
            "type": "parcoords"
           }
          ],
          "pie": [
           {
            "automargin": true,
            "type": "pie"
           }
          ],
          "scatter": [
           {
            "fillpattern": {
             "fillmode": "overlay",
             "size": 10,
             "solidity": 0.2
            },
            "type": "scatter"
           }
          ],
          "scatter3d": [
           {
            "line": {
             "colorbar": {
              "outlinewidth": 0,
              "ticks": ""
             }
            },
            "marker": {
             "colorbar": {
              "outlinewidth": 0,
              "ticks": ""
             }
            },
            "type": "scatter3d"
           }
          ],
          "scattercarpet": [
           {
            "marker": {
             "colorbar": {
              "outlinewidth": 0,
              "ticks": ""
             }
            },
            "type": "scattercarpet"
           }
          ],
          "scattergeo": [
           {
            "marker": {
             "colorbar": {
              "outlinewidth": 0,
              "ticks": ""
             }
            },
            "type": "scattergeo"
           }
          ],
          "scattergl": [
           {
            "marker": {
             "colorbar": {
              "outlinewidth": 0,
              "ticks": ""
             }
            },
            "type": "scattergl"
           }
          ],
          "scattermapbox": [
           {
            "marker": {
             "colorbar": {
              "outlinewidth": 0,
              "ticks": ""
             }
            },
            "type": "scattermapbox"
           }
          ],
          "scatterpolar": [
           {
            "marker": {
             "colorbar": {
              "outlinewidth": 0,
              "ticks": ""
             }
            },
            "type": "scatterpolar"
           }
          ],
          "scatterpolargl": [
           {
            "marker": {
             "colorbar": {
              "outlinewidth": 0,
              "ticks": ""
             }
            },
            "type": "scatterpolargl"
           }
          ],
          "scatterternary": [
           {
            "marker": {
             "colorbar": {
              "outlinewidth": 0,
              "ticks": ""
             }
            },
            "type": "scatterternary"
           }
          ],
          "surface": [
           {
            "colorbar": {
             "outlinewidth": 0,
             "ticks": ""
            },
            "colorscale": [
             [
              0,
              "#0d0887"
             ],
             [
              0.1111111111111111,
              "#46039f"
             ],
             [
              0.2222222222222222,
              "#7201a8"
             ],
             [
              0.3333333333333333,
              "#9c179e"
             ],
             [
              0.4444444444444444,
              "#bd3786"
             ],
             [
              0.5555555555555556,
              "#d8576b"
             ],
             [
              0.6666666666666666,
              "#ed7953"
             ],
             [
              0.7777777777777778,
              "#fb9f3a"
             ],
             [
              0.8888888888888888,
              "#fdca26"
             ],
             [
              1,
              "#f0f921"
             ]
            ],
            "type": "surface"
           }
          ],
          "table": [
           {
            "cells": {
             "fill": {
              "color": "#EBF0F8"
             },
             "line": {
              "color": "white"
             }
            },
            "header": {
             "fill": {
              "color": "#C8D4E3"
             },
             "line": {
              "color": "white"
             }
            },
            "type": "table"
           }
          ]
         },
         "layout": {
          "annotationdefaults": {
           "arrowcolor": "#2a3f5f",
           "arrowhead": 0,
           "arrowwidth": 1
          },
          "autotypenumbers": "strict",
          "coloraxis": {
           "colorbar": {
            "outlinewidth": 0,
            "ticks": ""
           }
          },
          "colorscale": {
           "diverging": [
            [
             0,
             "#8e0152"
            ],
            [
             0.1,
             "#c51b7d"
            ],
            [
             0.2,
             "#de77ae"
            ],
            [
             0.3,
             "#f1b6da"
            ],
            [
             0.4,
             "#fde0ef"
            ],
            [
             0.5,
             "#f7f7f7"
            ],
            [
             0.6,
             "#e6f5d0"
            ],
            [
             0.7,
             "#b8e186"
            ],
            [
             0.8,
             "#7fbc41"
            ],
            [
             0.9,
             "#4d9221"
            ],
            [
             1,
             "#276419"
            ]
           ],
           "sequential": [
            [
             0,
             "#0d0887"
            ],
            [
             0.1111111111111111,
             "#46039f"
            ],
            [
             0.2222222222222222,
             "#7201a8"
            ],
            [
             0.3333333333333333,
             "#9c179e"
            ],
            [
             0.4444444444444444,
             "#bd3786"
            ],
            [
             0.5555555555555556,
             "#d8576b"
            ],
            [
             0.6666666666666666,
             "#ed7953"
            ],
            [
             0.7777777777777778,
             "#fb9f3a"
            ],
            [
             0.8888888888888888,
             "#fdca26"
            ],
            [
             1,
             "#f0f921"
            ]
           ],
           "sequentialminus": [
            [
             0,
             "#0d0887"
            ],
            [
             0.1111111111111111,
             "#46039f"
            ],
            [
             0.2222222222222222,
             "#7201a8"
            ],
            [
             0.3333333333333333,
             "#9c179e"
            ],
            [
             0.4444444444444444,
             "#bd3786"
            ],
            [
             0.5555555555555556,
             "#d8576b"
            ],
            [
             0.6666666666666666,
             "#ed7953"
            ],
            [
             0.7777777777777778,
             "#fb9f3a"
            ],
            [
             0.8888888888888888,
             "#fdca26"
            ],
            [
             1,
             "#f0f921"
            ]
           ]
          },
          "colorway": [
           "#636efa",
           "#EF553B",
           "#00cc96",
           "#ab63fa",
           "#FFA15A",
           "#19d3f3",
           "#FF6692",
           "#B6E880",
           "#FF97FF",
           "#FECB52"
          ],
          "font": {
           "color": "#2a3f5f"
          },
          "geo": {
           "bgcolor": "white",
           "lakecolor": "white",
           "landcolor": "#E5ECF6",
           "showlakes": true,
           "showland": true,
           "subunitcolor": "white"
          },
          "hoverlabel": {
           "align": "left"
          },
          "hovermode": "closest",
          "mapbox": {
           "style": "light"
          },
          "paper_bgcolor": "white",
          "plot_bgcolor": "#E5ECF6",
          "polar": {
           "angularaxis": {
            "gridcolor": "white",
            "linecolor": "white",
            "ticks": ""
           },
           "bgcolor": "#E5ECF6",
           "radialaxis": {
            "gridcolor": "white",
            "linecolor": "white",
            "ticks": ""
           }
          },
          "scene": {
           "xaxis": {
            "backgroundcolor": "#E5ECF6",
            "gridcolor": "white",
            "gridwidth": 2,
            "linecolor": "white",
            "showbackground": true,
            "ticks": "",
            "zerolinecolor": "white"
           },
           "yaxis": {
            "backgroundcolor": "#E5ECF6",
            "gridcolor": "white",
            "gridwidth": 2,
            "linecolor": "white",
            "showbackground": true,
            "ticks": "",
            "zerolinecolor": "white"
           },
           "zaxis": {
            "backgroundcolor": "#E5ECF6",
            "gridcolor": "white",
            "gridwidth": 2,
            "linecolor": "white",
            "showbackground": true,
            "ticks": "",
            "zerolinecolor": "white"
           }
          },
          "shapedefaults": {
           "line": {
            "color": "#2a3f5f"
           }
          },
          "ternary": {
           "aaxis": {
            "gridcolor": "white",
            "linecolor": "white",
            "ticks": ""
           },
           "baxis": {
            "gridcolor": "white",
            "linecolor": "white",
            "ticks": ""
           },
           "bgcolor": "#E5ECF6",
           "caxis": {
            "gridcolor": "white",
            "linecolor": "white",
            "ticks": ""
           }
          },
          "title": {
           "x": 0.05
          },
          "xaxis": {
           "automargin": true,
           "gridcolor": "white",
           "linecolor": "white",
           "ticks": "",
           "title": {
            "standoff": 15
           },
           "zerolinecolor": "white",
           "zerolinewidth": 2
          },
          "yaxis": {
           "automargin": true,
           "gridcolor": "white",
           "linecolor": "white",
           "ticks": "",
           "title": {
            "standoff": 15
           },
           "zerolinecolor": "white",
           "zerolinewidth": 2
          }
         }
        },
        "title": {
         "text": "Class Distribution for Cancelled PNRS"
        }
       }
      }
     },
     "metadata": {},
     "output_type": "display_data"
    }
   ],
   "source": [
    "# plot for class distribution for cancelled flights\n",
    "fig = px.pie(df, names='allocated_classes', title='Class Distribution for All PNRS')\n",
    "\n",
    "# plot for class distribution for cancelled flights\n",
    "fig2 = px.pie(df, names='canclled_class', title='Class Distribution for Cancelled PNRS')\n",
    "fig.show()\n",
    "fig2.show()\n",
    "\n"
   ]
  },
  {
   "cell_type": "code",
   "execution_count": 7,
   "metadata": {},
   "outputs": [
    {
     "name": "stdout",
     "output_type": "stream",
     "text": [
      "Mean Delay: 39.21135005973715 hours, std_dev: 18.582702471502998\n"
     ]
    },
    {
     "data": {
      "application/vnd.plotly.v1+json": {
       "config": {
        "plotlyServerURL": "https://plot.ly"
       },
       "data": [
        {
         "alignmentgroup": "True",
         "hovertemplate": "pnr=%{x}<br>allocated_flights_score=%{y}<extra></extra>",
         "legendgroup": "",
         "marker": {
          "color": "blue",
          "pattern": {
           "shape": ""
          }
         },
         "name": "",
         "offsetgroup": "",
         "orientation": "v",
         "showlegend": false,
         "textposition": "auto",
         "type": "bar",
         "x": [
          "XVCQ73",
          "ELTK72",
          "ELES76",
          "DQVZ74",
          "ADCH37",
          "HVFP61",
          "CIDM82",
          "LAZY29",
          "NBLR72",
          "JSOP84",
          "VZYV16",
          "SHSG52",
          "VNJL91",
          "PYKY47",
          "VRTK46",
          "YPRL90",
          "YVAG67",
          "PLQB19",
          "CGMX55",
          "OSUE50",
          "GRYG45",
          "TXVU12",
          "CJFG55",
          "NJPX66",
          "HRKK97",
          "MSNO65",
          "HHSD24",
          "MTKY90",
          "CZGN82",
          "IQCO42",
          "PUUA42",
          "COHT21",
          "OEQB41",
          "UCEV32",
          "CDMS24",
          "UNTY50",
          "JTSI96",
          "WJFY37",
          "YYSA99",
          "KCQQ68",
          "HBDM25",
          "VEFY39",
          "YEQZ86",
          "UXAS88",
          "FBGT91",
          "YFXR19",
          "FNON77",
          "VKIF54",
          "URTD46",
          "IXZJ80",
          "VDDA36",
          "NEOL38",
          "VNSB37",
          "DWRK59",
          "YWUG56",
          "BFRO63",
          "ZJHG87",
          "DFIE34",
          "NCGK60",
          "TBYG80",
          "YJLZ64",
          "FKYE25",
          "UEFQ82",
          "JQTS12",
          "JGML71",
          "QVQI21",
          "FELL42",
          "YZPW46",
          "LTOP61",
          "WNHW64",
          "BTKY58",
          "EUTS74",
          "LLEF53",
          "HVQI51",
          "ZTLP21",
          "QVZR28",
          "MBSM82",
          "AKKC40",
          "DBRI80",
          "EUBB46",
          "LABW39",
          "QXPI96",
          "IIND68",
          "KJZW13",
          "XJLH35",
          "VEJG80",
          "ITBC65",
          "HUKX32",
          "YGXX40",
          "MHXK85",
          "FQOX52",
          "SLWF58",
          "ERTF56",
          "UKYC18",
          "YPQM28",
          "FNQP86",
          "HPZP14",
          "XFNO62",
          "MZBS30",
          "UJTN27",
          "XUJW57",
          "OVGT73",
          "DSVM73",
          "KZMX40",
          "MLHN86",
          "CBJS81",
          "CLPY88",
          "XEUB20",
          "BHTJ96",
          "WXNR77",
          "SZQS66",
          "NFPD22",
          "RJLR15",
          "HBVI25",
          "BWHE51",
          "EWOA44",
          "NOTC40",
          "CNKT67",
          "NPYR39",
          "GVVD60",
          "RHKC58",
          "NGDC92",
          "HIGU55",
          "DNHG88",
          "IZYT94",
          "FMMN51",
          "PAON66",
          "SBED48",
          "LBBF92",
          "MSZL95",
          "GJBD30",
          "NVCA93",
          "YNVH98",
          "CWMG83",
          "QTMO12",
          "NFTL30",
          "YMPM85",
          "SYWD80",
          "MDMH38",
          "ADNY69",
          "GMDF29",
          "JDAQ43",
          "TAFO80",
          "RMNS44",
          "SPLX71",
          "VBEI50",
          "LEEB66",
          "VJXW66",
          "IISW62",
          "ARVN27",
          "JNPB82",
          "VDVN10",
          "PEFW32",
          "TNCT92",
          "HGJV99",
          "NBIC95",
          "EWON83",
          "SRON53",
          "ALAX84",
          "RSIM44",
          "CFPB37",
          "BQTB82",
          "ZHEV67",
          "JFFJ40",
          "QIYI53",
          "HNRJ86",
          "JDXT39",
          "LVCF80",
          "IAFE92",
          "GECZ65",
          "GWZT84",
          "KVEF56",
          "WVNN63",
          "OBNN66",
          "MMDF31",
          "AROQ67",
          "YYFD12",
          "GSDB28",
          "TTZS56",
          "KWFB47",
          "PTUY96",
          "XLKI20",
          "NADC75",
          "HPAH52",
          "GCQO47",
          "QKFL16",
          "QJNK58",
          "OCZA55",
          "WJXU73",
          "HSWI28",
          "PCXW92",
          "ISPE89",
          "KFTY31",
          "GOVS59",
          "WGNQ78",
          "YWFS71",
          "NKMQ66",
          "IYTB69",
          "YVPJ82",
          "THRW51",
          "JNZQ22",
          "LSOQ56",
          "JASH81",
          "MGHI53",
          "BQTI44",
          "HVYQ50",
          "VCBE94",
          "TDMB51",
          "PJSW75",
          "ASVC73",
          "XSTW93",
          "RXOE67",
          "ZNZN28",
          "VYLL99",
          "PCMV31",
          "FBXP28",
          "WDLY71",
          "DWGT72",
          "QYGB61",
          "XWHL99",
          "RMZJ88",
          "ATIE88",
          "BGEG92",
          "SPXR29",
          "BKLR94",
          "LESF66",
          "SROP81",
          "ROQR61",
          "QITU67",
          "QJDE49",
          "TWMV60",
          "DUIE61",
          "FMQN78",
          "KQWR50",
          "IBTM27",
          "PXBU41",
          "FNGR35",
          "ALHS41",
          "DBFZ64",
          "EPAQ16",
          "UQDG53",
          "XABE41",
          "SBTM18",
          "QFQU21",
          "CWNP76",
          "LUER90",
          "ROMJ23",
          "OSOJ58",
          "EVAK73",
          "AOAY42",
          "VBQJ24",
          "ACKK33",
          "MJCQ77",
          "FAEK13",
          "WRFX66",
          "TGLA19",
          "XBAR37",
          "SDPS98",
          "ESNZ73",
          "KDKQ63",
          "TXCF52",
          "HANJ53",
          "ZWKV35",
          "PESX80",
          "SEDO49",
          "WBDR45",
          "ANGJ31",
          "IMRP11",
          "ENTR65",
          "IKXG12",
          "WQYF77",
          "FTGB88",
          "GYIO26",
          "GBEV32",
          "NABH75",
          "OJJD32",
          "HLWQ69",
          "KUDS27",
          "KNDJ88",
          "OMYB89",
          "PYHP39",
          "GOQY43",
          "ZLEF86",
          "MFWE70",
          "GUAU64",
          "QDUN60",
          "WETV31",
          "ZXWU97",
          "OSXT48",
          "YYZK76",
          "TAFR87",
          "RNKT66",
          "MBAM17",
          "VGAM26",
          "VJCQ14",
          "KJBW36",
          "RWUR57",
          "HGQV61",
          "PTDC81",
          "MAKS27",
          "TAIZ87",
          "EJKT27",
          "FSNQ98",
          "ORUR32",
          "BLUG39",
          "SDON87",
          "QPYJ53",
          "PQUB72",
          "LLIH12",
          "RNHC46",
          "QMQZ86",
          "MPMX64",
          "ULFL16",
          "TOAW70",
          "EZBC54",
          "HNIU84",
          "MIAT30",
          "CVTF93",
          "JFFG88",
          "IGWJ82",
          "SIZM49",
          "TQME21",
          "GMHO31",
          "ZDHE28",
          "VLCB67",
          "GDLS51",
          "OFRV69",
          "MGXD95",
          "ZFIR69",
          "TFCZ84",
          "NQET33",
          "KYPS48",
          "RPKH30",
          "TQKO83",
          "MAKF53",
          "JKPY74",
          "CPKB55",
          "SKUA12",
          "EECE55",
          "ZTUQ49",
          "MWHA69",
          "UAMR95",
          "QJUH52",
          "WJMN79",
          "PEXT79",
          "OGUV31",
          "HDTU72",
          "LBDC93",
          "ZLFS69",
          "WDES82",
          "BMPL83",
          "MDXO87",
          "WUMO52",
          "MHGN40",
          "KVBJ89",
          "OJRQ64",
          "POBU85",
          "KJHI85",
          "XYRW70",
          "YEIQ10",
          "DZXA68",
          "ZTBI89",
          "PNNK58",
          "ZQHE32",
          "OXBM44",
          "QGKG60",
          "ZDCR88",
          "VWJG33",
          "LJQT67",
          "LFFG30",
          "IUHG90",
          "SRYJ83",
          "XNWT76",
          "LAZX16",
          "UDFV52",
          "LVHU92",
          "OIIX82",
          "CDHS51",
          "SFXB99",
          "FGRO78",
          "CVYZ12",
          "NJYP36",
          "UNCM41",
          "SAEN79",
          "QMOM17",
          "OZZY47",
          "WSLR16",
          "UMBY94",
          "KVAQ89",
          "IDYX76",
          "YGUC74",
          "PLJA16",
          "AXGK85",
          "QRUC80",
          "FKHH76",
          "NXIE96",
          "STJC26",
          "GLZH70",
          "MQVH27",
          "SKOF68",
          "SDUJ66",
          "FKUZ11",
          "LNTU75",
          "GTZG73",
          "VUFI57",
          "YKRW85",
          "YCFY20",
          "ENMX14",
          "REVI55",
          "VBFE55",
          "BVGP53",
          "MJGC88",
          "ZKHV21",
          "NZDT59",
          "XEKG81",
          "EVXJ95",
          "PSCH51",
          "CIYF30",
          "LERB88",
          "SSRY96",
          "BHFM82",
          "SHKX32",
          "KUCS34",
          "GVTW47",
          "OHAQ57",
          "PSRW66",
          "GVJX51",
          "ZNWD27",
          "DJIQ49",
          "CRAX19",
          "DVFE61",
          "FRDT60",
          "WFRB77",
          "NQXC83",
          "EZJQ34",
          "HFRI32",
          "VFDB97",
          "NGQJ46",
          "MGVZ29",
          "CIVJ43",
          "EPTO88",
          "XTNH59",
          "KMJT64",
          "EUBR62",
          "DEWR55",
          "YADJ50",
          "FYSX16",
          "VOVU55",
          "IAPJ59",
          "ETIV54",
          "DYRK47",
          "NZLG27",
          "CWZX77",
          "IUUO84",
          "YGII83",
          "VLIQ18",
          "OIOG94",
          "UGGT20",
          "ZHYQ58",
          "YQQS17",
          "IABG33",
          "CGIO61",
          "ERAY33",
          "KZGI84",
          "CQAZ15",
          "SYJU33",
          "NKAG77",
          "ZXAS14",
          "DCNF10",
          "JXBM73",
          "GTCV95",
          "YWLE82",
          "QSYZ21",
          "GKEX23",
          "VAXI35",
          "SYWZ82",
          "BNUI96",
          "LEMX32",
          "OUMP14",
          "DGWC65",
          "TLEF33",
          "HIQR56",
          "UXJB75",
          "DXGB32",
          "MKEC26",
          "EEAM43",
          "CSSK72",
          "QQQO76",
          "ZJJW20",
          "LTPM72",
          "MMUU86",
          "RGIO83",
          "JCQH28",
          "HHBZ71"
         ],
         "xaxis": "x",
         "y": [
          "1117.7186953516461",
          "1117.7186953516461",
          "1117.7186953516461",
          "1117.7186953516461",
          "1117.7186953516461",
          "1117.7186953516461",
          "1117.7186953516461",
          "1117.7186953516461",
          "1117.7186953516461",
          "1117.7186953516461",
          "1117.7186953516461",
          "113509.00142789281",
          "113509.00142789281",
          "113509.00142789281",
          "113509.00142789281",
          "1187.6502897289804",
          "1187.6502897289804",
          "1187.6502897289804",
          "1187.6502897289804",
          "12500283.024119752",
          "12500283.024119752",
          "12500283.024119752",
          "12500283.024119752",
          "12500283.024119752",
          "12500283.024119752",
          "12500283.024119752",
          "12500283.024119752",
          "12500283.024119752",
          "12500283.024119752",
          "12500283.024119752",
          "12500283.024119752",
          "12500283.024119752",
          "12500283.024119752",
          "12500283.024119752",
          "12500283.024119752",
          "12500283.024119752",
          "13425.950994924395",
          "13425.950994924395",
          "13425.950994924395",
          "13425.950994924395",
          "13425.950994924395",
          "14.030540329784811",
          "14.030540329784811",
          "14.030540329784811",
          "14.030540329784811",
          "14.030540329784811",
          "14226.384977728343",
          "142781.48726889797",
          "142781.48726889797",
          "1700421.3528907783",
          "1700421.3528907783",
          "17308025.645299554",
          "17308025.645299554",
          "17308025.645299554",
          "17308025.645299554",
          "17308025.645299554",
          "17308025.645299554",
          "17308025.645299554",
          "17308025.645299554",
          "17308025.645299554",
          "17308025.645299554",
          "17308025.645299554",
          "17308025.645299554",
          "17308025.645299554",
          "17308025.645299554",
          "185972.4580015308",
          "22614.901685488592",
          "22614.901685488592",
          "23.033270964242345",
          "23.033270964242345",
          "23.033270964242345",
          "23.033270964242345",
          "23.033270964242345",
          "23.033270964242345",
          "23.033270964242345",
          "23.033270964242345",
          "23062.249838221094",
          "23062.249838221094",
          "23062.249838221094",
          "23062.249838221094",
          "23062.249838221094",
          "23062.249838221094",
          "23062.249838221094",
          "23062.249838221094",
          "23062.249838221094",
          "2331.7580607331665",
          "2331.7580607331665",
          "2331.7580607331665",
          "2331.7580607331665",
          "2331.7580607331665",
          "2331.7580607331665",
          "2331.7580607331665",
          "2331.7580607331665",
          "2331.7580607331665",
          "2331.7580607331665",
          "2331.7580607331665",
          "2331.7580607331665",
          "244671.79084510362",
          "244671.79084510362",
          "24648.963687853622",
          "24648.963687853622",
          "24932.973736093467",
          "24932.973736093467",
          "24932.973736093467",
          "24932.973736093467",
          "24932.973736093467",
          "24932.973736093467",
          "24932.973736093467",
          "24932.973736093467",
          "24932.973736093467",
          "24932.973736093467",
          "24932.973736093467",
          "24932.973736093467",
          "24932.973736093467",
          "24932.973736093467",
          "24932.973736093467",
          "25547.446062764917",
          "25547.446062764917",
          "25547.446062764917",
          "2570.6323784582905",
          "2570.6323784582905",
          "2570.6323784582905",
          "2570.6323784582905",
          "2570.6323784582905",
          "2570.6323784582905",
          "2570.6323784582905",
          "2570.6323784582905",
          "2570.6323784582905",
          "26579.040092070074",
          "26579.040092070074",
          "26579.040092070074",
          "26579.040092070074",
          "26579.040092070074",
          "26579.040092070074",
          "2679554.4413884617",
          "27263.0548086265",
          "27263.0548086265",
          "27263.0548086265",
          "27263.0548086265",
          "31888.602601124272",
          "31888.602601124272",
          "31888.602601124272",
          "31888.602601124272",
          "31888.602601124272",
          "320187.3633573873",
          "320187.3633573873",
          "320187.3633573873",
          "320187.3633573873",
          "320187.3633573873",
          "320187.3633573873",
          "320187.3633573873",
          "320187.3633573873",
          "320187.3633573873",
          "32306.699127951542",
          "32306.699127951542",
          "32810.311093403",
          "3290.6584412382326",
          "3290.6584412382326",
          "3290.6584412382326",
          "3290.6584412382326",
          "3290.6584412382326",
          "3290.6584412382326",
          "3290.6584412382326",
          "3290.6584412382326",
          "3290.6584412382326",
          "3290.6584412382326",
          "3290.6584412382326",
          "3290.6584412382326",
          "3290.6584412382326",
          "3364.7599550608925",
          "35284.16320742569",
          "37378.227392452114",
          "37378.227392452114",
          "44018142.81698837",
          "44018142.81698837",
          "44018142.81698837",
          "44018142.81698837",
          "44018142.81698837",
          "44018142.81698837",
          "44018142.81698837",
          "44018142.81698837",
          "44018142.81698837",
          "44018142.81698837",
          "44018142.81698837",
          "44478.504868777905",
          "44478.504868777905",
          "44478.504868777905",
          "44478.504868777905",
          "44478.504868777905",
          "45457.290079922044",
          "45457.290079922044",
          "45457.290079922044",
          "49274.69303954476",
          "49274.69303954476",
          "49274.69303954476",
          "49274.69303954476",
          "49274.69303954476",
          "58.316431861603284",
          "58.316431861603284",
          "58.316431861603284",
          "58.316431861603284",
          "58.316431861603284",
          "58.316431861603284",
          "58.316431861603284",
          "60087.81175249748",
          "60087.81175249748",
          "60087.81175249748",
          "60278.57050869055",
          "60278.57050869055",
          "60278.57050869055",
          "60278.57050869055",
          "60278.57050869055",
          "60278.57050869055",
          "60278.57050869055",
          "60278.57050869055",
          "60278.57050869055",
          "60278.57050869055",
          "60278.57050869055",
          "60278.57050869055",
          "60278.57050869055",
          "60278.57050869055",
          "60278.57050869055",
          "60278.57050869055",
          "60278.57050869055",
          "61405.616576861976",
          "61405.616576861976",
          "61405.616576861976",
          "61405.616576861976",
          "61405.616576861976",
          "61405.616576861976",
          "61405.616576861976",
          "61405.616576861976",
          "61405.616576861976",
          "61405.616576861976",
          "61405.616576861976",
          "61405.616576861976",
          "61405.616576861976",
          "61405.616576861976",
          "61405.616576861976",
          "61405.616576861976",
          "61405.616576861976",
          "61405.616576861976",
          "61405.616576861976",
          "62855.760386635025",
          "62855.760386635025",
          "6367307.883235102",
          "6367307.883235102",
          "6367307.883235102",
          "6367307.883235102",
          "6367307.883235102",
          "7069.079355960752",
          "7069.079355960752",
          "7069.079355960752",
          "7069.079355960752",
          "7069.079355960752",
          "7069.079355960752",
          "7069.079355960752",
          "7169.968926168798",
          "7169.968926168798",
          "7169.968926168798",
          "7169.968926168798",
          "7169.968926168798",
          "7169.968926168798",
          "7169.968926168798",
          "7169.968926168798",
          "7169.968926168798",
          "7169.968926168798",
          "75392.90460627417",
          "75392.90460627417",
          "75392.90460627417",
          "75392.90460627417",
          "75392.90460627417",
          "85395.62024249",
          "85395.62024249",
          "85395.62024249",
          "85395.62024249",
          "970.0813544353787",
          "970.0813544353787",
          "970.0813544353787",
          "L",
          "L",
          "L",
          "L",
          "L",
          "L",
          "L",
          "L",
          "L",
          "L",
          "L",
          "L",
          "L",
          "L",
          "L",
          "L",
          "L",
          "L",
          "L",
          "L",
          "L",
          "L",
          "L",
          "L",
          "L",
          "L",
          "L",
          "L",
          "L",
          "L",
          "L",
          "L",
          "L",
          "L",
          "L",
          "L",
          "L",
          "L",
          "L",
          "L",
          "L",
          "L",
          "L",
          "L",
          "L",
          "L",
          "L",
          "L",
          "L",
          "L",
          "L",
          "L",
          "L",
          "L",
          "L",
          "L",
          "L",
          "L",
          "L",
          "L",
          "L",
          "L",
          "L",
          "L",
          "L",
          "L",
          "L",
          "L",
          "L",
          "L",
          "L",
          "L",
          "L",
          "L",
          "L",
          "L",
          "L",
          "L",
          "L",
          "L",
          "L",
          "L",
          "L",
          "L",
          "L",
          "L",
          "L",
          "L",
          "L",
          "L",
          "L",
          "L",
          "L",
          "L",
          "L",
          "L",
          "L",
          "L",
          "L",
          "L",
          "L",
          "L",
          "L",
          "L",
          "L",
          "L",
          "L",
          "L",
          "L",
          "L",
          "L",
          "L",
          "L",
          "L",
          "L",
          "L",
          "L",
          "L",
          "L",
          "L",
          "L",
          "L",
          "L",
          "L",
          "L",
          "L",
          "L",
          "L",
          "L",
          "L",
          "L",
          "L",
          "L",
          "L",
          "L",
          "L",
          "L",
          "L",
          "L",
          "L",
          "L",
          "L",
          "L",
          "L",
          "L",
          "L",
          "L",
          "L",
          "L",
          "L",
          "L",
          "L",
          "L",
          "L",
          "L",
          "L",
          "L",
          "L",
          "L",
          "L",
          "L",
          "L",
          "L",
          "L",
          "L",
          "L",
          "L",
          "L",
          "L",
          "L",
          "L",
          "L",
          "L",
          "L",
          "L",
          "L",
          "L",
          "L",
          "L",
          "L",
          "L",
          "L",
          "L",
          "L",
          "L",
          "L",
          "L",
          "L",
          "L",
          "L",
          "L",
          "L",
          "L",
          "L",
          "L",
          "L",
          "L",
          "L",
          "L",
          "L",
          "L",
          "L",
          "L",
          "L",
          "L",
          "L",
          "L",
          "L",
          "L",
          "L",
          "L",
          "L",
          "L",
          "L",
          "L"
         ],
         "yaxis": "y"
        },
        {
         "hovertemplate": "pnr=%{x}<br>delay=%{y}<extra></extra>",
         "legendgroup": "",
         "marker": {
          "color": "#636efa",
          "symbol": "circle"
         },
         "mode": "markers",
         "name": "",
         "orientation": "v",
         "showlegend": false,
         "type": "scatter",
         "x": [
          "XVCQ73",
          "ELTK72",
          "ELES76",
          "DQVZ74",
          "ADCH37",
          "HVFP61",
          "CIDM82",
          "LAZY29",
          "NBLR72",
          "JSOP84",
          "VZYV16",
          "SHSG52",
          "VNJL91",
          "PYKY47",
          "VRTK46",
          "YPRL90",
          "YVAG67",
          "PLQB19",
          "CGMX55",
          "OSUE50",
          "GRYG45",
          "TXVU12",
          "CJFG55",
          "NJPX66",
          "HRKK97",
          "MSNO65",
          "HHSD24",
          "MTKY90",
          "CZGN82",
          "IQCO42",
          "PUUA42",
          "COHT21",
          "OEQB41",
          "UCEV32",
          "CDMS24",
          "UNTY50",
          "JTSI96",
          "WJFY37",
          "YYSA99",
          "KCQQ68",
          "HBDM25",
          "VEFY39",
          "YEQZ86",
          "UXAS88",
          "FBGT91",
          "YFXR19",
          "FNON77",
          "VKIF54",
          "URTD46",
          "IXZJ80",
          "VDDA36",
          "NEOL38",
          "VNSB37",
          "DWRK59",
          "YWUG56",
          "BFRO63",
          "ZJHG87",
          "DFIE34",
          "NCGK60",
          "TBYG80",
          "YJLZ64",
          "FKYE25",
          "UEFQ82",
          "JQTS12",
          "JGML71",
          "QVQI21",
          "FELL42",
          "YZPW46",
          "LTOP61",
          "WNHW64",
          "BTKY58",
          "EUTS74",
          "LLEF53",
          "HVQI51",
          "ZTLP21",
          "QVZR28",
          "MBSM82",
          "AKKC40",
          "DBRI80",
          "EUBB46",
          "LABW39",
          "QXPI96",
          "IIND68",
          "KJZW13",
          "XJLH35",
          "VEJG80",
          "ITBC65",
          "HUKX32",
          "YGXX40",
          "MHXK85",
          "FQOX52",
          "SLWF58",
          "ERTF56",
          "UKYC18",
          "YPQM28",
          "FNQP86",
          "HPZP14",
          "XFNO62",
          "MZBS30",
          "UJTN27",
          "XUJW57",
          "OVGT73",
          "DSVM73",
          "KZMX40",
          "MLHN86",
          "CBJS81",
          "CLPY88",
          "XEUB20",
          "BHTJ96",
          "WXNR77",
          "SZQS66",
          "NFPD22",
          "RJLR15",
          "HBVI25",
          "BWHE51",
          "EWOA44",
          "NOTC40",
          "CNKT67",
          "NPYR39",
          "GVVD60",
          "RHKC58",
          "NGDC92",
          "HIGU55",
          "DNHG88",
          "IZYT94",
          "FMMN51",
          "PAON66",
          "SBED48",
          "LBBF92",
          "MSZL95",
          "GJBD30",
          "NVCA93",
          "YNVH98",
          "CWMG83",
          "QTMO12",
          "NFTL30",
          "YMPM85",
          "SYWD80",
          "MDMH38",
          "ADNY69",
          "GMDF29",
          "JDAQ43",
          "TAFO80",
          "RMNS44",
          "SPLX71",
          "VBEI50",
          "LEEB66",
          "VJXW66",
          "IISW62",
          "ARVN27",
          "JNPB82",
          "VDVN10",
          "PEFW32",
          "TNCT92",
          "HGJV99",
          "NBIC95",
          "EWON83",
          "SRON53",
          "ALAX84",
          "RSIM44",
          "CFPB37",
          "BQTB82",
          "ZHEV67",
          "JFFJ40",
          "QIYI53",
          "HNRJ86",
          "JDXT39",
          "LVCF80",
          "IAFE92",
          "GECZ65",
          "GWZT84",
          "KVEF56",
          "WVNN63",
          "OBNN66",
          "MMDF31",
          "AROQ67",
          "YYFD12",
          "GSDB28",
          "TTZS56",
          "KWFB47",
          "PTUY96",
          "XLKI20",
          "NADC75",
          "HPAH52",
          "GCQO47",
          "QKFL16",
          "QJNK58",
          "OCZA55",
          "WJXU73",
          "HSWI28",
          "PCXW92",
          "ISPE89",
          "KFTY31",
          "GOVS59",
          "WGNQ78",
          "YWFS71",
          "NKMQ66",
          "IYTB69",
          "YVPJ82",
          "THRW51",
          "JNZQ22",
          "LSOQ56",
          "JASH81",
          "MGHI53",
          "BQTI44",
          "HVYQ50",
          "VCBE94",
          "TDMB51",
          "PJSW75",
          "ASVC73",
          "XSTW93",
          "RXOE67",
          "ZNZN28",
          "VYLL99",
          "PCMV31",
          "FBXP28",
          "WDLY71",
          "DWGT72",
          "QYGB61",
          "XWHL99",
          "RMZJ88",
          "ATIE88",
          "BGEG92",
          "SPXR29",
          "BKLR94",
          "LESF66",
          "SROP81",
          "ROQR61",
          "QITU67",
          "QJDE49",
          "TWMV60",
          "DUIE61",
          "FMQN78",
          "KQWR50",
          "IBTM27",
          "PXBU41",
          "FNGR35",
          "ALHS41",
          "DBFZ64",
          "EPAQ16",
          "UQDG53",
          "XABE41",
          "SBTM18",
          "QFQU21",
          "CWNP76",
          "LUER90",
          "ROMJ23",
          "OSOJ58",
          "EVAK73",
          "AOAY42",
          "VBQJ24",
          "ACKK33",
          "MJCQ77",
          "FAEK13",
          "WRFX66",
          "TGLA19",
          "XBAR37",
          "SDPS98",
          "ESNZ73",
          "KDKQ63",
          "TXCF52",
          "HANJ53",
          "ZWKV35",
          "PESX80",
          "SEDO49",
          "WBDR45",
          "ANGJ31",
          "IMRP11",
          "ENTR65",
          "IKXG12",
          "WQYF77",
          "FTGB88",
          "GYIO26",
          "GBEV32",
          "NABH75",
          "OJJD32",
          "HLWQ69",
          "KUDS27",
          "KNDJ88",
          "OMYB89",
          "PYHP39",
          "GOQY43",
          "ZLEF86",
          "MFWE70",
          "GUAU64",
          "QDUN60",
          "WETV31",
          "ZXWU97",
          "OSXT48",
          "YYZK76",
          "TAFR87",
          "RNKT66",
          "MBAM17",
          "VGAM26",
          "VJCQ14",
          "KJBW36",
          "RWUR57",
          "HGQV61",
          "PTDC81",
          "MAKS27",
          "TAIZ87",
          "EJKT27",
          "FSNQ98",
          "ORUR32",
          "BLUG39",
          "SDON87",
          "QPYJ53",
          "PQUB72",
          "LLIH12",
          "RNHC46",
          "QMQZ86",
          "MPMX64",
          "ULFL16",
          "TOAW70",
          "EZBC54",
          "HNIU84",
          "MIAT30",
          "CVTF93",
          "JFFG88",
          "IGWJ82",
          "SIZM49",
          "TQME21",
          "GMHO31",
          "ZDHE28",
          "VLCB67",
          "GDLS51",
          "OFRV69",
          "MGXD95",
          "ZFIR69",
          "TFCZ84",
          "NQET33",
          "KYPS48",
          "RPKH30",
          "TQKO83",
          "MAKF53",
          "JKPY74",
          "CPKB55",
          "SKUA12",
          "EECE55",
          "ZTUQ49",
          "MWHA69",
          "UAMR95",
          "QJUH52",
          "WJMN79",
          "PEXT79",
          "OGUV31",
          "HDTU72",
          "LBDC93",
          "ZLFS69",
          "WDES82",
          "BMPL83",
          "MDXO87",
          "WUMO52",
          "MHGN40",
          "KVBJ89",
          "OJRQ64",
          "POBU85",
          "KJHI85",
          "XYRW70",
          "YEIQ10",
          "DZXA68",
          "ZTBI89",
          "PNNK58",
          "ZQHE32",
          "OXBM44",
          "QGKG60",
          "ZDCR88",
          "VWJG33",
          "LJQT67",
          "LFFG30",
          "IUHG90",
          "SRYJ83",
          "XNWT76",
          "LAZX16",
          "UDFV52",
          "LVHU92",
          "OIIX82",
          "CDHS51",
          "SFXB99",
          "FGRO78",
          "CVYZ12",
          "NJYP36",
          "UNCM41",
          "SAEN79",
          "QMOM17",
          "OZZY47",
          "WSLR16",
          "UMBY94",
          "KVAQ89",
          "IDYX76",
          "YGUC74",
          "PLJA16",
          "AXGK85",
          "QRUC80",
          "FKHH76",
          "NXIE96",
          "STJC26",
          "GLZH70",
          "MQVH27",
          "SKOF68",
          "SDUJ66",
          "FKUZ11",
          "LNTU75",
          "GTZG73",
          "VUFI57",
          "YKRW85",
          "YCFY20",
          "ENMX14",
          "REVI55",
          "VBFE55",
          "BVGP53",
          "MJGC88",
          "ZKHV21",
          "NZDT59",
          "XEKG81",
          "EVXJ95",
          "PSCH51",
          "CIYF30",
          "LERB88",
          "SSRY96",
          "BHFM82",
          "SHKX32",
          "KUCS34",
          "GVTW47",
          "OHAQ57",
          "PSRW66",
          "GVJX51",
          "ZNWD27",
          "DJIQ49",
          "CRAX19",
          "DVFE61",
          "FRDT60",
          "WFRB77",
          "NQXC83",
          "EZJQ34",
          "HFRI32",
          "VFDB97",
          "NGQJ46",
          "MGVZ29",
          "CIVJ43",
          "EPTO88",
          "XTNH59",
          "KMJT64",
          "EUBR62",
          "DEWR55",
          "YADJ50",
          "FYSX16",
          "VOVU55",
          "IAPJ59",
          "ETIV54",
          "DYRK47",
          "NZLG27",
          "CWZX77",
          "IUUO84",
          "YGII83",
          "VLIQ18",
          "OIOG94",
          "UGGT20",
          "ZHYQ58",
          "YQQS17",
          "IABG33",
          "CGIO61",
          "ERAY33",
          "KZGI84",
          "CQAZ15",
          "SYJU33",
          "NKAG77",
          "ZXAS14",
          "DCNF10",
          "JXBM73",
          "GTCV95",
          "YWLE82",
          "QSYZ21",
          "GKEX23",
          "VAXI35",
          "SYWZ82",
          "BNUI96",
          "LEMX32",
          "OUMP14",
          "DGWC65",
          "TLEF33",
          "HIQR56",
          "UXJB75",
          "DXGB32",
          "MKEC26",
          "EEAM43",
          "CSSK72",
          "QQQO76",
          "ZJJW20",
          "LTPM72",
          "MMUU86",
          "RGIO83",
          "JCQH28",
          "HHBZ71"
         ],
         "xaxis": "x",
         "y": [
          9.016666666666667,
          9.016666666666667,
          9.016666666666667,
          9.016666666666667,
          9.016666666666667,
          9.016666666666667,
          9.016666666666667,
          9.016666666666667,
          9.016666666666667,
          9.016666666666667,
          9.016666666666667,
          60.916666666666664,
          60.916666666666664,
          60.916666666666664,
          60.916666666666664,
          7.65,
          7.65,
          7.65,
          7.65,
          70.58333333333333,
          70.58333333333333,
          70.58333333333333,
          70.58333333333333,
          70.58333333333333,
          70.58333333333333,
          70.58333333333333,
          70.58333333333333,
          70.58333333333333,
          70.58333333333333,
          70.58333333333333,
          70.58333333333333,
          70.58333333333333,
          70.58333333333333,
          70.58333333333333,
          70.58333333333333,
          70.58333333333333,
          28.233333333333334,
          28.233333333333334,
          28.233333333333334,
          28.233333333333334,
          28.233333333333334,
          -1.8666666666666667,
          -1.8666666666666667,
          -1.8666666666666667,
          -1.8666666666666667,
          -1.8666666666666667,
          56.15,
          47.68333333333333,
          47.68333333333333,
          48.78333333333333,
          48.78333333333333,
          38.083333333333336,
          38.083333333333336,
          38.083333333333336,
          38.083333333333336,
          38.083333333333336,
          38.083333333333336,
          38.083333333333336,
          38.083333333333336,
          38.083333333333336,
          38.083333333333336,
          38.083333333333336,
          38.083333333333336,
          38.083333333333336,
          38.083333333333336,
          57.2,
          24.783333333333335,
          24.783333333333335,
          6.416666666666667,
          6.416666666666667,
          6.416666666666667,
          6.416666666666667,
          6.416666666666667,
          6.416666666666667,
          6.416666666666667,
          6.416666666666667,
          30.966666666666665,
          30.966666666666665,
          30.966666666666665,
          30.966666666666665,
          30.966666666666665,
          30.966666666666665,
          30.966666666666665,
          30.966666666666665,
          30.966666666666665,
          28.266666666666666,
          28.266666666666666,
          28.266666666666666,
          28.266666666666666,
          28.266666666666666,
          28.266666666666666,
          28.266666666666666,
          28.266666666666666,
          28.266666666666666,
          28.266666666666666,
          28.266666666666666,
          28.266666666666666,
          57.2,
          57.2,
          60.583333333333336,
          60.583333333333336,
          52.266666666666666,
          52.266666666666666,
          52.266666666666666,
          52.266666666666666,
          52.266666666666666,
          52.266666666666666,
          52.266666666666666,
          52.266666666666666,
          52.266666666666666,
          52.266666666666666,
          52.266666666666666,
          52.266666666666666,
          52.266666666666666,
          52.266666666666666,
          52.266666666666666,
          51.06666666666667,
          51.06666666666667,
          51.06666666666667,
          36.583333333333336,
          36.583333333333336,
          36.583333333333336,
          36.583333333333336,
          36.583333333333336,
          36.583333333333336,
          36.583333333333336,
          36.583333333333336,
          36.583333333333336,
          52.68333333333333,
          52.68333333333333,
          52.68333333333333,
          52.68333333333333,
          52.68333333333333,
          52.68333333333333,
          48.78333333333333,
          70.33333333333333,
          70.33333333333333,
          70.33333333333333,
          70.33333333333333,
          40.68333333333333,
          40.68333333333333,
          40.68333333333333,
          40.68333333333333,
          40.68333333333333,
          48.78333333333333,
          48.78333333333333,
          48.78333333333333,
          48.78333333333333,
          48.78333333333333,
          48.78333333333333,
          48.78333333333333,
          48.78333333333333,
          48.78333333333333,
          66.33333333333333,
          66.33333333333333,
          52.88333333333333,
          24.783333333333335,
          24.783333333333335,
          24.783333333333335,
          24.783333333333335,
          24.783333333333335,
          24.783333333333335,
          24.783333333333335,
          24.783333333333335,
          24.783333333333335,
          24.783333333333335,
          24.783333333333335,
          24.783333333333335,
          24.783333333333335,
          48.78333333333333,
          52.68333333333333,
          50.43333333333333,
          50.43333333333333,
          60,
          60,
          60,
          60,
          60,
          60,
          60,
          60,
          60,
          60,
          60,
          57.1,
          57.1,
          57.1,
          57.1,
          57.1,
          61.65,
          61.65,
          61.65,
          19.866666666666667,
          19.866666666666667,
          19.866666666666667,
          19.866666666666667,
          19.866666666666667,
          6.3,
          6.3,
          6.3,
          6.3,
          6.3,
          6.3,
          6.3,
          24.783333333333335,
          24.783333333333335,
          24.783333333333335,
          34.1,
          34.1,
          34.1,
          34.1,
          34.1,
          34.1,
          34.1,
          34.1,
          34.1,
          34.1,
          34.1,
          34.1,
          34.1,
          34.1,
          34.1,
          34.1,
          34.1,
          33.916666666666664,
          33.916666666666664,
          33.916666666666664,
          33.916666666666664,
          33.916666666666664,
          33.916666666666664,
          33.916666666666664,
          33.916666666666664,
          33.916666666666664,
          33.916666666666664,
          33.916666666666664,
          33.916666666666664,
          33.916666666666664,
          33.916666666666664,
          33.916666666666664,
          33.916666666666664,
          33.916666666666664,
          33.916666666666664,
          33.916666666666664,
          52.266666666666666,
          52.266666666666666,
          60,
          60,
          60,
          60,
          60,
          43.5,
          43.5,
          43.5,
          43.5,
          43.5,
          43.5,
          43.5,
          30.966666666666665,
          30.966666666666665,
          30.966666666666665,
          30.966666666666665,
          30.966666666666665,
          30.966666666666665,
          30.966666666666665,
          30.966666666666665,
          30.966666666666665,
          30.966666666666665,
          60,
          60,
          60,
          60,
          60,
          57.1,
          57.1,
          57.1,
          57.1,
          18.766666666666666,
          18.766666666666666,
          18.766666666666666,
          null,
          null,
          null,
          null,
          null,
          null,
          null,
          null,
          null,
          null,
          null,
          null,
          null,
          null,
          null,
          null,
          null,
          null,
          null,
          null,
          null,
          null,
          null,
          null,
          null,
          null,
          null,
          null,
          null,
          null,
          null,
          null,
          null,
          null,
          null,
          null,
          null,
          null,
          null,
          null,
          null,
          null,
          null,
          null,
          null,
          null,
          null,
          null,
          null,
          null,
          null,
          null,
          null,
          null,
          null,
          null,
          null,
          null,
          null,
          null,
          null,
          null,
          null,
          null,
          null,
          null,
          null,
          null,
          null,
          null,
          null,
          null,
          null,
          null,
          null,
          null,
          null,
          null,
          null,
          null,
          null,
          null,
          null,
          null,
          null,
          null,
          null,
          null,
          null,
          null,
          null,
          null,
          null,
          null,
          null,
          null,
          null,
          null,
          null,
          null,
          null,
          null,
          null,
          null,
          null,
          null,
          null,
          null,
          null,
          null,
          null,
          null,
          null,
          null,
          null,
          null,
          null,
          null,
          null,
          null,
          null,
          null,
          null,
          null,
          null,
          null,
          null,
          null,
          null,
          null,
          null,
          null,
          null,
          null,
          null,
          null,
          null,
          null,
          null,
          null,
          null,
          null,
          null,
          null,
          null,
          null,
          null,
          null,
          null,
          null,
          null,
          null,
          null,
          null,
          null,
          null,
          null,
          null,
          null,
          null,
          null,
          null,
          null,
          null,
          null,
          null,
          null,
          null,
          null,
          null,
          null,
          null,
          null,
          null,
          null,
          null,
          null,
          null,
          null,
          null,
          null,
          null,
          null,
          null,
          null,
          null,
          null,
          null,
          null,
          null,
          null,
          null,
          null,
          null,
          null,
          null,
          null,
          null,
          null,
          null,
          null,
          null,
          null,
          null,
          null,
          null,
          null,
          null,
          null,
          null,
          null,
          null,
          null,
          null,
          null
         ],
         "yaxis": "y"
        },
        {
         "hovertemplate": "pnr=%{x}<br>delay=%{y}<extra></extra>",
         "legendgroup": "",
         "marker": {
          "color": "#636efa",
          "symbol": "circle"
         },
         "mode": "markers",
         "name": "",
         "orientation": "v",
         "showlegend": false,
         "type": "scatter",
         "x": [
          "XVCQ73",
          "ELTK72",
          "ELES76",
          "DQVZ74",
          "ADCH37",
          "HVFP61",
          "CIDM82",
          "LAZY29",
          "NBLR72",
          "JSOP84",
          "VZYV16",
          "SHSG52",
          "VNJL91",
          "PYKY47",
          "VRTK46",
          "YPRL90",
          "YVAG67",
          "PLQB19",
          "CGMX55",
          "OSUE50",
          "GRYG45",
          "TXVU12",
          "CJFG55",
          "NJPX66",
          "HRKK97",
          "MSNO65",
          "HHSD24",
          "MTKY90",
          "CZGN82",
          "IQCO42",
          "PUUA42",
          "COHT21",
          "OEQB41",
          "UCEV32",
          "CDMS24",
          "UNTY50",
          "JTSI96",
          "WJFY37",
          "YYSA99",
          "KCQQ68",
          "HBDM25",
          "VEFY39",
          "YEQZ86",
          "UXAS88",
          "FBGT91",
          "YFXR19",
          "FNON77",
          "VKIF54",
          "URTD46",
          "IXZJ80",
          "VDDA36",
          "NEOL38",
          "VNSB37",
          "DWRK59",
          "YWUG56",
          "BFRO63",
          "ZJHG87",
          "DFIE34",
          "NCGK60",
          "TBYG80",
          "YJLZ64",
          "FKYE25",
          "UEFQ82",
          "JQTS12",
          "JGML71",
          "QVQI21",
          "FELL42",
          "YZPW46",
          "LTOP61",
          "WNHW64",
          "BTKY58",
          "EUTS74",
          "LLEF53",
          "HVQI51",
          "ZTLP21",
          "QVZR28",
          "MBSM82",
          "AKKC40",
          "DBRI80",
          "EUBB46",
          "LABW39",
          "QXPI96",
          "IIND68",
          "KJZW13",
          "XJLH35",
          "VEJG80",
          "ITBC65",
          "HUKX32",
          "YGXX40",
          "MHXK85",
          "FQOX52",
          "SLWF58",
          "ERTF56",
          "UKYC18",
          "YPQM28",
          "FNQP86",
          "HPZP14",
          "XFNO62",
          "MZBS30",
          "UJTN27",
          "XUJW57",
          "OVGT73",
          "DSVM73",
          "KZMX40",
          "MLHN86",
          "CBJS81",
          "CLPY88",
          "XEUB20",
          "BHTJ96",
          "WXNR77",
          "SZQS66",
          "NFPD22",
          "RJLR15",
          "HBVI25",
          "BWHE51",
          "EWOA44",
          "NOTC40",
          "CNKT67",
          "NPYR39",
          "GVVD60",
          "RHKC58",
          "NGDC92",
          "HIGU55",
          "DNHG88",
          "IZYT94",
          "FMMN51",
          "PAON66",
          "SBED48",
          "LBBF92",
          "MSZL95",
          "GJBD30",
          "NVCA93",
          "YNVH98",
          "CWMG83",
          "QTMO12",
          "NFTL30",
          "YMPM85",
          "SYWD80",
          "MDMH38",
          "ADNY69",
          "GMDF29",
          "JDAQ43",
          "TAFO80",
          "RMNS44",
          "SPLX71",
          "VBEI50",
          "LEEB66",
          "VJXW66",
          "IISW62",
          "ARVN27",
          "JNPB82",
          "VDVN10",
          "PEFW32",
          "TNCT92",
          "HGJV99",
          "NBIC95",
          "EWON83",
          "SRON53",
          "ALAX84",
          "RSIM44",
          "CFPB37",
          "BQTB82",
          "ZHEV67",
          "JFFJ40",
          "QIYI53",
          "HNRJ86",
          "JDXT39",
          "LVCF80",
          "IAFE92",
          "GECZ65",
          "GWZT84",
          "KVEF56",
          "WVNN63",
          "OBNN66",
          "MMDF31",
          "AROQ67",
          "YYFD12",
          "GSDB28",
          "TTZS56",
          "KWFB47",
          "PTUY96",
          "XLKI20",
          "NADC75",
          "HPAH52",
          "GCQO47",
          "QKFL16",
          "QJNK58",
          "OCZA55",
          "WJXU73",
          "HSWI28",
          "PCXW92",
          "ISPE89",
          "KFTY31",
          "GOVS59",
          "WGNQ78",
          "YWFS71",
          "NKMQ66",
          "IYTB69",
          "YVPJ82",
          "THRW51",
          "JNZQ22",
          "LSOQ56",
          "JASH81",
          "MGHI53",
          "BQTI44",
          "HVYQ50",
          "VCBE94",
          "TDMB51",
          "PJSW75",
          "ASVC73",
          "XSTW93",
          "RXOE67",
          "ZNZN28",
          "VYLL99",
          "PCMV31",
          "FBXP28",
          "WDLY71",
          "DWGT72",
          "QYGB61",
          "XWHL99",
          "RMZJ88",
          "ATIE88",
          "BGEG92",
          "SPXR29",
          "BKLR94",
          "LESF66",
          "SROP81",
          "ROQR61",
          "QITU67",
          "QJDE49",
          "TWMV60",
          "DUIE61",
          "FMQN78",
          "KQWR50",
          "IBTM27",
          "PXBU41",
          "FNGR35",
          "ALHS41",
          "DBFZ64",
          "EPAQ16",
          "UQDG53",
          "XABE41",
          "SBTM18",
          "QFQU21",
          "CWNP76",
          "LUER90",
          "ROMJ23",
          "OSOJ58",
          "EVAK73",
          "AOAY42",
          "VBQJ24",
          "ACKK33",
          "MJCQ77",
          "FAEK13",
          "WRFX66",
          "TGLA19",
          "XBAR37",
          "SDPS98",
          "ESNZ73",
          "KDKQ63",
          "TXCF52",
          "HANJ53",
          "ZWKV35",
          "PESX80",
          "SEDO49",
          "WBDR45",
          "ANGJ31",
          "IMRP11",
          "ENTR65",
          "IKXG12",
          "WQYF77",
          "FTGB88",
          "GYIO26",
          "GBEV32",
          "NABH75",
          "OJJD32",
          "HLWQ69",
          "KUDS27",
          "KNDJ88",
          "OMYB89",
          "PYHP39",
          "GOQY43",
          "ZLEF86",
          "MFWE70",
          "GUAU64",
          "QDUN60",
          "WETV31",
          "ZXWU97",
          "OSXT48",
          "YYZK76",
          "TAFR87",
          "RNKT66",
          "MBAM17",
          "VGAM26",
          "VJCQ14",
          "KJBW36",
          "RWUR57",
          "HGQV61",
          "PTDC81",
          "MAKS27",
          "TAIZ87",
          "EJKT27",
          "FSNQ98",
          "ORUR32",
          "BLUG39",
          "SDON87",
          "QPYJ53",
          "PQUB72",
          "LLIH12",
          "RNHC46",
          "QMQZ86",
          "MPMX64",
          "ULFL16",
          "TOAW70",
          "EZBC54",
          "HNIU84",
          "MIAT30",
          "CVTF93",
          "JFFG88",
          "IGWJ82",
          "SIZM49",
          "TQME21",
          "GMHO31",
          "ZDHE28",
          "VLCB67",
          "GDLS51",
          "OFRV69",
          "MGXD95",
          "ZFIR69",
          "TFCZ84",
          "NQET33",
          "KYPS48",
          "RPKH30",
          "TQKO83",
          "MAKF53",
          "JKPY74",
          "CPKB55",
          "SKUA12",
          "EECE55",
          "ZTUQ49",
          "MWHA69",
          "UAMR95",
          "QJUH52",
          "WJMN79",
          "PEXT79",
          "OGUV31",
          "HDTU72",
          "LBDC93",
          "ZLFS69",
          "WDES82",
          "BMPL83",
          "MDXO87",
          "WUMO52",
          "MHGN40",
          "KVBJ89",
          "OJRQ64",
          "POBU85",
          "KJHI85",
          "XYRW70",
          "YEIQ10",
          "DZXA68",
          "ZTBI89",
          "PNNK58",
          "ZQHE32",
          "OXBM44",
          "QGKG60",
          "ZDCR88",
          "VWJG33",
          "LJQT67",
          "LFFG30",
          "IUHG90",
          "SRYJ83",
          "XNWT76",
          "LAZX16",
          "UDFV52",
          "LVHU92",
          "OIIX82",
          "CDHS51",
          "SFXB99",
          "FGRO78",
          "CVYZ12",
          "NJYP36",
          "UNCM41",
          "SAEN79",
          "QMOM17",
          "OZZY47",
          "WSLR16",
          "UMBY94",
          "KVAQ89",
          "IDYX76",
          "YGUC74",
          "PLJA16",
          "AXGK85",
          "QRUC80",
          "FKHH76",
          "NXIE96",
          "STJC26",
          "GLZH70",
          "MQVH27",
          "SKOF68",
          "SDUJ66",
          "FKUZ11",
          "LNTU75",
          "GTZG73",
          "VUFI57",
          "YKRW85",
          "YCFY20",
          "ENMX14",
          "REVI55",
          "VBFE55",
          "BVGP53",
          "MJGC88",
          "ZKHV21",
          "NZDT59",
          "XEKG81",
          "EVXJ95",
          "PSCH51",
          "CIYF30",
          "LERB88",
          "SSRY96",
          "BHFM82",
          "SHKX32",
          "KUCS34",
          "GVTW47",
          "OHAQ57",
          "PSRW66",
          "GVJX51",
          "ZNWD27",
          "DJIQ49",
          "CRAX19",
          "DVFE61",
          "FRDT60",
          "WFRB77",
          "NQXC83",
          "EZJQ34",
          "HFRI32",
          "VFDB97",
          "NGQJ46",
          "MGVZ29",
          "CIVJ43",
          "EPTO88",
          "XTNH59",
          "KMJT64",
          "EUBR62",
          "DEWR55",
          "YADJ50",
          "FYSX16",
          "VOVU55",
          "IAPJ59",
          "ETIV54",
          "DYRK47",
          "NZLG27",
          "CWZX77",
          "IUUO84",
          "YGII83",
          "VLIQ18",
          "OIOG94",
          "UGGT20",
          "ZHYQ58",
          "YQQS17",
          "IABG33",
          "CGIO61",
          "ERAY33",
          "KZGI84",
          "CQAZ15",
          "SYJU33",
          "NKAG77",
          "ZXAS14",
          "DCNF10",
          "JXBM73",
          "GTCV95",
          "YWLE82",
          "QSYZ21",
          "GKEX23",
          "VAXI35",
          "SYWZ82",
          "BNUI96",
          "LEMX32",
          "OUMP14",
          "DGWC65",
          "TLEF33",
          "HIQR56",
          "UXJB75",
          "DXGB32",
          "MKEC26",
          "EEAM43",
          "CSSK72",
          "QQQO76",
          "ZJJW20",
          "LTPM72",
          "MMUU86",
          "RGIO83",
          "JCQH28",
          "HHBZ71"
         ],
         "xaxis": "x2",
         "y": [
          9.016666666666667,
          9.016666666666667,
          9.016666666666667,
          9.016666666666667,
          9.016666666666667,
          9.016666666666667,
          9.016666666666667,
          9.016666666666667,
          9.016666666666667,
          9.016666666666667,
          9.016666666666667,
          60.916666666666664,
          60.916666666666664,
          60.916666666666664,
          60.916666666666664,
          7.65,
          7.65,
          7.65,
          7.65,
          70.58333333333333,
          70.58333333333333,
          70.58333333333333,
          70.58333333333333,
          70.58333333333333,
          70.58333333333333,
          70.58333333333333,
          70.58333333333333,
          70.58333333333333,
          70.58333333333333,
          70.58333333333333,
          70.58333333333333,
          70.58333333333333,
          70.58333333333333,
          70.58333333333333,
          70.58333333333333,
          70.58333333333333,
          28.233333333333334,
          28.233333333333334,
          28.233333333333334,
          28.233333333333334,
          28.233333333333334,
          -1.8666666666666667,
          -1.8666666666666667,
          -1.8666666666666667,
          -1.8666666666666667,
          -1.8666666666666667,
          56.15,
          47.68333333333333,
          47.68333333333333,
          48.78333333333333,
          48.78333333333333,
          38.083333333333336,
          38.083333333333336,
          38.083333333333336,
          38.083333333333336,
          38.083333333333336,
          38.083333333333336,
          38.083333333333336,
          38.083333333333336,
          38.083333333333336,
          38.083333333333336,
          38.083333333333336,
          38.083333333333336,
          38.083333333333336,
          38.083333333333336,
          57.2,
          24.783333333333335,
          24.783333333333335,
          6.416666666666667,
          6.416666666666667,
          6.416666666666667,
          6.416666666666667,
          6.416666666666667,
          6.416666666666667,
          6.416666666666667,
          6.416666666666667,
          30.966666666666665,
          30.966666666666665,
          30.966666666666665,
          30.966666666666665,
          30.966666666666665,
          30.966666666666665,
          30.966666666666665,
          30.966666666666665,
          30.966666666666665,
          28.266666666666666,
          28.266666666666666,
          28.266666666666666,
          28.266666666666666,
          28.266666666666666,
          28.266666666666666,
          28.266666666666666,
          28.266666666666666,
          28.266666666666666,
          28.266666666666666,
          28.266666666666666,
          28.266666666666666,
          57.2,
          57.2,
          60.583333333333336,
          60.583333333333336,
          52.266666666666666,
          52.266666666666666,
          52.266666666666666,
          52.266666666666666,
          52.266666666666666,
          52.266666666666666,
          52.266666666666666,
          52.266666666666666,
          52.266666666666666,
          52.266666666666666,
          52.266666666666666,
          52.266666666666666,
          52.266666666666666,
          52.266666666666666,
          52.266666666666666,
          51.06666666666667,
          51.06666666666667,
          51.06666666666667,
          36.583333333333336,
          36.583333333333336,
          36.583333333333336,
          36.583333333333336,
          36.583333333333336,
          36.583333333333336,
          36.583333333333336,
          36.583333333333336,
          36.583333333333336,
          52.68333333333333,
          52.68333333333333,
          52.68333333333333,
          52.68333333333333,
          52.68333333333333,
          52.68333333333333,
          48.78333333333333,
          70.33333333333333,
          70.33333333333333,
          70.33333333333333,
          70.33333333333333,
          40.68333333333333,
          40.68333333333333,
          40.68333333333333,
          40.68333333333333,
          40.68333333333333,
          48.78333333333333,
          48.78333333333333,
          48.78333333333333,
          48.78333333333333,
          48.78333333333333,
          48.78333333333333,
          48.78333333333333,
          48.78333333333333,
          48.78333333333333,
          66.33333333333333,
          66.33333333333333,
          52.88333333333333,
          24.783333333333335,
          24.783333333333335,
          24.783333333333335,
          24.783333333333335,
          24.783333333333335,
          24.783333333333335,
          24.783333333333335,
          24.783333333333335,
          24.783333333333335,
          24.783333333333335,
          24.783333333333335,
          24.783333333333335,
          24.783333333333335,
          48.78333333333333,
          52.68333333333333,
          50.43333333333333,
          50.43333333333333,
          60,
          60,
          60,
          60,
          60,
          60,
          60,
          60,
          60,
          60,
          60,
          57.1,
          57.1,
          57.1,
          57.1,
          57.1,
          61.65,
          61.65,
          61.65,
          19.866666666666667,
          19.866666666666667,
          19.866666666666667,
          19.866666666666667,
          19.866666666666667,
          6.3,
          6.3,
          6.3,
          6.3,
          6.3,
          6.3,
          6.3,
          24.783333333333335,
          24.783333333333335,
          24.783333333333335,
          34.1,
          34.1,
          34.1,
          34.1,
          34.1,
          34.1,
          34.1,
          34.1,
          34.1,
          34.1,
          34.1,
          34.1,
          34.1,
          34.1,
          34.1,
          34.1,
          34.1,
          33.916666666666664,
          33.916666666666664,
          33.916666666666664,
          33.916666666666664,
          33.916666666666664,
          33.916666666666664,
          33.916666666666664,
          33.916666666666664,
          33.916666666666664,
          33.916666666666664,
          33.916666666666664,
          33.916666666666664,
          33.916666666666664,
          33.916666666666664,
          33.916666666666664,
          33.916666666666664,
          33.916666666666664,
          33.916666666666664,
          33.916666666666664,
          52.266666666666666,
          52.266666666666666,
          60,
          60,
          60,
          60,
          60,
          43.5,
          43.5,
          43.5,
          43.5,
          43.5,
          43.5,
          43.5,
          30.966666666666665,
          30.966666666666665,
          30.966666666666665,
          30.966666666666665,
          30.966666666666665,
          30.966666666666665,
          30.966666666666665,
          30.966666666666665,
          30.966666666666665,
          30.966666666666665,
          60,
          60,
          60,
          60,
          60,
          57.1,
          57.1,
          57.1,
          57.1,
          18.766666666666666,
          18.766666666666666,
          18.766666666666666,
          null,
          null,
          null,
          null,
          null,
          null,
          null,
          null,
          null,
          null,
          null,
          null,
          null,
          null,
          null,
          null,
          null,
          null,
          null,
          null,
          null,
          null,
          null,
          null,
          null,
          null,
          null,
          null,
          null,
          null,
          null,
          null,
          null,
          null,
          null,
          null,
          null,
          null,
          null,
          null,
          null,
          null,
          null,
          null,
          null,
          null,
          null,
          null,
          null,
          null,
          null,
          null,
          null,
          null,
          null,
          null,
          null,
          null,
          null,
          null,
          null,
          null,
          null,
          null,
          null,
          null,
          null,
          null,
          null,
          null,
          null,
          null,
          null,
          null,
          null,
          null,
          null,
          null,
          null,
          null,
          null,
          null,
          null,
          null,
          null,
          null,
          null,
          null,
          null,
          null,
          null,
          null,
          null,
          null,
          null,
          null,
          null,
          null,
          null,
          null,
          null,
          null,
          null,
          null,
          null,
          null,
          null,
          null,
          null,
          null,
          null,
          null,
          null,
          null,
          null,
          null,
          null,
          null,
          null,
          null,
          null,
          null,
          null,
          null,
          null,
          null,
          null,
          null,
          null,
          null,
          null,
          null,
          null,
          null,
          null,
          null,
          null,
          null,
          null,
          null,
          null,
          null,
          null,
          null,
          null,
          null,
          null,
          null,
          null,
          null,
          null,
          null,
          null,
          null,
          null,
          null,
          null,
          null,
          null,
          null,
          null,
          null,
          null,
          null,
          null,
          null,
          null,
          null,
          null,
          null,
          null,
          null,
          null,
          null,
          null,
          null,
          null,
          null,
          null,
          null,
          null,
          null,
          null,
          null,
          null,
          null,
          null,
          null,
          null,
          null,
          null,
          null,
          null,
          null,
          null,
          null,
          null,
          null,
          null,
          null,
          null,
          null,
          null,
          null,
          null,
          null,
          null,
          null,
          null,
          null,
          null,
          null,
          null,
          null,
          null
         ],
         "yaxis": "y2"
        },
        {
         "alignmentgroup": "True",
         "hovertemplate": "pnr=%{x}<br>pnr_score=%{y}<extra></extra>",
         "legendgroup": "",
         "marker": {
          "color": "green",
          "pattern": {
           "shape": ""
          }
         },
         "name": "",
         "offsetgroup": "",
         "orientation": "v",
         "showlegend": false,
         "textposition": "auto",
         "type": "bar",
         "x": [
          "XVCQ73",
          "ELTK72",
          "ELES76",
          "DQVZ74",
          "ADCH37",
          "HVFP61",
          "CIDM82",
          "LAZY29",
          "NBLR72",
          "JSOP84",
          "VZYV16",
          "SHSG52",
          "VNJL91",
          "PYKY47",
          "VRTK46",
          "YPRL90",
          "YVAG67",
          "PLQB19",
          "CGMX55",
          "OSUE50",
          "GRYG45",
          "TXVU12",
          "CJFG55",
          "NJPX66",
          "HRKK97",
          "MSNO65",
          "HHSD24",
          "MTKY90",
          "CZGN82",
          "IQCO42",
          "PUUA42",
          "COHT21",
          "OEQB41",
          "UCEV32",
          "CDMS24",
          "UNTY50",
          "JTSI96",
          "WJFY37",
          "YYSA99",
          "KCQQ68",
          "HBDM25",
          "VEFY39",
          "YEQZ86",
          "UXAS88",
          "FBGT91",
          "YFXR19",
          "FNON77",
          "VKIF54",
          "URTD46",
          "IXZJ80",
          "VDDA36",
          "NEOL38",
          "VNSB37",
          "DWRK59",
          "YWUG56",
          "BFRO63",
          "ZJHG87",
          "DFIE34",
          "NCGK60",
          "TBYG80",
          "YJLZ64",
          "FKYE25",
          "UEFQ82",
          "JQTS12",
          "JGML71",
          "QVQI21",
          "FELL42",
          "YZPW46",
          "LTOP61",
          "WNHW64",
          "BTKY58",
          "EUTS74",
          "LLEF53",
          "HVQI51",
          "ZTLP21",
          "QVZR28",
          "MBSM82",
          "AKKC40",
          "DBRI80",
          "EUBB46",
          "LABW39",
          "QXPI96",
          "IIND68",
          "KJZW13",
          "XJLH35",
          "VEJG80",
          "ITBC65",
          "HUKX32",
          "YGXX40",
          "MHXK85",
          "FQOX52",
          "SLWF58",
          "ERTF56",
          "UKYC18",
          "YPQM28",
          "FNQP86",
          "HPZP14",
          "XFNO62",
          "MZBS30",
          "UJTN27",
          "XUJW57",
          "OVGT73",
          "DSVM73",
          "KZMX40",
          "MLHN86",
          "CBJS81",
          "CLPY88",
          "XEUB20",
          "BHTJ96",
          "WXNR77",
          "SZQS66",
          "NFPD22",
          "RJLR15",
          "HBVI25",
          "BWHE51",
          "EWOA44",
          "NOTC40",
          "CNKT67",
          "NPYR39",
          "GVVD60",
          "RHKC58",
          "NGDC92",
          "HIGU55",
          "DNHG88",
          "IZYT94",
          "FMMN51",
          "PAON66",
          "SBED48",
          "LBBF92",
          "MSZL95",
          "GJBD30",
          "NVCA93",
          "YNVH98",
          "CWMG83",
          "QTMO12",
          "NFTL30",
          "YMPM85",
          "SYWD80",
          "MDMH38",
          "ADNY69",
          "GMDF29",
          "JDAQ43",
          "TAFO80",
          "RMNS44",
          "SPLX71",
          "VBEI50",
          "LEEB66",
          "VJXW66",
          "IISW62",
          "ARVN27",
          "JNPB82",
          "VDVN10",
          "PEFW32",
          "TNCT92",
          "HGJV99",
          "NBIC95",
          "EWON83",
          "SRON53",
          "ALAX84",
          "RSIM44",
          "CFPB37",
          "BQTB82",
          "ZHEV67",
          "JFFJ40",
          "QIYI53",
          "HNRJ86",
          "JDXT39",
          "LVCF80",
          "IAFE92",
          "GECZ65",
          "GWZT84",
          "KVEF56",
          "WVNN63",
          "OBNN66",
          "MMDF31",
          "AROQ67",
          "YYFD12",
          "GSDB28",
          "TTZS56",
          "KWFB47",
          "PTUY96",
          "XLKI20",
          "NADC75",
          "HPAH52",
          "GCQO47",
          "QKFL16",
          "QJNK58",
          "OCZA55",
          "WJXU73",
          "HSWI28",
          "PCXW92",
          "ISPE89",
          "KFTY31",
          "GOVS59",
          "WGNQ78",
          "YWFS71",
          "NKMQ66",
          "IYTB69",
          "YVPJ82",
          "THRW51",
          "JNZQ22",
          "LSOQ56",
          "JASH81",
          "MGHI53",
          "BQTI44",
          "HVYQ50",
          "VCBE94",
          "TDMB51",
          "PJSW75",
          "ASVC73",
          "XSTW93",
          "RXOE67",
          "ZNZN28",
          "VYLL99",
          "PCMV31",
          "FBXP28",
          "WDLY71",
          "DWGT72",
          "QYGB61",
          "XWHL99",
          "RMZJ88",
          "ATIE88",
          "BGEG92",
          "SPXR29",
          "BKLR94",
          "LESF66",
          "SROP81",
          "ROQR61",
          "QITU67",
          "QJDE49",
          "TWMV60",
          "DUIE61",
          "FMQN78",
          "KQWR50",
          "IBTM27",
          "PXBU41",
          "FNGR35",
          "ALHS41",
          "DBFZ64",
          "EPAQ16",
          "UQDG53",
          "XABE41",
          "SBTM18",
          "QFQU21",
          "CWNP76",
          "LUER90",
          "ROMJ23",
          "OSOJ58",
          "EVAK73",
          "AOAY42",
          "VBQJ24",
          "ACKK33",
          "MJCQ77",
          "FAEK13",
          "WRFX66",
          "TGLA19",
          "XBAR37",
          "SDPS98",
          "ESNZ73",
          "KDKQ63",
          "TXCF52",
          "HANJ53",
          "ZWKV35",
          "PESX80",
          "SEDO49",
          "WBDR45",
          "ANGJ31",
          "IMRP11",
          "ENTR65",
          "IKXG12",
          "WQYF77",
          "FTGB88",
          "GYIO26",
          "GBEV32",
          "NABH75",
          "OJJD32",
          "HLWQ69",
          "KUDS27",
          "KNDJ88",
          "OMYB89",
          "PYHP39",
          "GOQY43",
          "ZLEF86",
          "MFWE70",
          "GUAU64",
          "QDUN60",
          "WETV31",
          "ZXWU97",
          "OSXT48",
          "YYZK76",
          "TAFR87",
          "RNKT66",
          "MBAM17",
          "VGAM26",
          "VJCQ14",
          "KJBW36",
          "RWUR57",
          "HGQV61",
          "PTDC81",
          "MAKS27",
          "TAIZ87",
          "EJKT27",
          "FSNQ98",
          "ORUR32",
          "BLUG39",
          "SDON87",
          "QPYJ53",
          "PQUB72",
          "LLIH12",
          "RNHC46",
          "QMQZ86",
          "MPMX64",
          "ULFL16",
          "TOAW70",
          "EZBC54",
          "HNIU84",
          "MIAT30",
          "CVTF93",
          "JFFG88",
          "IGWJ82",
          "SIZM49",
          "TQME21",
          "GMHO31",
          "ZDHE28",
          "VLCB67",
          "GDLS51",
          "OFRV69",
          "MGXD95",
          "ZFIR69",
          "TFCZ84",
          "NQET33",
          "KYPS48",
          "RPKH30",
          "TQKO83",
          "MAKF53",
          "JKPY74",
          "CPKB55",
          "SKUA12",
          "EECE55",
          "ZTUQ49",
          "MWHA69",
          "UAMR95",
          "QJUH52",
          "WJMN79",
          "PEXT79",
          "OGUV31",
          "HDTU72",
          "LBDC93",
          "ZLFS69",
          "WDES82",
          "BMPL83",
          "MDXO87",
          "WUMO52",
          "MHGN40",
          "KVBJ89",
          "OJRQ64",
          "POBU85",
          "KJHI85",
          "XYRW70",
          "YEIQ10",
          "DZXA68",
          "ZTBI89",
          "PNNK58",
          "ZQHE32",
          "OXBM44",
          "QGKG60",
          "ZDCR88",
          "VWJG33",
          "LJQT67",
          "LFFG30",
          "IUHG90",
          "SRYJ83",
          "XNWT76",
          "LAZX16",
          "UDFV52",
          "LVHU92",
          "OIIX82",
          "CDHS51",
          "SFXB99",
          "FGRO78",
          "CVYZ12",
          "NJYP36",
          "UNCM41",
          "SAEN79",
          "QMOM17",
          "OZZY47",
          "WSLR16",
          "UMBY94",
          "KVAQ89",
          "IDYX76",
          "YGUC74",
          "PLJA16",
          "AXGK85",
          "QRUC80",
          "FKHH76",
          "NXIE96",
          "STJC26",
          "GLZH70",
          "MQVH27",
          "SKOF68",
          "SDUJ66",
          "FKUZ11",
          "LNTU75",
          "GTZG73",
          "VUFI57",
          "YKRW85",
          "YCFY20",
          "ENMX14",
          "REVI55",
          "VBFE55",
          "BVGP53",
          "MJGC88",
          "ZKHV21",
          "NZDT59",
          "XEKG81",
          "EVXJ95",
          "PSCH51",
          "CIYF30",
          "LERB88",
          "SSRY96",
          "BHFM82",
          "SHKX32",
          "KUCS34",
          "GVTW47",
          "OHAQ57",
          "PSRW66",
          "GVJX51",
          "ZNWD27",
          "DJIQ49",
          "CRAX19",
          "DVFE61",
          "FRDT60",
          "WFRB77",
          "NQXC83",
          "EZJQ34",
          "HFRI32",
          "VFDB97",
          "NGQJ46",
          "MGVZ29",
          "CIVJ43",
          "EPTO88",
          "XTNH59",
          "KMJT64",
          "EUBR62",
          "DEWR55",
          "YADJ50",
          "FYSX16",
          "VOVU55",
          "IAPJ59",
          "ETIV54",
          "DYRK47",
          "NZLG27",
          "CWZX77",
          "IUUO84",
          "YGII83",
          "VLIQ18",
          "OIOG94",
          "UGGT20",
          "ZHYQ58",
          "YQQS17",
          "IABG33",
          "CGIO61",
          "ERAY33",
          "KZGI84",
          "CQAZ15",
          "SYJU33",
          "NKAG77",
          "ZXAS14",
          "DCNF10",
          "JXBM73",
          "GTCV95",
          "YWLE82",
          "QSYZ21",
          "GKEX23",
          "VAXI35",
          "SYWZ82",
          "BNUI96",
          "LEMX32",
          "OUMP14",
          "DGWC65",
          "TLEF33",
          "HIQR56",
          "UXJB75",
          "DXGB32",
          "MKEC26",
          "EEAM43",
          "CSSK72",
          "QQQO76",
          "ZJJW20",
          "LTPM72",
          "MMUU86",
          "RGIO83",
          "JCQH28",
          "HHBZ71"
         ],
         "xaxis": "x2",
         "y": [
          3100,
          4500,
          600,
          600,
          5000,
          5300,
          7100,
          6500,
          10100,
          10100,
          6600,
          6000,
          5000,
          6200,
          7000,
          6000,
          5500,
          5500,
          9200,
          13800,
          8600,
          13000,
          8600,
          12300,
          6600,
          5100,
          10100,
          11800,
          8000,
          3600,
          12100,
          5100,
          8700,
          1600,
          600,
          2500,
          3100,
          15500,
          10100,
          14600,
          9100,
          12000,
          4500,
          19600,
          16000,
          6600,
          1100,
          4500,
          3000,
          3500,
          15000,
          12100,
          10600,
          11300,
          7000,
          16100,
          16700,
          15100,
          9600,
          13700,
          14600,
          9100,
          9100,
          13800,
          13100,
          2500,
          11000,
          12000,
          1100,
          2600,
          1600,
          16800,
          14100,
          8100,
          7000,
          9000,
          5100,
          600,
          3100,
          8500,
          6500,
          5500,
          4100,
          5100,
          600,
          10300,
          9100,
          21500,
          6100,
          7100,
          6100,
          21700,
          13300,
          4100,
          12600,
          5100,
          12100,
          6000,
          5000,
          6000,
          2500,
          11500,
          2600,
          4500,
          4600,
          1600,
          4100,
          600,
          600,
          4100,
          11000,
          600,
          3600,
          2100,
          2600,
          3100,
          7300,
          12300,
          6600,
          7100,
          10600,
          15600,
          19500,
          17600,
          11100,
          9100,
          7100,
          4600,
          600,
          1600,
          10000,
          16100,
          8600,
          12600,
          8500,
          6600,
          5600,
          6100,
          16000,
          1100,
          8100,
          8100,
          8300,
          21500,
          18200,
          4500,
          4600,
          600,
          4600,
          4600,
          2600,
          3600,
          600,
          2500,
          5000,
          8000,
          2100,
          600,
          600,
          600,
          3600,
          6100,
          4100,
          3600,
          7100,
          3800,
          5500,
          16000,
          3100,
          7500,
          7000,
          13500,
          6000,
          1600,
          5100,
          4100,
          12000,
          2600,
          4100,
          3100,
          5600,
          600,
          3600,
          7300,
          11000,
          8800,
          14000,
          2500,
          13100,
          7000,
          10500,
          8000,
          8000,
          5500,
          4500,
          4500,
          5600,
          8100,
          16600,
          6100,
          1100,
          2600,
          14200,
          3100,
          7000,
          5000,
          4000,
          6600,
          6100,
          11300,
          5500,
          2600,
          6000,
          6000,
          2700,
          2100,
          8100,
          6100,
          8300,
          4200,
          3500,
          3600,
          5000,
          4100,
          5100,
          9500,
          14500,
          4600,
          8500,
          1100,
          2500,
          2500,
          2500,
          2500,
          2500,
          4100,
          600,
          5100,
          5300,
          3100,
          3100,
          600,
          1600,
          6500,
          6500,
          7800,
          12500,
          7300,
          5600,
          9600,
          10500,
          600,
          9000,
          3600,
          5100,
          8300,
          12300,
          5500,
          9000,
          3600,
          6600,
          6600,
          6800,
          9600,
          6100,
          6100,
          6100,
          13100,
          12300,
          7600,
          5500,
          15100,
          13100,
          10100,
          13100,
          9000,
          11100,
          7000,
          4600,
          2100,
          3300,
          3100,
          19100,
          18700,
          18500,
          18500,
          3100,
          2500,
          600,
          18100,
          600,
          600,
          14600,
          2500,
          600,
          2500,
          1100,
          600,
          3100,
          3500,
          3500,
          600,
          600,
          600,
          2500,
          600,
          600,
          600,
          3600,
          21000,
          3600,
          3600,
          3500,
          20700,
          600,
          600,
          3500,
          3500,
          600,
          17000,
          2500,
          3100,
          17500,
          3000,
          1600,
          17300,
          15000,
          2600,
          2600,
          2600,
          2500,
          2600,
          2600,
          2600,
          2600,
          1600,
          17200,
          2500,
          2100,
          15000,
          3100,
          1600,
          2600,
          1100,
          14600,
          2600,
          18000,
          1100,
          1100,
          3100,
          2500,
          1100,
          1100,
          2600,
          1100,
          14700,
          18000,
          17500,
          2500,
          1600,
          3100,
          16600,
          13000,
          14000,
          9600,
          7100,
          7100,
          7100,
          7100,
          7100,
          9600,
          9700,
          7000,
          7000,
          7000,
          7000,
          10000,
          6800,
          6800,
          6700,
          6600,
          6600,
          10100,
          10500,
          6600,
          6600,
          6500,
          10600,
          10600,
          6500,
          6500,
          6500,
          6300,
          9500,
          11000,
          7100,
          7100,
          9000,
          9000,
          8900,
          8600,
          9100,
          9100,
          9100,
          8600,
          8500,
          8500,
          8500,
          9100,
          9300,
          8500,
          8500,
          8500,
          8100,
          8100,
          8100,
          8000,
          9500,
          8000,
          8000,
          8000,
          7600,
          7600,
          7500,
          7500,
          9500,
          7100,
          3600,
          6100,
          6100,
          5000,
          12600,
          4600,
          12600,
          9000,
          4600,
          4500,
          13000,
          4500,
          4500,
          4500,
          4100,
          4100,
          4100,
          13500,
          13600,
          4100,
          4100,
          4100,
          4100,
          4100,
          4100,
          4100,
          4100,
          4100,
          4100,
          4000,
          4000,
          3600,
          5100,
          6100,
          5100,
          12000,
          11000,
          11000,
          600,
          6100,
          6100,
          11000,
          11000,
          6000,
          6000,
          6000,
          5800,
          11300,
          5600,
          5600,
          5500,
          11600,
          5500,
          11700,
          5500,
          5500,
          5500,
          5500,
          5500,
          5500,
          5500,
          11800,
          5100,
          12000,
          5100,
          12200,
          600
         ],
         "yaxis": "y2"
        }
       ],
       "layout": {
        "annotations": [
         {
          "font": {
           "size": 16
          },
          "showarrow": false,
          "text": "Scores",
          "x": 0.5,
          "xanchor": "center",
          "xref": "paper",
          "y": 1,
          "yanchor": "bottom",
          "yref": "paper"
         },
         {
          "font": {
           "size": 16
          },
          "showarrow": false,
          "text": "PNR vs Delay",
          "x": 0.5,
          "xanchor": "center",
          "xref": "paper",
          "y": 0.6333333333333333,
          "yanchor": "bottom",
          "yref": "paper"
         },
         {
          "font": {
           "size": 16
          },
          "showarrow": false,
          "text": "Pnr Scores",
          "x": 0.5,
          "xanchor": "center",
          "xref": "paper",
          "y": 0.26666666666666666,
          "yanchor": "bottom",
          "yref": "paper"
         }
        ],
        "template": {
         "data": {
          "bar": [
           {
            "error_x": {
             "color": "#2a3f5f"
            },
            "error_y": {
             "color": "#2a3f5f"
            },
            "marker": {
             "line": {
              "color": "#E5ECF6",
              "width": 0.5
             },
             "pattern": {
              "fillmode": "overlay",
              "size": 10,
              "solidity": 0.2
             }
            },
            "type": "bar"
           }
          ],
          "barpolar": [
           {
            "marker": {
             "line": {
              "color": "#E5ECF6",
              "width": 0.5
             },
             "pattern": {
              "fillmode": "overlay",
              "size": 10,
              "solidity": 0.2
             }
            },
            "type": "barpolar"
           }
          ],
          "carpet": [
           {
            "aaxis": {
             "endlinecolor": "#2a3f5f",
             "gridcolor": "white",
             "linecolor": "white",
             "minorgridcolor": "white",
             "startlinecolor": "#2a3f5f"
            },
            "baxis": {
             "endlinecolor": "#2a3f5f",
             "gridcolor": "white",
             "linecolor": "white",
             "minorgridcolor": "white",
             "startlinecolor": "#2a3f5f"
            },
            "type": "carpet"
           }
          ],
          "choropleth": [
           {
            "colorbar": {
             "outlinewidth": 0,
             "ticks": ""
            },
            "type": "choropleth"
           }
          ],
          "contour": [
           {
            "colorbar": {
             "outlinewidth": 0,
             "ticks": ""
            },
            "colorscale": [
             [
              0,
              "#0d0887"
             ],
             [
              0.1111111111111111,
              "#46039f"
             ],
             [
              0.2222222222222222,
              "#7201a8"
             ],
             [
              0.3333333333333333,
              "#9c179e"
             ],
             [
              0.4444444444444444,
              "#bd3786"
             ],
             [
              0.5555555555555556,
              "#d8576b"
             ],
             [
              0.6666666666666666,
              "#ed7953"
             ],
             [
              0.7777777777777778,
              "#fb9f3a"
             ],
             [
              0.8888888888888888,
              "#fdca26"
             ],
             [
              1,
              "#f0f921"
             ]
            ],
            "type": "contour"
           }
          ],
          "contourcarpet": [
           {
            "colorbar": {
             "outlinewidth": 0,
             "ticks": ""
            },
            "type": "contourcarpet"
           }
          ],
          "heatmap": [
           {
            "colorbar": {
             "outlinewidth": 0,
             "ticks": ""
            },
            "colorscale": [
             [
              0,
              "#0d0887"
             ],
             [
              0.1111111111111111,
              "#46039f"
             ],
             [
              0.2222222222222222,
              "#7201a8"
             ],
             [
              0.3333333333333333,
              "#9c179e"
             ],
             [
              0.4444444444444444,
              "#bd3786"
             ],
             [
              0.5555555555555556,
              "#d8576b"
             ],
             [
              0.6666666666666666,
              "#ed7953"
             ],
             [
              0.7777777777777778,
              "#fb9f3a"
             ],
             [
              0.8888888888888888,
              "#fdca26"
             ],
             [
              1,
              "#f0f921"
             ]
            ],
            "type": "heatmap"
           }
          ],
          "heatmapgl": [
           {
            "colorbar": {
             "outlinewidth": 0,
             "ticks": ""
            },
            "colorscale": [
             [
              0,
              "#0d0887"
             ],
             [
              0.1111111111111111,
              "#46039f"
             ],
             [
              0.2222222222222222,
              "#7201a8"
             ],
             [
              0.3333333333333333,
              "#9c179e"
             ],
             [
              0.4444444444444444,
              "#bd3786"
             ],
             [
              0.5555555555555556,
              "#d8576b"
             ],
             [
              0.6666666666666666,
              "#ed7953"
             ],
             [
              0.7777777777777778,
              "#fb9f3a"
             ],
             [
              0.8888888888888888,
              "#fdca26"
             ],
             [
              1,
              "#f0f921"
             ]
            ],
            "type": "heatmapgl"
           }
          ],
          "histogram": [
           {
            "marker": {
             "pattern": {
              "fillmode": "overlay",
              "size": 10,
              "solidity": 0.2
             }
            },
            "type": "histogram"
           }
          ],
          "histogram2d": [
           {
            "colorbar": {
             "outlinewidth": 0,
             "ticks": ""
            },
            "colorscale": [
             [
              0,
              "#0d0887"
             ],
             [
              0.1111111111111111,
              "#46039f"
             ],
             [
              0.2222222222222222,
              "#7201a8"
             ],
             [
              0.3333333333333333,
              "#9c179e"
             ],
             [
              0.4444444444444444,
              "#bd3786"
             ],
             [
              0.5555555555555556,
              "#d8576b"
             ],
             [
              0.6666666666666666,
              "#ed7953"
             ],
             [
              0.7777777777777778,
              "#fb9f3a"
             ],
             [
              0.8888888888888888,
              "#fdca26"
             ],
             [
              1,
              "#f0f921"
             ]
            ],
            "type": "histogram2d"
           }
          ],
          "histogram2dcontour": [
           {
            "colorbar": {
             "outlinewidth": 0,
             "ticks": ""
            },
            "colorscale": [
             [
              0,
              "#0d0887"
             ],
             [
              0.1111111111111111,
              "#46039f"
             ],
             [
              0.2222222222222222,
              "#7201a8"
             ],
             [
              0.3333333333333333,
              "#9c179e"
             ],
             [
              0.4444444444444444,
              "#bd3786"
             ],
             [
              0.5555555555555556,
              "#d8576b"
             ],
             [
              0.6666666666666666,
              "#ed7953"
             ],
             [
              0.7777777777777778,
              "#fb9f3a"
             ],
             [
              0.8888888888888888,
              "#fdca26"
             ],
             [
              1,
              "#f0f921"
             ]
            ],
            "type": "histogram2dcontour"
           }
          ],
          "mesh3d": [
           {
            "colorbar": {
             "outlinewidth": 0,
             "ticks": ""
            },
            "type": "mesh3d"
           }
          ],
          "parcoords": [
           {
            "line": {
             "colorbar": {
              "outlinewidth": 0,
              "ticks": ""
             }
            },
            "type": "parcoords"
           }
          ],
          "pie": [
           {
            "automargin": true,
            "type": "pie"
           }
          ],
          "scatter": [
           {
            "fillpattern": {
             "fillmode": "overlay",
             "size": 10,
             "solidity": 0.2
            },
            "type": "scatter"
           }
          ],
          "scatter3d": [
           {
            "line": {
             "colorbar": {
              "outlinewidth": 0,
              "ticks": ""
             }
            },
            "marker": {
             "colorbar": {
              "outlinewidth": 0,
              "ticks": ""
             }
            },
            "type": "scatter3d"
           }
          ],
          "scattercarpet": [
           {
            "marker": {
             "colorbar": {
              "outlinewidth": 0,
              "ticks": ""
             }
            },
            "type": "scattercarpet"
           }
          ],
          "scattergeo": [
           {
            "marker": {
             "colorbar": {
              "outlinewidth": 0,
              "ticks": ""
             }
            },
            "type": "scattergeo"
           }
          ],
          "scattergl": [
           {
            "marker": {
             "colorbar": {
              "outlinewidth": 0,
              "ticks": ""
             }
            },
            "type": "scattergl"
           }
          ],
          "scattermapbox": [
           {
            "marker": {
             "colorbar": {
              "outlinewidth": 0,
              "ticks": ""
             }
            },
            "type": "scattermapbox"
           }
          ],
          "scatterpolar": [
           {
            "marker": {
             "colorbar": {
              "outlinewidth": 0,
              "ticks": ""
             }
            },
            "type": "scatterpolar"
           }
          ],
          "scatterpolargl": [
           {
            "marker": {
             "colorbar": {
              "outlinewidth": 0,
              "ticks": ""
             }
            },
            "type": "scatterpolargl"
           }
          ],
          "scatterternary": [
           {
            "marker": {
             "colorbar": {
              "outlinewidth": 0,
              "ticks": ""
             }
            },
            "type": "scatterternary"
           }
          ],
          "surface": [
           {
            "colorbar": {
             "outlinewidth": 0,
             "ticks": ""
            },
            "colorscale": [
             [
              0,
              "#0d0887"
             ],
             [
              0.1111111111111111,
              "#46039f"
             ],
             [
              0.2222222222222222,
              "#7201a8"
             ],
             [
              0.3333333333333333,
              "#9c179e"
             ],
             [
              0.4444444444444444,
              "#bd3786"
             ],
             [
              0.5555555555555556,
              "#d8576b"
             ],
             [
              0.6666666666666666,
              "#ed7953"
             ],
             [
              0.7777777777777778,
              "#fb9f3a"
             ],
             [
              0.8888888888888888,
              "#fdca26"
             ],
             [
              1,
              "#f0f921"
             ]
            ],
            "type": "surface"
           }
          ],
          "table": [
           {
            "cells": {
             "fill": {
              "color": "#EBF0F8"
             },
             "line": {
              "color": "white"
             }
            },
            "header": {
             "fill": {
              "color": "#C8D4E3"
             },
             "line": {
              "color": "white"
             }
            },
            "type": "table"
           }
          ]
         },
         "layout": {
          "annotationdefaults": {
           "arrowcolor": "#2a3f5f",
           "arrowhead": 0,
           "arrowwidth": 1
          },
          "autotypenumbers": "strict",
          "coloraxis": {
           "colorbar": {
            "outlinewidth": 0,
            "ticks": ""
           }
          },
          "colorscale": {
           "diverging": [
            [
             0,
             "#8e0152"
            ],
            [
             0.1,
             "#c51b7d"
            ],
            [
             0.2,
             "#de77ae"
            ],
            [
             0.3,
             "#f1b6da"
            ],
            [
             0.4,
             "#fde0ef"
            ],
            [
             0.5,
             "#f7f7f7"
            ],
            [
             0.6,
             "#e6f5d0"
            ],
            [
             0.7,
             "#b8e186"
            ],
            [
             0.8,
             "#7fbc41"
            ],
            [
             0.9,
             "#4d9221"
            ],
            [
             1,
             "#276419"
            ]
           ],
           "sequential": [
            [
             0,
             "#0d0887"
            ],
            [
             0.1111111111111111,
             "#46039f"
            ],
            [
             0.2222222222222222,
             "#7201a8"
            ],
            [
             0.3333333333333333,
             "#9c179e"
            ],
            [
             0.4444444444444444,
             "#bd3786"
            ],
            [
             0.5555555555555556,
             "#d8576b"
            ],
            [
             0.6666666666666666,
             "#ed7953"
            ],
            [
             0.7777777777777778,
             "#fb9f3a"
            ],
            [
             0.8888888888888888,
             "#fdca26"
            ],
            [
             1,
             "#f0f921"
            ]
           ],
           "sequentialminus": [
            [
             0,
             "#0d0887"
            ],
            [
             0.1111111111111111,
             "#46039f"
            ],
            [
             0.2222222222222222,
             "#7201a8"
            ],
            [
             0.3333333333333333,
             "#9c179e"
            ],
            [
             0.4444444444444444,
             "#bd3786"
            ],
            [
             0.5555555555555556,
             "#d8576b"
            ],
            [
             0.6666666666666666,
             "#ed7953"
            ],
            [
             0.7777777777777778,
             "#fb9f3a"
            ],
            [
             0.8888888888888888,
             "#fdca26"
            ],
            [
             1,
             "#f0f921"
            ]
           ]
          },
          "colorway": [
           "#636efa",
           "#EF553B",
           "#00cc96",
           "#ab63fa",
           "#FFA15A",
           "#19d3f3",
           "#FF6692",
           "#B6E880",
           "#FF97FF",
           "#FECB52"
          ],
          "font": {
           "color": "#2a3f5f"
          },
          "geo": {
           "bgcolor": "white",
           "lakecolor": "white",
           "landcolor": "#E5ECF6",
           "showlakes": true,
           "showland": true,
           "subunitcolor": "white"
          },
          "hoverlabel": {
           "align": "left"
          },
          "hovermode": "closest",
          "mapbox": {
           "style": "light"
          },
          "paper_bgcolor": "white",
          "plot_bgcolor": "#E5ECF6",
          "polar": {
           "angularaxis": {
            "gridcolor": "white",
            "linecolor": "white",
            "ticks": ""
           },
           "bgcolor": "#E5ECF6",
           "radialaxis": {
            "gridcolor": "white",
            "linecolor": "white",
            "ticks": ""
           }
          },
          "scene": {
           "xaxis": {
            "backgroundcolor": "#E5ECF6",
            "gridcolor": "white",
            "gridwidth": 2,
            "linecolor": "white",
            "showbackground": true,
            "ticks": "",
            "zerolinecolor": "white"
           },
           "yaxis": {
            "backgroundcolor": "#E5ECF6",
            "gridcolor": "white",
            "gridwidth": 2,
            "linecolor": "white",
            "showbackground": true,
            "ticks": "",
            "zerolinecolor": "white"
           },
           "zaxis": {
            "backgroundcolor": "#E5ECF6",
            "gridcolor": "white",
            "gridwidth": 2,
            "linecolor": "white",
            "showbackground": true,
            "ticks": "",
            "zerolinecolor": "white"
           }
          },
          "shapedefaults": {
           "line": {
            "color": "#2a3f5f"
           }
          },
          "ternary": {
           "aaxis": {
            "gridcolor": "white",
            "linecolor": "white",
            "ticks": ""
           },
           "baxis": {
            "gridcolor": "white",
            "linecolor": "white",
            "ticks": ""
           },
           "bgcolor": "#E5ECF6",
           "caxis": {
            "gridcolor": "white",
            "linecolor": "white",
            "ticks": ""
           }
          },
          "title": {
           "x": 0.05
          },
          "xaxis": {
           "automargin": true,
           "gridcolor": "white",
           "linecolor": "white",
           "ticks": "",
           "title": {
            "standoff": 15
           },
           "zerolinecolor": "white",
           "zerolinewidth": 2
          },
          "yaxis": {
           "automargin": true,
           "gridcolor": "white",
           "linecolor": "white",
           "ticks": "",
           "title": {
            "standoff": 15
           },
           "zerolinecolor": "white",
           "zerolinewidth": 2
          }
         }
        },
        "xaxis": {
         "anchor": "y",
         "domain": [
          0,
          1
         ],
         "matches": "x3",
         "showticklabels": false
        },
        "xaxis2": {
         "anchor": "y2",
         "domain": [
          0,
          1
         ],
         "matches": "x3",
         "showticklabels": false
        },
        "xaxis3": {
         "anchor": "y3",
         "domain": [
          0,
          1
         ]
        },
        "yaxis": {
         "anchor": "x",
         "domain": [
          0.7333333333333334,
          1
         ]
        },
        "yaxis2": {
         "anchor": "x2",
         "domain": [
          0.3666666666666667,
          0.6333333333333333
         ]
        },
        "yaxis3": {
         "anchor": "x3",
         "domain": [
          0,
          0.26666666666666666
         ]
        }
       }
      }
     },
     "metadata": {},
     "output_type": "display_data"
    }
   ],
   "source": [
    "#Pnr vs delay\n",
    "# Create a scatter plot for PNR vs delay\n",
    "df.sort_values(by=['allocated_flights_score'], inplace=True)\n",
    "df['canclled_flight_arrival'] = pd.to_datetime(df['canclled_flight_arrival'])\n",
    "df['allocated_flights_arrival'] = pd.to_datetime(df['allocated_flights_arrival'])\n",
    "\n",
    "# Calculate the delay\n",
    "df['delay'] = (df['allocated_flights_arrival'] - df['canclled_flight_arrival']).dt.total_seconds() / 3600\n",
    "\n",
    "# Create a scatter plot for PNR vs delay\n",
    "fig = make_subplots(rows=3, cols=1, shared_xaxes=True, vertical_spacing=0.1, subplot_titles=[\"Scores\", \"PNR vs Delay\", \"Pnr Scores\"])\n",
    "\n",
    "# Plot PNR Scores\n",
    "fig.add_trace(\n",
    "    px.bar(df, x=\"pnr\", y=\"allocated_flights_score\").update_traces(marker_color='blue').data[0],\n",
    "    row=1, col=1\n",
    ")\n",
    "\n",
    "# Plot PNR vs Delay\n",
    "fig.add_trace(\n",
    "    px.scatter(df, x='pnr', y='delay').data[0],\n",
    "    row=1, col=1\n",
    ")\n",
    "\n",
    "fig.add_trace(\n",
    "    px.scatter(df, x='pnr', y='delay').data[0],\n",
    "    row=2, col=1\n",
    ")\n",
    "\n",
    "fig.add_trace(\n",
    "    px.bar(df, x=\"pnr\", y=\"pnr_score\").update_traces(marker_color='green').data[0],\n",
    "    row=2, col=1\n",
    ")\n",
    "\n",
    "# Calculate and print the mean delay\n",
    "mean_delay = df['delay'].mean()\n",
    "print(f'Mean Delay: {mean_delay} hours, std_dev: {df[\"delay\"].std()}')\n",
    "\n",
    "# Show the plot\n",
    "fig.show()"
   ]
  },
  {
   "cell_type": "code",
   "execution_count": 8,
   "metadata": {},
   "outputs": [
    {
     "data": {
      "application/vnd.plotly.v1+json": {
       "config": {
        "plotlyServerURL": "https://plot.ly"
       },
       "data": [
        {
         "domain": {
          "x": [
           0,
           1
          ],
          "y": [
           0,
           1
          ]
         },
         "hovertemplate": "up_down=%{label}<extra></extra>",
         "labels": [
          2,
          0,
          0,
          2,
          -2,
          0,
          2,
          -2,
          2,
          0,
          0,
          0,
          0,
          0,
          -2,
          -2,
          -2,
          0,
          0,
          0,
          -2,
          -2,
          -2,
          -2,
          0,
          -2,
          -2,
          0,
          0,
          -2,
          0,
          0,
          2,
          2,
          0,
          0,
          -2,
          0,
          0,
          2,
          -2,
          2,
          2,
          0,
          0,
          0,
          -2,
          -2,
          0,
          0,
          0,
          0,
          2,
          2,
          -2,
          0,
          0,
          0,
          2,
          0,
          0,
          0,
          0,
          0,
          0,
          0,
          0,
          0,
          -2,
          -2,
          -2,
          -2,
          0,
          0,
          2,
          -2,
          0,
          -2,
          0,
          0,
          -2,
          0,
          0,
          0,
          0,
          0,
          -2,
          -2,
          -2,
          -2,
          0,
          0,
          2,
          2,
          2,
          0,
          0,
          2,
          -2,
          -2,
          2,
          2,
          2,
          2,
          0,
          0,
          0,
          0,
          0,
          0,
          0,
          0,
          0,
          0,
          0,
          0,
          0,
          0,
          0,
          0,
          2,
          2,
          -2,
          -2,
          2,
          2,
          0,
          0,
          2,
          2,
          -2,
          -2,
          0,
          0,
          2,
          2,
          0,
          0,
          0,
          0,
          0,
          0,
          0,
          0,
          -2,
          -2,
          0,
          0,
          0,
          -2,
          -2,
          -2,
          -2,
          -2,
          -2,
          2,
          2,
          2,
          -2,
          -2,
          -2,
          2,
          2,
          2,
          2,
          2,
          2,
          0,
          0,
          0,
          0,
          0,
          0,
          2,
          2,
          2,
          2,
          2,
          2,
          -2,
          -2,
          -2,
          0,
          0,
          0,
          2,
          2,
          2,
          2,
          2,
          2,
          2,
          2,
          2,
          2,
          2,
          2,
          0,
          0,
          0,
          0,
          0,
          0,
          2,
          2,
          2,
          2,
          2,
          0,
          0,
          0,
          0,
          -2,
          -2,
          0,
          0,
          0,
          0,
          0,
          0,
          2,
          2,
          2,
          2,
          2,
          2,
          2,
          2,
          2,
          2,
          -2,
          -2,
          -2,
          0,
          0,
          0,
          2,
          2,
          2,
          0,
          0,
          0,
          0,
          0,
          0,
          0,
          0,
          2,
          2,
          2,
          2,
          2,
          2,
          -2,
          -2,
          -2,
          2,
          2,
          0,
          0,
          2,
          2,
          0,
          0,
          -2,
          -2,
          -2,
          -2,
          0,
          0,
          2,
          2,
          0,
          0,
          2,
          2,
          2,
          2,
          2,
          2,
          0,
          0,
          2,
          2,
          0,
          0,
          0,
          -2,
          -2,
          -2,
          0,
          0,
          0,
          0,
          0,
          2,
          2,
          2,
          2,
          0,
          0,
          0,
          0,
          0,
          0,
          2,
          2,
          0,
          0,
          2,
          2,
          2,
          2,
          -2,
          -2,
          -2,
          -2,
          0,
          0,
          0,
          0,
          0,
          0,
          0,
          0,
          -2,
          -2,
          -2,
          -2,
          -2,
          -2,
          0,
          0,
          2,
          2,
          0,
          0,
          -2,
          -2,
          2,
          2,
          2,
          2,
          0,
          0,
          0,
          0,
          2,
          2,
          2,
          2,
          2,
          2,
          0,
          0,
          2,
          2,
          0,
          0,
          -2,
          -2,
          0,
          0,
          0,
          0,
          0,
          -2,
          -2,
          -2,
          0,
          0,
          0,
          0,
          0,
          0,
          0,
          0,
          0,
          -2,
          -2,
          2,
          2,
          0,
          0,
          2,
          0,
          2,
          -2,
          2,
          -2,
          -2,
          0,
          0,
          -2,
          -2,
          0,
          0,
          2,
          0,
          0,
          -2,
          0,
          -2,
          2,
          0,
          0,
          2,
          -2,
          0,
          0,
          -2,
          2,
          2,
          0,
          -2,
          0,
          0,
          0,
          -2,
          0,
          -2,
          0,
          0,
          0,
          2,
          2,
          2,
          2,
          2,
          0,
          2,
          -2,
          -2,
          -2,
          -2,
          -2,
          -2,
          0,
          0,
          0,
          -2,
          -2,
          -2,
          2,
          2,
          2,
          2,
          2,
          2,
          0,
          0,
          0,
          -2,
          -2,
          -2,
          0,
          0,
          0,
          0,
          0,
          0,
          2,
          2,
          2,
          2,
          2,
          2,
          0,
          0,
          0,
          2,
          2,
          2,
          -2,
          -2,
          -2,
          -2,
          2,
          2,
          2,
          2,
          0,
          0,
          2,
          2,
          0,
          0,
          0,
          0,
          2,
          2,
          0,
          0,
          0,
          0,
          0,
          0,
          0,
          0,
          0,
          0,
          0,
          -2,
          -2,
          -2,
          0,
          0,
          0,
          0,
          0,
          0,
          0,
          0,
          0,
          -2,
          -2,
          0,
          0,
          0,
          0,
          2,
          2
         ],
         "legendgroup": "",
         "name": "",
         "showlegend": true,
         "type": "pie"
        }
       ],
       "layout": {
        "legend": {
         "tracegroupgap": 0
        },
        "template": {
         "data": {
          "bar": [
           {
            "error_x": {
             "color": "#2a3f5f"
            },
            "error_y": {
             "color": "#2a3f5f"
            },
            "marker": {
             "line": {
              "color": "#E5ECF6",
              "width": 0.5
             },
             "pattern": {
              "fillmode": "overlay",
              "size": 10,
              "solidity": 0.2
             }
            },
            "type": "bar"
           }
          ],
          "barpolar": [
           {
            "marker": {
             "line": {
              "color": "#E5ECF6",
              "width": 0.5
             },
             "pattern": {
              "fillmode": "overlay",
              "size": 10,
              "solidity": 0.2
             }
            },
            "type": "barpolar"
           }
          ],
          "carpet": [
           {
            "aaxis": {
             "endlinecolor": "#2a3f5f",
             "gridcolor": "white",
             "linecolor": "white",
             "minorgridcolor": "white",
             "startlinecolor": "#2a3f5f"
            },
            "baxis": {
             "endlinecolor": "#2a3f5f",
             "gridcolor": "white",
             "linecolor": "white",
             "minorgridcolor": "white",
             "startlinecolor": "#2a3f5f"
            },
            "type": "carpet"
           }
          ],
          "choropleth": [
           {
            "colorbar": {
             "outlinewidth": 0,
             "ticks": ""
            },
            "type": "choropleth"
           }
          ],
          "contour": [
           {
            "colorbar": {
             "outlinewidth": 0,
             "ticks": ""
            },
            "colorscale": [
             [
              0,
              "#0d0887"
             ],
             [
              0.1111111111111111,
              "#46039f"
             ],
             [
              0.2222222222222222,
              "#7201a8"
             ],
             [
              0.3333333333333333,
              "#9c179e"
             ],
             [
              0.4444444444444444,
              "#bd3786"
             ],
             [
              0.5555555555555556,
              "#d8576b"
             ],
             [
              0.6666666666666666,
              "#ed7953"
             ],
             [
              0.7777777777777778,
              "#fb9f3a"
             ],
             [
              0.8888888888888888,
              "#fdca26"
             ],
             [
              1,
              "#f0f921"
             ]
            ],
            "type": "contour"
           }
          ],
          "contourcarpet": [
           {
            "colorbar": {
             "outlinewidth": 0,
             "ticks": ""
            },
            "type": "contourcarpet"
           }
          ],
          "heatmap": [
           {
            "colorbar": {
             "outlinewidth": 0,
             "ticks": ""
            },
            "colorscale": [
             [
              0,
              "#0d0887"
             ],
             [
              0.1111111111111111,
              "#46039f"
             ],
             [
              0.2222222222222222,
              "#7201a8"
             ],
             [
              0.3333333333333333,
              "#9c179e"
             ],
             [
              0.4444444444444444,
              "#bd3786"
             ],
             [
              0.5555555555555556,
              "#d8576b"
             ],
             [
              0.6666666666666666,
              "#ed7953"
             ],
             [
              0.7777777777777778,
              "#fb9f3a"
             ],
             [
              0.8888888888888888,
              "#fdca26"
             ],
             [
              1,
              "#f0f921"
             ]
            ],
            "type": "heatmap"
           }
          ],
          "heatmapgl": [
           {
            "colorbar": {
             "outlinewidth": 0,
             "ticks": ""
            },
            "colorscale": [
             [
              0,
              "#0d0887"
             ],
             [
              0.1111111111111111,
              "#46039f"
             ],
             [
              0.2222222222222222,
              "#7201a8"
             ],
             [
              0.3333333333333333,
              "#9c179e"
             ],
             [
              0.4444444444444444,
              "#bd3786"
             ],
             [
              0.5555555555555556,
              "#d8576b"
             ],
             [
              0.6666666666666666,
              "#ed7953"
             ],
             [
              0.7777777777777778,
              "#fb9f3a"
             ],
             [
              0.8888888888888888,
              "#fdca26"
             ],
             [
              1,
              "#f0f921"
             ]
            ],
            "type": "heatmapgl"
           }
          ],
          "histogram": [
           {
            "marker": {
             "pattern": {
              "fillmode": "overlay",
              "size": 10,
              "solidity": 0.2
             }
            },
            "type": "histogram"
           }
          ],
          "histogram2d": [
           {
            "colorbar": {
             "outlinewidth": 0,
             "ticks": ""
            },
            "colorscale": [
             [
              0,
              "#0d0887"
             ],
             [
              0.1111111111111111,
              "#46039f"
             ],
             [
              0.2222222222222222,
              "#7201a8"
             ],
             [
              0.3333333333333333,
              "#9c179e"
             ],
             [
              0.4444444444444444,
              "#bd3786"
             ],
             [
              0.5555555555555556,
              "#d8576b"
             ],
             [
              0.6666666666666666,
              "#ed7953"
             ],
             [
              0.7777777777777778,
              "#fb9f3a"
             ],
             [
              0.8888888888888888,
              "#fdca26"
             ],
             [
              1,
              "#f0f921"
             ]
            ],
            "type": "histogram2d"
           }
          ],
          "histogram2dcontour": [
           {
            "colorbar": {
             "outlinewidth": 0,
             "ticks": ""
            },
            "colorscale": [
             [
              0,
              "#0d0887"
             ],
             [
              0.1111111111111111,
              "#46039f"
             ],
             [
              0.2222222222222222,
              "#7201a8"
             ],
             [
              0.3333333333333333,
              "#9c179e"
             ],
             [
              0.4444444444444444,
              "#bd3786"
             ],
             [
              0.5555555555555556,
              "#d8576b"
             ],
             [
              0.6666666666666666,
              "#ed7953"
             ],
             [
              0.7777777777777778,
              "#fb9f3a"
             ],
             [
              0.8888888888888888,
              "#fdca26"
             ],
             [
              1,
              "#f0f921"
             ]
            ],
            "type": "histogram2dcontour"
           }
          ],
          "mesh3d": [
           {
            "colorbar": {
             "outlinewidth": 0,
             "ticks": ""
            },
            "type": "mesh3d"
           }
          ],
          "parcoords": [
           {
            "line": {
             "colorbar": {
              "outlinewidth": 0,
              "ticks": ""
             }
            },
            "type": "parcoords"
           }
          ],
          "pie": [
           {
            "automargin": true,
            "type": "pie"
           }
          ],
          "scatter": [
           {
            "fillpattern": {
             "fillmode": "overlay",
             "size": 10,
             "solidity": 0.2
            },
            "type": "scatter"
           }
          ],
          "scatter3d": [
           {
            "line": {
             "colorbar": {
              "outlinewidth": 0,
              "ticks": ""
             }
            },
            "marker": {
             "colorbar": {
              "outlinewidth": 0,
              "ticks": ""
             }
            },
            "type": "scatter3d"
           }
          ],
          "scattercarpet": [
           {
            "marker": {
             "colorbar": {
              "outlinewidth": 0,
              "ticks": ""
             }
            },
            "type": "scattercarpet"
           }
          ],
          "scattergeo": [
           {
            "marker": {
             "colorbar": {
              "outlinewidth": 0,
              "ticks": ""
             }
            },
            "type": "scattergeo"
           }
          ],
          "scattergl": [
           {
            "marker": {
             "colorbar": {
              "outlinewidth": 0,
              "ticks": ""
             }
            },
            "type": "scattergl"
           }
          ],
          "scattermapbox": [
           {
            "marker": {
             "colorbar": {
              "outlinewidth": 0,
              "ticks": ""
             }
            },
            "type": "scattermapbox"
           }
          ],
          "scatterpolar": [
           {
            "marker": {
             "colorbar": {
              "outlinewidth": 0,
              "ticks": ""
             }
            },
            "type": "scatterpolar"
           }
          ],
          "scatterpolargl": [
           {
            "marker": {
             "colorbar": {
              "outlinewidth": 0,
              "ticks": ""
             }
            },
            "type": "scatterpolargl"
           }
          ],
          "scatterternary": [
           {
            "marker": {
             "colorbar": {
              "outlinewidth": 0,
              "ticks": ""
             }
            },
            "type": "scatterternary"
           }
          ],
          "surface": [
           {
            "colorbar": {
             "outlinewidth": 0,
             "ticks": ""
            },
            "colorscale": [
             [
              0,
              "#0d0887"
             ],
             [
              0.1111111111111111,
              "#46039f"
             ],
             [
              0.2222222222222222,
              "#7201a8"
             ],
             [
              0.3333333333333333,
              "#9c179e"
             ],
             [
              0.4444444444444444,
              "#bd3786"
             ],
             [
              0.5555555555555556,
              "#d8576b"
             ],
             [
              0.6666666666666666,
              "#ed7953"
             ],
             [
              0.7777777777777778,
              "#fb9f3a"
             ],
             [
              0.8888888888888888,
              "#fdca26"
             ],
             [
              1,
              "#f0f921"
             ]
            ],
            "type": "surface"
           }
          ],
          "table": [
           {
            "cells": {
             "fill": {
              "color": "#EBF0F8"
             },
             "line": {
              "color": "white"
             }
            },
            "header": {
             "fill": {
              "color": "#C8D4E3"
             },
             "line": {
              "color": "white"
             }
            },
            "type": "table"
           }
          ]
         },
         "layout": {
          "annotationdefaults": {
           "arrowcolor": "#2a3f5f",
           "arrowhead": 0,
           "arrowwidth": 1
          },
          "autotypenumbers": "strict",
          "coloraxis": {
           "colorbar": {
            "outlinewidth": 0,
            "ticks": ""
           }
          },
          "colorscale": {
           "diverging": [
            [
             0,
             "#8e0152"
            ],
            [
             0.1,
             "#c51b7d"
            ],
            [
             0.2,
             "#de77ae"
            ],
            [
             0.3,
             "#f1b6da"
            ],
            [
             0.4,
             "#fde0ef"
            ],
            [
             0.5,
             "#f7f7f7"
            ],
            [
             0.6,
             "#e6f5d0"
            ],
            [
             0.7,
             "#b8e186"
            ],
            [
             0.8,
             "#7fbc41"
            ],
            [
             0.9,
             "#4d9221"
            ],
            [
             1,
             "#276419"
            ]
           ],
           "sequential": [
            [
             0,
             "#0d0887"
            ],
            [
             0.1111111111111111,
             "#46039f"
            ],
            [
             0.2222222222222222,
             "#7201a8"
            ],
            [
             0.3333333333333333,
             "#9c179e"
            ],
            [
             0.4444444444444444,
             "#bd3786"
            ],
            [
             0.5555555555555556,
             "#d8576b"
            ],
            [
             0.6666666666666666,
             "#ed7953"
            ],
            [
             0.7777777777777778,
             "#fb9f3a"
            ],
            [
             0.8888888888888888,
             "#fdca26"
            ],
            [
             1,
             "#f0f921"
            ]
           ],
           "sequentialminus": [
            [
             0,
             "#0d0887"
            ],
            [
             0.1111111111111111,
             "#46039f"
            ],
            [
             0.2222222222222222,
             "#7201a8"
            ],
            [
             0.3333333333333333,
             "#9c179e"
            ],
            [
             0.4444444444444444,
             "#bd3786"
            ],
            [
             0.5555555555555556,
             "#d8576b"
            ],
            [
             0.6666666666666666,
             "#ed7953"
            ],
            [
             0.7777777777777778,
             "#fb9f3a"
            ],
            [
             0.8888888888888888,
             "#fdca26"
            ],
            [
             1,
             "#f0f921"
            ]
           ]
          },
          "colorway": [
           "#636efa",
           "#EF553B",
           "#00cc96",
           "#ab63fa",
           "#FFA15A",
           "#19d3f3",
           "#FF6692",
           "#B6E880",
           "#FF97FF",
           "#FECB52"
          ],
          "font": {
           "color": "#2a3f5f"
          },
          "geo": {
           "bgcolor": "white",
           "lakecolor": "white",
           "landcolor": "#E5ECF6",
           "showlakes": true,
           "showland": true,
           "subunitcolor": "white"
          },
          "hoverlabel": {
           "align": "left"
          },
          "hovermode": "closest",
          "mapbox": {
           "style": "light"
          },
          "paper_bgcolor": "white",
          "plot_bgcolor": "#E5ECF6",
          "polar": {
           "angularaxis": {
            "gridcolor": "white",
            "linecolor": "white",
            "ticks": ""
           },
           "bgcolor": "#E5ECF6",
           "radialaxis": {
            "gridcolor": "white",
            "linecolor": "white",
            "ticks": ""
           }
          },
          "scene": {
           "xaxis": {
            "backgroundcolor": "#E5ECF6",
            "gridcolor": "white",
            "gridwidth": 2,
            "linecolor": "white",
            "showbackground": true,
            "ticks": "",
            "zerolinecolor": "white"
           },
           "yaxis": {
            "backgroundcolor": "#E5ECF6",
            "gridcolor": "white",
            "gridwidth": 2,
            "linecolor": "white",
            "showbackground": true,
            "ticks": "",
            "zerolinecolor": "white"
           },
           "zaxis": {
            "backgroundcolor": "#E5ECF6",
            "gridcolor": "white",
            "gridwidth": 2,
            "linecolor": "white",
            "showbackground": true,
            "ticks": "",
            "zerolinecolor": "white"
           }
          },
          "shapedefaults": {
           "line": {
            "color": "#2a3f5f"
           }
          },
          "ternary": {
           "aaxis": {
            "gridcolor": "white",
            "linecolor": "white",
            "ticks": ""
           },
           "baxis": {
            "gridcolor": "white",
            "linecolor": "white",
            "ticks": ""
           },
           "bgcolor": "#E5ECF6",
           "caxis": {
            "gridcolor": "white",
            "linecolor": "white",
            "ticks": ""
           }
          },
          "title": {
           "x": 0.05
          },
          "xaxis": {
           "automargin": true,
           "gridcolor": "white",
           "linecolor": "white",
           "ticks": "",
           "title": {
            "standoff": 15
           },
           "zerolinecolor": "white",
           "zerolinewidth": 2
          },
          "yaxis": {
           "automargin": true,
           "gridcolor": "white",
           "linecolor": "white",
           "ticks": "",
           "title": {
            "standoff": 15
           },
           "zerolinecolor": "white",
           "zerolinewidth": 2
          }
         }
        },
        "title": {
         "text": "Class Upgradation/Downgradation for Cancelled PNRS"
        }
       }
      }
     },
     "metadata": {},
     "output_type": "display_data"
    }
   ],
   "source": [
    "import ast\n",
    "\n",
    "# map class with numbers\n",
    "class_mapper = {'F': 0, 'B': 1 , 'P': 2, 'E': 3}\n",
    "\n",
    "# find {class_cancelled - class_allocated} -> positive: upgrade, negetive: downgrade, zero: same class\n",
    "# print(df.head())\n",
    "list_up_down = []\n",
    "for index, row in df.iterrows():\n",
    "    cancelled_class = row['canclled_class'][1]\n",
    "    allocated_classes = ast.literal_eval(row['allocated_classes'])\n",
    "    up_down = list(map(lambda x: class_mapper[x] - class_mapper[cancelled_class], allocated_classes))\n",
    "    list_up_down += up_down\n",
    "df_up_down = pd.DataFrame(list_up_down, columns=['up_down'])\n",
    "fig = px.pie(df_up_down, names='up_down', title='Class Upgradation/Downgradation for Cancelled PNRS')\n",
    "fig.show()\n",
    "# print(list_up_down)\n"
   ]
  },
  {
   "cell_type": "code",
   "execution_count": 18,
   "metadata": {},
   "outputs": [
    {
     "name": "stdout",
     "output_type": "stream",
     "text": [
      "Index(['pnr', 'pnr_score', 'canclled_flight', 'canclled_class',\n",
      "       'canclled_flight_departure', 'canclled_flight_arrival', 'canclled_src',\n",
      "       'canclled_dst', 'allocated_src', 'allocated_dst', 'allocated_flights',\n",
      "       'allocated_flights_departure', 'allocated_flights_arrival',\n",
      "       'allocated_classes', 'allocated_flights_score', 'delay'],\n",
      "      dtype='object')\n",
      "                type  y/n  count\n",
      "0          allocated  yes    279\n",
      "1          allocated   no    215\n",
      "2           same_arr  yes    177\n",
      "3           same_arr   no    102\n",
      "4           same_dep  yes    177\n",
      "5           same_dep   no    102\n",
      "6  different_arrNdep  yes    102\n",
      "7  different_arrNdep   no    177\n"
     ]
    },
    {
     "data": {
      "application/vnd.plotly.v1+json": {
       "config": {
        "plotlyServerURL": "https://plot.ly"
       },
       "data": [
        {
         "alignmentgroup": "True",
         "hovertemplate": "y/n=yes<br>type=%{x}<br>count=%{y}<extra></extra>",
         "legendgroup": "yes",
         "marker": {
          "color": "#636efa",
          "pattern": {
           "shape": ""
          }
         },
         "name": "yes",
         "offsetgroup": "yes",
         "orientation": "v",
         "showlegend": true,
         "textposition": "auto",
         "type": "bar",
         "x": [
          "allocated",
          "same_arr",
          "same_dep",
          "different_arrNdep"
         ],
         "xaxis": "x",
         "y": [
          279,
          177,
          177,
          102
         ],
         "yaxis": "y"
        },
        {
         "alignmentgroup": "True",
         "hovertemplate": "y/n=no<br>type=%{x}<br>count=%{y}<extra></extra>",
         "legendgroup": "no",
         "marker": {
          "color": "#EF553B",
          "pattern": {
           "shape": ""
          }
         },
         "name": "no",
         "offsetgroup": "no",
         "orientation": "v",
         "showlegend": true,
         "textposition": "auto",
         "type": "bar",
         "x": [
          "allocated",
          "same_arr",
          "same_dep",
          "different_arrNdep"
         ],
         "xaxis": "x",
         "y": [
          215,
          102,
          102,
          177
         ],
         "yaxis": "y"
        }
       ],
       "layout": {
        "barmode": "relative",
        "legend": {
         "title": {
          "text": "y/n"
         },
         "tracegroupgap": 0
        },
        "template": {
         "data": {
          "bar": [
           {
            "error_x": {
             "color": "#2a3f5f"
            },
            "error_y": {
             "color": "#2a3f5f"
            },
            "marker": {
             "line": {
              "color": "#E5ECF6",
              "width": 0.5
             },
             "pattern": {
              "fillmode": "overlay",
              "size": 10,
              "solidity": 0.2
             }
            },
            "type": "bar"
           }
          ],
          "barpolar": [
           {
            "marker": {
             "line": {
              "color": "#E5ECF6",
              "width": 0.5
             },
             "pattern": {
              "fillmode": "overlay",
              "size": 10,
              "solidity": 0.2
             }
            },
            "type": "barpolar"
           }
          ],
          "carpet": [
           {
            "aaxis": {
             "endlinecolor": "#2a3f5f",
             "gridcolor": "white",
             "linecolor": "white",
             "minorgridcolor": "white",
             "startlinecolor": "#2a3f5f"
            },
            "baxis": {
             "endlinecolor": "#2a3f5f",
             "gridcolor": "white",
             "linecolor": "white",
             "minorgridcolor": "white",
             "startlinecolor": "#2a3f5f"
            },
            "type": "carpet"
           }
          ],
          "choropleth": [
           {
            "colorbar": {
             "outlinewidth": 0,
             "ticks": ""
            },
            "type": "choropleth"
           }
          ],
          "contour": [
           {
            "colorbar": {
             "outlinewidth": 0,
             "ticks": ""
            },
            "colorscale": [
             [
              0,
              "#0d0887"
             ],
             [
              0.1111111111111111,
              "#46039f"
             ],
             [
              0.2222222222222222,
              "#7201a8"
             ],
             [
              0.3333333333333333,
              "#9c179e"
             ],
             [
              0.4444444444444444,
              "#bd3786"
             ],
             [
              0.5555555555555556,
              "#d8576b"
             ],
             [
              0.6666666666666666,
              "#ed7953"
             ],
             [
              0.7777777777777778,
              "#fb9f3a"
             ],
             [
              0.8888888888888888,
              "#fdca26"
             ],
             [
              1,
              "#f0f921"
             ]
            ],
            "type": "contour"
           }
          ],
          "contourcarpet": [
           {
            "colorbar": {
             "outlinewidth": 0,
             "ticks": ""
            },
            "type": "contourcarpet"
           }
          ],
          "heatmap": [
           {
            "colorbar": {
             "outlinewidth": 0,
             "ticks": ""
            },
            "colorscale": [
             [
              0,
              "#0d0887"
             ],
             [
              0.1111111111111111,
              "#46039f"
             ],
             [
              0.2222222222222222,
              "#7201a8"
             ],
             [
              0.3333333333333333,
              "#9c179e"
             ],
             [
              0.4444444444444444,
              "#bd3786"
             ],
             [
              0.5555555555555556,
              "#d8576b"
             ],
             [
              0.6666666666666666,
              "#ed7953"
             ],
             [
              0.7777777777777778,
              "#fb9f3a"
             ],
             [
              0.8888888888888888,
              "#fdca26"
             ],
             [
              1,
              "#f0f921"
             ]
            ],
            "type": "heatmap"
           }
          ],
          "heatmapgl": [
           {
            "colorbar": {
             "outlinewidth": 0,
             "ticks": ""
            },
            "colorscale": [
             [
              0,
              "#0d0887"
             ],
             [
              0.1111111111111111,
              "#46039f"
             ],
             [
              0.2222222222222222,
              "#7201a8"
             ],
             [
              0.3333333333333333,
              "#9c179e"
             ],
             [
              0.4444444444444444,
              "#bd3786"
             ],
             [
              0.5555555555555556,
              "#d8576b"
             ],
             [
              0.6666666666666666,
              "#ed7953"
             ],
             [
              0.7777777777777778,
              "#fb9f3a"
             ],
             [
              0.8888888888888888,
              "#fdca26"
             ],
             [
              1,
              "#f0f921"
             ]
            ],
            "type": "heatmapgl"
           }
          ],
          "histogram": [
           {
            "marker": {
             "pattern": {
              "fillmode": "overlay",
              "size": 10,
              "solidity": 0.2
             }
            },
            "type": "histogram"
           }
          ],
          "histogram2d": [
           {
            "colorbar": {
             "outlinewidth": 0,
             "ticks": ""
            },
            "colorscale": [
             [
              0,
              "#0d0887"
             ],
             [
              0.1111111111111111,
              "#46039f"
             ],
             [
              0.2222222222222222,
              "#7201a8"
             ],
             [
              0.3333333333333333,
              "#9c179e"
             ],
             [
              0.4444444444444444,
              "#bd3786"
             ],
             [
              0.5555555555555556,
              "#d8576b"
             ],
             [
              0.6666666666666666,
              "#ed7953"
             ],
             [
              0.7777777777777778,
              "#fb9f3a"
             ],
             [
              0.8888888888888888,
              "#fdca26"
             ],
             [
              1,
              "#f0f921"
             ]
            ],
            "type": "histogram2d"
           }
          ],
          "histogram2dcontour": [
           {
            "colorbar": {
             "outlinewidth": 0,
             "ticks": ""
            },
            "colorscale": [
             [
              0,
              "#0d0887"
             ],
             [
              0.1111111111111111,
              "#46039f"
             ],
             [
              0.2222222222222222,
              "#7201a8"
             ],
             [
              0.3333333333333333,
              "#9c179e"
             ],
             [
              0.4444444444444444,
              "#bd3786"
             ],
             [
              0.5555555555555556,
              "#d8576b"
             ],
             [
              0.6666666666666666,
              "#ed7953"
             ],
             [
              0.7777777777777778,
              "#fb9f3a"
             ],
             [
              0.8888888888888888,
              "#fdca26"
             ],
             [
              1,
              "#f0f921"
             ]
            ],
            "type": "histogram2dcontour"
           }
          ],
          "mesh3d": [
           {
            "colorbar": {
             "outlinewidth": 0,
             "ticks": ""
            },
            "type": "mesh3d"
           }
          ],
          "parcoords": [
           {
            "line": {
             "colorbar": {
              "outlinewidth": 0,
              "ticks": ""
             }
            },
            "type": "parcoords"
           }
          ],
          "pie": [
           {
            "automargin": true,
            "type": "pie"
           }
          ],
          "scatter": [
           {
            "fillpattern": {
             "fillmode": "overlay",
             "size": 10,
             "solidity": 0.2
            },
            "type": "scatter"
           }
          ],
          "scatter3d": [
           {
            "line": {
             "colorbar": {
              "outlinewidth": 0,
              "ticks": ""
             }
            },
            "marker": {
             "colorbar": {
              "outlinewidth": 0,
              "ticks": ""
             }
            },
            "type": "scatter3d"
           }
          ],
          "scattercarpet": [
           {
            "marker": {
             "colorbar": {
              "outlinewidth": 0,
              "ticks": ""
             }
            },
            "type": "scattercarpet"
           }
          ],
          "scattergeo": [
           {
            "marker": {
             "colorbar": {
              "outlinewidth": 0,
              "ticks": ""
             }
            },
            "type": "scattergeo"
           }
          ],
          "scattergl": [
           {
            "marker": {
             "colorbar": {
              "outlinewidth": 0,
              "ticks": ""
             }
            },
            "type": "scattergl"
           }
          ],
          "scattermapbox": [
           {
            "marker": {
             "colorbar": {
              "outlinewidth": 0,
              "ticks": ""
             }
            },
            "type": "scattermapbox"
           }
          ],
          "scatterpolar": [
           {
            "marker": {
             "colorbar": {
              "outlinewidth": 0,
              "ticks": ""
             }
            },
            "type": "scatterpolar"
           }
          ],
          "scatterpolargl": [
           {
            "marker": {
             "colorbar": {
              "outlinewidth": 0,
              "ticks": ""
             }
            },
            "type": "scatterpolargl"
           }
          ],
          "scatterternary": [
           {
            "marker": {
             "colorbar": {
              "outlinewidth": 0,
              "ticks": ""
             }
            },
            "type": "scatterternary"
           }
          ],
          "surface": [
           {
            "colorbar": {
             "outlinewidth": 0,
             "ticks": ""
            },
            "colorscale": [
             [
              0,
              "#0d0887"
             ],
             [
              0.1111111111111111,
              "#46039f"
             ],
             [
              0.2222222222222222,
              "#7201a8"
             ],
             [
              0.3333333333333333,
              "#9c179e"
             ],
             [
              0.4444444444444444,
              "#bd3786"
             ],
             [
              0.5555555555555556,
              "#d8576b"
             ],
             [
              0.6666666666666666,
              "#ed7953"
             ],
             [
              0.7777777777777778,
              "#fb9f3a"
             ],
             [
              0.8888888888888888,
              "#fdca26"
             ],
             [
              1,
              "#f0f921"
             ]
            ],
            "type": "surface"
           }
          ],
          "table": [
           {
            "cells": {
             "fill": {
              "color": "#EBF0F8"
             },
             "line": {
              "color": "white"
             }
            },
            "header": {
             "fill": {
              "color": "#C8D4E3"
             },
             "line": {
              "color": "white"
             }
            },
            "type": "table"
           }
          ]
         },
         "layout": {
          "annotationdefaults": {
           "arrowcolor": "#2a3f5f",
           "arrowhead": 0,
           "arrowwidth": 1
          },
          "autotypenumbers": "strict",
          "coloraxis": {
           "colorbar": {
            "outlinewidth": 0,
            "ticks": ""
           }
          },
          "colorscale": {
           "diverging": [
            [
             0,
             "#8e0152"
            ],
            [
             0.1,
             "#c51b7d"
            ],
            [
             0.2,
             "#de77ae"
            ],
            [
             0.3,
             "#f1b6da"
            ],
            [
             0.4,
             "#fde0ef"
            ],
            [
             0.5,
             "#f7f7f7"
            ],
            [
             0.6,
             "#e6f5d0"
            ],
            [
             0.7,
             "#b8e186"
            ],
            [
             0.8,
             "#7fbc41"
            ],
            [
             0.9,
             "#4d9221"
            ],
            [
             1,
             "#276419"
            ]
           ],
           "sequential": [
            [
             0,
             "#0d0887"
            ],
            [
             0.1111111111111111,
             "#46039f"
            ],
            [
             0.2222222222222222,
             "#7201a8"
            ],
            [
             0.3333333333333333,
             "#9c179e"
            ],
            [
             0.4444444444444444,
             "#bd3786"
            ],
            [
             0.5555555555555556,
             "#d8576b"
            ],
            [
             0.6666666666666666,
             "#ed7953"
            ],
            [
             0.7777777777777778,
             "#fb9f3a"
            ],
            [
             0.8888888888888888,
             "#fdca26"
            ],
            [
             1,
             "#f0f921"
            ]
           ],
           "sequentialminus": [
            [
             0,
             "#0d0887"
            ],
            [
             0.1111111111111111,
             "#46039f"
            ],
            [
             0.2222222222222222,
             "#7201a8"
            ],
            [
             0.3333333333333333,
             "#9c179e"
            ],
            [
             0.4444444444444444,
             "#bd3786"
            ],
            [
             0.5555555555555556,
             "#d8576b"
            ],
            [
             0.6666666666666666,
             "#ed7953"
            ],
            [
             0.7777777777777778,
             "#fb9f3a"
            ],
            [
             0.8888888888888888,
             "#fdca26"
            ],
            [
             1,
             "#f0f921"
            ]
           ]
          },
          "colorway": [
           "#636efa",
           "#EF553B",
           "#00cc96",
           "#ab63fa",
           "#FFA15A",
           "#19d3f3",
           "#FF6692",
           "#B6E880",
           "#FF97FF",
           "#FECB52"
          ],
          "font": {
           "color": "#2a3f5f"
          },
          "geo": {
           "bgcolor": "white",
           "lakecolor": "white",
           "landcolor": "#E5ECF6",
           "showlakes": true,
           "showland": true,
           "subunitcolor": "white"
          },
          "hoverlabel": {
           "align": "left"
          },
          "hovermode": "closest",
          "mapbox": {
           "style": "light"
          },
          "paper_bgcolor": "white",
          "plot_bgcolor": "#E5ECF6",
          "polar": {
           "angularaxis": {
            "gridcolor": "white",
            "linecolor": "white",
            "ticks": ""
           },
           "bgcolor": "#E5ECF6",
           "radialaxis": {
            "gridcolor": "white",
            "linecolor": "white",
            "ticks": ""
           }
          },
          "scene": {
           "xaxis": {
            "backgroundcolor": "#E5ECF6",
            "gridcolor": "white",
            "gridwidth": 2,
            "linecolor": "white",
            "showbackground": true,
            "ticks": "",
            "zerolinecolor": "white"
           },
           "yaxis": {
            "backgroundcolor": "#E5ECF6",
            "gridcolor": "white",
            "gridwidth": 2,
            "linecolor": "white",
            "showbackground": true,
            "ticks": "",
            "zerolinecolor": "white"
           },
           "zaxis": {
            "backgroundcolor": "#E5ECF6",
            "gridcolor": "white",
            "gridwidth": 2,
            "linecolor": "white",
            "showbackground": true,
            "ticks": "",
            "zerolinecolor": "white"
           }
          },
          "shapedefaults": {
           "line": {
            "color": "#2a3f5f"
           }
          },
          "ternary": {
           "aaxis": {
            "gridcolor": "white",
            "linecolor": "white",
            "ticks": ""
           },
           "baxis": {
            "gridcolor": "white",
            "linecolor": "white",
            "ticks": ""
           },
           "bgcolor": "#E5ECF6",
           "caxis": {
            "gridcolor": "white",
            "linecolor": "white",
            "ticks": ""
           }
          },
          "title": {
           "x": 0.05
          },
          "xaxis": {
           "automargin": true,
           "gridcolor": "white",
           "linecolor": "white",
           "ticks": "",
           "title": {
            "standoff": 15
           },
           "zerolinecolor": "white",
           "zerolinewidth": 2
          },
          "yaxis": {
           "automargin": true,
           "gridcolor": "white",
           "linecolor": "white",
           "ticks": "",
           "title": {
            "standoff": 15
           },
           "zerolinecolor": "white",
           "zerolinewidth": 2
          }
         }
        },
        "title": {
         "text": "Allocated PNR Stats"
        },
        "xaxis": {
         "anchor": "y",
         "domain": [
          0,
          1
         ],
         "title": {
          "text": "type"
         }
        },
        "yaxis": {
         "anchor": "x",
         "domain": [
          0,
          1
         ],
         "title": {
          "text": "count"
         }
        }
       }
      }
     },
     "metadata": {},
     "output_type": "display_data"
    }
   ],
   "source": [
    "print(df.columns)\n",
    "total_allocated = 0\n",
    "count_same_arr = 0\n",
    "count_same_dep = 0\n",
    "count_diff_arrNdep = 0\n",
    "\n",
    "for index, row in df.iterrows():\n",
    "    if(len(row['allocated_classes'])!=2):\n",
    "        total_allocated += 1\n",
    "        count_same_arr += row['allocated_dst']==row['canclled_dst']\n",
    "        count_same_dep += row['allocated_src']==row['canclled_src']\n",
    "        count_diff_arrNdep += row['allocated_dst']!=row['canclled_dst'] and row['allocated_src']!=row['canclled_src']\n",
    "        \n",
    "df_allocated = pd.DataFrame({\n",
    "    'type': ['allocated']*2 + ['same_arr']*2 + ['same_dep']*2 + ['different_arrNdep']*2,\n",
    "    'y/n': ['yes', 'no']*4,\n",
    "    'count': [total_allocated, len(df)-total_allocated, count_same_arr, total_allocated-count_same_arr, count_same_dep, total_allocated-count_same_dep, count_diff_arrNdep, total_allocated-count_diff_arrNdep]\n",
    "})\n",
    "print(df_allocated)\n",
    "fig = px.bar(df_allocated, x=\"type\", y=\"count\", color=\"y/n\", title=\"Allocated PNR Stats\")\n",
    "fig.show()\n",
    "    "
   ]
  }
 ],
 "metadata": {
  "kernelspec": {
   "display_name": "base",
   "language": "python",
   "name": "python3"
  },
  "language_info": {
   "codemirror_mode": {
    "name": "ipython",
    "version": 3
   },
   "file_extension": ".py",
   "mimetype": "text/x-python",
   "name": "python",
   "nbconvert_exporter": "python",
   "pygments_lexer": "ipython3",
   "version": "3.9.16"
  }
 },
 "nbformat": 4,
 "nbformat_minor": 2
}
