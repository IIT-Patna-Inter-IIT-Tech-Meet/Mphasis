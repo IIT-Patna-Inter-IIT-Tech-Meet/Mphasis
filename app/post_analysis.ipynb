{
 "cells": [
  {
   "cell_type": "code",
   "execution_count": 45,
   "metadata": {},
   "outputs": [],
   "source": [
    "### TEST PLOTS\n",
    "import ast\n",
    "import plotly.graph_objects as go\n",
    "from plotly.subplots import make_subplots\n",
    "import plotly.express as px\n",
    "import pandas as pd\n",
    "\n",
    "DIVIDER = \"----------------\""
   ]
  },
  {
   "cell_type": "code",
   "execution_count": 46,
   "metadata": {},
   "outputs": [
    {
     "name": "stdout",
     "output_type": "stream",
     "text": [
      "Index(['pnr', 'pax', 'pnr_score', 'canclled_flight', 'canclled_class',\n",
      "       'canclled_flight_departure', 'canclled_flight_arrival', 'canclled_src',\n",
      "       'canclled_dst', 'allocated_src', 'allocated_dst', 'allocated_flights',\n",
      "       'allocated_flights_departure', 'allocated_flights_arrival',\n",
      "       'allocated_classes', 'flight_time', 'allocated_flights_score'],\n",
      "      dtype='object')\n"
     ]
    }
   ],
   "source": [
    "df = pd.read_csv(\"result_3c.csv\")\n",
    "print(df.keys())"
   ]
  },
  {
   "cell_type": "code",
   "execution_count": 50,
   "metadata": {},
   "outputs": [
    {
     "name": "stdout",
     "output_type": "stream",
     "text": [
      "PNR Score Stats\n",
      "Mean PNR Score:  6649.659863945578\n",
      "Std Dev. PNR Score:  4340.439454337752\n",
      "Max PNR Score:  20000\n",
      "Min PNR Score:  600\n",
      "----------------\n",
      "PNR-FLIGHT Score Stats\n",
      "Mean PNR-FLIGHT Score:  1364762.194293448\n",
      "Std Dev. PNR-FLIGHT Score:  15028424.52929255\n",
      "Max PNR-FLIGHT Score:  239280572.9116976\n",
      "Min PNR-FLIGHT Score:  -1.0\n",
      "----------------\n",
      "Allocation Stats\n",
      "Total pnr:  441\n",
      "Total allocated pnr:  346\n",
      "Total unallocated pnr:  95\n",
      "Total Passengers:  1492\n",
      "Total Allocatted passengers:  1251\n",
      "----------------\n",
      "Connection Stats\n",
      "Unallocated :  95\n",
      "Direct :  180\n",
      "One Stop :  77\n",
      "Two Stop :  89\n",
      "----------------\n",
      "Cancelled Flight Level Stats\n",
      "Total Cancelled Flights:  20\n",
      "Flight id\tTotal PNR\tReAllocated PNR\tUnallocated PNR\tReAllocated Passengers\tUnAllocated Passengers\tUpgraded PNR\tSameState PNR\tDowngraded PNR\tDefault Flight\tDefault Allocation\n",
      "INV-ZZ-4593004\t45\t45\t0\t166\t0\t0\t42\t3\t('INV-ZZ-6528112', 'INV-ZZ-2180405', 'INV-ZZ-4861936')\t16\n",
      "INV-ZZ-7350302\t37\t37\t0\t154\t0\t0\t37\t0\t('INV-ZZ-2620425',)\t36\n",
      "INV-ZZ-6584575\t11\t11\t0\t49\t0\t1\t10\t0\t('INV-ZZ-4863717', 'INV-ZZ-4298296', 'INV-ZZ-7010715')\t11\n",
      "INV-ZZ-3019482\t22\t9\t13\t45\t33\t5\t3\t1\t('INV-ZZ-7491504', 'INV-ZZ-2557520', 'INV-ZZ-5235833')\t8\n",
      "INV-ZZ-2681240\t35\t35\t0\t103\t0\t0\t35\t0\t('INV-ZZ-4055983',)\t35\n",
      "INV-ZZ-6335749\t36\t36\t0\t140\t0\t0\t34\t2\t('INV-ZZ-8591127',)\t17\n",
      "INV-ZZ-6163754\t55\t14\t41\t80\t98\t4\t6\t4\t('INV-ZZ-7803326',)\t14\n",
      "INV-ZZ-5467478\t20\t0\t20\t0\t70\t0\t0\t0\tNone\t0\n",
      "INV-ZZ-5556952\t24\t24\t0\t115\t0\t0\t24\t0\t('INV-ZZ-4772145',)\t17\n",
      "INV-ZZ-2909000\t15\t15\t0\t44\t0\t0\t13\t2\t('INV-ZZ-1443915', 'INV-ZZ-6008577')\t15\n",
      "INV-ZZ-3292541\t30\t24\t6\t69\t6\t5\t16\t3\t('INV-ZZ-5078135', 'INV-ZZ-2921679', 'INV-ZZ-3184849')\t16\n",
      "INV-ZZ-2206696\t24\t9\t15\t41\t34\t4\t5\t0\t('INV-ZZ-3865847',)\t9\n",
      "INV-ZZ-8249458\t19\t19\t0\t53\t0\t3\t14\t2\t('INV-ZZ-6239853',)\t10\n",
      "INV-ZZ-9027840\t21\t21\t0\t68\t0\t2\t19\t0\t('INV-ZZ-4023564', 'INV-ZZ-9570629')\t17\n",
      "INV-ZZ-6567308\t7\t7\t0\t18\t0\t0\t7\t0\t('INV-ZZ-2946425',)\t7\n",
      "INV-ZZ-4019127\t17\t17\t0\t54\t0\t2\t14\t1\t('INV-ZZ-5649379',)\t14\n",
      "INV-ZZ-8515812\t9\t9\t0\t21\t0\t0\t9\t0\t('INV-ZZ-1357936',)\t9\n",
      "INV-ZZ-1828959\t2\t2\t0\t10\t0\t0\t2\t0\t('INV-ZZ-1129237', 'INV-ZZ-8660705', 'INV-ZZ-5340091')\t2\n",
      "INV-ZZ-6158208\t5\t5\t0\t8\t0\t0\t5\t0\t('INV-ZZ-6545466', 'INV-ZZ-5721568')\t5\n",
      "INV-ZZ-9698950\t7\t7\t0\t13\t0\t0\t7\t0\t('INV-ZZ-9426800', 'INV-ZZ-6399321')\t7\n",
      "----------------\n",
      "Delay Stats\n",
      "Mean Delay:  27.7890655105973\n",
      "Std Dev. Delay:  20.804695526149683\n",
      "Max Delay:  69.55\n"
     ]
    }
   ],
   "source": [
    "## STATIC REPOPRT\n",
    "mean_score = df[\"pnr_score\"].mean()\n",
    "std_dev_score = df[\"pnr_score\"].std()\n",
    "print(\"PNR Score Stats\")\n",
    "print(\"Mean PNR Score: \", mean_score)\n",
    "print(\"Std Dev. PNR Score: \", std_dev_score)\n",
    "print(\"Max PNR Score: \", df[\"pnr_score\"].max())\n",
    "print(\"Min PNR Score: \", df[\"pnr_score\"].min())\n",
    "print(DIVIDER)\n",
    "\n",
    "mean_score = df[\"allocated_flights_score\"].mean()\n",
    "std_dev_score = df[\"allocated_flights_score\"].std()\n",
    "print(\"PNR-FLIGHT Score Stats\")\n",
    "print(\"Mean PNR-FLIGHT Score: \", mean_score)\n",
    "print(\"Std Dev. PNR-FLIGHT Score: \", std_dev_score)\n",
    "print(\"Max PNR-FLIGHT Score: \", df[\"allocated_flights_score\"].max())\n",
    "print(\"Min PNR-FLIGHT Score: \", df[\"allocated_flights_score\"].min())\n",
    "print(DIVIDER)\n",
    "\n",
    "tap = 0\n",
    "for _, row in df.iterrows():\n",
    "    if type(row[\"allocated_src\"]) == str:\n",
    "        tap += int(row[\"pax\"])\n",
    "\n",
    "print(\"Allocation Stats\")\n",
    "total = df[\"pnr\"].count()\n",
    "allocated = df[\"allocated_src\"].count()\n",
    "print(\"Total pnr: \", total)\n",
    "print(\"Total allocated pnr: \", allocated)\n",
    "print(\"Total unallocated pnr: \", total - allocated)\n",
    "print(\"Total Passengers: \", df[\"pax\"].sum())\n",
    "print(\"Total Allocatted passengers: \", tap)\n",
    "\n",
    "print(DIVIDER)\n",
    "print(\"Connection Stats\")\n",
    "\n",
    "conn = [0, 0, 0, 0]\n",
    "for x in df[\"allocated_flights\"]:\n",
    "    # laod to a list\n",
    "    x = ast.literal_eval(x)\n",
    "    conn[len(x)] += 1\n",
    "\n",
    "print(\"Unallocated : \", conn[0])\n",
    "print(\"Direct : \", conn[1])\n",
    "print(\"One Stop : \", conn[2])\n",
    "print(\"Two Stop : \", conn[3])\n",
    "\n",
    "print(DIVIDER)\n",
    "class_map = {\"F\": 0, \"B\": 1, \"P\": 2, \"E\": 3}\n",
    "flight_stats = {}\n",
    "for _, row in df.iterrows():\n",
    "    r_flight = ast.literal_eval(row[\"canclled_flight\"])[0]\n",
    "    if r_flight not in flight_stats:\n",
    "        flight_stats[r_flight] = {\n",
    "            \"total_pnr\": 0,\n",
    "            \"allocated_pnr\": 0,\n",
    "            \"unallocated_pnr\": 0,\n",
    "            \"allocated_passengers\": 0,\n",
    "            \"unallocated_passengers\": 0,\n",
    "            \"upgraded_pnr\": 0,\n",
    "            \"samestate_pnr\": 0,\n",
    "            \"downgraded_pnr\": 0,\n",
    "            \"allocated_flight\": {},\n",
    "            \"default_flight\": None,\n",
    "            \"default_allocation\": 0\n",
    "        }\n",
    "\n",
    "    flight_stats[r_flight][\"total_pnr\"] += 1\n",
    "    if type(row[\"allocated_src\"]) == str:\n",
    "        flight_stats[r_flight][\"allocated_pnr\"] += 1\n",
    "        flight_stats[r_flight][\"allocated_passengers\"] += int(row[\"pax\"])\n",
    "    else:\n",
    "        flight_stats[r_flight][\"unallocated_pnr\"] += 1\n",
    "        flight_stats[r_flight][\"unallocated_passengers\"] += int(row[\"pax\"])\n",
    "\n",
    "\n",
    "    if type(row[\"allocated_src\"]) == str:\n",
    "        r_class_score = float(class_map[row[\"canclled_class\"]])\n",
    "        a_class_score = sum([class_map[x] for x in ast.literal_eval(row[\"allocated_classes\"])]) / max(\n",
    "            len(ast.literal_eval(row[\"allocated_classes\"])), 1\n",
    "        )\n",
    "        # print(r_class_score, a_class_score, row[\"canclled_class\"], ast.literal_eval(row[\"allocated_classes\"]))\n",
    "        if r_class_score > a_class_score:\n",
    "            flight_stats[r_flight][\"upgraded_pnr\"] += 1\n",
    "        elif r_class_score < a_class_score:\n",
    "            flight_stats[r_flight][\"downgraded_pnr\"] += 1\n",
    "        else:\n",
    "            flight_stats[r_flight][\"samestate_pnr\"] += 1\n",
    "\n",
    "        k = tuple(ast.literal_eval(row[\"allocated_flights\"]))\n",
    "        if flight_stats[r_flight][\"allocated_flight\"].get(k) is None:\n",
    "            flight_stats[r_flight][\"allocated_flight\"][k] = 0\n",
    "        flight_stats[r_flight][\"allocated_flight\"][k] += 1\n",
    "\n",
    "for flight, details in flight_stats.items():\n",
    "    max_count = 0\n",
    "    max_flight = None\n",
    "    for k, v in details[\"allocated_flight\"].items():\n",
    "        if v > max_count:\n",
    "            max_count = v\n",
    "            max_flight = k\n",
    "    flight_stats[flight][\"default_flight\"] = max_flight\n",
    "    flight_stats[flight][\"default_allocation\"] = max_count\n",
    "\n",
    "\n",
    "print(\"Cancelled Flight Level Stats\")\n",
    "print(\"Total Cancelled Flights: \", len(flight_stats))\n",
    "print(\n",
    "    \"Flight id\\tTotal PNR\\tReAllocated PNR\\tUnallocated PNR\\tReAllocated Passengers\\tUnAllocated Passengers\\tUpgraded PNR\\tSameState PNR\\tDowngraded PNR\\tDefault Flight\\tDefault Allocation\"\n",
    ")\n",
    "for k, v in flight_stats.items():\n",
    "    print(\n",
    "        f\"{k}\\t{v['total_pnr']}\\t{v['allocated_pnr']}\\t{v['unallocated_pnr']}\\t{v['allocated_passengers']}\\t{v['unallocated_passengers']}\\t{v['upgraded_pnr']}\\t{v['samestate_pnr']}\\t{v['downgraded_pnr']}\\t{v['default_flight']}\\t{v['default_allocation']}\"\n",
    "    )\n",
    "\n",
    "df['canclled_flight_arrival'] = pd.to_datetime(df['canclled_flight_arrival'])\n",
    "df['allocated_flights_arrival'] = pd.to_datetime(df['allocated_flights_arrival'])\n",
    "\n",
    "# Calculate the delay\n",
    "df['delay'] = (df['allocated_flights_arrival'] - df['canclled_flight_arrival']).dt.total_seconds() / 3600\n",
    "print(DIVIDER)\n",
    "print(\"Delay Stats\")\n",
    "print(\"Mean Delay: \", df['delay'].mean())\n",
    "print(\"Std Dev. Delay: \", df['delay'].std())\n",
    "print(\"Max Delay: \", df['delay'].max())\n",
    "\n"
   ]
  },
  {
   "cell_type": "code",
   "execution_count": null,
   "metadata": {},
   "outputs": [
    {
     "name": "stdout",
     "output_type": "stream",
     "text": [
      "1364762.194293448 15028424.52929255\n"
     ]
    },
    {
     "data": {
      "application/vnd.plotly.v1+json": {
       "config": {
        "plotlyServerURL": "https://plot.ly"
       },
       "data": [
        {
         "alignmentgroup": "True",
         "hovertemplate": "pnr=%{x}<br>PNR Score=%{y}<extra></extra>",
         "legendgroup": "",
         "marker": {
          "color": "#636efa",
          "pattern": {
           "shape": ""
          }
         },
         "name": "",
         "offsetgroup": "",
         "orientation": "v",
         "showlegend": false,
         "textposition": "auto",
         "type": "bar",
         "x": [
          "ZAYQ95",
          "NMTD35",
          "RZCK11",
          "RHQM89",
          "GZYF33",
          "XJNU84",
          "FUVL92",
          "OMLQ33",
          "LWFN72",
          "XWXT51",
          "PCBB83",
          "QSQK52",
          "UGGA36",
          "BMHR27",
          "CNGW35",
          "HWDN41",
          "SDPG36",
          "WEXC75",
          "GZLX52",
          "WCYZ75",
          "YSRN78",
          "DGUY89",
          "BRRE63",
          "EHTL62",
          "REDC14",
          "KEMK40",
          "YSYT29",
          "DQQI72",
          "HMHR27",
          "WVDC11",
          "FEVD12",
          "HJZU68",
          "RBPN19",
          "FNCM77",
          "JIFY75",
          "TUOD75",
          "YZCI55",
          "BPUC79",
          "LQGZ64",
          "RGSJ38",
          "QMJS18",
          "AJHW56",
          "GTGJ94",
          "SRWW51",
          "DHLQ26",
          "SHXE32",
          "CZEX94",
          "OCGB46",
          "WMQJ11",
          "WETY43",
          "HPDR77",
          "PNCR49",
          "NPTE60",
          "LRRN18",
          "CKZR46",
          "INXR24",
          "JYRH41",
          "CVZD73",
          "GUBX34",
          "QMJI29",
          "DRHW78",
          "MMGV61",
          "ZDVU26",
          "UMXS24",
          "RJKU16",
          "XLHV24",
          "MFDK54",
          "XAJF93",
          "JKQQ34",
          "WEEL32",
          "LGOO36",
          "DKTC49",
          "GDXH90",
          "WKRQ97",
          "TQNJ44",
          "TPFW28",
          "WXBF10",
          "BXQH89",
          "WUSR65",
          "CWVP42",
          "GIJK13",
          "LZEB21",
          "JTIH36",
          "UCVD54",
          "BCPM13",
          "YELO31",
          "ZQZT35",
          "YRSP26",
          "DKWZ67",
          "XLYW27",
          "PMLK52",
          "SNWN58",
          "SCVU56",
          "SANS27",
          "AGBU82",
          "PJCC49",
          "UWGE22",
          "BPUI99",
          "OOWE64",
          "SAVF19",
          "BXCL56",
          "VGUH29",
          "YUNX33",
          "OKMX93",
          "ABTN53",
          "JIWF86",
          "BPDE64",
          "SFSI66",
          "TCQA74",
          "QOMR13",
          "GXIZ46",
          "LIXR98",
          "YRNM53",
          "WCEQ28",
          "BKRB38",
          "RHKW49",
          "ZGYI64",
          "VXKE34",
          "PHPH70",
          "YYLO17",
          "NDFJ51",
          "LDAI54",
          "ERYG81",
          "IHDE63",
          "EQSL99",
          "ERRF82",
          "OKHV28",
          "JEBG64",
          "HNSU28",
          "HPOE30",
          "ZXNO75",
          "YAQW89",
          "LRHD84",
          "WFRD54",
          "KELK27",
          "MUZQ61",
          "JQIA12",
          "HOVH72",
          "NFDU27",
          "ICRP42",
          "CIVB27",
          "KPES84",
          "DLHP64",
          "JQDM98",
          "LWVG59",
          "RUZF22",
          "ABNA53",
          "SDJN64",
          "XNST91",
          "BQCH58",
          "FPOZ45",
          "LTWF60",
          "VFBU86",
          "FEOP40",
          "THGF27",
          "AQZZ99",
          "NANZ76",
          "FNUV81",
          "ISVB14",
          "WXEP18",
          "USXA30",
          "KQUY99",
          "DPYG49",
          "NKFP32",
          "HMUG31",
          "REHF21",
          "ALQW26",
          "EOFS84",
          "CQRH39",
          "WXEX62",
          "MCRK77",
          "WOAF84",
          "IYUF79",
          "CWSQ13",
          "SQRS94",
          "TIAL29",
          "FENI82",
          "FLVL38",
          "RFEJ53",
          "LGSF65",
          "VTLA94",
          "RCAM62",
          "PXQJ69",
          "RXJL39",
          "NMBC94",
          "CISK65",
          "FGYS82",
          "OIAP21",
          "XXOF59",
          "BJEJ13",
          "SWBE48",
          "TGZM51",
          "TFKY29",
          "IENP72",
          "FZDJ12",
          "SZSN61",
          "QVDX41",
          "EGTR61",
          "KQVU99",
          "JAQT74",
          "KQOT45",
          "OEIB74",
          "OZMG18",
          "JBVY98",
          "FLSG41",
          "XMPX49",
          "EXMO66",
          "VMJD72",
          "ORAF34",
          "DXQM13",
          "UOMJ35",
          "DLXO11",
          "XBSB88",
          "FQGN23",
          "UFAI49",
          "OMXA57",
          "UBRE60",
          "HTQT32",
          "SLDZ63",
          "KWMC60",
          "QKNM36",
          "IJXK37",
          "YQCN75",
          "ITDA87",
          "GXBI93",
          "KNSM52",
          "KFVJ30",
          "DRON90",
          "UFUA76",
          "QIKX76",
          "PEID52",
          "KBHY97",
          "TBVJ40",
          "WXIE33",
          "VOZS71",
          "YVQJ61",
          "MURE63",
          "SUAX93",
          "VBYN44",
          "LDMI21",
          "QYID97",
          "SKQU62",
          "BIGO89",
          "RLTD83",
          "ZDMY76",
          "QWDP52",
          "XGGQ55",
          "XIPA62",
          "SLQG29",
          "UUSP65",
          "QXLA51",
          "FWIN28",
          "FEMC10",
          "JKVU43",
          "ABTG22",
          "PGYB37",
          "WDTZ85",
          "CQGJ35",
          "HSBX72",
          "JULZ40",
          "BMIP35",
          "EZCI36",
          "WSFC85",
          "GGUG30",
          "EUSY16",
          "LGHJ81",
          "OIMA22",
          "WYNM81",
          "UIAZ42",
          "ZGIC89",
          "PUCK75",
          "AFDF67",
          "XTOG82",
          "HVXB86",
          "FYNE44",
          "DEIW46",
          "OVJN48",
          "UDPT14",
          "MZDX80",
          "NSCT87",
          "KRZV69",
          "ZRSM83",
          "HWAA68",
          "RLHZ21",
          "EZEH17",
          "NXOT58",
          "HZNU58",
          "CCDY38",
          "KFPG85",
          "XDUH86",
          "BQRC35",
          "JGIC74",
          "YWFU73",
          "MUJV35",
          "SAGM82",
          "RISW72",
          "MKKK18",
          "TVPN19",
          "PVEQ37",
          "ZPKQ28",
          "KPCY77",
          "QWEK34",
          "GUHW10",
          "QEMH59",
          "SQOR64",
          "NZEA54",
          "FGTH37",
          "KIHU37",
          "HUEB37",
          "KONV97",
          "JGRA63",
          "RAMV64",
          "LHOY77",
          "NOGQ18",
          "VHUV32",
          "TBGD81",
          "TZUL67",
          "EVQW32",
          "DDDJ77",
          "TWXV64",
          "TTMQ84",
          "FWMN74",
          "SVKI92",
          "LTLZ64",
          "UFMJ19",
          "VZWN82",
          "ZTLH37",
          "ONUP16",
          "HSIQ21",
          "KTKC26",
          "QVCQ71",
          "GUMP42",
          "NQKY66",
          "LHMS81",
          "PCYA34",
          "GDZA87",
          "LFRR61",
          "GXIX65",
          "QYLQ68",
          "IMNP88",
          "SHXG23",
          "MWEU69",
          "YKCW30",
          "HJAI83",
          "UOLQ18",
          "YPYM38",
          "TXWS41",
          "VMDE58",
          "OUZV27",
          "QSRD31",
          "DXYS80",
          "WVIR35",
          "TPQB95",
          "FVUQ65",
          "RLWJ76",
          "IDMW10",
          "ESMK94",
          "EWPW67",
          "BSXS25",
          "FYKL19",
          "ONQG21",
          "OSMM78",
          "LCXO68",
          "ZLHQ74",
          "QDHK22",
          "HVUE68",
          "LZMY53",
          "NREW60",
          "HUEK35",
          "RPKY73",
          "XRPO74",
          "ZQAQ83",
          "EAZQ19",
          "GUGG50",
          "IWFO10",
          "IHMJ19",
          "EFNF62",
          "YGXB97",
          "XCRN33",
          "AICC84",
          "TEZG61",
          "YNUE22",
          "BTJU72",
          "MOKS36",
          "EVEU68",
          "SLOX19",
          "XRWA86",
          "NSBM59",
          "FATS69",
          "ZEJY31",
          "JBMO54",
          "MHSY67",
          "AKNE57",
          "EBFI79",
          "GRVX24",
          "TKNP60",
          "ITGO53",
          "VLUA59",
          "IPBC92",
          "GJUC90",
          "TISN30",
          "SIOF38",
          "SQGC99",
          "JNVV50",
          "DUOE90",
          "XPVA53",
          "DVMU59",
          "WLLQ47",
          "UAVW36",
          "XTIX31",
          "WLMG91",
          "TQSJ60",
          "PIYQ80",
          "IMCV41",
          "FMAI13",
          "BBHZ96",
          "IDWV24",
          "MRPD83",
          "ZXDB50",
          "APTR55",
          "KBVW44",
          "NUMZ67",
          "JWHM91",
          "NJWI21",
          "BPHU44",
          "SLOW66",
          "HYZT70",
          "TXNT56",
          "XQRV82",
          "IKGO39",
          "BRZA84",
          "GBUT76",
          "JQZF79",
          "PWYT95",
          "KGXH80",
          "UIQN34",
          "XWMO74",
          "BEFE10",
          "CJFA47",
          "FIPP58",
          "EPEC54"
         ],
         "xaxis": "x",
         "y": [
          20000,
          19200,
          18600,
          18600,
          18600,
          18500,
          18400,
          18200,
          18000,
          17600,
          16600,
          16600,
          16100,
          16000,
          15700,
          15700,
          15600,
          15600,
          15500,
          15100,
          15100,
          15000,
          15000,
          14600,
          14500,
          14500,
          14500,
          14500,
          14500,
          14300,
          14100,
          14100,
          14100,
          14100,
          14000,
          14000,
          14000,
          13800,
          13700,
          13600,
          13600,
          13600,
          13600,
          13500,
          13300,
          13100,
          13100,
          13100,
          13100,
          13100,
          13000,
          13000,
          12200,
          12100,
          12100,
          12000,
          12000,
          11700,
          11700,
          11600,
          11600,
          11600,
          11500,
          11500,
          11400,
          11300,
          11200,
          11100,
          11100,
          11100,
          11100,
          11000,
          11000,
          11000,
          11000,
          11000,
          10800,
          10700,
          10700,
          10600,
          10600,
          10600,
          10600,
          10500,
          10500,
          10500,
          10500,
          10500,
          10500,
          10500,
          10200,
          10200,
          10100,
          10100,
          10100,
          10100,
          10100,
          10100,
          10000,
          10000,
          10000,
          10000,
          10000,
          10000,
          9600,
          9600,
          9600,
          9600,
          9600,
          9600,
          9500,
          9500,
          9500,
          9500,
          9500,
          9500,
          9500,
          9500,
          9500,
          9100,
          9100,
          9100,
          9100,
          9000,
          9000,
          9000,
          9000,
          9000,
          9000,
          8700,
          8700,
          8600,
          8600,
          8600,
          8500,
          8500,
          8500,
          8500,
          8500,
          8500,
          8500,
          8300,
          8300,
          8200,
          8200,
          8100,
          8100,
          8000,
          8000,
          8000,
          8000,
          8000,
          8000,
          8000,
          8000,
          7700,
          7600,
          7600,
          7600,
          7500,
          7500,
          7500,
          7500,
          7200,
          7200,
          7200,
          7100,
          7100,
          7000,
          7000,
          7000,
          7000,
          7000,
          7000,
          7000,
          7000,
          7000,
          7000,
          7000,
          7000,
          7000,
          7000,
          7000,
          7000,
          7000,
          6700,
          6600,
          6600,
          6600,
          6600,
          6500,
          6500,
          6500,
          6500,
          6500,
          6500,
          6500,
          6100,
          6100,
          6100,
          6100,
          6000,
          6000,
          6000,
          6000,
          6000,
          6000,
          6000,
          6000,
          6000,
          5700,
          5700,
          5700,
          5600,
          5600,
          5500,
          5500,
          5500,
          5500,
          5500,
          5500,
          5500,
          5500,
          5500,
          5500,
          5500,
          5200,
          5100,
          5100,
          5100,
          5100,
          5000,
          5000,
          5000,
          5000,
          5000,
          5000,
          5000,
          5000,
          5000,
          5000,
          5000,
          5000,
          5000,
          5000,
          5000,
          5000,
          5000,
          5000,
          4800,
          4700,
          4700,
          4600,
          4600,
          4600,
          4600,
          4600,
          4500,
          4500,
          4500,
          4500,
          4500,
          4500,
          4500,
          4500,
          4500,
          4500,
          4500,
          4500,
          4500,
          4500,
          4500,
          4500,
          4500,
          4500,
          4500,
          4500,
          4500,
          4500,
          4500,
          4500,
          4500,
          4300,
          4300,
          4200,
          4200,
          4200,
          4200,
          4100,
          4100,
          4100,
          4100,
          4000,
          4000,
          4000,
          4000,
          4000,
          4000,
          4000,
          4000,
          4000,
          4000,
          4000,
          4000,
          4000,
          4000,
          4000,
          3700,
          3600,
          3600,
          3600,
          3600,
          3600,
          3500,
          3500,
          3500,
          3500,
          3500,
          3500,
          3500,
          3500,
          3500,
          3500,
          3500,
          3500,
          3500,
          3500,
          3500,
          3500,
          3500,
          3500,
          3500,
          3500,
          3500,
          3500,
          3200,
          3100,
          3100,
          3100,
          3000,
          3000,
          3000,
          3000,
          3000,
          3000,
          3000,
          3000,
          3000,
          3000,
          3000,
          3000,
          2700,
          2700,
          2600,
          2600,
          2600,
          2600,
          2500,
          2500,
          2500,
          2500,
          2500,
          2500,
          2500,
          2500,
          2500,
          2500,
          2500,
          2500,
          2500,
          2500,
          2500,
          2500,
          2500,
          2500,
          2500,
          2500,
          2500,
          2500,
          2100,
          2100,
          2100,
          2000,
          2000,
          2000,
          2000,
          2000,
          2000,
          2000,
          2000,
          1600,
          1600,
          1600,
          1600,
          1600,
          1600,
          1600,
          1500,
          1500,
          1500,
          1500,
          1500,
          1500,
          1500,
          1500,
          1500,
          1500,
          1500,
          1500,
          1500,
          1500,
          1500,
          1500,
          1500,
          1500,
          1500,
          1500,
          1300,
          1100,
          1100,
          1000,
          1000,
          1000,
          1000,
          1000,
          1000,
          1000,
          1000,
          1000,
          1000,
          600,
          600,
          600,
          600,
          600,
          600,
          600,
          600,
          600,
          600,
          600
         ],
         "yaxis": "y"
        }
       ],
       "layout": {
        "barmode": "relative",
        "legend": {
         "tracegroupgap": 0
        },
        "shapes": [
         {
          "line": {
           "color": "red",
           "width": 2
          },
          "name": "Mean",
          "type": "line",
          "x0": -0.5,
          "x1": 440.5,
          "y0": 1364762.194293448,
          "y1": 1364762.194293448
         }
        ],
        "template": {
         "data": {
          "bar": [
           {
            "error_x": {
             "color": "#2a3f5f"
            },
            "error_y": {
             "color": "#2a3f5f"
            },
            "marker": {
             "line": {
              "color": "#E5ECF6",
              "width": 0.5
             },
             "pattern": {
              "fillmode": "overlay",
              "size": 10,
              "solidity": 0.2
             }
            },
            "type": "bar"
           }
          ],
          "barpolar": [
           {
            "marker": {
             "line": {
              "color": "#E5ECF6",
              "width": 0.5
             },
             "pattern": {
              "fillmode": "overlay",
              "size": 10,
              "solidity": 0.2
             }
            },
            "type": "barpolar"
           }
          ],
          "carpet": [
           {
            "aaxis": {
             "endlinecolor": "#2a3f5f",
             "gridcolor": "white",
             "linecolor": "white",
             "minorgridcolor": "white",
             "startlinecolor": "#2a3f5f"
            },
            "baxis": {
             "endlinecolor": "#2a3f5f",
             "gridcolor": "white",
             "linecolor": "white",
             "minorgridcolor": "white",
             "startlinecolor": "#2a3f5f"
            },
            "type": "carpet"
           }
          ],
          "choropleth": [
           {
            "colorbar": {
             "outlinewidth": 0,
             "ticks": ""
            },
            "type": "choropleth"
           }
          ],
          "contour": [
           {
            "colorbar": {
             "outlinewidth": 0,
             "ticks": ""
            },
            "colorscale": [
             [
              0,
              "#0d0887"
             ],
             [
              0.1111111111111111,
              "#46039f"
             ],
             [
              0.2222222222222222,
              "#7201a8"
             ],
             [
              0.3333333333333333,
              "#9c179e"
             ],
             [
              0.4444444444444444,
              "#bd3786"
             ],
             [
              0.5555555555555556,
              "#d8576b"
             ],
             [
              0.6666666666666666,
              "#ed7953"
             ],
             [
              0.7777777777777778,
              "#fb9f3a"
             ],
             [
              0.8888888888888888,
              "#fdca26"
             ],
             [
              1,
              "#f0f921"
             ]
            ],
            "type": "contour"
           }
          ],
          "contourcarpet": [
           {
            "colorbar": {
             "outlinewidth": 0,
             "ticks": ""
            },
            "type": "contourcarpet"
           }
          ],
          "heatmap": [
           {
            "colorbar": {
             "outlinewidth": 0,
             "ticks": ""
            },
            "colorscale": [
             [
              0,
              "#0d0887"
             ],
             [
              0.1111111111111111,
              "#46039f"
             ],
             [
              0.2222222222222222,
              "#7201a8"
             ],
             [
              0.3333333333333333,
              "#9c179e"
             ],
             [
              0.4444444444444444,
              "#bd3786"
             ],
             [
              0.5555555555555556,
              "#d8576b"
             ],
             [
              0.6666666666666666,
              "#ed7953"
             ],
             [
              0.7777777777777778,
              "#fb9f3a"
             ],
             [
              0.8888888888888888,
              "#fdca26"
             ],
             [
              1,
              "#f0f921"
             ]
            ],
            "type": "heatmap"
           }
          ],
          "heatmapgl": [
           {
            "colorbar": {
             "outlinewidth": 0,
             "ticks": ""
            },
            "colorscale": [
             [
              0,
              "#0d0887"
             ],
             [
              0.1111111111111111,
              "#46039f"
             ],
             [
              0.2222222222222222,
              "#7201a8"
             ],
             [
              0.3333333333333333,
              "#9c179e"
             ],
             [
              0.4444444444444444,
              "#bd3786"
             ],
             [
              0.5555555555555556,
              "#d8576b"
             ],
             [
              0.6666666666666666,
              "#ed7953"
             ],
             [
              0.7777777777777778,
              "#fb9f3a"
             ],
             [
              0.8888888888888888,
              "#fdca26"
             ],
             [
              1,
              "#f0f921"
             ]
            ],
            "type": "heatmapgl"
           }
          ],
          "histogram": [
           {
            "marker": {
             "pattern": {
              "fillmode": "overlay",
              "size": 10,
              "solidity": 0.2
             }
            },
            "type": "histogram"
           }
          ],
          "histogram2d": [
           {
            "colorbar": {
             "outlinewidth": 0,
             "ticks": ""
            },
            "colorscale": [
             [
              0,
              "#0d0887"
             ],
             [
              0.1111111111111111,
              "#46039f"
             ],
             [
              0.2222222222222222,
              "#7201a8"
             ],
             [
              0.3333333333333333,
              "#9c179e"
             ],
             [
              0.4444444444444444,
              "#bd3786"
             ],
             [
              0.5555555555555556,
              "#d8576b"
             ],
             [
              0.6666666666666666,
              "#ed7953"
             ],
             [
              0.7777777777777778,
              "#fb9f3a"
             ],
             [
              0.8888888888888888,
              "#fdca26"
             ],
             [
              1,
              "#f0f921"
             ]
            ],
            "type": "histogram2d"
           }
          ],
          "histogram2dcontour": [
           {
            "colorbar": {
             "outlinewidth": 0,
             "ticks": ""
            },
            "colorscale": [
             [
              0,
              "#0d0887"
             ],
             [
              0.1111111111111111,
              "#46039f"
             ],
             [
              0.2222222222222222,
              "#7201a8"
             ],
             [
              0.3333333333333333,
              "#9c179e"
             ],
             [
              0.4444444444444444,
              "#bd3786"
             ],
             [
              0.5555555555555556,
              "#d8576b"
             ],
             [
              0.6666666666666666,
              "#ed7953"
             ],
             [
              0.7777777777777778,
              "#fb9f3a"
             ],
             [
              0.8888888888888888,
              "#fdca26"
             ],
             [
              1,
              "#f0f921"
             ]
            ],
            "type": "histogram2dcontour"
           }
          ],
          "mesh3d": [
           {
            "colorbar": {
             "outlinewidth": 0,
             "ticks": ""
            },
            "type": "mesh3d"
           }
          ],
          "parcoords": [
           {
            "line": {
             "colorbar": {
              "outlinewidth": 0,
              "ticks": ""
             }
            },
            "type": "parcoords"
           }
          ],
          "pie": [
           {
            "automargin": true,
            "type": "pie"
           }
          ],
          "scatter": [
           {
            "fillpattern": {
             "fillmode": "overlay",
             "size": 10,
             "solidity": 0.2
            },
            "type": "scatter"
           }
          ],
          "scatter3d": [
           {
            "line": {
             "colorbar": {
              "outlinewidth": 0,
              "ticks": ""
             }
            },
            "marker": {
             "colorbar": {
              "outlinewidth": 0,
              "ticks": ""
             }
            },
            "type": "scatter3d"
           }
          ],
          "scattercarpet": [
           {
            "marker": {
             "colorbar": {
              "outlinewidth": 0,
              "ticks": ""
             }
            },
            "type": "scattercarpet"
           }
          ],
          "scattergeo": [
           {
            "marker": {
             "colorbar": {
              "outlinewidth": 0,
              "ticks": ""
             }
            },
            "type": "scattergeo"
           }
          ],
          "scattergl": [
           {
            "marker": {
             "colorbar": {
              "outlinewidth": 0,
              "ticks": ""
             }
            },
            "type": "scattergl"
           }
          ],
          "scattermapbox": [
           {
            "marker": {
             "colorbar": {
              "outlinewidth": 0,
              "ticks": ""
             }
            },
            "type": "scattermapbox"
           }
          ],
          "scatterpolar": [
           {
            "marker": {
             "colorbar": {
              "outlinewidth": 0,
              "ticks": ""
             }
            },
            "type": "scatterpolar"
           }
          ],
          "scatterpolargl": [
           {
            "marker": {
             "colorbar": {
              "outlinewidth": 0,
              "ticks": ""
             }
            },
            "type": "scatterpolargl"
           }
          ],
          "scatterternary": [
           {
            "marker": {
             "colorbar": {
              "outlinewidth": 0,
              "ticks": ""
             }
            },
            "type": "scatterternary"
           }
          ],
          "surface": [
           {
            "colorbar": {
             "outlinewidth": 0,
             "ticks": ""
            },
            "colorscale": [
             [
              0,
              "#0d0887"
             ],
             [
              0.1111111111111111,
              "#46039f"
             ],
             [
              0.2222222222222222,
              "#7201a8"
             ],
             [
              0.3333333333333333,
              "#9c179e"
             ],
             [
              0.4444444444444444,
              "#bd3786"
             ],
             [
              0.5555555555555556,
              "#d8576b"
             ],
             [
              0.6666666666666666,
              "#ed7953"
             ],
             [
              0.7777777777777778,
              "#fb9f3a"
             ],
             [
              0.8888888888888888,
              "#fdca26"
             ],
             [
              1,
              "#f0f921"
             ]
            ],
            "type": "surface"
           }
          ],
          "table": [
           {
            "cells": {
             "fill": {
              "color": "#EBF0F8"
             },
             "line": {
              "color": "white"
             }
            },
            "header": {
             "fill": {
              "color": "#C8D4E3"
             },
             "line": {
              "color": "white"
             }
            },
            "type": "table"
           }
          ]
         },
         "layout": {
          "annotationdefaults": {
           "arrowcolor": "#2a3f5f",
           "arrowhead": 0,
           "arrowwidth": 1
          },
          "autotypenumbers": "strict",
          "coloraxis": {
           "colorbar": {
            "outlinewidth": 0,
            "ticks": ""
           }
          },
          "colorscale": {
           "diverging": [
            [
             0,
             "#8e0152"
            ],
            [
             0.1,
             "#c51b7d"
            ],
            [
             0.2,
             "#de77ae"
            ],
            [
             0.3,
             "#f1b6da"
            ],
            [
             0.4,
             "#fde0ef"
            ],
            [
             0.5,
             "#f7f7f7"
            ],
            [
             0.6,
             "#e6f5d0"
            ],
            [
             0.7,
             "#b8e186"
            ],
            [
             0.8,
             "#7fbc41"
            ],
            [
             0.9,
             "#4d9221"
            ],
            [
             1,
             "#276419"
            ]
           ],
           "sequential": [
            [
             0,
             "#0d0887"
            ],
            [
             0.1111111111111111,
             "#46039f"
            ],
            [
             0.2222222222222222,
             "#7201a8"
            ],
            [
             0.3333333333333333,
             "#9c179e"
            ],
            [
             0.4444444444444444,
             "#bd3786"
            ],
            [
             0.5555555555555556,
             "#d8576b"
            ],
            [
             0.6666666666666666,
             "#ed7953"
            ],
            [
             0.7777777777777778,
             "#fb9f3a"
            ],
            [
             0.8888888888888888,
             "#fdca26"
            ],
            [
             1,
             "#f0f921"
            ]
           ],
           "sequentialminus": [
            [
             0,
             "#0d0887"
            ],
            [
             0.1111111111111111,
             "#46039f"
            ],
            [
             0.2222222222222222,
             "#7201a8"
            ],
            [
             0.3333333333333333,
             "#9c179e"
            ],
            [
             0.4444444444444444,
             "#bd3786"
            ],
            [
             0.5555555555555556,
             "#d8576b"
            ],
            [
             0.6666666666666666,
             "#ed7953"
            ],
            [
             0.7777777777777778,
             "#fb9f3a"
            ],
            [
             0.8888888888888888,
             "#fdca26"
            ],
            [
             1,
             "#f0f921"
            ]
           ]
          },
          "colorway": [
           "#636efa",
           "#EF553B",
           "#00cc96",
           "#ab63fa",
           "#FFA15A",
           "#19d3f3",
           "#FF6692",
           "#B6E880",
           "#FF97FF",
           "#FECB52"
          ],
          "font": {
           "color": "#2a3f5f"
          },
          "geo": {
           "bgcolor": "white",
           "lakecolor": "white",
           "landcolor": "#E5ECF6",
           "showlakes": true,
           "showland": true,
           "subunitcolor": "white"
          },
          "hoverlabel": {
           "align": "left"
          },
          "hovermode": "closest",
          "mapbox": {
           "style": "light"
          },
          "paper_bgcolor": "white",
          "plot_bgcolor": "#E5ECF6",
          "polar": {
           "angularaxis": {
            "gridcolor": "white",
            "linecolor": "white",
            "ticks": ""
           },
           "bgcolor": "#E5ECF6",
           "radialaxis": {
            "gridcolor": "white",
            "linecolor": "white",
            "ticks": ""
           }
          },
          "scene": {
           "xaxis": {
            "backgroundcolor": "#E5ECF6",
            "gridcolor": "white",
            "gridwidth": 2,
            "linecolor": "white",
            "showbackground": true,
            "ticks": "",
            "zerolinecolor": "white"
           },
           "yaxis": {
            "backgroundcolor": "#E5ECF6",
            "gridcolor": "white",
            "gridwidth": 2,
            "linecolor": "white",
            "showbackground": true,
            "ticks": "",
            "zerolinecolor": "white"
           },
           "zaxis": {
            "backgroundcolor": "#E5ECF6",
            "gridcolor": "white",
            "gridwidth": 2,
            "linecolor": "white",
            "showbackground": true,
            "ticks": "",
            "zerolinecolor": "white"
           }
          },
          "shapedefaults": {
           "line": {
            "color": "#2a3f5f"
           }
          },
          "ternary": {
           "aaxis": {
            "gridcolor": "white",
            "linecolor": "white",
            "ticks": ""
           },
           "baxis": {
            "gridcolor": "white",
            "linecolor": "white",
            "ticks": ""
           },
           "bgcolor": "#E5ECF6",
           "caxis": {
            "gridcolor": "white",
            "linecolor": "white",
            "ticks": ""
           }
          },
          "title": {
           "x": 0.05
          },
          "xaxis": {
           "automargin": true,
           "gridcolor": "white",
           "linecolor": "white",
           "ticks": "",
           "title": {
            "standoff": 15
           },
           "zerolinecolor": "white",
           "zerolinewidth": 2
          },
          "yaxis": {
           "automargin": true,
           "gridcolor": "white",
           "linecolor": "white",
           "ticks": "",
           "title": {
            "standoff": 15
           },
           "zerolinecolor": "white",
           "zerolinewidth": 2
          }
         }
        },
        "title": {
         "text": "PNR Scores"
        },
        "xaxis": {
         "anchor": "y",
         "domain": [
          0,
          1
         ],
         "title": {
          "text": "pnr"
         }
        },
        "yaxis": {
         "anchor": "x",
         "domain": [
          0,
          1
         ],
         "title": {
          "text": "PNR Score"
         }
        }
       }
      }
     },
     "metadata": {},
     "output_type": "display_data"
    }
   ],
   "source": [
    "# plot for pnr_score distribution of cancelled flights-pnrs\n",
    "fig = px.bar(\n",
    "    df, x=\"pnr\", y=\"pnr_score\", title=\"PNR Scores\", labels={\"pnr_score\": \"PNR Score\"}\n",
    ")\n",
    "# Add mean and standard deviation annotations\n",
    "fig.add_shape(\n",
    "    type=\"line\",\n",
    "    x0=-0.5,\n",
    "    x1=len(df) - 0.5,\n",
    "    y0=mean_score,\n",
    "    y1=mean_score,\n",
    "    line=dict(color=\"red\", width=2),\n",
    "    name=\"Mean\",\n",
    ")\n",
    "# Show the chart\n",
    "print(mean_score, std_dev_score)\n",
    "fig.show()"
   ]
  },
  {
   "cell_type": "code",
   "execution_count": null,
   "metadata": {},
   "outputs": [
    {
     "data": {
      "application/vnd.plotly.v1+json": {
       "config": {
        "plotlyServerURL": "https://plot.ly"
       },
       "data": [
        {
         "domain": {
          "x": [
           0,
           1
          ],
          "y": [
           0,
           1
          ]
         },
         "hovertemplate": "allocated_classes=%{label}<extra></extra>",
         "labels": [
          "['P', 'P', 'P']",
          "['P']",
          "['E', 'E', 'E']",
          "['E', 'E', 'P']",
          "['E']",
          "['P']",
          "['P', 'P', 'P']",
          "['P']",
          "['P', 'E', 'P']",
          "['E']",
          "[]",
          "['E']",
          "['E']",
          "['P', 'E', 'P']",
          "['P']",
          "['P']",
          "['E', 'E', 'E']",
          "['E']",
          "['P']",
          "['E', 'E', 'E']",
          "['E', 'E']",
          "['P', 'P', 'P']",
          "['P']",
          "['E']",
          "['P']",
          "['E']",
          "['P', 'P', 'P']",
          "['P']",
          "['P']",
          "['P', 'E']",
          "[]",
          "['E']",
          "['P']",
          "['E']",
          "['P']",
          "['B', 'P', 'P']",
          "['P']",
          "['B']",
          "['P']",
          "['E', 'E', 'E']",
          "['P']",
          "['E']",
          "['P']",
          "['B']",
          "['E']",
          "['E', 'E', 'E']",
          "['B']",
          "['E', 'E', 'E']",
          "['E']",
          "['E']",
          "['F', 'F', 'F']",
          "['F']",
          "['P']",
          "['E']",
          "['E']",
          "['B', 'B', 'B']",
          "['P']",
          "['F', 'F', 'F']",
          "['P', 'P', 'P']",
          "['E']",
          "['E', 'B', 'B']",
          "['E']",
          "['P']",
          "['B']",
          "['B', 'B', 'B']",
          "['E', 'E', 'E']",
          "['B']",
          "['E', 'E', 'E']",
          "['E']",
          "['E', 'E', 'E']",
          "['E']",
          "['P', 'P', 'P']",
          "['F']",
          "['B']",
          "['B']",
          "['B']",
          "['E']",
          "['B', 'P']",
          "['F']",
          "['E', 'E', 'E']",
          "['E', 'E', 'E']",
          "['E', 'E']",
          "['E']",
          "['F', 'F', 'F']",
          "['P', 'P', 'P']",
          "['P']",
          "['B', 'P']",
          "['P', 'P']",
          "['B']",
          "['P']",
          "['F', 'F', 'F']",
          "[]",
          "['E', 'E']",
          "[]",
          "[]",
          "['F']",
          "['E', 'E', 'E']",
          "['E']",
          "['B', 'B', 'B']",
          "[]",
          "['F', 'B']",
          "['F', 'B', 'F']",
          "['B']",
          "['F']",
          "['E', 'E', 'E']",
          "[]",
          "['E']",
          "['E']",
          "['E', 'E', 'B']",
          "['E']",
          "['F', 'B', 'F']",
          "['P', 'P', 'P']",
          "['P', 'P', 'P']",
          "['B', 'F']",
          "['B', 'F', 'B']",
          "[]",
          "['B']",
          "['P']",
          "['B']",
          "['E', 'E']",
          "[]",
          "['E', 'E']",
          "['E']",
          "['F', 'F', 'F']",
          "['F', 'F', 'F']",
          "['B', 'B']",
          "['B']",
          "['B', 'B']",
          "['P']",
          "['F', 'B', 'B']",
          "['P']",
          "[]",
          "['F', 'E', 'E']",
          "['E']",
          "['B', 'B', 'B']",
          "['B', 'B', 'B']",
          "[]",
          "[]",
          "['P', 'P']",
          "['F']",
          "['B']",
          "['E', 'E', 'P']",
          "['E']",
          "['B']",
          "[]",
          "['E']",
          "['B']",
          "['B', 'B', 'B']",
          "['F']",
          "['P', 'B']",
          "[]",
          "['P']",
          "['E']",
          "[]",
          "['F']",
          "[]",
          "['F', 'E']",
          "[]",
          "[]",
          "['B', 'B', 'B']",
          "['P', 'P']",
          "['B', 'B', 'B']",
          "['F', 'F']",
          "[]",
          "['F']",
          "['P']",
          "['E', 'E', 'E']",
          "['E', 'E']",
          "['B', 'B', 'B']",
          "['P', 'P', 'P']",
          "['P', 'P', 'P']",
          "['B', 'B', 'B']",
          "['F', 'F']",
          "['P']",
          "[]",
          "['F']",
          "['P', 'P', 'P']",
          "['P', 'P']",
          "[]",
          "[]",
          "['B']",
          "['F']",
          "['B']",
          "['P']",
          "['F']",
          "['P', 'P', 'P']",
          "['E']",
          "['E']",
          "['E']",
          "['E', 'E']",
          "['B', 'B', 'B']",
          "[]",
          "[]",
          "[]",
          "['B', 'B']",
          "['F']",
          "['B']",
          "['E']",
          "['E', 'E']",
          "['E']",
          "['E', 'E']",
          "['F']",
          "['F']",
          "['F']",
          "[]",
          "['B']",
          "['F', 'F']",
          "['B', 'B']",
          "['P', 'P']",
          "['P']",
          "['B']",
          "['F']",
          "['B']",
          "['E', 'E']",
          "['E']",
          "['B', 'B', 'B']",
          "['F', 'F']",
          "[]",
          "[]",
          "[]",
          "['B']",
          "['B', 'B', 'B']",
          "['B', 'P', 'P']",
          "['P']",
          "[]",
          "['P', 'P']",
          "[]",
          "['E', 'E']",
          "['E', 'E']",
          "[]",
          "['E']",
          "['B', 'B']",
          "['B', 'B']",
          "['P', 'P']",
          "['B']",
          "['B', 'B', 'B']",
          "['B']",
          "['E', 'B']",
          "[]",
          "[]",
          "['B', 'B', 'B']",
          "['F', 'F', 'F']",
          "['F', 'F', 'F']",
          "['F', 'F', 'F']",
          "['B']",
          "['B']",
          "[]",
          "['F']",
          "['B']",
          "[]",
          "['B', 'B', 'B']",
          "['P', 'P', 'P']",
          "['E', 'E']",
          "['E', 'E', 'E']",
          "['E', 'E', 'E']",
          "['E']",
          "['E']",
          "['B', 'B']",
          "['F', 'F', 'F']",
          "['B', 'B', 'B']",
          "['B']",
          "['B', 'B']",
          "['B']",
          "[]",
          "['P']",
          "[]",
          "[]",
          "['F', 'F', 'F']",
          "['P', 'P', 'P']",
          "['B', 'B']",
          "['B']",
          "['P']",
          "['B']",
          "[]",
          "[]",
          "['B']",
          "['P']",
          "['F', 'F']",
          "['F', 'F']",
          "['B']",
          "['B']",
          "['B']",
          "['E', 'E', 'E']",
          "['E']",
          "['P']",
          "['F']",
          "[]",
          "['P']",
          "['E']",
          "[]",
          "['E']",
          "['E', 'E']",
          "['P', 'P', 'P']",
          "['B']",
          "['P']",
          "['P', 'P', 'P']",
          "['B']",
          "['B']",
          "[]",
          "[]",
          "['F']",
          "['E', 'P', 'P']",
          "['B', 'B']",
          "['P']",
          "['P']",
          "['P', 'P']",
          "['P', 'P']",
          "['P', 'P']",
          "['E', 'E']",
          "[]",
          "['E', 'E', 'E']",
          "['P', 'E', 'E']",
          "['E']",
          "['F', 'F', 'F']",
          "['F']",
          "['B']",
          "['P']",
          "[]",
          "[]",
          "[]",
          "[]",
          "[]",
          "[]",
          "[]",
          "['B', 'B', 'B']",
          "['B', 'B', 'B']",
          "['B', 'F', 'F']",
          "['F', 'F']",
          "[]",
          "['B']",
          "['F']",
          "[]",
          "[]",
          "['B']",
          "['F']",
          "[]",
          "[]",
          "['E']",
          "['E', 'E']",
          "['B', 'B']",
          "['P', 'P']",
          "['B']",
          "[]",
          "[]",
          "['B']",
          "['B', 'F', 'F']",
          "[]",
          "['B']",
          "['P']",
          "['P']",
          "['F']",
          "[]",
          "[]",
          "['E', 'E']",
          "['E']",
          "[]",
          "['E']",
          "['B', 'B']",
          "['F']",
          "['B']",
          "['B', 'F', 'F']",
          "['B', 'B']",
          "['F', 'F']",
          "['F']",
          "[]",
          "[]",
          "[]",
          "['B']",
          "['F']",
          "['P']",
          "[]",
          "[]",
          "['F', 'F']",
          "['F', 'F']",
          "[]",
          "['P', 'E']",
          "['F', 'F']",
          "['B', 'B']",
          "['B', 'B']",
          "['E', 'E']",
          "['E', 'E']",
          "['E']",
          "['B', 'B']",
          "['P']",
          "[]",
          "[]",
          "['B']",
          "['B']",
          "['P']",
          "['P', 'P']",
          "['E', 'E']",
          "[]",
          "[]",
          "['E', 'E']",
          "['E', 'B', 'E']",
          "[]",
          "['E']",
          "['B', 'B']",
          "['B', 'P']",
          "['P', 'P', 'P']",
          "['B']",
          "[]",
          "[]",
          "[]",
          "[]",
          "[]",
          "[]",
          "['B']",
          "['B']",
          "[]",
          "['P', 'P']",
          "[]",
          "[]",
          "['P']",
          "[]",
          "['B']",
          "['B']",
          "[]",
          "['E', 'E', 'E']",
          "['E']",
          "['P', 'P', 'P']",
          "[]",
          "[]",
          "['P', 'P']",
          "['P', 'P']",
          "[]",
          "['P']",
          "['P']",
          "[]",
          "['P', 'E']",
          "['E', 'E']",
          "['E', 'E', 'E']",
          "['E']",
          "[]",
          "[]",
          "[]",
          "[]",
          "['E', 'E']",
          "['E']",
          "[]",
          "['E']"
         ],
         "legendgroup": "",
         "name": "",
         "showlegend": true,
         "type": "pie"
        }
       ],
       "layout": {
        "legend": {
         "tracegroupgap": 0
        },
        "template": {
         "data": {
          "bar": [
           {
            "error_x": {
             "color": "#2a3f5f"
            },
            "error_y": {
             "color": "#2a3f5f"
            },
            "marker": {
             "line": {
              "color": "#E5ECF6",
              "width": 0.5
             },
             "pattern": {
              "fillmode": "overlay",
              "size": 10,
              "solidity": 0.2
             }
            },
            "type": "bar"
           }
          ],
          "barpolar": [
           {
            "marker": {
             "line": {
              "color": "#E5ECF6",
              "width": 0.5
             },
             "pattern": {
              "fillmode": "overlay",
              "size": 10,
              "solidity": 0.2
             }
            },
            "type": "barpolar"
           }
          ],
          "carpet": [
           {
            "aaxis": {
             "endlinecolor": "#2a3f5f",
             "gridcolor": "white",
             "linecolor": "white",
             "minorgridcolor": "white",
             "startlinecolor": "#2a3f5f"
            },
            "baxis": {
             "endlinecolor": "#2a3f5f",
             "gridcolor": "white",
             "linecolor": "white",
             "minorgridcolor": "white",
             "startlinecolor": "#2a3f5f"
            },
            "type": "carpet"
           }
          ],
          "choropleth": [
           {
            "colorbar": {
             "outlinewidth": 0,
             "ticks": ""
            },
            "type": "choropleth"
           }
          ],
          "contour": [
           {
            "colorbar": {
             "outlinewidth": 0,
             "ticks": ""
            },
            "colorscale": [
             [
              0,
              "#0d0887"
             ],
             [
              0.1111111111111111,
              "#46039f"
             ],
             [
              0.2222222222222222,
              "#7201a8"
             ],
             [
              0.3333333333333333,
              "#9c179e"
             ],
             [
              0.4444444444444444,
              "#bd3786"
             ],
             [
              0.5555555555555556,
              "#d8576b"
             ],
             [
              0.6666666666666666,
              "#ed7953"
             ],
             [
              0.7777777777777778,
              "#fb9f3a"
             ],
             [
              0.8888888888888888,
              "#fdca26"
             ],
             [
              1,
              "#f0f921"
             ]
            ],
            "type": "contour"
           }
          ],
          "contourcarpet": [
           {
            "colorbar": {
             "outlinewidth": 0,
             "ticks": ""
            },
            "type": "contourcarpet"
           }
          ],
          "heatmap": [
           {
            "colorbar": {
             "outlinewidth": 0,
             "ticks": ""
            },
            "colorscale": [
             [
              0,
              "#0d0887"
             ],
             [
              0.1111111111111111,
              "#46039f"
             ],
             [
              0.2222222222222222,
              "#7201a8"
             ],
             [
              0.3333333333333333,
              "#9c179e"
             ],
             [
              0.4444444444444444,
              "#bd3786"
             ],
             [
              0.5555555555555556,
              "#d8576b"
             ],
             [
              0.6666666666666666,
              "#ed7953"
             ],
             [
              0.7777777777777778,
              "#fb9f3a"
             ],
             [
              0.8888888888888888,
              "#fdca26"
             ],
             [
              1,
              "#f0f921"
             ]
            ],
            "type": "heatmap"
           }
          ],
          "heatmapgl": [
           {
            "colorbar": {
             "outlinewidth": 0,
             "ticks": ""
            },
            "colorscale": [
             [
              0,
              "#0d0887"
             ],
             [
              0.1111111111111111,
              "#46039f"
             ],
             [
              0.2222222222222222,
              "#7201a8"
             ],
             [
              0.3333333333333333,
              "#9c179e"
             ],
             [
              0.4444444444444444,
              "#bd3786"
             ],
             [
              0.5555555555555556,
              "#d8576b"
             ],
             [
              0.6666666666666666,
              "#ed7953"
             ],
             [
              0.7777777777777778,
              "#fb9f3a"
             ],
             [
              0.8888888888888888,
              "#fdca26"
             ],
             [
              1,
              "#f0f921"
             ]
            ],
            "type": "heatmapgl"
           }
          ],
          "histogram": [
           {
            "marker": {
             "pattern": {
              "fillmode": "overlay",
              "size": 10,
              "solidity": 0.2
             }
            },
            "type": "histogram"
           }
          ],
          "histogram2d": [
           {
            "colorbar": {
             "outlinewidth": 0,
             "ticks": ""
            },
            "colorscale": [
             [
              0,
              "#0d0887"
             ],
             [
              0.1111111111111111,
              "#46039f"
             ],
             [
              0.2222222222222222,
              "#7201a8"
             ],
             [
              0.3333333333333333,
              "#9c179e"
             ],
             [
              0.4444444444444444,
              "#bd3786"
             ],
             [
              0.5555555555555556,
              "#d8576b"
             ],
             [
              0.6666666666666666,
              "#ed7953"
             ],
             [
              0.7777777777777778,
              "#fb9f3a"
             ],
             [
              0.8888888888888888,
              "#fdca26"
             ],
             [
              1,
              "#f0f921"
             ]
            ],
            "type": "histogram2d"
           }
          ],
          "histogram2dcontour": [
           {
            "colorbar": {
             "outlinewidth": 0,
             "ticks": ""
            },
            "colorscale": [
             [
              0,
              "#0d0887"
             ],
             [
              0.1111111111111111,
              "#46039f"
             ],
             [
              0.2222222222222222,
              "#7201a8"
             ],
             [
              0.3333333333333333,
              "#9c179e"
             ],
             [
              0.4444444444444444,
              "#bd3786"
             ],
             [
              0.5555555555555556,
              "#d8576b"
             ],
             [
              0.6666666666666666,
              "#ed7953"
             ],
             [
              0.7777777777777778,
              "#fb9f3a"
             ],
             [
              0.8888888888888888,
              "#fdca26"
             ],
             [
              1,
              "#f0f921"
             ]
            ],
            "type": "histogram2dcontour"
           }
          ],
          "mesh3d": [
           {
            "colorbar": {
             "outlinewidth": 0,
             "ticks": ""
            },
            "type": "mesh3d"
           }
          ],
          "parcoords": [
           {
            "line": {
             "colorbar": {
              "outlinewidth": 0,
              "ticks": ""
             }
            },
            "type": "parcoords"
           }
          ],
          "pie": [
           {
            "automargin": true,
            "type": "pie"
           }
          ],
          "scatter": [
           {
            "fillpattern": {
             "fillmode": "overlay",
             "size": 10,
             "solidity": 0.2
            },
            "type": "scatter"
           }
          ],
          "scatter3d": [
           {
            "line": {
             "colorbar": {
              "outlinewidth": 0,
              "ticks": ""
             }
            },
            "marker": {
             "colorbar": {
              "outlinewidth": 0,
              "ticks": ""
             }
            },
            "type": "scatter3d"
           }
          ],
          "scattercarpet": [
           {
            "marker": {
             "colorbar": {
              "outlinewidth": 0,
              "ticks": ""
             }
            },
            "type": "scattercarpet"
           }
          ],
          "scattergeo": [
           {
            "marker": {
             "colorbar": {
              "outlinewidth": 0,
              "ticks": ""
             }
            },
            "type": "scattergeo"
           }
          ],
          "scattergl": [
           {
            "marker": {
             "colorbar": {
              "outlinewidth": 0,
              "ticks": ""
             }
            },
            "type": "scattergl"
           }
          ],
          "scattermapbox": [
           {
            "marker": {
             "colorbar": {
              "outlinewidth": 0,
              "ticks": ""
             }
            },
            "type": "scattermapbox"
           }
          ],
          "scatterpolar": [
           {
            "marker": {
             "colorbar": {
              "outlinewidth": 0,
              "ticks": ""
             }
            },
            "type": "scatterpolar"
           }
          ],
          "scatterpolargl": [
           {
            "marker": {
             "colorbar": {
              "outlinewidth": 0,
              "ticks": ""
             }
            },
            "type": "scatterpolargl"
           }
          ],
          "scatterternary": [
           {
            "marker": {
             "colorbar": {
              "outlinewidth": 0,
              "ticks": ""
             }
            },
            "type": "scatterternary"
           }
          ],
          "surface": [
           {
            "colorbar": {
             "outlinewidth": 0,
             "ticks": ""
            },
            "colorscale": [
             [
              0,
              "#0d0887"
             ],
             [
              0.1111111111111111,
              "#46039f"
             ],
             [
              0.2222222222222222,
              "#7201a8"
             ],
             [
              0.3333333333333333,
              "#9c179e"
             ],
             [
              0.4444444444444444,
              "#bd3786"
             ],
             [
              0.5555555555555556,
              "#d8576b"
             ],
             [
              0.6666666666666666,
              "#ed7953"
             ],
             [
              0.7777777777777778,
              "#fb9f3a"
             ],
             [
              0.8888888888888888,
              "#fdca26"
             ],
             [
              1,
              "#f0f921"
             ]
            ],
            "type": "surface"
           }
          ],
          "table": [
           {
            "cells": {
             "fill": {
              "color": "#EBF0F8"
             },
             "line": {
              "color": "white"
             }
            },
            "header": {
             "fill": {
              "color": "#C8D4E3"
             },
             "line": {
              "color": "white"
             }
            },
            "type": "table"
           }
          ]
         },
         "layout": {
          "annotationdefaults": {
           "arrowcolor": "#2a3f5f",
           "arrowhead": 0,
           "arrowwidth": 1
          },
          "autotypenumbers": "strict",
          "coloraxis": {
           "colorbar": {
            "outlinewidth": 0,
            "ticks": ""
           }
          },
          "colorscale": {
           "diverging": [
            [
             0,
             "#8e0152"
            ],
            [
             0.1,
             "#c51b7d"
            ],
            [
             0.2,
             "#de77ae"
            ],
            [
             0.3,
             "#f1b6da"
            ],
            [
             0.4,
             "#fde0ef"
            ],
            [
             0.5,
             "#f7f7f7"
            ],
            [
             0.6,
             "#e6f5d0"
            ],
            [
             0.7,
             "#b8e186"
            ],
            [
             0.8,
             "#7fbc41"
            ],
            [
             0.9,
             "#4d9221"
            ],
            [
             1,
             "#276419"
            ]
           ],
           "sequential": [
            [
             0,
             "#0d0887"
            ],
            [
             0.1111111111111111,
             "#46039f"
            ],
            [
             0.2222222222222222,
             "#7201a8"
            ],
            [
             0.3333333333333333,
             "#9c179e"
            ],
            [
             0.4444444444444444,
             "#bd3786"
            ],
            [
             0.5555555555555556,
             "#d8576b"
            ],
            [
             0.6666666666666666,
             "#ed7953"
            ],
            [
             0.7777777777777778,
             "#fb9f3a"
            ],
            [
             0.8888888888888888,
             "#fdca26"
            ],
            [
             1,
             "#f0f921"
            ]
           ],
           "sequentialminus": [
            [
             0,
             "#0d0887"
            ],
            [
             0.1111111111111111,
             "#46039f"
            ],
            [
             0.2222222222222222,
             "#7201a8"
            ],
            [
             0.3333333333333333,
             "#9c179e"
            ],
            [
             0.4444444444444444,
             "#bd3786"
            ],
            [
             0.5555555555555556,
             "#d8576b"
            ],
            [
             0.6666666666666666,
             "#ed7953"
            ],
            [
             0.7777777777777778,
             "#fb9f3a"
            ],
            [
             0.8888888888888888,
             "#fdca26"
            ],
            [
             1,
             "#f0f921"
            ]
           ]
          },
          "colorway": [
           "#636efa",
           "#EF553B",
           "#00cc96",
           "#ab63fa",
           "#FFA15A",
           "#19d3f3",
           "#FF6692",
           "#B6E880",
           "#FF97FF",
           "#FECB52"
          ],
          "font": {
           "color": "#2a3f5f"
          },
          "geo": {
           "bgcolor": "white",
           "lakecolor": "white",
           "landcolor": "#E5ECF6",
           "showlakes": true,
           "showland": true,
           "subunitcolor": "white"
          },
          "hoverlabel": {
           "align": "left"
          },
          "hovermode": "closest",
          "mapbox": {
           "style": "light"
          },
          "paper_bgcolor": "white",
          "plot_bgcolor": "#E5ECF6",
          "polar": {
           "angularaxis": {
            "gridcolor": "white",
            "linecolor": "white",
            "ticks": ""
           },
           "bgcolor": "#E5ECF6",
           "radialaxis": {
            "gridcolor": "white",
            "linecolor": "white",
            "ticks": ""
           }
          },
          "scene": {
           "xaxis": {
            "backgroundcolor": "#E5ECF6",
            "gridcolor": "white",
            "gridwidth": 2,
            "linecolor": "white",
            "showbackground": true,
            "ticks": "",
            "zerolinecolor": "white"
           },
           "yaxis": {
            "backgroundcolor": "#E5ECF6",
            "gridcolor": "white",
            "gridwidth": 2,
            "linecolor": "white",
            "showbackground": true,
            "ticks": "",
            "zerolinecolor": "white"
           },
           "zaxis": {
            "backgroundcolor": "#E5ECF6",
            "gridcolor": "white",
            "gridwidth": 2,
            "linecolor": "white",
            "showbackground": true,
            "ticks": "",
            "zerolinecolor": "white"
           }
          },
          "shapedefaults": {
           "line": {
            "color": "#2a3f5f"
           }
          },
          "ternary": {
           "aaxis": {
            "gridcolor": "white",
            "linecolor": "white",
            "ticks": ""
           },
           "baxis": {
            "gridcolor": "white",
            "linecolor": "white",
            "ticks": ""
           },
           "bgcolor": "#E5ECF6",
           "caxis": {
            "gridcolor": "white",
            "linecolor": "white",
            "ticks": ""
           }
          },
          "title": {
           "x": 0.05
          },
          "xaxis": {
           "automargin": true,
           "gridcolor": "white",
           "linecolor": "white",
           "ticks": "",
           "title": {
            "standoff": 15
           },
           "zerolinecolor": "white",
           "zerolinewidth": 2
          },
          "yaxis": {
           "automargin": true,
           "gridcolor": "white",
           "linecolor": "white",
           "ticks": "",
           "title": {
            "standoff": 15
           },
           "zerolinecolor": "white",
           "zerolinewidth": 2
          }
         }
        },
        "title": {
         "text": "Class Distribution for All PNRS"
        }
       }
      }
     },
     "metadata": {},
     "output_type": "display_data"
    },
    {
     "data": {
      "application/vnd.plotly.v1+json": {
       "config": {
        "plotlyServerURL": "https://plot.ly"
       },
       "data": [
        {
         "domain": {
          "x": [
           0,
           1
          ],
          "y": [
           0,
           1
          ]
         },
         "hovertemplate": "canclled_class=%{label}<extra></extra>",
         "labels": [
          "P",
          "P",
          "E",
          "E",
          "E",
          "P",
          "P",
          "P",
          "P",
          "E",
          "E",
          "E",
          "E",
          "P",
          "P",
          "P",
          "E",
          "E",
          "P",
          "E",
          "E",
          "P",
          "P",
          "E",
          "P",
          "P",
          "P",
          "P",
          "P",
          "E",
          "E",
          "E",
          "E",
          "E",
          "P",
          "P",
          "P",
          "E",
          "P",
          "E",
          "E",
          "E",
          "E",
          "P",
          "E",
          "E",
          "E",
          "E",
          "E",
          "E",
          "F",
          "F",
          "P",
          "E",
          "E",
          "B",
          "P",
          "F",
          "P",
          "E",
          "E",
          "E",
          "P",
          "B",
          "B",
          "E",
          "B",
          "E",
          "E",
          "E",
          "E",
          "P",
          "F",
          "B",
          "B",
          "B",
          "E",
          "P",
          "F",
          "E",
          "E",
          "E",
          "E",
          "F",
          "P",
          "P",
          "P",
          "P",
          "B",
          "P",
          "F",
          "F",
          "E",
          "E",
          "E",
          "E",
          "E",
          "E",
          "B",
          "P",
          "B",
          "F",
          "B",
          "F",
          "E",
          "E",
          "E",
          "E",
          "E",
          "E",
          "F",
          "P",
          "P",
          "F",
          "B",
          "P",
          "B",
          "P",
          "B",
          "E",
          "E",
          "E",
          "E",
          "F",
          "F",
          "B",
          "B",
          "B",
          "P",
          "B",
          "P",
          "E",
          "E",
          "E",
          "B",
          "B",
          "P",
          "F",
          "P",
          "F",
          "B",
          "E",
          "E",
          "B",
          "P",
          "E",
          "E",
          "B",
          "F",
          "B",
          "P",
          "F",
          "B",
          "P",
          "F",
          "P",
          "E",
          "E",
          "E",
          "B",
          "P",
          "B",
          "F",
          "B",
          "F",
          "P",
          "E",
          "E",
          "B",
          "P",
          "P",
          "B",
          "F",
          "P",
          "B",
          "F",
          "P",
          "P",
          "B",
          "B",
          "B",
          "F",
          "B",
          "P",
          "B",
          "P",
          "E",
          "E",
          "E",
          "E",
          "B",
          "F",
          "P",
          "P",
          "B",
          "F",
          "B",
          "E",
          "E",
          "E",
          "E",
          "F",
          "F",
          "B",
          "F",
          "B",
          "F",
          "B",
          "P",
          "P",
          "B",
          "F",
          "B",
          "E",
          "E",
          "B",
          "F",
          "B",
          "P",
          "B",
          "B",
          "B",
          "P",
          "P",
          "B",
          "P",
          "P",
          "E",
          "E",
          "E",
          "E",
          "B",
          "B",
          "P",
          "B",
          "B",
          "B",
          "B",
          "F",
          "B",
          "B",
          "F",
          "F",
          "F",
          "B",
          "B",
          "F",
          "F",
          "B",
          "E",
          "B",
          "P",
          "E",
          "E",
          "E",
          "E",
          "E",
          "B",
          "F",
          "B",
          "B",
          "B",
          "B",
          "B",
          "B",
          "F",
          "B",
          "F",
          "P",
          "B",
          "B",
          "P",
          "B",
          "P",
          "P",
          "B",
          "P",
          "F",
          "F",
          "B",
          "B",
          "B",
          "E",
          "E",
          "P",
          "F",
          "B",
          "P",
          "E",
          "E",
          "E",
          "E",
          "P",
          "B",
          "P",
          "P",
          "B",
          "B",
          "P",
          "B",
          "F",
          "P",
          "B",
          "P",
          "P",
          "P",
          "P",
          "P",
          "E",
          "E",
          "E",
          "E",
          "E",
          "F",
          "F",
          "B",
          "P",
          "B",
          "P",
          "B",
          "F",
          "B",
          "P",
          "B",
          "B",
          "B",
          "F",
          "F",
          "B",
          "B",
          "F",
          "B",
          "P",
          "B",
          "F",
          "B",
          "E",
          "E",
          "E",
          "B",
          "P",
          "B",
          "F",
          "F",
          "B",
          "F",
          "B",
          "B",
          "P",
          "P",
          "F",
          "B",
          "F",
          "E",
          "E",
          "E",
          "E",
          "B",
          "F",
          "B",
          "F",
          "B",
          "F",
          "F",
          "F",
          "B",
          "F",
          "B",
          "F",
          "P",
          "B",
          "B",
          "F",
          "F",
          "F",
          "P",
          "F",
          "B",
          "B",
          "E",
          "E",
          "E",
          "B",
          "P",
          "B",
          "B",
          "B",
          "B",
          "P",
          "P",
          "E",
          "E",
          "E",
          "E",
          "E",
          "E",
          "E",
          "B",
          "B",
          "P",
          "B",
          "B",
          "B",
          "B",
          "B",
          "B",
          "B",
          "B",
          "B",
          "B",
          "P",
          "B",
          "B",
          "P",
          "B",
          "B",
          "B",
          "E",
          "E",
          "E",
          "P",
          "P",
          "P",
          "P",
          "P",
          "P",
          "P",
          "P",
          "P",
          "P",
          "E",
          "E",
          "E",
          "E",
          "E",
          "E",
          "E",
          "E",
          "E",
          "E",
          "E"
         ],
         "legendgroup": "",
         "name": "",
         "showlegend": true,
         "type": "pie"
        }
       ],
       "layout": {
        "legend": {
         "tracegroupgap": 0
        },
        "template": {
         "data": {
          "bar": [
           {
            "error_x": {
             "color": "#2a3f5f"
            },
            "error_y": {
             "color": "#2a3f5f"
            },
            "marker": {
             "line": {
              "color": "#E5ECF6",
              "width": 0.5
             },
             "pattern": {
              "fillmode": "overlay",
              "size": 10,
              "solidity": 0.2
             }
            },
            "type": "bar"
           }
          ],
          "barpolar": [
           {
            "marker": {
             "line": {
              "color": "#E5ECF6",
              "width": 0.5
             },
             "pattern": {
              "fillmode": "overlay",
              "size": 10,
              "solidity": 0.2
             }
            },
            "type": "barpolar"
           }
          ],
          "carpet": [
           {
            "aaxis": {
             "endlinecolor": "#2a3f5f",
             "gridcolor": "white",
             "linecolor": "white",
             "minorgridcolor": "white",
             "startlinecolor": "#2a3f5f"
            },
            "baxis": {
             "endlinecolor": "#2a3f5f",
             "gridcolor": "white",
             "linecolor": "white",
             "minorgridcolor": "white",
             "startlinecolor": "#2a3f5f"
            },
            "type": "carpet"
           }
          ],
          "choropleth": [
           {
            "colorbar": {
             "outlinewidth": 0,
             "ticks": ""
            },
            "type": "choropleth"
           }
          ],
          "contour": [
           {
            "colorbar": {
             "outlinewidth": 0,
             "ticks": ""
            },
            "colorscale": [
             [
              0,
              "#0d0887"
             ],
             [
              0.1111111111111111,
              "#46039f"
             ],
             [
              0.2222222222222222,
              "#7201a8"
             ],
             [
              0.3333333333333333,
              "#9c179e"
             ],
             [
              0.4444444444444444,
              "#bd3786"
             ],
             [
              0.5555555555555556,
              "#d8576b"
             ],
             [
              0.6666666666666666,
              "#ed7953"
             ],
             [
              0.7777777777777778,
              "#fb9f3a"
             ],
             [
              0.8888888888888888,
              "#fdca26"
             ],
             [
              1,
              "#f0f921"
             ]
            ],
            "type": "contour"
           }
          ],
          "contourcarpet": [
           {
            "colorbar": {
             "outlinewidth": 0,
             "ticks": ""
            },
            "type": "contourcarpet"
           }
          ],
          "heatmap": [
           {
            "colorbar": {
             "outlinewidth": 0,
             "ticks": ""
            },
            "colorscale": [
             [
              0,
              "#0d0887"
             ],
             [
              0.1111111111111111,
              "#46039f"
             ],
             [
              0.2222222222222222,
              "#7201a8"
             ],
             [
              0.3333333333333333,
              "#9c179e"
             ],
             [
              0.4444444444444444,
              "#bd3786"
             ],
             [
              0.5555555555555556,
              "#d8576b"
             ],
             [
              0.6666666666666666,
              "#ed7953"
             ],
             [
              0.7777777777777778,
              "#fb9f3a"
             ],
             [
              0.8888888888888888,
              "#fdca26"
             ],
             [
              1,
              "#f0f921"
             ]
            ],
            "type": "heatmap"
           }
          ],
          "heatmapgl": [
           {
            "colorbar": {
             "outlinewidth": 0,
             "ticks": ""
            },
            "colorscale": [
             [
              0,
              "#0d0887"
             ],
             [
              0.1111111111111111,
              "#46039f"
             ],
             [
              0.2222222222222222,
              "#7201a8"
             ],
             [
              0.3333333333333333,
              "#9c179e"
             ],
             [
              0.4444444444444444,
              "#bd3786"
             ],
             [
              0.5555555555555556,
              "#d8576b"
             ],
             [
              0.6666666666666666,
              "#ed7953"
             ],
             [
              0.7777777777777778,
              "#fb9f3a"
             ],
             [
              0.8888888888888888,
              "#fdca26"
             ],
             [
              1,
              "#f0f921"
             ]
            ],
            "type": "heatmapgl"
           }
          ],
          "histogram": [
           {
            "marker": {
             "pattern": {
              "fillmode": "overlay",
              "size": 10,
              "solidity": 0.2
             }
            },
            "type": "histogram"
           }
          ],
          "histogram2d": [
           {
            "colorbar": {
             "outlinewidth": 0,
             "ticks": ""
            },
            "colorscale": [
             [
              0,
              "#0d0887"
             ],
             [
              0.1111111111111111,
              "#46039f"
             ],
             [
              0.2222222222222222,
              "#7201a8"
             ],
             [
              0.3333333333333333,
              "#9c179e"
             ],
             [
              0.4444444444444444,
              "#bd3786"
             ],
             [
              0.5555555555555556,
              "#d8576b"
             ],
             [
              0.6666666666666666,
              "#ed7953"
             ],
             [
              0.7777777777777778,
              "#fb9f3a"
             ],
             [
              0.8888888888888888,
              "#fdca26"
             ],
             [
              1,
              "#f0f921"
             ]
            ],
            "type": "histogram2d"
           }
          ],
          "histogram2dcontour": [
           {
            "colorbar": {
             "outlinewidth": 0,
             "ticks": ""
            },
            "colorscale": [
             [
              0,
              "#0d0887"
             ],
             [
              0.1111111111111111,
              "#46039f"
             ],
             [
              0.2222222222222222,
              "#7201a8"
             ],
             [
              0.3333333333333333,
              "#9c179e"
             ],
             [
              0.4444444444444444,
              "#bd3786"
             ],
             [
              0.5555555555555556,
              "#d8576b"
             ],
             [
              0.6666666666666666,
              "#ed7953"
             ],
             [
              0.7777777777777778,
              "#fb9f3a"
             ],
             [
              0.8888888888888888,
              "#fdca26"
             ],
             [
              1,
              "#f0f921"
             ]
            ],
            "type": "histogram2dcontour"
           }
          ],
          "mesh3d": [
           {
            "colorbar": {
             "outlinewidth": 0,
             "ticks": ""
            },
            "type": "mesh3d"
           }
          ],
          "parcoords": [
           {
            "line": {
             "colorbar": {
              "outlinewidth": 0,
              "ticks": ""
             }
            },
            "type": "parcoords"
           }
          ],
          "pie": [
           {
            "automargin": true,
            "type": "pie"
           }
          ],
          "scatter": [
           {
            "fillpattern": {
             "fillmode": "overlay",
             "size": 10,
             "solidity": 0.2
            },
            "type": "scatter"
           }
          ],
          "scatter3d": [
           {
            "line": {
             "colorbar": {
              "outlinewidth": 0,
              "ticks": ""
             }
            },
            "marker": {
             "colorbar": {
              "outlinewidth": 0,
              "ticks": ""
             }
            },
            "type": "scatter3d"
           }
          ],
          "scattercarpet": [
           {
            "marker": {
             "colorbar": {
              "outlinewidth": 0,
              "ticks": ""
             }
            },
            "type": "scattercarpet"
           }
          ],
          "scattergeo": [
           {
            "marker": {
             "colorbar": {
              "outlinewidth": 0,
              "ticks": ""
             }
            },
            "type": "scattergeo"
           }
          ],
          "scattergl": [
           {
            "marker": {
             "colorbar": {
              "outlinewidth": 0,
              "ticks": ""
             }
            },
            "type": "scattergl"
           }
          ],
          "scattermapbox": [
           {
            "marker": {
             "colorbar": {
              "outlinewidth": 0,
              "ticks": ""
             }
            },
            "type": "scattermapbox"
           }
          ],
          "scatterpolar": [
           {
            "marker": {
             "colorbar": {
              "outlinewidth": 0,
              "ticks": ""
             }
            },
            "type": "scatterpolar"
           }
          ],
          "scatterpolargl": [
           {
            "marker": {
             "colorbar": {
              "outlinewidth": 0,
              "ticks": ""
             }
            },
            "type": "scatterpolargl"
           }
          ],
          "scatterternary": [
           {
            "marker": {
             "colorbar": {
              "outlinewidth": 0,
              "ticks": ""
             }
            },
            "type": "scatterternary"
           }
          ],
          "surface": [
           {
            "colorbar": {
             "outlinewidth": 0,
             "ticks": ""
            },
            "colorscale": [
             [
              0,
              "#0d0887"
             ],
             [
              0.1111111111111111,
              "#46039f"
             ],
             [
              0.2222222222222222,
              "#7201a8"
             ],
             [
              0.3333333333333333,
              "#9c179e"
             ],
             [
              0.4444444444444444,
              "#bd3786"
             ],
             [
              0.5555555555555556,
              "#d8576b"
             ],
             [
              0.6666666666666666,
              "#ed7953"
             ],
             [
              0.7777777777777778,
              "#fb9f3a"
             ],
             [
              0.8888888888888888,
              "#fdca26"
             ],
             [
              1,
              "#f0f921"
             ]
            ],
            "type": "surface"
           }
          ],
          "table": [
           {
            "cells": {
             "fill": {
              "color": "#EBF0F8"
             },
             "line": {
              "color": "white"
             }
            },
            "header": {
             "fill": {
              "color": "#C8D4E3"
             },
             "line": {
              "color": "white"
             }
            },
            "type": "table"
           }
          ]
         },
         "layout": {
          "annotationdefaults": {
           "arrowcolor": "#2a3f5f",
           "arrowhead": 0,
           "arrowwidth": 1
          },
          "autotypenumbers": "strict",
          "coloraxis": {
           "colorbar": {
            "outlinewidth": 0,
            "ticks": ""
           }
          },
          "colorscale": {
           "diverging": [
            [
             0,
             "#8e0152"
            ],
            [
             0.1,
             "#c51b7d"
            ],
            [
             0.2,
             "#de77ae"
            ],
            [
             0.3,
             "#f1b6da"
            ],
            [
             0.4,
             "#fde0ef"
            ],
            [
             0.5,
             "#f7f7f7"
            ],
            [
             0.6,
             "#e6f5d0"
            ],
            [
             0.7,
             "#b8e186"
            ],
            [
             0.8,
             "#7fbc41"
            ],
            [
             0.9,
             "#4d9221"
            ],
            [
             1,
             "#276419"
            ]
           ],
           "sequential": [
            [
             0,
             "#0d0887"
            ],
            [
             0.1111111111111111,
             "#46039f"
            ],
            [
             0.2222222222222222,
             "#7201a8"
            ],
            [
             0.3333333333333333,
             "#9c179e"
            ],
            [
             0.4444444444444444,
             "#bd3786"
            ],
            [
             0.5555555555555556,
             "#d8576b"
            ],
            [
             0.6666666666666666,
             "#ed7953"
            ],
            [
             0.7777777777777778,
             "#fb9f3a"
            ],
            [
             0.8888888888888888,
             "#fdca26"
            ],
            [
             1,
             "#f0f921"
            ]
           ],
           "sequentialminus": [
            [
             0,
             "#0d0887"
            ],
            [
             0.1111111111111111,
             "#46039f"
            ],
            [
             0.2222222222222222,
             "#7201a8"
            ],
            [
             0.3333333333333333,
             "#9c179e"
            ],
            [
             0.4444444444444444,
             "#bd3786"
            ],
            [
             0.5555555555555556,
             "#d8576b"
            ],
            [
             0.6666666666666666,
             "#ed7953"
            ],
            [
             0.7777777777777778,
             "#fb9f3a"
            ],
            [
             0.8888888888888888,
             "#fdca26"
            ],
            [
             1,
             "#f0f921"
            ]
           ]
          },
          "colorway": [
           "#636efa",
           "#EF553B",
           "#00cc96",
           "#ab63fa",
           "#FFA15A",
           "#19d3f3",
           "#FF6692",
           "#B6E880",
           "#FF97FF",
           "#FECB52"
          ],
          "font": {
           "color": "#2a3f5f"
          },
          "geo": {
           "bgcolor": "white",
           "lakecolor": "white",
           "landcolor": "#E5ECF6",
           "showlakes": true,
           "showland": true,
           "subunitcolor": "white"
          },
          "hoverlabel": {
           "align": "left"
          },
          "hovermode": "closest",
          "mapbox": {
           "style": "light"
          },
          "paper_bgcolor": "white",
          "plot_bgcolor": "#E5ECF6",
          "polar": {
           "angularaxis": {
            "gridcolor": "white",
            "linecolor": "white",
            "ticks": ""
           },
           "bgcolor": "#E5ECF6",
           "radialaxis": {
            "gridcolor": "white",
            "linecolor": "white",
            "ticks": ""
           }
          },
          "scene": {
           "xaxis": {
            "backgroundcolor": "#E5ECF6",
            "gridcolor": "white",
            "gridwidth": 2,
            "linecolor": "white",
            "showbackground": true,
            "ticks": "",
            "zerolinecolor": "white"
           },
           "yaxis": {
            "backgroundcolor": "#E5ECF6",
            "gridcolor": "white",
            "gridwidth": 2,
            "linecolor": "white",
            "showbackground": true,
            "ticks": "",
            "zerolinecolor": "white"
           },
           "zaxis": {
            "backgroundcolor": "#E5ECF6",
            "gridcolor": "white",
            "gridwidth": 2,
            "linecolor": "white",
            "showbackground": true,
            "ticks": "",
            "zerolinecolor": "white"
           }
          },
          "shapedefaults": {
           "line": {
            "color": "#2a3f5f"
           }
          },
          "ternary": {
           "aaxis": {
            "gridcolor": "white",
            "linecolor": "white",
            "ticks": ""
           },
           "baxis": {
            "gridcolor": "white",
            "linecolor": "white",
            "ticks": ""
           },
           "bgcolor": "#E5ECF6",
           "caxis": {
            "gridcolor": "white",
            "linecolor": "white",
            "ticks": ""
           }
          },
          "title": {
           "x": 0.05
          },
          "xaxis": {
           "automargin": true,
           "gridcolor": "white",
           "linecolor": "white",
           "ticks": "",
           "title": {
            "standoff": 15
           },
           "zerolinecolor": "white",
           "zerolinewidth": 2
          },
          "yaxis": {
           "automargin": true,
           "gridcolor": "white",
           "linecolor": "white",
           "ticks": "",
           "title": {
            "standoff": 15
           },
           "zerolinecolor": "white",
           "zerolinewidth": 2
          }
         }
        },
        "title": {
         "text": "Class Distribution for Cancelled PNRS"
        }
       }
      }
     },
     "metadata": {},
     "output_type": "display_data"
    }
   ],
   "source": [
    "# plot for class distribution for cancelled flights\n",
    "fig = px.pie(df, names=\"allocated_classes\", title=\"Class Distribution for All PNRS\")\n",
    "\n",
    "# plot for class distribution for cancelled flights\n",
    "fig2 = px.pie(df, names=\"canclled_class\", title=\"Class Distribution for Cancelled PNRS\")\n",
    "fig.show()\n",
    "fig2.show()"
   ]
  },
  {
   "cell_type": "code",
   "execution_count": null,
   "metadata": {},
   "outputs": [
    {
     "name": "stdout",
     "output_type": "stream",
     "text": [
      "Mean Delay: 27.789065510597307 hours, std_dev: 20.80469552614968\n"
     ]
    },
    {
     "data": {
      "application/vnd.plotly.v1+json": {
       "config": {
        "plotlyServerURL": "https://plot.ly"
       },
       "data": [
        {
         "alignmentgroup": "True",
         "hovertemplate": "pnr=%{x}<br>allocated_flights_score=%{y}<extra></extra>",
         "legendgroup": "",
         "marker": {
          "color": "blue",
          "pattern": {
           "shape": ""
          }
         },
         "name": "",
         "offsetgroup": "",
         "orientation": "v",
         "showlegend": false,
         "textposition": "auto",
         "type": "bar",
         "x": [
          "HTQT32",
          "HVUE68",
          "LZMY53",
          "LWVG59",
          "KONV97",
          "XRPO74",
          "ZQAQ83",
          "IWFO10",
          "FPOZ45",
          "FEOP40",
          "AQZZ99",
          "FNUV81",
          "ISVB14",
          "ZPKQ28",
          "PVEQ37",
          "EVEU68",
          "NKFP32",
          "SLOX19",
          "XDUH86",
          "HZNU58",
          "MHSY67",
          "NDFJ51",
          "AKNE57",
          "TKNP60",
          "QDHK22",
          "SQRS94",
          "EVQW32",
          "IDMW10",
          "LFRR61",
          "RHKW49",
          "NQKY66",
          "YKCW30",
          "HJAI83",
          "TXWS41",
          "GUMP42",
          "HSIQ21",
          "LTLZ64",
          "SVKI92",
          "JIWF86",
          "FWMN74",
          "YAQW89",
          "TTMQ84",
          "TWXV64",
          "DDDJ77",
          "SAVF19",
          "WVIR35",
          "JQIA12",
          "TPQB95",
          "HOVH72",
          "AGBU82",
          "SANS27",
          "SNWN58",
          "FYNE44",
          "GDZA87",
          "RFEJ53",
          "PWYT95",
          "SLOW66",
          "TFKY29",
          "FEVD12",
          "IENP72",
          "XGGQ55",
          "FMAI13",
          "SIOF38",
          "FIPP58",
          "XQRV82",
          "PCBB83",
          "LDMI21",
          "VBYN44",
          "QIKX76",
          "FLSG41",
          "MRPD83",
          "NUMZ67",
          "JWHM91",
          "KFVJ30",
          "KGXH80",
          "PIYQ80",
          "TGZM51",
          "UUSP65",
          "LGSF65",
          "SQGC99",
          "HVXB86",
          "XWMO74",
          "JNVV50",
          "OIMA22",
          "LGHJ81",
          "KWMC60",
          "DUOE90",
          "XPVA53",
          "UIQN34",
          "DVMU59",
          "XTIX31",
          "GGUG30",
          "TQSJ60",
          "SLDZ63",
          "GXBI93",
          "REDC14",
          "HJZU68",
          "QSQK52",
          "GDXH90",
          "CNGW35",
          "OMLQ33",
          "EUSY16",
          "KEMK40",
          "PCYA34",
          "LHMS81",
          "LHOY77",
          "ICRP42",
          "CIVB27",
          "QVDX41",
          "DLHP64",
          "SQOR64",
          "QEMH59",
          "SLQG29",
          "XXOF59",
          "OIAP21",
          "CCDY38",
          "ZRSM83",
          "NSCT87",
          "DXQM13",
          "KRZV69",
          "EPEC54",
          "TPFW28",
          "WUSR65",
          "FATS69",
          "UMXS24",
          "PHPH70",
          "DXYS80",
          "UGGA36",
          "OKMX93",
          "QSRD31",
          "APTR55",
          "OUZV27",
          "CKZR46",
          "GZYF33",
          "QOMR13",
          "ITGO53",
          "HMHR27",
          "VMDE58",
          "VFBU86",
          "LTWF60",
          "JTIH36",
          "NPTE60",
          "SRWW51",
          "QMJI29",
          "BSXS25",
          "MUJV35",
          "VOZS71",
          "SAGM82",
          "YNUE22",
          "FYKL19",
          "QMJS18",
          "RBPN19",
          "GUBX34",
          "YSYT29",
          "OCGB46",
          "EFNF62",
          "UDPT14",
          "MZDX80",
          "ORAF34",
          "VMJD72",
          "KQOT45",
          "NFDU27",
          "EXMO66",
          "YSRN78",
          "EOFS84",
          "KIHU37",
          "YGXB97",
          "QYLQ68",
          "IKGO39",
          "IHMJ19",
          "VGUH29",
          "BPUC79",
          "CZEX94",
          "RHQM89",
          "LZEB21",
          "UBRE60",
          "ERRF82",
          "EZCI36",
          "BQCH58",
          "SUAX93",
          "TCQA74",
          "WVDC11",
          "ZQZT35",
          "PJCC49",
          "NANZ76",
          "WCEQ28",
          "WYNM81",
          "WEEL32",
          "DGUY89",
          "QWEK34",
          "BXCL56",
          "BXQH89",
          "JBMO54",
          "IYUF79",
          "SHXG23",
          "OSMM78",
          "LCXO68",
          "TUOD75",
          "HPOE30",
          "YQCN75",
          "LRHD84",
          "HWDN41",
          "BPUI99",
          "XMPX49",
          "JAQT74",
          "WETY43",
          "IDWV24",
          "BBHZ96",
          "LGOO36",
          "XIPA62",
          "FNCM77",
          "YZCI55",
          "LQGZ64",
          "MFDK54",
          "OVJN48",
          "PNCR49",
          "THGF27",
          "MMGV61",
          "ZAYQ95",
          "EQSL99",
          "UCVD54",
          "RJKU16",
          "SDPG36",
          "XAJF93",
          "BMHR27",
          "GXIZ46",
          "WXBF10",
          "QWDP52",
          "SZSN61",
          "ESMK94",
          "YUNX33",
          "KTKC26",
          "ZXNO75",
          "WDTZ85",
          "JQDM98",
          "BQRC35",
          "REHF21",
          "FGYS82",
          "XTOG82",
          "RCAM62",
          "ERYG81",
          "RXJL39",
          "TQNJ44",
          "XRWA86",
          "NMTD35",
          "XJNU84",
          "XBSB88",
          "ITDA87",
          "DLXO11",
          "XWXT51",
          "DQQI72",
          "IMCV41",
          "WKRQ97",
          "PXQJ69",
          "DHLQ26",
          "LRRN18",
          "JYRH41",
          "OZMG18",
          "ZDVU26",
          "OEIB74",
          "NSBM59",
          "AJHW56",
          "VXKE34",
          "WFRD54",
          "XLYW27",
          "RLHZ21",
          "HNSU28",
          "UFAI49",
          "PEID52",
          "ONUP16",
          "EBFI79",
          "GUGG50",
          "EAZQ19",
          "YRSP26",
          "FZDJ12",
          "LDAI54",
          "WLMG91",
          "JEBG64",
          "NJWI21",
          "BPHU44",
          "GUHW10",
          "DPYG49",
          "KQVU99",
          "ZGIC89",
          "BEFE10",
          "FLVL38",
          "BRRE63",
          "DEIW46",
          "QVCQ71",
          "WMQJ11",
          "ZGYI64",
          "MUZQ61",
          "DKTC49",
          "WCYZ75",
          "IHDE63",
          "CWVP42",
          "KELK27",
          "YRNM53",
          "WXEP18",
          "SHXE32",
          "QXLA51",
          "PMLK52",
          "WXEX62",
          "CQRH39",
          "BCPM13",
          "LIXR98",
          "OOWE64",
          "SWBE48",
          "YVQJ61",
          "NOGQ18",
          "XLHV24",
          "OMXA57",
          "WOAF84",
          "SDJN64",
          "FUVL92",
          "RISW72",
          "JULZ40",
          "CVZD73",
          "LWFN72",
          "TISN30",
          "JIFY75",
          "YELO31",
          "XNST91",
          "MKKK18",
          "EHTL62",
          "VHUV32",
          "GZLX52",
          "WEXC75",
          "JKQQ34",
          "BMIP35",
          "KFPG85",
          "NXOT58",
          "MOKS36",
          "MURE63",
          "TVPN19",
          "EZEH17",
          "PGYB37",
          "ZDMY76",
          "AFDF67",
          "HYZT70",
          "VTLA94",
          "PUCK75",
          "DKWZ67",
          "HMUG31",
          "TXNT56",
          "ABTN53",
          "GIJK13",
          "SCVU56",
          "USXA30",
          "IMNP88",
          "KBHY97",
          "VLUA59",
          "WXIE33",
          "BTJU72",
          "CQGJ35",
          "TBVJ40",
          "EWPW67",
          "IPBC92",
          "ABTG22",
          "JKVU43",
          "CISK65",
          "UWGE22",
          "ONQG21",
          "WSFC85",
          "RLWJ76",
          "MWEU69",
          "UOMJ35",
          "CWSQ13",
          "JQZF79",
          "EGTR61",
          "ZLHQ74",
          "TZUL67",
          "TBGD81",
          "BKRB38",
          "YYLO17",
          "FEMC10",
          "UFUA76",
          "FQGN23",
          "DRON90",
          "BRZA84",
          "HUEB37",
          "FVUQ65",
          "AICC84",
          "TEZG61",
          "GRVX24",
          "DRHW78",
          "UAVW36",
          "WLLQ47",
          "QKNM36",
          "RUZF22",
          "KPCY77",
          "TIAL29",
          "RPKY73",
          "HUEK35",
          "NREW60",
          "OKHV28",
          "GXIX65",
          "BPDE64",
          "UOLQ18",
          "SFSI66",
          "ZEJY31",
          "KNSM52",
          "JGIC74",
          "NZEA54",
          "FGTH37",
          "BJEJ13",
          "XCRN33",
          "GBUT76",
          "ZXDB50",
          "HPDR77",
          "KBVW44",
          "KQUY99",
          "HSBX72",
          "MCRK77",
          "YWFU73",
          "INXR24",
          "RGSJ38",
          "GJUC90",
          "RZCK11",
          "KPES84",
          "ALQW26",
          "FENI82",
          "IJXK37",
          "HWAA68",
          "UFMJ19",
          "JGRA63",
          "QYID97",
          "VZWN82",
          "FWIN28",
          "RLTD83",
          "BIGO89",
          "SKQU62",
          "UIAZ42",
          "ZTLH37",
          "YPYM38",
          "RAMV64",
          "CJFA47",
          "JBVY98",
          "GTGJ94",
          "NMBC94",
          "ABNA53"
         ],
         "xaxis": "x",
         "y": [
          -1,
          -1,
          -1,
          -1,
          -1,
          -1,
          -1,
          -1,
          -1,
          -1,
          -1,
          -1,
          -1,
          -1,
          -1,
          -1,
          -1,
          -1,
          -1,
          -1,
          -1,
          -1,
          -1,
          -1,
          -1,
          -1,
          -1,
          -1,
          -1,
          -1,
          -1,
          -1,
          -1,
          -1,
          -1,
          -1,
          -1,
          -1,
          -1,
          -1,
          -1,
          -1,
          -1,
          -1,
          -1,
          -1,
          -1,
          -1,
          -1,
          -1,
          -1,
          -1,
          -1,
          -1,
          -1,
          -1,
          -1,
          -1,
          -1,
          -1,
          -1,
          -1,
          -1,
          -1,
          -1,
          -1,
          -1,
          -1,
          -1,
          -1,
          -1,
          -1,
          -1,
          -1,
          -1,
          -1,
          -1,
          -1,
          -1,
          -1,
          -1,
          -1,
          -1,
          -1,
          -1,
          -1,
          -1,
          -1,
          -1,
          -1,
          -1,
          -1,
          -1,
          -1,
          -1,
          23.059598179216888,
          23.059598179216888,
          23.059598179216888,
          23.059598179216888,
          23.059598179216888,
          23.059598179216888,
          24.368018563051525,
          24.368018563051525,
          25.81014550198168,
          25.81014550198168,
          25.81014550198168,
          25.81014550198168,
          25.81014550198168,
          25.81014550198168,
          25.81014550198168,
          25.81014550198168,
          25.81014550198168,
          25.81014550198168,
          25.81014550198168,
          25.81014550198168,
          25.81014550198168,
          25.81014550198168,
          25.81014550198168,
          25.81014550198168,
          25.81014550198168,
          25.81014550198168,
          25.81014550198168,
          25.81014550198168,
          25.81014550198168,
          25.81014550198168,
          25.81014550198168,
          25.81014550198168,
          25.81014550198168,
          25.81014550198168,
          25.81014550198168,
          25.81014550198168,
          25.81014550198168,
          25.81014550198168,
          25.81014550198168,
          25.81014550198168,
          25.81014550198168,
          25.81014550198168,
          25.81014550198168,
          30.712713670619525,
          30.712713670619525,
          79.2219665525076,
          79.2219665525076,
          92.5465700181498,
          109.75173426951248,
          109.75173426951248,
          109.75173426951248,
          109.75173426951248,
          109.75173426951248,
          109.75173426951248,
          109.75173426951248,
          132.9889206550841,
          132.9889206550841,
          154.24646170198133,
          154.24646170198133,
          154.24646170198133,
          160.1912695079053,
          160.1912695079053,
          160.1912695079053,
          160.1912695079053,
          160.1912695079053,
          160.1912695079053,
          160.1912695079053,
          160.1912695079053,
          160.1912695079053,
          160.1912695079053,
          160.1912695079053,
          160.1912695079053,
          160.1912695079053,
          160.6459800571038,
          160.6459800571038,
          164.2606054705874,
          167.0698165808161,
          167.0698165808161,
          167.16582064333696,
          171.69287301263637,
          171.69287301263637,
          171.69287301263637,
          171.69287301263637,
          172.81137426669233,
          178.52501909005505,
          182.89559788428912,
          225.45982711521287,
          225.45982711521287,
          241.5930631434824,
          342.1840224589792,
          376.4447958206151,
          402.36026348164575,
          402.36026348164575,
          402.36026348164575,
          403.4787647357017,
          429.0932486691356,
          429.0932486691356,
          454.0874704427711,
          454.0874704427711,
          454.0874704427711,
          454.0874704427711,
          454.0874704427711,
          456.1272175842223,
          456.1272175842223,
          456.1272175842223,
          572.8514129279886,
          763.2765643414735,
          763.2765643414735,
          763.2765643414735,
          763.2765643414735,
          763.2765643414735,
          763.2765643414735,
          763.2765643414735,
          763.2765643414735,
          763.2765643414735,
          763.2765643414735,
          763.2765643414735,
          763.2765643414735,
          763.2765643414735,
          763.2765643414735,
          763.2765643414735,
          763.2765643414735,
          763.2765643414735,
          786.8449197678725,
          786.8449197678725,
          786.8449197678725,
          786.8449197678725,
          786.8449197678725,
          786.8449197678725,
          796.8590635364786,
          796.8590635364786,
          822.8212410649063,
          822.8212410649063,
          822.8212410649063,
          822.8212410649063,
          822.8212410649063,
          822.8212410649063,
          822.8212410649063,
          822.8212410649063,
          822.8212410649063,
          822.8212410649063,
          822.8212410649063,
          822.8212410649063,
          822.8212410649063,
          822.8212410649063,
          822.8212410649063,
          822.8212410649063,
          822.8212410649063,
          822.8212410649063,
          822.8212410649063,
          822.8212410649063,
          822.8212410649063,
          822.8212410649063,
          822.8212410649063,
          822.8212410649063,
          822.8212410649063,
          822.8212410649063,
          822.8212410649063,
          822.8212410649063,
          822.8212410649063,
          822.8212410649063,
          822.8212410649063,
          822.8212410649063,
          822.8212410649063,
          822.8212410649063,
          822.8212410649063,
          822.8212410649063,
          979.1664213904972,
          979.1664213904972,
          979.1664213904972,
          979.1664213904972,
          979.1664213904972,
          979.1664213904972,
          979.1664213904972,
          1105.629552213417,
          1105.629552213417,
          1105.629552213417,
          1105.629552213417,
          1105.629552213417,
          1105.629552213417,
          1105.629552213417,
          1105.629552213417,
          1105.629552213417,
          1105.629552213417,
          1105.629552213417,
          1105.629552213417,
          1105.629552213417,
          1105.629552213417,
          1105.629552213417,
          1105.629552213417,
          1105.629552213417,
          1114.0725063248683,
          1114.0725063248683,
          1114.0725063248683,
          1114.0725063248683,
          1114.0725063248683,
          1220.450085001352,
          1220.450085001352,
          1220.450085001352,
          1220.450085001352,
          1220.450085001352,
          1220.450085001352,
          1220.450085001352,
          1220.450085001352,
          1220.450085001352,
          1220.450085001352,
          1220.450085001352,
          1220.450085001352,
          1220.450085001352,
          1220.450085001352,
          1220.450085001352,
          1220.450085001352,
          1266.3300835209184,
          1266.3300835209184,
          1266.3300835209184,
          1266.3300835209184,
          1266.3300835209184,
          1266.3300835209184,
          1266.3300835209184,
          1266.3300835209184,
          1266.3300835209184,
          1266.3300835209184,
          1266.3300835209184,
          1276.3442272895245,
          1280.654001056484,
          1280.654001056484,
          1280.654001056484,
          1280.654001056484,
          1280.654001056484,
          1280.654001056484,
          1280.654001056484,
          1280.654001056484,
          1280.654001056484,
          1280.654001056484,
          1280.654001056484,
          1280.654001056484,
          1280.654001056484,
          1280.654001056484,
          1280.654001056484,
          1280.654001056484,
          1280.654001056484,
          1919.14937583629,
          1919.14937583629,
          1919.14937583629,
          1919.14937583629,
          1919.14937583629,
          1919.14937583629,
          1919.14937583629,
          1919.14937583629,
          1919.14937583629,
          2060.59493839624,
          2060.59493839624,
          2336.936039414875,
          2336.936039414875,
          2336.936039414875,
          2336.936039414875,
          2336.936039414875,
          2336.936039414875,
          2336.936039414875,
          2336.936039414875,
          2336.936039414875,
          2336.936039414875,
          2383.935764445648,
          2812.154687760681,
          2812.154687760681,
          2821.706413860049,
          2821.706413860049,
          2916.1097898641806,
          3139.56752943691,
          3139.56752943691,
          3139.56752943691,
          3139.56752943691,
          3139.56752943691,
          3139.56752943691,
          3139.56752943691,
          3139.56752943691,
          3139.56752943691,
          3139.56752943691,
          3175.6543828461736,
          3280.6584250084265,
          3280.6584250084265,
          3280.6584250084265,
          3280.6584250084265,
          3280.6584250084265,
          3515.127877514439,
          3515.127877514439,
          3515.127877514439,
          3515.127877514439,
          3515.127877514439,
          5352.850298867538,
          5381.4994350498455,
          20667.52316961535,
          20667.52316961535,
          20667.52316961535,
          20667.52316961535,
          20667.52316961535,
          20667.52316961535,
          20667.52316961535,
          20667.52316961535,
          20667.52316961535,
          20667.52316961535,
          20667.52316961535,
          20667.52316961535,
          20667.52316961535,
          20667.52316961535,
          35434.408769795504,
          35434.408769795504,
          35434.408769795504,
          35434.408769795504,
          35434.408769795504,
          35434.408769795504,
          35434.408769795504,
          41408.439285656896,
          41408.439285656896,
          44990.78272147126,
          44990.78272147126,
          44990.78272147126,
          44990.78272147126,
          44990.78272147126,
          44990.78272147126,
          44990.78272147126,
          44990.78272147126,
          44990.78272147126,
          44990.78272147126,
          47156.85557457611,
          125238.55751093871,
          125238.55751093871,
          125238.55751093871,
          125238.55751093871,
          125238.55751093871,
          125238.55751093871,
          125238.55751093871,
          125238.55751093871,
          125238.55751093871,
          125238.55751093871,
          125238.55751093871,
          125238.55751093871,
          125238.55751093871,
          125239.67601219277,
          125239.67601219277,
          125292.32446504128,
          245049.3582620744,
          119640308.71350732,
          119640308.71350732,
          119640308.71350732,
          239280572.9116976
         ],
         "yaxis": "y"
        },
        {
         "hovertemplate": "pnr=%{x}<br>delay=%{y}<extra></extra>",
         "legendgroup": "",
         "marker": {
          "color": "#636efa",
          "symbol": "circle"
         },
         "mode": "markers",
         "name": "",
         "orientation": "v",
         "showlegend": false,
         "type": "scatter",
         "x": [
          "HTQT32",
          "HVUE68",
          "LZMY53",
          "LWVG59",
          "KONV97",
          "XRPO74",
          "ZQAQ83",
          "IWFO10",
          "FPOZ45",
          "FEOP40",
          "AQZZ99",
          "FNUV81",
          "ISVB14",
          "ZPKQ28",
          "PVEQ37",
          "EVEU68",
          "NKFP32",
          "SLOX19",
          "XDUH86",
          "HZNU58",
          "MHSY67",
          "NDFJ51",
          "AKNE57",
          "TKNP60",
          "QDHK22",
          "SQRS94",
          "EVQW32",
          "IDMW10",
          "LFRR61",
          "RHKW49",
          "NQKY66",
          "YKCW30",
          "HJAI83",
          "TXWS41",
          "GUMP42",
          "HSIQ21",
          "LTLZ64",
          "SVKI92",
          "JIWF86",
          "FWMN74",
          "YAQW89",
          "TTMQ84",
          "TWXV64",
          "DDDJ77",
          "SAVF19",
          "WVIR35",
          "JQIA12",
          "TPQB95",
          "HOVH72",
          "AGBU82",
          "SANS27",
          "SNWN58",
          "FYNE44",
          "GDZA87",
          "RFEJ53",
          "PWYT95",
          "SLOW66",
          "TFKY29",
          "FEVD12",
          "IENP72",
          "XGGQ55",
          "FMAI13",
          "SIOF38",
          "FIPP58",
          "XQRV82",
          "PCBB83",
          "LDMI21",
          "VBYN44",
          "QIKX76",
          "FLSG41",
          "MRPD83",
          "NUMZ67",
          "JWHM91",
          "KFVJ30",
          "KGXH80",
          "PIYQ80",
          "TGZM51",
          "UUSP65",
          "LGSF65",
          "SQGC99",
          "HVXB86",
          "XWMO74",
          "JNVV50",
          "OIMA22",
          "LGHJ81",
          "KWMC60",
          "DUOE90",
          "XPVA53",
          "UIQN34",
          "DVMU59",
          "XTIX31",
          "GGUG30",
          "TQSJ60",
          "SLDZ63",
          "GXBI93",
          "REDC14",
          "HJZU68",
          "QSQK52",
          "GDXH90",
          "CNGW35",
          "OMLQ33",
          "EUSY16",
          "KEMK40",
          "PCYA34",
          "LHMS81",
          "LHOY77",
          "ICRP42",
          "CIVB27",
          "QVDX41",
          "DLHP64",
          "SQOR64",
          "QEMH59",
          "SLQG29",
          "XXOF59",
          "OIAP21",
          "CCDY38",
          "ZRSM83",
          "NSCT87",
          "DXQM13",
          "KRZV69",
          "EPEC54",
          "TPFW28",
          "WUSR65",
          "FATS69",
          "UMXS24",
          "PHPH70",
          "DXYS80",
          "UGGA36",
          "OKMX93",
          "QSRD31",
          "APTR55",
          "OUZV27",
          "CKZR46",
          "GZYF33",
          "QOMR13",
          "ITGO53",
          "HMHR27",
          "VMDE58",
          "VFBU86",
          "LTWF60",
          "JTIH36",
          "NPTE60",
          "SRWW51",
          "QMJI29",
          "BSXS25",
          "MUJV35",
          "VOZS71",
          "SAGM82",
          "YNUE22",
          "FYKL19",
          "QMJS18",
          "RBPN19",
          "GUBX34",
          "YSYT29",
          "OCGB46",
          "EFNF62",
          "UDPT14",
          "MZDX80",
          "ORAF34",
          "VMJD72",
          "KQOT45",
          "NFDU27",
          "EXMO66",
          "YSRN78",
          "EOFS84",
          "KIHU37",
          "YGXB97",
          "QYLQ68",
          "IKGO39",
          "IHMJ19",
          "VGUH29",
          "BPUC79",
          "CZEX94",
          "RHQM89",
          "LZEB21",
          "UBRE60",
          "ERRF82",
          "EZCI36",
          "BQCH58",
          "SUAX93",
          "TCQA74",
          "WVDC11",
          "ZQZT35",
          "PJCC49",
          "NANZ76",
          "WCEQ28",
          "WYNM81",
          "WEEL32",
          "DGUY89",
          "QWEK34",
          "BXCL56",
          "BXQH89",
          "JBMO54",
          "IYUF79",
          "SHXG23",
          "OSMM78",
          "LCXO68",
          "TUOD75",
          "HPOE30",
          "YQCN75",
          "LRHD84",
          "HWDN41",
          "BPUI99",
          "XMPX49",
          "JAQT74",
          "WETY43",
          "IDWV24",
          "BBHZ96",
          "LGOO36",
          "XIPA62",
          "FNCM77",
          "YZCI55",
          "LQGZ64",
          "MFDK54",
          "OVJN48",
          "PNCR49",
          "THGF27",
          "MMGV61",
          "ZAYQ95",
          "EQSL99",
          "UCVD54",
          "RJKU16",
          "SDPG36",
          "XAJF93",
          "BMHR27",
          "GXIZ46",
          "WXBF10",
          "QWDP52",
          "SZSN61",
          "ESMK94",
          "YUNX33",
          "KTKC26",
          "ZXNO75",
          "WDTZ85",
          "JQDM98",
          "BQRC35",
          "REHF21",
          "FGYS82",
          "XTOG82",
          "RCAM62",
          "ERYG81",
          "RXJL39",
          "TQNJ44",
          "XRWA86",
          "NMTD35",
          "XJNU84",
          "XBSB88",
          "ITDA87",
          "DLXO11",
          "XWXT51",
          "DQQI72",
          "IMCV41",
          "WKRQ97",
          "PXQJ69",
          "DHLQ26",
          "LRRN18",
          "JYRH41",
          "OZMG18",
          "ZDVU26",
          "OEIB74",
          "NSBM59",
          "AJHW56",
          "VXKE34",
          "WFRD54",
          "XLYW27",
          "RLHZ21",
          "HNSU28",
          "UFAI49",
          "PEID52",
          "ONUP16",
          "EBFI79",
          "GUGG50",
          "EAZQ19",
          "YRSP26",
          "FZDJ12",
          "LDAI54",
          "WLMG91",
          "JEBG64",
          "NJWI21",
          "BPHU44",
          "GUHW10",
          "DPYG49",
          "KQVU99",
          "ZGIC89",
          "BEFE10",
          "FLVL38",
          "BRRE63",
          "DEIW46",
          "QVCQ71",
          "WMQJ11",
          "ZGYI64",
          "MUZQ61",
          "DKTC49",
          "WCYZ75",
          "IHDE63",
          "CWVP42",
          "KELK27",
          "YRNM53",
          "WXEP18",
          "SHXE32",
          "QXLA51",
          "PMLK52",
          "WXEX62",
          "CQRH39",
          "BCPM13",
          "LIXR98",
          "OOWE64",
          "SWBE48",
          "YVQJ61",
          "NOGQ18",
          "XLHV24",
          "OMXA57",
          "WOAF84",
          "SDJN64",
          "FUVL92",
          "RISW72",
          "JULZ40",
          "CVZD73",
          "LWFN72",
          "TISN30",
          "JIFY75",
          "YELO31",
          "XNST91",
          "MKKK18",
          "EHTL62",
          "VHUV32",
          "GZLX52",
          "WEXC75",
          "JKQQ34",
          "BMIP35",
          "KFPG85",
          "NXOT58",
          "MOKS36",
          "MURE63",
          "TVPN19",
          "EZEH17",
          "PGYB37",
          "ZDMY76",
          "AFDF67",
          "HYZT70",
          "VTLA94",
          "PUCK75",
          "DKWZ67",
          "HMUG31",
          "TXNT56",
          "ABTN53",
          "GIJK13",
          "SCVU56",
          "USXA30",
          "IMNP88",
          "KBHY97",
          "VLUA59",
          "WXIE33",
          "BTJU72",
          "CQGJ35",
          "TBVJ40",
          "EWPW67",
          "IPBC92",
          "ABTG22",
          "JKVU43",
          "CISK65",
          "UWGE22",
          "ONQG21",
          "WSFC85",
          "RLWJ76",
          "MWEU69",
          "UOMJ35",
          "CWSQ13",
          "JQZF79",
          "EGTR61",
          "ZLHQ74",
          "TZUL67",
          "TBGD81",
          "BKRB38",
          "YYLO17",
          "FEMC10",
          "UFUA76",
          "FQGN23",
          "DRON90",
          "BRZA84",
          "HUEB37",
          "FVUQ65",
          "AICC84",
          "TEZG61",
          "GRVX24",
          "DRHW78",
          "UAVW36",
          "WLLQ47",
          "QKNM36",
          "RUZF22",
          "KPCY77",
          "TIAL29",
          "RPKY73",
          "HUEK35",
          "NREW60",
          "OKHV28",
          "GXIX65",
          "BPDE64",
          "UOLQ18",
          "SFSI66",
          "ZEJY31",
          "KNSM52",
          "JGIC74",
          "NZEA54",
          "FGTH37",
          "BJEJ13",
          "XCRN33",
          "GBUT76",
          "ZXDB50",
          "HPDR77",
          "KBVW44",
          "KQUY99",
          "HSBX72",
          "MCRK77",
          "YWFU73",
          "INXR24",
          "RGSJ38",
          "GJUC90",
          "RZCK11",
          "KPES84",
          "ALQW26",
          "FENI82",
          "IJXK37",
          "HWAA68",
          "UFMJ19",
          "JGRA63",
          "QYID97",
          "VZWN82",
          "FWIN28",
          "RLTD83",
          "BIGO89",
          "SKQU62",
          "UIAZ42",
          "ZTLH37",
          "YPYM38",
          "RAMV64",
          "CJFA47",
          "JBVY98",
          "GTGJ94",
          "NMBC94",
          "ABNA53"
         ],
         "xaxis": "x",
         "y": [
          null,
          null,
          null,
          null,
          null,
          null,
          null,
          null,
          null,
          null,
          null,
          null,
          null,
          null,
          null,
          null,
          null,
          null,
          null,
          null,
          null,
          null,
          null,
          null,
          null,
          null,
          null,
          null,
          null,
          null,
          null,
          null,
          null,
          null,
          null,
          null,
          null,
          null,
          null,
          null,
          null,
          null,
          null,
          null,
          null,
          null,
          null,
          null,
          null,
          null,
          null,
          null,
          null,
          null,
          null,
          null,
          null,
          null,
          null,
          null,
          null,
          null,
          null,
          null,
          null,
          null,
          null,
          null,
          null,
          null,
          null,
          null,
          null,
          null,
          null,
          null,
          null,
          null,
          null,
          null,
          null,
          null,
          null,
          null,
          null,
          null,
          null,
          null,
          null,
          null,
          null,
          null,
          null,
          null,
          null,
          -1.8166666666666667,
          -1.8166666666666667,
          -1.8166666666666667,
          -1.8166666666666667,
          -1.8166666666666667,
          -1.8166666666666667,
          -1.8166666666666667,
          -1.8166666666666667,
          2.1166666666666667,
          2.1166666666666667,
          2.1166666666666667,
          2.1166666666666667,
          2.1166666666666667,
          2.1166666666666667,
          2.1166666666666667,
          2.1166666666666667,
          2.1166666666666667,
          2.1166666666666667,
          2.1166666666666667,
          2.1166666666666667,
          2.1166666666666667,
          2.1166666666666667,
          2.1166666666666667,
          2.1166666666666667,
          2.1166666666666667,
          2.1166666666666667,
          2.1166666666666667,
          2.1166666666666667,
          2.1166666666666667,
          2.1166666666666667,
          2.1166666666666667,
          2.1166666666666667,
          2.1166666666666667,
          2.1166666666666667,
          2.1166666666666667,
          2.1166666666666667,
          2.1166666666666667,
          2.1166666666666667,
          2.1166666666666667,
          2.1166666666666667,
          2.1166666666666667,
          2.1166666666666667,
          2.1166666666666667,
          -1.8166666666666667,
          -1.8166666666666667,
          8.783333333333333,
          8.783333333333333,
          -1.8166666666666667,
          7.1,
          7.1,
          7.1,
          7.1,
          7.1,
          7.1,
          7.1,
          8.783333333333333,
          8.783333333333333,
          50.28333333333333,
          50.28333333333333,
          50.28333333333333,
          31.6,
          31.6,
          31.6,
          31.6,
          31.6,
          31.6,
          31.6,
          31.6,
          31.6,
          31.6,
          31.6,
          31.6,
          31.6,
          31.6,
          31.6,
          50.28333333333333,
          -1.8166666666666667,
          -1.8166666666666667,
          50.28333333333333,
          14.633333333333333,
          14.633333333333333,
          14.633333333333333,
          14.633333333333333,
          14.633333333333333,
          14.633333333333333,
          50.28333333333333,
          14.633333333333333,
          14.633333333333333,
          -1.8166666666666667,
          14.633333333333333,
          36.2,
          36,
          36,
          36,
          36,
          36.2,
          36.2,
          39.43333333333333,
          39.43333333333333,
          39.43333333333333,
          39.43333333333333,
          39.43333333333333,
          36,
          36,
          36,
          36,
          15.333333333333334,
          15.333333333333334,
          15.333333333333334,
          15.333333333333334,
          15.333333333333334,
          15.333333333333334,
          15.333333333333334,
          15.333333333333334,
          15.333333333333334,
          15.333333333333334,
          15.333333333333334,
          15.333333333333334,
          15.333333333333334,
          15.333333333333334,
          15.333333333333334,
          15.333333333333334,
          15.333333333333334,
          40.11666666666667,
          40.11666666666667,
          40.11666666666667,
          40.11666666666667,
          40.11666666666667,
          40.11666666666667,
          40.11666666666667,
          40.11666666666667,
          14.083333333333334,
          14.083333333333334,
          14.083333333333334,
          14.083333333333334,
          14.083333333333334,
          14.083333333333334,
          14.083333333333334,
          14.083333333333334,
          14.083333333333334,
          14.083333333333334,
          14.083333333333334,
          14.083333333333334,
          14.083333333333334,
          14.083333333333334,
          14.083333333333334,
          14.083333333333334,
          14.083333333333334,
          14.083333333333334,
          14.083333333333334,
          14.083333333333334,
          14.083333333333334,
          14.083333333333334,
          14.083333333333334,
          14.083333333333334,
          14.083333333333334,
          14.083333333333334,
          14.083333333333334,
          14.083333333333334,
          14.083333333333334,
          14.083333333333334,
          14.083333333333334,
          14.083333333333334,
          14.083333333333334,
          14.083333333333334,
          14.083333333333334,
          14.083333333333334,
          15.866666666666667,
          15.866666666666667,
          15.866666666666667,
          15.866666666666667,
          15.866666666666667,
          15.866666666666667,
          15.866666666666667,
          39.766666666666666,
          39.766666666666666,
          39.766666666666666,
          39.766666666666666,
          39.766666666666666,
          39.766666666666666,
          39.766666666666666,
          39.766666666666666,
          39.766666666666666,
          39.766666666666666,
          39.766666666666666,
          39.766666666666666,
          39.766666666666666,
          39.766666666666666,
          39.766666666666666,
          39.766666666666666,
          39.766666666666666,
          14.983333333333333,
          14.983333333333333,
          14.983333333333333,
          14.983333333333333,
          14.983333333333333,
          52.85,
          52.85,
          52.85,
          52.85,
          52.85,
          52.85,
          52.85,
          52.85,
          52.85,
          52.85,
          52.85,
          52.85,
          52.85,
          52.85,
          52.85,
          52.85,
          60.8,
          60.8,
          60.8,
          60.8,
          60.8,
          60.8,
          60.8,
          60.8,
          60.8,
          60.8,
          60.8,
          60.8,
          1.95,
          1.95,
          1.95,
          1.95,
          1.95,
          1.95,
          1.95,
          1.95,
          1.95,
          1.95,
          1.95,
          1.95,
          1.95,
          1.95,
          1.95,
          1.95,
          1.95,
          27.666666666666668,
          27.666666666666668,
          27.666666666666668,
          27.666666666666668,
          27.666666666666668,
          27.666666666666668,
          27.666666666666668,
          27.666666666666668,
          27.666666666666668,
          68.63333333333334,
          68.63333333333334,
          31.466666666666665,
          31.466666666666665,
          31.466666666666665,
          31.466666666666665,
          31.466666666666665,
          31.466666666666665,
          31.466666666666665,
          31.466666666666665,
          31.466666666666665,
          31.466666666666665,
          31.466666666666665,
          68.63333333333334,
          68.63333333333334,
          42.333333333333336,
          42.333333333333336,
          60.8,
          18.65,
          18.65,
          18.65,
          18.65,
          18.65,
          18.65,
          18.65,
          18.65,
          18.65,
          18.65,
          69.55,
          52.85,
          52.85,
          52.85,
          52.85,
          52.85,
          55.46666666666667,
          55.46666666666667,
          55.46666666666667,
          55.46666666666667,
          55.46666666666667,
          50.28333333333333,
          50.28333333333333,
          22.05,
          22.05,
          22.05,
          22.05,
          22.05,
          22.05,
          22.05,
          22.05,
          22.05,
          22.05,
          22.05,
          22.05,
          22.05,
          22.05,
          59.06666666666667,
          59.06666666666667,
          59.06666666666667,
          59.06666666666667,
          59.06666666666667,
          59.06666666666667,
          59.06666666666667,
          60.8,
          60.8,
          55.11666666666667,
          55.11666666666667,
          55.11666666666667,
          55.11666666666667,
          55.11666666666667,
          55.11666666666667,
          55.11666666666667,
          55.11666666666667,
          55.11666666666667,
          55.11666666666667,
          55.11666666666667,
          60,
          60,
          60,
          60,
          60,
          60,
          60,
          60,
          60,
          60,
          60,
          60,
          60,
          60,
          60,
          60,
          38.083333333333336,
          14.983333333333333,
          14.983333333333333,
          14.983333333333333,
          14.983333333333333
         ],
         "yaxis": "y"
        },
        {
         "hovertemplate": "pnr=%{x}<br>delay=%{y}<extra></extra>",
         "legendgroup": "",
         "marker": {
          "color": "#636efa",
          "symbol": "circle"
         },
         "mode": "markers",
         "name": "",
         "orientation": "v",
         "showlegend": false,
         "type": "scatter",
         "x": [
          "HTQT32",
          "HVUE68",
          "LZMY53",
          "LWVG59",
          "KONV97",
          "XRPO74",
          "ZQAQ83",
          "IWFO10",
          "FPOZ45",
          "FEOP40",
          "AQZZ99",
          "FNUV81",
          "ISVB14",
          "ZPKQ28",
          "PVEQ37",
          "EVEU68",
          "NKFP32",
          "SLOX19",
          "XDUH86",
          "HZNU58",
          "MHSY67",
          "NDFJ51",
          "AKNE57",
          "TKNP60",
          "QDHK22",
          "SQRS94",
          "EVQW32",
          "IDMW10",
          "LFRR61",
          "RHKW49",
          "NQKY66",
          "YKCW30",
          "HJAI83",
          "TXWS41",
          "GUMP42",
          "HSIQ21",
          "LTLZ64",
          "SVKI92",
          "JIWF86",
          "FWMN74",
          "YAQW89",
          "TTMQ84",
          "TWXV64",
          "DDDJ77",
          "SAVF19",
          "WVIR35",
          "JQIA12",
          "TPQB95",
          "HOVH72",
          "AGBU82",
          "SANS27",
          "SNWN58",
          "FYNE44",
          "GDZA87",
          "RFEJ53",
          "PWYT95",
          "SLOW66",
          "TFKY29",
          "FEVD12",
          "IENP72",
          "XGGQ55",
          "FMAI13",
          "SIOF38",
          "FIPP58",
          "XQRV82",
          "PCBB83",
          "LDMI21",
          "VBYN44",
          "QIKX76",
          "FLSG41",
          "MRPD83",
          "NUMZ67",
          "JWHM91",
          "KFVJ30",
          "KGXH80",
          "PIYQ80",
          "TGZM51",
          "UUSP65",
          "LGSF65",
          "SQGC99",
          "HVXB86",
          "XWMO74",
          "JNVV50",
          "OIMA22",
          "LGHJ81",
          "KWMC60",
          "DUOE90",
          "XPVA53",
          "UIQN34",
          "DVMU59",
          "XTIX31",
          "GGUG30",
          "TQSJ60",
          "SLDZ63",
          "GXBI93",
          "REDC14",
          "HJZU68",
          "QSQK52",
          "GDXH90",
          "CNGW35",
          "OMLQ33",
          "EUSY16",
          "KEMK40",
          "PCYA34",
          "LHMS81",
          "LHOY77",
          "ICRP42",
          "CIVB27",
          "QVDX41",
          "DLHP64",
          "SQOR64",
          "QEMH59",
          "SLQG29",
          "XXOF59",
          "OIAP21",
          "CCDY38",
          "ZRSM83",
          "NSCT87",
          "DXQM13",
          "KRZV69",
          "EPEC54",
          "TPFW28",
          "WUSR65",
          "FATS69",
          "UMXS24",
          "PHPH70",
          "DXYS80",
          "UGGA36",
          "OKMX93",
          "QSRD31",
          "APTR55",
          "OUZV27",
          "CKZR46",
          "GZYF33",
          "QOMR13",
          "ITGO53",
          "HMHR27",
          "VMDE58",
          "VFBU86",
          "LTWF60",
          "JTIH36",
          "NPTE60",
          "SRWW51",
          "QMJI29",
          "BSXS25",
          "MUJV35",
          "VOZS71",
          "SAGM82",
          "YNUE22",
          "FYKL19",
          "QMJS18",
          "RBPN19",
          "GUBX34",
          "YSYT29",
          "OCGB46",
          "EFNF62",
          "UDPT14",
          "MZDX80",
          "ORAF34",
          "VMJD72",
          "KQOT45",
          "NFDU27",
          "EXMO66",
          "YSRN78",
          "EOFS84",
          "KIHU37",
          "YGXB97",
          "QYLQ68",
          "IKGO39",
          "IHMJ19",
          "VGUH29",
          "BPUC79",
          "CZEX94",
          "RHQM89",
          "LZEB21",
          "UBRE60",
          "ERRF82",
          "EZCI36",
          "BQCH58",
          "SUAX93",
          "TCQA74",
          "WVDC11",
          "ZQZT35",
          "PJCC49",
          "NANZ76",
          "WCEQ28",
          "WYNM81",
          "WEEL32",
          "DGUY89",
          "QWEK34",
          "BXCL56",
          "BXQH89",
          "JBMO54",
          "IYUF79",
          "SHXG23",
          "OSMM78",
          "LCXO68",
          "TUOD75",
          "HPOE30",
          "YQCN75",
          "LRHD84",
          "HWDN41",
          "BPUI99",
          "XMPX49",
          "JAQT74",
          "WETY43",
          "IDWV24",
          "BBHZ96",
          "LGOO36",
          "XIPA62",
          "FNCM77",
          "YZCI55",
          "LQGZ64",
          "MFDK54",
          "OVJN48",
          "PNCR49",
          "THGF27",
          "MMGV61",
          "ZAYQ95",
          "EQSL99",
          "UCVD54",
          "RJKU16",
          "SDPG36",
          "XAJF93",
          "BMHR27",
          "GXIZ46",
          "WXBF10",
          "QWDP52",
          "SZSN61",
          "ESMK94",
          "YUNX33",
          "KTKC26",
          "ZXNO75",
          "WDTZ85",
          "JQDM98",
          "BQRC35",
          "REHF21",
          "FGYS82",
          "XTOG82",
          "RCAM62",
          "ERYG81",
          "RXJL39",
          "TQNJ44",
          "XRWA86",
          "NMTD35",
          "XJNU84",
          "XBSB88",
          "ITDA87",
          "DLXO11",
          "XWXT51",
          "DQQI72",
          "IMCV41",
          "WKRQ97",
          "PXQJ69",
          "DHLQ26",
          "LRRN18",
          "JYRH41",
          "OZMG18",
          "ZDVU26",
          "OEIB74",
          "NSBM59",
          "AJHW56",
          "VXKE34",
          "WFRD54",
          "XLYW27",
          "RLHZ21",
          "HNSU28",
          "UFAI49",
          "PEID52",
          "ONUP16",
          "EBFI79",
          "GUGG50",
          "EAZQ19",
          "YRSP26",
          "FZDJ12",
          "LDAI54",
          "WLMG91",
          "JEBG64",
          "NJWI21",
          "BPHU44",
          "GUHW10",
          "DPYG49",
          "KQVU99",
          "ZGIC89",
          "BEFE10",
          "FLVL38",
          "BRRE63",
          "DEIW46",
          "QVCQ71",
          "WMQJ11",
          "ZGYI64",
          "MUZQ61",
          "DKTC49",
          "WCYZ75",
          "IHDE63",
          "CWVP42",
          "KELK27",
          "YRNM53",
          "WXEP18",
          "SHXE32",
          "QXLA51",
          "PMLK52",
          "WXEX62",
          "CQRH39",
          "BCPM13",
          "LIXR98",
          "OOWE64",
          "SWBE48",
          "YVQJ61",
          "NOGQ18",
          "XLHV24",
          "OMXA57",
          "WOAF84",
          "SDJN64",
          "FUVL92",
          "RISW72",
          "JULZ40",
          "CVZD73",
          "LWFN72",
          "TISN30",
          "JIFY75",
          "YELO31",
          "XNST91",
          "MKKK18",
          "EHTL62",
          "VHUV32",
          "GZLX52",
          "WEXC75",
          "JKQQ34",
          "BMIP35",
          "KFPG85",
          "NXOT58",
          "MOKS36",
          "MURE63",
          "TVPN19",
          "EZEH17",
          "PGYB37",
          "ZDMY76",
          "AFDF67",
          "HYZT70",
          "VTLA94",
          "PUCK75",
          "DKWZ67",
          "HMUG31",
          "TXNT56",
          "ABTN53",
          "GIJK13",
          "SCVU56",
          "USXA30",
          "IMNP88",
          "KBHY97",
          "VLUA59",
          "WXIE33",
          "BTJU72",
          "CQGJ35",
          "TBVJ40",
          "EWPW67",
          "IPBC92",
          "ABTG22",
          "JKVU43",
          "CISK65",
          "UWGE22",
          "ONQG21",
          "WSFC85",
          "RLWJ76",
          "MWEU69",
          "UOMJ35",
          "CWSQ13",
          "JQZF79",
          "EGTR61",
          "ZLHQ74",
          "TZUL67",
          "TBGD81",
          "BKRB38",
          "YYLO17",
          "FEMC10",
          "UFUA76",
          "FQGN23",
          "DRON90",
          "BRZA84",
          "HUEB37",
          "FVUQ65",
          "AICC84",
          "TEZG61",
          "GRVX24",
          "DRHW78",
          "UAVW36",
          "WLLQ47",
          "QKNM36",
          "RUZF22",
          "KPCY77",
          "TIAL29",
          "RPKY73",
          "HUEK35",
          "NREW60",
          "OKHV28",
          "GXIX65",
          "BPDE64",
          "UOLQ18",
          "SFSI66",
          "ZEJY31",
          "KNSM52",
          "JGIC74",
          "NZEA54",
          "FGTH37",
          "BJEJ13",
          "XCRN33",
          "GBUT76",
          "ZXDB50",
          "HPDR77",
          "KBVW44",
          "KQUY99",
          "HSBX72",
          "MCRK77",
          "YWFU73",
          "INXR24",
          "RGSJ38",
          "GJUC90",
          "RZCK11",
          "KPES84",
          "ALQW26",
          "FENI82",
          "IJXK37",
          "HWAA68",
          "UFMJ19",
          "JGRA63",
          "QYID97",
          "VZWN82",
          "FWIN28",
          "RLTD83",
          "BIGO89",
          "SKQU62",
          "UIAZ42",
          "ZTLH37",
          "YPYM38",
          "RAMV64",
          "CJFA47",
          "JBVY98",
          "GTGJ94",
          "NMBC94",
          "ABNA53"
         ],
         "xaxis": "x2",
         "y": [
          null,
          null,
          null,
          null,
          null,
          null,
          null,
          null,
          null,
          null,
          null,
          null,
          null,
          null,
          null,
          null,
          null,
          null,
          null,
          null,
          null,
          null,
          null,
          null,
          null,
          null,
          null,
          null,
          null,
          null,
          null,
          null,
          null,
          null,
          null,
          null,
          null,
          null,
          null,
          null,
          null,
          null,
          null,
          null,
          null,
          null,
          null,
          null,
          null,
          null,
          null,
          null,
          null,
          null,
          null,
          null,
          null,
          null,
          null,
          null,
          null,
          null,
          null,
          null,
          null,
          null,
          null,
          null,
          null,
          null,
          null,
          null,
          null,
          null,
          null,
          null,
          null,
          null,
          null,
          null,
          null,
          null,
          null,
          null,
          null,
          null,
          null,
          null,
          null,
          null,
          null,
          null,
          null,
          null,
          null,
          -1.8166666666666667,
          -1.8166666666666667,
          -1.8166666666666667,
          -1.8166666666666667,
          -1.8166666666666667,
          -1.8166666666666667,
          -1.8166666666666667,
          -1.8166666666666667,
          2.1166666666666667,
          2.1166666666666667,
          2.1166666666666667,
          2.1166666666666667,
          2.1166666666666667,
          2.1166666666666667,
          2.1166666666666667,
          2.1166666666666667,
          2.1166666666666667,
          2.1166666666666667,
          2.1166666666666667,
          2.1166666666666667,
          2.1166666666666667,
          2.1166666666666667,
          2.1166666666666667,
          2.1166666666666667,
          2.1166666666666667,
          2.1166666666666667,
          2.1166666666666667,
          2.1166666666666667,
          2.1166666666666667,
          2.1166666666666667,
          2.1166666666666667,
          2.1166666666666667,
          2.1166666666666667,
          2.1166666666666667,
          2.1166666666666667,
          2.1166666666666667,
          2.1166666666666667,
          2.1166666666666667,
          2.1166666666666667,
          2.1166666666666667,
          2.1166666666666667,
          2.1166666666666667,
          2.1166666666666667,
          -1.8166666666666667,
          -1.8166666666666667,
          8.783333333333333,
          8.783333333333333,
          -1.8166666666666667,
          7.1,
          7.1,
          7.1,
          7.1,
          7.1,
          7.1,
          7.1,
          8.783333333333333,
          8.783333333333333,
          50.28333333333333,
          50.28333333333333,
          50.28333333333333,
          31.6,
          31.6,
          31.6,
          31.6,
          31.6,
          31.6,
          31.6,
          31.6,
          31.6,
          31.6,
          31.6,
          31.6,
          31.6,
          31.6,
          31.6,
          50.28333333333333,
          -1.8166666666666667,
          -1.8166666666666667,
          50.28333333333333,
          14.633333333333333,
          14.633333333333333,
          14.633333333333333,
          14.633333333333333,
          14.633333333333333,
          14.633333333333333,
          50.28333333333333,
          14.633333333333333,
          14.633333333333333,
          -1.8166666666666667,
          14.633333333333333,
          36.2,
          36,
          36,
          36,
          36,
          36.2,
          36.2,
          39.43333333333333,
          39.43333333333333,
          39.43333333333333,
          39.43333333333333,
          39.43333333333333,
          36,
          36,
          36,
          36,
          15.333333333333334,
          15.333333333333334,
          15.333333333333334,
          15.333333333333334,
          15.333333333333334,
          15.333333333333334,
          15.333333333333334,
          15.333333333333334,
          15.333333333333334,
          15.333333333333334,
          15.333333333333334,
          15.333333333333334,
          15.333333333333334,
          15.333333333333334,
          15.333333333333334,
          15.333333333333334,
          15.333333333333334,
          40.11666666666667,
          40.11666666666667,
          40.11666666666667,
          40.11666666666667,
          40.11666666666667,
          40.11666666666667,
          40.11666666666667,
          40.11666666666667,
          14.083333333333334,
          14.083333333333334,
          14.083333333333334,
          14.083333333333334,
          14.083333333333334,
          14.083333333333334,
          14.083333333333334,
          14.083333333333334,
          14.083333333333334,
          14.083333333333334,
          14.083333333333334,
          14.083333333333334,
          14.083333333333334,
          14.083333333333334,
          14.083333333333334,
          14.083333333333334,
          14.083333333333334,
          14.083333333333334,
          14.083333333333334,
          14.083333333333334,
          14.083333333333334,
          14.083333333333334,
          14.083333333333334,
          14.083333333333334,
          14.083333333333334,
          14.083333333333334,
          14.083333333333334,
          14.083333333333334,
          14.083333333333334,
          14.083333333333334,
          14.083333333333334,
          14.083333333333334,
          14.083333333333334,
          14.083333333333334,
          14.083333333333334,
          14.083333333333334,
          15.866666666666667,
          15.866666666666667,
          15.866666666666667,
          15.866666666666667,
          15.866666666666667,
          15.866666666666667,
          15.866666666666667,
          39.766666666666666,
          39.766666666666666,
          39.766666666666666,
          39.766666666666666,
          39.766666666666666,
          39.766666666666666,
          39.766666666666666,
          39.766666666666666,
          39.766666666666666,
          39.766666666666666,
          39.766666666666666,
          39.766666666666666,
          39.766666666666666,
          39.766666666666666,
          39.766666666666666,
          39.766666666666666,
          39.766666666666666,
          14.983333333333333,
          14.983333333333333,
          14.983333333333333,
          14.983333333333333,
          14.983333333333333,
          52.85,
          52.85,
          52.85,
          52.85,
          52.85,
          52.85,
          52.85,
          52.85,
          52.85,
          52.85,
          52.85,
          52.85,
          52.85,
          52.85,
          52.85,
          52.85,
          60.8,
          60.8,
          60.8,
          60.8,
          60.8,
          60.8,
          60.8,
          60.8,
          60.8,
          60.8,
          60.8,
          60.8,
          1.95,
          1.95,
          1.95,
          1.95,
          1.95,
          1.95,
          1.95,
          1.95,
          1.95,
          1.95,
          1.95,
          1.95,
          1.95,
          1.95,
          1.95,
          1.95,
          1.95,
          27.666666666666668,
          27.666666666666668,
          27.666666666666668,
          27.666666666666668,
          27.666666666666668,
          27.666666666666668,
          27.666666666666668,
          27.666666666666668,
          27.666666666666668,
          68.63333333333334,
          68.63333333333334,
          31.466666666666665,
          31.466666666666665,
          31.466666666666665,
          31.466666666666665,
          31.466666666666665,
          31.466666666666665,
          31.466666666666665,
          31.466666666666665,
          31.466666666666665,
          31.466666666666665,
          31.466666666666665,
          68.63333333333334,
          68.63333333333334,
          42.333333333333336,
          42.333333333333336,
          60.8,
          18.65,
          18.65,
          18.65,
          18.65,
          18.65,
          18.65,
          18.65,
          18.65,
          18.65,
          18.65,
          69.55,
          52.85,
          52.85,
          52.85,
          52.85,
          52.85,
          55.46666666666667,
          55.46666666666667,
          55.46666666666667,
          55.46666666666667,
          55.46666666666667,
          50.28333333333333,
          50.28333333333333,
          22.05,
          22.05,
          22.05,
          22.05,
          22.05,
          22.05,
          22.05,
          22.05,
          22.05,
          22.05,
          22.05,
          22.05,
          22.05,
          22.05,
          59.06666666666667,
          59.06666666666667,
          59.06666666666667,
          59.06666666666667,
          59.06666666666667,
          59.06666666666667,
          59.06666666666667,
          60.8,
          60.8,
          55.11666666666667,
          55.11666666666667,
          55.11666666666667,
          55.11666666666667,
          55.11666666666667,
          55.11666666666667,
          55.11666666666667,
          55.11666666666667,
          55.11666666666667,
          55.11666666666667,
          55.11666666666667,
          60,
          60,
          60,
          60,
          60,
          60,
          60,
          60,
          60,
          60,
          60,
          60,
          60,
          60,
          60,
          60,
          38.083333333333336,
          14.983333333333333,
          14.983333333333333,
          14.983333333333333,
          14.983333333333333
         ],
         "yaxis": "y2"
        },
        {
         "alignmentgroup": "True",
         "hovertemplate": "pnr=%{x}<br>pnr_score=%{y}<extra></extra>",
         "legendgroup": "",
         "marker": {
          "color": "green",
          "pattern": {
           "shape": ""
          }
         },
         "name": "",
         "offsetgroup": "",
         "orientation": "v",
         "showlegend": false,
         "textposition": "auto",
         "type": "bar",
         "x": [
          "HTQT32",
          "HVUE68",
          "LZMY53",
          "LWVG59",
          "KONV97",
          "XRPO74",
          "ZQAQ83",
          "IWFO10",
          "FPOZ45",
          "FEOP40",
          "AQZZ99",
          "FNUV81",
          "ISVB14",
          "ZPKQ28",
          "PVEQ37",
          "EVEU68",
          "NKFP32",
          "SLOX19",
          "XDUH86",
          "HZNU58",
          "MHSY67",
          "NDFJ51",
          "AKNE57",
          "TKNP60",
          "QDHK22",
          "SQRS94",
          "EVQW32",
          "IDMW10",
          "LFRR61",
          "RHKW49",
          "NQKY66",
          "YKCW30",
          "HJAI83",
          "TXWS41",
          "GUMP42",
          "HSIQ21",
          "LTLZ64",
          "SVKI92",
          "JIWF86",
          "FWMN74",
          "YAQW89",
          "TTMQ84",
          "TWXV64",
          "DDDJ77",
          "SAVF19",
          "WVIR35",
          "JQIA12",
          "TPQB95",
          "HOVH72",
          "AGBU82",
          "SANS27",
          "SNWN58",
          "FYNE44",
          "GDZA87",
          "RFEJ53",
          "PWYT95",
          "SLOW66",
          "TFKY29",
          "FEVD12",
          "IENP72",
          "XGGQ55",
          "FMAI13",
          "SIOF38",
          "FIPP58",
          "XQRV82",
          "PCBB83",
          "LDMI21",
          "VBYN44",
          "QIKX76",
          "FLSG41",
          "MRPD83",
          "NUMZ67",
          "JWHM91",
          "KFVJ30",
          "KGXH80",
          "PIYQ80",
          "TGZM51",
          "UUSP65",
          "LGSF65",
          "SQGC99",
          "HVXB86",
          "XWMO74",
          "JNVV50",
          "OIMA22",
          "LGHJ81",
          "KWMC60",
          "DUOE90",
          "XPVA53",
          "UIQN34",
          "DVMU59",
          "XTIX31",
          "GGUG30",
          "TQSJ60",
          "SLDZ63",
          "GXBI93",
          "REDC14",
          "HJZU68",
          "QSQK52",
          "GDXH90",
          "CNGW35",
          "OMLQ33",
          "EUSY16",
          "KEMK40",
          "PCYA34",
          "LHMS81",
          "LHOY77",
          "ICRP42",
          "CIVB27",
          "QVDX41",
          "DLHP64",
          "SQOR64",
          "QEMH59",
          "SLQG29",
          "XXOF59",
          "OIAP21",
          "CCDY38",
          "ZRSM83",
          "NSCT87",
          "DXQM13",
          "KRZV69",
          "EPEC54",
          "TPFW28",
          "WUSR65",
          "FATS69",
          "UMXS24",
          "PHPH70",
          "DXYS80",
          "UGGA36",
          "OKMX93",
          "QSRD31",
          "APTR55",
          "OUZV27",
          "CKZR46",
          "GZYF33",
          "QOMR13",
          "ITGO53",
          "HMHR27",
          "VMDE58",
          "VFBU86",
          "LTWF60",
          "JTIH36",
          "NPTE60",
          "SRWW51",
          "QMJI29",
          "BSXS25",
          "MUJV35",
          "VOZS71",
          "SAGM82",
          "YNUE22",
          "FYKL19",
          "QMJS18",
          "RBPN19",
          "GUBX34",
          "YSYT29",
          "OCGB46",
          "EFNF62",
          "UDPT14",
          "MZDX80",
          "ORAF34",
          "VMJD72",
          "KQOT45",
          "NFDU27",
          "EXMO66",
          "YSRN78",
          "EOFS84",
          "KIHU37",
          "YGXB97",
          "QYLQ68",
          "IKGO39",
          "IHMJ19",
          "VGUH29",
          "BPUC79",
          "CZEX94",
          "RHQM89",
          "LZEB21",
          "UBRE60",
          "ERRF82",
          "EZCI36",
          "BQCH58",
          "SUAX93",
          "TCQA74",
          "WVDC11",
          "ZQZT35",
          "PJCC49",
          "NANZ76",
          "WCEQ28",
          "WYNM81",
          "WEEL32",
          "DGUY89",
          "QWEK34",
          "BXCL56",
          "BXQH89",
          "JBMO54",
          "IYUF79",
          "SHXG23",
          "OSMM78",
          "LCXO68",
          "TUOD75",
          "HPOE30",
          "YQCN75",
          "LRHD84",
          "HWDN41",
          "BPUI99",
          "XMPX49",
          "JAQT74",
          "WETY43",
          "IDWV24",
          "BBHZ96",
          "LGOO36",
          "XIPA62",
          "FNCM77",
          "YZCI55",
          "LQGZ64",
          "MFDK54",
          "OVJN48",
          "PNCR49",
          "THGF27",
          "MMGV61",
          "ZAYQ95",
          "EQSL99",
          "UCVD54",
          "RJKU16",
          "SDPG36",
          "XAJF93",
          "BMHR27",
          "GXIZ46",
          "WXBF10",
          "QWDP52",
          "SZSN61",
          "ESMK94",
          "YUNX33",
          "KTKC26",
          "ZXNO75",
          "WDTZ85",
          "JQDM98",
          "BQRC35",
          "REHF21",
          "FGYS82",
          "XTOG82",
          "RCAM62",
          "ERYG81",
          "RXJL39",
          "TQNJ44",
          "XRWA86",
          "NMTD35",
          "XJNU84",
          "XBSB88",
          "ITDA87",
          "DLXO11",
          "XWXT51",
          "DQQI72",
          "IMCV41",
          "WKRQ97",
          "PXQJ69",
          "DHLQ26",
          "LRRN18",
          "JYRH41",
          "OZMG18",
          "ZDVU26",
          "OEIB74",
          "NSBM59",
          "AJHW56",
          "VXKE34",
          "WFRD54",
          "XLYW27",
          "RLHZ21",
          "HNSU28",
          "UFAI49",
          "PEID52",
          "ONUP16",
          "EBFI79",
          "GUGG50",
          "EAZQ19",
          "YRSP26",
          "FZDJ12",
          "LDAI54",
          "WLMG91",
          "JEBG64",
          "NJWI21",
          "BPHU44",
          "GUHW10",
          "DPYG49",
          "KQVU99",
          "ZGIC89",
          "BEFE10",
          "FLVL38",
          "BRRE63",
          "DEIW46",
          "QVCQ71",
          "WMQJ11",
          "ZGYI64",
          "MUZQ61",
          "DKTC49",
          "WCYZ75",
          "IHDE63",
          "CWVP42",
          "KELK27",
          "YRNM53",
          "WXEP18",
          "SHXE32",
          "QXLA51",
          "PMLK52",
          "WXEX62",
          "CQRH39",
          "BCPM13",
          "LIXR98",
          "OOWE64",
          "SWBE48",
          "YVQJ61",
          "NOGQ18",
          "XLHV24",
          "OMXA57",
          "WOAF84",
          "SDJN64",
          "FUVL92",
          "RISW72",
          "JULZ40",
          "CVZD73",
          "LWFN72",
          "TISN30",
          "JIFY75",
          "YELO31",
          "XNST91",
          "MKKK18",
          "EHTL62",
          "VHUV32",
          "GZLX52",
          "WEXC75",
          "JKQQ34",
          "BMIP35",
          "KFPG85",
          "NXOT58",
          "MOKS36",
          "MURE63",
          "TVPN19",
          "EZEH17",
          "PGYB37",
          "ZDMY76",
          "AFDF67",
          "HYZT70",
          "VTLA94",
          "PUCK75",
          "DKWZ67",
          "HMUG31",
          "TXNT56",
          "ABTN53",
          "GIJK13",
          "SCVU56",
          "USXA30",
          "IMNP88",
          "KBHY97",
          "VLUA59",
          "WXIE33",
          "BTJU72",
          "CQGJ35",
          "TBVJ40",
          "EWPW67",
          "IPBC92",
          "ABTG22",
          "JKVU43",
          "CISK65",
          "UWGE22",
          "ONQG21",
          "WSFC85",
          "RLWJ76",
          "MWEU69",
          "UOMJ35",
          "CWSQ13",
          "JQZF79",
          "EGTR61",
          "ZLHQ74",
          "TZUL67",
          "TBGD81",
          "BKRB38",
          "YYLO17",
          "FEMC10",
          "UFUA76",
          "FQGN23",
          "DRON90",
          "BRZA84",
          "HUEB37",
          "FVUQ65",
          "AICC84",
          "TEZG61",
          "GRVX24",
          "DRHW78",
          "UAVW36",
          "WLLQ47",
          "QKNM36",
          "RUZF22",
          "KPCY77",
          "TIAL29",
          "RPKY73",
          "HUEK35",
          "NREW60",
          "OKHV28",
          "GXIX65",
          "BPDE64",
          "UOLQ18",
          "SFSI66",
          "ZEJY31",
          "KNSM52",
          "JGIC74",
          "NZEA54",
          "FGTH37",
          "BJEJ13",
          "XCRN33",
          "GBUT76",
          "ZXDB50",
          "HPDR77",
          "KBVW44",
          "KQUY99",
          "HSBX72",
          "MCRK77",
          "YWFU73",
          "INXR24",
          "RGSJ38",
          "GJUC90",
          "RZCK11",
          "KPES84",
          "ALQW26",
          "FENI82",
          "IJXK37",
          "HWAA68",
          "UFMJ19",
          "JGRA63",
          "QYID97",
          "VZWN82",
          "FWIN28",
          "RLTD83",
          "BIGO89",
          "SKQU62",
          "UIAZ42",
          "ZTLH37",
          "YPYM38",
          "RAMV64",
          "CJFA47",
          "JBVY98",
          "GTGJ94",
          "NMBC94",
          "ABNA53"
         ],
         "xaxis": "x2",
         "y": [
          5500,
          2500,
          2500,
          8200,
          3600,
          2500,
          2500,
          2500,
          8000,
          8000,
          7700,
          7600,
          7600,
          4000,
          4000,
          2000,
          7200,
          2000,
          4100,
          4200,
          1600,
          9100,
          1600,
          1600,
          2500,
          7000,
          3500,
          2600,
          3100,
          9500,
          3500,
          3000,
          3000,
          3000,
          3500,
          3500,
          3500,
          3500,
          9600,
          3500,
          8600,
          3500,
          3500,
          3500,
          10000,
          2700,
          8500,
          2700,
          8500,
          10100,
          10100,
          10200,
          4500,
          3200,
          7000,
          600,
          1000,
          6500,
          14100,
          6500,
          5000,
          1500,
          1500,
          600,
          1000,
          16600,
          5000,
          5000,
          5100,
          6000,
          1300,
          1000,
          1000,
          5200,
          600,
          1500,
          6500,
          4800,
          7000,
          1500,
          4500,
          600,
          1500,
          4500,
          4500,
          5500,
          1500,
          1500,
          600,
          1500,
          1500,
          4500,
          1500,
          5500,
          5500,
          14500,
          14100,
          16600,
          11000,
          15700,
          18200,
          4500,
          14500,
          3500,
          3500,
          3600,
          8500,
          8500,
          6500,
          8300,
          4000,
          4000,
          5000,
          6600,
          6600,
          4200,
          4500,
          4500,
          6000,
          4500,
          600,
          11000,
          10700,
          2000,
          11500,
          9500,
          3000,
          16100,
          10000,
          3000,
          1100,
          3000,
          12100,
          18600,
          9600,
          1600,
          14500,
          3000,
          8000,
          8000,
          10600,
          12200,
          13500,
          11600,
          2500,
          4000,
          5000,
          4000,
          2100,
          2500,
          13600,
          14100,
          11700,
          14500,
          13100,
          2500,
          4500,
          4500,
          6000,
          6000,
          6100,
          8500,
          6000,
          15100,
          7100,
          3700,
          2500,
          3100,
          1000,
          2500,
          10000,
          13800,
          13100,
          18600,
          10600,
          5500,
          9000,
          4500,
          8000,
          5000,
          9600,
          14300,
          10500,
          10100,
          7600,
          9500,
          4500,
          11100,
          15000,
          4000,
          10000,
          10700,
          1600,
          7000,
          3000,
          2500,
          2500,
          14000,
          8700,
          5500,
          8600,
          15700,
          10100,
          6000,
          6100,
          13100,
          1500,
          1500,
          11100,
          5000,
          14100,
          14000,
          13700,
          11200,
          4500,
          13000,
          8000,
          11600,
          20000,
          9000,
          10500,
          11400,
          15600,
          11100,
          16000,
          9500,
          10800,
          5000,
          6500,
          2600,
          10000,
          3500,
          8700,
          4600,
          8200,
          4100,
          7200,
          6600,
          4500,
          7000,
          9100,
          7000,
          11000,
          2000,
          19200,
          18500,
          5700,
          5500,
          5700,
          17600,
          14500,
          1500,
          11000,
          7000,
          13300,
          12100,
          12000,
          6000,
          11500,
          6000,
          2000,
          13600,
          9500,
          8600,
          10500,
          4300,
          9000,
          5600,
          5100,
          3500,
          1600,
          2500,
          2500,
          10500,
          6500,
          9100,
          1500,
          9000,
          1000,
          1000,
          4000,
          7500,
          6100,
          4500,
          600,
          7000,
          15000,
          4500,
          3500,
          13100,
          9500,
          8500,
          11000,
          15100,
          9000,
          10600,
          8500,
          9500,
          7500,
          13100,
          4700,
          10200,
          7000,
          7000,
          10500,
          9500,
          10000,
          6500,
          5000,
          3500,
          11300,
          5500,
          7000,
          8000,
          18400,
          4000,
          4500,
          11700,
          18000,
          1500,
          14000,
          10500,
          8000,
          4000,
          14600,
          3500,
          15500,
          15600,
          11100,
          4500,
          4100,
          4200,
          2000,
          5000,
          4000,
          4200,
          4600,
          5000,
          4500,
          1000,
          7000,
          4500,
          10500,
          7200,
          1000,
          9600,
          10600,
          10100,
          7500,
          3000,
          5000,
          1500,
          5000,
          2000,
          4500,
          5000,
          2500,
          1500,
          4600,
          4600,
          6700,
          10100,
          2500,
          4500,
          2600,
          3000,
          5700,
          7000,
          600,
          6100,
          2500,
          3500,
          3500,
          9500,
          9100,
          4600,
          5100,
          5600,
          5100,
          600,
          3600,
          2600,
          2100,
          2100,
          1600,
          11600,
          1500,
          1500,
          5500,
          8100,
          4000,
          7000,
          2500,
          2500,
          2500,
          9000,
          3100,
          9600,
          3000,
          9600,
          2000,
          5500,
          4100,
          4000,
          4000,
          6600,
          2500,
          600,
          1100,
          13000,
          1000,
          7500,
          4500,
          7000,
          4000,
          12000,
          13600,
          1500,
          18600,
          8300,
          7100,
          7000,
          5500,
          4300,
          3500,
          3600,
          5000,
          3500,
          4700,
          5000,
          5000,
          5000,
          4500,
          3500,
          3000,
          3600,
          600,
          6000,
          13600,
          7000,
          8100
         ],
         "yaxis": "y2"
        }
       ],
       "layout": {
        "annotations": [
         {
          "font": {
           "size": 16
          },
          "showarrow": false,
          "text": "Scores",
          "x": 0.5,
          "xanchor": "center",
          "xref": "paper",
          "y": 1,
          "yanchor": "bottom",
          "yref": "paper"
         },
         {
          "font": {
           "size": 16
          },
          "showarrow": false,
          "text": "PNR vs Delay",
          "x": 0.5,
          "xanchor": "center",
          "xref": "paper",
          "y": 0.6333333333333333,
          "yanchor": "bottom",
          "yref": "paper"
         },
         {
          "font": {
           "size": 16
          },
          "showarrow": false,
          "text": "Pnr Scores",
          "x": 0.5,
          "xanchor": "center",
          "xref": "paper",
          "y": 0.26666666666666666,
          "yanchor": "bottom",
          "yref": "paper"
         }
        ],
        "template": {
         "data": {
          "bar": [
           {
            "error_x": {
             "color": "#2a3f5f"
            },
            "error_y": {
             "color": "#2a3f5f"
            },
            "marker": {
             "line": {
              "color": "#E5ECF6",
              "width": 0.5
             },
             "pattern": {
              "fillmode": "overlay",
              "size": 10,
              "solidity": 0.2
             }
            },
            "type": "bar"
           }
          ],
          "barpolar": [
           {
            "marker": {
             "line": {
              "color": "#E5ECF6",
              "width": 0.5
             },
             "pattern": {
              "fillmode": "overlay",
              "size": 10,
              "solidity": 0.2
             }
            },
            "type": "barpolar"
           }
          ],
          "carpet": [
           {
            "aaxis": {
             "endlinecolor": "#2a3f5f",
             "gridcolor": "white",
             "linecolor": "white",
             "minorgridcolor": "white",
             "startlinecolor": "#2a3f5f"
            },
            "baxis": {
             "endlinecolor": "#2a3f5f",
             "gridcolor": "white",
             "linecolor": "white",
             "minorgridcolor": "white",
             "startlinecolor": "#2a3f5f"
            },
            "type": "carpet"
           }
          ],
          "choropleth": [
           {
            "colorbar": {
             "outlinewidth": 0,
             "ticks": ""
            },
            "type": "choropleth"
           }
          ],
          "contour": [
           {
            "colorbar": {
             "outlinewidth": 0,
             "ticks": ""
            },
            "colorscale": [
             [
              0,
              "#0d0887"
             ],
             [
              0.1111111111111111,
              "#46039f"
             ],
             [
              0.2222222222222222,
              "#7201a8"
             ],
             [
              0.3333333333333333,
              "#9c179e"
             ],
             [
              0.4444444444444444,
              "#bd3786"
             ],
             [
              0.5555555555555556,
              "#d8576b"
             ],
             [
              0.6666666666666666,
              "#ed7953"
             ],
             [
              0.7777777777777778,
              "#fb9f3a"
             ],
             [
              0.8888888888888888,
              "#fdca26"
             ],
             [
              1,
              "#f0f921"
             ]
            ],
            "type": "contour"
           }
          ],
          "contourcarpet": [
           {
            "colorbar": {
             "outlinewidth": 0,
             "ticks": ""
            },
            "type": "contourcarpet"
           }
          ],
          "heatmap": [
           {
            "colorbar": {
             "outlinewidth": 0,
             "ticks": ""
            },
            "colorscale": [
             [
              0,
              "#0d0887"
             ],
             [
              0.1111111111111111,
              "#46039f"
             ],
             [
              0.2222222222222222,
              "#7201a8"
             ],
             [
              0.3333333333333333,
              "#9c179e"
             ],
             [
              0.4444444444444444,
              "#bd3786"
             ],
             [
              0.5555555555555556,
              "#d8576b"
             ],
             [
              0.6666666666666666,
              "#ed7953"
             ],
             [
              0.7777777777777778,
              "#fb9f3a"
             ],
             [
              0.8888888888888888,
              "#fdca26"
             ],
             [
              1,
              "#f0f921"
             ]
            ],
            "type": "heatmap"
           }
          ],
          "heatmapgl": [
           {
            "colorbar": {
             "outlinewidth": 0,
             "ticks": ""
            },
            "colorscale": [
             [
              0,
              "#0d0887"
             ],
             [
              0.1111111111111111,
              "#46039f"
             ],
             [
              0.2222222222222222,
              "#7201a8"
             ],
             [
              0.3333333333333333,
              "#9c179e"
             ],
             [
              0.4444444444444444,
              "#bd3786"
             ],
             [
              0.5555555555555556,
              "#d8576b"
             ],
             [
              0.6666666666666666,
              "#ed7953"
             ],
             [
              0.7777777777777778,
              "#fb9f3a"
             ],
             [
              0.8888888888888888,
              "#fdca26"
             ],
             [
              1,
              "#f0f921"
             ]
            ],
            "type": "heatmapgl"
           }
          ],
          "histogram": [
           {
            "marker": {
             "pattern": {
              "fillmode": "overlay",
              "size": 10,
              "solidity": 0.2
             }
            },
            "type": "histogram"
           }
          ],
          "histogram2d": [
           {
            "colorbar": {
             "outlinewidth": 0,
             "ticks": ""
            },
            "colorscale": [
             [
              0,
              "#0d0887"
             ],
             [
              0.1111111111111111,
              "#46039f"
             ],
             [
              0.2222222222222222,
              "#7201a8"
             ],
             [
              0.3333333333333333,
              "#9c179e"
             ],
             [
              0.4444444444444444,
              "#bd3786"
             ],
             [
              0.5555555555555556,
              "#d8576b"
             ],
             [
              0.6666666666666666,
              "#ed7953"
             ],
             [
              0.7777777777777778,
              "#fb9f3a"
             ],
             [
              0.8888888888888888,
              "#fdca26"
             ],
             [
              1,
              "#f0f921"
             ]
            ],
            "type": "histogram2d"
           }
          ],
          "histogram2dcontour": [
           {
            "colorbar": {
             "outlinewidth": 0,
             "ticks": ""
            },
            "colorscale": [
             [
              0,
              "#0d0887"
             ],
             [
              0.1111111111111111,
              "#46039f"
             ],
             [
              0.2222222222222222,
              "#7201a8"
             ],
             [
              0.3333333333333333,
              "#9c179e"
             ],
             [
              0.4444444444444444,
              "#bd3786"
             ],
             [
              0.5555555555555556,
              "#d8576b"
             ],
             [
              0.6666666666666666,
              "#ed7953"
             ],
             [
              0.7777777777777778,
              "#fb9f3a"
             ],
             [
              0.8888888888888888,
              "#fdca26"
             ],
             [
              1,
              "#f0f921"
             ]
            ],
            "type": "histogram2dcontour"
           }
          ],
          "mesh3d": [
           {
            "colorbar": {
             "outlinewidth": 0,
             "ticks": ""
            },
            "type": "mesh3d"
           }
          ],
          "parcoords": [
           {
            "line": {
             "colorbar": {
              "outlinewidth": 0,
              "ticks": ""
             }
            },
            "type": "parcoords"
           }
          ],
          "pie": [
           {
            "automargin": true,
            "type": "pie"
           }
          ],
          "scatter": [
           {
            "fillpattern": {
             "fillmode": "overlay",
             "size": 10,
             "solidity": 0.2
            },
            "type": "scatter"
           }
          ],
          "scatter3d": [
           {
            "line": {
             "colorbar": {
              "outlinewidth": 0,
              "ticks": ""
             }
            },
            "marker": {
             "colorbar": {
              "outlinewidth": 0,
              "ticks": ""
             }
            },
            "type": "scatter3d"
           }
          ],
          "scattercarpet": [
           {
            "marker": {
             "colorbar": {
              "outlinewidth": 0,
              "ticks": ""
             }
            },
            "type": "scattercarpet"
           }
          ],
          "scattergeo": [
           {
            "marker": {
             "colorbar": {
              "outlinewidth": 0,
              "ticks": ""
             }
            },
            "type": "scattergeo"
           }
          ],
          "scattergl": [
           {
            "marker": {
             "colorbar": {
              "outlinewidth": 0,
              "ticks": ""
             }
            },
            "type": "scattergl"
           }
          ],
          "scattermapbox": [
           {
            "marker": {
             "colorbar": {
              "outlinewidth": 0,
              "ticks": ""
             }
            },
            "type": "scattermapbox"
           }
          ],
          "scatterpolar": [
           {
            "marker": {
             "colorbar": {
              "outlinewidth": 0,
              "ticks": ""
             }
            },
            "type": "scatterpolar"
           }
          ],
          "scatterpolargl": [
           {
            "marker": {
             "colorbar": {
              "outlinewidth": 0,
              "ticks": ""
             }
            },
            "type": "scatterpolargl"
           }
          ],
          "scatterternary": [
           {
            "marker": {
             "colorbar": {
              "outlinewidth": 0,
              "ticks": ""
             }
            },
            "type": "scatterternary"
           }
          ],
          "surface": [
           {
            "colorbar": {
             "outlinewidth": 0,
             "ticks": ""
            },
            "colorscale": [
             [
              0,
              "#0d0887"
             ],
             [
              0.1111111111111111,
              "#46039f"
             ],
             [
              0.2222222222222222,
              "#7201a8"
             ],
             [
              0.3333333333333333,
              "#9c179e"
             ],
             [
              0.4444444444444444,
              "#bd3786"
             ],
             [
              0.5555555555555556,
              "#d8576b"
             ],
             [
              0.6666666666666666,
              "#ed7953"
             ],
             [
              0.7777777777777778,
              "#fb9f3a"
             ],
             [
              0.8888888888888888,
              "#fdca26"
             ],
             [
              1,
              "#f0f921"
             ]
            ],
            "type": "surface"
           }
          ],
          "table": [
           {
            "cells": {
             "fill": {
              "color": "#EBF0F8"
             },
             "line": {
              "color": "white"
             }
            },
            "header": {
             "fill": {
              "color": "#C8D4E3"
             },
             "line": {
              "color": "white"
             }
            },
            "type": "table"
           }
          ]
         },
         "layout": {
          "annotationdefaults": {
           "arrowcolor": "#2a3f5f",
           "arrowhead": 0,
           "arrowwidth": 1
          },
          "autotypenumbers": "strict",
          "coloraxis": {
           "colorbar": {
            "outlinewidth": 0,
            "ticks": ""
           }
          },
          "colorscale": {
           "diverging": [
            [
             0,
             "#8e0152"
            ],
            [
             0.1,
             "#c51b7d"
            ],
            [
             0.2,
             "#de77ae"
            ],
            [
             0.3,
             "#f1b6da"
            ],
            [
             0.4,
             "#fde0ef"
            ],
            [
             0.5,
             "#f7f7f7"
            ],
            [
             0.6,
             "#e6f5d0"
            ],
            [
             0.7,
             "#b8e186"
            ],
            [
             0.8,
             "#7fbc41"
            ],
            [
             0.9,
             "#4d9221"
            ],
            [
             1,
             "#276419"
            ]
           ],
           "sequential": [
            [
             0,
             "#0d0887"
            ],
            [
             0.1111111111111111,
             "#46039f"
            ],
            [
             0.2222222222222222,
             "#7201a8"
            ],
            [
             0.3333333333333333,
             "#9c179e"
            ],
            [
             0.4444444444444444,
             "#bd3786"
            ],
            [
             0.5555555555555556,
             "#d8576b"
            ],
            [
             0.6666666666666666,
             "#ed7953"
            ],
            [
             0.7777777777777778,
             "#fb9f3a"
            ],
            [
             0.8888888888888888,
             "#fdca26"
            ],
            [
             1,
             "#f0f921"
            ]
           ],
           "sequentialminus": [
            [
             0,
             "#0d0887"
            ],
            [
             0.1111111111111111,
             "#46039f"
            ],
            [
             0.2222222222222222,
             "#7201a8"
            ],
            [
             0.3333333333333333,
             "#9c179e"
            ],
            [
             0.4444444444444444,
             "#bd3786"
            ],
            [
             0.5555555555555556,
             "#d8576b"
            ],
            [
             0.6666666666666666,
             "#ed7953"
            ],
            [
             0.7777777777777778,
             "#fb9f3a"
            ],
            [
             0.8888888888888888,
             "#fdca26"
            ],
            [
             1,
             "#f0f921"
            ]
           ]
          },
          "colorway": [
           "#636efa",
           "#EF553B",
           "#00cc96",
           "#ab63fa",
           "#FFA15A",
           "#19d3f3",
           "#FF6692",
           "#B6E880",
           "#FF97FF",
           "#FECB52"
          ],
          "font": {
           "color": "#2a3f5f"
          },
          "geo": {
           "bgcolor": "white",
           "lakecolor": "white",
           "landcolor": "#E5ECF6",
           "showlakes": true,
           "showland": true,
           "subunitcolor": "white"
          },
          "hoverlabel": {
           "align": "left"
          },
          "hovermode": "closest",
          "mapbox": {
           "style": "light"
          },
          "paper_bgcolor": "white",
          "plot_bgcolor": "#E5ECF6",
          "polar": {
           "angularaxis": {
            "gridcolor": "white",
            "linecolor": "white",
            "ticks": ""
           },
           "bgcolor": "#E5ECF6",
           "radialaxis": {
            "gridcolor": "white",
            "linecolor": "white",
            "ticks": ""
           }
          },
          "scene": {
           "xaxis": {
            "backgroundcolor": "#E5ECF6",
            "gridcolor": "white",
            "gridwidth": 2,
            "linecolor": "white",
            "showbackground": true,
            "ticks": "",
            "zerolinecolor": "white"
           },
           "yaxis": {
            "backgroundcolor": "#E5ECF6",
            "gridcolor": "white",
            "gridwidth": 2,
            "linecolor": "white",
            "showbackground": true,
            "ticks": "",
            "zerolinecolor": "white"
           },
           "zaxis": {
            "backgroundcolor": "#E5ECF6",
            "gridcolor": "white",
            "gridwidth": 2,
            "linecolor": "white",
            "showbackground": true,
            "ticks": "",
            "zerolinecolor": "white"
           }
          },
          "shapedefaults": {
           "line": {
            "color": "#2a3f5f"
           }
          },
          "ternary": {
           "aaxis": {
            "gridcolor": "white",
            "linecolor": "white",
            "ticks": ""
           },
           "baxis": {
            "gridcolor": "white",
            "linecolor": "white",
            "ticks": ""
           },
           "bgcolor": "#E5ECF6",
           "caxis": {
            "gridcolor": "white",
            "linecolor": "white",
            "ticks": ""
           }
          },
          "title": {
           "x": 0.05
          },
          "xaxis": {
           "automargin": true,
           "gridcolor": "white",
           "linecolor": "white",
           "ticks": "",
           "title": {
            "standoff": 15
           },
           "zerolinecolor": "white",
           "zerolinewidth": 2
          },
          "yaxis": {
           "automargin": true,
           "gridcolor": "white",
           "linecolor": "white",
           "ticks": "",
           "title": {
            "standoff": 15
           },
           "zerolinecolor": "white",
           "zerolinewidth": 2
          }
         }
        },
        "xaxis": {
         "anchor": "y",
         "domain": [
          0,
          1
         ],
         "matches": "x3",
         "showticklabels": false
        },
        "xaxis2": {
         "anchor": "y2",
         "domain": [
          0,
          1
         ],
         "matches": "x3",
         "showticklabels": false
        },
        "xaxis3": {
         "anchor": "y3",
         "domain": [
          0,
          1
         ]
        },
        "yaxis": {
         "anchor": "x",
         "domain": [
          0.7333333333333334,
          1
         ]
        },
        "yaxis2": {
         "anchor": "x2",
         "domain": [
          0.3666666666666667,
          0.6333333333333333
         ]
        },
        "yaxis3": {
         "anchor": "x3",
         "domain": [
          0,
          0.26666666666666666
         ]
        }
       }
      }
     },
     "metadata": {},
     "output_type": "display_data"
    }
   ],
   "source": [
    "# Pnr vs delay\n",
    "# Create a scatter plot for PNR vs delay\n",
    "df.sort_values(by=[\"allocated_flights_score\"], inplace=True)\n",
    "df[\"canclled_flight_arrival\"] = pd.to_datetime(df[\"canclled_flight_arrival\"])\n",
    "df[\"allocated_flights_arrival\"] = pd.to_datetime(df[\"allocated_flights_arrival\"])\n",
    "\n",
    "# Calculate the delay\n",
    "df[\"delay\"] = (\n",
    "    df[\"allocated_flights_arrival\"] - df[\"canclled_flight_arrival\"]\n",
    ").dt.total_seconds() / 3600\n",
    "\n",
    "# Create a scatter plot for PNR vs delay\n",
    "fig = make_subplots(\n",
    "    rows=3,\n",
    "    cols=1,\n",
    "    shared_xaxes=True,\n",
    "    vertical_spacing=0.1,\n",
    "    subplot_titles=[\"Scores\", \"PNR vs Delay\", \"Pnr Scores\"],\n",
    ")\n",
    "\n",
    "# Plot PNR Scores\n",
    "fig.add_trace(\n",
    "    px.bar(df, x=\"pnr\", y=\"allocated_flights_score\")\n",
    "    .update_traces(marker_color=\"blue\")\n",
    "    .data[0],\n",
    "    row=1,\n",
    "    col=1,\n",
    ")\n",
    "\n",
    "# Plot PNR vs Delay\n",
    "fig.add_trace(px.scatter(df, x=\"pnr\", y=\"delay\").data[0], row=1, col=1)\n",
    "\n",
    "fig.add_trace(px.scatter(df, x=\"pnr\", y=\"delay\").data[0], row=2, col=1)\n",
    "\n",
    "fig.add_trace(\n",
    "    px.bar(df, x=\"pnr\", y=\"pnr_score\").update_traces(marker_color=\"green\").data[0],\n",
    "    row=2,\n",
    "    col=1,\n",
    ")\n",
    "\n",
    "# Calculate and print the mean delay\n",
    "mean_delay = df[\"delay\"].mean()\n",
    "print(f'Mean Delay: {mean_delay} hours, std_dev: {df[\"delay\"].std()}')\n",
    "\n",
    "# Show the plot\n",
    "fig.show()"
   ]
  },
  {
   "cell_type": "code",
   "execution_count": null,
   "metadata": {},
   "outputs": [],
   "source": []
  },
  {
   "cell_type": "code",
   "execution_count": null,
   "metadata": {},
   "outputs": [],
   "source": []
  }
 ],
 "metadata": {
  "kernelspec": {
   "display_name": "base",
   "language": "python",
   "name": "python3"
  },
  "language_info": {
   "codemirror_mode": {
    "name": "ipython",
    "version": 3
   },
   "file_extension": ".py",
   "mimetype": "text/x-python",
   "name": "python",
   "nbconvert_exporter": "python",
   "pygments_lexer": "ipython3",
   "version": "3.11.4"
  }
 },
 "nbformat": 4,
 "nbformat_minor": 2
}
