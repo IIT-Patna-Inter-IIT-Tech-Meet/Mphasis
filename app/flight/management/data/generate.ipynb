{
 "cells": [
  {
   "cell_type": "code",
   "execution_count": 9,
   "metadata": {},
   "outputs": [],
   "source": [
    "import yaml\n",
    "\n",
    "def load_settings(file_path):\n",
    "    with open(file_path, 'r') as stream:\n",
    "        try:\n",
    "            settings = yaml.safe_load(stream)\n",
    "            return settings\n",
    "        except yaml.YAMLError as exc:\n",
    "            print(f\"Error loading YAML file: {exc}\")\n",
    "\n",
    "file_path = '../../../settings.yml'\n",
    "settings = load_settings(file_path)"
   ]
  },
  {
   "cell_type": "code",
   "execution_count": 10,
   "metadata": {},
   "outputs": [],
   "source": [
    "import csv\n",
    "import string\n",
    "import random\n",
    "AIRCRAFT_COUNT = int(settings['data_generation']['aircrafts'])\n",
    "CARRIER_COUNT = int(settings['data_generation']['carriers'])"
   ]
  },
  {
   "cell_type": "code",
   "execution_count": 11,
   "metadata": {},
   "outputs": [
    {
     "name": "stdout",
     "output_type": "stream",
     "text": [
      "46 4 [False, True, False, True, True, True, False] 0101110\n"
     ]
    }
   ],
   "source": [
    "x = random.randint(1, 2**7 -1 )\n",
    "xb = \"{0:08b}\".format(x)[1:]\n",
    "m = list(map(lambda x: True if x == '1' else False, xb))\n",
    "f = sum(list(map(int, xb)))\n",
    "\n",
    "print(x, f, m, xb)"
   ]
  },
  {
   "cell_type": "code",
   "execution_count": 12,
   "metadata": {},
   "outputs": [],
   "source": [
    "## Generate carreir.csv\n",
    "\n",
    "with open('carrier.csv', 'w', newline='') as csvfile:\n",
    "    writer = csv.writer(csvfile, delimiter=',')\n",
    "    writer.writerow(['code', 'desc'])\n",
    "    letters = string.ascii_uppercase\n",
    "\n",
    "    for i in range(1, CARRIER_COUNT + 1):\n",
    "        code = ''.join(random.choice(letters) for _ in range(2))   # 2 letter code\n",
    "        writer.writerow([code, 'carrier_' + code])\n",
    "    "
   ]
  },
  {
   "cell_type": "code",
   "execution_count": 13,
   "metadata": {},
   "outputs": [],
   "source": [
    "## Generate Aircrafts and their seat distribution\n",
    "\n",
    "passenger_aircraft_models = [\n",
    "    \"Boeing 737\",\n",
    "    \"Airbus A320\",\n",
    "    \"Boeing 747\",\n",
    "    \"Airbus A380\",\n",
    "    \"Boeing 777\",\n",
    "    \"Airbus A330\",\n",
    "    \"Boeing 787 Dreamliner\",\n",
    "    \"Embraer E190\",\n",
    "    \"Bombardier CRJ700\",\n",
    "    \"McDonnell Douglas MD-80\",\n",
    "    \"Cessna 172\",\n",
    "    \"Gulfstream G650\",\n",
    "    \"Beechcraft King Air\",\n",
    "    \"ATR 72\",\n",
    "    \"Bombardier Global 6000\",\n",
    "    \"Piper PA-28 Cherokee\"\n",
    "]\n",
    "\n",
    "owner = {\n",
    "    \"Air India\" : \"AI\",\n",
    "    \"IndiGo\" : \"6E\",\n",
    "    \"SpiceJet\" : \"SG\",\n",
    "    \"GoAir\" : \"G8\",\n",
    "    \"Vistara\" : \"UK\",\n",
    "    \"AirAsia India\" : \"I5\",\n",
    "    \"Air India Express\" : \"IX\",\n",
    "    \"AirAsia\" : \"AK\",\n",
    "    \"AirAsia X\" : \"D7\",\n",
    "    \"Malindo Air\" : \"OD\",\n",
    "}\n",
    "\n",
    "capacity = [72, 100, 150, 270, 360, 300, 400]\n",
    "passenger_aircraft_models = {key: random.choice(capacity) for key in passenger_aircraft_models}\n",
    "\n",
    "classes = {\n",
    "    \"F\" : [\"F\", \"P\"],\n",
    "    \"B\" : [\"C\", \"J\", \"Z\"],\n",
    "    \"P\" : [\"Q\", \"R\" , \"S\", \"T\", \"H\", \"M\"],\n",
    "    \"E\" : ['Y', 'A', 'B', 'D', 'G', 'I', 'E', 'K', 'L', 'N', 'O', 'U', 'V', 'W', 'X']\n",
    "}\n",
    "\n",
    "\n",
    "with open('aircrafts.csv', 'w') as csvfile:\n",
    "    with open('seat-distribution.csv', 'w') as seat_distribution_csvfile:\n",
    "        # model, name, registration, owner_code, owner_name, total_capacity, total_inventory\n",
    "        writer = csv.writer(csvfile, delimiter=',')\n",
    "        writer.writerow(['id','model', 'name', 'registration', 'owner_code', 'owner_name', 'total_capacity', 'total_inventory'])\n",
    "\n",
    "        writer_sd = csv.writer(seat_distribution_csvfile, delimiter=',')\n",
    "        writer_sd.writerow(['aircraft_id', 'class', 'seat_count'])\n",
    "\n",
    "\n",
    "        models = list(passenger_aircraft_models.keys())\n",
    "\n",
    "        for i in range(AIRCRAFT_COUNT):\n",
    "            model = random.choice(models)\n",
    "            name = \"\"\n",
    "            registration = \"VT-\" + str(random.randint(1000, 9999))\n",
    "            owner_name = random.choice(list(owner.keys()))\n",
    "            owner_code = owner[owner_name] + str(random.randint(100, 999))\n",
    "            total_capacity = passenger_aircraft_models[model]\n",
    "\n",
    "            t1, t2  = total_capacity, 0\n",
    "            p = 10\n",
    "            for cabin_name in classes.keys():\n",
    "                t = random.randint(0, 100)\n",
    "                total_allocation = int(total_capacity * p / 100)\n",
    "                if p == 40: total_allocation = total_capacity\n",
    "                total_capacity -= total_allocation\n",
    "\n",
    "\n",
    "                p  += 10\n",
    "                if t < 10 and p < 40:\n",
    "                    continue\n",
    "\n",
    "                for seat_class in classes[cabin_name]:\n",
    "                    seat_count = max(int(total_allocation / len(classes[cabin_name])) + random.randint(-3, 3), 0)\n",
    "                    # total_allocation -= seat_count\n",
    "                    t2 += seat_count\n",
    "                    writer_sd.writerow([i+1, seat_class, seat_count])\n",
    "                \n",
    "            t2_i = t2 + int(t2 * random.randint(10, 20) / 100)\n",
    "            writer.writerow([i+1, model, name, registration, owner_code, owner_name, t2, t2_i])\n",
    "\n",
    "    seat_distribution_csvfile.close()\n",
    "csvfile.close() "
   ]
  },
  {
   "cell_type": "code",
   "execution_count": null,
   "metadata": {},
   "outputs": [],
   "source": []
  }
 ],
 "metadata": {
  "kernelspec": {
   "display_name": "venv",
   "language": "python",
   "name": "python3"
  },
  "language_info": {
   "codemirror_mode": {
    "name": "ipython",
    "version": 3
   },
   "file_extension": ".py",
   "mimetype": "text/x-python",
   "name": "python",
   "nbconvert_exporter": "python",
   "pygments_lexer": "ipython3",
   "version": "3.11.4"
  }
 },
 "nbformat": 4,
 "nbformat_minor": 2
}
