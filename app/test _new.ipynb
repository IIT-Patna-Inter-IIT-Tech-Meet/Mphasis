{
 "cells": [
  {
   "cell_type": "code",
   "execution_count": 2,
   "metadata": {},
   "outputs": [],
   "source": [
    "### TEST PLOTS\n",
    "import ast\n",
    "import plotly.graph_objects as go\n",
    "from plotly.subplots import make_subplots\n",
    "import plotly.express as px\n",
    "import pandas as pd\n",
    "DIVIDER = \"----------------\""
   ]
  },
  {
   "cell_type": "code",
   "execution_count": 3,
   "metadata": {},
   "outputs": [
    {
     "name": "stdout",
     "output_type": "stream",
     "text": [
      "Index(['pnr', 'pnr_score', 'canclled_flight', 'canclled_class',\n",
      "       'canclled_flight_departure', 'canclled_flight_arrival', 'canclled_src',\n",
      "       'canclled_dst', 'allocated_src', 'allocated_dst', 'allocated_flights',\n",
      "       'allocated_flights_departure', 'allocated_flights_arrival',\n",
      "       'allocated_classes', 'allocated_flights_score'],\n",
      "      dtype='object')\n"
     ]
    }
   ],
   "source": [
    "df = pd.read_csv('result.csv')\n",
    "print(df.keys()) "
   ]
  },
  {
   "cell_type": "code",
   "execution_count": 4,
   "metadata": {},
   "outputs": [
    {
     "name": "stdout",
     "output_type": "stream",
     "text": [
      "PNR Score Stats\n",
      "Mean PNR Score:  6965.384615384615\n",
      "Std Dev. PNR Score:  4643.073332769441\n",
      "Max PNR Score:  21700\n",
      "Min PNR Score:  600\n",
      "----------------\n",
      "PNR-FLIGHT Score Stats\n",
      "Mean PNR-FLIGHT Score:  5859553.777698683\n",
      "Std Dev. PNR-FLIGHT Score:  22560676.985620238\n",
      "Max PNR-FLIGHT Score:  223253492.0081906\n",
      "Min PNR-FLIGHT Score:  -1.0\n",
      "----------------\n",
      "Allocation Stats\n",
      "Total pnr:  494\n",
      "Total allocated pnr:  330\n",
      "Total unallocated pnr:  164\n",
      "----------------\n",
      "Connection Stats\n",
      "Unallocated :  164\n",
      "Direct :  143\n",
      "One Stop :  152\n",
      "Two Stop :  35\n",
      "----------------\n",
      "Cancelled Flight Level Stats\n",
      "Total Cancelled Flights:  24\n",
      "Flight id\tTotal PNR\tReAllocated PNR\tUnallocated PNR\tUpgraded PNR\tSameState PNR\tDowngraded PNR\tDefault Flight\tDefault Allocation\n",
      "INV-ZZ-3577191\t35\t35\t0\t18\t4\t13\t('INV-ZZ-7674145', 'INV-ZZ-1413506')\t35\n",
      "INV-ZZ-2502887\t16\t16\t0\t3\t6\t7\t('INV-ZZ-9639797', 'INV-ZZ-9399965', 'INV-ZZ-3591392')\t7\n",
      "INV-ZZ-1594157\t50\t0\t50\t0\t0\t0\tNone\t0\n",
      "INV-ZZ-9711495\t13\t0\t13\t0\t0\t0\tNone\t0\n",
      "INV-ZZ-7226365\t21\t21\t0\t7\t7\t7\t('INV-ZZ-9163644',)\t14\n",
      "INV-ZZ-5147383\t30\t30\t0\t16\t3\t11\t('INV-ZZ-5214849', 'INV-ZZ-6795203')\t13\n",
      "INV-ZZ-6235385\t45\t20\t25\t11\t2\t7\t('INV-ZZ-2798091', 'INV-ZZ-4863717')\t11\n",
      "INV-ZZ-4464433\t24\t24\t0\t10\t3\t11\t('INV-ZZ-6584575', 'INV-ZZ-8871178')\t21\n",
      "INV-ZZ-7777867\t23\t23\t0\t14\t0\t9\t('INV-ZZ-7103705', 'INV-ZZ-5476649')\t23\n",
      "INV-ZZ-3193130\t20\t0\t20\t0\t0\t0\tNone\t0\n",
      "INV-ZZ-6129434\t29\t0\t29\t0\t0\t0\tNone\t0\n",
      "INV-ZZ-9430442\t12\t12\t0\t3\t3\t6\t('INV-ZZ-5198628',)\t12\n",
      "INV-ZZ-8519614\t50\t35\t15\t18\t2\t15\t('INV-ZZ-4485967',)\t35\n",
      "INV-ZZ-7915465\t7\t7\t0\t4\t2\t1\t('INV-ZZ-8944954',)\t7\n",
      "INV-ZZ-6627057\t8\t8\t0\t1\t4\t3\t('INV-ZZ-3164285', 'INV-ZZ-5692485')\t4\n",
      "INV-ZZ-5517088\t28\t28\t0\t14\t3\t11\t('INV-ZZ-1980882', 'INV-ZZ-6248212')\t13\n",
      "INV-ZZ-5481055\t12\t0\t12\t0\t0\t0\tNone\t0\n",
      "INV-ZZ-2601188\t19\t19\t0\t13\t2\t4\t('INV-ZZ-2115049',)\t19\n",
      "INV-ZZ-7652913\t9\t9\t0\t5\t0\t4\t('INV-ZZ-5285845',)\t9\n",
      "INV-ZZ-8406042\t20\t20\t0\t0\t10\t10\t('INV-ZZ-7305307',)\t13\n",
      "INV-ZZ-7388012\t7\t7\t0\t2\t0\t5\t('INV-ZZ-8140596',)\t5\n",
      "INV-ZZ-1789135\t11\t11\t0\t0\t11\t0\t('INV-ZZ-1653905',)\t11\n",
      "INV-ZZ-9631690\t3\t3\t0\t1\t0\t2\t('INV-ZZ-6981065', 'INV-ZZ-4332022')\t3\n",
      "INV-ZZ-5807157\t2\t2\t0\t0\t0\t2\t('INV-ZZ-8541024', 'INV-ZZ-7534550')\t2\n"
     ]
    }
   ],
   "source": [
    "## STATIC REPOPRT\n",
    "mean_score = df[\"pnr_score\"].mean()\n",
    "std_dev_score = df[\"pnr_score\"].std()\n",
    "print(\"PNR Score Stats\")\n",
    "print(\"Mean PNR Score: \", mean_score)\n",
    "print(\"Std Dev. PNR Score: \", std_dev_score)\n",
    "print(\"Max PNR Score: \", df[\"pnr_score\"].max())\n",
    "print(\"Min PNR Score: \", df[\"pnr_score\"].min())\n",
    "print(DIVIDER)\n",
    "\n",
    "mean_score = df[\"allocated_flights_score\"].mean()\n",
    "std_dev_score = df[\"allocated_flights_score\"].std()\n",
    "print(\"PNR-FLIGHT Score Stats\")\n",
    "print(\"Mean PNR-FLIGHT Score: \", mean_score)\n",
    "print(\"Std Dev. PNR-FLIGHT Score: \", std_dev_score)\n",
    "print(\"Max PNR-FLIGHT Score: \", df[\"allocated_flights_score\"].max())\n",
    "print(\"Min PNR-FLIGHT Score: \", df[\"allocated_flights_score\"].min())\n",
    "print(DIVIDER)\n",
    "\n",
    "print(\"Allocation Stats\")\n",
    "total = df[\"pnr\"].count()\n",
    "allocated = df[\"allocated_src\"].count()\n",
    "print(\"Total pnr: \", total)\n",
    "print(\"Total allocated pnr: \", allocated)\n",
    "print(\"Total unallocated pnr: \", total - allocated)\n",
    "\n",
    "print(DIVIDER)\n",
    "print(\"Connection Stats\")\n",
    "\n",
    "conn = [0, 0, 0, 0]\n",
    "for x in df[\"allocated_flights\"]:\n",
    "    # laod to a list\n",
    "    x = ast.literal_eval(x)\n",
    "    conn[len(x)] += 1\n",
    "\n",
    "print(\"Unallocated : \", conn[0])\n",
    "print(\"Direct : \", conn[1])\n",
    "print(\"One Stop : \", conn[2])\n",
    "print(\"Two Stop : \", conn[3])\n",
    "\n",
    "print(DIVIDER)\n",
    "class_map = {\"F\": 0, \"B\": 1, \"P\": 2, \"E\": 3}\n",
    "flight_stats = {}\n",
    "for _, row in df.iterrows():\n",
    "    r_flight = ast.literal_eval(row[\"canclled_flight\"])[0]\n",
    "    if r_flight not in flight_stats:\n",
    "        flight_stats[r_flight] = {\n",
    "            \"total_pnr\": 0,\n",
    "            \"allocated_pnr\": 0,\n",
    "            \"unallocated_pnr\": 0,\n",
    "            \"upgraded_pnr\": 0,\n",
    "            \"samestate_pnr\": 0,\n",
    "            \"downgraded_pnr\": 0,\n",
    "            \"allocated_flight\": {},\n",
    "            \"default_flight\": None,\n",
    "            \"default_allocation\": 0\n",
    "        }\n",
    "\n",
    "    flight_stats[r_flight][\"total_pnr\"] += 1\n",
    "    if type(row[\"allocated_src\"]) == str:\n",
    "        flight_stats[r_flight][\"allocated_pnr\"] += 1\n",
    "    else:\n",
    "        flight_stats[r_flight][\"unallocated_pnr\"] += 1\n",
    "\n",
    "\n",
    "    if type(row[\"allocated_src\"]) == str:\n",
    "        r_class_score = float(class_map[row[\"canclled_class\"]])\n",
    "        a_class_score = sum([class_map[x] for x in ast.literal_eval(row[\"allocated_classes\"])]) / max(\n",
    "            len(ast.literal_eval(row[\"allocated_classes\"])), 1\n",
    "        )\n",
    "        # print(r_class_score, a_class_score, row[\"canclled_class\"], ast.literal_eval(row[\"allocated_classes\"]))\n",
    "        if r_class_score > a_class_score:\n",
    "            flight_stats[r_flight][\"upgraded_pnr\"] += 1\n",
    "        elif r_class_score < a_class_score:\n",
    "            flight_stats[r_flight][\"downgraded_pnr\"] += 1\n",
    "        else:\n",
    "            flight_stats[r_flight][\"samestate_pnr\"] += 1\n",
    "\n",
    "        k = tuple(ast.literal_eval(row[\"allocated_flights\"]))\n",
    "        if flight_stats[r_flight][\"allocated_flight\"].get(k) is None:\n",
    "            flight_stats[r_flight][\"allocated_flight\"][k] = 0\n",
    "        flight_stats[r_flight][\"allocated_flight\"][k] += 1\n",
    "\n",
    "for flight, details in flight_stats.items():\n",
    "    max_count = 0\n",
    "    max_flight = None\n",
    "    for k, v in details[\"allocated_flight\"].items():\n",
    "        if v > max_count:\n",
    "            max_count = v\n",
    "            max_flight = k\n",
    "    flight_stats[flight][\"default_flight\"] = max_flight\n",
    "    flight_stats[flight][\"default_allocation\"] = max_count\n",
    "\n",
    "\n",
    "print(\"Cancelled Flight Level Stats\")\n",
    "print(\"Total Cancelled Flights: \", len(flight_stats))\n",
    "print(\n",
    "    \"Flight id\\tTotal PNR\\tReAllocated PNR\\tUnallocated PNR\\tUpgraded PNR\\tSameState PNR\\tDowngraded PNR\\tDefault Flight\\tDefault Allocation\"\n",
    ")\n",
    "for k, v in flight_stats.items():\n",
    "    print(\n",
    "        f\"{k}\\t{v['total_pnr']}\\t{v['allocated_pnr']}\\t{v['unallocated_pnr']}\\t{v['upgraded_pnr']}\\t{v['samestate_pnr']}\\t{v['downgraded_pnr']}\\t{v['default_flight']}\\t{v['default_allocation']}\"\n",
    "    )\n"
   ]
  },
  {
   "cell_type": "code",
   "execution_count": 5,
   "metadata": {},
   "outputs": [
    {
     "name": "stdout",
     "output_type": "stream",
     "text": [
      "5859553.777698683 22560676.985620238\n"
     ]
    },
    {
     "data": {
      "application/vnd.plotly.v1+json": {
       "config": {
        "plotlyServerURL": "https://plot.ly"
       },
       "data": [
        {
         "alignmentgroup": "True",
         "hovertemplate": "pnr=%{x}<br>PNR Score=%{y}<extra></extra>",
         "legendgroup": "",
         "marker": {
          "color": "#636efa",
          "pattern": {
           "shape": ""
          }
         },
         "name": "",
         "offsetgroup": "",
         "orientation": "v",
         "showlegend": false,
         "textposition": "auto",
         "type": "bar",
         "x": [
          "SLWF58",
          "HUKX32",
          "RMNS44",
          "RNHC46",
          "TOAW70",
          "UXAS88",
          "HIGU55",
          "ZLEF86",
          "MFWE70",
          "GUAU64",
          "QDUN60",
          "SPLX71",
          "YYZK76",
          "HDTU72",
          "POBU85",
          "DNHG88",
          "KJHI85",
          "GMHO31",
          "GDLS51",
          "CPKB55",
          "IGWJ82",
          "EUTS74",
          "ZJHG87",
          "ZTBI89",
          "YVPJ82",
          "NVCA93",
          "BFRO63",
          "MDMH38",
          "LVCF80",
          "FBGT91",
          "NGDC92",
          "WJFY37",
          "FTGB88",
          "DFIE34",
          "OFRV69",
          "VDDA36",
          "ZTUQ49",
          "OJRQ64",
          "PEXT79",
          "YJLZ64",
          "KCQQ68",
          "MBAM17",
          "SROP81",
          "JASH81",
          "LLEF53",
          "QJNK58",
          "ZQHE32",
          "OSUE50",
          "JQTS12",
          "TBYG80",
          "YADJ50",
          "DEWR55",
          "KVEF56",
          "ERTF56",
          "WJXU73",
          "NABH75",
          "GYIO26",
          "IMRP11",
          "JGML71",
          "TXVU12",
          "NGQJ46",
          "PNNK58",
          "NQXC83",
          "YPQM28",
          "FRDT60",
          "CWMG83",
          "ROMJ23",
          "NJPX66",
          "ENTR65",
          "CNKT67",
          "XBAR37",
          "JCQH28",
          "PUUA42",
          "HPZP14",
          "NEOL38",
          "ERAY33",
          "YYFD12",
          "YZPW46",
          "VEFY39",
          "MMUU86",
          "MTKY90",
          "ZJJW20",
          "TLEF33",
          "OUMP14",
          "OVGT73",
          "DWRK59",
          "ASVC73",
          "VAXI35",
          "HLWQ69",
          "IZYT94",
          "GCQO47",
          "JXBM73",
          "DCNF10",
          "SZQS66",
          "CQAZ15",
          "KZGI84",
          "FELL42",
          "FKHH76",
          "RHKC58",
          "KVAQ89",
          "VNSB37",
          "UMBY94",
          "PCXW92",
          "SAEN79",
          "VBQJ24",
          "VEJG80",
          "GBEV32",
          "HHSD24",
          "UNCM41",
          "JSOP84",
          "NBLR72",
          "YYSA99",
          "GJBD30",
          "OIIX82",
          "SRYJ83",
          "IUHG90",
          "AOAY42",
          "PESX80",
          "NCGK60",
          "OXBM44",
          "QRUC80",
          "PSRW66",
          "CIYF30",
          "LESF66",
          "VBFE55",
          "CGMX55",
          "REVI55",
          "GTZG73",
          "ITBC65",
          "FMMN51",
          "LNTU75",
          "FKUZ11",
          "UEFQ82",
          "FKYE25",
          "HBDM25",
          "QVZR28",
          "OJJD32",
          "EZJQ34",
          "ESNZ73",
          "GLZH70",
          "MJCQ77",
          "MQVH27",
          "SKOF68",
          "QKFL16",
          "OEQB41",
          "SDUJ66",
          "GRYG45",
          "CJFG55",
          "YNVH98",
          "VUFI57",
          "YKRW85",
          "YCFY20",
          "ENMX14",
          "EUBB46",
          "QTMO12",
          "BVGP53",
          "QITU67",
          "MJGC88",
          "ZKHV21",
          "TAFO80",
          "TGLA19",
          "QYGB61",
          "HVQI51",
          "NZDT59",
          "XEKG81",
          "JDAQ43",
          "GMDF29",
          "IYTB69",
          "WDLY71",
          "EVXJ95",
          "PSCH51",
          "CZGN82",
          "ISPE89",
          "LERB88",
          "SSRY96",
          "BHFM82",
          "NBIC95",
          "KFTY31",
          "LUER90",
          "SHKX32",
          "IKXG12",
          "KUCS34",
          "GVTW47",
          "OHAQ57",
          "GECZ65",
          "OSOJ58",
          "HPAH52",
          "NOTC40",
          "STJC26",
          "GVJX51",
          "NXIE96",
          "MHXK85",
          "GVVD60",
          "PAON66",
          "QIYI53",
          "QGKG60",
          "ZDCR88",
          "VWJG33",
          "CIDM82",
          "LJQT67",
          "LFFG30",
          "ZTLP21",
          "VRTK46",
          "XNWT76",
          "KUDS27",
          "LAZX16",
          "HSWI28",
          "BQTI44",
          "UDFV52",
          "GWZT84",
          "LVHU92",
          "YWUG56",
          "CDHS51",
          "ZWKV35",
          "SFXB99",
          "FGRO78",
          "CVYZ12",
          "NJYP36",
          "HRKK97",
          "HANJ53",
          "TXCF52",
          "NPYR39",
          "NFTL30",
          "VZYV16",
          "QMOM17",
          "OZZY47",
          "TDMB51",
          "YFXR19",
          "WSLR16",
          "CWNP76",
          "QFQU21",
          "LABW39",
          "LAZY29",
          "IDYX76",
          "YGUC74",
          "PLJA16",
          "AXGK85",
          "PYKY47",
          "DJIQ49",
          "IABG33",
          "CRAX19",
          "YGXX40",
          "FQOX52",
          "WBDR45",
          "SEDO49",
          "ANGJ31",
          "SYWD80",
          "BQTB82",
          "THRW51",
          "DWGT72",
          "PJSW75",
          "NKAG77",
          "ZXAS14",
          "SHSG52",
          "YPRL90",
          "GTCV95",
          "XFNO62",
          "UJTN27",
          "WVNN63",
          "YWLE82",
          "QSYZ21",
          "ZNZN28",
          "VYLL99",
          "GKEX23",
          "EVAK73",
          "PTUY96",
          "YMPM85",
          "SYWZ82",
          "BNUI96",
          "NKMQ66",
          "LEMX32",
          "YVAG67",
          "PLQB19",
          "DGWC65",
          "WQYF77",
          "SDPS98",
          "QXPI96",
          "JDXT39",
          "HIQR56",
          "UXJB75",
          "DXGB32",
          "MKEC26",
          "EEAM43",
          "XSTW93",
          "CSSK72",
          "GOVS59",
          "QQQO76",
          "HVFP61",
          "DBFZ64",
          "LTPM72",
          "COHT21",
          "MSNO65",
          "RGIO83",
          "MMDF31",
          "FNQP86",
          "MBSM82",
          "KJZW13",
          "CGIO61",
          "WRFX66",
          "YQQS17",
          "BKLR94",
          "ALHS41",
          "VNJL91",
          "MZBS30",
          "HVYQ50",
          "DVFE61",
          "HGJV99",
          "ADCH37",
          "BGEG92",
          "WFRB77",
          "KNDJ88",
          "MLHN86",
          "IISW62",
          "ARVN27",
          "LEEB66",
          "SBED48",
          "HFRI32",
          "ROQR61",
          "VFDB97",
          "KZMX40",
          "VKIF54",
          "MGVZ29",
          "VBEI50",
          "ELTK72",
          "CIVJ43",
          "YEQZ86",
          "EPTO88",
          "YWFS71",
          "WGNQ78",
          "XWHL99",
          "XTNH59",
          "KMJT64",
          "EUBR62",
          "TTZS56",
          "AROQ67",
          "UKYC18",
          "WXNR77",
          "CLPY88",
          "IIND68",
          "ZHEV67",
          "FYSX16",
          "VOVU55",
          "IAPJ59",
          "ETIV54",
          "DYRK47",
          "SPXR29",
          "PXBU41",
          "NZLG27",
          "CWZX77",
          "IUUO84",
          "YGII83",
          "VLIQ18",
          "OIOG94",
          "VCBE94",
          "UGGT20",
          "HNRJ86",
          "ZHYQ58",
          "IQCO42",
          "ZNWD27",
          "NADC75",
          "RJLR15",
          "KDKQ63",
          "VDVN10",
          "CFPB37",
          "JFFJ40",
          "FAEK13",
          "LLIH12",
          "ATIE88",
          "QMQZ86",
          "MPMX64",
          "ULFL16",
          "IXZJ80",
          "MIAT30",
          "CVTF93",
          "TAIZ87",
          "RMZJ88",
          "MAKS27",
          "PYHP39",
          "GOQY43",
          "WETV31",
          "KWFB47",
          "EWOA44",
          "DBRI80",
          "IAFE92",
          "PTDC81",
          "MWHA69",
          "TQME21",
          "XVCQ73",
          "MGHI53",
          "WDES82",
          "EPAQ16",
          "UQDG53",
          "JTSI96",
          "DZXA68",
          "URTD46",
          "ZDHE28",
          "PCMV31",
          "WNHW64",
          "ZFIR69",
          "TFCZ84",
          "KYPS48",
          "RPKH30",
          "MAKF53",
          "GSDB28",
          "BWHE51",
          "DSVM73",
          "JNPB82",
          "LSOQ56",
          "TQKO83",
          "MGXD95",
          "QJUH52",
          "MHGN40",
          "RXOE67",
          "OGUV31",
          "OCZA55",
          "UNTY50",
          "QVQI21",
          "XUJW57",
          "BLUG39",
          "ZXWU97",
          "VGAM26",
          "KJBW36",
          "TNCT92",
          "SIZM49",
          "BMPL83",
          "XYRW70",
          "NQET33",
          "TWMV60",
          "DUIE61",
          "IBTM27",
          "FMQN78",
          "KQWR50",
          "SKUA12",
          "HBVI25",
          "EWON83",
          "OMYB89",
          "EECE55",
          "FBXP28",
          "BTKY58",
          "JKPY74",
          "UCEV32",
          "VLCB67",
          "OBNN66",
          "CBJS81",
          "UAMR95",
          "YEIQ10",
          "MSZL95",
          "SBTM18",
          "LTOP61",
          "KVBJ89",
          "WUMO52",
          "MDXO87",
          "ZLFS69",
          "ADNY69",
          "JNZQ22",
          "LBDC93",
          "QJDE49",
          "FNON77",
          "WJMN79",
          "RWUR57",
          "VJCQ14",
          "RNKT66",
          "TAFR87",
          "CDMS24",
          "OSXT48",
          "XLKI20",
          "NFPD22",
          "XEUB20",
          "BHTJ96",
          "XJLH35",
          "AKKC40",
          "PEFW32",
          "VJXW66",
          "SRON53",
          "ALAX84",
          "RSIM44",
          "HGQV61",
          "JFFG88",
          "HNIU84",
          "EZBC54",
          "LBBF92",
          "ACKK33",
          "DQVZ74",
          "ELES76",
          "PQUB72",
          "QPYJ53",
          "FNGR35",
          "XABE41",
          "SDON87",
          "ORUR32",
          "FSNQ98",
          "EJKT27",
          "SYJU33",
          "HHBZ71"
         ],
         "xaxis": "x",
         "y": [
          21700,
          21500,
          21500,
          21000,
          20700,
          19600,
          19500,
          19100,
          18700,
          18500,
          18500,
          18200,
          18100,
          18000,
          18000,
          17600,
          17500,
          17500,
          17300,
          17200,
          17000,
          16800,
          16700,
          16600,
          16600,
          16100,
          16100,
          16000,
          16000,
          16000,
          15600,
          15500,
          15100,
          15100,
          15000,
          15000,
          15000,
          14700,
          14600,
          14600,
          14600,
          14600,
          14500,
          14200,
          14100,
          14000,
          14000,
          13800,
          13800,
          13700,
          13600,
          13500,
          13500,
          13300,
          13100,
          13100,
          13100,
          13100,
          13100,
          13000,
          13000,
          13000,
          12600,
          12600,
          12600,
          12600,
          12500,
          12300,
          12300,
          12300,
          12300,
          12200,
          12100,
          12100,
          12100,
          12000,
          12000,
          12000,
          12000,
          12000,
          11800,
          11800,
          11700,
          11600,
          11500,
          11300,
          11300,
          11300,
          11100,
          11100,
          11000,
          11000,
          11000,
          11000,
          11000,
          11000,
          11000,
          11000,
          10600,
          10600,
          10600,
          10600,
          10500,
          10500,
          10500,
          10300,
          10100,
          10100,
          10100,
          10100,
          10100,
          10100,
          10000,
          10000,
          9700,
          9600,
          9600,
          9600,
          9600,
          9600,
          9500,
          9500,
          9500,
          9500,
          9300,
          9200,
          9100,
          9100,
          9100,
          9100,
          9100,
          9100,
          9100,
          9100,
          9100,
          9000,
          9000,
          9000,
          9000,
          9000,
          9000,
          9000,
          8900,
          8800,
          8700,
          8600,
          8600,
          8600,
          8600,
          8600,
          8500,
          8500,
          8500,
          8500,
          8500,
          8500,
          8500,
          8500,
          8500,
          8300,
          8300,
          8300,
          8100,
          8100,
          8100,
          8100,
          8100,
          8100,
          8100,
          8100,
          8000,
          8000,
          8000,
          8000,
          8000,
          8000,
          8000,
          8000,
          7800,
          7600,
          7600,
          7600,
          7500,
          7500,
          7500,
          7300,
          7300,
          7300,
          7100,
          7100,
          7100,
          7100,
          7100,
          7100,
          7100,
          7100,
          7100,
          7100,
          7100,
          7100,
          7100,
          7000,
          7000,
          7000,
          7000,
          7000,
          7000,
          7000,
          7000,
          7000,
          7000,
          7000,
          6800,
          6800,
          6800,
          6700,
          6600,
          6600,
          6600,
          6600,
          6600,
          6600,
          6600,
          6600,
          6600,
          6600,
          6600,
          6600,
          6500,
          6500,
          6500,
          6500,
          6500,
          6500,
          6500,
          6500,
          6300,
          6200,
          6100,
          6100,
          6100,
          6100,
          6100,
          6100,
          6100,
          6100,
          6100,
          6100,
          6100,
          6100,
          6100,
          6100,
          6100,
          6000,
          6000,
          6000,
          6000,
          6000,
          6000,
          6000,
          6000,
          6000,
          6000,
          5800,
          5600,
          5600,
          5600,
          5600,
          5600,
          5600,
          5500,
          5500,
          5500,
          5500,
          5500,
          5500,
          5500,
          5500,
          5500,
          5500,
          5500,
          5500,
          5500,
          5500,
          5500,
          5500,
          5500,
          5300,
          5300,
          5100,
          5100,
          5100,
          5100,
          5100,
          5100,
          5100,
          5100,
          5100,
          5100,
          5100,
          5100,
          5100,
          5000,
          5000,
          5000,
          5000,
          5000,
          5000,
          5000,
          4600,
          4600,
          4600,
          4600,
          4600,
          4600,
          4600,
          4600,
          4600,
          4500,
          4500,
          4500,
          4500,
          4500,
          4500,
          4500,
          4500,
          4500,
          4500,
          4500,
          4200,
          4100,
          4100,
          4100,
          4100,
          4100,
          4100,
          4100,
          4100,
          4100,
          4100,
          4100,
          4100,
          4100,
          4100,
          4100,
          4100,
          4100,
          4100,
          4100,
          4100,
          4100,
          4100,
          4000,
          4000,
          4000,
          3800,
          3600,
          3600,
          3600,
          3600,
          3600,
          3600,
          3600,
          3600,
          3600,
          3600,
          3600,
          3600,
          3600,
          3600,
          3500,
          3500,
          3500,
          3500,
          3500,
          3500,
          3500,
          3300,
          3100,
          3100,
          3100,
          3100,
          3100,
          3100,
          3100,
          3100,
          3100,
          3100,
          3100,
          3100,
          3100,
          3100,
          3100,
          3100,
          3000,
          3000,
          2700,
          2600,
          2600,
          2600,
          2600,
          2600,
          2600,
          2600,
          2600,
          2600,
          2600,
          2600,
          2600,
          2600,
          2600,
          2600,
          2600,
          2600,
          2500,
          2500,
          2500,
          2500,
          2500,
          2500,
          2500,
          2500,
          2500,
          2500,
          2500,
          2500,
          2500,
          2500,
          2500,
          2500,
          2500,
          2500,
          2500,
          2100,
          2100,
          2100,
          2100,
          2100,
          1600,
          1600,
          1600,
          1600,
          1600,
          1600,
          1600,
          1600,
          1600,
          1600,
          1100,
          1100,
          1100,
          1100,
          1100,
          1100,
          1100,
          1100,
          1100,
          1100,
          1100,
          1100,
          600,
          600,
          600,
          600,
          600,
          600,
          600,
          600,
          600,
          600,
          600,
          600,
          600,
          600,
          600,
          600,
          600,
          600,
          600,
          600,
          600,
          600,
          600,
          600,
          600,
          600,
          600,
          600,
          600,
          600,
          600,
          600,
          600,
          600
         ],
         "yaxis": "y"
        }
       ],
       "layout": {
        "barmode": "relative",
        "legend": {
         "tracegroupgap": 0
        },
        "shapes": [
         {
          "line": {
           "color": "red",
           "width": 2
          },
          "name": "Mean",
          "type": "line",
          "x0": -0.5,
          "x1": 493.5,
          "y0": 5859553.777698683,
          "y1": 5859553.777698683
         }
        ],
        "template": {
         "data": {
          "bar": [
           {
            "error_x": {
             "color": "#2a3f5f"
            },
            "error_y": {
             "color": "#2a3f5f"
            },
            "marker": {
             "line": {
              "color": "#E5ECF6",
              "width": 0.5
             },
             "pattern": {
              "fillmode": "overlay",
              "size": 10,
              "solidity": 0.2
             }
            },
            "type": "bar"
           }
          ],
          "barpolar": [
           {
            "marker": {
             "line": {
              "color": "#E5ECF6",
              "width": 0.5
             },
             "pattern": {
              "fillmode": "overlay",
              "size": 10,
              "solidity": 0.2
             }
            },
            "type": "barpolar"
           }
          ],
          "carpet": [
           {
            "aaxis": {
             "endlinecolor": "#2a3f5f",
             "gridcolor": "white",
             "linecolor": "white",
             "minorgridcolor": "white",
             "startlinecolor": "#2a3f5f"
            },
            "baxis": {
             "endlinecolor": "#2a3f5f",
             "gridcolor": "white",
             "linecolor": "white",
             "minorgridcolor": "white",
             "startlinecolor": "#2a3f5f"
            },
            "type": "carpet"
           }
          ],
          "choropleth": [
           {
            "colorbar": {
             "outlinewidth": 0,
             "ticks": ""
            },
            "type": "choropleth"
           }
          ],
          "contour": [
           {
            "colorbar": {
             "outlinewidth": 0,
             "ticks": ""
            },
            "colorscale": [
             [
              0,
              "#0d0887"
             ],
             [
              0.1111111111111111,
              "#46039f"
             ],
             [
              0.2222222222222222,
              "#7201a8"
             ],
             [
              0.3333333333333333,
              "#9c179e"
             ],
             [
              0.4444444444444444,
              "#bd3786"
             ],
             [
              0.5555555555555556,
              "#d8576b"
             ],
             [
              0.6666666666666666,
              "#ed7953"
             ],
             [
              0.7777777777777778,
              "#fb9f3a"
             ],
             [
              0.8888888888888888,
              "#fdca26"
             ],
             [
              1,
              "#f0f921"
             ]
            ],
            "type": "contour"
           }
          ],
          "contourcarpet": [
           {
            "colorbar": {
             "outlinewidth": 0,
             "ticks": ""
            },
            "type": "contourcarpet"
           }
          ],
          "heatmap": [
           {
            "colorbar": {
             "outlinewidth": 0,
             "ticks": ""
            },
            "colorscale": [
             [
              0,
              "#0d0887"
             ],
             [
              0.1111111111111111,
              "#46039f"
             ],
             [
              0.2222222222222222,
              "#7201a8"
             ],
             [
              0.3333333333333333,
              "#9c179e"
             ],
             [
              0.4444444444444444,
              "#bd3786"
             ],
             [
              0.5555555555555556,
              "#d8576b"
             ],
             [
              0.6666666666666666,
              "#ed7953"
             ],
             [
              0.7777777777777778,
              "#fb9f3a"
             ],
             [
              0.8888888888888888,
              "#fdca26"
             ],
             [
              1,
              "#f0f921"
             ]
            ],
            "type": "heatmap"
           }
          ],
          "heatmapgl": [
           {
            "colorbar": {
             "outlinewidth": 0,
             "ticks": ""
            },
            "colorscale": [
             [
              0,
              "#0d0887"
             ],
             [
              0.1111111111111111,
              "#46039f"
             ],
             [
              0.2222222222222222,
              "#7201a8"
             ],
             [
              0.3333333333333333,
              "#9c179e"
             ],
             [
              0.4444444444444444,
              "#bd3786"
             ],
             [
              0.5555555555555556,
              "#d8576b"
             ],
             [
              0.6666666666666666,
              "#ed7953"
             ],
             [
              0.7777777777777778,
              "#fb9f3a"
             ],
             [
              0.8888888888888888,
              "#fdca26"
             ],
             [
              1,
              "#f0f921"
             ]
            ],
            "type": "heatmapgl"
           }
          ],
          "histogram": [
           {
            "marker": {
             "pattern": {
              "fillmode": "overlay",
              "size": 10,
              "solidity": 0.2
             }
            },
            "type": "histogram"
           }
          ],
          "histogram2d": [
           {
            "colorbar": {
             "outlinewidth": 0,
             "ticks": ""
            },
            "colorscale": [
             [
              0,
              "#0d0887"
             ],
             [
              0.1111111111111111,
              "#46039f"
             ],
             [
              0.2222222222222222,
              "#7201a8"
             ],
             [
              0.3333333333333333,
              "#9c179e"
             ],
             [
              0.4444444444444444,
              "#bd3786"
             ],
             [
              0.5555555555555556,
              "#d8576b"
             ],
             [
              0.6666666666666666,
              "#ed7953"
             ],
             [
              0.7777777777777778,
              "#fb9f3a"
             ],
             [
              0.8888888888888888,
              "#fdca26"
             ],
             [
              1,
              "#f0f921"
             ]
            ],
            "type": "histogram2d"
           }
          ],
          "histogram2dcontour": [
           {
            "colorbar": {
             "outlinewidth": 0,
             "ticks": ""
            },
            "colorscale": [
             [
              0,
              "#0d0887"
             ],
             [
              0.1111111111111111,
              "#46039f"
             ],
             [
              0.2222222222222222,
              "#7201a8"
             ],
             [
              0.3333333333333333,
              "#9c179e"
             ],
             [
              0.4444444444444444,
              "#bd3786"
             ],
             [
              0.5555555555555556,
              "#d8576b"
             ],
             [
              0.6666666666666666,
              "#ed7953"
             ],
             [
              0.7777777777777778,
              "#fb9f3a"
             ],
             [
              0.8888888888888888,
              "#fdca26"
             ],
             [
              1,
              "#f0f921"
             ]
            ],
            "type": "histogram2dcontour"
           }
          ],
          "mesh3d": [
           {
            "colorbar": {
             "outlinewidth": 0,
             "ticks": ""
            },
            "type": "mesh3d"
           }
          ],
          "parcoords": [
           {
            "line": {
             "colorbar": {
              "outlinewidth": 0,
              "ticks": ""
             }
            },
            "type": "parcoords"
           }
          ],
          "pie": [
           {
            "automargin": true,
            "type": "pie"
           }
          ],
          "scatter": [
           {
            "fillpattern": {
             "fillmode": "overlay",
             "size": 10,
             "solidity": 0.2
            },
            "type": "scatter"
           }
          ],
          "scatter3d": [
           {
            "line": {
             "colorbar": {
              "outlinewidth": 0,
              "ticks": ""
             }
            },
            "marker": {
             "colorbar": {
              "outlinewidth": 0,
              "ticks": ""
             }
            },
            "type": "scatter3d"
           }
          ],
          "scattercarpet": [
           {
            "marker": {
             "colorbar": {
              "outlinewidth": 0,
              "ticks": ""
             }
            },
            "type": "scattercarpet"
           }
          ],
          "scattergeo": [
           {
            "marker": {
             "colorbar": {
              "outlinewidth": 0,
              "ticks": ""
             }
            },
            "type": "scattergeo"
           }
          ],
          "scattergl": [
           {
            "marker": {
             "colorbar": {
              "outlinewidth": 0,
              "ticks": ""
             }
            },
            "type": "scattergl"
           }
          ],
          "scattermapbox": [
           {
            "marker": {
             "colorbar": {
              "outlinewidth": 0,
              "ticks": ""
             }
            },
            "type": "scattermapbox"
           }
          ],
          "scatterpolar": [
           {
            "marker": {
             "colorbar": {
              "outlinewidth": 0,
              "ticks": ""
             }
            },
            "type": "scatterpolar"
           }
          ],
          "scatterpolargl": [
           {
            "marker": {
             "colorbar": {
              "outlinewidth": 0,
              "ticks": ""
             }
            },
            "type": "scatterpolargl"
           }
          ],
          "scatterternary": [
           {
            "marker": {
             "colorbar": {
              "outlinewidth": 0,
              "ticks": ""
             }
            },
            "type": "scatterternary"
           }
          ],
          "surface": [
           {
            "colorbar": {
             "outlinewidth": 0,
             "ticks": ""
            },
            "colorscale": [
             [
              0,
              "#0d0887"
             ],
             [
              0.1111111111111111,
              "#46039f"
             ],
             [
              0.2222222222222222,
              "#7201a8"
             ],
             [
              0.3333333333333333,
              "#9c179e"
             ],
             [
              0.4444444444444444,
              "#bd3786"
             ],
             [
              0.5555555555555556,
              "#d8576b"
             ],
             [
              0.6666666666666666,
              "#ed7953"
             ],
             [
              0.7777777777777778,
              "#fb9f3a"
             ],
             [
              0.8888888888888888,
              "#fdca26"
             ],
             [
              1,
              "#f0f921"
             ]
            ],
            "type": "surface"
           }
          ],
          "table": [
           {
            "cells": {
             "fill": {
              "color": "#EBF0F8"
             },
             "line": {
              "color": "white"
             }
            },
            "header": {
             "fill": {
              "color": "#C8D4E3"
             },
             "line": {
              "color": "white"
             }
            },
            "type": "table"
           }
          ]
         },
         "layout": {
          "annotationdefaults": {
           "arrowcolor": "#2a3f5f",
           "arrowhead": 0,
           "arrowwidth": 1
          },
          "autotypenumbers": "strict",
          "coloraxis": {
           "colorbar": {
            "outlinewidth": 0,
            "ticks": ""
           }
          },
          "colorscale": {
           "diverging": [
            [
             0,
             "#8e0152"
            ],
            [
             0.1,
             "#c51b7d"
            ],
            [
             0.2,
             "#de77ae"
            ],
            [
             0.3,
             "#f1b6da"
            ],
            [
             0.4,
             "#fde0ef"
            ],
            [
             0.5,
             "#f7f7f7"
            ],
            [
             0.6,
             "#e6f5d0"
            ],
            [
             0.7,
             "#b8e186"
            ],
            [
             0.8,
             "#7fbc41"
            ],
            [
             0.9,
             "#4d9221"
            ],
            [
             1,
             "#276419"
            ]
           ],
           "sequential": [
            [
             0,
             "#0d0887"
            ],
            [
             0.1111111111111111,
             "#46039f"
            ],
            [
             0.2222222222222222,
             "#7201a8"
            ],
            [
             0.3333333333333333,
             "#9c179e"
            ],
            [
             0.4444444444444444,
             "#bd3786"
            ],
            [
             0.5555555555555556,
             "#d8576b"
            ],
            [
             0.6666666666666666,
             "#ed7953"
            ],
            [
             0.7777777777777778,
             "#fb9f3a"
            ],
            [
             0.8888888888888888,
             "#fdca26"
            ],
            [
             1,
             "#f0f921"
            ]
           ],
           "sequentialminus": [
            [
             0,
             "#0d0887"
            ],
            [
             0.1111111111111111,
             "#46039f"
            ],
            [
             0.2222222222222222,
             "#7201a8"
            ],
            [
             0.3333333333333333,
             "#9c179e"
            ],
            [
             0.4444444444444444,
             "#bd3786"
            ],
            [
             0.5555555555555556,
             "#d8576b"
            ],
            [
             0.6666666666666666,
             "#ed7953"
            ],
            [
             0.7777777777777778,
             "#fb9f3a"
            ],
            [
             0.8888888888888888,
             "#fdca26"
            ],
            [
             1,
             "#f0f921"
            ]
           ]
          },
          "colorway": [
           "#636efa",
           "#EF553B",
           "#00cc96",
           "#ab63fa",
           "#FFA15A",
           "#19d3f3",
           "#FF6692",
           "#B6E880",
           "#FF97FF",
           "#FECB52"
          ],
          "font": {
           "color": "#2a3f5f"
          },
          "geo": {
           "bgcolor": "white",
           "lakecolor": "white",
           "landcolor": "#E5ECF6",
           "showlakes": true,
           "showland": true,
           "subunitcolor": "white"
          },
          "hoverlabel": {
           "align": "left"
          },
          "hovermode": "closest",
          "mapbox": {
           "style": "light"
          },
          "paper_bgcolor": "white",
          "plot_bgcolor": "#E5ECF6",
          "polar": {
           "angularaxis": {
            "gridcolor": "white",
            "linecolor": "white",
            "ticks": ""
           },
           "bgcolor": "#E5ECF6",
           "radialaxis": {
            "gridcolor": "white",
            "linecolor": "white",
            "ticks": ""
           }
          },
          "scene": {
           "xaxis": {
            "backgroundcolor": "#E5ECF6",
            "gridcolor": "white",
            "gridwidth": 2,
            "linecolor": "white",
            "showbackground": true,
            "ticks": "",
            "zerolinecolor": "white"
           },
           "yaxis": {
            "backgroundcolor": "#E5ECF6",
            "gridcolor": "white",
            "gridwidth": 2,
            "linecolor": "white",
            "showbackground": true,
            "ticks": "",
            "zerolinecolor": "white"
           },
           "zaxis": {
            "backgroundcolor": "#E5ECF6",
            "gridcolor": "white",
            "gridwidth": 2,
            "linecolor": "white",
            "showbackground": true,
            "ticks": "",
            "zerolinecolor": "white"
           }
          },
          "shapedefaults": {
           "line": {
            "color": "#2a3f5f"
           }
          },
          "ternary": {
           "aaxis": {
            "gridcolor": "white",
            "linecolor": "white",
            "ticks": ""
           },
           "baxis": {
            "gridcolor": "white",
            "linecolor": "white",
            "ticks": ""
           },
           "bgcolor": "#E5ECF6",
           "caxis": {
            "gridcolor": "white",
            "linecolor": "white",
            "ticks": ""
           }
          },
          "title": {
           "x": 0.05
          },
          "xaxis": {
           "automargin": true,
           "gridcolor": "white",
           "linecolor": "white",
           "ticks": "",
           "title": {
            "standoff": 15
           },
           "zerolinecolor": "white",
           "zerolinewidth": 2
          },
          "yaxis": {
           "automargin": true,
           "gridcolor": "white",
           "linecolor": "white",
           "ticks": "",
           "title": {
            "standoff": 15
           },
           "zerolinecolor": "white",
           "zerolinewidth": 2
          }
         }
        },
        "title": {
         "text": "PNR Scores"
        },
        "xaxis": {
         "anchor": "y",
         "domain": [
          0,
          1
         ],
         "title": {
          "text": "pnr"
         }
        },
        "yaxis": {
         "anchor": "x",
         "domain": [
          0,
          1
         ],
         "title": {
          "text": "PNR Score"
         }
        }
       }
      }
     },
     "metadata": {},
     "output_type": "display_data"
    }
   ],
   "source": [
    "# plot for pnr_score distribution of cancelled flights-pnrs\n",
    "fig = px.bar(\n",
    "    df, x=\"pnr\", y=\"pnr_score\", title=\"PNR Scores\", labels={\"pnr_score\": \"PNR Score\"}\n",
    ")\n",
    "# Add mean and standard deviation annotations\n",
    "fig.add_shape(\n",
    "    type=\"line\",\n",
    "    x0=-0.5,\n",
    "    x1=len(df) - 0.5,\n",
    "    y0=mean_score,\n",
    "    y1=mean_score,\n",
    "    line=dict(color=\"red\", width=2),\n",
    "    name=\"Mean\",\n",
    ")\n",
    "# Show the chart\n",
    "print(mean_score, std_dev_score)\n",
    "fig.show()"
   ]
  },
  {
   "cell_type": "code",
   "execution_count": 6,
   "metadata": {},
   "outputs": [
    {
     "data": {
      "application/vnd.plotly.v1+json": {
       "config": {
        "plotlyServerURL": "https://plot.ly"
       },
       "data": [
        {
         "domain": {
          "x": [
           0,
           1
          ],
          "y": [
           0,
           1
          ]
         },
         "hovertemplate": "allocated_classes=%{label}<extra></extra>",
         "labels": [
          "['B', 'B']",
          "['B', 'B']",
          "['B', 'B', 'B']",
          "[]",
          "[]",
          "['E']",
          "['F', 'B']",
          "[]",
          "['B', 'B']",
          "[]",
          "[]",
          "['B', 'B']",
          "[]",
          "['B', 'B']",
          "['B', 'B']",
          "['E', 'E']",
          "[]",
          "[]",
          "[]",
          "[]",
          "[]",
          "['E']",
          "['B']",
          "[]",
          "['P']",
          "['E', 'P', 'E']",
          "['E']",
          "['B', 'B']",
          "['B', 'B', 'B']",
          "['P']",
          "['E', 'P']",
          "['B', 'B']",
          "['P', 'E', 'E']",
          "['P']",
          "[]",
          "['B', 'B']",
          "[]",
          "['B', 'B']",
          "[]",
          "['P']",
          "['E']",
          "[]",
          "['B']",
          "['B']",
          "['P']",
          "['P', 'P']",
          "[]",
          "['E']",
          "['P']",
          "['B']",
          "[]",
          "[]",
          "['B', 'P', 'B']",
          "['E', 'E']",
          "['P', 'P']",
          "['P', 'P']",
          "['P', 'E']",
          "['B', 'B', 'B']",
          "['P']",
          "['B']",
          "[]",
          "[]",
          "['P', 'P']",
          "['E', 'E']",
          "[]",
          "['E', 'P', 'P']",
          "['B', 'B', 'B']",
          "['P']",
          "['P', 'E', 'P']",
          "['E', 'E', 'E']",
          "['P']",
          "[]",
          "['E']",
          "['P', 'E']",
          "['P']",
          "[]",
          "['B', 'B', 'B']",
          "['F', 'B']",
          "['B']",
          "[]",
          "['P']",
          "[]",
          "[]",
          "[]",
          "['B', 'B']",
          "['P']",
          "['E']",
          "[]",
          "['E', 'P']",
          "['E', 'E']",
          "['F', 'B']",
          "['B', 'B']",
          "[]",
          "['B', 'B']",
          "['B', 'B']",
          "['B', 'B']",
          "['B', 'B', 'B']",
          "[]",
          "['E', 'P']",
          "[]",
          "['P']",
          "[]",
          "['B', 'B']",
          "[]",
          "['B']",
          "['P', 'E']",
          "['E', 'E']",
          "['P']",
          "[]",
          "['E']",
          "['E']",
          "['E']",
          "['B', 'F', 'B']",
          "[]",
          "['B', 'B', 'B']",
          "[]",
          "['P', 'E', 'P']",
          "['P', 'E']",
          "['P']",
          "[]",
          "[]",
          "[]",
          "['B']",
          "['B']",
          "[]",
          "['B']",
          "['P', 'E']",
          "['P', 'P']",
          "['P', 'E']",
          "['E', 'P']",
          "[]",
          "[]",
          "['P']",
          "['P']",
          "['E']",
          "['B']",
          "['B', 'B']",
          "['E', 'B', 'B']",
          "['B', 'P']",
          "['B', 'B', 'B']",
          "['B']",
          "[]",
          "['P', 'B']",
          "['B', 'E']",
          "['B']",
          "[]",
          "['P']",
          "['P']",
          "['E', 'E']",
          "[]",
          "['B', 'B']",
          "[]",
          "['B', 'B', 'B']",
          "['B', 'P']",
          "['B', 'B']",
          "[]",
          "['P']",
          "[]",
          "[]",
          "['E', 'E']",
          "['P']",
          "['E']",
          "['E']",
          "[]",
          "[]",
          "['E', 'E']",
          "['E', 'E']",
          "['P']",
          "['E']",
          "[]",
          "['B', 'B']",
          "['B']",
          "['B', 'B']",
          "[]",
          "[]",
          "[]",
          "['F', 'B', 'B']",
          "['B', 'B']",
          "['P', 'E', 'P']",
          "[]",
          "['E', 'E', 'P']",
          "[]",
          "['P', 'B', 'B']",
          "['P', 'B']",
          "['F', 'P', 'B']",
          "['P', 'P', 'P']",
          "['P', 'P', 'P']",
          "['E', 'E', 'P']",
          "[]",
          "[]",
          "[]",
          "['P', 'E']",
          "['E', 'P']",
          "['P', 'E']",
          "['P', 'E']",
          "[]",
          "[]",
          "[]",
          "['E']",
          "['P']",
          "[]",
          "['B']",
          "['B']",
          "[]",
          "['B']",
          "[]",
          "['B', 'B']",
          "['B', 'P', 'B']",
          "[]",
          "['F', 'B', 'B']",
          "['B']",
          "['B']",
          "[]",
          "['P', 'E']",
          "[]",
          "[]",
          "[]",
          "[]",
          "['P']",
          "['P', 'E']",
          "['P', 'E']",
          "['E', 'E']",
          "['E', 'P']",
          "['E']",
          "['P']",
          "['P']",
          "['E']",
          "['E']",
          "[]",
          "['B', 'B']",
          "['B', 'B']",
          "['B', 'P']",
          "['F']",
          "['B']",
          "['B']",
          "[]",
          "['E']",
          "['B']",
          "[]",
          "[]",
          "[]",
          "['E', 'E']",
          "['P', 'E']",
          "['P', 'E']",
          "['P', 'E']",
          "['P', 'E']",
          "['E', 'P']",
          "['P', 'E']",
          "['P']",
          "['E']",
          "['E']",
          "[]",
          "[]",
          "['B']",
          "['B']",
          "['B', 'B']",
          "['P', 'B']",
          "['F', 'B']",
          "['F', 'B', 'B']",
          "['B']",
          "['B']",
          "['B']",
          "['B']",
          "[]",
          "['E', 'E']",
          "['E', 'E']",
          "['E', 'P']",
          "[]",
          "['P']",
          "['P', 'E']",
          "[]",
          "['B']",
          "['B']",
          "[]",
          "['P', 'B', 'B']",
          "['B', 'F']",
          "['B', 'F']",
          "['F', 'B']",
          "[]",
          "[]",
          "['B']",
          "['B']",
          "['B']",
          "['B']",
          "['B', 'B']",
          "['B', 'B']",
          "[]",
          "['E']",
          "['P']",
          "['P', 'E']",
          "['P']",
          "['P']",
          "[]",
          "['E', 'E']",
          "['P', 'E']",
          "['P', 'E']",
          "['P', 'E']",
          "[]",
          "['P']",
          "['P']",
          "['P']",
          "['P']",
          "['B']",
          "['P', 'B']",
          "['B', 'P', 'B']",
          "[]",
          "['B']",
          "['F']",
          "['B']",
          "[]",
          "['E', 'P']",
          "['P', 'E']",
          "['E', 'P']",
          "['E', 'P']",
          "['E', 'P']",
          "['P', 'E']",
          "['P']",
          "['P']",
          "['B', 'B']",
          "['P', 'B']",
          "['B', 'F']",
          "['P', 'B']",
          "['B', 'B']",
          "['F']",
          "['B']",
          "['B']",
          "['B', 'B']",
          "['B', 'F']",
          "['B', 'B']",
          "['B']",
          "[]",
          "[]",
          "[]",
          "['E', 'P']",
          "['E', 'P']",
          "['P', 'E']",
          "['P', 'E']",
          "['P', 'E']",
          "['P', 'E']",
          "['E', 'E']",
          "[]",
          "[]",
          "[]",
          "[]",
          "['B']",
          "['E']",
          "['P']",
          "[]",
          "[]",
          "[]",
          "[]",
          "[]",
          "[]",
          "['B', 'P', 'B']",
          "['B']",
          "['P', 'E']",
          "[]",
          "['P']",
          "[]",
          "['E', 'P']",
          "['P', 'E']",
          "['P', 'E']",
          "['E', 'E', 'E']",
          "['E', 'P']",
          "['P', 'E']",
          "['P']",
          "['B']",
          "['E']",
          "[]",
          "[]",
          "['B', 'B']",
          "['P', 'B']",
          "[]",
          "['P']",
          "[]",
          "['B']",
          "[]",
          "[]",
          "[]",
          "[]",
          "['E', 'P']",
          "['P', 'E']",
          "['P', 'E']",
          "['P', 'E']",
          "[]",
          "[]",
          "[]",
          "['E']",
          "['E']",
          "[]",
          "['P']",
          "['E']",
          "['E']",
          "[]",
          "['B', 'E']",
          "[]",
          "['B']",
          "['E']",
          "['E', 'E']",
          "['F', 'E']",
          "['B', 'E']",
          "['P']",
          "[]",
          "['E', 'P']",
          "['E', 'E']",
          "['P', 'E']",
          "['P', 'P']",
          "['E']",
          "[]",
          "[]",
          "[]",
          "[]",
          "['E']",
          "[]",
          "[]",
          "['B']",
          "['P', 'B']",
          "['B', 'P', 'B']",
          "[]",
          "[]",
          "[]",
          "[]",
          "['B']",
          "[]",
          "[]",
          "[]",
          "[]",
          "['B']",
          "['B']",
          "['B']",
          "['B']",
          "['B']",
          "[]",
          "['P', 'E']",
          "['P', 'E']",
          "[]",
          "[]",
          "['E']",
          "['P']",
          "[]",
          "['P']",
          "['P']",
          "['E', 'P']",
          "['P', 'E']",
          "[]",
          "[]",
          "['E', 'P', 'E']",
          "['E']",
          "['P']",
          "[]",
          "[]",
          "[]",
          "[]",
          "['E', 'E']",
          "['P']",
          "[]",
          "['E']",
          "['P', 'E']",
          "[]",
          "[]",
          "[]",
          "[]",
          "[]",
          "['P']",
          "[]",
          "['E', 'P']",
          "['P', 'E']",
          "['P', 'E']",
          "['P', 'E']",
          "['P', 'E']",
          "['P', 'E']",
          "['P', 'P']",
          "['P', 'P']",
          "['P', 'E']",
          "['P', 'E']",
          "['P', 'E']",
          "[]",
          "[]",
          "[]",
          "[]",
          "['E', 'E']",
          "['P']",
          "['E']",
          "['E']",
          "[]",
          "[]",
          "['E']",
          "['E']",
          "[]",
          "[]",
          "[]",
          "[]",
          "[]",
          "[]"
         ],
         "legendgroup": "",
         "name": "",
         "showlegend": true,
         "type": "pie"
        }
       ],
       "layout": {
        "legend": {
         "tracegroupgap": 0
        },
        "template": {
         "data": {
          "bar": [
           {
            "error_x": {
             "color": "#2a3f5f"
            },
            "error_y": {
             "color": "#2a3f5f"
            },
            "marker": {
             "line": {
              "color": "#E5ECF6",
              "width": 0.5
             },
             "pattern": {
              "fillmode": "overlay",
              "size": 10,
              "solidity": 0.2
             }
            },
            "type": "bar"
           }
          ],
          "barpolar": [
           {
            "marker": {
             "line": {
              "color": "#E5ECF6",
              "width": 0.5
             },
             "pattern": {
              "fillmode": "overlay",
              "size": 10,
              "solidity": 0.2
             }
            },
            "type": "barpolar"
           }
          ],
          "carpet": [
           {
            "aaxis": {
             "endlinecolor": "#2a3f5f",
             "gridcolor": "white",
             "linecolor": "white",
             "minorgridcolor": "white",
             "startlinecolor": "#2a3f5f"
            },
            "baxis": {
             "endlinecolor": "#2a3f5f",
             "gridcolor": "white",
             "linecolor": "white",
             "minorgridcolor": "white",
             "startlinecolor": "#2a3f5f"
            },
            "type": "carpet"
           }
          ],
          "choropleth": [
           {
            "colorbar": {
             "outlinewidth": 0,
             "ticks": ""
            },
            "type": "choropleth"
           }
          ],
          "contour": [
           {
            "colorbar": {
             "outlinewidth": 0,
             "ticks": ""
            },
            "colorscale": [
             [
              0,
              "#0d0887"
             ],
             [
              0.1111111111111111,
              "#46039f"
             ],
             [
              0.2222222222222222,
              "#7201a8"
             ],
             [
              0.3333333333333333,
              "#9c179e"
             ],
             [
              0.4444444444444444,
              "#bd3786"
             ],
             [
              0.5555555555555556,
              "#d8576b"
             ],
             [
              0.6666666666666666,
              "#ed7953"
             ],
             [
              0.7777777777777778,
              "#fb9f3a"
             ],
             [
              0.8888888888888888,
              "#fdca26"
             ],
             [
              1,
              "#f0f921"
             ]
            ],
            "type": "contour"
           }
          ],
          "contourcarpet": [
           {
            "colorbar": {
             "outlinewidth": 0,
             "ticks": ""
            },
            "type": "contourcarpet"
           }
          ],
          "heatmap": [
           {
            "colorbar": {
             "outlinewidth": 0,
             "ticks": ""
            },
            "colorscale": [
             [
              0,
              "#0d0887"
             ],
             [
              0.1111111111111111,
              "#46039f"
             ],
             [
              0.2222222222222222,
              "#7201a8"
             ],
             [
              0.3333333333333333,
              "#9c179e"
             ],
             [
              0.4444444444444444,
              "#bd3786"
             ],
             [
              0.5555555555555556,
              "#d8576b"
             ],
             [
              0.6666666666666666,
              "#ed7953"
             ],
             [
              0.7777777777777778,
              "#fb9f3a"
             ],
             [
              0.8888888888888888,
              "#fdca26"
             ],
             [
              1,
              "#f0f921"
             ]
            ],
            "type": "heatmap"
           }
          ],
          "heatmapgl": [
           {
            "colorbar": {
             "outlinewidth": 0,
             "ticks": ""
            },
            "colorscale": [
             [
              0,
              "#0d0887"
             ],
             [
              0.1111111111111111,
              "#46039f"
             ],
             [
              0.2222222222222222,
              "#7201a8"
             ],
             [
              0.3333333333333333,
              "#9c179e"
             ],
             [
              0.4444444444444444,
              "#bd3786"
             ],
             [
              0.5555555555555556,
              "#d8576b"
             ],
             [
              0.6666666666666666,
              "#ed7953"
             ],
             [
              0.7777777777777778,
              "#fb9f3a"
             ],
             [
              0.8888888888888888,
              "#fdca26"
             ],
             [
              1,
              "#f0f921"
             ]
            ],
            "type": "heatmapgl"
           }
          ],
          "histogram": [
           {
            "marker": {
             "pattern": {
              "fillmode": "overlay",
              "size": 10,
              "solidity": 0.2
             }
            },
            "type": "histogram"
           }
          ],
          "histogram2d": [
           {
            "colorbar": {
             "outlinewidth": 0,
             "ticks": ""
            },
            "colorscale": [
             [
              0,
              "#0d0887"
             ],
             [
              0.1111111111111111,
              "#46039f"
             ],
             [
              0.2222222222222222,
              "#7201a8"
             ],
             [
              0.3333333333333333,
              "#9c179e"
             ],
             [
              0.4444444444444444,
              "#bd3786"
             ],
             [
              0.5555555555555556,
              "#d8576b"
             ],
             [
              0.6666666666666666,
              "#ed7953"
             ],
             [
              0.7777777777777778,
              "#fb9f3a"
             ],
             [
              0.8888888888888888,
              "#fdca26"
             ],
             [
              1,
              "#f0f921"
             ]
            ],
            "type": "histogram2d"
           }
          ],
          "histogram2dcontour": [
           {
            "colorbar": {
             "outlinewidth": 0,
             "ticks": ""
            },
            "colorscale": [
             [
              0,
              "#0d0887"
             ],
             [
              0.1111111111111111,
              "#46039f"
             ],
             [
              0.2222222222222222,
              "#7201a8"
             ],
             [
              0.3333333333333333,
              "#9c179e"
             ],
             [
              0.4444444444444444,
              "#bd3786"
             ],
             [
              0.5555555555555556,
              "#d8576b"
             ],
             [
              0.6666666666666666,
              "#ed7953"
             ],
             [
              0.7777777777777778,
              "#fb9f3a"
             ],
             [
              0.8888888888888888,
              "#fdca26"
             ],
             [
              1,
              "#f0f921"
             ]
            ],
            "type": "histogram2dcontour"
           }
          ],
          "mesh3d": [
           {
            "colorbar": {
             "outlinewidth": 0,
             "ticks": ""
            },
            "type": "mesh3d"
           }
          ],
          "parcoords": [
           {
            "line": {
             "colorbar": {
              "outlinewidth": 0,
              "ticks": ""
             }
            },
            "type": "parcoords"
           }
          ],
          "pie": [
           {
            "automargin": true,
            "type": "pie"
           }
          ],
          "scatter": [
           {
            "fillpattern": {
             "fillmode": "overlay",
             "size": 10,
             "solidity": 0.2
            },
            "type": "scatter"
           }
          ],
          "scatter3d": [
           {
            "line": {
             "colorbar": {
              "outlinewidth": 0,
              "ticks": ""
             }
            },
            "marker": {
             "colorbar": {
              "outlinewidth": 0,
              "ticks": ""
             }
            },
            "type": "scatter3d"
           }
          ],
          "scattercarpet": [
           {
            "marker": {
             "colorbar": {
              "outlinewidth": 0,
              "ticks": ""
             }
            },
            "type": "scattercarpet"
           }
          ],
          "scattergeo": [
           {
            "marker": {
             "colorbar": {
              "outlinewidth": 0,
              "ticks": ""
             }
            },
            "type": "scattergeo"
           }
          ],
          "scattergl": [
           {
            "marker": {
             "colorbar": {
              "outlinewidth": 0,
              "ticks": ""
             }
            },
            "type": "scattergl"
           }
          ],
          "scattermapbox": [
           {
            "marker": {
             "colorbar": {
              "outlinewidth": 0,
              "ticks": ""
             }
            },
            "type": "scattermapbox"
           }
          ],
          "scatterpolar": [
           {
            "marker": {
             "colorbar": {
              "outlinewidth": 0,
              "ticks": ""
             }
            },
            "type": "scatterpolar"
           }
          ],
          "scatterpolargl": [
           {
            "marker": {
             "colorbar": {
              "outlinewidth": 0,
              "ticks": ""
             }
            },
            "type": "scatterpolargl"
           }
          ],
          "scatterternary": [
           {
            "marker": {
             "colorbar": {
              "outlinewidth": 0,
              "ticks": ""
             }
            },
            "type": "scatterternary"
           }
          ],
          "surface": [
           {
            "colorbar": {
             "outlinewidth": 0,
             "ticks": ""
            },
            "colorscale": [
             [
              0,
              "#0d0887"
             ],
             [
              0.1111111111111111,
              "#46039f"
             ],
             [
              0.2222222222222222,
              "#7201a8"
             ],
             [
              0.3333333333333333,
              "#9c179e"
             ],
             [
              0.4444444444444444,
              "#bd3786"
             ],
             [
              0.5555555555555556,
              "#d8576b"
             ],
             [
              0.6666666666666666,
              "#ed7953"
             ],
             [
              0.7777777777777778,
              "#fb9f3a"
             ],
             [
              0.8888888888888888,
              "#fdca26"
             ],
             [
              1,
              "#f0f921"
             ]
            ],
            "type": "surface"
           }
          ],
          "table": [
           {
            "cells": {
             "fill": {
              "color": "#EBF0F8"
             },
             "line": {
              "color": "white"
             }
            },
            "header": {
             "fill": {
              "color": "#C8D4E3"
             },
             "line": {
              "color": "white"
             }
            },
            "type": "table"
           }
          ]
         },
         "layout": {
          "annotationdefaults": {
           "arrowcolor": "#2a3f5f",
           "arrowhead": 0,
           "arrowwidth": 1
          },
          "autotypenumbers": "strict",
          "coloraxis": {
           "colorbar": {
            "outlinewidth": 0,
            "ticks": ""
           }
          },
          "colorscale": {
           "diverging": [
            [
             0,
             "#8e0152"
            ],
            [
             0.1,
             "#c51b7d"
            ],
            [
             0.2,
             "#de77ae"
            ],
            [
             0.3,
             "#f1b6da"
            ],
            [
             0.4,
             "#fde0ef"
            ],
            [
             0.5,
             "#f7f7f7"
            ],
            [
             0.6,
             "#e6f5d0"
            ],
            [
             0.7,
             "#b8e186"
            ],
            [
             0.8,
             "#7fbc41"
            ],
            [
             0.9,
             "#4d9221"
            ],
            [
             1,
             "#276419"
            ]
           ],
           "sequential": [
            [
             0,
             "#0d0887"
            ],
            [
             0.1111111111111111,
             "#46039f"
            ],
            [
             0.2222222222222222,
             "#7201a8"
            ],
            [
             0.3333333333333333,
             "#9c179e"
            ],
            [
             0.4444444444444444,
             "#bd3786"
            ],
            [
             0.5555555555555556,
             "#d8576b"
            ],
            [
             0.6666666666666666,
             "#ed7953"
            ],
            [
             0.7777777777777778,
             "#fb9f3a"
            ],
            [
             0.8888888888888888,
             "#fdca26"
            ],
            [
             1,
             "#f0f921"
            ]
           ],
           "sequentialminus": [
            [
             0,
             "#0d0887"
            ],
            [
             0.1111111111111111,
             "#46039f"
            ],
            [
             0.2222222222222222,
             "#7201a8"
            ],
            [
             0.3333333333333333,
             "#9c179e"
            ],
            [
             0.4444444444444444,
             "#bd3786"
            ],
            [
             0.5555555555555556,
             "#d8576b"
            ],
            [
             0.6666666666666666,
             "#ed7953"
            ],
            [
             0.7777777777777778,
             "#fb9f3a"
            ],
            [
             0.8888888888888888,
             "#fdca26"
            ],
            [
             1,
             "#f0f921"
            ]
           ]
          },
          "colorway": [
           "#636efa",
           "#EF553B",
           "#00cc96",
           "#ab63fa",
           "#FFA15A",
           "#19d3f3",
           "#FF6692",
           "#B6E880",
           "#FF97FF",
           "#FECB52"
          ],
          "font": {
           "color": "#2a3f5f"
          },
          "geo": {
           "bgcolor": "white",
           "lakecolor": "white",
           "landcolor": "#E5ECF6",
           "showlakes": true,
           "showland": true,
           "subunitcolor": "white"
          },
          "hoverlabel": {
           "align": "left"
          },
          "hovermode": "closest",
          "mapbox": {
           "style": "light"
          },
          "paper_bgcolor": "white",
          "plot_bgcolor": "#E5ECF6",
          "polar": {
           "angularaxis": {
            "gridcolor": "white",
            "linecolor": "white",
            "ticks": ""
           },
           "bgcolor": "#E5ECF6",
           "radialaxis": {
            "gridcolor": "white",
            "linecolor": "white",
            "ticks": ""
           }
          },
          "scene": {
           "xaxis": {
            "backgroundcolor": "#E5ECF6",
            "gridcolor": "white",
            "gridwidth": 2,
            "linecolor": "white",
            "showbackground": true,
            "ticks": "",
            "zerolinecolor": "white"
           },
           "yaxis": {
            "backgroundcolor": "#E5ECF6",
            "gridcolor": "white",
            "gridwidth": 2,
            "linecolor": "white",
            "showbackground": true,
            "ticks": "",
            "zerolinecolor": "white"
           },
           "zaxis": {
            "backgroundcolor": "#E5ECF6",
            "gridcolor": "white",
            "gridwidth": 2,
            "linecolor": "white",
            "showbackground": true,
            "ticks": "",
            "zerolinecolor": "white"
           }
          },
          "shapedefaults": {
           "line": {
            "color": "#2a3f5f"
           }
          },
          "ternary": {
           "aaxis": {
            "gridcolor": "white",
            "linecolor": "white",
            "ticks": ""
           },
           "baxis": {
            "gridcolor": "white",
            "linecolor": "white",
            "ticks": ""
           },
           "bgcolor": "#E5ECF6",
           "caxis": {
            "gridcolor": "white",
            "linecolor": "white",
            "ticks": ""
           }
          },
          "title": {
           "x": 0.05
          },
          "xaxis": {
           "automargin": true,
           "gridcolor": "white",
           "linecolor": "white",
           "ticks": "",
           "title": {
            "standoff": 15
           },
           "zerolinecolor": "white",
           "zerolinewidth": 2
          },
          "yaxis": {
           "automargin": true,
           "gridcolor": "white",
           "linecolor": "white",
           "ticks": "",
           "title": {
            "standoff": 15
           },
           "zerolinecolor": "white",
           "zerolinewidth": 2
          }
         }
        },
        "title": {
         "text": "Class Distribution for All PNRS"
        }
       }
      }
     },
     "metadata": {},
     "output_type": "display_data"
    },
    {
     "data": {
      "application/vnd.plotly.v1+json": {
       "config": {
        "plotlyServerURL": "https://plot.ly"
       },
       "data": [
        {
         "domain": {
          "x": [
           0,
           1
          ],
          "y": [
           0,
           1
          ]
         },
         "hovertemplate": "canclled_class=%{label}<extra></extra>",
         "labels": [
          "F",
          "F",
          "F",
          "F",
          "F",
          "E",
          "F",
          "E",
          "F",
          "F",
          "F",
          "F",
          "E",
          "F",
          "F",
          "E",
          "F",
          "F",
          "E",
          "F",
          "F",
          "E",
          "F",
          "E",
          "E",
          "E",
          "E",
          "F",
          "F",
          "E",
          "E",
          "F",
          "E",
          "E",
          "F",
          "F",
          "F",
          "F",
          "E",
          "E",
          "E",
          "E",
          "F",
          "F",
          "E",
          "E",
          "F",
          "E",
          "E",
          "F",
          "E",
          "F",
          "F",
          "E",
          "E",
          "E",
          "E",
          "F",
          "E",
          "F",
          "F",
          "F",
          "E",
          "E",
          "E",
          "E",
          "F",
          "E",
          "E",
          "E",
          "E",
          "F",
          "E",
          "E",
          "E",
          "F",
          "F",
          "F",
          "F",
          "F",
          "E",
          "E",
          "F",
          "E",
          "F",
          "E",
          "E",
          "E",
          "E",
          "E",
          "F",
          "F",
          "F",
          "F",
          "F",
          "F",
          "F",
          "F",
          "E",
          "E",
          "E",
          "E",
          "F",
          "F",
          "F",
          "E",
          "E",
          "E",
          "E",
          "E",
          "E",
          "E",
          "F",
          "F",
          "F",
          "E",
          "E",
          "E",
          "E",
          "E",
          "F",
          "F",
          "F",
          "F",
          "E",
          "F",
          "E",
          "E",
          "E",
          "E",
          "E",
          "E",
          "E",
          "E",
          "E",
          "F",
          "F",
          "F",
          "F",
          "F",
          "F",
          "F",
          "F",
          "E",
          "F",
          "E",
          "E",
          "E",
          "E",
          "E",
          "F",
          "F",
          "F",
          "F",
          "F",
          "F",
          "F",
          "F",
          "F",
          "E",
          "E",
          "E",
          "E",
          "E",
          "E",
          "E",
          "E",
          "E",
          "E",
          "E",
          "F",
          "F",
          "F",
          "F",
          "F",
          "F",
          "F",
          "F",
          "E",
          "E",
          "E",
          "E",
          "F",
          "F",
          "F",
          "E",
          "E",
          "E",
          "E",
          "E",
          "E",
          "E",
          "E",
          "E",
          "E",
          "E",
          "E",
          "E",
          "E",
          "E",
          "E",
          "F",
          "F",
          "F",
          "F",
          "F",
          "F",
          "F",
          "F",
          "F",
          "F",
          "F",
          "E",
          "E",
          "E",
          "F",
          "E",
          "E",
          "E",
          "E",
          "E",
          "E",
          "E",
          "E",
          "E",
          "E",
          "E",
          "E",
          "F",
          "F",
          "F",
          "F",
          "F",
          "F",
          "F",
          "F",
          "E",
          "F",
          "E",
          "E",
          "E",
          "E",
          "E",
          "E",
          "E",
          "E",
          "E",
          "E",
          "E",
          "E",
          "E",
          "E",
          "E",
          "F",
          "F",
          "F",
          "F",
          "F",
          "F",
          "F",
          "F",
          "F",
          "F",
          "E",
          "E",
          "E",
          "E",
          "E",
          "E",
          "E",
          "F",
          "F",
          "F",
          "F",
          "F",
          "F",
          "F",
          "F",
          "F",
          "F",
          "F",
          "F",
          "F",
          "F",
          "F",
          "F",
          "F",
          "E",
          "E",
          "E",
          "E",
          "E",
          "E",
          "E",
          "E",
          "E",
          "E",
          "E",
          "E",
          "E",
          "E",
          "E",
          "F",
          "F",
          "F",
          "F",
          "F",
          "F",
          "F",
          "E",
          "E",
          "E",
          "E",
          "E",
          "E",
          "E",
          "E",
          "E",
          "F",
          "F",
          "F",
          "F",
          "F",
          "F",
          "F",
          "F",
          "F",
          "F",
          "F",
          "F",
          "E",
          "E",
          "E",
          "E",
          "E",
          "E",
          "E",
          "E",
          "E",
          "E",
          "E",
          "E",
          "E",
          "E",
          "E",
          "E",
          "E",
          "E",
          "E",
          "E",
          "E",
          "E",
          "F",
          "F",
          "F",
          "E",
          "E",
          "E",
          "E",
          "E",
          "E",
          "E",
          "E",
          "E",
          "E",
          "E",
          "E",
          "E",
          "E",
          "E",
          "F",
          "F",
          "F",
          "F",
          "F",
          "F",
          "F",
          "E",
          "E",
          "E",
          "E",
          "E",
          "E",
          "E",
          "E",
          "E",
          "E",
          "E",
          "E",
          "E",
          "E",
          "E",
          "E",
          "E",
          "F",
          "F",
          "F",
          "E",
          "E",
          "E",
          "E",
          "E",
          "E",
          "E",
          "E",
          "E",
          "E",
          "E",
          "E",
          "E",
          "E",
          "E",
          "E",
          "E",
          "F",
          "F",
          "F",
          "F",
          "F",
          "F",
          "F",
          "F",
          "F",
          "F",
          "F",
          "F",
          "F",
          "F",
          "F",
          "F",
          "F",
          "F",
          "F",
          "E",
          "E",
          "E",
          "E",
          "E",
          "E",
          "E",
          "E",
          "E",
          "E",
          "E",
          "E",
          "E",
          "E",
          "E",
          "E",
          "E",
          "E",
          "E",
          "E",
          "E",
          "E",
          "E",
          "E",
          "E",
          "E",
          "E",
          "E",
          "E",
          "E",
          "E",
          "E",
          "E",
          "E",
          "E",
          "E",
          "E",
          "E",
          "E",
          "E",
          "E",
          "E",
          "E",
          "E",
          "E",
          "E",
          "E",
          "E",
          "E",
          "E",
          "E",
          "E",
          "E",
          "E",
          "E",
          "E",
          "E",
          "E",
          "E",
          "E",
          "E"
         ],
         "legendgroup": "",
         "name": "",
         "showlegend": true,
         "type": "pie"
        }
       ],
       "layout": {
        "legend": {
         "tracegroupgap": 0
        },
        "template": {
         "data": {
          "bar": [
           {
            "error_x": {
             "color": "#2a3f5f"
            },
            "error_y": {
             "color": "#2a3f5f"
            },
            "marker": {
             "line": {
              "color": "#E5ECF6",
              "width": 0.5
             },
             "pattern": {
              "fillmode": "overlay",
              "size": 10,
              "solidity": 0.2
             }
            },
            "type": "bar"
           }
          ],
          "barpolar": [
           {
            "marker": {
             "line": {
              "color": "#E5ECF6",
              "width": 0.5
             },
             "pattern": {
              "fillmode": "overlay",
              "size": 10,
              "solidity": 0.2
             }
            },
            "type": "barpolar"
           }
          ],
          "carpet": [
           {
            "aaxis": {
             "endlinecolor": "#2a3f5f",
             "gridcolor": "white",
             "linecolor": "white",
             "minorgridcolor": "white",
             "startlinecolor": "#2a3f5f"
            },
            "baxis": {
             "endlinecolor": "#2a3f5f",
             "gridcolor": "white",
             "linecolor": "white",
             "minorgridcolor": "white",
             "startlinecolor": "#2a3f5f"
            },
            "type": "carpet"
           }
          ],
          "choropleth": [
           {
            "colorbar": {
             "outlinewidth": 0,
             "ticks": ""
            },
            "type": "choropleth"
           }
          ],
          "contour": [
           {
            "colorbar": {
             "outlinewidth": 0,
             "ticks": ""
            },
            "colorscale": [
             [
              0,
              "#0d0887"
             ],
             [
              0.1111111111111111,
              "#46039f"
             ],
             [
              0.2222222222222222,
              "#7201a8"
             ],
             [
              0.3333333333333333,
              "#9c179e"
             ],
             [
              0.4444444444444444,
              "#bd3786"
             ],
             [
              0.5555555555555556,
              "#d8576b"
             ],
             [
              0.6666666666666666,
              "#ed7953"
             ],
             [
              0.7777777777777778,
              "#fb9f3a"
             ],
             [
              0.8888888888888888,
              "#fdca26"
             ],
             [
              1,
              "#f0f921"
             ]
            ],
            "type": "contour"
           }
          ],
          "contourcarpet": [
           {
            "colorbar": {
             "outlinewidth": 0,
             "ticks": ""
            },
            "type": "contourcarpet"
           }
          ],
          "heatmap": [
           {
            "colorbar": {
             "outlinewidth": 0,
             "ticks": ""
            },
            "colorscale": [
             [
              0,
              "#0d0887"
             ],
             [
              0.1111111111111111,
              "#46039f"
             ],
             [
              0.2222222222222222,
              "#7201a8"
             ],
             [
              0.3333333333333333,
              "#9c179e"
             ],
             [
              0.4444444444444444,
              "#bd3786"
             ],
             [
              0.5555555555555556,
              "#d8576b"
             ],
             [
              0.6666666666666666,
              "#ed7953"
             ],
             [
              0.7777777777777778,
              "#fb9f3a"
             ],
             [
              0.8888888888888888,
              "#fdca26"
             ],
             [
              1,
              "#f0f921"
             ]
            ],
            "type": "heatmap"
           }
          ],
          "heatmapgl": [
           {
            "colorbar": {
             "outlinewidth": 0,
             "ticks": ""
            },
            "colorscale": [
             [
              0,
              "#0d0887"
             ],
             [
              0.1111111111111111,
              "#46039f"
             ],
             [
              0.2222222222222222,
              "#7201a8"
             ],
             [
              0.3333333333333333,
              "#9c179e"
             ],
             [
              0.4444444444444444,
              "#bd3786"
             ],
             [
              0.5555555555555556,
              "#d8576b"
             ],
             [
              0.6666666666666666,
              "#ed7953"
             ],
             [
              0.7777777777777778,
              "#fb9f3a"
             ],
             [
              0.8888888888888888,
              "#fdca26"
             ],
             [
              1,
              "#f0f921"
             ]
            ],
            "type": "heatmapgl"
           }
          ],
          "histogram": [
           {
            "marker": {
             "pattern": {
              "fillmode": "overlay",
              "size": 10,
              "solidity": 0.2
             }
            },
            "type": "histogram"
           }
          ],
          "histogram2d": [
           {
            "colorbar": {
             "outlinewidth": 0,
             "ticks": ""
            },
            "colorscale": [
             [
              0,
              "#0d0887"
             ],
             [
              0.1111111111111111,
              "#46039f"
             ],
             [
              0.2222222222222222,
              "#7201a8"
             ],
             [
              0.3333333333333333,
              "#9c179e"
             ],
             [
              0.4444444444444444,
              "#bd3786"
             ],
             [
              0.5555555555555556,
              "#d8576b"
             ],
             [
              0.6666666666666666,
              "#ed7953"
             ],
             [
              0.7777777777777778,
              "#fb9f3a"
             ],
             [
              0.8888888888888888,
              "#fdca26"
             ],
             [
              1,
              "#f0f921"
             ]
            ],
            "type": "histogram2d"
           }
          ],
          "histogram2dcontour": [
           {
            "colorbar": {
             "outlinewidth": 0,
             "ticks": ""
            },
            "colorscale": [
             [
              0,
              "#0d0887"
             ],
             [
              0.1111111111111111,
              "#46039f"
             ],
             [
              0.2222222222222222,
              "#7201a8"
             ],
             [
              0.3333333333333333,
              "#9c179e"
             ],
             [
              0.4444444444444444,
              "#bd3786"
             ],
             [
              0.5555555555555556,
              "#d8576b"
             ],
             [
              0.6666666666666666,
              "#ed7953"
             ],
             [
              0.7777777777777778,
              "#fb9f3a"
             ],
             [
              0.8888888888888888,
              "#fdca26"
             ],
             [
              1,
              "#f0f921"
             ]
            ],
            "type": "histogram2dcontour"
           }
          ],
          "mesh3d": [
           {
            "colorbar": {
             "outlinewidth": 0,
             "ticks": ""
            },
            "type": "mesh3d"
           }
          ],
          "parcoords": [
           {
            "line": {
             "colorbar": {
              "outlinewidth": 0,
              "ticks": ""
             }
            },
            "type": "parcoords"
           }
          ],
          "pie": [
           {
            "automargin": true,
            "type": "pie"
           }
          ],
          "scatter": [
           {
            "fillpattern": {
             "fillmode": "overlay",
             "size": 10,
             "solidity": 0.2
            },
            "type": "scatter"
           }
          ],
          "scatter3d": [
           {
            "line": {
             "colorbar": {
              "outlinewidth": 0,
              "ticks": ""
             }
            },
            "marker": {
             "colorbar": {
              "outlinewidth": 0,
              "ticks": ""
             }
            },
            "type": "scatter3d"
           }
          ],
          "scattercarpet": [
           {
            "marker": {
             "colorbar": {
              "outlinewidth": 0,
              "ticks": ""
             }
            },
            "type": "scattercarpet"
           }
          ],
          "scattergeo": [
           {
            "marker": {
             "colorbar": {
              "outlinewidth": 0,
              "ticks": ""
             }
            },
            "type": "scattergeo"
           }
          ],
          "scattergl": [
           {
            "marker": {
             "colorbar": {
              "outlinewidth": 0,
              "ticks": ""
             }
            },
            "type": "scattergl"
           }
          ],
          "scattermapbox": [
           {
            "marker": {
             "colorbar": {
              "outlinewidth": 0,
              "ticks": ""
             }
            },
            "type": "scattermapbox"
           }
          ],
          "scatterpolar": [
           {
            "marker": {
             "colorbar": {
              "outlinewidth": 0,
              "ticks": ""
             }
            },
            "type": "scatterpolar"
           }
          ],
          "scatterpolargl": [
           {
            "marker": {
             "colorbar": {
              "outlinewidth": 0,
              "ticks": ""
             }
            },
            "type": "scatterpolargl"
           }
          ],
          "scatterternary": [
           {
            "marker": {
             "colorbar": {
              "outlinewidth": 0,
              "ticks": ""
             }
            },
            "type": "scatterternary"
           }
          ],
          "surface": [
           {
            "colorbar": {
             "outlinewidth": 0,
             "ticks": ""
            },
            "colorscale": [
             [
              0,
              "#0d0887"
             ],
             [
              0.1111111111111111,
              "#46039f"
             ],
             [
              0.2222222222222222,
              "#7201a8"
             ],
             [
              0.3333333333333333,
              "#9c179e"
             ],
             [
              0.4444444444444444,
              "#bd3786"
             ],
             [
              0.5555555555555556,
              "#d8576b"
             ],
             [
              0.6666666666666666,
              "#ed7953"
             ],
             [
              0.7777777777777778,
              "#fb9f3a"
             ],
             [
              0.8888888888888888,
              "#fdca26"
             ],
             [
              1,
              "#f0f921"
             ]
            ],
            "type": "surface"
           }
          ],
          "table": [
           {
            "cells": {
             "fill": {
              "color": "#EBF0F8"
             },
             "line": {
              "color": "white"
             }
            },
            "header": {
             "fill": {
              "color": "#C8D4E3"
             },
             "line": {
              "color": "white"
             }
            },
            "type": "table"
           }
          ]
         },
         "layout": {
          "annotationdefaults": {
           "arrowcolor": "#2a3f5f",
           "arrowhead": 0,
           "arrowwidth": 1
          },
          "autotypenumbers": "strict",
          "coloraxis": {
           "colorbar": {
            "outlinewidth": 0,
            "ticks": ""
           }
          },
          "colorscale": {
           "diverging": [
            [
             0,
             "#8e0152"
            ],
            [
             0.1,
             "#c51b7d"
            ],
            [
             0.2,
             "#de77ae"
            ],
            [
             0.3,
             "#f1b6da"
            ],
            [
             0.4,
             "#fde0ef"
            ],
            [
             0.5,
             "#f7f7f7"
            ],
            [
             0.6,
             "#e6f5d0"
            ],
            [
             0.7,
             "#b8e186"
            ],
            [
             0.8,
             "#7fbc41"
            ],
            [
             0.9,
             "#4d9221"
            ],
            [
             1,
             "#276419"
            ]
           ],
           "sequential": [
            [
             0,
             "#0d0887"
            ],
            [
             0.1111111111111111,
             "#46039f"
            ],
            [
             0.2222222222222222,
             "#7201a8"
            ],
            [
             0.3333333333333333,
             "#9c179e"
            ],
            [
             0.4444444444444444,
             "#bd3786"
            ],
            [
             0.5555555555555556,
             "#d8576b"
            ],
            [
             0.6666666666666666,
             "#ed7953"
            ],
            [
             0.7777777777777778,
             "#fb9f3a"
            ],
            [
             0.8888888888888888,
             "#fdca26"
            ],
            [
             1,
             "#f0f921"
            ]
           ],
           "sequentialminus": [
            [
             0,
             "#0d0887"
            ],
            [
             0.1111111111111111,
             "#46039f"
            ],
            [
             0.2222222222222222,
             "#7201a8"
            ],
            [
             0.3333333333333333,
             "#9c179e"
            ],
            [
             0.4444444444444444,
             "#bd3786"
            ],
            [
             0.5555555555555556,
             "#d8576b"
            ],
            [
             0.6666666666666666,
             "#ed7953"
            ],
            [
             0.7777777777777778,
             "#fb9f3a"
            ],
            [
             0.8888888888888888,
             "#fdca26"
            ],
            [
             1,
             "#f0f921"
            ]
           ]
          },
          "colorway": [
           "#636efa",
           "#EF553B",
           "#00cc96",
           "#ab63fa",
           "#FFA15A",
           "#19d3f3",
           "#FF6692",
           "#B6E880",
           "#FF97FF",
           "#FECB52"
          ],
          "font": {
           "color": "#2a3f5f"
          },
          "geo": {
           "bgcolor": "white",
           "lakecolor": "white",
           "landcolor": "#E5ECF6",
           "showlakes": true,
           "showland": true,
           "subunitcolor": "white"
          },
          "hoverlabel": {
           "align": "left"
          },
          "hovermode": "closest",
          "mapbox": {
           "style": "light"
          },
          "paper_bgcolor": "white",
          "plot_bgcolor": "#E5ECF6",
          "polar": {
           "angularaxis": {
            "gridcolor": "white",
            "linecolor": "white",
            "ticks": ""
           },
           "bgcolor": "#E5ECF6",
           "radialaxis": {
            "gridcolor": "white",
            "linecolor": "white",
            "ticks": ""
           }
          },
          "scene": {
           "xaxis": {
            "backgroundcolor": "#E5ECF6",
            "gridcolor": "white",
            "gridwidth": 2,
            "linecolor": "white",
            "showbackground": true,
            "ticks": "",
            "zerolinecolor": "white"
           },
           "yaxis": {
            "backgroundcolor": "#E5ECF6",
            "gridcolor": "white",
            "gridwidth": 2,
            "linecolor": "white",
            "showbackground": true,
            "ticks": "",
            "zerolinecolor": "white"
           },
           "zaxis": {
            "backgroundcolor": "#E5ECF6",
            "gridcolor": "white",
            "gridwidth": 2,
            "linecolor": "white",
            "showbackground": true,
            "ticks": "",
            "zerolinecolor": "white"
           }
          },
          "shapedefaults": {
           "line": {
            "color": "#2a3f5f"
           }
          },
          "ternary": {
           "aaxis": {
            "gridcolor": "white",
            "linecolor": "white",
            "ticks": ""
           },
           "baxis": {
            "gridcolor": "white",
            "linecolor": "white",
            "ticks": ""
           },
           "bgcolor": "#E5ECF6",
           "caxis": {
            "gridcolor": "white",
            "linecolor": "white",
            "ticks": ""
           }
          },
          "title": {
           "x": 0.05
          },
          "xaxis": {
           "automargin": true,
           "gridcolor": "white",
           "linecolor": "white",
           "ticks": "",
           "title": {
            "standoff": 15
           },
           "zerolinecolor": "white",
           "zerolinewidth": 2
          },
          "yaxis": {
           "automargin": true,
           "gridcolor": "white",
           "linecolor": "white",
           "ticks": "",
           "title": {
            "standoff": 15
           },
           "zerolinecolor": "white",
           "zerolinewidth": 2
          }
         }
        },
        "title": {
         "text": "Class Distribution for Cancelled PNRS"
        }
       }
      }
     },
     "metadata": {},
     "output_type": "display_data"
    }
   ],
   "source": [
    "# plot for class distribution for cancelled flights\n",
    "fig = px.pie(df, names='allocated_classes', title='Class Distribution for All PNRS')\n",
    "\n",
    "# plot for class distribution for cancelled flights\n",
    "fig2 = px.pie(df, names='canclled_class', title='Class Distribution for Cancelled PNRS')\n",
    "fig.show()\n",
    "fig2.show()\n",
    "\n"
   ]
  },
  {
   "cell_type": "code",
   "execution_count": 7,
   "metadata": {},
   "outputs": [
    {
     "name": "stdout",
     "output_type": "stream",
     "text": [
      "Mean Delay: 36.05383838383838 hours, std_dev: 18.872059477531337\n"
     ]
    },
    {
     "data": {
      "application/vnd.plotly.v1+json": {
       "config": {
        "plotlyServerURL": "https://plot.ly"
       },
       "data": [
        {
         "alignmentgroup": "True",
         "hovertemplate": "pnr=%{x}<br>allocated_flights_score=%{y}<extra></extra>",
         "legendgroup": "",
         "marker": {
          "color": "blue",
          "pattern": {
           "shape": ""
          }
         },
         "name": "",
         "offsetgroup": "",
         "orientation": "v",
         "showlegend": false,
         "textposition": "auto",
         "type": "bar",
         "x": [
          "HHBZ71",
          "SDUJ66",
          "DVFE61",
          "VUFI57",
          "SKUA12",
          "YCFY20",
          "MAKS27",
          "BVGP53",
          "MJGC88",
          "ZKHV21",
          "PYHP39",
          "NZDT59",
          "XEKG81",
          "CGIO61",
          "EVXJ95",
          "NQET33",
          "XYRW70",
          "BMPL83",
          "LERB88",
          "SSRY96",
          "BHFM82",
          "GOQY43",
          "OMYB89",
          "RGIO83",
          "EECE55",
          "WFRB77",
          "MDXO87",
          "SAEN79",
          "WUMO52",
          "UNCM41",
          "KVBJ89",
          "QMQZ86",
          "OIIX82",
          "IUHG90",
          "MPMX64",
          "OXBM44",
          "QRUC80",
          "PSRW66",
          "MIAT30",
          "VBFE55",
          "TAIZ87",
          "YEIQ10",
          "DZXA68",
          "LNTU75",
          "FKUZ11",
          "UAMR95",
          "JKPY74",
          "MQVH27",
          "UMBY94",
          "SIZM49",
          "KUCS34",
          "MHGN40",
          "UXJB75",
          "HIQR56",
          "QJUH52",
          "MGXD95",
          "TQKO83",
          "TQME21",
          "WSLR16",
          "MAKF53",
          "DGWC65",
          "PLJA16",
          "DJIQ49",
          "IABG33",
          "CRAX19",
          "LEMX32",
          "SYJU33",
          "SYWZ82",
          "WDES82",
          "NKAG77",
          "ZXAS14",
          "GKEX23",
          "NJYP36",
          "SHKX32",
          "CVYZ12",
          "SFXB99",
          "KJBW36",
          "VGAM26",
          "ZXWU97",
          "BLUG39",
          "WETV31",
          "STJC26",
          "GVJX51",
          "NXIE96",
          "QGKG60",
          "ZDCR88",
          "VWJG33",
          "LFFG30",
          "XNWT76",
          "LAZX16",
          "OCZA55",
          "QQQO76",
          "UDFV52",
          "OGUV31",
          "PTDC81",
          "CDHS51",
          "MWHA69",
          "FGRO78",
          "ZLFS69",
          "ZDHE28",
          "ZHYQ58",
          "HGQV61",
          "YYZK76",
          "KVAQ89",
          "ETIV54",
          "YADJ50",
          "DEWR55",
          "IAPJ59",
          "VOVU55",
          "ZQHE32",
          "FYSX16",
          "QDUN60",
          "NGQJ46",
          "GUAU64",
          "FRDT60",
          "FSNQ98",
          "ZNWD27",
          "EUBR62",
          "ZLEF86",
          "ORUR32",
          "JCQH28",
          "JFFG88",
          "HNIU84",
          "KJHI85",
          "GMHO31",
          "GDLS51",
          "CPKB55",
          "IGWJ82",
          "YGII83",
          "ZTBI89",
          "IUUO84",
          "MBAM17",
          "QPYJ53",
          "CWZX77",
          "VLIQ18",
          "NZLG27",
          "OFRV69",
          "ZTUQ49",
          "PEXT79",
          "SDON87",
          "EZBC54",
          "PQUB72",
          "OSXT48",
          "PNNK58",
          "WJMN79",
          "XTNH59",
          "RNKT66",
          "VAXI35",
          "OIOG94",
          "KMJT64",
          "OUMP14",
          "RNHC46",
          "RWUR57",
          "ZJJW20",
          "TOAW70",
          "MMUU86",
          "ERAY33",
          "TAFR87",
          "DCNF10",
          "FKHH76",
          "LBDC93",
          "EJKT27",
          "TLEF33",
          "VJCQ14",
          "UXAS88",
          "YFXR19",
          "DBFZ64",
          "EPAQ16",
          "ROQR61",
          "PXBU41",
          "BKLR94",
          "ALHS41",
          "FBGT91",
          "LESF66",
          "SROP81",
          "YEQZ86",
          "VEFY39",
          "QITU67",
          "EUTS74",
          "WNHW64",
          "HVQI51",
          "LTOP61",
          "LLEF53",
          "BTKY58",
          "MGHI53",
          "LSOQ56",
          "YVPJ82",
          "THRW51",
          "JNZQ22",
          "IYTB69",
          "JASH81",
          "VRTK46",
          "QVZR28",
          "ZTLP21",
          "SHSG52",
          "PYKY47",
          "VNJL91",
          "TGLA19",
          "FAEK13",
          "ACKK33",
          "XBAR37",
          "WRFX66",
          "HLWQ69",
          "KNDJ88",
          "XVCQ73",
          "ADCH37",
          "LAZY29",
          "JSOP84",
          "NBLR72",
          "HVFP61",
          "CIDM82",
          "ELTK72",
          "ELES76",
          "DQVZ74",
          "VZYV16",
          "YPQM28",
          "YGXX40",
          "BWHE51",
          "ERTF56",
          "ZHEV67",
          "IZYT94",
          "KUDS27",
          "YVAG67",
          "CGMX55",
          "PLQB19",
          "YPRL90",
          "DNHG88",
          "RHKC58",
          "NGDC92",
          "CFPB37",
          "GVVD60",
          "FMMN51",
          "HIGU55",
          "GECZ65",
          "HGJV99",
          "TNCT92",
          "VBQJ24",
          "MJCQ77",
          "DSVM73",
          "VEJG80",
          "ITBC65",
          "CBJS81",
          "MLHN86",
          "HPZP14",
          "EWOA44",
          "MHXK85",
          "FQOX52",
          "NFPD22",
          "UKYC18",
          "XEUB20",
          "BHTJ96",
          "FNQP86",
          "WXNR77",
          "CLPY88",
          "HBVI25",
          "RJLR15",
          "IAFE92",
          "SBED48",
          "JFFJ40",
          "HNRJ86",
          "QIYI53",
          "PAON66",
          "RSIM44",
          "ALAX84",
          "BQTB82",
          "SRON53",
          "EWON83",
          "UJTN27",
          "JDXT39",
          "YZPW46",
          "VDVN10",
          "CNKT67",
          "NOTC40",
          "NVCA93",
          "MSZL95",
          "CWMG83",
          "GJBD30",
          "RMNS44",
          "GLZH70",
          "KVEF56",
          "GMDF29",
          "JDAQ43",
          "YNVH98",
          "ADNY69",
          "LBBF92",
          "TAFO80",
          "GWZT84",
          "NBIC95",
          "WVNN63",
          "ZFIR69",
          "GBEV32",
          "LTPM72",
          "TFCZ84",
          "NKMQ66",
          "FELL42",
          "LVCF80",
          "VCBE94",
          "XUJW57",
          "BQTI44",
          "HVYQ50",
          "YWFS71",
          "WGNQ78",
          "KFTY31",
          "GOVS59",
          "ASVC73",
          "QYGB61",
          "ATIE88",
          "TDMB51",
          "QJDE49",
          "DWGT72",
          "RXOE67",
          "PJSW75",
          "SPXR29",
          "SBTM18",
          "UQDG53",
          "FBXP28",
          "WDLY71",
          "FNGR35",
          "XABE41",
          "FTGB88",
          "AOAY42",
          "ENTR65",
          "IMRP11",
          "ROMJ23",
          "YYFD12",
          "WQYF77",
          "EZJQ34",
          "PCMV31",
          "VYLL99",
          "ZNZN28",
          "IBTM27",
          "XWHL99",
          "DUIE61",
          "TWMV60",
          "BGEG92",
          "RMZJ88",
          "XSTW93",
          "REVI55",
          "GYIO26",
          "KYPS48",
          "QKFL16",
          "SEDO49",
          "IIND68",
          "ZWKV35",
          "HANJ53",
          "DBRI80",
          "PESX80",
          "XJLH35",
          "WBDR45",
          "KDKQ63",
          "MBSM82",
          "KJZW13",
          "TXCF52",
          "AKKC40",
          "ANGJ31",
          "SLWF58",
          "ISPE89",
          "HUKX32",
          "OVGT73",
          "SZQS66",
          "PCXW92",
          "HSWI28",
          "QFQU21",
          "CWNP76",
          "KCQQ68",
          "JTSI96",
          "YYSA99",
          "HBDM25",
          "XFNO62",
          "QVQI21",
          "KZMX40",
          "MZBS30",
          "FNON77",
          "NPYR39",
          "YMPM85",
          "NFTL30",
          "SYWD80",
          "LEEB66",
          "ARVN27",
          "IISW62",
          "VJXW66",
          "JNPB82",
          "PEFW32",
          "KZGI84",
          "VDDA36",
          "CQAZ15",
          "VBEI50",
          "SPLX71",
          "QTMO12",
          "MDMH38",
          "NABH75",
          "WJXU73",
          "QJNK58",
          "NQXC83",
          "GTZG73",
          "QXPI96",
          "VKIF54",
          "SDPS98",
          "OJRQ64",
          "POBU85",
          "LABW39",
          "EUBB46",
          "ESNZ73",
          "URTD46",
          "OHAQ57",
          "SKOF68",
          "MGVZ29",
          "IXZJ80",
          "IKXG12",
          "LUER90",
          "OSOJ58",
          "HPAH52",
          "ENMX14",
          "SRYJ83",
          "GVTW47",
          "WJFY37",
          "CSSK72",
          "EPTO88",
          "PUUA42",
          "OSUE50",
          "MTKY90",
          "GRYG45",
          "CJFG55",
          "CDMS24",
          "UCEV32",
          "HHSD24",
          "NJPX66",
          "HRKK97",
          "RPKH30",
          "COHT21",
          "MSNO65",
          "IQCO42",
          "VLCB67",
          "AXGK85",
          "BFRO63",
          "FKYE25",
          "VNSB37",
          "NCGK60",
          "UEFQ82",
          "YQQS17",
          "NEOL38",
          "LJQT67",
          "HFRI32",
          "QMOM17",
          "OZZY47",
          "JQTS12",
          "YJLZ64",
          "DFIE34",
          "BNUI96",
          "DWRK59",
          "JGML71",
          "DYRK47",
          "LLIH12",
          "CIYF30",
          "QSYZ21",
          "YWLE82",
          "MKEC26",
          "YGUC74",
          "IDYX76",
          "TBYG80",
          "CIVJ43",
          "ZJHG87",
          "YWUG56",
          "LVHU92",
          "EEAM43",
          "DXGB32",
          "UGGT20",
          "CVTF93",
          "GCQO47",
          "PSCH51",
          "MFWE70",
          "HDTU72",
          "JXBM73",
          "YKRW85",
          "OJJD32",
          "MMDF31",
          "EVAK73",
          "PTUY96",
          "NADC75",
          "GSDB28",
          "KWFB47",
          "TTZS56",
          "AROQ67",
          "OBNN66",
          "XLKI20",
          "ULFL16",
          "VFDB97",
          "GTCV95",
          "FMQN78",
          "KQWR50",
          "TXVU12",
          "UNTY50",
          "CZGN82",
          "OEQB41"
         ],
         "xaxis": "x",
         "y": [
          -1,
          -1,
          -1,
          -1,
          -1,
          -1,
          -1,
          -1,
          -1,
          -1,
          -1,
          -1,
          -1,
          -1,
          -1,
          -1,
          -1,
          -1,
          -1,
          -1,
          -1,
          -1,
          -1,
          -1,
          -1,
          -1,
          -1,
          -1,
          -1,
          -1,
          -1,
          -1,
          -1,
          -1,
          -1,
          -1,
          -1,
          -1,
          -1,
          -1,
          -1,
          -1,
          -1,
          -1,
          -1,
          -1,
          -1,
          -1,
          -1,
          -1,
          -1,
          -1,
          -1,
          -1,
          -1,
          -1,
          -1,
          -1,
          -1,
          -1,
          -1,
          -1,
          -1,
          -1,
          -1,
          -1,
          -1,
          -1,
          -1,
          -1,
          -1,
          -1,
          -1,
          -1,
          -1,
          -1,
          -1,
          -1,
          -1,
          -1,
          -1,
          -1,
          -1,
          -1,
          -1,
          -1,
          -1,
          -1,
          -1,
          -1,
          -1,
          -1,
          -1,
          -1,
          -1,
          -1,
          -1,
          -1,
          -1,
          -1,
          -1,
          -1,
          -1,
          -1,
          -1,
          -1,
          -1,
          -1,
          -1,
          -1,
          -1,
          -1,
          -1,
          -1,
          -1,
          -1,
          -1,
          -1,
          -1,
          -1,
          -1,
          -1,
          -1,
          -1,
          -1,
          -1,
          -1,
          -1,
          -1,
          -1,
          -1,
          -1,
          -1,
          -1,
          -1,
          -1,
          -1,
          -1,
          -1,
          -1,
          -1,
          -1,
          -1,
          -1,
          -1,
          -1,
          -1,
          -1,
          -1,
          -1,
          -1,
          -1,
          -1,
          -1,
          -1,
          -1,
          -1,
          -1,
          -1,
          -1,
          -1,
          -1,
          -1,
          -1,
          14.030540329784811,
          14.030540329784811,
          15.105926396008943,
          15.105926396008943,
          15.105926396008943,
          15.105926396008943,
          15.105926396008943,
          15.105926396008943,
          15.105926396008943,
          16.606748551795796,
          16.606748551795796,
          16.606748551795796,
          16.606748551795796,
          21.901238602265828,
          23.033270964242345,
          23.033270964242345,
          23.033270964242345,
          57.54588407419891,
          57.54588407419891,
          57.54588407419891,
          58.31643186160328,
          58.31643186160328,
          59.39181792782741,
          59.39181792782741,
          59.39181792782741,
          59.39181792782741,
          60.89264008361427,
          151.36089314363127,
          151.36089314363127,
          151.36089314363127,
          151.36089314363127,
          151.36089314363127,
          151.36089314363127,
          893.114669625583,
          893.114669625583,
          893.114669625583,
          893.114669625583,
          893.114669625583,
          972.9887214639712,
          972.9887214639712,
          1117.718695351646,
          1117.718695351646,
          1117.718695351646,
          1117.718695351646,
          1117.718695351646,
          1117.718695351646,
          1117.718695351646,
          1117.718695351646,
          1117.718695351646,
          1117.718695351646,
          1117.718695351646,
          2331.7580607331665,
          2331.7580607331665,
          2331.7580607331665,
          2331.7580607331665,
          2570.6323784582905,
          2570.6323784582905,
          2905.675572884522,
          2905.675572884522,
          2905.675572884522,
          2905.675572884522,
          2905.675572884522,
          3290.6584412382326,
          3325.171054348189,
          3325.171054348189,
          3325.171054348189,
          3325.171054348189,
          3325.171054348189,
          3418.9860634176216,
          3512.9708760913504,
          4267.604680773223,
          4267.604680773223,
          4267.604680773223,
          4267.604680773223,
          7472.729774003798,
          7472.729774003798,
          7472.729774003798,
          7472.729774003798,
          7472.729774003798,
          7472.729774003798,
          7472.729774003798,
          7472.729774003798,
          7472.729774003798,
          7472.729774003798,
          7472.729774003798,
          7472.729774003798,
          7472.729774003798,
          7472.729774003798,
          7472.729774003798,
          7472.729774003798,
          7472.729774003798,
          7472.729774003798,
          7711.604091728923,
          7711.604091728923,
          7711.604091728923,
          7711.604091728923,
          7711.604091728923,
          7711.604091728923,
          7711.604091728923,
          7711.604091728923,
          7711.604091728923,
          7711.604091728923,
          7711.604091728923,
          22743.22930766798,
          22743.22930766798,
          22743.22930766798,
          25547.44606276492,
          25547.44606276492,
          25548.52144883114,
          26731.56919092677,
          26731.56919092677,
          26734.47655795536,
          26895.12054598802,
          27626.29439018229,
          27626.29439018229,
          28412.06638440971,
          31888.602601124272,
          31888.602601124272,
          31888.602601124272,
          31888.602601124272,
          31888.602601124272,
          31888.602601124272,
          32946.33952047275,
          32946.33952047275,
          32946.33952047275,
          44478.50486877791,
          44478.50486877791,
          44631.03396763459,
          45045.28846541426,
          50560.4759689447,
          53518.01350451203,
          53518.01350451203,
          53530.19599847274,
          53530.19599847274,
          53530.19599847274,
          53530.19599847274,
          58602.66368144599,
          58610.36448633636,
          58610.36448633636,
          58610.36448633636,
          60278.57050869055,
          60278.57050869055,
          60278.57050869055,
          61405.616576861976,
          61405.616576861976,
          61405.616576861976,
          61405.616576861976,
          61405.616576861976,
          61405.616576861976,
          61405.616576861976,
          61405.616576861976,
          61405.616576861976,
          61405.616576861976,
          61405.616576861976,
          61405.616576861976,
          75395.81197330276,
          75398.71934033136,
          75398.71934033136,
          77126.33149921044,
          77126.33149921044,
          77126.33149921044,
          77138.51399317115,
          77150.69648713185,
          81901.60751000454,
          81901.60751000454,
          81901.60751000454,
          81901.60751000454,
          81901.60751000454,
          81901.60751000454,
          81901.60751000454,
          81901.60751000454,
          81901.60751000454,
          81901.60751000454,
          85548.14934134667,
          85548.14934134667,
          85755.27659023652,
          85755.27659023652,
          85816.29620496514,
          85816.29620496514,
          85816.29620496514,
          85816.29620496514,
          85816.29620496514,
          85816.29620496514,
          85816.29620496514,
          85816.29620496514,
          85816.29620496514,
          85816.29620496514,
          85816.29620496514,
          85816.29620496514,
          85816.29620496514,
          85816.29620496514,
          167871.25402230883,
          167871.25402230883,
          167871.25402230883,
          167871.25402230883,
          167871.25402230883,
          167871.25402230883,
          167871.25402230883,
          167871.25402230883,
          167871.25402230883,
          205657.48865167535,
          205657.48865167535,
          205657.48865167535,
          205657.48865167535,
          218553.62077773456,
          218553.62077773456,
          218553.62077773456,
          218553.62077773456,
          317069.27175680967,
          320187.3633573873,
          320221.87597049726,
          320221.87597049726,
          320221.87597049726,
          320221.87597049726,
          320221.87597049726,
          320221.87597049726,
          360142.61521612696,
          360142.61521612696,
          360142.61521612696,
          934772.3599046576,
          934772.3599046576,
          934772.3599046576,
          934772.3599046576,
          934772.3599046576,
          934772.3599046576,
          934772.3599046576,
          1210919.8154581648,
          1210919.8154581648,
          1210919.8154581648,
          1251836.9308318768,
          1251836.9308318768,
          1422964.2937407668,
          1422964.2937407668,
          1422964.2937407668,
          1432292.264382668,
          1432292.264382668,
          1441864.9269568336,
          1441864.9269568336,
          1441864.9269568336,
          1451437.5895309988,
          1552209.9868167904,
          1552209.9868167904,
          1552209.9868167904,
          1552209.9868167904,
          6367310.79060213,
          6367313.697969158,
          6367627.109631351,
          6367627.109631351,
          6369041.310128038,
          6369041.310128038,
          6369053.492621998,
          7522304.764782431,
          7522304.764782431,
          7522304.764782431,
          12500283.024119752,
          12500283.024119752,
          16963848.515953355,
          16963848.515953355,
          16963848.515953355,
          16963848.515953355,
          16963848.515953355,
          16963848.515953355,
          16963848.515953355,
          16963848.515953355,
          16963848.515953355,
          16963848.515953355,
          16963848.515953355,
          16963848.515953355,
          16963848.515953355,
          17308025.645299554,
          17308025.645299554,
          17309311.428228952,
          17309311.428228952,
          17309311.428228952,
          17309311.428228952,
          17309311.428228952,
          17309311.428228952,
          17309311.428228952,
          17309311.428228952,
          17309311.428228952,
          17309311.428228952,
          17309311.428228952,
          17309311.428228952,
          17309311.428228952,
          17309311.428228952,
          17309311.428228952,
          17309311.428228952,
          17310841.90309062,
          17310841.90309062,
          17317353.615941454,
          17317353.615941454,
          17317353.615941454,
          17317353.615941454,
          17317353.615941454,
          17317353.615941454,
          17317353.615941454,
          17317353.615941454,
          17317353.615941454,
          17317353.615941454,
          17317353.615941454,
          17317353.615941454,
          17317353.615941454,
          17317353.615941454,
          17326926.27851562,
          39832947.39977076,
          39833678.57361496,
          39833678.57361496,
          39833678.57361496,
          39874595.68898866,
          39874595.68898866,
          39874595.68898866,
          44018142.81698837,
          44018142.81698837,
          44018142.81698837,
          44018145.7243554,
          44018145.7243554,
          44018145.7243554,
          44018145.7243554,
          44018145.7243554,
          44018145.7243554,
          44018145.7243554,
          45433944.842607856,
          45433944.842607856,
          45433944.842607856,
          91635875.05331758,
          91635875.05331758,
          223253492.0081906,
          223253492.0081906,
          223253492.0081906,
          223253492.0081906
         ],
         "yaxis": "y"
        },
        {
         "hovertemplate": "pnr=%{x}<br>delay=%{y}<extra></extra>",
         "legendgroup": "",
         "marker": {
          "color": "#636efa",
          "symbol": "circle"
         },
         "mode": "markers",
         "name": "",
         "orientation": "v",
         "showlegend": false,
         "type": "scatter",
         "x": [
          "HHBZ71",
          "SDUJ66",
          "DVFE61",
          "VUFI57",
          "SKUA12",
          "YCFY20",
          "MAKS27",
          "BVGP53",
          "MJGC88",
          "ZKHV21",
          "PYHP39",
          "NZDT59",
          "XEKG81",
          "CGIO61",
          "EVXJ95",
          "NQET33",
          "XYRW70",
          "BMPL83",
          "LERB88",
          "SSRY96",
          "BHFM82",
          "GOQY43",
          "OMYB89",
          "RGIO83",
          "EECE55",
          "WFRB77",
          "MDXO87",
          "SAEN79",
          "WUMO52",
          "UNCM41",
          "KVBJ89",
          "QMQZ86",
          "OIIX82",
          "IUHG90",
          "MPMX64",
          "OXBM44",
          "QRUC80",
          "PSRW66",
          "MIAT30",
          "VBFE55",
          "TAIZ87",
          "YEIQ10",
          "DZXA68",
          "LNTU75",
          "FKUZ11",
          "UAMR95",
          "JKPY74",
          "MQVH27",
          "UMBY94",
          "SIZM49",
          "KUCS34",
          "MHGN40",
          "UXJB75",
          "HIQR56",
          "QJUH52",
          "MGXD95",
          "TQKO83",
          "TQME21",
          "WSLR16",
          "MAKF53",
          "DGWC65",
          "PLJA16",
          "DJIQ49",
          "IABG33",
          "CRAX19",
          "LEMX32",
          "SYJU33",
          "SYWZ82",
          "WDES82",
          "NKAG77",
          "ZXAS14",
          "GKEX23",
          "NJYP36",
          "SHKX32",
          "CVYZ12",
          "SFXB99",
          "KJBW36",
          "VGAM26",
          "ZXWU97",
          "BLUG39",
          "WETV31",
          "STJC26",
          "GVJX51",
          "NXIE96",
          "QGKG60",
          "ZDCR88",
          "VWJG33",
          "LFFG30",
          "XNWT76",
          "LAZX16",
          "OCZA55",
          "QQQO76",
          "UDFV52",
          "OGUV31",
          "PTDC81",
          "CDHS51",
          "MWHA69",
          "FGRO78",
          "ZLFS69",
          "ZDHE28",
          "ZHYQ58",
          "HGQV61",
          "YYZK76",
          "KVAQ89",
          "ETIV54",
          "YADJ50",
          "DEWR55",
          "IAPJ59",
          "VOVU55",
          "ZQHE32",
          "FYSX16",
          "QDUN60",
          "NGQJ46",
          "GUAU64",
          "FRDT60",
          "FSNQ98",
          "ZNWD27",
          "EUBR62",
          "ZLEF86",
          "ORUR32",
          "JCQH28",
          "JFFG88",
          "HNIU84",
          "KJHI85",
          "GMHO31",
          "GDLS51",
          "CPKB55",
          "IGWJ82",
          "YGII83",
          "ZTBI89",
          "IUUO84",
          "MBAM17",
          "QPYJ53",
          "CWZX77",
          "VLIQ18",
          "NZLG27",
          "OFRV69",
          "ZTUQ49",
          "PEXT79",
          "SDON87",
          "EZBC54",
          "PQUB72",
          "OSXT48",
          "PNNK58",
          "WJMN79",
          "XTNH59",
          "RNKT66",
          "VAXI35",
          "OIOG94",
          "KMJT64",
          "OUMP14",
          "RNHC46",
          "RWUR57",
          "ZJJW20",
          "TOAW70",
          "MMUU86",
          "ERAY33",
          "TAFR87",
          "DCNF10",
          "FKHH76",
          "LBDC93",
          "EJKT27",
          "TLEF33",
          "VJCQ14",
          "UXAS88",
          "YFXR19",
          "DBFZ64",
          "EPAQ16",
          "ROQR61",
          "PXBU41",
          "BKLR94",
          "ALHS41",
          "FBGT91",
          "LESF66",
          "SROP81",
          "YEQZ86",
          "VEFY39",
          "QITU67",
          "EUTS74",
          "WNHW64",
          "HVQI51",
          "LTOP61",
          "LLEF53",
          "BTKY58",
          "MGHI53",
          "LSOQ56",
          "YVPJ82",
          "THRW51",
          "JNZQ22",
          "IYTB69",
          "JASH81",
          "VRTK46",
          "QVZR28",
          "ZTLP21",
          "SHSG52",
          "PYKY47",
          "VNJL91",
          "TGLA19",
          "FAEK13",
          "ACKK33",
          "XBAR37",
          "WRFX66",
          "HLWQ69",
          "KNDJ88",
          "XVCQ73",
          "ADCH37",
          "LAZY29",
          "JSOP84",
          "NBLR72",
          "HVFP61",
          "CIDM82",
          "ELTK72",
          "ELES76",
          "DQVZ74",
          "VZYV16",
          "YPQM28",
          "YGXX40",
          "BWHE51",
          "ERTF56",
          "ZHEV67",
          "IZYT94",
          "KUDS27",
          "YVAG67",
          "CGMX55",
          "PLQB19",
          "YPRL90",
          "DNHG88",
          "RHKC58",
          "NGDC92",
          "CFPB37",
          "GVVD60",
          "FMMN51",
          "HIGU55",
          "GECZ65",
          "HGJV99",
          "TNCT92",
          "VBQJ24",
          "MJCQ77",
          "DSVM73",
          "VEJG80",
          "ITBC65",
          "CBJS81",
          "MLHN86",
          "HPZP14",
          "EWOA44",
          "MHXK85",
          "FQOX52",
          "NFPD22",
          "UKYC18",
          "XEUB20",
          "BHTJ96",
          "FNQP86",
          "WXNR77",
          "CLPY88",
          "HBVI25",
          "RJLR15",
          "IAFE92",
          "SBED48",
          "JFFJ40",
          "HNRJ86",
          "QIYI53",
          "PAON66",
          "RSIM44",
          "ALAX84",
          "BQTB82",
          "SRON53",
          "EWON83",
          "UJTN27",
          "JDXT39",
          "YZPW46",
          "VDVN10",
          "CNKT67",
          "NOTC40",
          "NVCA93",
          "MSZL95",
          "CWMG83",
          "GJBD30",
          "RMNS44",
          "GLZH70",
          "KVEF56",
          "GMDF29",
          "JDAQ43",
          "YNVH98",
          "ADNY69",
          "LBBF92",
          "TAFO80",
          "GWZT84",
          "NBIC95",
          "WVNN63",
          "ZFIR69",
          "GBEV32",
          "LTPM72",
          "TFCZ84",
          "NKMQ66",
          "FELL42",
          "LVCF80",
          "VCBE94",
          "XUJW57",
          "BQTI44",
          "HVYQ50",
          "YWFS71",
          "WGNQ78",
          "KFTY31",
          "GOVS59",
          "ASVC73",
          "QYGB61",
          "ATIE88",
          "TDMB51",
          "QJDE49",
          "DWGT72",
          "RXOE67",
          "PJSW75",
          "SPXR29",
          "SBTM18",
          "UQDG53",
          "FBXP28",
          "WDLY71",
          "FNGR35",
          "XABE41",
          "FTGB88",
          "AOAY42",
          "ENTR65",
          "IMRP11",
          "ROMJ23",
          "YYFD12",
          "WQYF77",
          "EZJQ34",
          "PCMV31",
          "VYLL99",
          "ZNZN28",
          "IBTM27",
          "XWHL99",
          "DUIE61",
          "TWMV60",
          "BGEG92",
          "RMZJ88",
          "XSTW93",
          "REVI55",
          "GYIO26",
          "KYPS48",
          "QKFL16",
          "SEDO49",
          "IIND68",
          "ZWKV35",
          "HANJ53",
          "DBRI80",
          "PESX80",
          "XJLH35",
          "WBDR45",
          "KDKQ63",
          "MBSM82",
          "KJZW13",
          "TXCF52",
          "AKKC40",
          "ANGJ31",
          "SLWF58",
          "ISPE89",
          "HUKX32",
          "OVGT73",
          "SZQS66",
          "PCXW92",
          "HSWI28",
          "QFQU21",
          "CWNP76",
          "KCQQ68",
          "JTSI96",
          "YYSA99",
          "HBDM25",
          "XFNO62",
          "QVQI21",
          "KZMX40",
          "MZBS30",
          "FNON77",
          "NPYR39",
          "YMPM85",
          "NFTL30",
          "SYWD80",
          "LEEB66",
          "ARVN27",
          "IISW62",
          "VJXW66",
          "JNPB82",
          "PEFW32",
          "KZGI84",
          "VDDA36",
          "CQAZ15",
          "VBEI50",
          "SPLX71",
          "QTMO12",
          "MDMH38",
          "NABH75",
          "WJXU73",
          "QJNK58",
          "NQXC83",
          "GTZG73",
          "QXPI96",
          "VKIF54",
          "SDPS98",
          "OJRQ64",
          "POBU85",
          "LABW39",
          "EUBB46",
          "ESNZ73",
          "URTD46",
          "OHAQ57",
          "SKOF68",
          "MGVZ29",
          "IXZJ80",
          "IKXG12",
          "LUER90",
          "OSOJ58",
          "HPAH52",
          "ENMX14",
          "SRYJ83",
          "GVTW47",
          "WJFY37",
          "CSSK72",
          "EPTO88",
          "PUUA42",
          "OSUE50",
          "MTKY90",
          "GRYG45",
          "CJFG55",
          "CDMS24",
          "UCEV32",
          "HHSD24",
          "NJPX66",
          "HRKK97",
          "RPKH30",
          "COHT21",
          "MSNO65",
          "IQCO42",
          "VLCB67",
          "AXGK85",
          "BFRO63",
          "FKYE25",
          "VNSB37",
          "NCGK60",
          "UEFQ82",
          "YQQS17",
          "NEOL38",
          "LJQT67",
          "HFRI32",
          "QMOM17",
          "OZZY47",
          "JQTS12",
          "YJLZ64",
          "DFIE34",
          "BNUI96",
          "DWRK59",
          "JGML71",
          "DYRK47",
          "LLIH12",
          "CIYF30",
          "QSYZ21",
          "YWLE82",
          "MKEC26",
          "YGUC74",
          "IDYX76",
          "TBYG80",
          "CIVJ43",
          "ZJHG87",
          "YWUG56",
          "LVHU92",
          "EEAM43",
          "DXGB32",
          "UGGT20",
          "CVTF93",
          "GCQO47",
          "PSCH51",
          "MFWE70",
          "HDTU72",
          "JXBM73",
          "YKRW85",
          "OJJD32",
          "MMDF31",
          "EVAK73",
          "PTUY96",
          "NADC75",
          "GSDB28",
          "KWFB47",
          "TTZS56",
          "AROQ67",
          "OBNN66",
          "XLKI20",
          "ULFL16",
          "VFDB97",
          "GTCV95",
          "FMQN78",
          "KQWR50",
          "TXVU12",
          "UNTY50",
          "CZGN82",
          "OEQB41"
         ],
         "xaxis": "x",
         "y": [
          null,
          null,
          null,
          null,
          null,
          null,
          null,
          null,
          null,
          null,
          null,
          null,
          null,
          null,
          null,
          null,
          null,
          null,
          null,
          null,
          null,
          null,
          null,
          null,
          null,
          null,
          null,
          null,
          null,
          null,
          null,
          null,
          null,
          null,
          null,
          null,
          null,
          null,
          null,
          null,
          null,
          null,
          null,
          null,
          null,
          null,
          null,
          null,
          null,
          null,
          null,
          null,
          null,
          null,
          null,
          null,
          null,
          null,
          null,
          null,
          null,
          null,
          null,
          null,
          null,
          null,
          null,
          null,
          null,
          null,
          null,
          null,
          null,
          null,
          null,
          null,
          null,
          null,
          null,
          null,
          null,
          null,
          null,
          null,
          null,
          null,
          null,
          null,
          null,
          null,
          null,
          null,
          null,
          null,
          null,
          null,
          null,
          null,
          null,
          null,
          null,
          null,
          null,
          null,
          null,
          null,
          null,
          null,
          null,
          null,
          null,
          null,
          null,
          null,
          null,
          null,
          null,
          null,
          null,
          null,
          null,
          null,
          null,
          null,
          null,
          null,
          null,
          null,
          null,
          null,
          null,
          null,
          null,
          null,
          null,
          null,
          null,
          null,
          null,
          null,
          null,
          null,
          null,
          null,
          null,
          null,
          null,
          null,
          null,
          null,
          null,
          null,
          null,
          null,
          null,
          null,
          null,
          null,
          null,
          null,
          null,
          null,
          null,
          null,
          -1.8666666666666667,
          -1.8666666666666667,
          -1.8666666666666667,
          -1.8666666666666667,
          -1.8666666666666667,
          -1.8666666666666667,
          -1.8666666666666667,
          -1.8666666666666667,
          -1.8666666666666667,
          -1.8666666666666667,
          -1.8666666666666667,
          -1.8666666666666667,
          -1.8666666666666667,
          -1.8666666666666667,
          6.416666666666667,
          6.416666666666667,
          6.416666666666667,
          6.416666666666667,
          6.416666666666667,
          6.416666666666667,
          6.3,
          6.3,
          6.3,
          6.3,
          6.3,
          6.3,
          6.3,
          6.416666666666667,
          6.416666666666667,
          6.416666666666667,
          6.416666666666667,
          6.416666666666667,
          6.416666666666667,
          10.616666666666667,
          10.616666666666667,
          10.616666666666667,
          10.616666666666667,
          10.616666666666667,
          18.766666666666666,
          18.766666666666666,
          9.016666666666667,
          9.016666666666667,
          9.016666666666667,
          9.016666666666667,
          9.016666666666667,
          9.016666666666667,
          9.016666666666667,
          9.016666666666667,
          9.016666666666667,
          9.016666666666667,
          9.016666666666667,
          28.266666666666666,
          28.266666666666666,
          28.266666666666666,
          28.266666666666666,
          36.583333333333336,
          36.583333333333336,
          7.65,
          7.65,
          7.65,
          7.65,
          7.65,
          24.783333333333335,
          24.783333333333335,
          24.783333333333335,
          24.783333333333335,
          24.783333333333335,
          24.783333333333335,
          24.783333333333335,
          48.78333333333333,
          10.616666666666667,
          10.616666666666667,
          10.616666666666667,
          10.616666666666667,
          28.266666666666666,
          28.266666666666666,
          28.266666666666666,
          28.266666666666666,
          28.266666666666666,
          28.266666666666666,
          28.266666666666666,
          28.266666666666666,
          28.266666666666666,
          28.266666666666666,
          28.266666666666666,
          28.266666666666666,
          28.266666666666666,
          28.266666666666666,
          28.266666666666666,
          28.266666666666666,
          28.266666666666666,
          28.266666666666666,
          36.583333333333336,
          36.583333333333336,
          36.583333333333336,
          36.583333333333336,
          36.583333333333336,
          36.583333333333336,
          36.583333333333336,
          36.583333333333336,
          36.583333333333336,
          36.583333333333336,
          36.583333333333336,
          24.783333333333335,
          24.783333333333335,
          24.783333333333335,
          51.06666666666667,
          51.06666666666667,
          51.06666666666667,
          52.68333333333333,
          52.68333333333333,
          52.68333333333333,
          52.68333333333333,
          52.68333333333333,
          52.68333333333333,
          52.68333333333333,
          40.68333333333333,
          40.68333333333333,
          40.68333333333333,
          40.68333333333333,
          40.68333333333333,
          40.68333333333333,
          52.88333333333333,
          52.88333333333333,
          52.88333333333333,
          57.1,
          57.1,
          57.1,
          57.1,
          19.866666666666667,
          48.78333333333333,
          48.78333333333333,
          48.78333333333333,
          48.78333333333333,
          48.78333333333333,
          48.78333333333333,
          19.866666666666667,
          19.866666666666667,
          19.866666666666667,
          19.866666666666667,
          34.1,
          34.1,
          34.1,
          33.916666666666664,
          33.916666666666664,
          33.916666666666664,
          33.916666666666664,
          33.916666666666664,
          33.916666666666664,
          33.916666666666664,
          33.916666666666664,
          33.916666666666664,
          33.916666666666664,
          33.916666666666664,
          33.916666666666664,
          60,
          60,
          60,
          60,
          60,
          60,
          60,
          60,
          34.1,
          34.1,
          34.1,
          34.1,
          34.1,
          34.1,
          34.1,
          34.1,
          34.1,
          34.1,
          57.1,
          57.1,
          57.1,
          57.1,
          30.966666666666665,
          30.966666666666665,
          30.966666666666665,
          30.966666666666665,
          30.966666666666665,
          30.966666666666665,
          30.966666666666665,
          30.966666666666665,
          30.966666666666665,
          30.966666666666665,
          30.966666666666665,
          30.966666666666665,
          30.966666666666665,
          30.966666666666665,
          28.266666666666666,
          28.266666666666666,
          28.266666666666666,
          28.266666666666666,
          28.266666666666666,
          28.266666666666666,
          28.266666666666666,
          28.266666666666666,
          28.266666666666666,
          41.45,
          41.45,
          41.45,
          41.45,
          28.266666666666666,
          28.266666666666666,
          28.266666666666666,
          28.266666666666666,
          28.233333333333334,
          48.78333333333333,
          48.78333333333333,
          48.78333333333333,
          48.78333333333333,
          48.78333333333333,
          48.78333333333333,
          48.78333333333333,
          48.78333333333333,
          48.78333333333333,
          48.78333333333333,
          48.78333333333333,
          48.78333333333333,
          48.78333333333333,
          48.78333333333333,
          48.78333333333333,
          48.78333333333333,
          48.78333333333333,
          57.1,
          57.1,
          57.1,
          57.1,
          57.1,
          30.966666666666665,
          30.966666666666665,
          30.966666666666665,
          30.966666666666665,
          30.966666666666665,
          30.966666666666665,
          30.966666666666665,
          30.966666666666665,
          30.966666666666665,
          48.78333333333333,
          48.78333333333333,
          48.78333333333333,
          48.78333333333333,
          60,
          60,
          60,
          60,
          60,
          60,
          60,
          28.233333333333334,
          28.233333333333334,
          28.233333333333334,
          70.58333333333333,
          70.58333333333333,
          70.58333333333333,
          70.58333333333333,
          70.58333333333333,
          70.58333333333333,
          70.58333333333333,
          70.58333333333333,
          70.58333333333333,
          70.58333333333333,
          70.58333333333333,
          70.58333333333333,
          70.58333333333333,
          70.58333333333333,
          70.58333333333333,
          38.083333333333336,
          38.083333333333336,
          38.083333333333336,
          38.083333333333336,
          38.083333333333336,
          38.083333333333336,
          38.083333333333336,
          38.083333333333336,
          38.083333333333336,
          38.083333333333336,
          38.083333333333336,
          38.083333333333336,
          38.083333333333336,
          38.083333333333336,
          38.083333333333336,
          38.083333333333336,
          38.083333333333336,
          38.083333333333336,
          38.083333333333336,
          38.083333333333336,
          38.083333333333336,
          38.083333333333336,
          38.083333333333336,
          38.083333333333336,
          38.083333333333336,
          38.083333333333336,
          38.083333333333336,
          38.083333333333336,
          38.083333333333336,
          38.083333333333336,
          38.083333333333336,
          38.083333333333336,
          38.083333333333336,
          38.083333333333336,
          38.083333333333336,
          57.1,
          57.1,
          57.1,
          57.1,
          57.1,
          57.1,
          57.1,
          60,
          60,
          60,
          60,
          60,
          60,
          60,
          60,
          60,
          60,
          60,
          60,
          60,
          46.13333333333333,
          46.13333333333333,
          70.58333333333333,
          70.58333333333333,
          70.58333333333333,
          70.58333333333333
         ],
         "yaxis": "y"
        },
        {
         "hovertemplate": "pnr=%{x}<br>delay=%{y}<extra></extra>",
         "legendgroup": "",
         "marker": {
          "color": "#636efa",
          "symbol": "circle"
         },
         "mode": "markers",
         "name": "",
         "orientation": "v",
         "showlegend": false,
         "type": "scatter",
         "x": [
          "HHBZ71",
          "SDUJ66",
          "DVFE61",
          "VUFI57",
          "SKUA12",
          "YCFY20",
          "MAKS27",
          "BVGP53",
          "MJGC88",
          "ZKHV21",
          "PYHP39",
          "NZDT59",
          "XEKG81",
          "CGIO61",
          "EVXJ95",
          "NQET33",
          "XYRW70",
          "BMPL83",
          "LERB88",
          "SSRY96",
          "BHFM82",
          "GOQY43",
          "OMYB89",
          "RGIO83",
          "EECE55",
          "WFRB77",
          "MDXO87",
          "SAEN79",
          "WUMO52",
          "UNCM41",
          "KVBJ89",
          "QMQZ86",
          "OIIX82",
          "IUHG90",
          "MPMX64",
          "OXBM44",
          "QRUC80",
          "PSRW66",
          "MIAT30",
          "VBFE55",
          "TAIZ87",
          "YEIQ10",
          "DZXA68",
          "LNTU75",
          "FKUZ11",
          "UAMR95",
          "JKPY74",
          "MQVH27",
          "UMBY94",
          "SIZM49",
          "KUCS34",
          "MHGN40",
          "UXJB75",
          "HIQR56",
          "QJUH52",
          "MGXD95",
          "TQKO83",
          "TQME21",
          "WSLR16",
          "MAKF53",
          "DGWC65",
          "PLJA16",
          "DJIQ49",
          "IABG33",
          "CRAX19",
          "LEMX32",
          "SYJU33",
          "SYWZ82",
          "WDES82",
          "NKAG77",
          "ZXAS14",
          "GKEX23",
          "NJYP36",
          "SHKX32",
          "CVYZ12",
          "SFXB99",
          "KJBW36",
          "VGAM26",
          "ZXWU97",
          "BLUG39",
          "WETV31",
          "STJC26",
          "GVJX51",
          "NXIE96",
          "QGKG60",
          "ZDCR88",
          "VWJG33",
          "LFFG30",
          "XNWT76",
          "LAZX16",
          "OCZA55",
          "QQQO76",
          "UDFV52",
          "OGUV31",
          "PTDC81",
          "CDHS51",
          "MWHA69",
          "FGRO78",
          "ZLFS69",
          "ZDHE28",
          "ZHYQ58",
          "HGQV61",
          "YYZK76",
          "KVAQ89",
          "ETIV54",
          "YADJ50",
          "DEWR55",
          "IAPJ59",
          "VOVU55",
          "ZQHE32",
          "FYSX16",
          "QDUN60",
          "NGQJ46",
          "GUAU64",
          "FRDT60",
          "FSNQ98",
          "ZNWD27",
          "EUBR62",
          "ZLEF86",
          "ORUR32",
          "JCQH28",
          "JFFG88",
          "HNIU84",
          "KJHI85",
          "GMHO31",
          "GDLS51",
          "CPKB55",
          "IGWJ82",
          "YGII83",
          "ZTBI89",
          "IUUO84",
          "MBAM17",
          "QPYJ53",
          "CWZX77",
          "VLIQ18",
          "NZLG27",
          "OFRV69",
          "ZTUQ49",
          "PEXT79",
          "SDON87",
          "EZBC54",
          "PQUB72",
          "OSXT48",
          "PNNK58",
          "WJMN79",
          "XTNH59",
          "RNKT66",
          "VAXI35",
          "OIOG94",
          "KMJT64",
          "OUMP14",
          "RNHC46",
          "RWUR57",
          "ZJJW20",
          "TOAW70",
          "MMUU86",
          "ERAY33",
          "TAFR87",
          "DCNF10",
          "FKHH76",
          "LBDC93",
          "EJKT27",
          "TLEF33",
          "VJCQ14",
          "UXAS88",
          "YFXR19",
          "DBFZ64",
          "EPAQ16",
          "ROQR61",
          "PXBU41",
          "BKLR94",
          "ALHS41",
          "FBGT91",
          "LESF66",
          "SROP81",
          "YEQZ86",
          "VEFY39",
          "QITU67",
          "EUTS74",
          "WNHW64",
          "HVQI51",
          "LTOP61",
          "LLEF53",
          "BTKY58",
          "MGHI53",
          "LSOQ56",
          "YVPJ82",
          "THRW51",
          "JNZQ22",
          "IYTB69",
          "JASH81",
          "VRTK46",
          "QVZR28",
          "ZTLP21",
          "SHSG52",
          "PYKY47",
          "VNJL91",
          "TGLA19",
          "FAEK13",
          "ACKK33",
          "XBAR37",
          "WRFX66",
          "HLWQ69",
          "KNDJ88",
          "XVCQ73",
          "ADCH37",
          "LAZY29",
          "JSOP84",
          "NBLR72",
          "HVFP61",
          "CIDM82",
          "ELTK72",
          "ELES76",
          "DQVZ74",
          "VZYV16",
          "YPQM28",
          "YGXX40",
          "BWHE51",
          "ERTF56",
          "ZHEV67",
          "IZYT94",
          "KUDS27",
          "YVAG67",
          "CGMX55",
          "PLQB19",
          "YPRL90",
          "DNHG88",
          "RHKC58",
          "NGDC92",
          "CFPB37",
          "GVVD60",
          "FMMN51",
          "HIGU55",
          "GECZ65",
          "HGJV99",
          "TNCT92",
          "VBQJ24",
          "MJCQ77",
          "DSVM73",
          "VEJG80",
          "ITBC65",
          "CBJS81",
          "MLHN86",
          "HPZP14",
          "EWOA44",
          "MHXK85",
          "FQOX52",
          "NFPD22",
          "UKYC18",
          "XEUB20",
          "BHTJ96",
          "FNQP86",
          "WXNR77",
          "CLPY88",
          "HBVI25",
          "RJLR15",
          "IAFE92",
          "SBED48",
          "JFFJ40",
          "HNRJ86",
          "QIYI53",
          "PAON66",
          "RSIM44",
          "ALAX84",
          "BQTB82",
          "SRON53",
          "EWON83",
          "UJTN27",
          "JDXT39",
          "YZPW46",
          "VDVN10",
          "CNKT67",
          "NOTC40",
          "NVCA93",
          "MSZL95",
          "CWMG83",
          "GJBD30",
          "RMNS44",
          "GLZH70",
          "KVEF56",
          "GMDF29",
          "JDAQ43",
          "YNVH98",
          "ADNY69",
          "LBBF92",
          "TAFO80",
          "GWZT84",
          "NBIC95",
          "WVNN63",
          "ZFIR69",
          "GBEV32",
          "LTPM72",
          "TFCZ84",
          "NKMQ66",
          "FELL42",
          "LVCF80",
          "VCBE94",
          "XUJW57",
          "BQTI44",
          "HVYQ50",
          "YWFS71",
          "WGNQ78",
          "KFTY31",
          "GOVS59",
          "ASVC73",
          "QYGB61",
          "ATIE88",
          "TDMB51",
          "QJDE49",
          "DWGT72",
          "RXOE67",
          "PJSW75",
          "SPXR29",
          "SBTM18",
          "UQDG53",
          "FBXP28",
          "WDLY71",
          "FNGR35",
          "XABE41",
          "FTGB88",
          "AOAY42",
          "ENTR65",
          "IMRP11",
          "ROMJ23",
          "YYFD12",
          "WQYF77",
          "EZJQ34",
          "PCMV31",
          "VYLL99",
          "ZNZN28",
          "IBTM27",
          "XWHL99",
          "DUIE61",
          "TWMV60",
          "BGEG92",
          "RMZJ88",
          "XSTW93",
          "REVI55",
          "GYIO26",
          "KYPS48",
          "QKFL16",
          "SEDO49",
          "IIND68",
          "ZWKV35",
          "HANJ53",
          "DBRI80",
          "PESX80",
          "XJLH35",
          "WBDR45",
          "KDKQ63",
          "MBSM82",
          "KJZW13",
          "TXCF52",
          "AKKC40",
          "ANGJ31",
          "SLWF58",
          "ISPE89",
          "HUKX32",
          "OVGT73",
          "SZQS66",
          "PCXW92",
          "HSWI28",
          "QFQU21",
          "CWNP76",
          "KCQQ68",
          "JTSI96",
          "YYSA99",
          "HBDM25",
          "XFNO62",
          "QVQI21",
          "KZMX40",
          "MZBS30",
          "FNON77",
          "NPYR39",
          "YMPM85",
          "NFTL30",
          "SYWD80",
          "LEEB66",
          "ARVN27",
          "IISW62",
          "VJXW66",
          "JNPB82",
          "PEFW32",
          "KZGI84",
          "VDDA36",
          "CQAZ15",
          "VBEI50",
          "SPLX71",
          "QTMO12",
          "MDMH38",
          "NABH75",
          "WJXU73",
          "QJNK58",
          "NQXC83",
          "GTZG73",
          "QXPI96",
          "VKIF54",
          "SDPS98",
          "OJRQ64",
          "POBU85",
          "LABW39",
          "EUBB46",
          "ESNZ73",
          "URTD46",
          "OHAQ57",
          "SKOF68",
          "MGVZ29",
          "IXZJ80",
          "IKXG12",
          "LUER90",
          "OSOJ58",
          "HPAH52",
          "ENMX14",
          "SRYJ83",
          "GVTW47",
          "WJFY37",
          "CSSK72",
          "EPTO88",
          "PUUA42",
          "OSUE50",
          "MTKY90",
          "GRYG45",
          "CJFG55",
          "CDMS24",
          "UCEV32",
          "HHSD24",
          "NJPX66",
          "HRKK97",
          "RPKH30",
          "COHT21",
          "MSNO65",
          "IQCO42",
          "VLCB67",
          "AXGK85",
          "BFRO63",
          "FKYE25",
          "VNSB37",
          "NCGK60",
          "UEFQ82",
          "YQQS17",
          "NEOL38",
          "LJQT67",
          "HFRI32",
          "QMOM17",
          "OZZY47",
          "JQTS12",
          "YJLZ64",
          "DFIE34",
          "BNUI96",
          "DWRK59",
          "JGML71",
          "DYRK47",
          "LLIH12",
          "CIYF30",
          "QSYZ21",
          "YWLE82",
          "MKEC26",
          "YGUC74",
          "IDYX76",
          "TBYG80",
          "CIVJ43",
          "ZJHG87",
          "YWUG56",
          "LVHU92",
          "EEAM43",
          "DXGB32",
          "UGGT20",
          "CVTF93",
          "GCQO47",
          "PSCH51",
          "MFWE70",
          "HDTU72",
          "JXBM73",
          "YKRW85",
          "OJJD32",
          "MMDF31",
          "EVAK73",
          "PTUY96",
          "NADC75",
          "GSDB28",
          "KWFB47",
          "TTZS56",
          "AROQ67",
          "OBNN66",
          "XLKI20",
          "ULFL16",
          "VFDB97",
          "GTCV95",
          "FMQN78",
          "KQWR50",
          "TXVU12",
          "UNTY50",
          "CZGN82",
          "OEQB41"
         ],
         "xaxis": "x2",
         "y": [
          null,
          null,
          null,
          null,
          null,
          null,
          null,
          null,
          null,
          null,
          null,
          null,
          null,
          null,
          null,
          null,
          null,
          null,
          null,
          null,
          null,
          null,
          null,
          null,
          null,
          null,
          null,
          null,
          null,
          null,
          null,
          null,
          null,
          null,
          null,
          null,
          null,
          null,
          null,
          null,
          null,
          null,
          null,
          null,
          null,
          null,
          null,
          null,
          null,
          null,
          null,
          null,
          null,
          null,
          null,
          null,
          null,
          null,
          null,
          null,
          null,
          null,
          null,
          null,
          null,
          null,
          null,
          null,
          null,
          null,
          null,
          null,
          null,
          null,
          null,
          null,
          null,
          null,
          null,
          null,
          null,
          null,
          null,
          null,
          null,
          null,
          null,
          null,
          null,
          null,
          null,
          null,
          null,
          null,
          null,
          null,
          null,
          null,
          null,
          null,
          null,
          null,
          null,
          null,
          null,
          null,
          null,
          null,
          null,
          null,
          null,
          null,
          null,
          null,
          null,
          null,
          null,
          null,
          null,
          null,
          null,
          null,
          null,
          null,
          null,
          null,
          null,
          null,
          null,
          null,
          null,
          null,
          null,
          null,
          null,
          null,
          null,
          null,
          null,
          null,
          null,
          null,
          null,
          null,
          null,
          null,
          null,
          null,
          null,
          null,
          null,
          null,
          null,
          null,
          null,
          null,
          null,
          null,
          null,
          null,
          null,
          null,
          null,
          null,
          -1.8666666666666667,
          -1.8666666666666667,
          -1.8666666666666667,
          -1.8666666666666667,
          -1.8666666666666667,
          -1.8666666666666667,
          -1.8666666666666667,
          -1.8666666666666667,
          -1.8666666666666667,
          -1.8666666666666667,
          -1.8666666666666667,
          -1.8666666666666667,
          -1.8666666666666667,
          -1.8666666666666667,
          6.416666666666667,
          6.416666666666667,
          6.416666666666667,
          6.416666666666667,
          6.416666666666667,
          6.416666666666667,
          6.3,
          6.3,
          6.3,
          6.3,
          6.3,
          6.3,
          6.3,
          6.416666666666667,
          6.416666666666667,
          6.416666666666667,
          6.416666666666667,
          6.416666666666667,
          6.416666666666667,
          10.616666666666667,
          10.616666666666667,
          10.616666666666667,
          10.616666666666667,
          10.616666666666667,
          18.766666666666666,
          18.766666666666666,
          9.016666666666667,
          9.016666666666667,
          9.016666666666667,
          9.016666666666667,
          9.016666666666667,
          9.016666666666667,
          9.016666666666667,
          9.016666666666667,
          9.016666666666667,
          9.016666666666667,
          9.016666666666667,
          28.266666666666666,
          28.266666666666666,
          28.266666666666666,
          28.266666666666666,
          36.583333333333336,
          36.583333333333336,
          7.65,
          7.65,
          7.65,
          7.65,
          7.65,
          24.783333333333335,
          24.783333333333335,
          24.783333333333335,
          24.783333333333335,
          24.783333333333335,
          24.783333333333335,
          24.783333333333335,
          48.78333333333333,
          10.616666666666667,
          10.616666666666667,
          10.616666666666667,
          10.616666666666667,
          28.266666666666666,
          28.266666666666666,
          28.266666666666666,
          28.266666666666666,
          28.266666666666666,
          28.266666666666666,
          28.266666666666666,
          28.266666666666666,
          28.266666666666666,
          28.266666666666666,
          28.266666666666666,
          28.266666666666666,
          28.266666666666666,
          28.266666666666666,
          28.266666666666666,
          28.266666666666666,
          28.266666666666666,
          28.266666666666666,
          36.583333333333336,
          36.583333333333336,
          36.583333333333336,
          36.583333333333336,
          36.583333333333336,
          36.583333333333336,
          36.583333333333336,
          36.583333333333336,
          36.583333333333336,
          36.583333333333336,
          36.583333333333336,
          24.783333333333335,
          24.783333333333335,
          24.783333333333335,
          51.06666666666667,
          51.06666666666667,
          51.06666666666667,
          52.68333333333333,
          52.68333333333333,
          52.68333333333333,
          52.68333333333333,
          52.68333333333333,
          52.68333333333333,
          52.68333333333333,
          40.68333333333333,
          40.68333333333333,
          40.68333333333333,
          40.68333333333333,
          40.68333333333333,
          40.68333333333333,
          52.88333333333333,
          52.88333333333333,
          52.88333333333333,
          57.1,
          57.1,
          57.1,
          57.1,
          19.866666666666667,
          48.78333333333333,
          48.78333333333333,
          48.78333333333333,
          48.78333333333333,
          48.78333333333333,
          48.78333333333333,
          19.866666666666667,
          19.866666666666667,
          19.866666666666667,
          19.866666666666667,
          34.1,
          34.1,
          34.1,
          33.916666666666664,
          33.916666666666664,
          33.916666666666664,
          33.916666666666664,
          33.916666666666664,
          33.916666666666664,
          33.916666666666664,
          33.916666666666664,
          33.916666666666664,
          33.916666666666664,
          33.916666666666664,
          33.916666666666664,
          60,
          60,
          60,
          60,
          60,
          60,
          60,
          60,
          34.1,
          34.1,
          34.1,
          34.1,
          34.1,
          34.1,
          34.1,
          34.1,
          34.1,
          34.1,
          57.1,
          57.1,
          57.1,
          57.1,
          30.966666666666665,
          30.966666666666665,
          30.966666666666665,
          30.966666666666665,
          30.966666666666665,
          30.966666666666665,
          30.966666666666665,
          30.966666666666665,
          30.966666666666665,
          30.966666666666665,
          30.966666666666665,
          30.966666666666665,
          30.966666666666665,
          30.966666666666665,
          28.266666666666666,
          28.266666666666666,
          28.266666666666666,
          28.266666666666666,
          28.266666666666666,
          28.266666666666666,
          28.266666666666666,
          28.266666666666666,
          28.266666666666666,
          41.45,
          41.45,
          41.45,
          41.45,
          28.266666666666666,
          28.266666666666666,
          28.266666666666666,
          28.266666666666666,
          28.233333333333334,
          48.78333333333333,
          48.78333333333333,
          48.78333333333333,
          48.78333333333333,
          48.78333333333333,
          48.78333333333333,
          48.78333333333333,
          48.78333333333333,
          48.78333333333333,
          48.78333333333333,
          48.78333333333333,
          48.78333333333333,
          48.78333333333333,
          48.78333333333333,
          48.78333333333333,
          48.78333333333333,
          48.78333333333333,
          57.1,
          57.1,
          57.1,
          57.1,
          57.1,
          30.966666666666665,
          30.966666666666665,
          30.966666666666665,
          30.966666666666665,
          30.966666666666665,
          30.966666666666665,
          30.966666666666665,
          30.966666666666665,
          30.966666666666665,
          48.78333333333333,
          48.78333333333333,
          48.78333333333333,
          48.78333333333333,
          60,
          60,
          60,
          60,
          60,
          60,
          60,
          28.233333333333334,
          28.233333333333334,
          28.233333333333334,
          70.58333333333333,
          70.58333333333333,
          70.58333333333333,
          70.58333333333333,
          70.58333333333333,
          70.58333333333333,
          70.58333333333333,
          70.58333333333333,
          70.58333333333333,
          70.58333333333333,
          70.58333333333333,
          70.58333333333333,
          70.58333333333333,
          70.58333333333333,
          70.58333333333333,
          38.083333333333336,
          38.083333333333336,
          38.083333333333336,
          38.083333333333336,
          38.083333333333336,
          38.083333333333336,
          38.083333333333336,
          38.083333333333336,
          38.083333333333336,
          38.083333333333336,
          38.083333333333336,
          38.083333333333336,
          38.083333333333336,
          38.083333333333336,
          38.083333333333336,
          38.083333333333336,
          38.083333333333336,
          38.083333333333336,
          38.083333333333336,
          38.083333333333336,
          38.083333333333336,
          38.083333333333336,
          38.083333333333336,
          38.083333333333336,
          38.083333333333336,
          38.083333333333336,
          38.083333333333336,
          38.083333333333336,
          38.083333333333336,
          38.083333333333336,
          38.083333333333336,
          38.083333333333336,
          38.083333333333336,
          38.083333333333336,
          38.083333333333336,
          57.1,
          57.1,
          57.1,
          57.1,
          57.1,
          57.1,
          57.1,
          60,
          60,
          60,
          60,
          60,
          60,
          60,
          60,
          60,
          60,
          60,
          60,
          60,
          46.13333333333333,
          46.13333333333333,
          70.58333333333333,
          70.58333333333333,
          70.58333333333333,
          70.58333333333333
         ],
         "yaxis": "y2"
        },
        {
         "alignmentgroup": "True",
         "hovertemplate": "pnr=%{x}<br>pnr_score=%{y}<extra></extra>",
         "legendgroup": "",
         "marker": {
          "color": "green",
          "pattern": {
           "shape": ""
          }
         },
         "name": "",
         "offsetgroup": "",
         "orientation": "v",
         "showlegend": false,
         "textposition": "auto",
         "type": "bar",
         "x": [
          "HHBZ71",
          "SDUJ66",
          "DVFE61",
          "VUFI57",
          "SKUA12",
          "YCFY20",
          "MAKS27",
          "BVGP53",
          "MJGC88",
          "ZKHV21",
          "PYHP39",
          "NZDT59",
          "XEKG81",
          "CGIO61",
          "EVXJ95",
          "NQET33",
          "XYRW70",
          "BMPL83",
          "LERB88",
          "SSRY96",
          "BHFM82",
          "GOQY43",
          "OMYB89",
          "RGIO83",
          "EECE55",
          "WFRB77",
          "MDXO87",
          "SAEN79",
          "WUMO52",
          "UNCM41",
          "KVBJ89",
          "QMQZ86",
          "OIIX82",
          "IUHG90",
          "MPMX64",
          "OXBM44",
          "QRUC80",
          "PSRW66",
          "MIAT30",
          "VBFE55",
          "TAIZ87",
          "YEIQ10",
          "DZXA68",
          "LNTU75",
          "FKUZ11",
          "UAMR95",
          "JKPY74",
          "MQVH27",
          "UMBY94",
          "SIZM49",
          "KUCS34",
          "MHGN40",
          "UXJB75",
          "HIQR56",
          "QJUH52",
          "MGXD95",
          "TQKO83",
          "TQME21",
          "WSLR16",
          "MAKF53",
          "DGWC65",
          "PLJA16",
          "DJIQ49",
          "IABG33",
          "CRAX19",
          "LEMX32",
          "SYJU33",
          "SYWZ82",
          "WDES82",
          "NKAG77",
          "ZXAS14",
          "GKEX23",
          "NJYP36",
          "SHKX32",
          "CVYZ12",
          "SFXB99",
          "KJBW36",
          "VGAM26",
          "ZXWU97",
          "BLUG39",
          "WETV31",
          "STJC26",
          "GVJX51",
          "NXIE96",
          "QGKG60",
          "ZDCR88",
          "VWJG33",
          "LFFG30",
          "XNWT76",
          "LAZX16",
          "OCZA55",
          "QQQO76",
          "UDFV52",
          "OGUV31",
          "PTDC81",
          "CDHS51",
          "MWHA69",
          "FGRO78",
          "ZLFS69",
          "ZDHE28",
          "ZHYQ58",
          "HGQV61",
          "YYZK76",
          "KVAQ89",
          "ETIV54",
          "YADJ50",
          "DEWR55",
          "IAPJ59",
          "VOVU55",
          "ZQHE32",
          "FYSX16",
          "QDUN60",
          "NGQJ46",
          "GUAU64",
          "FRDT60",
          "FSNQ98",
          "ZNWD27",
          "EUBR62",
          "ZLEF86",
          "ORUR32",
          "JCQH28",
          "JFFG88",
          "HNIU84",
          "KJHI85",
          "GMHO31",
          "GDLS51",
          "CPKB55",
          "IGWJ82",
          "YGII83",
          "ZTBI89",
          "IUUO84",
          "MBAM17",
          "QPYJ53",
          "CWZX77",
          "VLIQ18",
          "NZLG27",
          "OFRV69",
          "ZTUQ49",
          "PEXT79",
          "SDON87",
          "EZBC54",
          "PQUB72",
          "OSXT48",
          "PNNK58",
          "WJMN79",
          "XTNH59",
          "RNKT66",
          "VAXI35",
          "OIOG94",
          "KMJT64",
          "OUMP14",
          "RNHC46",
          "RWUR57",
          "ZJJW20",
          "TOAW70",
          "MMUU86",
          "ERAY33",
          "TAFR87",
          "DCNF10",
          "FKHH76",
          "LBDC93",
          "EJKT27",
          "TLEF33",
          "VJCQ14",
          "UXAS88",
          "YFXR19",
          "DBFZ64",
          "EPAQ16",
          "ROQR61",
          "PXBU41",
          "BKLR94",
          "ALHS41",
          "FBGT91",
          "LESF66",
          "SROP81",
          "YEQZ86",
          "VEFY39",
          "QITU67",
          "EUTS74",
          "WNHW64",
          "HVQI51",
          "LTOP61",
          "LLEF53",
          "BTKY58",
          "MGHI53",
          "LSOQ56",
          "YVPJ82",
          "THRW51",
          "JNZQ22",
          "IYTB69",
          "JASH81",
          "VRTK46",
          "QVZR28",
          "ZTLP21",
          "SHSG52",
          "PYKY47",
          "VNJL91",
          "TGLA19",
          "FAEK13",
          "ACKK33",
          "XBAR37",
          "WRFX66",
          "HLWQ69",
          "KNDJ88",
          "XVCQ73",
          "ADCH37",
          "LAZY29",
          "JSOP84",
          "NBLR72",
          "HVFP61",
          "CIDM82",
          "ELTK72",
          "ELES76",
          "DQVZ74",
          "VZYV16",
          "YPQM28",
          "YGXX40",
          "BWHE51",
          "ERTF56",
          "ZHEV67",
          "IZYT94",
          "KUDS27",
          "YVAG67",
          "CGMX55",
          "PLQB19",
          "YPRL90",
          "DNHG88",
          "RHKC58",
          "NGDC92",
          "CFPB37",
          "GVVD60",
          "FMMN51",
          "HIGU55",
          "GECZ65",
          "HGJV99",
          "TNCT92",
          "VBQJ24",
          "MJCQ77",
          "DSVM73",
          "VEJG80",
          "ITBC65",
          "CBJS81",
          "MLHN86",
          "HPZP14",
          "EWOA44",
          "MHXK85",
          "FQOX52",
          "NFPD22",
          "UKYC18",
          "XEUB20",
          "BHTJ96",
          "FNQP86",
          "WXNR77",
          "CLPY88",
          "HBVI25",
          "RJLR15",
          "IAFE92",
          "SBED48",
          "JFFJ40",
          "HNRJ86",
          "QIYI53",
          "PAON66",
          "RSIM44",
          "ALAX84",
          "BQTB82",
          "SRON53",
          "EWON83",
          "UJTN27",
          "JDXT39",
          "YZPW46",
          "VDVN10",
          "CNKT67",
          "NOTC40",
          "NVCA93",
          "MSZL95",
          "CWMG83",
          "GJBD30",
          "RMNS44",
          "GLZH70",
          "KVEF56",
          "GMDF29",
          "JDAQ43",
          "YNVH98",
          "ADNY69",
          "LBBF92",
          "TAFO80",
          "GWZT84",
          "NBIC95",
          "WVNN63",
          "ZFIR69",
          "GBEV32",
          "LTPM72",
          "TFCZ84",
          "NKMQ66",
          "FELL42",
          "LVCF80",
          "VCBE94",
          "XUJW57",
          "BQTI44",
          "HVYQ50",
          "YWFS71",
          "WGNQ78",
          "KFTY31",
          "GOVS59",
          "ASVC73",
          "QYGB61",
          "ATIE88",
          "TDMB51",
          "QJDE49",
          "DWGT72",
          "RXOE67",
          "PJSW75",
          "SPXR29",
          "SBTM18",
          "UQDG53",
          "FBXP28",
          "WDLY71",
          "FNGR35",
          "XABE41",
          "FTGB88",
          "AOAY42",
          "ENTR65",
          "IMRP11",
          "ROMJ23",
          "YYFD12",
          "WQYF77",
          "EZJQ34",
          "PCMV31",
          "VYLL99",
          "ZNZN28",
          "IBTM27",
          "XWHL99",
          "DUIE61",
          "TWMV60",
          "BGEG92",
          "RMZJ88",
          "XSTW93",
          "REVI55",
          "GYIO26",
          "KYPS48",
          "QKFL16",
          "SEDO49",
          "IIND68",
          "ZWKV35",
          "HANJ53",
          "DBRI80",
          "PESX80",
          "XJLH35",
          "WBDR45",
          "KDKQ63",
          "MBSM82",
          "KJZW13",
          "TXCF52",
          "AKKC40",
          "ANGJ31",
          "SLWF58",
          "ISPE89",
          "HUKX32",
          "OVGT73",
          "SZQS66",
          "PCXW92",
          "HSWI28",
          "QFQU21",
          "CWNP76",
          "KCQQ68",
          "JTSI96",
          "YYSA99",
          "HBDM25",
          "XFNO62",
          "QVQI21",
          "KZMX40",
          "MZBS30",
          "FNON77",
          "NPYR39",
          "YMPM85",
          "NFTL30",
          "SYWD80",
          "LEEB66",
          "ARVN27",
          "IISW62",
          "VJXW66",
          "JNPB82",
          "PEFW32",
          "KZGI84",
          "VDDA36",
          "CQAZ15",
          "VBEI50",
          "SPLX71",
          "QTMO12",
          "MDMH38",
          "NABH75",
          "WJXU73",
          "QJNK58",
          "NQXC83",
          "GTZG73",
          "QXPI96",
          "VKIF54",
          "SDPS98",
          "OJRQ64",
          "POBU85",
          "LABW39",
          "EUBB46",
          "ESNZ73",
          "URTD46",
          "OHAQ57",
          "SKOF68",
          "MGVZ29",
          "IXZJ80",
          "IKXG12",
          "LUER90",
          "OSOJ58",
          "HPAH52",
          "ENMX14",
          "SRYJ83",
          "GVTW47",
          "WJFY37",
          "CSSK72",
          "EPTO88",
          "PUUA42",
          "OSUE50",
          "MTKY90",
          "GRYG45",
          "CJFG55",
          "CDMS24",
          "UCEV32",
          "HHSD24",
          "NJPX66",
          "HRKK97",
          "RPKH30",
          "COHT21",
          "MSNO65",
          "IQCO42",
          "VLCB67",
          "AXGK85",
          "BFRO63",
          "FKYE25",
          "VNSB37",
          "NCGK60",
          "UEFQ82",
          "YQQS17",
          "NEOL38",
          "LJQT67",
          "HFRI32",
          "QMOM17",
          "OZZY47",
          "JQTS12",
          "YJLZ64",
          "DFIE34",
          "BNUI96",
          "DWRK59",
          "JGML71",
          "DYRK47",
          "LLIH12",
          "CIYF30",
          "QSYZ21",
          "YWLE82",
          "MKEC26",
          "YGUC74",
          "IDYX76",
          "TBYG80",
          "CIVJ43",
          "ZJHG87",
          "YWUG56",
          "LVHU92",
          "EEAM43",
          "DXGB32",
          "UGGT20",
          "CVTF93",
          "GCQO47",
          "PSCH51",
          "MFWE70",
          "HDTU72",
          "JXBM73",
          "YKRW85",
          "OJJD32",
          "MMDF31",
          "EVAK73",
          "PTUY96",
          "NADC75",
          "GSDB28",
          "KWFB47",
          "TTZS56",
          "AROQ67",
          "OBNN66",
          "XLKI20",
          "ULFL16",
          "VFDB97",
          "GTCV95",
          "FMQN78",
          "KQWR50",
          "TXVU12",
          "UNTY50",
          "CZGN82",
          "OEQB41"
         ],
         "xaxis": "x2",
         "y": [
          600,
          8600,
          5000,
          8600,
          2500,
          8500,
          3500,
          8500,
          8500,
          8500,
          3300,
          8100,
          8100,
          5100,
          8100,
          2500,
          2500,
          2500,
          8000,
          8000,
          8000,
          3100,
          2100,
          5100,
          2100,
          4600,
          1100,
          10500,
          1100,
          10100,
          1100,
          3600,
          10000,
          9600,
          3600,
          9600,
          9500,
          9500,
          3500,
          9300,
          3500,
          1600,
          3100,
          9100,
          9100,
          1600,
          1600,
          9000,
          10600,
          2500,
          7600,
          2600,
          5500,
          5500,
          2600,
          2600,
          2600,
          3100,
          6500,
          2600,
          5500,
          6500,
          6100,
          6100,
          6100,
          5500,
          600,
          5600,
          3100,
          6100,
          6100,
          5800,
          6600,
          7600,
          6600,
          6800,
          2500,
          2500,
          2500,
          2500,
          3100,
          7100,
          7100,
          7100,
          7100,
          7100,
          7100,
          7100,
          7000,
          7000,
          2500,
          5500,
          7000,
          2600,
          3100,
          6800,
          3100,
          6700,
          1100,
          3000,
          3600,
          600,
          18100,
          10600,
          4100,
          13600,
          13500,
          4100,
          4100,
          14000,
          4100,
          18500,
          13000,
          18500,
          12600,
          600,
          3600,
          4100,
          19100,
          600,
          12200,
          600,
          600,
          17500,
          17500,
          17300,
          17200,
          17000,
          4100,
          16600,
          4100,
          14600,
          600,
          4100,
          4100,
          4100,
          15000,
          15000,
          14600,
          600,
          600,
          600,
          600,
          13000,
          1100,
          4100,
          600,
          11300,
          4000,
          4100,
          11600,
          21000,
          1100,
          11800,
          20700,
          12000,
          12000,
          600,
          11000,
          11000,
          1100,
          600,
          11700,
          600,
          19600,
          6600,
          5300,
          3100,
          4600,
          4100,
          5100,
          5100,
          16000,
          9500,
          14500,
          4500,
          12000,
          8500,
          16800,
          2600,
          8100,
          1100,
          14100,
          1600,
          3100,
          2600,
          16600,
          6100,
          1100,
          8100,
          14200,
          7000,
          9000,
          7000,
          6000,
          6200,
          5000,
          8300,
          3600,
          600,
          12300,
          5100,
          11100,
          4600,
          3100,
          5000,
          6500,
          10100,
          10100,
          5300,
          7100,
          4500,
          600,
          600,
          6600,
          12600,
          6100,
          2600,
          13300,
          4100,
          11100,
          7000,
          5500,
          9200,
          5500,
          6000,
          17600,
          10600,
          15600,
          3600,
          7100,
          9100,
          19500,
          7500,
          5000,
          2500,
          10500,
          9000,
          2600,
          10300,
          9100,
          1600,
          4600,
          12100,
          3100,
          7100,
          6100,
          600,
          4100,
          600,
          600,
          5100,
          4100,
          4100,
          2100,
          3600,
          3100,
          4600,
          3600,
          3800,
          7100,
          7100,
          600,
          600,
          6100,
          600,
          2100,
          6000,
          5500,
          12000,
          3600,
          12300,
          7300,
          16100,
          1600,
          12600,
          10000,
          21500,
          9000,
          13500,
          8100,
          8100,
          8600,
          1100,
          600,
          8300,
          7000,
          8000,
          6000,
          2600,
          10100,
          5100,
          2600,
          5600,
          11000,
          16000,
          4000,
          2500,
          7000,
          5000,
          4500,
          4500,
          8000,
          5500,
          11300,
          8300,
          3600,
          6600,
          1100,
          6100,
          2600,
          6100,
          4100,
          1600,
          3100,
          2100,
          8100,
          600,
          600,
          15100,
          9600,
          12300,
          13100,
          12500,
          12000,
          5500,
          9000,
          2700,
          6000,
          6000,
          2500,
          4200,
          2500,
          2500,
          5000,
          3500,
          5500,
          9100,
          13100,
          2600,
          8800,
          6100,
          4100,
          6800,
          6600,
          3100,
          9600,
          600,
          6100,
          3600,
          5100,
          5100,
          6600,
          600,
          6100,
          21700,
          8000,
          21500,
          11500,
          11000,
          10500,
          7000,
          6500,
          6500,
          14600,
          3100,
          10100,
          9100,
          6000,
          2500,
          4500,
          5000,
          1100,
          6600,
          5600,
          6600,
          6100,
          4600,
          4600,
          4600,
          600,
          2600,
          600,
          11000,
          15000,
          11000,
          4500,
          18200,
          8500,
          16000,
          13100,
          13100,
          14000,
          12600,
          9100,
          5500,
          4500,
          5500,
          14700,
          18000,
          6500,
          8500,
          9000,
          3000,
          7500,
          8900,
          4500,
          3500,
          7600,
          7800,
          7300,
          7300,
          8500,
          9700,
          7500,
          15500,
          5500,
          4500,
          12100,
          13800,
          11800,
          8600,
          8600,
          600,
          1600,
          10100,
          12300,
          6600,
          2600,
          5100,
          5100,
          3600,
          1600,
          6300,
          16100,
          9100,
          10600,
          9600,
          9100,
          5100,
          12100,
          7100,
          4600,
          6600,
          6600,
          13800,
          14600,
          15100,
          5600,
          11300,
          13100,
          4100,
          3600,
          9500,
          6000,
          6000,
          5500,
          6500,
          6500,
          13700,
          4500,
          16700,
          7000,
          7000,
          5500,
          5500,
          4000,
          3500,
          11000,
          8000,
          18700,
          18000,
          11000,
          8500,
          9000,
          5100,
          5600,
          5600,
          3600,
          2600,
          3100,
          4100,
          4100,
          1600,
          600,
          3500,
          4500,
          6000,
          2500,
          2500,
          13000,
          2500,
          8000,
          8700
         ],
         "yaxis": "y2"
        }
       ],
       "layout": {
        "annotations": [
         {
          "font": {
           "size": 16
          },
          "showarrow": false,
          "text": "Scores",
          "x": 0.5,
          "xanchor": "center",
          "xref": "paper",
          "y": 1,
          "yanchor": "bottom",
          "yref": "paper"
         },
         {
          "font": {
           "size": 16
          },
          "showarrow": false,
          "text": "PNR vs Delay",
          "x": 0.5,
          "xanchor": "center",
          "xref": "paper",
          "y": 0.6333333333333333,
          "yanchor": "bottom",
          "yref": "paper"
         },
         {
          "font": {
           "size": 16
          },
          "showarrow": false,
          "text": "Pnr Scores",
          "x": 0.5,
          "xanchor": "center",
          "xref": "paper",
          "y": 0.26666666666666666,
          "yanchor": "bottom",
          "yref": "paper"
         }
        ],
        "template": {
         "data": {
          "bar": [
           {
            "error_x": {
             "color": "#2a3f5f"
            },
            "error_y": {
             "color": "#2a3f5f"
            },
            "marker": {
             "line": {
              "color": "#E5ECF6",
              "width": 0.5
             },
             "pattern": {
              "fillmode": "overlay",
              "size": 10,
              "solidity": 0.2
             }
            },
            "type": "bar"
           }
          ],
          "barpolar": [
           {
            "marker": {
             "line": {
              "color": "#E5ECF6",
              "width": 0.5
             },
             "pattern": {
              "fillmode": "overlay",
              "size": 10,
              "solidity": 0.2
             }
            },
            "type": "barpolar"
           }
          ],
          "carpet": [
           {
            "aaxis": {
             "endlinecolor": "#2a3f5f",
             "gridcolor": "white",
             "linecolor": "white",
             "minorgridcolor": "white",
             "startlinecolor": "#2a3f5f"
            },
            "baxis": {
             "endlinecolor": "#2a3f5f",
             "gridcolor": "white",
             "linecolor": "white",
             "minorgridcolor": "white",
             "startlinecolor": "#2a3f5f"
            },
            "type": "carpet"
           }
          ],
          "choropleth": [
           {
            "colorbar": {
             "outlinewidth": 0,
             "ticks": ""
            },
            "type": "choropleth"
           }
          ],
          "contour": [
           {
            "colorbar": {
             "outlinewidth": 0,
             "ticks": ""
            },
            "colorscale": [
             [
              0,
              "#0d0887"
             ],
             [
              0.1111111111111111,
              "#46039f"
             ],
             [
              0.2222222222222222,
              "#7201a8"
             ],
             [
              0.3333333333333333,
              "#9c179e"
             ],
             [
              0.4444444444444444,
              "#bd3786"
             ],
             [
              0.5555555555555556,
              "#d8576b"
             ],
             [
              0.6666666666666666,
              "#ed7953"
             ],
             [
              0.7777777777777778,
              "#fb9f3a"
             ],
             [
              0.8888888888888888,
              "#fdca26"
             ],
             [
              1,
              "#f0f921"
             ]
            ],
            "type": "contour"
           }
          ],
          "contourcarpet": [
           {
            "colorbar": {
             "outlinewidth": 0,
             "ticks": ""
            },
            "type": "contourcarpet"
           }
          ],
          "heatmap": [
           {
            "colorbar": {
             "outlinewidth": 0,
             "ticks": ""
            },
            "colorscale": [
             [
              0,
              "#0d0887"
             ],
             [
              0.1111111111111111,
              "#46039f"
             ],
             [
              0.2222222222222222,
              "#7201a8"
             ],
             [
              0.3333333333333333,
              "#9c179e"
             ],
             [
              0.4444444444444444,
              "#bd3786"
             ],
             [
              0.5555555555555556,
              "#d8576b"
             ],
             [
              0.6666666666666666,
              "#ed7953"
             ],
             [
              0.7777777777777778,
              "#fb9f3a"
             ],
             [
              0.8888888888888888,
              "#fdca26"
             ],
             [
              1,
              "#f0f921"
             ]
            ],
            "type": "heatmap"
           }
          ],
          "heatmapgl": [
           {
            "colorbar": {
             "outlinewidth": 0,
             "ticks": ""
            },
            "colorscale": [
             [
              0,
              "#0d0887"
             ],
             [
              0.1111111111111111,
              "#46039f"
             ],
             [
              0.2222222222222222,
              "#7201a8"
             ],
             [
              0.3333333333333333,
              "#9c179e"
             ],
             [
              0.4444444444444444,
              "#bd3786"
             ],
             [
              0.5555555555555556,
              "#d8576b"
             ],
             [
              0.6666666666666666,
              "#ed7953"
             ],
             [
              0.7777777777777778,
              "#fb9f3a"
             ],
             [
              0.8888888888888888,
              "#fdca26"
             ],
             [
              1,
              "#f0f921"
             ]
            ],
            "type": "heatmapgl"
           }
          ],
          "histogram": [
           {
            "marker": {
             "pattern": {
              "fillmode": "overlay",
              "size": 10,
              "solidity": 0.2
             }
            },
            "type": "histogram"
           }
          ],
          "histogram2d": [
           {
            "colorbar": {
             "outlinewidth": 0,
             "ticks": ""
            },
            "colorscale": [
             [
              0,
              "#0d0887"
             ],
             [
              0.1111111111111111,
              "#46039f"
             ],
             [
              0.2222222222222222,
              "#7201a8"
             ],
             [
              0.3333333333333333,
              "#9c179e"
             ],
             [
              0.4444444444444444,
              "#bd3786"
             ],
             [
              0.5555555555555556,
              "#d8576b"
             ],
             [
              0.6666666666666666,
              "#ed7953"
             ],
             [
              0.7777777777777778,
              "#fb9f3a"
             ],
             [
              0.8888888888888888,
              "#fdca26"
             ],
             [
              1,
              "#f0f921"
             ]
            ],
            "type": "histogram2d"
           }
          ],
          "histogram2dcontour": [
           {
            "colorbar": {
             "outlinewidth": 0,
             "ticks": ""
            },
            "colorscale": [
             [
              0,
              "#0d0887"
             ],
             [
              0.1111111111111111,
              "#46039f"
             ],
             [
              0.2222222222222222,
              "#7201a8"
             ],
             [
              0.3333333333333333,
              "#9c179e"
             ],
             [
              0.4444444444444444,
              "#bd3786"
             ],
             [
              0.5555555555555556,
              "#d8576b"
             ],
             [
              0.6666666666666666,
              "#ed7953"
             ],
             [
              0.7777777777777778,
              "#fb9f3a"
             ],
             [
              0.8888888888888888,
              "#fdca26"
             ],
             [
              1,
              "#f0f921"
             ]
            ],
            "type": "histogram2dcontour"
           }
          ],
          "mesh3d": [
           {
            "colorbar": {
             "outlinewidth": 0,
             "ticks": ""
            },
            "type": "mesh3d"
           }
          ],
          "parcoords": [
           {
            "line": {
             "colorbar": {
              "outlinewidth": 0,
              "ticks": ""
             }
            },
            "type": "parcoords"
           }
          ],
          "pie": [
           {
            "automargin": true,
            "type": "pie"
           }
          ],
          "scatter": [
           {
            "fillpattern": {
             "fillmode": "overlay",
             "size": 10,
             "solidity": 0.2
            },
            "type": "scatter"
           }
          ],
          "scatter3d": [
           {
            "line": {
             "colorbar": {
              "outlinewidth": 0,
              "ticks": ""
             }
            },
            "marker": {
             "colorbar": {
              "outlinewidth": 0,
              "ticks": ""
             }
            },
            "type": "scatter3d"
           }
          ],
          "scattercarpet": [
           {
            "marker": {
             "colorbar": {
              "outlinewidth": 0,
              "ticks": ""
             }
            },
            "type": "scattercarpet"
           }
          ],
          "scattergeo": [
           {
            "marker": {
             "colorbar": {
              "outlinewidth": 0,
              "ticks": ""
             }
            },
            "type": "scattergeo"
           }
          ],
          "scattergl": [
           {
            "marker": {
             "colorbar": {
              "outlinewidth": 0,
              "ticks": ""
             }
            },
            "type": "scattergl"
           }
          ],
          "scattermapbox": [
           {
            "marker": {
             "colorbar": {
              "outlinewidth": 0,
              "ticks": ""
             }
            },
            "type": "scattermapbox"
           }
          ],
          "scatterpolar": [
           {
            "marker": {
             "colorbar": {
              "outlinewidth": 0,
              "ticks": ""
             }
            },
            "type": "scatterpolar"
           }
          ],
          "scatterpolargl": [
           {
            "marker": {
             "colorbar": {
              "outlinewidth": 0,
              "ticks": ""
             }
            },
            "type": "scatterpolargl"
           }
          ],
          "scatterternary": [
           {
            "marker": {
             "colorbar": {
              "outlinewidth": 0,
              "ticks": ""
             }
            },
            "type": "scatterternary"
           }
          ],
          "surface": [
           {
            "colorbar": {
             "outlinewidth": 0,
             "ticks": ""
            },
            "colorscale": [
             [
              0,
              "#0d0887"
             ],
             [
              0.1111111111111111,
              "#46039f"
             ],
             [
              0.2222222222222222,
              "#7201a8"
             ],
             [
              0.3333333333333333,
              "#9c179e"
             ],
             [
              0.4444444444444444,
              "#bd3786"
             ],
             [
              0.5555555555555556,
              "#d8576b"
             ],
             [
              0.6666666666666666,
              "#ed7953"
             ],
             [
              0.7777777777777778,
              "#fb9f3a"
             ],
             [
              0.8888888888888888,
              "#fdca26"
             ],
             [
              1,
              "#f0f921"
             ]
            ],
            "type": "surface"
           }
          ],
          "table": [
           {
            "cells": {
             "fill": {
              "color": "#EBF0F8"
             },
             "line": {
              "color": "white"
             }
            },
            "header": {
             "fill": {
              "color": "#C8D4E3"
             },
             "line": {
              "color": "white"
             }
            },
            "type": "table"
           }
          ]
         },
         "layout": {
          "annotationdefaults": {
           "arrowcolor": "#2a3f5f",
           "arrowhead": 0,
           "arrowwidth": 1
          },
          "autotypenumbers": "strict",
          "coloraxis": {
           "colorbar": {
            "outlinewidth": 0,
            "ticks": ""
           }
          },
          "colorscale": {
           "diverging": [
            [
             0,
             "#8e0152"
            ],
            [
             0.1,
             "#c51b7d"
            ],
            [
             0.2,
             "#de77ae"
            ],
            [
             0.3,
             "#f1b6da"
            ],
            [
             0.4,
             "#fde0ef"
            ],
            [
             0.5,
             "#f7f7f7"
            ],
            [
             0.6,
             "#e6f5d0"
            ],
            [
             0.7,
             "#b8e186"
            ],
            [
             0.8,
             "#7fbc41"
            ],
            [
             0.9,
             "#4d9221"
            ],
            [
             1,
             "#276419"
            ]
           ],
           "sequential": [
            [
             0,
             "#0d0887"
            ],
            [
             0.1111111111111111,
             "#46039f"
            ],
            [
             0.2222222222222222,
             "#7201a8"
            ],
            [
             0.3333333333333333,
             "#9c179e"
            ],
            [
             0.4444444444444444,
             "#bd3786"
            ],
            [
             0.5555555555555556,
             "#d8576b"
            ],
            [
             0.6666666666666666,
             "#ed7953"
            ],
            [
             0.7777777777777778,
             "#fb9f3a"
            ],
            [
             0.8888888888888888,
             "#fdca26"
            ],
            [
             1,
             "#f0f921"
            ]
           ],
           "sequentialminus": [
            [
             0,
             "#0d0887"
            ],
            [
             0.1111111111111111,
             "#46039f"
            ],
            [
             0.2222222222222222,
             "#7201a8"
            ],
            [
             0.3333333333333333,
             "#9c179e"
            ],
            [
             0.4444444444444444,
             "#bd3786"
            ],
            [
             0.5555555555555556,
             "#d8576b"
            ],
            [
             0.6666666666666666,
             "#ed7953"
            ],
            [
             0.7777777777777778,
             "#fb9f3a"
            ],
            [
             0.8888888888888888,
             "#fdca26"
            ],
            [
             1,
             "#f0f921"
            ]
           ]
          },
          "colorway": [
           "#636efa",
           "#EF553B",
           "#00cc96",
           "#ab63fa",
           "#FFA15A",
           "#19d3f3",
           "#FF6692",
           "#B6E880",
           "#FF97FF",
           "#FECB52"
          ],
          "font": {
           "color": "#2a3f5f"
          },
          "geo": {
           "bgcolor": "white",
           "lakecolor": "white",
           "landcolor": "#E5ECF6",
           "showlakes": true,
           "showland": true,
           "subunitcolor": "white"
          },
          "hoverlabel": {
           "align": "left"
          },
          "hovermode": "closest",
          "mapbox": {
           "style": "light"
          },
          "paper_bgcolor": "white",
          "plot_bgcolor": "#E5ECF6",
          "polar": {
           "angularaxis": {
            "gridcolor": "white",
            "linecolor": "white",
            "ticks": ""
           },
           "bgcolor": "#E5ECF6",
           "radialaxis": {
            "gridcolor": "white",
            "linecolor": "white",
            "ticks": ""
           }
          },
          "scene": {
           "xaxis": {
            "backgroundcolor": "#E5ECF6",
            "gridcolor": "white",
            "gridwidth": 2,
            "linecolor": "white",
            "showbackground": true,
            "ticks": "",
            "zerolinecolor": "white"
           },
           "yaxis": {
            "backgroundcolor": "#E5ECF6",
            "gridcolor": "white",
            "gridwidth": 2,
            "linecolor": "white",
            "showbackground": true,
            "ticks": "",
            "zerolinecolor": "white"
           },
           "zaxis": {
            "backgroundcolor": "#E5ECF6",
            "gridcolor": "white",
            "gridwidth": 2,
            "linecolor": "white",
            "showbackground": true,
            "ticks": "",
            "zerolinecolor": "white"
           }
          },
          "shapedefaults": {
           "line": {
            "color": "#2a3f5f"
           }
          },
          "ternary": {
           "aaxis": {
            "gridcolor": "white",
            "linecolor": "white",
            "ticks": ""
           },
           "baxis": {
            "gridcolor": "white",
            "linecolor": "white",
            "ticks": ""
           },
           "bgcolor": "#E5ECF6",
           "caxis": {
            "gridcolor": "white",
            "linecolor": "white",
            "ticks": ""
           }
          },
          "title": {
           "x": 0.05
          },
          "xaxis": {
           "automargin": true,
           "gridcolor": "white",
           "linecolor": "white",
           "ticks": "",
           "title": {
            "standoff": 15
           },
           "zerolinecolor": "white",
           "zerolinewidth": 2
          },
          "yaxis": {
           "automargin": true,
           "gridcolor": "white",
           "linecolor": "white",
           "ticks": "",
           "title": {
            "standoff": 15
           },
           "zerolinecolor": "white",
           "zerolinewidth": 2
          }
         }
        },
        "xaxis": {
         "anchor": "y",
         "domain": [
          0,
          1
         ],
         "matches": "x3",
         "showticklabels": false
        },
        "xaxis2": {
         "anchor": "y2",
         "domain": [
          0,
          1
         ],
         "matches": "x3",
         "showticklabels": false
        },
        "xaxis3": {
         "anchor": "y3",
         "domain": [
          0,
          1
         ]
        },
        "yaxis": {
         "anchor": "x",
         "domain": [
          0.7333333333333334,
          1
         ]
        },
        "yaxis2": {
         "anchor": "x2",
         "domain": [
          0.3666666666666667,
          0.6333333333333333
         ]
        },
        "yaxis3": {
         "anchor": "x3",
         "domain": [
          0,
          0.26666666666666666
         ]
        }
       }
      }
     },
     "metadata": {},
     "output_type": "display_data"
    }
   ],
   "source": [
    "#Pnr vs delay\n",
    "# Create a scatter plot for PNR vs delay\n",
    "df.sort_values(by=['allocated_flights_score'], inplace=True)\n",
    "df['canclled_flight_arrival'] = pd.to_datetime(df['canclled_flight_arrival'])\n",
    "df['allocated_flights_arrival'] = pd.to_datetime(df['allocated_flights_arrival'])\n",
    "\n",
    "# Calculate the delay\n",
    "df['delay'] = (df['allocated_flights_arrival'] - df['canclled_flight_arrival']).dt.total_seconds() / 3600\n",
    "\n",
    "# Create a scatter plot for PNR vs delay\n",
    "fig = make_subplots(rows=3, cols=1, shared_xaxes=True, vertical_spacing=0.1, subplot_titles=[\"Scores\", \"PNR vs Delay\", \"Pnr Scores\"])\n",
    "\n",
    "# Plot PNR Scores\n",
    "fig.add_trace(\n",
    "    px.bar(df, x=\"pnr\", y=\"allocated_flights_score\").update_traces(marker_color='blue').data[0],\n",
    "    row=1, col=1\n",
    ")\n",
    "\n",
    "# Plot PNR vs Delay\n",
    "fig.add_trace(\n",
    "    px.scatter(df, x='pnr', y='delay').data[0],\n",
    "    row=1, col=1\n",
    ")\n",
    "\n",
    "fig.add_trace(\n",
    "    px.scatter(df, x='pnr', y='delay').data[0],\n",
    "    row=2, col=1\n",
    ")\n",
    "\n",
    "fig.add_trace(\n",
    "    px.bar(df, x=\"pnr\", y=\"pnr_score\").update_traces(marker_color='green').data[0],\n",
    "    row=2, col=1\n",
    ")\n",
    "\n",
    "# Calculate and print the mean delay\n",
    "mean_delay = df['delay'].mean()\n",
    "print(f'Mean Delay: {mean_delay} hours, std_dev: {df[\"delay\"].std()}')\n",
    "\n",
    "# Show the plot\n",
    "fig.show()"
   ]
  },
  {
   "cell_type": "code",
   "execution_count": 8,
   "metadata": {},
   "outputs": [
    {
     "data": {
      "application/vnd.plotly.v1+json": {
       "config": {
        "plotlyServerURL": "https://plot.ly"
       },
       "data": [
        {
         "domain": {
          "x": [
           0,
           1
          ],
          "y": [
           0,
           1
          ]
         },
         "hovertemplate": "up_down=%{label}<extra></extra>",
         "labels": [
          0,
          0,
          -1,
          -1,
          -1,
          -1,
          -1,
          -1,
          -1,
          1,
          1,
          1,
          1,
          2,
          0,
          0,
          0,
          -1,
          -1,
          -1,
          0,
          0,
          -1,
          -1,
          -1,
          -1,
          1,
          1,
          1,
          1,
          1,
          1,
          1,
          -1,
          -1,
          -1,
          -1,
          -1,
          0,
          -1,
          0,
          -1,
          0,
          0,
          0,
          0,
          0,
          0,
          0,
          0,
          0,
          0,
          0,
          0,
          0,
          0,
          0,
          0,
          0,
          0,
          0,
          0,
          0,
          0,
          0,
          1,
          1,
          1,
          1,
          1,
          0,
          0,
          0,
          -1,
          0,
          -1,
          0,
          -1,
          0,
          -1,
          0,
          -1,
          0,
          1,
          0,
          2,
          1,
          1,
          1,
          1,
          1,
          -1,
          0,
          -1,
          0,
          -1,
          0,
          -1,
          0,
          -1,
          0,
          -1,
          0,
          -1,
          0,
          -1,
          0,
          -1,
          0,
          -1,
          0,
          -1,
          0,
          -1,
          0,
          -1,
          0,
          -1,
          0,
          -1,
          0,
          -1,
          0,
          -1,
          0,
          -1,
          0,
          -1,
          0,
          -1,
          0,
          -1,
          0,
          -1,
          0,
          -1,
          0,
          -1,
          0,
          -1,
          0,
          -1,
          0,
          -1,
          0,
          -1,
          0,
          -1,
          0,
          0,
          1,
          0,
          1,
          0,
          1,
          0,
          0,
          0,
          0,
          0,
          0,
          0,
          0,
          -1,
          0,
          -1,
          0,
          0,
          -1,
          0,
          0,
          -1,
          -1,
          1,
          0,
          1,
          1,
          1,
          1,
          1,
          1,
          1,
          1,
          2,
          1,
          0,
          0,
          0,
          0,
          0,
          0,
          0,
          0,
          0,
          0,
          0,
          0,
          0,
          1,
          1,
          0,
          1,
          1,
          0,
          1,
          1,
          0,
          0,
          0,
          0,
          -1,
          0,
          -3,
          0,
          -1,
          0,
          1,
          1,
          1,
          1,
          1,
          1,
          1,
          2,
          1,
          1,
          2,
          1,
          1,
          2,
          1,
          1,
          2,
          1,
          1,
          0,
          1,
          1,
          1,
          1,
          1,
          1,
          0,
          0,
          0,
          0,
          0,
          0,
          0,
          0,
          0,
          0,
          0,
          0,
          0,
          0,
          0,
          -1,
          0,
          0,
          -1,
          0,
          -1,
          -1,
          0,
          -1,
          1,
          1,
          1,
          1,
          1,
          1,
          1,
          1,
          1,
          2,
          1,
          1,
          3,
          1,
          1,
          1,
          1,
          1,
          1,
          1,
          1,
          1,
          1,
          1,
          1,
          -1,
          0,
          -1,
          0,
          -2,
          0,
          -2,
          0,
          -1,
          0,
          -1,
          0,
          -1,
          0,
          -1,
          0,
          -1,
          0,
          -1,
          0,
          -1,
          0,
          -1,
          0,
          -1,
          0,
          -1,
          0,
          -1,
          0,
          -1,
          0,
          -1,
          0,
          -1,
          0,
          1,
          1,
          1,
          1,
          1,
          1,
          1,
          1,
          1,
          1,
          1,
          1,
          1,
          1,
          1,
          1,
          1,
          1,
          0,
          0,
          0,
          0,
          2,
          1,
          2,
          1,
          2,
          1,
          2,
          1,
          -1,
          0,
          0,
          0,
          0,
          -1,
          0,
          -1,
          0,
          -1,
          0,
          -1,
          0,
          -1,
          0,
          -1,
          -1,
          -1,
          -1,
          -1,
          -1,
          -1,
          1,
          1,
          1,
          1,
          1,
          1,
          1,
          1,
          1,
          1,
          1,
          1,
          1,
          1,
          -1,
          -1,
          -1,
          -1,
          -1,
          -1,
          -1,
          -1,
          -1,
          -1,
          1,
          0,
          1,
          0,
          1,
          0,
          1,
          1,
          1,
          1,
          1,
          2,
          1,
          2,
          1,
          2,
          1,
          3,
          2,
          1,
          2,
          1,
          2,
          1,
          2,
          1,
          0,
          0,
          -1,
          -1,
          0,
          -1,
          -1,
          -1,
          -1,
          -1,
          -1,
          -1,
          1,
          1,
          1,
          1,
          1,
          1,
          2,
          1,
          1,
          1,
          1,
          1,
          1,
          1,
          1,
          0,
          0,
          -1,
          -1,
          -1,
          -1,
          -1,
          -1,
          -1,
          -1,
          -1,
          -1,
          -1,
          -1,
          -1,
          0,
          0,
          -1,
          -1,
          -1,
          -1,
          -1,
          -1,
          -1,
          -1,
          -1,
          -1,
          -1,
          -1,
          -1,
          -1,
          -1,
          -1,
          -2,
          -2,
          1,
          1,
          1,
          1,
          1,
          1,
          1,
          1,
          1,
          1,
          1,
          1,
          1,
          1,
          2,
          0,
          1,
          1,
          1,
          1,
          1,
          1,
          1,
          1,
          1,
          1,
          1,
          1,
          1,
          0,
          0,
          0,
          0,
          0,
          0,
          0,
          -1,
          0,
          -1,
          0,
          -1,
          0,
          -1,
          0,
          -1,
          0,
          -1,
          0,
          -1,
          1,
          1,
          1,
          1,
          1,
          1,
          1,
          1,
          1,
          1,
          1,
          1
         ],
         "legendgroup": "",
         "name": "",
         "showlegend": true,
         "type": "pie"
        }
       ],
       "layout": {
        "legend": {
         "tracegroupgap": 0
        },
        "template": {
         "data": {
          "bar": [
           {
            "error_x": {
             "color": "#2a3f5f"
            },
            "error_y": {
             "color": "#2a3f5f"
            },
            "marker": {
             "line": {
              "color": "#E5ECF6",
              "width": 0.5
             },
             "pattern": {
              "fillmode": "overlay",
              "size": 10,
              "solidity": 0.2
             }
            },
            "type": "bar"
           }
          ],
          "barpolar": [
           {
            "marker": {
             "line": {
              "color": "#E5ECF6",
              "width": 0.5
             },
             "pattern": {
              "fillmode": "overlay",
              "size": 10,
              "solidity": 0.2
             }
            },
            "type": "barpolar"
           }
          ],
          "carpet": [
           {
            "aaxis": {
             "endlinecolor": "#2a3f5f",
             "gridcolor": "white",
             "linecolor": "white",
             "minorgridcolor": "white",
             "startlinecolor": "#2a3f5f"
            },
            "baxis": {
             "endlinecolor": "#2a3f5f",
             "gridcolor": "white",
             "linecolor": "white",
             "minorgridcolor": "white",
             "startlinecolor": "#2a3f5f"
            },
            "type": "carpet"
           }
          ],
          "choropleth": [
           {
            "colorbar": {
             "outlinewidth": 0,
             "ticks": ""
            },
            "type": "choropleth"
           }
          ],
          "contour": [
           {
            "colorbar": {
             "outlinewidth": 0,
             "ticks": ""
            },
            "colorscale": [
             [
              0,
              "#0d0887"
             ],
             [
              0.1111111111111111,
              "#46039f"
             ],
             [
              0.2222222222222222,
              "#7201a8"
             ],
             [
              0.3333333333333333,
              "#9c179e"
             ],
             [
              0.4444444444444444,
              "#bd3786"
             ],
             [
              0.5555555555555556,
              "#d8576b"
             ],
             [
              0.6666666666666666,
              "#ed7953"
             ],
             [
              0.7777777777777778,
              "#fb9f3a"
             ],
             [
              0.8888888888888888,
              "#fdca26"
             ],
             [
              1,
              "#f0f921"
             ]
            ],
            "type": "contour"
           }
          ],
          "contourcarpet": [
           {
            "colorbar": {
             "outlinewidth": 0,
             "ticks": ""
            },
            "type": "contourcarpet"
           }
          ],
          "heatmap": [
           {
            "colorbar": {
             "outlinewidth": 0,
             "ticks": ""
            },
            "colorscale": [
             [
              0,
              "#0d0887"
             ],
             [
              0.1111111111111111,
              "#46039f"
             ],
             [
              0.2222222222222222,
              "#7201a8"
             ],
             [
              0.3333333333333333,
              "#9c179e"
             ],
             [
              0.4444444444444444,
              "#bd3786"
             ],
             [
              0.5555555555555556,
              "#d8576b"
             ],
             [
              0.6666666666666666,
              "#ed7953"
             ],
             [
              0.7777777777777778,
              "#fb9f3a"
             ],
             [
              0.8888888888888888,
              "#fdca26"
             ],
             [
              1,
              "#f0f921"
             ]
            ],
            "type": "heatmap"
           }
          ],
          "heatmapgl": [
           {
            "colorbar": {
             "outlinewidth": 0,
             "ticks": ""
            },
            "colorscale": [
             [
              0,
              "#0d0887"
             ],
             [
              0.1111111111111111,
              "#46039f"
             ],
             [
              0.2222222222222222,
              "#7201a8"
             ],
             [
              0.3333333333333333,
              "#9c179e"
             ],
             [
              0.4444444444444444,
              "#bd3786"
             ],
             [
              0.5555555555555556,
              "#d8576b"
             ],
             [
              0.6666666666666666,
              "#ed7953"
             ],
             [
              0.7777777777777778,
              "#fb9f3a"
             ],
             [
              0.8888888888888888,
              "#fdca26"
             ],
             [
              1,
              "#f0f921"
             ]
            ],
            "type": "heatmapgl"
           }
          ],
          "histogram": [
           {
            "marker": {
             "pattern": {
              "fillmode": "overlay",
              "size": 10,
              "solidity": 0.2
             }
            },
            "type": "histogram"
           }
          ],
          "histogram2d": [
           {
            "colorbar": {
             "outlinewidth": 0,
             "ticks": ""
            },
            "colorscale": [
             [
              0,
              "#0d0887"
             ],
             [
              0.1111111111111111,
              "#46039f"
             ],
             [
              0.2222222222222222,
              "#7201a8"
             ],
             [
              0.3333333333333333,
              "#9c179e"
             ],
             [
              0.4444444444444444,
              "#bd3786"
             ],
             [
              0.5555555555555556,
              "#d8576b"
             ],
             [
              0.6666666666666666,
              "#ed7953"
             ],
             [
              0.7777777777777778,
              "#fb9f3a"
             ],
             [
              0.8888888888888888,
              "#fdca26"
             ],
             [
              1,
              "#f0f921"
             ]
            ],
            "type": "histogram2d"
           }
          ],
          "histogram2dcontour": [
           {
            "colorbar": {
             "outlinewidth": 0,
             "ticks": ""
            },
            "colorscale": [
             [
              0,
              "#0d0887"
             ],
             [
              0.1111111111111111,
              "#46039f"
             ],
             [
              0.2222222222222222,
              "#7201a8"
             ],
             [
              0.3333333333333333,
              "#9c179e"
             ],
             [
              0.4444444444444444,
              "#bd3786"
             ],
             [
              0.5555555555555556,
              "#d8576b"
             ],
             [
              0.6666666666666666,
              "#ed7953"
             ],
             [
              0.7777777777777778,
              "#fb9f3a"
             ],
             [
              0.8888888888888888,
              "#fdca26"
             ],
             [
              1,
              "#f0f921"
             ]
            ],
            "type": "histogram2dcontour"
           }
          ],
          "mesh3d": [
           {
            "colorbar": {
             "outlinewidth": 0,
             "ticks": ""
            },
            "type": "mesh3d"
           }
          ],
          "parcoords": [
           {
            "line": {
             "colorbar": {
              "outlinewidth": 0,
              "ticks": ""
             }
            },
            "type": "parcoords"
           }
          ],
          "pie": [
           {
            "automargin": true,
            "type": "pie"
           }
          ],
          "scatter": [
           {
            "fillpattern": {
             "fillmode": "overlay",
             "size": 10,
             "solidity": 0.2
            },
            "type": "scatter"
           }
          ],
          "scatter3d": [
           {
            "line": {
             "colorbar": {
              "outlinewidth": 0,
              "ticks": ""
             }
            },
            "marker": {
             "colorbar": {
              "outlinewidth": 0,
              "ticks": ""
             }
            },
            "type": "scatter3d"
           }
          ],
          "scattercarpet": [
           {
            "marker": {
             "colorbar": {
              "outlinewidth": 0,
              "ticks": ""
             }
            },
            "type": "scattercarpet"
           }
          ],
          "scattergeo": [
           {
            "marker": {
             "colorbar": {
              "outlinewidth": 0,
              "ticks": ""
             }
            },
            "type": "scattergeo"
           }
          ],
          "scattergl": [
           {
            "marker": {
             "colorbar": {
              "outlinewidth": 0,
              "ticks": ""
             }
            },
            "type": "scattergl"
           }
          ],
          "scattermapbox": [
           {
            "marker": {
             "colorbar": {
              "outlinewidth": 0,
              "ticks": ""
             }
            },
            "type": "scattermapbox"
           }
          ],
          "scatterpolar": [
           {
            "marker": {
             "colorbar": {
              "outlinewidth": 0,
              "ticks": ""
             }
            },
            "type": "scatterpolar"
           }
          ],
          "scatterpolargl": [
           {
            "marker": {
             "colorbar": {
              "outlinewidth": 0,
              "ticks": ""
             }
            },
            "type": "scatterpolargl"
           }
          ],
          "scatterternary": [
           {
            "marker": {
             "colorbar": {
              "outlinewidth": 0,
              "ticks": ""
             }
            },
            "type": "scatterternary"
           }
          ],
          "surface": [
           {
            "colorbar": {
             "outlinewidth": 0,
             "ticks": ""
            },
            "colorscale": [
             [
              0,
              "#0d0887"
             ],
             [
              0.1111111111111111,
              "#46039f"
             ],
             [
              0.2222222222222222,
              "#7201a8"
             ],
             [
              0.3333333333333333,
              "#9c179e"
             ],
             [
              0.4444444444444444,
              "#bd3786"
             ],
             [
              0.5555555555555556,
              "#d8576b"
             ],
             [
              0.6666666666666666,
              "#ed7953"
             ],
             [
              0.7777777777777778,
              "#fb9f3a"
             ],
             [
              0.8888888888888888,
              "#fdca26"
             ],
             [
              1,
              "#f0f921"
             ]
            ],
            "type": "surface"
           }
          ],
          "table": [
           {
            "cells": {
             "fill": {
              "color": "#EBF0F8"
             },
             "line": {
              "color": "white"
             }
            },
            "header": {
             "fill": {
              "color": "#C8D4E3"
             },
             "line": {
              "color": "white"
             }
            },
            "type": "table"
           }
          ]
         },
         "layout": {
          "annotationdefaults": {
           "arrowcolor": "#2a3f5f",
           "arrowhead": 0,
           "arrowwidth": 1
          },
          "autotypenumbers": "strict",
          "coloraxis": {
           "colorbar": {
            "outlinewidth": 0,
            "ticks": ""
           }
          },
          "colorscale": {
           "diverging": [
            [
             0,
             "#8e0152"
            ],
            [
             0.1,
             "#c51b7d"
            ],
            [
             0.2,
             "#de77ae"
            ],
            [
             0.3,
             "#f1b6da"
            ],
            [
             0.4,
             "#fde0ef"
            ],
            [
             0.5,
             "#f7f7f7"
            ],
            [
             0.6,
             "#e6f5d0"
            ],
            [
             0.7,
             "#b8e186"
            ],
            [
             0.8,
             "#7fbc41"
            ],
            [
             0.9,
             "#4d9221"
            ],
            [
             1,
             "#276419"
            ]
           ],
           "sequential": [
            [
             0,
             "#0d0887"
            ],
            [
             0.1111111111111111,
             "#46039f"
            ],
            [
             0.2222222222222222,
             "#7201a8"
            ],
            [
             0.3333333333333333,
             "#9c179e"
            ],
            [
             0.4444444444444444,
             "#bd3786"
            ],
            [
             0.5555555555555556,
             "#d8576b"
            ],
            [
             0.6666666666666666,
             "#ed7953"
            ],
            [
             0.7777777777777778,
             "#fb9f3a"
            ],
            [
             0.8888888888888888,
             "#fdca26"
            ],
            [
             1,
             "#f0f921"
            ]
           ],
           "sequentialminus": [
            [
             0,
             "#0d0887"
            ],
            [
             0.1111111111111111,
             "#46039f"
            ],
            [
             0.2222222222222222,
             "#7201a8"
            ],
            [
             0.3333333333333333,
             "#9c179e"
            ],
            [
             0.4444444444444444,
             "#bd3786"
            ],
            [
             0.5555555555555556,
             "#d8576b"
            ],
            [
             0.6666666666666666,
             "#ed7953"
            ],
            [
             0.7777777777777778,
             "#fb9f3a"
            ],
            [
             0.8888888888888888,
             "#fdca26"
            ],
            [
             1,
             "#f0f921"
            ]
           ]
          },
          "colorway": [
           "#636efa",
           "#EF553B",
           "#00cc96",
           "#ab63fa",
           "#FFA15A",
           "#19d3f3",
           "#FF6692",
           "#B6E880",
           "#FF97FF",
           "#FECB52"
          ],
          "font": {
           "color": "#2a3f5f"
          },
          "geo": {
           "bgcolor": "white",
           "lakecolor": "white",
           "landcolor": "#E5ECF6",
           "showlakes": true,
           "showland": true,
           "subunitcolor": "white"
          },
          "hoverlabel": {
           "align": "left"
          },
          "hovermode": "closest",
          "mapbox": {
           "style": "light"
          },
          "paper_bgcolor": "white",
          "plot_bgcolor": "#E5ECF6",
          "polar": {
           "angularaxis": {
            "gridcolor": "white",
            "linecolor": "white",
            "ticks": ""
           },
           "bgcolor": "#E5ECF6",
           "radialaxis": {
            "gridcolor": "white",
            "linecolor": "white",
            "ticks": ""
           }
          },
          "scene": {
           "xaxis": {
            "backgroundcolor": "#E5ECF6",
            "gridcolor": "white",
            "gridwidth": 2,
            "linecolor": "white",
            "showbackground": true,
            "ticks": "",
            "zerolinecolor": "white"
           },
           "yaxis": {
            "backgroundcolor": "#E5ECF6",
            "gridcolor": "white",
            "gridwidth": 2,
            "linecolor": "white",
            "showbackground": true,
            "ticks": "",
            "zerolinecolor": "white"
           },
           "zaxis": {
            "backgroundcolor": "#E5ECF6",
            "gridcolor": "white",
            "gridwidth": 2,
            "linecolor": "white",
            "showbackground": true,
            "ticks": "",
            "zerolinecolor": "white"
           }
          },
          "shapedefaults": {
           "line": {
            "color": "#2a3f5f"
           }
          },
          "ternary": {
           "aaxis": {
            "gridcolor": "white",
            "linecolor": "white",
            "ticks": ""
           },
           "baxis": {
            "gridcolor": "white",
            "linecolor": "white",
            "ticks": ""
           },
           "bgcolor": "#E5ECF6",
           "caxis": {
            "gridcolor": "white",
            "linecolor": "white",
            "ticks": ""
           }
          },
          "title": {
           "x": 0.05
          },
          "xaxis": {
           "automargin": true,
           "gridcolor": "white",
           "linecolor": "white",
           "ticks": "",
           "title": {
            "standoff": 15
           },
           "zerolinecolor": "white",
           "zerolinewidth": 2
          },
          "yaxis": {
           "automargin": true,
           "gridcolor": "white",
           "linecolor": "white",
           "ticks": "",
           "title": {
            "standoff": 15
           },
           "zerolinecolor": "white",
           "zerolinewidth": 2
          }
         }
        },
        "title": {
         "text": "Class Upgradation/Downgradation for Cancelled PNRS"
        }
       }
      }
     },
     "metadata": {},
     "output_type": "display_data"
    }
   ],
   "source": [
    "import ast\n",
    "\n",
    "# map class with numbers\n",
    "class_mapper = {'F': 0, 'B': 1 , 'P': 2, 'E': 3}\n",
    "\n",
    "# find {class_cancelled - class_allocated} -> positive: upgrade, negetive: downgrade, zero: same class\n",
    "# print(df.head())\n",
    "list_up_down = []\n",
    "for index, row in df.iterrows():\n",
    "    # print(row['canclled_class'], row['allocated_classes'])\n",
    "    cancelled_class = row['canclled_class']\n",
    "    allocated_classes = ast.literal_eval(row['allocated_classes'])\n",
    "    up_down = list(map(lambda x: class_mapper[x] - class_mapper[cancelled_class], allocated_classes))\n",
    "    list_up_down += up_down\n",
    "df_up_down = pd.DataFrame(list_up_down, columns=['up_down'])\n",
    "fig = px.pie(df_up_down, names='up_down', title='Class Upgradation/Downgradation for Cancelled PNRS')\n",
    "fig.show()"
   ]
  },
  {
   "cell_type": "code",
   "execution_count": 9,
   "metadata": {},
   "outputs": [
    {
     "name": "stdout",
     "output_type": "stream",
     "text": [
      "                                                type  y/n  count  percentage\n",
      "0                                     allocated PNRs  yes    330   66.801619\n",
      "1                                     allocated PNRs   no    164   33.198381\n",
      "2                         have same arrival airports  yes    187   56.666667\n",
      "3                         have same arrival airports   no    143   43.333333\n",
      "4                       have same departure airports  yes    187   56.666667\n",
      "5                       have same departure airports   no    143   43.333333\n",
      "6  both arrival and departure airports are different  yes    143   43.333333\n",
      "7  both arrival and departure airports are different   no    187   56.666667\n"
     ]
    },
    {
     "data": {
      "application/vnd.plotly.v1+json": {
       "config": {
        "plotlyServerURL": "https://plot.ly"
       },
       "data": [
        {
         "alignmentgroup": "True",
         "hovertemplate": "y/n=yes<br>type=%{x}<br>count=%{y}<br>percentage=%{text}<extra></extra>",
         "legendgroup": "yes",
         "marker": {
          "color": "#636efa",
          "pattern": {
           "shape": ""
          }
         },
         "name": "yes",
         "offsetgroup": "yes",
         "orientation": "v",
         "showlegend": true,
         "text": [
          66.80161943319838,
          56.666666666666664,
          56.666666666666664,
          43.333333333333336
         ],
         "textposition": "outside",
         "texttemplate": "%{text:.2f}%",
         "type": "bar",
         "x": [
          "allocated PNRs",
          "have same arrival airports",
          "have same departure airports",
          "both arrival and departure airports are different"
         ],
         "xaxis": "x",
         "y": [
          330,
          187,
          187,
          143
         ],
         "yaxis": "y"
        },
        {
         "alignmentgroup": "True",
         "hovertemplate": "y/n=no<br>type=%{x}<br>count=%{y}<br>percentage=%{text}<extra></extra>",
         "legendgroup": "no",
         "marker": {
          "color": "#EF553B",
          "pattern": {
           "shape": ""
          }
         },
         "name": "no",
         "offsetgroup": "no",
         "orientation": "v",
         "showlegend": true,
         "text": [
          33.198380566801625,
          43.333333333333336,
          43.333333333333336,
          56.666666666666664
         ],
         "textposition": "outside",
         "texttemplate": "%{text:.2f}%",
         "type": "bar",
         "x": [
          "allocated PNRs",
          "have same arrival airports",
          "have same departure airports",
          "both arrival and departure airports are different"
         ],
         "xaxis": "x",
         "y": [
          164,
          143,
          143,
          187
         ],
         "yaxis": "y"
        }
       ],
       "layout": {
        "barmode": "relative",
        "legend": {
         "title": {
          "text": "y/n"
         },
         "tracegroupgap": 0
        },
        "template": {
         "data": {
          "bar": [
           {
            "error_x": {
             "color": "#2a3f5f"
            },
            "error_y": {
             "color": "#2a3f5f"
            },
            "marker": {
             "line": {
              "color": "#E5ECF6",
              "width": 0.5
             },
             "pattern": {
              "fillmode": "overlay",
              "size": 10,
              "solidity": 0.2
             }
            },
            "type": "bar"
           }
          ],
          "barpolar": [
           {
            "marker": {
             "line": {
              "color": "#E5ECF6",
              "width": 0.5
             },
             "pattern": {
              "fillmode": "overlay",
              "size": 10,
              "solidity": 0.2
             }
            },
            "type": "barpolar"
           }
          ],
          "carpet": [
           {
            "aaxis": {
             "endlinecolor": "#2a3f5f",
             "gridcolor": "white",
             "linecolor": "white",
             "minorgridcolor": "white",
             "startlinecolor": "#2a3f5f"
            },
            "baxis": {
             "endlinecolor": "#2a3f5f",
             "gridcolor": "white",
             "linecolor": "white",
             "minorgridcolor": "white",
             "startlinecolor": "#2a3f5f"
            },
            "type": "carpet"
           }
          ],
          "choropleth": [
           {
            "colorbar": {
             "outlinewidth": 0,
             "ticks": ""
            },
            "type": "choropleth"
           }
          ],
          "contour": [
           {
            "colorbar": {
             "outlinewidth": 0,
             "ticks": ""
            },
            "colorscale": [
             [
              0,
              "#0d0887"
             ],
             [
              0.1111111111111111,
              "#46039f"
             ],
             [
              0.2222222222222222,
              "#7201a8"
             ],
             [
              0.3333333333333333,
              "#9c179e"
             ],
             [
              0.4444444444444444,
              "#bd3786"
             ],
             [
              0.5555555555555556,
              "#d8576b"
             ],
             [
              0.6666666666666666,
              "#ed7953"
             ],
             [
              0.7777777777777778,
              "#fb9f3a"
             ],
             [
              0.8888888888888888,
              "#fdca26"
             ],
             [
              1,
              "#f0f921"
             ]
            ],
            "type": "contour"
           }
          ],
          "contourcarpet": [
           {
            "colorbar": {
             "outlinewidth": 0,
             "ticks": ""
            },
            "type": "contourcarpet"
           }
          ],
          "heatmap": [
           {
            "colorbar": {
             "outlinewidth": 0,
             "ticks": ""
            },
            "colorscale": [
             [
              0,
              "#0d0887"
             ],
             [
              0.1111111111111111,
              "#46039f"
             ],
             [
              0.2222222222222222,
              "#7201a8"
             ],
             [
              0.3333333333333333,
              "#9c179e"
             ],
             [
              0.4444444444444444,
              "#bd3786"
             ],
             [
              0.5555555555555556,
              "#d8576b"
             ],
             [
              0.6666666666666666,
              "#ed7953"
             ],
             [
              0.7777777777777778,
              "#fb9f3a"
             ],
             [
              0.8888888888888888,
              "#fdca26"
             ],
             [
              1,
              "#f0f921"
             ]
            ],
            "type": "heatmap"
           }
          ],
          "heatmapgl": [
           {
            "colorbar": {
             "outlinewidth": 0,
             "ticks": ""
            },
            "colorscale": [
             [
              0,
              "#0d0887"
             ],
             [
              0.1111111111111111,
              "#46039f"
             ],
             [
              0.2222222222222222,
              "#7201a8"
             ],
             [
              0.3333333333333333,
              "#9c179e"
             ],
             [
              0.4444444444444444,
              "#bd3786"
             ],
             [
              0.5555555555555556,
              "#d8576b"
             ],
             [
              0.6666666666666666,
              "#ed7953"
             ],
             [
              0.7777777777777778,
              "#fb9f3a"
             ],
             [
              0.8888888888888888,
              "#fdca26"
             ],
             [
              1,
              "#f0f921"
             ]
            ],
            "type": "heatmapgl"
           }
          ],
          "histogram": [
           {
            "marker": {
             "pattern": {
              "fillmode": "overlay",
              "size": 10,
              "solidity": 0.2
             }
            },
            "type": "histogram"
           }
          ],
          "histogram2d": [
           {
            "colorbar": {
             "outlinewidth": 0,
             "ticks": ""
            },
            "colorscale": [
             [
              0,
              "#0d0887"
             ],
             [
              0.1111111111111111,
              "#46039f"
             ],
             [
              0.2222222222222222,
              "#7201a8"
             ],
             [
              0.3333333333333333,
              "#9c179e"
             ],
             [
              0.4444444444444444,
              "#bd3786"
             ],
             [
              0.5555555555555556,
              "#d8576b"
             ],
             [
              0.6666666666666666,
              "#ed7953"
             ],
             [
              0.7777777777777778,
              "#fb9f3a"
             ],
             [
              0.8888888888888888,
              "#fdca26"
             ],
             [
              1,
              "#f0f921"
             ]
            ],
            "type": "histogram2d"
           }
          ],
          "histogram2dcontour": [
           {
            "colorbar": {
             "outlinewidth": 0,
             "ticks": ""
            },
            "colorscale": [
             [
              0,
              "#0d0887"
             ],
             [
              0.1111111111111111,
              "#46039f"
             ],
             [
              0.2222222222222222,
              "#7201a8"
             ],
             [
              0.3333333333333333,
              "#9c179e"
             ],
             [
              0.4444444444444444,
              "#bd3786"
             ],
             [
              0.5555555555555556,
              "#d8576b"
             ],
             [
              0.6666666666666666,
              "#ed7953"
             ],
             [
              0.7777777777777778,
              "#fb9f3a"
             ],
             [
              0.8888888888888888,
              "#fdca26"
             ],
             [
              1,
              "#f0f921"
             ]
            ],
            "type": "histogram2dcontour"
           }
          ],
          "mesh3d": [
           {
            "colorbar": {
             "outlinewidth": 0,
             "ticks": ""
            },
            "type": "mesh3d"
           }
          ],
          "parcoords": [
           {
            "line": {
             "colorbar": {
              "outlinewidth": 0,
              "ticks": ""
             }
            },
            "type": "parcoords"
           }
          ],
          "pie": [
           {
            "automargin": true,
            "type": "pie"
           }
          ],
          "scatter": [
           {
            "fillpattern": {
             "fillmode": "overlay",
             "size": 10,
             "solidity": 0.2
            },
            "type": "scatter"
           }
          ],
          "scatter3d": [
           {
            "line": {
             "colorbar": {
              "outlinewidth": 0,
              "ticks": ""
             }
            },
            "marker": {
             "colorbar": {
              "outlinewidth": 0,
              "ticks": ""
             }
            },
            "type": "scatter3d"
           }
          ],
          "scattercarpet": [
           {
            "marker": {
             "colorbar": {
              "outlinewidth": 0,
              "ticks": ""
             }
            },
            "type": "scattercarpet"
           }
          ],
          "scattergeo": [
           {
            "marker": {
             "colorbar": {
              "outlinewidth": 0,
              "ticks": ""
             }
            },
            "type": "scattergeo"
           }
          ],
          "scattergl": [
           {
            "marker": {
             "colorbar": {
              "outlinewidth": 0,
              "ticks": ""
             }
            },
            "type": "scattergl"
           }
          ],
          "scattermapbox": [
           {
            "marker": {
             "colorbar": {
              "outlinewidth": 0,
              "ticks": ""
             }
            },
            "type": "scattermapbox"
           }
          ],
          "scatterpolar": [
           {
            "marker": {
             "colorbar": {
              "outlinewidth": 0,
              "ticks": ""
             }
            },
            "type": "scatterpolar"
           }
          ],
          "scatterpolargl": [
           {
            "marker": {
             "colorbar": {
              "outlinewidth": 0,
              "ticks": ""
             }
            },
            "type": "scatterpolargl"
           }
          ],
          "scatterternary": [
           {
            "marker": {
             "colorbar": {
              "outlinewidth": 0,
              "ticks": ""
             }
            },
            "type": "scatterternary"
           }
          ],
          "surface": [
           {
            "colorbar": {
             "outlinewidth": 0,
             "ticks": ""
            },
            "colorscale": [
             [
              0,
              "#0d0887"
             ],
             [
              0.1111111111111111,
              "#46039f"
             ],
             [
              0.2222222222222222,
              "#7201a8"
             ],
             [
              0.3333333333333333,
              "#9c179e"
             ],
             [
              0.4444444444444444,
              "#bd3786"
             ],
             [
              0.5555555555555556,
              "#d8576b"
             ],
             [
              0.6666666666666666,
              "#ed7953"
             ],
             [
              0.7777777777777778,
              "#fb9f3a"
             ],
             [
              0.8888888888888888,
              "#fdca26"
             ],
             [
              1,
              "#f0f921"
             ]
            ],
            "type": "surface"
           }
          ],
          "table": [
           {
            "cells": {
             "fill": {
              "color": "#EBF0F8"
             },
             "line": {
              "color": "white"
             }
            },
            "header": {
             "fill": {
              "color": "#C8D4E3"
             },
             "line": {
              "color": "white"
             }
            },
            "type": "table"
           }
          ]
         },
         "layout": {
          "annotationdefaults": {
           "arrowcolor": "#2a3f5f",
           "arrowhead": 0,
           "arrowwidth": 1
          },
          "autotypenumbers": "strict",
          "coloraxis": {
           "colorbar": {
            "outlinewidth": 0,
            "ticks": ""
           }
          },
          "colorscale": {
           "diverging": [
            [
             0,
             "#8e0152"
            ],
            [
             0.1,
             "#c51b7d"
            ],
            [
             0.2,
             "#de77ae"
            ],
            [
             0.3,
             "#f1b6da"
            ],
            [
             0.4,
             "#fde0ef"
            ],
            [
             0.5,
             "#f7f7f7"
            ],
            [
             0.6,
             "#e6f5d0"
            ],
            [
             0.7,
             "#b8e186"
            ],
            [
             0.8,
             "#7fbc41"
            ],
            [
             0.9,
             "#4d9221"
            ],
            [
             1,
             "#276419"
            ]
           ],
           "sequential": [
            [
             0,
             "#0d0887"
            ],
            [
             0.1111111111111111,
             "#46039f"
            ],
            [
             0.2222222222222222,
             "#7201a8"
            ],
            [
             0.3333333333333333,
             "#9c179e"
            ],
            [
             0.4444444444444444,
             "#bd3786"
            ],
            [
             0.5555555555555556,
             "#d8576b"
            ],
            [
             0.6666666666666666,
             "#ed7953"
            ],
            [
             0.7777777777777778,
             "#fb9f3a"
            ],
            [
             0.8888888888888888,
             "#fdca26"
            ],
            [
             1,
             "#f0f921"
            ]
           ],
           "sequentialminus": [
            [
             0,
             "#0d0887"
            ],
            [
             0.1111111111111111,
             "#46039f"
            ],
            [
             0.2222222222222222,
             "#7201a8"
            ],
            [
             0.3333333333333333,
             "#9c179e"
            ],
            [
             0.4444444444444444,
             "#bd3786"
            ],
            [
             0.5555555555555556,
             "#d8576b"
            ],
            [
             0.6666666666666666,
             "#ed7953"
            ],
            [
             0.7777777777777778,
             "#fb9f3a"
            ],
            [
             0.8888888888888888,
             "#fdca26"
            ],
            [
             1,
             "#f0f921"
            ]
           ]
          },
          "colorway": [
           "#636efa",
           "#EF553B",
           "#00cc96",
           "#ab63fa",
           "#FFA15A",
           "#19d3f3",
           "#FF6692",
           "#B6E880",
           "#FF97FF",
           "#FECB52"
          ],
          "font": {
           "color": "#2a3f5f"
          },
          "geo": {
           "bgcolor": "white",
           "lakecolor": "white",
           "landcolor": "#E5ECF6",
           "showlakes": true,
           "showland": true,
           "subunitcolor": "white"
          },
          "hoverlabel": {
           "align": "left"
          },
          "hovermode": "closest",
          "mapbox": {
           "style": "light"
          },
          "paper_bgcolor": "white",
          "plot_bgcolor": "#E5ECF6",
          "polar": {
           "angularaxis": {
            "gridcolor": "white",
            "linecolor": "white",
            "ticks": ""
           },
           "bgcolor": "#E5ECF6",
           "radialaxis": {
            "gridcolor": "white",
            "linecolor": "white",
            "ticks": ""
           }
          },
          "scene": {
           "xaxis": {
            "backgroundcolor": "#E5ECF6",
            "gridcolor": "white",
            "gridwidth": 2,
            "linecolor": "white",
            "showbackground": true,
            "ticks": "",
            "zerolinecolor": "white"
           },
           "yaxis": {
            "backgroundcolor": "#E5ECF6",
            "gridcolor": "white",
            "gridwidth": 2,
            "linecolor": "white",
            "showbackground": true,
            "ticks": "",
            "zerolinecolor": "white"
           },
           "zaxis": {
            "backgroundcolor": "#E5ECF6",
            "gridcolor": "white",
            "gridwidth": 2,
            "linecolor": "white",
            "showbackground": true,
            "ticks": "",
            "zerolinecolor": "white"
           }
          },
          "shapedefaults": {
           "line": {
            "color": "#2a3f5f"
           }
          },
          "ternary": {
           "aaxis": {
            "gridcolor": "white",
            "linecolor": "white",
            "ticks": ""
           },
           "baxis": {
            "gridcolor": "white",
            "linecolor": "white",
            "ticks": ""
           },
           "bgcolor": "#E5ECF6",
           "caxis": {
            "gridcolor": "white",
            "linecolor": "white",
            "ticks": ""
           }
          },
          "title": {
           "x": 0.05
          },
          "xaxis": {
           "automargin": true,
           "gridcolor": "white",
           "linecolor": "white",
           "ticks": "",
           "title": {
            "standoff": 15
           },
           "zerolinecolor": "white",
           "zerolinewidth": 2
          },
          "yaxis": {
           "automargin": true,
           "gridcolor": "white",
           "linecolor": "white",
           "ticks": "",
           "title": {
            "standoff": 15
           },
           "zerolinecolor": "white",
           "zerolinewidth": 2
          }
         }
        },
        "title": {
         "text": "Allocated PNR Stats"
        },
        "xaxis": {
         "anchor": "y",
         "domain": [
          0,
          1
         ],
         "title": {
          "text": "type"
         }
        },
        "yaxis": {
         "anchor": "x",
         "domain": [
          0,
          1
         ],
         "title": {
          "text": "count"
         }
        }
       }
      }
     },
     "metadata": {},
     "output_type": "display_data"
    }
   ],
   "source": [
    "# print(df.columns)\n",
    "total_allocated = 0\n",
    "count_same_arr = 0\n",
    "count_same_dep = 0\n",
    "count_diff_arrNdep = 0\n",
    "\n",
    "for index, row in df.iterrows():\n",
    "    if(len(row['allocated_classes'])!=2):\n",
    "        total_allocated += 1\n",
    "        count_same_arr += row['allocated_dst']==row['canclled_dst']\n",
    "        count_same_dep += row['allocated_src']==row['canclled_src']\n",
    "        count_diff_arrNdep += row['allocated_dst']!=row['canclled_dst'] and row['allocated_src']!=row['canclled_src']\n",
    "        \n",
    "df_allocated = pd.DataFrame({\n",
    "    'type': ['allocated PNRs']*2 + ['have same arrival airports']*2 + ['have same departure airports']*2 + ['both arrival and departure airports are different']*2,\n",
    "    'y/n': ['yes', 'no']*4,\n",
    "    'count': [total_allocated, len(df)-total_allocated, count_same_arr, total_allocated-count_same_arr, count_same_dep, total_allocated-count_same_dep, count_diff_arrNdep, total_allocated-count_diff_arrNdep]\n",
    "})\n",
    "df_allocated['percentage'] = df_allocated.groupby('type')['count'].transform(lambda x: (x / x.sum()) * 100)\n",
    "percentage_list = df_allocated['percentage'].tolist()\n",
    "print(df_allocated)\n",
    "fig = px.bar(df_allocated, x=\"type\", y=\"count\", color=\"y/n\", title=\"Allocated PNR Stats\", text=\"percentage\")\n",
    "fig.update_traces(texttemplate=\"%{text:.2f}%\", textposition='outside')\n",
    "# texttemplate=\"%{y} x %{width} =<br>%{customdata[1]}\",\n",
    "fig.show()"
   ]
  },
  {
   "cell_type": "code",
   "execution_count": 10,
   "metadata": {},
   "outputs": [
    {
     "name": "stdout",
     "output_type": "stream",
     "text": [
      "     F  B  P    E\n",
      "F   17  0  0    1\n",
      "B  189  0  0    4\n",
      "P   21  0  0  151\n",
      "E    2  0  0  167\n"
     ]
    },
    {
     "data": {
      "application/vnd.plotly.v1+json": {
       "config": {
        "plotlyServerURL": "https://plot.ly"
       },
       "data": [
        {
         "coloraxis": "coloraxis",
         "hovertemplate": "x: %{x}<br>y: %{y}<br>color: %{z}<extra></extra>",
         "name": "0",
         "type": "heatmap",
         "x": [
          "F",
          "B",
          "P",
          "E"
         ],
         "xaxis": "x",
         "y": [
          "F",
          "B",
          "P",
          "E"
         ],
         "yaxis": "y",
         "z": [
          [
           17,
           0,
           0,
           1
          ],
          [
           189,
           0,
           0,
           4
          ],
          [
           21,
           0,
           0,
           151
          ],
          [
           2,
           0,
           0,
           167
          ]
         ]
        }
       ],
       "layout": {
        "coloraxis": {
         "colorscale": [
          [
           0,
           "#0d0887"
          ],
          [
           0.1111111111111111,
           "#46039f"
          ],
          [
           0.2222222222222222,
           "#7201a8"
          ],
          [
           0.3333333333333333,
           "#9c179e"
          ],
          [
           0.4444444444444444,
           "#bd3786"
          ],
          [
           0.5555555555555556,
           "#d8576b"
          ],
          [
           0.6666666666666666,
           "#ed7953"
          ],
          [
           0.7777777777777778,
           "#fb9f3a"
          ],
          [
           0.8888888888888888,
           "#fdca26"
          ],
          [
           1,
           "#f0f921"
          ]
         ]
        },
        "template": {
         "data": {
          "bar": [
           {
            "error_x": {
             "color": "#2a3f5f"
            },
            "error_y": {
             "color": "#2a3f5f"
            },
            "marker": {
             "line": {
              "color": "#E5ECF6",
              "width": 0.5
             },
             "pattern": {
              "fillmode": "overlay",
              "size": 10,
              "solidity": 0.2
             }
            },
            "type": "bar"
           }
          ],
          "barpolar": [
           {
            "marker": {
             "line": {
              "color": "#E5ECF6",
              "width": 0.5
             },
             "pattern": {
              "fillmode": "overlay",
              "size": 10,
              "solidity": 0.2
             }
            },
            "type": "barpolar"
           }
          ],
          "carpet": [
           {
            "aaxis": {
             "endlinecolor": "#2a3f5f",
             "gridcolor": "white",
             "linecolor": "white",
             "minorgridcolor": "white",
             "startlinecolor": "#2a3f5f"
            },
            "baxis": {
             "endlinecolor": "#2a3f5f",
             "gridcolor": "white",
             "linecolor": "white",
             "minorgridcolor": "white",
             "startlinecolor": "#2a3f5f"
            },
            "type": "carpet"
           }
          ],
          "choropleth": [
           {
            "colorbar": {
             "outlinewidth": 0,
             "ticks": ""
            },
            "type": "choropleth"
           }
          ],
          "contour": [
           {
            "colorbar": {
             "outlinewidth": 0,
             "ticks": ""
            },
            "colorscale": [
             [
              0,
              "#0d0887"
             ],
             [
              0.1111111111111111,
              "#46039f"
             ],
             [
              0.2222222222222222,
              "#7201a8"
             ],
             [
              0.3333333333333333,
              "#9c179e"
             ],
             [
              0.4444444444444444,
              "#bd3786"
             ],
             [
              0.5555555555555556,
              "#d8576b"
             ],
             [
              0.6666666666666666,
              "#ed7953"
             ],
             [
              0.7777777777777778,
              "#fb9f3a"
             ],
             [
              0.8888888888888888,
              "#fdca26"
             ],
             [
              1,
              "#f0f921"
             ]
            ],
            "type": "contour"
           }
          ],
          "contourcarpet": [
           {
            "colorbar": {
             "outlinewidth": 0,
             "ticks": ""
            },
            "type": "contourcarpet"
           }
          ],
          "heatmap": [
           {
            "colorbar": {
             "outlinewidth": 0,
             "ticks": ""
            },
            "colorscale": [
             [
              0,
              "#0d0887"
             ],
             [
              0.1111111111111111,
              "#46039f"
             ],
             [
              0.2222222222222222,
              "#7201a8"
             ],
             [
              0.3333333333333333,
              "#9c179e"
             ],
             [
              0.4444444444444444,
              "#bd3786"
             ],
             [
              0.5555555555555556,
              "#d8576b"
             ],
             [
              0.6666666666666666,
              "#ed7953"
             ],
             [
              0.7777777777777778,
              "#fb9f3a"
             ],
             [
              0.8888888888888888,
              "#fdca26"
             ],
             [
              1,
              "#f0f921"
             ]
            ],
            "type": "heatmap"
           }
          ],
          "heatmapgl": [
           {
            "colorbar": {
             "outlinewidth": 0,
             "ticks": ""
            },
            "colorscale": [
             [
              0,
              "#0d0887"
             ],
             [
              0.1111111111111111,
              "#46039f"
             ],
             [
              0.2222222222222222,
              "#7201a8"
             ],
             [
              0.3333333333333333,
              "#9c179e"
             ],
             [
              0.4444444444444444,
              "#bd3786"
             ],
             [
              0.5555555555555556,
              "#d8576b"
             ],
             [
              0.6666666666666666,
              "#ed7953"
             ],
             [
              0.7777777777777778,
              "#fb9f3a"
             ],
             [
              0.8888888888888888,
              "#fdca26"
             ],
             [
              1,
              "#f0f921"
             ]
            ],
            "type": "heatmapgl"
           }
          ],
          "histogram": [
           {
            "marker": {
             "pattern": {
              "fillmode": "overlay",
              "size": 10,
              "solidity": 0.2
             }
            },
            "type": "histogram"
           }
          ],
          "histogram2d": [
           {
            "colorbar": {
             "outlinewidth": 0,
             "ticks": ""
            },
            "colorscale": [
             [
              0,
              "#0d0887"
             ],
             [
              0.1111111111111111,
              "#46039f"
             ],
             [
              0.2222222222222222,
              "#7201a8"
             ],
             [
              0.3333333333333333,
              "#9c179e"
             ],
             [
              0.4444444444444444,
              "#bd3786"
             ],
             [
              0.5555555555555556,
              "#d8576b"
             ],
             [
              0.6666666666666666,
              "#ed7953"
             ],
             [
              0.7777777777777778,
              "#fb9f3a"
             ],
             [
              0.8888888888888888,
              "#fdca26"
             ],
             [
              1,
              "#f0f921"
             ]
            ],
            "type": "histogram2d"
           }
          ],
          "histogram2dcontour": [
           {
            "colorbar": {
             "outlinewidth": 0,
             "ticks": ""
            },
            "colorscale": [
             [
              0,
              "#0d0887"
             ],
             [
              0.1111111111111111,
              "#46039f"
             ],
             [
              0.2222222222222222,
              "#7201a8"
             ],
             [
              0.3333333333333333,
              "#9c179e"
             ],
             [
              0.4444444444444444,
              "#bd3786"
             ],
             [
              0.5555555555555556,
              "#d8576b"
             ],
             [
              0.6666666666666666,
              "#ed7953"
             ],
             [
              0.7777777777777778,
              "#fb9f3a"
             ],
             [
              0.8888888888888888,
              "#fdca26"
             ],
             [
              1,
              "#f0f921"
             ]
            ],
            "type": "histogram2dcontour"
           }
          ],
          "mesh3d": [
           {
            "colorbar": {
             "outlinewidth": 0,
             "ticks": ""
            },
            "type": "mesh3d"
           }
          ],
          "parcoords": [
           {
            "line": {
             "colorbar": {
              "outlinewidth": 0,
              "ticks": ""
             }
            },
            "type": "parcoords"
           }
          ],
          "pie": [
           {
            "automargin": true,
            "type": "pie"
           }
          ],
          "scatter": [
           {
            "fillpattern": {
             "fillmode": "overlay",
             "size": 10,
             "solidity": 0.2
            },
            "type": "scatter"
           }
          ],
          "scatter3d": [
           {
            "line": {
             "colorbar": {
              "outlinewidth": 0,
              "ticks": ""
             }
            },
            "marker": {
             "colorbar": {
              "outlinewidth": 0,
              "ticks": ""
             }
            },
            "type": "scatter3d"
           }
          ],
          "scattercarpet": [
           {
            "marker": {
             "colorbar": {
              "outlinewidth": 0,
              "ticks": ""
             }
            },
            "type": "scattercarpet"
           }
          ],
          "scattergeo": [
           {
            "marker": {
             "colorbar": {
              "outlinewidth": 0,
              "ticks": ""
             }
            },
            "type": "scattergeo"
           }
          ],
          "scattergl": [
           {
            "marker": {
             "colorbar": {
              "outlinewidth": 0,
              "ticks": ""
             }
            },
            "type": "scattergl"
           }
          ],
          "scattermapbox": [
           {
            "marker": {
             "colorbar": {
              "outlinewidth": 0,
              "ticks": ""
             }
            },
            "type": "scattermapbox"
           }
          ],
          "scatterpolar": [
           {
            "marker": {
             "colorbar": {
              "outlinewidth": 0,
              "ticks": ""
             }
            },
            "type": "scatterpolar"
           }
          ],
          "scatterpolargl": [
           {
            "marker": {
             "colorbar": {
              "outlinewidth": 0,
              "ticks": ""
             }
            },
            "type": "scatterpolargl"
           }
          ],
          "scatterternary": [
           {
            "marker": {
             "colorbar": {
              "outlinewidth": 0,
              "ticks": ""
             }
            },
            "type": "scatterternary"
           }
          ],
          "surface": [
           {
            "colorbar": {
             "outlinewidth": 0,
             "ticks": ""
            },
            "colorscale": [
             [
              0,
              "#0d0887"
             ],
             [
              0.1111111111111111,
              "#46039f"
             ],
             [
              0.2222222222222222,
              "#7201a8"
             ],
             [
              0.3333333333333333,
              "#9c179e"
             ],
             [
              0.4444444444444444,
              "#bd3786"
             ],
             [
              0.5555555555555556,
              "#d8576b"
             ],
             [
              0.6666666666666666,
              "#ed7953"
             ],
             [
              0.7777777777777778,
              "#fb9f3a"
             ],
             [
              0.8888888888888888,
              "#fdca26"
             ],
             [
              1,
              "#f0f921"
             ]
            ],
            "type": "surface"
           }
          ],
          "table": [
           {
            "cells": {
             "fill": {
              "color": "#EBF0F8"
             },
             "line": {
              "color": "white"
             }
            },
            "header": {
             "fill": {
              "color": "#C8D4E3"
             },
             "line": {
              "color": "white"
             }
            },
            "type": "table"
           }
          ]
         },
         "layout": {
          "annotationdefaults": {
           "arrowcolor": "#2a3f5f",
           "arrowhead": 0,
           "arrowwidth": 1
          },
          "autotypenumbers": "strict",
          "coloraxis": {
           "colorbar": {
            "outlinewidth": 0,
            "ticks": ""
           }
          },
          "colorscale": {
           "diverging": [
            [
             0,
             "#8e0152"
            ],
            [
             0.1,
             "#c51b7d"
            ],
            [
             0.2,
             "#de77ae"
            ],
            [
             0.3,
             "#f1b6da"
            ],
            [
             0.4,
             "#fde0ef"
            ],
            [
             0.5,
             "#f7f7f7"
            ],
            [
             0.6,
             "#e6f5d0"
            ],
            [
             0.7,
             "#b8e186"
            ],
            [
             0.8,
             "#7fbc41"
            ],
            [
             0.9,
             "#4d9221"
            ],
            [
             1,
             "#276419"
            ]
           ],
           "sequential": [
            [
             0,
             "#0d0887"
            ],
            [
             0.1111111111111111,
             "#46039f"
            ],
            [
             0.2222222222222222,
             "#7201a8"
            ],
            [
             0.3333333333333333,
             "#9c179e"
            ],
            [
             0.4444444444444444,
             "#bd3786"
            ],
            [
             0.5555555555555556,
             "#d8576b"
            ],
            [
             0.6666666666666666,
             "#ed7953"
            ],
            [
             0.7777777777777778,
             "#fb9f3a"
            ],
            [
             0.8888888888888888,
             "#fdca26"
            ],
            [
             1,
             "#f0f921"
            ]
           ],
           "sequentialminus": [
            [
             0,
             "#0d0887"
            ],
            [
             0.1111111111111111,
             "#46039f"
            ],
            [
             0.2222222222222222,
             "#7201a8"
            ],
            [
             0.3333333333333333,
             "#9c179e"
            ],
            [
             0.4444444444444444,
             "#bd3786"
            ],
            [
             0.5555555555555556,
             "#d8576b"
            ],
            [
             0.6666666666666666,
             "#ed7953"
            ],
            [
             0.7777777777777778,
             "#fb9f3a"
            ],
            [
             0.8888888888888888,
             "#fdca26"
            ],
            [
             1,
             "#f0f921"
            ]
           ]
          },
          "colorway": [
           "#636efa",
           "#EF553B",
           "#00cc96",
           "#ab63fa",
           "#FFA15A",
           "#19d3f3",
           "#FF6692",
           "#B6E880",
           "#FF97FF",
           "#FECB52"
          ],
          "font": {
           "color": "#2a3f5f"
          },
          "geo": {
           "bgcolor": "white",
           "lakecolor": "white",
           "landcolor": "#E5ECF6",
           "showlakes": true,
           "showland": true,
           "subunitcolor": "white"
          },
          "hoverlabel": {
           "align": "left"
          },
          "hovermode": "closest",
          "mapbox": {
           "style": "light"
          },
          "paper_bgcolor": "white",
          "plot_bgcolor": "#E5ECF6",
          "polar": {
           "angularaxis": {
            "gridcolor": "white",
            "linecolor": "white",
            "ticks": ""
           },
           "bgcolor": "#E5ECF6",
           "radialaxis": {
            "gridcolor": "white",
            "linecolor": "white",
            "ticks": ""
           }
          },
          "scene": {
           "xaxis": {
            "backgroundcolor": "#E5ECF6",
            "gridcolor": "white",
            "gridwidth": 2,
            "linecolor": "white",
            "showbackground": true,
            "ticks": "",
            "zerolinecolor": "white"
           },
           "yaxis": {
            "backgroundcolor": "#E5ECF6",
            "gridcolor": "white",
            "gridwidth": 2,
            "linecolor": "white",
            "showbackground": true,
            "ticks": "",
            "zerolinecolor": "white"
           },
           "zaxis": {
            "backgroundcolor": "#E5ECF6",
            "gridcolor": "white",
            "gridwidth": 2,
            "linecolor": "white",
            "showbackground": true,
            "ticks": "",
            "zerolinecolor": "white"
           }
          },
          "shapedefaults": {
           "line": {
            "color": "#2a3f5f"
           }
          },
          "ternary": {
           "aaxis": {
            "gridcolor": "white",
            "linecolor": "white",
            "ticks": ""
           },
           "baxis": {
            "gridcolor": "white",
            "linecolor": "white",
            "ticks": ""
           },
           "bgcolor": "#E5ECF6",
           "caxis": {
            "gridcolor": "white",
            "linecolor": "white",
            "ticks": ""
           }
          },
          "title": {
           "x": 0.05
          },
          "xaxis": {
           "automargin": true,
           "gridcolor": "white",
           "linecolor": "white",
           "ticks": "",
           "title": {
            "standoff": 15
           },
           "zerolinecolor": "white",
           "zerolinewidth": 2
          },
          "yaxis": {
           "automargin": true,
           "gridcolor": "white",
           "linecolor": "white",
           "ticks": "",
           "title": {
            "standoff": 15
           },
           "zerolinecolor": "white",
           "zerolinewidth": 2
          }
         }
        },
        "title": {
         "text": "Confusion Matrix"
        },
        "xaxis": {
         "anchor": "y",
         "constrain": "domain",
         "domain": [
          0,
          1
         ],
         "scaleanchor": "y",
         "title": {
          "text": "Cancelled Class"
         }
        },
        "yaxis": {
         "anchor": "x",
         "autorange": "reversed",
         "constrain": "domain",
         "domain": [
          0,
          1
         ],
         "title": {
          "text": "Allocated Class"
         }
        }
       }
      }
     },
     "metadata": {},
     "output_type": "display_data"
    }
   ],
   "source": [
    "df_confusion_matrix = pd.DataFrame([[0]*4]*4, index = ['F', 'B', 'P', 'E'], columns=['F', 'B', 'P', 'E'])\n",
    "for index, row in df.iterrows():\n",
    "    cancelled_class = row['canclled_class']\n",
    "    allocated_classes = ast.literal_eval(row['allocated_classes'])\n",
    "    for allocated_class in allocated_classes:\n",
    "        df_confusion_matrix[cancelled_class][allocated_class] += 1 \n",
    "print(df_confusion_matrix)\n",
    "fig = px.imshow(df_confusion_matrix, title=\"Confusion Matrix\")\n",
    "fig.update_xaxes(title_text='Cancelled Class')\n",
    "fig.update_yaxes(title_text='Allocated Class')\n",
    "fig.show()"
   ]
  },
  {
   "cell_type": "code",
   "execution_count": null,
   "metadata": {},
   "outputs": [],
   "source": []
  },
  {
   "cell_type": "code",
   "execution_count": 12,
   "metadata": {},
   "outputs": [
    {
     "data": {
      "application/vnd.plotly.v1+json": {
       "config": {
        "plotlyServerURL": "https://plot.ly"
       },
       "data": [
        {
         "labels": [
          "Allocated PNRs",
          "Unallocated PNRs"
         ],
         "name": "Allocation",
         "title": {
          "text": "Allocation"
         },
         "type": "pie",
         "values": [
          330,
          164
         ]
        }
       ],
       "layout": {
        "template": {
         "data": {
          "bar": [
           {
            "error_x": {
             "color": "#2a3f5f"
            },
            "error_y": {
             "color": "#2a3f5f"
            },
            "marker": {
             "line": {
              "color": "#E5ECF6",
              "width": 0.5
             },
             "pattern": {
              "fillmode": "overlay",
              "size": 10,
              "solidity": 0.2
             }
            },
            "type": "bar"
           }
          ],
          "barpolar": [
           {
            "marker": {
             "line": {
              "color": "#E5ECF6",
              "width": 0.5
             },
             "pattern": {
              "fillmode": "overlay",
              "size": 10,
              "solidity": 0.2
             }
            },
            "type": "barpolar"
           }
          ],
          "carpet": [
           {
            "aaxis": {
             "endlinecolor": "#2a3f5f",
             "gridcolor": "white",
             "linecolor": "white",
             "minorgridcolor": "white",
             "startlinecolor": "#2a3f5f"
            },
            "baxis": {
             "endlinecolor": "#2a3f5f",
             "gridcolor": "white",
             "linecolor": "white",
             "minorgridcolor": "white",
             "startlinecolor": "#2a3f5f"
            },
            "type": "carpet"
           }
          ],
          "choropleth": [
           {
            "colorbar": {
             "outlinewidth": 0,
             "ticks": ""
            },
            "type": "choropleth"
           }
          ],
          "contour": [
           {
            "colorbar": {
             "outlinewidth": 0,
             "ticks": ""
            },
            "colorscale": [
             [
              0,
              "#0d0887"
             ],
             [
              0.1111111111111111,
              "#46039f"
             ],
             [
              0.2222222222222222,
              "#7201a8"
             ],
             [
              0.3333333333333333,
              "#9c179e"
             ],
             [
              0.4444444444444444,
              "#bd3786"
             ],
             [
              0.5555555555555556,
              "#d8576b"
             ],
             [
              0.6666666666666666,
              "#ed7953"
             ],
             [
              0.7777777777777778,
              "#fb9f3a"
             ],
             [
              0.8888888888888888,
              "#fdca26"
             ],
             [
              1,
              "#f0f921"
             ]
            ],
            "type": "contour"
           }
          ],
          "contourcarpet": [
           {
            "colorbar": {
             "outlinewidth": 0,
             "ticks": ""
            },
            "type": "contourcarpet"
           }
          ],
          "heatmap": [
           {
            "colorbar": {
             "outlinewidth": 0,
             "ticks": ""
            },
            "colorscale": [
             [
              0,
              "#0d0887"
             ],
             [
              0.1111111111111111,
              "#46039f"
             ],
             [
              0.2222222222222222,
              "#7201a8"
             ],
             [
              0.3333333333333333,
              "#9c179e"
             ],
             [
              0.4444444444444444,
              "#bd3786"
             ],
             [
              0.5555555555555556,
              "#d8576b"
             ],
             [
              0.6666666666666666,
              "#ed7953"
             ],
             [
              0.7777777777777778,
              "#fb9f3a"
             ],
             [
              0.8888888888888888,
              "#fdca26"
             ],
             [
              1,
              "#f0f921"
             ]
            ],
            "type": "heatmap"
           }
          ],
          "heatmapgl": [
           {
            "colorbar": {
             "outlinewidth": 0,
             "ticks": ""
            },
            "colorscale": [
             [
              0,
              "#0d0887"
             ],
             [
              0.1111111111111111,
              "#46039f"
             ],
             [
              0.2222222222222222,
              "#7201a8"
             ],
             [
              0.3333333333333333,
              "#9c179e"
             ],
             [
              0.4444444444444444,
              "#bd3786"
             ],
             [
              0.5555555555555556,
              "#d8576b"
             ],
             [
              0.6666666666666666,
              "#ed7953"
             ],
             [
              0.7777777777777778,
              "#fb9f3a"
             ],
             [
              0.8888888888888888,
              "#fdca26"
             ],
             [
              1,
              "#f0f921"
             ]
            ],
            "type": "heatmapgl"
           }
          ],
          "histogram": [
           {
            "marker": {
             "pattern": {
              "fillmode": "overlay",
              "size": 10,
              "solidity": 0.2
             }
            },
            "type": "histogram"
           }
          ],
          "histogram2d": [
           {
            "colorbar": {
             "outlinewidth": 0,
             "ticks": ""
            },
            "colorscale": [
             [
              0,
              "#0d0887"
             ],
             [
              0.1111111111111111,
              "#46039f"
             ],
             [
              0.2222222222222222,
              "#7201a8"
             ],
             [
              0.3333333333333333,
              "#9c179e"
             ],
             [
              0.4444444444444444,
              "#bd3786"
             ],
             [
              0.5555555555555556,
              "#d8576b"
             ],
             [
              0.6666666666666666,
              "#ed7953"
             ],
             [
              0.7777777777777778,
              "#fb9f3a"
             ],
             [
              0.8888888888888888,
              "#fdca26"
             ],
             [
              1,
              "#f0f921"
             ]
            ],
            "type": "histogram2d"
           }
          ],
          "histogram2dcontour": [
           {
            "colorbar": {
             "outlinewidth": 0,
             "ticks": ""
            },
            "colorscale": [
             [
              0,
              "#0d0887"
             ],
             [
              0.1111111111111111,
              "#46039f"
             ],
             [
              0.2222222222222222,
              "#7201a8"
             ],
             [
              0.3333333333333333,
              "#9c179e"
             ],
             [
              0.4444444444444444,
              "#bd3786"
             ],
             [
              0.5555555555555556,
              "#d8576b"
             ],
             [
              0.6666666666666666,
              "#ed7953"
             ],
             [
              0.7777777777777778,
              "#fb9f3a"
             ],
             [
              0.8888888888888888,
              "#fdca26"
             ],
             [
              1,
              "#f0f921"
             ]
            ],
            "type": "histogram2dcontour"
           }
          ],
          "mesh3d": [
           {
            "colorbar": {
             "outlinewidth": 0,
             "ticks": ""
            },
            "type": "mesh3d"
           }
          ],
          "parcoords": [
           {
            "line": {
             "colorbar": {
              "outlinewidth": 0,
              "ticks": ""
             }
            },
            "type": "parcoords"
           }
          ],
          "pie": [
           {
            "automargin": true,
            "type": "pie"
           }
          ],
          "scatter": [
           {
            "fillpattern": {
             "fillmode": "overlay",
             "size": 10,
             "solidity": 0.2
            },
            "type": "scatter"
           }
          ],
          "scatter3d": [
           {
            "line": {
             "colorbar": {
              "outlinewidth": 0,
              "ticks": ""
             }
            },
            "marker": {
             "colorbar": {
              "outlinewidth": 0,
              "ticks": ""
             }
            },
            "type": "scatter3d"
           }
          ],
          "scattercarpet": [
           {
            "marker": {
             "colorbar": {
              "outlinewidth": 0,
              "ticks": ""
             }
            },
            "type": "scattercarpet"
           }
          ],
          "scattergeo": [
           {
            "marker": {
             "colorbar": {
              "outlinewidth": 0,
              "ticks": ""
             }
            },
            "type": "scattergeo"
           }
          ],
          "scattergl": [
           {
            "marker": {
             "colorbar": {
              "outlinewidth": 0,
              "ticks": ""
             }
            },
            "type": "scattergl"
           }
          ],
          "scattermapbox": [
           {
            "marker": {
             "colorbar": {
              "outlinewidth": 0,
              "ticks": ""
             }
            },
            "type": "scattermapbox"
           }
          ],
          "scatterpolar": [
           {
            "marker": {
             "colorbar": {
              "outlinewidth": 0,
              "ticks": ""
             }
            },
            "type": "scatterpolar"
           }
          ],
          "scatterpolargl": [
           {
            "marker": {
             "colorbar": {
              "outlinewidth": 0,
              "ticks": ""
             }
            },
            "type": "scatterpolargl"
           }
          ],
          "scatterternary": [
           {
            "marker": {
             "colorbar": {
              "outlinewidth": 0,
              "ticks": ""
             }
            },
            "type": "scatterternary"
           }
          ],
          "surface": [
           {
            "colorbar": {
             "outlinewidth": 0,
             "ticks": ""
            },
            "colorscale": [
             [
              0,
              "#0d0887"
             ],
             [
              0.1111111111111111,
              "#46039f"
             ],
             [
              0.2222222222222222,
              "#7201a8"
             ],
             [
              0.3333333333333333,
              "#9c179e"
             ],
             [
              0.4444444444444444,
              "#bd3786"
             ],
             [
              0.5555555555555556,
              "#d8576b"
             ],
             [
              0.6666666666666666,
              "#ed7953"
             ],
             [
              0.7777777777777778,
              "#fb9f3a"
             ],
             [
              0.8888888888888888,
              "#fdca26"
             ],
             [
              1,
              "#f0f921"
             ]
            ],
            "type": "surface"
           }
          ],
          "table": [
           {
            "cells": {
             "fill": {
              "color": "#EBF0F8"
             },
             "line": {
              "color": "white"
             }
            },
            "header": {
             "fill": {
              "color": "#C8D4E3"
             },
             "line": {
              "color": "white"
             }
            },
            "type": "table"
           }
          ]
         },
         "layout": {
          "annotationdefaults": {
           "arrowcolor": "#2a3f5f",
           "arrowhead": 0,
           "arrowwidth": 1
          },
          "autotypenumbers": "strict",
          "coloraxis": {
           "colorbar": {
            "outlinewidth": 0,
            "ticks": ""
           }
          },
          "colorscale": {
           "diverging": [
            [
             0,
             "#8e0152"
            ],
            [
             0.1,
             "#c51b7d"
            ],
            [
             0.2,
             "#de77ae"
            ],
            [
             0.3,
             "#f1b6da"
            ],
            [
             0.4,
             "#fde0ef"
            ],
            [
             0.5,
             "#f7f7f7"
            ],
            [
             0.6,
             "#e6f5d0"
            ],
            [
             0.7,
             "#b8e186"
            ],
            [
             0.8,
             "#7fbc41"
            ],
            [
             0.9,
             "#4d9221"
            ],
            [
             1,
             "#276419"
            ]
           ],
           "sequential": [
            [
             0,
             "#0d0887"
            ],
            [
             0.1111111111111111,
             "#46039f"
            ],
            [
             0.2222222222222222,
             "#7201a8"
            ],
            [
             0.3333333333333333,
             "#9c179e"
            ],
            [
             0.4444444444444444,
             "#bd3786"
            ],
            [
             0.5555555555555556,
             "#d8576b"
            ],
            [
             0.6666666666666666,
             "#ed7953"
            ],
            [
             0.7777777777777778,
             "#fb9f3a"
            ],
            [
             0.8888888888888888,
             "#fdca26"
            ],
            [
             1,
             "#f0f921"
            ]
           ],
           "sequentialminus": [
            [
             0,
             "#0d0887"
            ],
            [
             0.1111111111111111,
             "#46039f"
            ],
            [
             0.2222222222222222,
             "#7201a8"
            ],
            [
             0.3333333333333333,
             "#9c179e"
            ],
            [
             0.4444444444444444,
             "#bd3786"
            ],
            [
             0.5555555555555556,
             "#d8576b"
            ],
            [
             0.6666666666666666,
             "#ed7953"
            ],
            [
             0.7777777777777778,
             "#fb9f3a"
            ],
            [
             0.8888888888888888,
             "#fdca26"
            ],
            [
             1,
             "#f0f921"
            ]
           ]
          },
          "colorway": [
           "#636efa",
           "#EF553B",
           "#00cc96",
           "#ab63fa",
           "#FFA15A",
           "#19d3f3",
           "#FF6692",
           "#B6E880",
           "#FF97FF",
           "#FECB52"
          ],
          "font": {
           "color": "#2a3f5f"
          },
          "geo": {
           "bgcolor": "white",
           "lakecolor": "white",
           "landcolor": "#E5ECF6",
           "showlakes": true,
           "showland": true,
           "subunitcolor": "white"
          },
          "hoverlabel": {
           "align": "left"
          },
          "hovermode": "closest",
          "mapbox": {
           "style": "light"
          },
          "paper_bgcolor": "white",
          "plot_bgcolor": "#E5ECF6",
          "polar": {
           "angularaxis": {
            "gridcolor": "white",
            "linecolor": "white",
            "ticks": ""
           },
           "bgcolor": "#E5ECF6",
           "radialaxis": {
            "gridcolor": "white",
            "linecolor": "white",
            "ticks": ""
           }
          },
          "scene": {
           "xaxis": {
            "backgroundcolor": "#E5ECF6",
            "gridcolor": "white",
            "gridwidth": 2,
            "linecolor": "white",
            "showbackground": true,
            "ticks": "",
            "zerolinecolor": "white"
           },
           "yaxis": {
            "backgroundcolor": "#E5ECF6",
            "gridcolor": "white",
            "gridwidth": 2,
            "linecolor": "white",
            "showbackground": true,
            "ticks": "",
            "zerolinecolor": "white"
           },
           "zaxis": {
            "backgroundcolor": "#E5ECF6",
            "gridcolor": "white",
            "gridwidth": 2,
            "linecolor": "white",
            "showbackground": true,
            "ticks": "",
            "zerolinecolor": "white"
           }
          },
          "shapedefaults": {
           "line": {
            "color": "#2a3f5f"
           }
          },
          "ternary": {
           "aaxis": {
            "gridcolor": "white",
            "linecolor": "white",
            "ticks": ""
           },
           "baxis": {
            "gridcolor": "white",
            "linecolor": "white",
            "ticks": ""
           },
           "bgcolor": "#E5ECF6",
           "caxis": {
            "gridcolor": "white",
            "linecolor": "white",
            "ticks": ""
           }
          },
          "title": {
           "x": 0.05
          },
          "xaxis": {
           "automargin": true,
           "gridcolor": "white",
           "linecolor": "white",
           "ticks": "",
           "title": {
            "standoff": 15
           },
           "zerolinecolor": "white",
           "zerolinewidth": 2
          },
          "yaxis": {
           "automargin": true,
           "gridcolor": "white",
           "linecolor": "white",
           "ticks": "",
           "title": {
            "standoff": 15
           },
           "zerolinecolor": "white",
           "zerolinewidth": 2
          }
         }
        }
       }
      }
     },
     "metadata": {},
     "output_type": "display_data"
    },
    {
     "data": {
      "application/vnd.plotly.v1+json": {
       "config": {
        "plotlyServerURL": "https://plot.ly"
       },
       "data": [
        {
         "labels": [
          "Mean Allocated PNR score",
          "Mean Unallocated PNR score"
         ],
         "name": "Mean PNR Scores",
         "title": {
          "text": "Mean PNR Scores"
         },
         "type": "pie",
         "values": [
          7144.848484848485,
          6604.268292682927
         ]
        }
       ],
       "layout": {
        "template": {
         "data": {
          "bar": [
           {
            "error_x": {
             "color": "#2a3f5f"
            },
            "error_y": {
             "color": "#2a3f5f"
            },
            "marker": {
             "line": {
              "color": "#E5ECF6",
              "width": 0.5
             },
             "pattern": {
              "fillmode": "overlay",
              "size": 10,
              "solidity": 0.2
             }
            },
            "type": "bar"
           }
          ],
          "barpolar": [
           {
            "marker": {
             "line": {
              "color": "#E5ECF6",
              "width": 0.5
             },
             "pattern": {
              "fillmode": "overlay",
              "size": 10,
              "solidity": 0.2
             }
            },
            "type": "barpolar"
           }
          ],
          "carpet": [
           {
            "aaxis": {
             "endlinecolor": "#2a3f5f",
             "gridcolor": "white",
             "linecolor": "white",
             "minorgridcolor": "white",
             "startlinecolor": "#2a3f5f"
            },
            "baxis": {
             "endlinecolor": "#2a3f5f",
             "gridcolor": "white",
             "linecolor": "white",
             "minorgridcolor": "white",
             "startlinecolor": "#2a3f5f"
            },
            "type": "carpet"
           }
          ],
          "choropleth": [
           {
            "colorbar": {
             "outlinewidth": 0,
             "ticks": ""
            },
            "type": "choropleth"
           }
          ],
          "contour": [
           {
            "colorbar": {
             "outlinewidth": 0,
             "ticks": ""
            },
            "colorscale": [
             [
              0,
              "#0d0887"
             ],
             [
              0.1111111111111111,
              "#46039f"
             ],
             [
              0.2222222222222222,
              "#7201a8"
             ],
             [
              0.3333333333333333,
              "#9c179e"
             ],
             [
              0.4444444444444444,
              "#bd3786"
             ],
             [
              0.5555555555555556,
              "#d8576b"
             ],
             [
              0.6666666666666666,
              "#ed7953"
             ],
             [
              0.7777777777777778,
              "#fb9f3a"
             ],
             [
              0.8888888888888888,
              "#fdca26"
             ],
             [
              1,
              "#f0f921"
             ]
            ],
            "type": "contour"
           }
          ],
          "contourcarpet": [
           {
            "colorbar": {
             "outlinewidth": 0,
             "ticks": ""
            },
            "type": "contourcarpet"
           }
          ],
          "heatmap": [
           {
            "colorbar": {
             "outlinewidth": 0,
             "ticks": ""
            },
            "colorscale": [
             [
              0,
              "#0d0887"
             ],
             [
              0.1111111111111111,
              "#46039f"
             ],
             [
              0.2222222222222222,
              "#7201a8"
             ],
             [
              0.3333333333333333,
              "#9c179e"
             ],
             [
              0.4444444444444444,
              "#bd3786"
             ],
             [
              0.5555555555555556,
              "#d8576b"
             ],
             [
              0.6666666666666666,
              "#ed7953"
             ],
             [
              0.7777777777777778,
              "#fb9f3a"
             ],
             [
              0.8888888888888888,
              "#fdca26"
             ],
             [
              1,
              "#f0f921"
             ]
            ],
            "type": "heatmap"
           }
          ],
          "heatmapgl": [
           {
            "colorbar": {
             "outlinewidth": 0,
             "ticks": ""
            },
            "colorscale": [
             [
              0,
              "#0d0887"
             ],
             [
              0.1111111111111111,
              "#46039f"
             ],
             [
              0.2222222222222222,
              "#7201a8"
             ],
             [
              0.3333333333333333,
              "#9c179e"
             ],
             [
              0.4444444444444444,
              "#bd3786"
             ],
             [
              0.5555555555555556,
              "#d8576b"
             ],
             [
              0.6666666666666666,
              "#ed7953"
             ],
             [
              0.7777777777777778,
              "#fb9f3a"
             ],
             [
              0.8888888888888888,
              "#fdca26"
             ],
             [
              1,
              "#f0f921"
             ]
            ],
            "type": "heatmapgl"
           }
          ],
          "histogram": [
           {
            "marker": {
             "pattern": {
              "fillmode": "overlay",
              "size": 10,
              "solidity": 0.2
             }
            },
            "type": "histogram"
           }
          ],
          "histogram2d": [
           {
            "colorbar": {
             "outlinewidth": 0,
             "ticks": ""
            },
            "colorscale": [
             [
              0,
              "#0d0887"
             ],
             [
              0.1111111111111111,
              "#46039f"
             ],
             [
              0.2222222222222222,
              "#7201a8"
             ],
             [
              0.3333333333333333,
              "#9c179e"
             ],
             [
              0.4444444444444444,
              "#bd3786"
             ],
             [
              0.5555555555555556,
              "#d8576b"
             ],
             [
              0.6666666666666666,
              "#ed7953"
             ],
             [
              0.7777777777777778,
              "#fb9f3a"
             ],
             [
              0.8888888888888888,
              "#fdca26"
             ],
             [
              1,
              "#f0f921"
             ]
            ],
            "type": "histogram2d"
           }
          ],
          "histogram2dcontour": [
           {
            "colorbar": {
             "outlinewidth": 0,
             "ticks": ""
            },
            "colorscale": [
             [
              0,
              "#0d0887"
             ],
             [
              0.1111111111111111,
              "#46039f"
             ],
             [
              0.2222222222222222,
              "#7201a8"
             ],
             [
              0.3333333333333333,
              "#9c179e"
             ],
             [
              0.4444444444444444,
              "#bd3786"
             ],
             [
              0.5555555555555556,
              "#d8576b"
             ],
             [
              0.6666666666666666,
              "#ed7953"
             ],
             [
              0.7777777777777778,
              "#fb9f3a"
             ],
             [
              0.8888888888888888,
              "#fdca26"
             ],
             [
              1,
              "#f0f921"
             ]
            ],
            "type": "histogram2dcontour"
           }
          ],
          "mesh3d": [
           {
            "colorbar": {
             "outlinewidth": 0,
             "ticks": ""
            },
            "type": "mesh3d"
           }
          ],
          "parcoords": [
           {
            "line": {
             "colorbar": {
              "outlinewidth": 0,
              "ticks": ""
             }
            },
            "type": "parcoords"
           }
          ],
          "pie": [
           {
            "automargin": true,
            "type": "pie"
           }
          ],
          "scatter": [
           {
            "fillpattern": {
             "fillmode": "overlay",
             "size": 10,
             "solidity": 0.2
            },
            "type": "scatter"
           }
          ],
          "scatter3d": [
           {
            "line": {
             "colorbar": {
              "outlinewidth": 0,
              "ticks": ""
             }
            },
            "marker": {
             "colorbar": {
              "outlinewidth": 0,
              "ticks": ""
             }
            },
            "type": "scatter3d"
           }
          ],
          "scattercarpet": [
           {
            "marker": {
             "colorbar": {
              "outlinewidth": 0,
              "ticks": ""
             }
            },
            "type": "scattercarpet"
           }
          ],
          "scattergeo": [
           {
            "marker": {
             "colorbar": {
              "outlinewidth": 0,
              "ticks": ""
             }
            },
            "type": "scattergeo"
           }
          ],
          "scattergl": [
           {
            "marker": {
             "colorbar": {
              "outlinewidth": 0,
              "ticks": ""
             }
            },
            "type": "scattergl"
           }
          ],
          "scattermapbox": [
           {
            "marker": {
             "colorbar": {
              "outlinewidth": 0,
              "ticks": ""
             }
            },
            "type": "scattermapbox"
           }
          ],
          "scatterpolar": [
           {
            "marker": {
             "colorbar": {
              "outlinewidth": 0,
              "ticks": ""
             }
            },
            "type": "scatterpolar"
           }
          ],
          "scatterpolargl": [
           {
            "marker": {
             "colorbar": {
              "outlinewidth": 0,
              "ticks": ""
             }
            },
            "type": "scatterpolargl"
           }
          ],
          "scatterternary": [
           {
            "marker": {
             "colorbar": {
              "outlinewidth": 0,
              "ticks": ""
             }
            },
            "type": "scatterternary"
           }
          ],
          "surface": [
           {
            "colorbar": {
             "outlinewidth": 0,
             "ticks": ""
            },
            "colorscale": [
             [
              0,
              "#0d0887"
             ],
             [
              0.1111111111111111,
              "#46039f"
             ],
             [
              0.2222222222222222,
              "#7201a8"
             ],
             [
              0.3333333333333333,
              "#9c179e"
             ],
             [
              0.4444444444444444,
              "#bd3786"
             ],
             [
              0.5555555555555556,
              "#d8576b"
             ],
             [
              0.6666666666666666,
              "#ed7953"
             ],
             [
              0.7777777777777778,
              "#fb9f3a"
             ],
             [
              0.8888888888888888,
              "#fdca26"
             ],
             [
              1,
              "#f0f921"
             ]
            ],
            "type": "surface"
           }
          ],
          "table": [
           {
            "cells": {
             "fill": {
              "color": "#EBF0F8"
             },
             "line": {
              "color": "white"
             }
            },
            "header": {
             "fill": {
              "color": "#C8D4E3"
             },
             "line": {
              "color": "white"
             }
            },
            "type": "table"
           }
          ]
         },
         "layout": {
          "annotationdefaults": {
           "arrowcolor": "#2a3f5f",
           "arrowhead": 0,
           "arrowwidth": 1
          },
          "autotypenumbers": "strict",
          "coloraxis": {
           "colorbar": {
            "outlinewidth": 0,
            "ticks": ""
           }
          },
          "colorscale": {
           "diverging": [
            [
             0,
             "#8e0152"
            ],
            [
             0.1,
             "#c51b7d"
            ],
            [
             0.2,
             "#de77ae"
            ],
            [
             0.3,
             "#f1b6da"
            ],
            [
             0.4,
             "#fde0ef"
            ],
            [
             0.5,
             "#f7f7f7"
            ],
            [
             0.6,
             "#e6f5d0"
            ],
            [
             0.7,
             "#b8e186"
            ],
            [
             0.8,
             "#7fbc41"
            ],
            [
             0.9,
             "#4d9221"
            ],
            [
             1,
             "#276419"
            ]
           ],
           "sequential": [
            [
             0,
             "#0d0887"
            ],
            [
             0.1111111111111111,
             "#46039f"
            ],
            [
             0.2222222222222222,
             "#7201a8"
            ],
            [
             0.3333333333333333,
             "#9c179e"
            ],
            [
             0.4444444444444444,
             "#bd3786"
            ],
            [
             0.5555555555555556,
             "#d8576b"
            ],
            [
             0.6666666666666666,
             "#ed7953"
            ],
            [
             0.7777777777777778,
             "#fb9f3a"
            ],
            [
             0.8888888888888888,
             "#fdca26"
            ],
            [
             1,
             "#f0f921"
            ]
           ],
           "sequentialminus": [
            [
             0,
             "#0d0887"
            ],
            [
             0.1111111111111111,
             "#46039f"
            ],
            [
             0.2222222222222222,
             "#7201a8"
            ],
            [
             0.3333333333333333,
             "#9c179e"
            ],
            [
             0.4444444444444444,
             "#bd3786"
            ],
            [
             0.5555555555555556,
             "#d8576b"
            ],
            [
             0.6666666666666666,
             "#ed7953"
            ],
            [
             0.7777777777777778,
             "#fb9f3a"
            ],
            [
             0.8888888888888888,
             "#fdca26"
            ],
            [
             1,
             "#f0f921"
            ]
           ]
          },
          "colorway": [
           "#636efa",
           "#EF553B",
           "#00cc96",
           "#ab63fa",
           "#FFA15A",
           "#19d3f3",
           "#FF6692",
           "#B6E880",
           "#FF97FF",
           "#FECB52"
          ],
          "font": {
           "color": "#2a3f5f"
          },
          "geo": {
           "bgcolor": "white",
           "lakecolor": "white",
           "landcolor": "#E5ECF6",
           "showlakes": true,
           "showland": true,
           "subunitcolor": "white"
          },
          "hoverlabel": {
           "align": "left"
          },
          "hovermode": "closest",
          "mapbox": {
           "style": "light"
          },
          "paper_bgcolor": "white",
          "plot_bgcolor": "#E5ECF6",
          "polar": {
           "angularaxis": {
            "gridcolor": "white",
            "linecolor": "white",
            "ticks": ""
           },
           "bgcolor": "#E5ECF6",
           "radialaxis": {
            "gridcolor": "white",
            "linecolor": "white",
            "ticks": ""
           }
          },
          "scene": {
           "xaxis": {
            "backgroundcolor": "#E5ECF6",
            "gridcolor": "white",
            "gridwidth": 2,
            "linecolor": "white",
            "showbackground": true,
            "ticks": "",
            "zerolinecolor": "white"
           },
           "yaxis": {
            "backgroundcolor": "#E5ECF6",
            "gridcolor": "white",
            "gridwidth": 2,
            "linecolor": "white",
            "showbackground": true,
            "ticks": "",
            "zerolinecolor": "white"
           },
           "zaxis": {
            "backgroundcolor": "#E5ECF6",
            "gridcolor": "white",
            "gridwidth": 2,
            "linecolor": "white",
            "showbackground": true,
            "ticks": "",
            "zerolinecolor": "white"
           }
          },
          "shapedefaults": {
           "line": {
            "color": "#2a3f5f"
           }
          },
          "ternary": {
           "aaxis": {
            "gridcolor": "white",
            "linecolor": "white",
            "ticks": ""
           },
           "baxis": {
            "gridcolor": "white",
            "linecolor": "white",
            "ticks": ""
           },
           "bgcolor": "#E5ECF6",
           "caxis": {
            "gridcolor": "white",
            "linecolor": "white",
            "ticks": ""
           }
          },
          "title": {
           "x": 0.05
          },
          "xaxis": {
           "automargin": true,
           "gridcolor": "white",
           "linecolor": "white",
           "ticks": "",
           "title": {
            "standoff": 15
           },
           "zerolinecolor": "white",
           "zerolinewidth": 2
          },
          "yaxis": {
           "automargin": true,
           "gridcolor": "white",
           "linecolor": "white",
           "ticks": "",
           "title": {
            "standoff": 15
           },
           "zerolinecolor": "white",
           "zerolinewidth": 2
          }
         }
        }
       }
      }
     },
     "metadata": {},
     "output_type": "display_data"
    },
    {
     "data": {
      "application/vnd.plotly.v1+json": {
       "config": {
        "plotlyServerURL": "https://plot.ly"
       },
       "data": [
        {
         "labels": [
          "Upgraded Class",
          "Downgraded Class",
          "Same Class"
         ],
         "name": "Upgradation/Downgradation",
         "title": {
          "text": "Upgradation/Downgradation"
         },
         "type": "pie",
         "values": [
          212,
          156,
          184
         ]
        }
       ],
       "layout": {
        "template": {
         "data": {
          "bar": [
           {
            "error_x": {
             "color": "#2a3f5f"
            },
            "error_y": {
             "color": "#2a3f5f"
            },
            "marker": {
             "line": {
              "color": "#E5ECF6",
              "width": 0.5
             },
             "pattern": {
              "fillmode": "overlay",
              "size": 10,
              "solidity": 0.2
             }
            },
            "type": "bar"
           }
          ],
          "barpolar": [
           {
            "marker": {
             "line": {
              "color": "#E5ECF6",
              "width": 0.5
             },
             "pattern": {
              "fillmode": "overlay",
              "size": 10,
              "solidity": 0.2
             }
            },
            "type": "barpolar"
           }
          ],
          "carpet": [
           {
            "aaxis": {
             "endlinecolor": "#2a3f5f",
             "gridcolor": "white",
             "linecolor": "white",
             "minorgridcolor": "white",
             "startlinecolor": "#2a3f5f"
            },
            "baxis": {
             "endlinecolor": "#2a3f5f",
             "gridcolor": "white",
             "linecolor": "white",
             "minorgridcolor": "white",
             "startlinecolor": "#2a3f5f"
            },
            "type": "carpet"
           }
          ],
          "choropleth": [
           {
            "colorbar": {
             "outlinewidth": 0,
             "ticks": ""
            },
            "type": "choropleth"
           }
          ],
          "contour": [
           {
            "colorbar": {
             "outlinewidth": 0,
             "ticks": ""
            },
            "colorscale": [
             [
              0,
              "#0d0887"
             ],
             [
              0.1111111111111111,
              "#46039f"
             ],
             [
              0.2222222222222222,
              "#7201a8"
             ],
             [
              0.3333333333333333,
              "#9c179e"
             ],
             [
              0.4444444444444444,
              "#bd3786"
             ],
             [
              0.5555555555555556,
              "#d8576b"
             ],
             [
              0.6666666666666666,
              "#ed7953"
             ],
             [
              0.7777777777777778,
              "#fb9f3a"
             ],
             [
              0.8888888888888888,
              "#fdca26"
             ],
             [
              1,
              "#f0f921"
             ]
            ],
            "type": "contour"
           }
          ],
          "contourcarpet": [
           {
            "colorbar": {
             "outlinewidth": 0,
             "ticks": ""
            },
            "type": "contourcarpet"
           }
          ],
          "heatmap": [
           {
            "colorbar": {
             "outlinewidth": 0,
             "ticks": ""
            },
            "colorscale": [
             [
              0,
              "#0d0887"
             ],
             [
              0.1111111111111111,
              "#46039f"
             ],
             [
              0.2222222222222222,
              "#7201a8"
             ],
             [
              0.3333333333333333,
              "#9c179e"
             ],
             [
              0.4444444444444444,
              "#bd3786"
             ],
             [
              0.5555555555555556,
              "#d8576b"
             ],
             [
              0.6666666666666666,
              "#ed7953"
             ],
             [
              0.7777777777777778,
              "#fb9f3a"
             ],
             [
              0.8888888888888888,
              "#fdca26"
             ],
             [
              1,
              "#f0f921"
             ]
            ],
            "type": "heatmap"
           }
          ],
          "heatmapgl": [
           {
            "colorbar": {
             "outlinewidth": 0,
             "ticks": ""
            },
            "colorscale": [
             [
              0,
              "#0d0887"
             ],
             [
              0.1111111111111111,
              "#46039f"
             ],
             [
              0.2222222222222222,
              "#7201a8"
             ],
             [
              0.3333333333333333,
              "#9c179e"
             ],
             [
              0.4444444444444444,
              "#bd3786"
             ],
             [
              0.5555555555555556,
              "#d8576b"
             ],
             [
              0.6666666666666666,
              "#ed7953"
             ],
             [
              0.7777777777777778,
              "#fb9f3a"
             ],
             [
              0.8888888888888888,
              "#fdca26"
             ],
             [
              1,
              "#f0f921"
             ]
            ],
            "type": "heatmapgl"
           }
          ],
          "histogram": [
           {
            "marker": {
             "pattern": {
              "fillmode": "overlay",
              "size": 10,
              "solidity": 0.2
             }
            },
            "type": "histogram"
           }
          ],
          "histogram2d": [
           {
            "colorbar": {
             "outlinewidth": 0,
             "ticks": ""
            },
            "colorscale": [
             [
              0,
              "#0d0887"
             ],
             [
              0.1111111111111111,
              "#46039f"
             ],
             [
              0.2222222222222222,
              "#7201a8"
             ],
             [
              0.3333333333333333,
              "#9c179e"
             ],
             [
              0.4444444444444444,
              "#bd3786"
             ],
             [
              0.5555555555555556,
              "#d8576b"
             ],
             [
              0.6666666666666666,
              "#ed7953"
             ],
             [
              0.7777777777777778,
              "#fb9f3a"
             ],
             [
              0.8888888888888888,
              "#fdca26"
             ],
             [
              1,
              "#f0f921"
             ]
            ],
            "type": "histogram2d"
           }
          ],
          "histogram2dcontour": [
           {
            "colorbar": {
             "outlinewidth": 0,
             "ticks": ""
            },
            "colorscale": [
             [
              0,
              "#0d0887"
             ],
             [
              0.1111111111111111,
              "#46039f"
             ],
             [
              0.2222222222222222,
              "#7201a8"
             ],
             [
              0.3333333333333333,
              "#9c179e"
             ],
             [
              0.4444444444444444,
              "#bd3786"
             ],
             [
              0.5555555555555556,
              "#d8576b"
             ],
             [
              0.6666666666666666,
              "#ed7953"
             ],
             [
              0.7777777777777778,
              "#fb9f3a"
             ],
             [
              0.8888888888888888,
              "#fdca26"
             ],
             [
              1,
              "#f0f921"
             ]
            ],
            "type": "histogram2dcontour"
           }
          ],
          "mesh3d": [
           {
            "colorbar": {
             "outlinewidth": 0,
             "ticks": ""
            },
            "type": "mesh3d"
           }
          ],
          "parcoords": [
           {
            "line": {
             "colorbar": {
              "outlinewidth": 0,
              "ticks": ""
             }
            },
            "type": "parcoords"
           }
          ],
          "pie": [
           {
            "automargin": true,
            "type": "pie"
           }
          ],
          "scatter": [
           {
            "fillpattern": {
             "fillmode": "overlay",
             "size": 10,
             "solidity": 0.2
            },
            "type": "scatter"
           }
          ],
          "scatter3d": [
           {
            "line": {
             "colorbar": {
              "outlinewidth": 0,
              "ticks": ""
             }
            },
            "marker": {
             "colorbar": {
              "outlinewidth": 0,
              "ticks": ""
             }
            },
            "type": "scatter3d"
           }
          ],
          "scattercarpet": [
           {
            "marker": {
             "colorbar": {
              "outlinewidth": 0,
              "ticks": ""
             }
            },
            "type": "scattercarpet"
           }
          ],
          "scattergeo": [
           {
            "marker": {
             "colorbar": {
              "outlinewidth": 0,
              "ticks": ""
             }
            },
            "type": "scattergeo"
           }
          ],
          "scattergl": [
           {
            "marker": {
             "colorbar": {
              "outlinewidth": 0,
              "ticks": ""
             }
            },
            "type": "scattergl"
           }
          ],
          "scattermapbox": [
           {
            "marker": {
             "colorbar": {
              "outlinewidth": 0,
              "ticks": ""
             }
            },
            "type": "scattermapbox"
           }
          ],
          "scatterpolar": [
           {
            "marker": {
             "colorbar": {
              "outlinewidth": 0,
              "ticks": ""
             }
            },
            "type": "scatterpolar"
           }
          ],
          "scatterpolargl": [
           {
            "marker": {
             "colorbar": {
              "outlinewidth": 0,
              "ticks": ""
             }
            },
            "type": "scatterpolargl"
           }
          ],
          "scatterternary": [
           {
            "marker": {
             "colorbar": {
              "outlinewidth": 0,
              "ticks": ""
             }
            },
            "type": "scatterternary"
           }
          ],
          "surface": [
           {
            "colorbar": {
             "outlinewidth": 0,
             "ticks": ""
            },
            "colorscale": [
             [
              0,
              "#0d0887"
             ],
             [
              0.1111111111111111,
              "#46039f"
             ],
             [
              0.2222222222222222,
              "#7201a8"
             ],
             [
              0.3333333333333333,
              "#9c179e"
             ],
             [
              0.4444444444444444,
              "#bd3786"
             ],
             [
              0.5555555555555556,
              "#d8576b"
             ],
             [
              0.6666666666666666,
              "#ed7953"
             ],
             [
              0.7777777777777778,
              "#fb9f3a"
             ],
             [
              0.8888888888888888,
              "#fdca26"
             ],
             [
              1,
              "#f0f921"
             ]
            ],
            "type": "surface"
           }
          ],
          "table": [
           {
            "cells": {
             "fill": {
              "color": "#EBF0F8"
             },
             "line": {
              "color": "white"
             }
            },
            "header": {
             "fill": {
              "color": "#C8D4E3"
             },
             "line": {
              "color": "white"
             }
            },
            "type": "table"
           }
          ]
         },
         "layout": {
          "annotationdefaults": {
           "arrowcolor": "#2a3f5f",
           "arrowhead": 0,
           "arrowwidth": 1
          },
          "autotypenumbers": "strict",
          "coloraxis": {
           "colorbar": {
            "outlinewidth": 0,
            "ticks": ""
           }
          },
          "colorscale": {
           "diverging": [
            [
             0,
             "#8e0152"
            ],
            [
             0.1,
             "#c51b7d"
            ],
            [
             0.2,
             "#de77ae"
            ],
            [
             0.3,
             "#f1b6da"
            ],
            [
             0.4,
             "#fde0ef"
            ],
            [
             0.5,
             "#f7f7f7"
            ],
            [
             0.6,
             "#e6f5d0"
            ],
            [
             0.7,
             "#b8e186"
            ],
            [
             0.8,
             "#7fbc41"
            ],
            [
             0.9,
             "#4d9221"
            ],
            [
             1,
             "#276419"
            ]
           ],
           "sequential": [
            [
             0,
             "#0d0887"
            ],
            [
             0.1111111111111111,
             "#46039f"
            ],
            [
             0.2222222222222222,
             "#7201a8"
            ],
            [
             0.3333333333333333,
             "#9c179e"
            ],
            [
             0.4444444444444444,
             "#bd3786"
            ],
            [
             0.5555555555555556,
             "#d8576b"
            ],
            [
             0.6666666666666666,
             "#ed7953"
            ],
            [
             0.7777777777777778,
             "#fb9f3a"
            ],
            [
             0.8888888888888888,
             "#fdca26"
            ],
            [
             1,
             "#f0f921"
            ]
           ],
           "sequentialminus": [
            [
             0,
             "#0d0887"
            ],
            [
             0.1111111111111111,
             "#46039f"
            ],
            [
             0.2222222222222222,
             "#7201a8"
            ],
            [
             0.3333333333333333,
             "#9c179e"
            ],
            [
             0.4444444444444444,
             "#bd3786"
            ],
            [
             0.5555555555555556,
             "#d8576b"
            ],
            [
             0.6666666666666666,
             "#ed7953"
            ],
            [
             0.7777777777777778,
             "#fb9f3a"
            ],
            [
             0.8888888888888888,
             "#fdca26"
            ],
            [
             1,
             "#f0f921"
            ]
           ]
          },
          "colorway": [
           "#636efa",
           "#EF553B",
           "#00cc96",
           "#ab63fa",
           "#FFA15A",
           "#19d3f3",
           "#FF6692",
           "#B6E880",
           "#FF97FF",
           "#FECB52"
          ],
          "font": {
           "color": "#2a3f5f"
          },
          "geo": {
           "bgcolor": "white",
           "lakecolor": "white",
           "landcolor": "#E5ECF6",
           "showlakes": true,
           "showland": true,
           "subunitcolor": "white"
          },
          "hoverlabel": {
           "align": "left"
          },
          "hovermode": "closest",
          "mapbox": {
           "style": "light"
          },
          "paper_bgcolor": "white",
          "plot_bgcolor": "#E5ECF6",
          "polar": {
           "angularaxis": {
            "gridcolor": "white",
            "linecolor": "white",
            "ticks": ""
           },
           "bgcolor": "#E5ECF6",
           "radialaxis": {
            "gridcolor": "white",
            "linecolor": "white",
            "ticks": ""
           }
          },
          "scene": {
           "xaxis": {
            "backgroundcolor": "#E5ECF6",
            "gridcolor": "white",
            "gridwidth": 2,
            "linecolor": "white",
            "showbackground": true,
            "ticks": "",
            "zerolinecolor": "white"
           },
           "yaxis": {
            "backgroundcolor": "#E5ECF6",
            "gridcolor": "white",
            "gridwidth": 2,
            "linecolor": "white",
            "showbackground": true,
            "ticks": "",
            "zerolinecolor": "white"
           },
           "zaxis": {
            "backgroundcolor": "#E5ECF6",
            "gridcolor": "white",
            "gridwidth": 2,
            "linecolor": "white",
            "showbackground": true,
            "ticks": "",
            "zerolinecolor": "white"
           }
          },
          "shapedefaults": {
           "line": {
            "color": "#2a3f5f"
           }
          },
          "ternary": {
           "aaxis": {
            "gridcolor": "white",
            "linecolor": "white",
            "ticks": ""
           },
           "baxis": {
            "gridcolor": "white",
            "linecolor": "white",
            "ticks": ""
           },
           "bgcolor": "#E5ECF6",
           "caxis": {
            "gridcolor": "white",
            "linecolor": "white",
            "ticks": ""
           }
          },
          "title": {
           "x": 0.05
          },
          "xaxis": {
           "automargin": true,
           "gridcolor": "white",
           "linecolor": "white",
           "ticks": "",
           "title": {
            "standoff": 15
           },
           "zerolinecolor": "white",
           "zerolinewidth": 2
          },
          "yaxis": {
           "automargin": true,
           "gridcolor": "white",
           "linecolor": "white",
           "ticks": "",
           "title": {
            "standoff": 15
           },
           "zerolinecolor": "white",
           "zerolinewidth": 2
          }
         }
        }
       }
      }
     },
     "metadata": {},
     "output_type": "display_data"
    },
    {
     "data": {
      "application/vnd.plotly.v1+json": {
       "config": {
        "plotlyServerURL": "https://plot.ly"
       },
       "data": [
        {
         "labels": [
          "Departure airports are same",
          "Departure airports are different"
         ],
         "name": "Departure Airports",
         "title": {
          "text": "Departure Airports"
         },
         "type": "pie",
         "values": [
          187,
          143
         ]
        }
       ],
       "layout": {
        "template": {
         "data": {
          "bar": [
           {
            "error_x": {
             "color": "#2a3f5f"
            },
            "error_y": {
             "color": "#2a3f5f"
            },
            "marker": {
             "line": {
              "color": "#E5ECF6",
              "width": 0.5
             },
             "pattern": {
              "fillmode": "overlay",
              "size": 10,
              "solidity": 0.2
             }
            },
            "type": "bar"
           }
          ],
          "barpolar": [
           {
            "marker": {
             "line": {
              "color": "#E5ECF6",
              "width": 0.5
             },
             "pattern": {
              "fillmode": "overlay",
              "size": 10,
              "solidity": 0.2
             }
            },
            "type": "barpolar"
           }
          ],
          "carpet": [
           {
            "aaxis": {
             "endlinecolor": "#2a3f5f",
             "gridcolor": "white",
             "linecolor": "white",
             "minorgridcolor": "white",
             "startlinecolor": "#2a3f5f"
            },
            "baxis": {
             "endlinecolor": "#2a3f5f",
             "gridcolor": "white",
             "linecolor": "white",
             "minorgridcolor": "white",
             "startlinecolor": "#2a3f5f"
            },
            "type": "carpet"
           }
          ],
          "choropleth": [
           {
            "colorbar": {
             "outlinewidth": 0,
             "ticks": ""
            },
            "type": "choropleth"
           }
          ],
          "contour": [
           {
            "colorbar": {
             "outlinewidth": 0,
             "ticks": ""
            },
            "colorscale": [
             [
              0,
              "#0d0887"
             ],
             [
              0.1111111111111111,
              "#46039f"
             ],
             [
              0.2222222222222222,
              "#7201a8"
             ],
             [
              0.3333333333333333,
              "#9c179e"
             ],
             [
              0.4444444444444444,
              "#bd3786"
             ],
             [
              0.5555555555555556,
              "#d8576b"
             ],
             [
              0.6666666666666666,
              "#ed7953"
             ],
             [
              0.7777777777777778,
              "#fb9f3a"
             ],
             [
              0.8888888888888888,
              "#fdca26"
             ],
             [
              1,
              "#f0f921"
             ]
            ],
            "type": "contour"
           }
          ],
          "contourcarpet": [
           {
            "colorbar": {
             "outlinewidth": 0,
             "ticks": ""
            },
            "type": "contourcarpet"
           }
          ],
          "heatmap": [
           {
            "colorbar": {
             "outlinewidth": 0,
             "ticks": ""
            },
            "colorscale": [
             [
              0,
              "#0d0887"
             ],
             [
              0.1111111111111111,
              "#46039f"
             ],
             [
              0.2222222222222222,
              "#7201a8"
             ],
             [
              0.3333333333333333,
              "#9c179e"
             ],
             [
              0.4444444444444444,
              "#bd3786"
             ],
             [
              0.5555555555555556,
              "#d8576b"
             ],
             [
              0.6666666666666666,
              "#ed7953"
             ],
             [
              0.7777777777777778,
              "#fb9f3a"
             ],
             [
              0.8888888888888888,
              "#fdca26"
             ],
             [
              1,
              "#f0f921"
             ]
            ],
            "type": "heatmap"
           }
          ],
          "heatmapgl": [
           {
            "colorbar": {
             "outlinewidth": 0,
             "ticks": ""
            },
            "colorscale": [
             [
              0,
              "#0d0887"
             ],
             [
              0.1111111111111111,
              "#46039f"
             ],
             [
              0.2222222222222222,
              "#7201a8"
             ],
             [
              0.3333333333333333,
              "#9c179e"
             ],
             [
              0.4444444444444444,
              "#bd3786"
             ],
             [
              0.5555555555555556,
              "#d8576b"
             ],
             [
              0.6666666666666666,
              "#ed7953"
             ],
             [
              0.7777777777777778,
              "#fb9f3a"
             ],
             [
              0.8888888888888888,
              "#fdca26"
             ],
             [
              1,
              "#f0f921"
             ]
            ],
            "type": "heatmapgl"
           }
          ],
          "histogram": [
           {
            "marker": {
             "pattern": {
              "fillmode": "overlay",
              "size": 10,
              "solidity": 0.2
             }
            },
            "type": "histogram"
           }
          ],
          "histogram2d": [
           {
            "colorbar": {
             "outlinewidth": 0,
             "ticks": ""
            },
            "colorscale": [
             [
              0,
              "#0d0887"
             ],
             [
              0.1111111111111111,
              "#46039f"
             ],
             [
              0.2222222222222222,
              "#7201a8"
             ],
             [
              0.3333333333333333,
              "#9c179e"
             ],
             [
              0.4444444444444444,
              "#bd3786"
             ],
             [
              0.5555555555555556,
              "#d8576b"
             ],
             [
              0.6666666666666666,
              "#ed7953"
             ],
             [
              0.7777777777777778,
              "#fb9f3a"
             ],
             [
              0.8888888888888888,
              "#fdca26"
             ],
             [
              1,
              "#f0f921"
             ]
            ],
            "type": "histogram2d"
           }
          ],
          "histogram2dcontour": [
           {
            "colorbar": {
             "outlinewidth": 0,
             "ticks": ""
            },
            "colorscale": [
             [
              0,
              "#0d0887"
             ],
             [
              0.1111111111111111,
              "#46039f"
             ],
             [
              0.2222222222222222,
              "#7201a8"
             ],
             [
              0.3333333333333333,
              "#9c179e"
             ],
             [
              0.4444444444444444,
              "#bd3786"
             ],
             [
              0.5555555555555556,
              "#d8576b"
             ],
             [
              0.6666666666666666,
              "#ed7953"
             ],
             [
              0.7777777777777778,
              "#fb9f3a"
             ],
             [
              0.8888888888888888,
              "#fdca26"
             ],
             [
              1,
              "#f0f921"
             ]
            ],
            "type": "histogram2dcontour"
           }
          ],
          "mesh3d": [
           {
            "colorbar": {
             "outlinewidth": 0,
             "ticks": ""
            },
            "type": "mesh3d"
           }
          ],
          "parcoords": [
           {
            "line": {
             "colorbar": {
              "outlinewidth": 0,
              "ticks": ""
             }
            },
            "type": "parcoords"
           }
          ],
          "pie": [
           {
            "automargin": true,
            "type": "pie"
           }
          ],
          "scatter": [
           {
            "fillpattern": {
             "fillmode": "overlay",
             "size": 10,
             "solidity": 0.2
            },
            "type": "scatter"
           }
          ],
          "scatter3d": [
           {
            "line": {
             "colorbar": {
              "outlinewidth": 0,
              "ticks": ""
             }
            },
            "marker": {
             "colorbar": {
              "outlinewidth": 0,
              "ticks": ""
             }
            },
            "type": "scatter3d"
           }
          ],
          "scattercarpet": [
           {
            "marker": {
             "colorbar": {
              "outlinewidth": 0,
              "ticks": ""
             }
            },
            "type": "scattercarpet"
           }
          ],
          "scattergeo": [
           {
            "marker": {
             "colorbar": {
              "outlinewidth": 0,
              "ticks": ""
             }
            },
            "type": "scattergeo"
           }
          ],
          "scattergl": [
           {
            "marker": {
             "colorbar": {
              "outlinewidth": 0,
              "ticks": ""
             }
            },
            "type": "scattergl"
           }
          ],
          "scattermapbox": [
           {
            "marker": {
             "colorbar": {
              "outlinewidth": 0,
              "ticks": ""
             }
            },
            "type": "scattermapbox"
           }
          ],
          "scatterpolar": [
           {
            "marker": {
             "colorbar": {
              "outlinewidth": 0,
              "ticks": ""
             }
            },
            "type": "scatterpolar"
           }
          ],
          "scatterpolargl": [
           {
            "marker": {
             "colorbar": {
              "outlinewidth": 0,
              "ticks": ""
             }
            },
            "type": "scatterpolargl"
           }
          ],
          "scatterternary": [
           {
            "marker": {
             "colorbar": {
              "outlinewidth": 0,
              "ticks": ""
             }
            },
            "type": "scatterternary"
           }
          ],
          "surface": [
           {
            "colorbar": {
             "outlinewidth": 0,
             "ticks": ""
            },
            "colorscale": [
             [
              0,
              "#0d0887"
             ],
             [
              0.1111111111111111,
              "#46039f"
             ],
             [
              0.2222222222222222,
              "#7201a8"
             ],
             [
              0.3333333333333333,
              "#9c179e"
             ],
             [
              0.4444444444444444,
              "#bd3786"
             ],
             [
              0.5555555555555556,
              "#d8576b"
             ],
             [
              0.6666666666666666,
              "#ed7953"
             ],
             [
              0.7777777777777778,
              "#fb9f3a"
             ],
             [
              0.8888888888888888,
              "#fdca26"
             ],
             [
              1,
              "#f0f921"
             ]
            ],
            "type": "surface"
           }
          ],
          "table": [
           {
            "cells": {
             "fill": {
              "color": "#EBF0F8"
             },
             "line": {
              "color": "white"
             }
            },
            "header": {
             "fill": {
              "color": "#C8D4E3"
             },
             "line": {
              "color": "white"
             }
            },
            "type": "table"
           }
          ]
         },
         "layout": {
          "annotationdefaults": {
           "arrowcolor": "#2a3f5f",
           "arrowhead": 0,
           "arrowwidth": 1
          },
          "autotypenumbers": "strict",
          "coloraxis": {
           "colorbar": {
            "outlinewidth": 0,
            "ticks": ""
           }
          },
          "colorscale": {
           "diverging": [
            [
             0,
             "#8e0152"
            ],
            [
             0.1,
             "#c51b7d"
            ],
            [
             0.2,
             "#de77ae"
            ],
            [
             0.3,
             "#f1b6da"
            ],
            [
             0.4,
             "#fde0ef"
            ],
            [
             0.5,
             "#f7f7f7"
            ],
            [
             0.6,
             "#e6f5d0"
            ],
            [
             0.7,
             "#b8e186"
            ],
            [
             0.8,
             "#7fbc41"
            ],
            [
             0.9,
             "#4d9221"
            ],
            [
             1,
             "#276419"
            ]
           ],
           "sequential": [
            [
             0,
             "#0d0887"
            ],
            [
             0.1111111111111111,
             "#46039f"
            ],
            [
             0.2222222222222222,
             "#7201a8"
            ],
            [
             0.3333333333333333,
             "#9c179e"
            ],
            [
             0.4444444444444444,
             "#bd3786"
            ],
            [
             0.5555555555555556,
             "#d8576b"
            ],
            [
             0.6666666666666666,
             "#ed7953"
            ],
            [
             0.7777777777777778,
             "#fb9f3a"
            ],
            [
             0.8888888888888888,
             "#fdca26"
            ],
            [
             1,
             "#f0f921"
            ]
           ],
           "sequentialminus": [
            [
             0,
             "#0d0887"
            ],
            [
             0.1111111111111111,
             "#46039f"
            ],
            [
             0.2222222222222222,
             "#7201a8"
            ],
            [
             0.3333333333333333,
             "#9c179e"
            ],
            [
             0.4444444444444444,
             "#bd3786"
            ],
            [
             0.5555555555555556,
             "#d8576b"
            ],
            [
             0.6666666666666666,
             "#ed7953"
            ],
            [
             0.7777777777777778,
             "#fb9f3a"
            ],
            [
             0.8888888888888888,
             "#fdca26"
            ],
            [
             1,
             "#f0f921"
            ]
           ]
          },
          "colorway": [
           "#636efa",
           "#EF553B",
           "#00cc96",
           "#ab63fa",
           "#FFA15A",
           "#19d3f3",
           "#FF6692",
           "#B6E880",
           "#FF97FF",
           "#FECB52"
          ],
          "font": {
           "color": "#2a3f5f"
          },
          "geo": {
           "bgcolor": "white",
           "lakecolor": "white",
           "landcolor": "#E5ECF6",
           "showlakes": true,
           "showland": true,
           "subunitcolor": "white"
          },
          "hoverlabel": {
           "align": "left"
          },
          "hovermode": "closest",
          "mapbox": {
           "style": "light"
          },
          "paper_bgcolor": "white",
          "plot_bgcolor": "#E5ECF6",
          "polar": {
           "angularaxis": {
            "gridcolor": "white",
            "linecolor": "white",
            "ticks": ""
           },
           "bgcolor": "#E5ECF6",
           "radialaxis": {
            "gridcolor": "white",
            "linecolor": "white",
            "ticks": ""
           }
          },
          "scene": {
           "xaxis": {
            "backgroundcolor": "#E5ECF6",
            "gridcolor": "white",
            "gridwidth": 2,
            "linecolor": "white",
            "showbackground": true,
            "ticks": "",
            "zerolinecolor": "white"
           },
           "yaxis": {
            "backgroundcolor": "#E5ECF6",
            "gridcolor": "white",
            "gridwidth": 2,
            "linecolor": "white",
            "showbackground": true,
            "ticks": "",
            "zerolinecolor": "white"
           },
           "zaxis": {
            "backgroundcolor": "#E5ECF6",
            "gridcolor": "white",
            "gridwidth": 2,
            "linecolor": "white",
            "showbackground": true,
            "ticks": "",
            "zerolinecolor": "white"
           }
          },
          "shapedefaults": {
           "line": {
            "color": "#2a3f5f"
           }
          },
          "ternary": {
           "aaxis": {
            "gridcolor": "white",
            "linecolor": "white",
            "ticks": ""
           },
           "baxis": {
            "gridcolor": "white",
            "linecolor": "white",
            "ticks": ""
           },
           "bgcolor": "#E5ECF6",
           "caxis": {
            "gridcolor": "white",
            "linecolor": "white",
            "ticks": ""
           }
          },
          "title": {
           "x": 0.05
          },
          "xaxis": {
           "automargin": true,
           "gridcolor": "white",
           "linecolor": "white",
           "ticks": "",
           "title": {
            "standoff": 15
           },
           "zerolinecolor": "white",
           "zerolinewidth": 2
          },
          "yaxis": {
           "automargin": true,
           "gridcolor": "white",
           "linecolor": "white",
           "ticks": "",
           "title": {
            "standoff": 15
           },
           "zerolinecolor": "white",
           "zerolinewidth": 2
          }
         }
        }
       }
      }
     },
     "metadata": {},
     "output_type": "display_data"
    },
    {
     "data": {
      "application/vnd.plotly.v1+json": {
       "config": {
        "plotlyServerURL": "https://plot.ly"
       },
       "data": [
        {
         "labels": [
          "Arrival airports are same",
          "Arrival airports are different"
         ],
         "name": "Arrival Airports",
         "title": {
          "text": "Arrival Airports"
         },
         "type": "pie",
         "values": [
          187,
          143
         ]
        }
       ],
       "layout": {
        "template": {
         "data": {
          "bar": [
           {
            "error_x": {
             "color": "#2a3f5f"
            },
            "error_y": {
             "color": "#2a3f5f"
            },
            "marker": {
             "line": {
              "color": "#E5ECF6",
              "width": 0.5
             },
             "pattern": {
              "fillmode": "overlay",
              "size": 10,
              "solidity": 0.2
             }
            },
            "type": "bar"
           }
          ],
          "barpolar": [
           {
            "marker": {
             "line": {
              "color": "#E5ECF6",
              "width": 0.5
             },
             "pattern": {
              "fillmode": "overlay",
              "size": 10,
              "solidity": 0.2
             }
            },
            "type": "barpolar"
           }
          ],
          "carpet": [
           {
            "aaxis": {
             "endlinecolor": "#2a3f5f",
             "gridcolor": "white",
             "linecolor": "white",
             "minorgridcolor": "white",
             "startlinecolor": "#2a3f5f"
            },
            "baxis": {
             "endlinecolor": "#2a3f5f",
             "gridcolor": "white",
             "linecolor": "white",
             "minorgridcolor": "white",
             "startlinecolor": "#2a3f5f"
            },
            "type": "carpet"
           }
          ],
          "choropleth": [
           {
            "colorbar": {
             "outlinewidth": 0,
             "ticks": ""
            },
            "type": "choropleth"
           }
          ],
          "contour": [
           {
            "colorbar": {
             "outlinewidth": 0,
             "ticks": ""
            },
            "colorscale": [
             [
              0,
              "#0d0887"
             ],
             [
              0.1111111111111111,
              "#46039f"
             ],
             [
              0.2222222222222222,
              "#7201a8"
             ],
             [
              0.3333333333333333,
              "#9c179e"
             ],
             [
              0.4444444444444444,
              "#bd3786"
             ],
             [
              0.5555555555555556,
              "#d8576b"
             ],
             [
              0.6666666666666666,
              "#ed7953"
             ],
             [
              0.7777777777777778,
              "#fb9f3a"
             ],
             [
              0.8888888888888888,
              "#fdca26"
             ],
             [
              1,
              "#f0f921"
             ]
            ],
            "type": "contour"
           }
          ],
          "contourcarpet": [
           {
            "colorbar": {
             "outlinewidth": 0,
             "ticks": ""
            },
            "type": "contourcarpet"
           }
          ],
          "heatmap": [
           {
            "colorbar": {
             "outlinewidth": 0,
             "ticks": ""
            },
            "colorscale": [
             [
              0,
              "#0d0887"
             ],
             [
              0.1111111111111111,
              "#46039f"
             ],
             [
              0.2222222222222222,
              "#7201a8"
             ],
             [
              0.3333333333333333,
              "#9c179e"
             ],
             [
              0.4444444444444444,
              "#bd3786"
             ],
             [
              0.5555555555555556,
              "#d8576b"
             ],
             [
              0.6666666666666666,
              "#ed7953"
             ],
             [
              0.7777777777777778,
              "#fb9f3a"
             ],
             [
              0.8888888888888888,
              "#fdca26"
             ],
             [
              1,
              "#f0f921"
             ]
            ],
            "type": "heatmap"
           }
          ],
          "heatmapgl": [
           {
            "colorbar": {
             "outlinewidth": 0,
             "ticks": ""
            },
            "colorscale": [
             [
              0,
              "#0d0887"
             ],
             [
              0.1111111111111111,
              "#46039f"
             ],
             [
              0.2222222222222222,
              "#7201a8"
             ],
             [
              0.3333333333333333,
              "#9c179e"
             ],
             [
              0.4444444444444444,
              "#bd3786"
             ],
             [
              0.5555555555555556,
              "#d8576b"
             ],
             [
              0.6666666666666666,
              "#ed7953"
             ],
             [
              0.7777777777777778,
              "#fb9f3a"
             ],
             [
              0.8888888888888888,
              "#fdca26"
             ],
             [
              1,
              "#f0f921"
             ]
            ],
            "type": "heatmapgl"
           }
          ],
          "histogram": [
           {
            "marker": {
             "pattern": {
              "fillmode": "overlay",
              "size": 10,
              "solidity": 0.2
             }
            },
            "type": "histogram"
           }
          ],
          "histogram2d": [
           {
            "colorbar": {
             "outlinewidth": 0,
             "ticks": ""
            },
            "colorscale": [
             [
              0,
              "#0d0887"
             ],
             [
              0.1111111111111111,
              "#46039f"
             ],
             [
              0.2222222222222222,
              "#7201a8"
             ],
             [
              0.3333333333333333,
              "#9c179e"
             ],
             [
              0.4444444444444444,
              "#bd3786"
             ],
             [
              0.5555555555555556,
              "#d8576b"
             ],
             [
              0.6666666666666666,
              "#ed7953"
             ],
             [
              0.7777777777777778,
              "#fb9f3a"
             ],
             [
              0.8888888888888888,
              "#fdca26"
             ],
             [
              1,
              "#f0f921"
             ]
            ],
            "type": "histogram2d"
           }
          ],
          "histogram2dcontour": [
           {
            "colorbar": {
             "outlinewidth": 0,
             "ticks": ""
            },
            "colorscale": [
             [
              0,
              "#0d0887"
             ],
             [
              0.1111111111111111,
              "#46039f"
             ],
             [
              0.2222222222222222,
              "#7201a8"
             ],
             [
              0.3333333333333333,
              "#9c179e"
             ],
             [
              0.4444444444444444,
              "#bd3786"
             ],
             [
              0.5555555555555556,
              "#d8576b"
             ],
             [
              0.6666666666666666,
              "#ed7953"
             ],
             [
              0.7777777777777778,
              "#fb9f3a"
             ],
             [
              0.8888888888888888,
              "#fdca26"
             ],
             [
              1,
              "#f0f921"
             ]
            ],
            "type": "histogram2dcontour"
           }
          ],
          "mesh3d": [
           {
            "colorbar": {
             "outlinewidth": 0,
             "ticks": ""
            },
            "type": "mesh3d"
           }
          ],
          "parcoords": [
           {
            "line": {
             "colorbar": {
              "outlinewidth": 0,
              "ticks": ""
             }
            },
            "type": "parcoords"
           }
          ],
          "pie": [
           {
            "automargin": true,
            "type": "pie"
           }
          ],
          "scatter": [
           {
            "fillpattern": {
             "fillmode": "overlay",
             "size": 10,
             "solidity": 0.2
            },
            "type": "scatter"
           }
          ],
          "scatter3d": [
           {
            "line": {
             "colorbar": {
              "outlinewidth": 0,
              "ticks": ""
             }
            },
            "marker": {
             "colorbar": {
              "outlinewidth": 0,
              "ticks": ""
             }
            },
            "type": "scatter3d"
           }
          ],
          "scattercarpet": [
           {
            "marker": {
             "colorbar": {
              "outlinewidth": 0,
              "ticks": ""
             }
            },
            "type": "scattercarpet"
           }
          ],
          "scattergeo": [
           {
            "marker": {
             "colorbar": {
              "outlinewidth": 0,
              "ticks": ""
             }
            },
            "type": "scattergeo"
           }
          ],
          "scattergl": [
           {
            "marker": {
             "colorbar": {
              "outlinewidth": 0,
              "ticks": ""
             }
            },
            "type": "scattergl"
           }
          ],
          "scattermapbox": [
           {
            "marker": {
             "colorbar": {
              "outlinewidth": 0,
              "ticks": ""
             }
            },
            "type": "scattermapbox"
           }
          ],
          "scatterpolar": [
           {
            "marker": {
             "colorbar": {
              "outlinewidth": 0,
              "ticks": ""
             }
            },
            "type": "scatterpolar"
           }
          ],
          "scatterpolargl": [
           {
            "marker": {
             "colorbar": {
              "outlinewidth": 0,
              "ticks": ""
             }
            },
            "type": "scatterpolargl"
           }
          ],
          "scatterternary": [
           {
            "marker": {
             "colorbar": {
              "outlinewidth": 0,
              "ticks": ""
             }
            },
            "type": "scatterternary"
           }
          ],
          "surface": [
           {
            "colorbar": {
             "outlinewidth": 0,
             "ticks": ""
            },
            "colorscale": [
             [
              0,
              "#0d0887"
             ],
             [
              0.1111111111111111,
              "#46039f"
             ],
             [
              0.2222222222222222,
              "#7201a8"
             ],
             [
              0.3333333333333333,
              "#9c179e"
             ],
             [
              0.4444444444444444,
              "#bd3786"
             ],
             [
              0.5555555555555556,
              "#d8576b"
             ],
             [
              0.6666666666666666,
              "#ed7953"
             ],
             [
              0.7777777777777778,
              "#fb9f3a"
             ],
             [
              0.8888888888888888,
              "#fdca26"
             ],
             [
              1,
              "#f0f921"
             ]
            ],
            "type": "surface"
           }
          ],
          "table": [
           {
            "cells": {
             "fill": {
              "color": "#EBF0F8"
             },
             "line": {
              "color": "white"
             }
            },
            "header": {
             "fill": {
              "color": "#C8D4E3"
             },
             "line": {
              "color": "white"
             }
            },
            "type": "table"
           }
          ]
         },
         "layout": {
          "annotationdefaults": {
           "arrowcolor": "#2a3f5f",
           "arrowhead": 0,
           "arrowwidth": 1
          },
          "autotypenumbers": "strict",
          "coloraxis": {
           "colorbar": {
            "outlinewidth": 0,
            "ticks": ""
           }
          },
          "colorscale": {
           "diverging": [
            [
             0,
             "#8e0152"
            ],
            [
             0.1,
             "#c51b7d"
            ],
            [
             0.2,
             "#de77ae"
            ],
            [
             0.3,
             "#f1b6da"
            ],
            [
             0.4,
             "#fde0ef"
            ],
            [
             0.5,
             "#f7f7f7"
            ],
            [
             0.6,
             "#e6f5d0"
            ],
            [
             0.7,
             "#b8e186"
            ],
            [
             0.8,
             "#7fbc41"
            ],
            [
             0.9,
             "#4d9221"
            ],
            [
             1,
             "#276419"
            ]
           ],
           "sequential": [
            [
             0,
             "#0d0887"
            ],
            [
             0.1111111111111111,
             "#46039f"
            ],
            [
             0.2222222222222222,
             "#7201a8"
            ],
            [
             0.3333333333333333,
             "#9c179e"
            ],
            [
             0.4444444444444444,
             "#bd3786"
            ],
            [
             0.5555555555555556,
             "#d8576b"
            ],
            [
             0.6666666666666666,
             "#ed7953"
            ],
            [
             0.7777777777777778,
             "#fb9f3a"
            ],
            [
             0.8888888888888888,
             "#fdca26"
            ],
            [
             1,
             "#f0f921"
            ]
           ],
           "sequentialminus": [
            [
             0,
             "#0d0887"
            ],
            [
             0.1111111111111111,
             "#46039f"
            ],
            [
             0.2222222222222222,
             "#7201a8"
            ],
            [
             0.3333333333333333,
             "#9c179e"
            ],
            [
             0.4444444444444444,
             "#bd3786"
            ],
            [
             0.5555555555555556,
             "#d8576b"
            ],
            [
             0.6666666666666666,
             "#ed7953"
            ],
            [
             0.7777777777777778,
             "#fb9f3a"
            ],
            [
             0.8888888888888888,
             "#fdca26"
            ],
            [
             1,
             "#f0f921"
            ]
           ]
          },
          "colorway": [
           "#636efa",
           "#EF553B",
           "#00cc96",
           "#ab63fa",
           "#FFA15A",
           "#19d3f3",
           "#FF6692",
           "#B6E880",
           "#FF97FF",
           "#FECB52"
          ],
          "font": {
           "color": "#2a3f5f"
          },
          "geo": {
           "bgcolor": "white",
           "lakecolor": "white",
           "landcolor": "#E5ECF6",
           "showlakes": true,
           "showland": true,
           "subunitcolor": "white"
          },
          "hoverlabel": {
           "align": "left"
          },
          "hovermode": "closest",
          "mapbox": {
           "style": "light"
          },
          "paper_bgcolor": "white",
          "plot_bgcolor": "#E5ECF6",
          "polar": {
           "angularaxis": {
            "gridcolor": "white",
            "linecolor": "white",
            "ticks": ""
           },
           "bgcolor": "#E5ECF6",
           "radialaxis": {
            "gridcolor": "white",
            "linecolor": "white",
            "ticks": ""
           }
          },
          "scene": {
           "xaxis": {
            "backgroundcolor": "#E5ECF6",
            "gridcolor": "white",
            "gridwidth": 2,
            "linecolor": "white",
            "showbackground": true,
            "ticks": "",
            "zerolinecolor": "white"
           },
           "yaxis": {
            "backgroundcolor": "#E5ECF6",
            "gridcolor": "white",
            "gridwidth": 2,
            "linecolor": "white",
            "showbackground": true,
            "ticks": "",
            "zerolinecolor": "white"
           },
           "zaxis": {
            "backgroundcolor": "#E5ECF6",
            "gridcolor": "white",
            "gridwidth": 2,
            "linecolor": "white",
            "showbackground": true,
            "ticks": "",
            "zerolinecolor": "white"
           }
          },
          "shapedefaults": {
           "line": {
            "color": "#2a3f5f"
           }
          },
          "ternary": {
           "aaxis": {
            "gridcolor": "white",
            "linecolor": "white",
            "ticks": ""
           },
           "baxis": {
            "gridcolor": "white",
            "linecolor": "white",
            "ticks": ""
           },
           "bgcolor": "#E5ECF6",
           "caxis": {
            "gridcolor": "white",
            "linecolor": "white",
            "ticks": ""
           }
          },
          "title": {
           "x": 0.05
          },
          "xaxis": {
           "automargin": true,
           "gridcolor": "white",
           "linecolor": "white",
           "ticks": "",
           "title": {
            "standoff": 15
           },
           "zerolinecolor": "white",
           "zerolinewidth": 2
          },
          "yaxis": {
           "automargin": true,
           "gridcolor": "white",
           "linecolor": "white",
           "ticks": "",
           "title": {
            "standoff": 15
           },
           "zerolinecolor": "white",
           "zerolinewidth": 2
          }
         }
        }
       }
      }
     },
     "metadata": {},
     "output_type": "display_data"
    },
    {
     "data": {
      "application/vnd.plotly.v1+json": {
       "config": {
        "plotlyServerURL": "https://plot.ly"
       },
       "data": [
        {
         "labels": [
          "Arrival and departure airports are both different",
          "Either arrival and/or departure airports are same"
         ],
         "name": "Arrival and Departure Airports",
         "title": {
          "text": "Arrival and Departure Airports"
         },
         "type": "pie",
         "values": [
          143,
          187
         ]
        }
       ],
       "layout": {
        "template": {
         "data": {
          "bar": [
           {
            "error_x": {
             "color": "#2a3f5f"
            },
            "error_y": {
             "color": "#2a3f5f"
            },
            "marker": {
             "line": {
              "color": "#E5ECF6",
              "width": 0.5
             },
             "pattern": {
              "fillmode": "overlay",
              "size": 10,
              "solidity": 0.2
             }
            },
            "type": "bar"
           }
          ],
          "barpolar": [
           {
            "marker": {
             "line": {
              "color": "#E5ECF6",
              "width": 0.5
             },
             "pattern": {
              "fillmode": "overlay",
              "size": 10,
              "solidity": 0.2
             }
            },
            "type": "barpolar"
           }
          ],
          "carpet": [
           {
            "aaxis": {
             "endlinecolor": "#2a3f5f",
             "gridcolor": "white",
             "linecolor": "white",
             "minorgridcolor": "white",
             "startlinecolor": "#2a3f5f"
            },
            "baxis": {
             "endlinecolor": "#2a3f5f",
             "gridcolor": "white",
             "linecolor": "white",
             "minorgridcolor": "white",
             "startlinecolor": "#2a3f5f"
            },
            "type": "carpet"
           }
          ],
          "choropleth": [
           {
            "colorbar": {
             "outlinewidth": 0,
             "ticks": ""
            },
            "type": "choropleth"
           }
          ],
          "contour": [
           {
            "colorbar": {
             "outlinewidth": 0,
             "ticks": ""
            },
            "colorscale": [
             [
              0,
              "#0d0887"
             ],
             [
              0.1111111111111111,
              "#46039f"
             ],
             [
              0.2222222222222222,
              "#7201a8"
             ],
             [
              0.3333333333333333,
              "#9c179e"
             ],
             [
              0.4444444444444444,
              "#bd3786"
             ],
             [
              0.5555555555555556,
              "#d8576b"
             ],
             [
              0.6666666666666666,
              "#ed7953"
             ],
             [
              0.7777777777777778,
              "#fb9f3a"
             ],
             [
              0.8888888888888888,
              "#fdca26"
             ],
             [
              1,
              "#f0f921"
             ]
            ],
            "type": "contour"
           }
          ],
          "contourcarpet": [
           {
            "colorbar": {
             "outlinewidth": 0,
             "ticks": ""
            },
            "type": "contourcarpet"
           }
          ],
          "heatmap": [
           {
            "colorbar": {
             "outlinewidth": 0,
             "ticks": ""
            },
            "colorscale": [
             [
              0,
              "#0d0887"
             ],
             [
              0.1111111111111111,
              "#46039f"
             ],
             [
              0.2222222222222222,
              "#7201a8"
             ],
             [
              0.3333333333333333,
              "#9c179e"
             ],
             [
              0.4444444444444444,
              "#bd3786"
             ],
             [
              0.5555555555555556,
              "#d8576b"
             ],
             [
              0.6666666666666666,
              "#ed7953"
             ],
             [
              0.7777777777777778,
              "#fb9f3a"
             ],
             [
              0.8888888888888888,
              "#fdca26"
             ],
             [
              1,
              "#f0f921"
             ]
            ],
            "type": "heatmap"
           }
          ],
          "heatmapgl": [
           {
            "colorbar": {
             "outlinewidth": 0,
             "ticks": ""
            },
            "colorscale": [
             [
              0,
              "#0d0887"
             ],
             [
              0.1111111111111111,
              "#46039f"
             ],
             [
              0.2222222222222222,
              "#7201a8"
             ],
             [
              0.3333333333333333,
              "#9c179e"
             ],
             [
              0.4444444444444444,
              "#bd3786"
             ],
             [
              0.5555555555555556,
              "#d8576b"
             ],
             [
              0.6666666666666666,
              "#ed7953"
             ],
             [
              0.7777777777777778,
              "#fb9f3a"
             ],
             [
              0.8888888888888888,
              "#fdca26"
             ],
             [
              1,
              "#f0f921"
             ]
            ],
            "type": "heatmapgl"
           }
          ],
          "histogram": [
           {
            "marker": {
             "pattern": {
              "fillmode": "overlay",
              "size": 10,
              "solidity": 0.2
             }
            },
            "type": "histogram"
           }
          ],
          "histogram2d": [
           {
            "colorbar": {
             "outlinewidth": 0,
             "ticks": ""
            },
            "colorscale": [
             [
              0,
              "#0d0887"
             ],
             [
              0.1111111111111111,
              "#46039f"
             ],
             [
              0.2222222222222222,
              "#7201a8"
             ],
             [
              0.3333333333333333,
              "#9c179e"
             ],
             [
              0.4444444444444444,
              "#bd3786"
             ],
             [
              0.5555555555555556,
              "#d8576b"
             ],
             [
              0.6666666666666666,
              "#ed7953"
             ],
             [
              0.7777777777777778,
              "#fb9f3a"
             ],
             [
              0.8888888888888888,
              "#fdca26"
             ],
             [
              1,
              "#f0f921"
             ]
            ],
            "type": "histogram2d"
           }
          ],
          "histogram2dcontour": [
           {
            "colorbar": {
             "outlinewidth": 0,
             "ticks": ""
            },
            "colorscale": [
             [
              0,
              "#0d0887"
             ],
             [
              0.1111111111111111,
              "#46039f"
             ],
             [
              0.2222222222222222,
              "#7201a8"
             ],
             [
              0.3333333333333333,
              "#9c179e"
             ],
             [
              0.4444444444444444,
              "#bd3786"
             ],
             [
              0.5555555555555556,
              "#d8576b"
             ],
             [
              0.6666666666666666,
              "#ed7953"
             ],
             [
              0.7777777777777778,
              "#fb9f3a"
             ],
             [
              0.8888888888888888,
              "#fdca26"
             ],
             [
              1,
              "#f0f921"
             ]
            ],
            "type": "histogram2dcontour"
           }
          ],
          "mesh3d": [
           {
            "colorbar": {
             "outlinewidth": 0,
             "ticks": ""
            },
            "type": "mesh3d"
           }
          ],
          "parcoords": [
           {
            "line": {
             "colorbar": {
              "outlinewidth": 0,
              "ticks": ""
             }
            },
            "type": "parcoords"
           }
          ],
          "pie": [
           {
            "automargin": true,
            "type": "pie"
           }
          ],
          "scatter": [
           {
            "fillpattern": {
             "fillmode": "overlay",
             "size": 10,
             "solidity": 0.2
            },
            "type": "scatter"
           }
          ],
          "scatter3d": [
           {
            "line": {
             "colorbar": {
              "outlinewidth": 0,
              "ticks": ""
             }
            },
            "marker": {
             "colorbar": {
              "outlinewidth": 0,
              "ticks": ""
             }
            },
            "type": "scatter3d"
           }
          ],
          "scattercarpet": [
           {
            "marker": {
             "colorbar": {
              "outlinewidth": 0,
              "ticks": ""
             }
            },
            "type": "scattercarpet"
           }
          ],
          "scattergeo": [
           {
            "marker": {
             "colorbar": {
              "outlinewidth": 0,
              "ticks": ""
             }
            },
            "type": "scattergeo"
           }
          ],
          "scattergl": [
           {
            "marker": {
             "colorbar": {
              "outlinewidth": 0,
              "ticks": ""
             }
            },
            "type": "scattergl"
           }
          ],
          "scattermapbox": [
           {
            "marker": {
             "colorbar": {
              "outlinewidth": 0,
              "ticks": ""
             }
            },
            "type": "scattermapbox"
           }
          ],
          "scatterpolar": [
           {
            "marker": {
             "colorbar": {
              "outlinewidth": 0,
              "ticks": ""
             }
            },
            "type": "scatterpolar"
           }
          ],
          "scatterpolargl": [
           {
            "marker": {
             "colorbar": {
              "outlinewidth": 0,
              "ticks": ""
             }
            },
            "type": "scatterpolargl"
           }
          ],
          "scatterternary": [
           {
            "marker": {
             "colorbar": {
              "outlinewidth": 0,
              "ticks": ""
             }
            },
            "type": "scatterternary"
           }
          ],
          "surface": [
           {
            "colorbar": {
             "outlinewidth": 0,
             "ticks": ""
            },
            "colorscale": [
             [
              0,
              "#0d0887"
             ],
             [
              0.1111111111111111,
              "#46039f"
             ],
             [
              0.2222222222222222,
              "#7201a8"
             ],
             [
              0.3333333333333333,
              "#9c179e"
             ],
             [
              0.4444444444444444,
              "#bd3786"
             ],
             [
              0.5555555555555556,
              "#d8576b"
             ],
             [
              0.6666666666666666,
              "#ed7953"
             ],
             [
              0.7777777777777778,
              "#fb9f3a"
             ],
             [
              0.8888888888888888,
              "#fdca26"
             ],
             [
              1,
              "#f0f921"
             ]
            ],
            "type": "surface"
           }
          ],
          "table": [
           {
            "cells": {
             "fill": {
              "color": "#EBF0F8"
             },
             "line": {
              "color": "white"
             }
            },
            "header": {
             "fill": {
              "color": "#C8D4E3"
             },
             "line": {
              "color": "white"
             }
            },
            "type": "table"
           }
          ]
         },
         "layout": {
          "annotationdefaults": {
           "arrowcolor": "#2a3f5f",
           "arrowhead": 0,
           "arrowwidth": 1
          },
          "autotypenumbers": "strict",
          "coloraxis": {
           "colorbar": {
            "outlinewidth": 0,
            "ticks": ""
           }
          },
          "colorscale": {
           "diverging": [
            [
             0,
             "#8e0152"
            ],
            [
             0.1,
             "#c51b7d"
            ],
            [
             0.2,
             "#de77ae"
            ],
            [
             0.3,
             "#f1b6da"
            ],
            [
             0.4,
             "#fde0ef"
            ],
            [
             0.5,
             "#f7f7f7"
            ],
            [
             0.6,
             "#e6f5d0"
            ],
            [
             0.7,
             "#b8e186"
            ],
            [
             0.8,
             "#7fbc41"
            ],
            [
             0.9,
             "#4d9221"
            ],
            [
             1,
             "#276419"
            ]
           ],
           "sequential": [
            [
             0,
             "#0d0887"
            ],
            [
             0.1111111111111111,
             "#46039f"
            ],
            [
             0.2222222222222222,
             "#7201a8"
            ],
            [
             0.3333333333333333,
             "#9c179e"
            ],
            [
             0.4444444444444444,
             "#bd3786"
            ],
            [
             0.5555555555555556,
             "#d8576b"
            ],
            [
             0.6666666666666666,
             "#ed7953"
            ],
            [
             0.7777777777777778,
             "#fb9f3a"
            ],
            [
             0.8888888888888888,
             "#fdca26"
            ],
            [
             1,
             "#f0f921"
            ]
           ],
           "sequentialminus": [
            [
             0,
             "#0d0887"
            ],
            [
             0.1111111111111111,
             "#46039f"
            ],
            [
             0.2222222222222222,
             "#7201a8"
            ],
            [
             0.3333333333333333,
             "#9c179e"
            ],
            [
             0.4444444444444444,
             "#bd3786"
            ],
            [
             0.5555555555555556,
             "#d8576b"
            ],
            [
             0.6666666666666666,
             "#ed7953"
            ],
            [
             0.7777777777777778,
             "#fb9f3a"
            ],
            [
             0.8888888888888888,
             "#fdca26"
            ],
            [
             1,
             "#f0f921"
            ]
           ]
          },
          "colorway": [
           "#636efa",
           "#EF553B",
           "#00cc96",
           "#ab63fa",
           "#FFA15A",
           "#19d3f3",
           "#FF6692",
           "#B6E880",
           "#FF97FF",
           "#FECB52"
          ],
          "font": {
           "color": "#2a3f5f"
          },
          "geo": {
           "bgcolor": "white",
           "lakecolor": "white",
           "landcolor": "#E5ECF6",
           "showlakes": true,
           "showland": true,
           "subunitcolor": "white"
          },
          "hoverlabel": {
           "align": "left"
          },
          "hovermode": "closest",
          "mapbox": {
           "style": "light"
          },
          "paper_bgcolor": "white",
          "plot_bgcolor": "#E5ECF6",
          "polar": {
           "angularaxis": {
            "gridcolor": "white",
            "linecolor": "white",
            "ticks": ""
           },
           "bgcolor": "#E5ECF6",
           "radialaxis": {
            "gridcolor": "white",
            "linecolor": "white",
            "ticks": ""
           }
          },
          "scene": {
           "xaxis": {
            "backgroundcolor": "#E5ECF6",
            "gridcolor": "white",
            "gridwidth": 2,
            "linecolor": "white",
            "showbackground": true,
            "ticks": "",
            "zerolinecolor": "white"
           },
           "yaxis": {
            "backgroundcolor": "#E5ECF6",
            "gridcolor": "white",
            "gridwidth": 2,
            "linecolor": "white",
            "showbackground": true,
            "ticks": "",
            "zerolinecolor": "white"
           },
           "zaxis": {
            "backgroundcolor": "#E5ECF6",
            "gridcolor": "white",
            "gridwidth": 2,
            "linecolor": "white",
            "showbackground": true,
            "ticks": "",
            "zerolinecolor": "white"
           }
          },
          "shapedefaults": {
           "line": {
            "color": "#2a3f5f"
           }
          },
          "ternary": {
           "aaxis": {
            "gridcolor": "white",
            "linecolor": "white",
            "ticks": ""
           },
           "baxis": {
            "gridcolor": "white",
            "linecolor": "white",
            "ticks": ""
           },
           "bgcolor": "#E5ECF6",
           "caxis": {
            "gridcolor": "white",
            "linecolor": "white",
            "ticks": ""
           }
          },
          "title": {
           "x": 0.05
          },
          "xaxis": {
           "automargin": true,
           "gridcolor": "white",
           "linecolor": "white",
           "ticks": "",
           "title": {
            "standoff": 15
           },
           "zerolinecolor": "white",
           "zerolinewidth": 2
          },
          "yaxis": {
           "automargin": true,
           "gridcolor": "white",
           "linecolor": "white",
           "ticks": "",
           "title": {
            "standoff": 15
           },
           "zerolinecolor": "white",
           "zerolinewidth": 2
          }
         }
        }
       }
      }
     },
     "metadata": {},
     "output_type": "display_data"
    }
   ],
   "source": [
    "class_mapper = {'F': 0, 'B': 1, 'P': 2, 'E': 3}\n",
    "total_allocated = 0\n",
    "count_same_arr = 0\n",
    "count_same_dst = 0\n",
    "count_diff_arrNdep = 0\n",
    "count_upgrade = 0\n",
    "count_downgrade = 0\n",
    "count_same = 0\n",
    "mean_allocated_pnr_score = 0\n",
    "mean_unallocated_pnr_score = 0\n",
    "\n",
    "for index, row in df.iterrows():\n",
    "    if len(row['allocated_classes']) != 2:\n",
    "        total_allocated += 1\n",
    "        count_same_arr += row['allocated_dst'] == row['canclled_dst']\n",
    "        count_same_dst += row['allocated_src'] == row['canclled_src']\n",
    "        count_diff_arrNdep += row['allocated_dst'] != row['canclled_dst'] and row['allocated_src'] != row['canclled_src']\n",
    "        allocated_classes = ast.literal_eval(row['allocated_classes'])\n",
    "        mean_allocated_pnr_score += row[\"pnr_score\"]\n",
    "        for allocated_class in allocated_classes:\n",
    "            cancelled_class = row['canclled_class']\n",
    "            count_upgrade += class_mapper[allocated_class] - class_mapper[cancelled_class] > 0\n",
    "            count_downgrade += class_mapper[allocated_class] - class_mapper[cancelled_class] < 0\n",
    "            count_same += class_mapper[allocated_class] - class_mapper[cancelled_class] == 0\n",
    "    else:\n",
    "        mean_unallocated_pnr_score += row[\"pnr_score\"]\n",
    "\n",
    "mean_allocated_pnr_score /= total_allocated\n",
    "mean_unallocated_pnr_score /= len(df) - total_allocated\n",
    "\n",
    "# plot allocated pi chart\n",
    "\n",
    "fig1 = go.Figure()\n",
    "fig1.add_trace(go.Pie(labels=[\"Allocated PNRs\", \"Unallocated PNRs\"], values=[total_allocated, len(df) - total_allocated], name=\"Allocation\", title=\"Allocation\"))\n",
    "fig1.show()\n",
    "\n",
    "fig2 = go.Figure()\n",
    "fig2.add_trace(go.Pie(labels=[\"Mean Allocated PNR score\", \"Mean Unallocated PNR score\"], values=[mean_allocated_pnr_score, mean_unallocated_pnr_score], name=\"Mean PNR Scores\", title=\"Mean PNR Scores\"))\n",
    "fig2.show()\n",
    "\n",
    "fig3 = go.Figure()\n",
    "fig3.add_trace(go.Pie(labels=[\"Upgraded Class\", \"Downgraded Class\", \"Same Class\"], values=[count_upgrade, count_downgrade, count_same], name=\"Upgradation/Downgradation\", title=\"Upgradation/Downgradation\"))\n",
    "fig3.show()\n",
    "\n",
    "fig4 = go.Figure()\n",
    "fig4.add_trace(go.Pie(labels=[\"Departure airports are same\", \"Departure airports are different\"], values=[count_same_arr, total_allocated - count_same_arr], name=\"Departure Airports\", title=\"Departure Airports\"))\n",
    "fig4.show()\n",
    "\n",
    "fig5 = go.Figure()\n",
    "fig5.add_trace(go.Pie(labels=[\"Arrival airports are same\", \"Arrival airports are different\"], values=[count_same_dst, total_allocated - count_same_dst], name=\"Arrival Airports\", title=\"Arrival Airports\"))\n",
    "fig5.show()\n",
    "\n",
    "fig6 = go.Figure()\n",
    "fig6.add_trace(go.Pie(labels=[\"Arrival and departure airports are both different\", \"Either arrival and/or departure airports are same\"], values=[count_diff_arrNdep, total_allocated - count_diff_arrNdep], name=\"Arrival and Departure Airports\", title=\"Arrival and Departure Airports\"))\n",
    "fig6.show()"
   ]
  }
 ],
 "metadata": {
  "kernelspec": {
   "display_name": "base",
   "language": "python",
   "name": "python3"
  },
  "language_info": {
   "codemirror_mode": {
    "name": "ipython",
    "version": 3
   },
   "file_extension": ".py",
   "mimetype": "text/x-python",
   "name": "python",
   "nbconvert_exporter": "python",
   "pygments_lexer": "ipython3",
   "version": "3.9.16"
  }
 },
 "nbformat": 4,
 "nbformat_minor": 2
}
