{
 "cells": [
  {
   "cell_type": "code",
   "execution_count": 2,
   "metadata": {},
   "outputs": [],
   "source": [
    "# import matplotlib.pyplot as plt\n",
    "\n",
    "# # Assuming you have the following dictionaries\n",
    "# pnr_flight_dict = {123: 'F123', 456: 'F456', 789: 'F789', 987: 'F987'}\n",
    "# pnr_score_dict = {123: 90, 456: 80, 789: 95, 987: 70}\n",
    "# rescheduling_score_dict = {(123, 'F123'): 10, (456, 'F456'): 5, (789, 'F789'): 15, (987, 'F987'): 8}\n",
    "\n",
    "# # Sort the PNRS by scores\n",
    "# sorted_pnrs = sorted(pnr_score_dict.keys(), key=lambda x: pnr_score_dict[x], reverse=True)\n",
    "\n",
    "# # Extract flight IDs and scores for each PNR\n",
    "# flight_ids = [pnr_flight_dict[pnr] for pnr in sorted_pnrs]\n",
    "# scores = [pnr_score_dict[pnr] for pnr in sorted_pnrs]\n",
    "\n",
    "# # Plotting\n",
    "# fig, ax = plt.subplots(figsize=(10, 6))\n",
    "# bar_width = 0.35\n",
    "# index = range(len(sorted_pnrs))\n",
    "\n",
    "# # Plotting the scores\n",
    "# bars1 = ax.bar(index, scores, bar_width, label='Original Score')\n",
    "\n",
    "# # Plotting the rescheduling scores as a line plot\n",
    "# rescheduling_scores = [rescheduling_score_dict[(pnr, pnr_flight_dict[pnr])] for pnr in sorted_pnrs]\n",
    "# line = ax.plot(index, rescheduling_scores, label='Rescheduling Score', marker='o', color='red')\n",
    "\n",
    "# # Adding labels and title\n",
    "# ax.set_xlabel('PNR')\n",
    "# ax.set_ylabel('Score')\n",
    "# ax.set_title('PNRs with High Scores and Rescheduling Scores')\n",
    "# ax.set_xticks(index)\n",
    "# ax.set_xticklabels(sorted_pnrs)\n",
    "# ax.legend()\n",
    "\n",
    "# # Adding flight IDs as text on top of bars\n",
    "# for i, score in enumerate(scores):\n",
    "#     ax.text(i, score + 1, pnr_flight_dict[sorted_pnrs[i]], ha='center')\n",
    "\n",
    "# # Display the plot\n",
    "# plt.tight_layout()\n",
    "# plt.show()"
   ]
  },
  {
   "cell_type": "code",
   "execution_count": 5,
   "metadata": {},
   "outputs": [],
   "source": [
    "# import plotly.graph_objects as go\n",
    "\n",
    "# # Assuming you have the following dictionaries\n",
    "# pnr_flight_dict = {123: 'F123', 456: 'F456', 789: 'F789', 987: 'F987'}\n",
    "# pnr_score_dict = {123: 90, 456: 80, 789: 95, 987: 70}\n",
    "# rescheduling_score_dict = {(123, 'F123'): 10, (456, 'F456'): 5, (789, 'F789'): 15, (987, 'F987'): 8}\n",
    "\n",
    "# # Sort the PNRS by scores\n",
    "# sorted_pnrs = sorted(pnr_score_dict.keys(), key=lambda x: pnr_score_dict[x], reverse=True)\n",
    "\n",
    "# # Extract flight IDs and scores for each PNR\n",
    "# flight_ids = [pnr_flight_dict[pnr] for pnr in sorted_pnrs]\n",
    "# original_scores = [pnr_score_dict[pnr] for pnr in sorted_pnrs]\n",
    "# rescheduling_scores = [rescheduling_score_dict[(pnr, pnr_flight_dict[pnr])] for pnr in sorted_pnrs]\n",
    "\n",
    "# # Create a bar chart\n",
    "# fig = go.Figure()\n",
    "\n",
    "# # Bar chart for original scores\n",
    "# fig.add_trace(go.Bar(x=sorted_pnrs, y=original_scores, name='Original Score'))\n",
    "\n",
    "# # Line chart for rescheduling scores\n",
    "# fig.add_trace(go.Scatter(x=sorted_pnrs, y=rescheduling_scores, mode='lines+markers', name='Rescheduling Score', line=dict(color='red')))\n",
    "\n",
    "# # Layout customization\n",
    "# fig.update_layout(\n",
    "#     xaxis=dict(title='PNR'),\n",
    "#     yaxis=dict(title='Score'),\n",
    "#     title='PNRs with High Scores and Rescheduling Scores',\n",
    "#     barmode='group'\n",
    "# )\n",
    "\n",
    "# # Display the plot\n",
    "# fig.show()\n"
   ]
  },
  {
   "cell_type": "code",
   "execution_count": 6,
   "metadata": {},
   "outputs": [],
   "source": [
    "### TEST PLOTS\n",
    "import plotly.graph_objects as go\n",
    "from plotly.subplots import make_subplots\n",
    "import plotly.express as px\n",
    "import pandas as pd"
   ]
  },
  {
   "cell_type": "code",
   "execution_count": 7,
   "metadata": {},
   "outputs": [
    {
     "name": "stdout",
     "output_type": "stream",
     "text": [
      "Index(['pnr', 'pnr_score', 'canclled_flight', 'canclled_class',\n",
      "       'canclled_flight_departure', 'canclled_flight_arrival', 'canclled_src',\n",
      "       'canclled_dst', 'allocated_src', 'allocated_dst', 'allocated_flights',\n",
      "       'allocated_flights_departure', 'allocated_flights_arrival',\n",
      "       'allocated_classes', 'allocated_flights_score'],\n",
      "      dtype='object')\n"
     ]
    }
   ],
   "source": [
    "df = pd.read_csv('result.csv')\n",
    "print(df.keys()) "
   ]
  },
  {
   "cell_type": "code",
   "execution_count": 11,
   "metadata": {},
   "outputs": [
    {
     "name": "stdout",
     "output_type": "stream",
     "text": [
      "6497.570850202429 4194.77533747481\n"
     ]
    },
    {
     "data": {
      "application/vnd.plotly.v1+json": {
       "config": {
        "plotlyServerURL": "https://plot.ly"
       },
       "data": [
        {
         "alignmentgroup": "True",
         "hovertemplate": "pnr=%{x}<br>PNR Score=%{y}<extra></extra>",
         "legendgroup": "",
         "marker": {
          "color": "#636efa",
          "pattern": {
           "shape": ""
          }
         },
         "name": "",
         "offsetgroup": "",
         "orientation": "v",
         "showlegend": false,
         "textposition": "auto",
         "type": "bar",
         "x": [
          "WJMV67",
          "VTNP31",
          "NDWM53",
          "NQIR91",
          "YDIV49",
          "GXUC18",
          "VRKF96",
          "YVFV40",
          "QKBU91",
          "AGLB29",
          "XSCX58",
          "HAJT64",
          "UNYK86",
          "TGTE84",
          "ONGL32",
          "JGQQ52",
          "GWNV19",
          "ZOGF53",
          "OGNC74",
          "TGXX73",
          "UNSF23",
          "PPAX23",
          "SGDT71",
          "EJQJ68",
          "TIOK51",
          "LEJE37",
          "ODUR60",
          "TZVR85",
          "FBHC43",
          "HJMG32",
          "PFHK83",
          "IKFF97",
          "JZDS61",
          "OYXB82",
          "GUKB59",
          "RCJP27",
          "HAMF65",
          "VFSF33",
          "MBOQ39",
          "XJSK78",
          "EBBQ47",
          "HTXZ52",
          "JAFL69",
          "UMFN26",
          "HUSS80",
          "ECJI31",
          "VVPN34",
          "NXVJ18",
          "LJSQ23",
          "DUTC29",
          "BENO63",
          "VFLG14",
          "SXKC58",
          "ARWF60",
          "MXUV18",
          "UBHZ78",
          "TJEQ90",
          "CKXS65",
          "GPNU96",
          "LLDJ77",
          "VDFF44",
          "ETZY91",
          "ORDB55",
          "FMEB47",
          "GCZN99",
          "OPTF44",
          "FHGJ87",
          "RMIB10",
          "KLNK89",
          "MSZX21",
          "CDWU92",
          "UWSX94",
          "DIKX30",
          "FETM37",
          "GXSK66",
          "BPIA17",
          "ANCE37",
          "UKUK40",
          "QJLV48",
          "SCJT65",
          "OIMB80",
          "MEAE27",
          "FOEH31",
          "TBBM88",
          "UCQU27",
          "NFUH97",
          "CFTY17",
          "DULQ82",
          "XXUJ80",
          "LQRR20",
          "ZYXC32",
          "XKDR47",
          "MEFS34",
          "BWBC11",
          "EJGI27",
          "VGCG50",
          "VNMI75",
          "ONAJ71",
          "LGSG11",
          "NNFX90",
          "YDLG96",
          "BLQF17",
          "KLPS61",
          "NOBW66",
          "RYRI54",
          "SETU42",
          "UANL74",
          "GQCC71",
          "TBVA58",
          "CFKT22",
          "MGUS94",
          "ZXNE22",
          "WFSI48",
          "OBWW74",
          "BWLY10",
          "AXAX32",
          "AEKU34",
          "POAQ69",
          "HIDK34",
          "SAZH59",
          "BTUY63",
          "FSIF74",
          "HWON19",
          "ZZJJ93",
          "HPCB35",
          "JRHR53",
          "KQZY95",
          "YNPW68",
          "RSWB62",
          "LZNB89",
          "VWMU23",
          "BTPM40",
          "KCDU66",
          "JIZC52",
          "OOQU17",
          "HLWC88",
          "HBSS30",
          "HHXB42",
          "HXSA63",
          "NEVB63",
          "BXPK37",
          "ZRGW22",
          "GKJN81",
          "WGUO57",
          "GZJH95",
          "TOGD18",
          "GCMG66",
          "PQKA70",
          "YPQV77",
          "UXDE15",
          "GHFD72",
          "IXJC94",
          "SUBP18",
          "JVZL51",
          "NUEC95",
          "ENHP81",
          "NBTI23",
          "STRO84",
          "LLCM69",
          "PBYB37",
          "OIEV75",
          "WETD68",
          "CNNN69",
          "CZIL98",
          "DDSN90",
          "TEKX84",
          "TVJT23",
          "CLLT73",
          "UZKL22",
          "NAPT42",
          "WFMJ55",
          "CAJQ90",
          "ASEF54",
          "XDQQ87",
          "SBHC33",
          "AXIQ57",
          "DPIN74",
          "SJTN28",
          "RHRA39",
          "DTSX26",
          "GYNV48",
          "ONGM57",
          "LQMR87",
          "JCJN49",
          "VXSU87",
          "PAWH48",
          "CMXE97",
          "NATL70",
          "IXYT77",
          "OJNO70",
          "ZELQ21",
          "LHQF76",
          "CDCV79",
          "DSFR43",
          "ITOY34",
          "BZSF12",
          "LDQA24",
          "UJQR86",
          "BSOA62",
          "XTGX73",
          "BBOZ29",
          "ARKD19",
          "CKOO43",
          "CKTX37",
          "WNYS90",
          "KAVF60",
          "RRGS45",
          "BGZE20",
          "QLHD46",
          "KCJS73",
          "JVHJ26",
          "ZDKC36",
          "QUVY84",
          "OIVX64",
          "LKOW23",
          "MHRH19",
          "NAIB34",
          "SKXE42",
          "CNPO73",
          "ZXAG92",
          "BMSX65",
          "NVIM24",
          "EEXO48",
          "ABJY21",
          "VICJ80",
          "YFYA31",
          "QBVN74",
          "PDKO77",
          "QMKZ57",
          "FXHE50",
          "WWGP94",
          "KLYP49",
          "PQOV16",
          "DQCF43",
          "RPGC12",
          "ORIX85",
          "DXIE73",
          "COIB65",
          "GQHO73",
          "KAZA18",
          "FYFP65",
          "FKRF40",
          "CQIK83",
          "SNYI92",
          "HVJB92",
          "ARVH27",
          "CONH42",
          "UCJT38",
          "AHZG32",
          "JLNP60",
          "MVFO51",
          "TZTL99",
          "ZASK74",
          "AUOO52",
          "ODZN95",
          "JCQJ32",
          "APYV63",
          "HEPT26",
          "STMT31",
          "RWBR52",
          "TOIY80",
          "DUKC21",
          "QFOR80",
          "TGJW16",
          "TZOM47",
          "AQNL47",
          "HEKU82",
          "ZWEK49",
          "VWYV75",
          "RFML44",
          "VRMJ38",
          "HVFK10",
          "CCDD14",
          "STKH22",
          "BSXO45",
          "CYGT37",
          "OEOB78",
          "EFUM72",
          "MTIH10",
          "LGSP81",
          "NNEP91",
          "JSTA99",
          "GCBX54",
          "HQFT40",
          "ULNA40",
          "IZWI35",
          "RMBZ73",
          "GVTP10",
          "UNSN60",
          "AIVN76",
          "NITW35",
          "WUME37",
          "ESWL74",
          "ESKU68",
          "KLBU17",
          "ZGYQ56",
          "BFCN84",
          "WHQC27",
          "LZTJ27",
          "CSVC82",
          "BCOG34",
          "FIZY56",
          "OENH79",
          "XMCD50",
          "VUKP31",
          "PPTC43",
          "YXOI63",
          "KENT99",
          "ADBU76",
          "PTNO98",
          "CYSU36",
          "QWFD56",
          "YPGF74",
          "DLAU55",
          "BPUD35",
          "SJOG81",
          "DBXT38",
          "NCBF52",
          "EHXX65",
          "WCTN75",
          "JBPE61",
          "AGTZ20",
          "SYQS89",
          "XIEJ75",
          "GRYJ10",
          "UIPM64",
          "NJRI89",
          "JCCL86",
          "NOGS81",
          "OZUT25",
          "XTBX90",
          "XOQT13",
          "WBMS77",
          "MFND91",
          "DWZZ61",
          "ALRK90",
          "RFWU14",
          "PQOY36",
          "OWSQ97",
          "RXDW39",
          "JRTJ85",
          "RRMM37",
          "KOFM20",
          "QECF46",
          "CSRR51",
          "JTJI79",
          "DEIG60",
          "KGVE56",
          "NTHH51",
          "ZGCS80",
          "SHRF14",
          "MWKJ36",
          "IHAN83",
          "SQMX53",
          "KFYE74",
          "GTNR68",
          "KZRO57",
          "KOYD46",
          "DJJY87",
          "JBTR23",
          "XWGC34",
          "ALTR80",
          "QSIX89",
          "LTRM99",
          "XJTB90",
          "PLLI94",
          "KJXK50",
          "RZJE80",
          "BMKS78",
          "DWNT24",
          "GJMS34",
          "HLHZ81",
          "DOVL88",
          "GQLM65",
          "XAWC41",
          "ESAK35",
          "EMQE80",
          "HWNQ25",
          "DXDG12",
          "ISGA38",
          "FKBF56",
          "DOMX92",
          "QZBB18",
          "HUEU97",
          "UXVV30",
          "ZVHT81",
          "DTAP43",
          "TQHY23",
          "LDCN15",
          "TMRV30",
          "RJRX96",
          "QTOL20",
          "YPEO71",
          "ITWI77",
          "QMJU30",
          "SHAV55",
          "HAJF16",
          "OISL18",
          "YYXU14",
          "PWNO45",
          "SHCK89",
          "WYLK21",
          "MOBP10",
          "KQIR15",
          "KUSK79",
          "XAXK13",
          "UQWP71",
          "FLUS31",
          "VCWU29",
          "EBMN77",
          "SXCJ47",
          "OQLJ54",
          "TMGN22",
          "CXHN76",
          "URBX68",
          "TLSS85",
          "SYSY62",
          "SRMH24",
          "ZALE77",
          "CNKD39",
          "UWNQ40",
          "SZPP27",
          "MHKY29",
          "TVES16",
          "FHLE86",
          "YNRD59",
          "OPKM39",
          "BBKQ34",
          "CESM35",
          "TPGM27",
          "YXYQ95",
          "CEOO43",
          "KZZQ98",
          "PRWK29",
          "RQIR95",
          "PDXW81",
          "ZNLM43",
          "MTJF44",
          "LEJF43",
          "AVUP19",
          "GWNX46",
          "UCRI68",
          "DXJH99",
          "IPCJ60",
          "NYHF21",
          "YHZM86",
          "HKVE20",
          "GRKW19",
          "SJLU38",
          "ZEIO40",
          "IGER93",
          "AKOX72",
          "QNXR94",
          "HYWJ10",
          "UBCO49",
          "RKUO87",
          "WWVY42",
          "XRAU69",
          "MSRJ79",
          "FLOW15",
          "IIQP50",
          "METU64",
          "TRXT43",
          "HFET39",
          "VFJJ76",
          "AIAH82",
          "CUVB41",
          "TNVG32",
          "DSVE57",
          "IZSF69",
          "SVUD33",
          "TRUX86",
          "UKYN79",
          "SJSW50",
          "ZGTX94",
          "BCFH57",
          "KIMD35",
          "RCIC42",
          "OBZB10",
          "KKQO33",
          "EYPB50",
          "WBTA61",
          "EWSG56",
          "HHLN28",
          "JQEY56",
          "CVNQ54",
          "NHPX81",
          "YHPZ35",
          "LOPU85",
          "PUYD31",
          "OBCB27",
          "WRBU48",
          "TYAV95",
          "YRPB60"
         ],
         "xaxis": "x",
         "y": [
          12100,
          3500,
          13500,
          12600,
          3600,
          11500,
          5500,
          5600,
          6000,
          6100,
          6500,
          6500,
          7000,
          2500,
          8700,
          9000,
          9000,
          9000,
          8200,
          8000,
          3500,
          3500,
          3500,
          3500,
          10100,
          1500,
          2500,
          4000,
          1600,
          4100,
          7000,
          16600,
          11100,
          2500,
          2500,
          11000,
          10000,
          4500,
          4500,
          7800,
          3500,
          3500,
          4500,
          9100,
          5500,
          2600,
          600,
          1500,
          1500,
          3000,
          3000,
          3000,
          2000,
          2700,
          3100,
          8600,
          1600,
          2600,
          4100,
          5100,
          7300,
          5500,
          2500,
          2000,
          2000,
          3100,
          1600,
          1500,
          1500,
          8000,
          1500,
          1500,
          10600,
          7700,
          2500,
          5000,
          11100,
          11100,
          4000,
          2600,
          3500,
          11600,
          10800,
          12600,
          4100,
          3100,
          3600,
          6600,
          5000,
          5200,
          3000,
          4000,
          11100,
          4000,
          4000,
          4000,
          8800,
          3000,
          3000,
          2000,
          7600,
          10100,
          4500,
          4500,
          2500,
          2500,
          5500,
          7600,
          9300,
          7000,
          4500,
          6700,
          2500,
          23000,
          15600,
          10000,
          6000,
          10800,
          2200,
          3500,
          7500,
          4100,
          1200,
          1000,
          8500,
          11500,
          18600,
          3500,
          6000,
          6000,
          6000,
          10200,
          10600,
          10000,
          7000,
          7200,
          7500,
          7500,
          7500,
          6500,
          5500,
          4500,
          7500,
          9500,
          21600,
          17300,
          8500,
          4500,
          16100,
          9500,
          11200,
          9100,
          2500,
          7000,
          600,
          8700,
          4100,
          6000,
          6000,
          5600,
          6600,
          12800,
          4000,
          1600,
          7300,
          6000,
          13100,
          11600,
          4000,
          4000,
          4000,
          8000,
          12100,
          4100,
          4100,
          9600,
          4200,
          4500,
          4500,
          8600,
          8500,
          11500,
          4700,
          5000,
          5000,
          5200,
          5500,
          5500,
          11000,
          11000,
          10500,
          3600,
          6000,
          3500,
          9100,
          1500,
          1500,
          7300,
          1500,
          7600,
          17000,
          12600,
          15300,
          2500,
          1600,
          2600,
          14500,
          14500,
          13000,
          7000,
          13100,
          13500,
          2500,
          7000,
          6000,
          600,
          12500,
          17600,
          7500,
          5000,
          8500,
          11500,
          15600,
          5500,
          7500,
          9200,
          6500,
          7500,
          7000,
          7500,
          7200,
          3500,
          5000,
          5000,
          1600,
          2500,
          1500,
          1500,
          7000,
          2000,
          4000,
          10600,
          3500,
          600,
          7100,
          15000,
          9500,
          7000,
          15000,
          4500,
          2500,
          2500,
          6000,
          2500,
          2500,
          2500,
          10600,
          5500,
          4000,
          4000,
          19100,
          7200,
          5500,
          11100,
          15000,
          3600,
          10600,
          7700,
          3600,
          9000,
          9600,
          3500,
          11800,
          3500,
          12500,
          7700,
          6000,
          13000,
          1000,
          9100,
          1500,
          1500,
          7500,
          19500,
          2000,
          2000,
          2500,
          3500,
          9000,
          2500,
          2500,
          2500,
          2500,
          2500,
          2500,
          2500,
          4500,
          7000,
          15100,
          4500,
          12100,
          5500,
          11000,
          8000,
          5000,
          6500,
          11100,
          5500,
          5000,
          1600,
          12500,
          8000,
          11500,
          3000,
          3100,
          10000,
          7200,
          2000,
          2000,
          17000,
          10500,
          2000,
          5500,
          6000,
          5500,
          5200,
          3500,
          4500,
          3500,
          8800,
          3600,
          3600,
          6000,
          11000,
          3000,
          6000,
          2000,
          2000,
          5500,
          4000,
          1500,
          11600,
          4000,
          1100,
          1500,
          4100,
          4000,
          5500,
          6600,
          5000,
          6500,
          6700,
          4000,
          2100,
          4600,
          4100,
          10700,
          5500,
          13100,
          9000,
          13700,
          9500,
          6100,
          4100,
          13600,
          4500,
          3500,
          2500,
          4000,
          13100,
          5200,
          9600,
          7000,
          2100,
          6000,
          8000,
          2500,
          7100,
          2500,
          2500,
          1500,
          1500,
          9700,
          2000,
          2000,
          6500,
          13600,
          9500,
          10000,
          4000,
          7000,
          3600,
          6600,
          5000,
          12700,
          9500,
          9000,
          4500,
          12500,
          4500,
          14600,
          3500,
          6100,
          7000,
          5500,
          5000,
          9000,
          15000,
          6200,
          4700,
          14000,
          13800,
          6000,
          13600,
          9000,
          13600,
          8000,
          14600,
          12900,
          1500,
          6000,
          19100,
          9000,
          11600,
          16800,
          6500,
          8000,
          4000,
          11700,
          7500,
          1500,
          1500,
          4000,
          2000,
          4500,
          5600,
          4000,
          1500,
          16000,
          15600,
          2700,
          10000,
          5000,
          7600,
          16000,
          11000,
          6000,
          8200,
          3700,
          3500,
          6000,
          4500,
          4000,
          6000,
          2500,
          8600,
          6600,
          3500,
          20100,
          4500,
          1200,
          2000,
          1100,
          1100,
          2700,
          1000,
          6000,
          2700,
          9100,
          600,
          4000,
          5100,
          5000,
          11000,
          4000,
          2200,
          3600,
          12000,
          4000,
          2000,
          3600,
          3500,
          4500,
          4000,
          2500,
          8500,
          5600,
          4600,
          4500,
          5700,
          1500,
          9700,
          4500,
          2600
         ],
         "yaxis": "y"
        }
       ],
       "layout": {
        "barmode": "relative",
        "legend": {
         "tracegroupgap": 0
        },
        "shapes": [
         {
          "line": {
           "color": "red",
           "width": 2
          },
          "name": "Mean",
          "type": "line",
          "x0": -0.5,
          "x1": 493.5,
          "y0": 6497.570850202429,
          "y1": 6497.570850202429
         }
        ],
        "template": {
         "data": {
          "bar": [
           {
            "error_x": {
             "color": "#2a3f5f"
            },
            "error_y": {
             "color": "#2a3f5f"
            },
            "marker": {
             "line": {
              "color": "#E5ECF6",
              "width": 0.5
             },
             "pattern": {
              "fillmode": "overlay",
              "size": 10,
              "solidity": 0.2
             }
            },
            "type": "bar"
           }
          ],
          "barpolar": [
           {
            "marker": {
             "line": {
              "color": "#E5ECF6",
              "width": 0.5
             },
             "pattern": {
              "fillmode": "overlay",
              "size": 10,
              "solidity": 0.2
             }
            },
            "type": "barpolar"
           }
          ],
          "carpet": [
           {
            "aaxis": {
             "endlinecolor": "#2a3f5f",
             "gridcolor": "white",
             "linecolor": "white",
             "minorgridcolor": "white",
             "startlinecolor": "#2a3f5f"
            },
            "baxis": {
             "endlinecolor": "#2a3f5f",
             "gridcolor": "white",
             "linecolor": "white",
             "minorgridcolor": "white",
             "startlinecolor": "#2a3f5f"
            },
            "type": "carpet"
           }
          ],
          "choropleth": [
           {
            "colorbar": {
             "outlinewidth": 0,
             "ticks": ""
            },
            "type": "choropleth"
           }
          ],
          "contour": [
           {
            "colorbar": {
             "outlinewidth": 0,
             "ticks": ""
            },
            "colorscale": [
             [
              0,
              "#0d0887"
             ],
             [
              0.1111111111111111,
              "#46039f"
             ],
             [
              0.2222222222222222,
              "#7201a8"
             ],
             [
              0.3333333333333333,
              "#9c179e"
             ],
             [
              0.4444444444444444,
              "#bd3786"
             ],
             [
              0.5555555555555556,
              "#d8576b"
             ],
             [
              0.6666666666666666,
              "#ed7953"
             ],
             [
              0.7777777777777778,
              "#fb9f3a"
             ],
             [
              0.8888888888888888,
              "#fdca26"
             ],
             [
              1,
              "#f0f921"
             ]
            ],
            "type": "contour"
           }
          ],
          "contourcarpet": [
           {
            "colorbar": {
             "outlinewidth": 0,
             "ticks": ""
            },
            "type": "contourcarpet"
           }
          ],
          "heatmap": [
           {
            "colorbar": {
             "outlinewidth": 0,
             "ticks": ""
            },
            "colorscale": [
             [
              0,
              "#0d0887"
             ],
             [
              0.1111111111111111,
              "#46039f"
             ],
             [
              0.2222222222222222,
              "#7201a8"
             ],
             [
              0.3333333333333333,
              "#9c179e"
             ],
             [
              0.4444444444444444,
              "#bd3786"
             ],
             [
              0.5555555555555556,
              "#d8576b"
             ],
             [
              0.6666666666666666,
              "#ed7953"
             ],
             [
              0.7777777777777778,
              "#fb9f3a"
             ],
             [
              0.8888888888888888,
              "#fdca26"
             ],
             [
              1,
              "#f0f921"
             ]
            ],
            "type": "heatmap"
           }
          ],
          "heatmapgl": [
           {
            "colorbar": {
             "outlinewidth": 0,
             "ticks": ""
            },
            "colorscale": [
             [
              0,
              "#0d0887"
             ],
             [
              0.1111111111111111,
              "#46039f"
             ],
             [
              0.2222222222222222,
              "#7201a8"
             ],
             [
              0.3333333333333333,
              "#9c179e"
             ],
             [
              0.4444444444444444,
              "#bd3786"
             ],
             [
              0.5555555555555556,
              "#d8576b"
             ],
             [
              0.6666666666666666,
              "#ed7953"
             ],
             [
              0.7777777777777778,
              "#fb9f3a"
             ],
             [
              0.8888888888888888,
              "#fdca26"
             ],
             [
              1,
              "#f0f921"
             ]
            ],
            "type": "heatmapgl"
           }
          ],
          "histogram": [
           {
            "marker": {
             "pattern": {
              "fillmode": "overlay",
              "size": 10,
              "solidity": 0.2
             }
            },
            "type": "histogram"
           }
          ],
          "histogram2d": [
           {
            "colorbar": {
             "outlinewidth": 0,
             "ticks": ""
            },
            "colorscale": [
             [
              0,
              "#0d0887"
             ],
             [
              0.1111111111111111,
              "#46039f"
             ],
             [
              0.2222222222222222,
              "#7201a8"
             ],
             [
              0.3333333333333333,
              "#9c179e"
             ],
             [
              0.4444444444444444,
              "#bd3786"
             ],
             [
              0.5555555555555556,
              "#d8576b"
             ],
             [
              0.6666666666666666,
              "#ed7953"
             ],
             [
              0.7777777777777778,
              "#fb9f3a"
             ],
             [
              0.8888888888888888,
              "#fdca26"
             ],
             [
              1,
              "#f0f921"
             ]
            ],
            "type": "histogram2d"
           }
          ],
          "histogram2dcontour": [
           {
            "colorbar": {
             "outlinewidth": 0,
             "ticks": ""
            },
            "colorscale": [
             [
              0,
              "#0d0887"
             ],
             [
              0.1111111111111111,
              "#46039f"
             ],
             [
              0.2222222222222222,
              "#7201a8"
             ],
             [
              0.3333333333333333,
              "#9c179e"
             ],
             [
              0.4444444444444444,
              "#bd3786"
             ],
             [
              0.5555555555555556,
              "#d8576b"
             ],
             [
              0.6666666666666666,
              "#ed7953"
             ],
             [
              0.7777777777777778,
              "#fb9f3a"
             ],
             [
              0.8888888888888888,
              "#fdca26"
             ],
             [
              1,
              "#f0f921"
             ]
            ],
            "type": "histogram2dcontour"
           }
          ],
          "mesh3d": [
           {
            "colorbar": {
             "outlinewidth": 0,
             "ticks": ""
            },
            "type": "mesh3d"
           }
          ],
          "parcoords": [
           {
            "line": {
             "colorbar": {
              "outlinewidth": 0,
              "ticks": ""
             }
            },
            "type": "parcoords"
           }
          ],
          "pie": [
           {
            "automargin": true,
            "type": "pie"
           }
          ],
          "scatter": [
           {
            "fillpattern": {
             "fillmode": "overlay",
             "size": 10,
             "solidity": 0.2
            },
            "type": "scatter"
           }
          ],
          "scatter3d": [
           {
            "line": {
             "colorbar": {
              "outlinewidth": 0,
              "ticks": ""
             }
            },
            "marker": {
             "colorbar": {
              "outlinewidth": 0,
              "ticks": ""
             }
            },
            "type": "scatter3d"
           }
          ],
          "scattercarpet": [
           {
            "marker": {
             "colorbar": {
              "outlinewidth": 0,
              "ticks": ""
             }
            },
            "type": "scattercarpet"
           }
          ],
          "scattergeo": [
           {
            "marker": {
             "colorbar": {
              "outlinewidth": 0,
              "ticks": ""
             }
            },
            "type": "scattergeo"
           }
          ],
          "scattergl": [
           {
            "marker": {
             "colorbar": {
              "outlinewidth": 0,
              "ticks": ""
             }
            },
            "type": "scattergl"
           }
          ],
          "scattermapbox": [
           {
            "marker": {
             "colorbar": {
              "outlinewidth": 0,
              "ticks": ""
             }
            },
            "type": "scattermapbox"
           }
          ],
          "scatterpolar": [
           {
            "marker": {
             "colorbar": {
              "outlinewidth": 0,
              "ticks": ""
             }
            },
            "type": "scatterpolar"
           }
          ],
          "scatterpolargl": [
           {
            "marker": {
             "colorbar": {
              "outlinewidth": 0,
              "ticks": ""
             }
            },
            "type": "scatterpolargl"
           }
          ],
          "scatterternary": [
           {
            "marker": {
             "colorbar": {
              "outlinewidth": 0,
              "ticks": ""
             }
            },
            "type": "scatterternary"
           }
          ],
          "surface": [
           {
            "colorbar": {
             "outlinewidth": 0,
             "ticks": ""
            },
            "colorscale": [
             [
              0,
              "#0d0887"
             ],
             [
              0.1111111111111111,
              "#46039f"
             ],
             [
              0.2222222222222222,
              "#7201a8"
             ],
             [
              0.3333333333333333,
              "#9c179e"
             ],
             [
              0.4444444444444444,
              "#bd3786"
             ],
             [
              0.5555555555555556,
              "#d8576b"
             ],
             [
              0.6666666666666666,
              "#ed7953"
             ],
             [
              0.7777777777777778,
              "#fb9f3a"
             ],
             [
              0.8888888888888888,
              "#fdca26"
             ],
             [
              1,
              "#f0f921"
             ]
            ],
            "type": "surface"
           }
          ],
          "table": [
           {
            "cells": {
             "fill": {
              "color": "#EBF0F8"
             },
             "line": {
              "color": "white"
             }
            },
            "header": {
             "fill": {
              "color": "#C8D4E3"
             },
             "line": {
              "color": "white"
             }
            },
            "type": "table"
           }
          ]
         },
         "layout": {
          "annotationdefaults": {
           "arrowcolor": "#2a3f5f",
           "arrowhead": 0,
           "arrowwidth": 1
          },
          "autotypenumbers": "strict",
          "coloraxis": {
           "colorbar": {
            "outlinewidth": 0,
            "ticks": ""
           }
          },
          "colorscale": {
           "diverging": [
            [
             0,
             "#8e0152"
            ],
            [
             0.1,
             "#c51b7d"
            ],
            [
             0.2,
             "#de77ae"
            ],
            [
             0.3,
             "#f1b6da"
            ],
            [
             0.4,
             "#fde0ef"
            ],
            [
             0.5,
             "#f7f7f7"
            ],
            [
             0.6,
             "#e6f5d0"
            ],
            [
             0.7,
             "#b8e186"
            ],
            [
             0.8,
             "#7fbc41"
            ],
            [
             0.9,
             "#4d9221"
            ],
            [
             1,
             "#276419"
            ]
           ],
           "sequential": [
            [
             0,
             "#0d0887"
            ],
            [
             0.1111111111111111,
             "#46039f"
            ],
            [
             0.2222222222222222,
             "#7201a8"
            ],
            [
             0.3333333333333333,
             "#9c179e"
            ],
            [
             0.4444444444444444,
             "#bd3786"
            ],
            [
             0.5555555555555556,
             "#d8576b"
            ],
            [
             0.6666666666666666,
             "#ed7953"
            ],
            [
             0.7777777777777778,
             "#fb9f3a"
            ],
            [
             0.8888888888888888,
             "#fdca26"
            ],
            [
             1,
             "#f0f921"
            ]
           ],
           "sequentialminus": [
            [
             0,
             "#0d0887"
            ],
            [
             0.1111111111111111,
             "#46039f"
            ],
            [
             0.2222222222222222,
             "#7201a8"
            ],
            [
             0.3333333333333333,
             "#9c179e"
            ],
            [
             0.4444444444444444,
             "#bd3786"
            ],
            [
             0.5555555555555556,
             "#d8576b"
            ],
            [
             0.6666666666666666,
             "#ed7953"
            ],
            [
             0.7777777777777778,
             "#fb9f3a"
            ],
            [
             0.8888888888888888,
             "#fdca26"
            ],
            [
             1,
             "#f0f921"
            ]
           ]
          },
          "colorway": [
           "#636efa",
           "#EF553B",
           "#00cc96",
           "#ab63fa",
           "#FFA15A",
           "#19d3f3",
           "#FF6692",
           "#B6E880",
           "#FF97FF",
           "#FECB52"
          ],
          "font": {
           "color": "#2a3f5f"
          },
          "geo": {
           "bgcolor": "white",
           "lakecolor": "white",
           "landcolor": "#E5ECF6",
           "showlakes": true,
           "showland": true,
           "subunitcolor": "white"
          },
          "hoverlabel": {
           "align": "left"
          },
          "hovermode": "closest",
          "mapbox": {
           "style": "light"
          },
          "paper_bgcolor": "white",
          "plot_bgcolor": "#E5ECF6",
          "polar": {
           "angularaxis": {
            "gridcolor": "white",
            "linecolor": "white",
            "ticks": ""
           },
           "bgcolor": "#E5ECF6",
           "radialaxis": {
            "gridcolor": "white",
            "linecolor": "white",
            "ticks": ""
           }
          },
          "scene": {
           "xaxis": {
            "backgroundcolor": "#E5ECF6",
            "gridcolor": "white",
            "gridwidth": 2,
            "linecolor": "white",
            "showbackground": true,
            "ticks": "",
            "zerolinecolor": "white"
           },
           "yaxis": {
            "backgroundcolor": "#E5ECF6",
            "gridcolor": "white",
            "gridwidth": 2,
            "linecolor": "white",
            "showbackground": true,
            "ticks": "",
            "zerolinecolor": "white"
           },
           "zaxis": {
            "backgroundcolor": "#E5ECF6",
            "gridcolor": "white",
            "gridwidth": 2,
            "linecolor": "white",
            "showbackground": true,
            "ticks": "",
            "zerolinecolor": "white"
           }
          },
          "shapedefaults": {
           "line": {
            "color": "#2a3f5f"
           }
          },
          "ternary": {
           "aaxis": {
            "gridcolor": "white",
            "linecolor": "white",
            "ticks": ""
           },
           "baxis": {
            "gridcolor": "white",
            "linecolor": "white",
            "ticks": ""
           },
           "bgcolor": "#E5ECF6",
           "caxis": {
            "gridcolor": "white",
            "linecolor": "white",
            "ticks": ""
           }
          },
          "title": {
           "x": 0.05
          },
          "xaxis": {
           "automargin": true,
           "gridcolor": "white",
           "linecolor": "white",
           "ticks": "",
           "title": {
            "standoff": 15
           },
           "zerolinecolor": "white",
           "zerolinewidth": 2
          },
          "yaxis": {
           "automargin": true,
           "gridcolor": "white",
           "linecolor": "white",
           "ticks": "",
           "title": {
            "standoff": 15
           },
           "zerolinecolor": "white",
           "zerolinewidth": 2
          }
         }
        },
        "title": {
         "text": "PNR Scores"
        },
        "xaxis": {
         "anchor": "y",
         "domain": [
          0,
          1
         ],
         "title": {
          "text": "pnr"
         }
        },
        "yaxis": {
         "anchor": "x",
         "domain": [
          0,
          1
         ],
         "title": {
          "text": "PNR Score"
         }
        }
       }
      }
     },
     "metadata": {},
     "output_type": "display_data"
    }
   ],
   "source": [
    "# plot for pnr_score distribution of cancelled flights-pnrs\n",
    "mean_score = df[\"pnr_score\"].mean()\n",
    "std_dev_score = df[\"pnr_score\"].std()\n",
    "fig = px.bar(\n",
    "    df, x=\"pnr\", y=\"pnr_score\", title=\"PNR Scores\", labels={\"pnr_score\": \"PNR Score\"}\n",
    ")\n",
    "# Add mean and standard deviation annotations\n",
    "fig.add_shape(\n",
    "    type=\"line\",\n",
    "    x0=-0.5,\n",
    "    x1=len(df) - 0.5,\n",
    "    y0=mean_score,\n",
    "    y1=mean_score,\n",
    "    line=dict(color=\"red\", width=2),\n",
    "    name=\"Mean\",\n",
    ")\n",
    "# Show the chart\n",
    "print(mean_score, std_dev_score)\n",
    "fig.show()"
   ]
  },
  {
   "cell_type": "code",
   "execution_count": 12,
   "metadata": {},
   "outputs": [
    {
     "data": {
      "application/vnd.plotly.v1+json": {
       "config": {
        "plotlyServerURL": "https://plot.ly"
       },
       "data": [
        {
         "domain": {
          "x": [
           0,
           1
          ],
          "y": [
           0,
           1
          ]
         },
         "hovertemplate": "allocated_classes=%{label}<extra></extra>",
         "labels": [
          "['E']",
          "['F']",
          "['P']",
          "['E']",
          "['E']",
          "['P']",
          "['B']",
          "['E']",
          "['P']",
          "['E']",
          "['B']",
          "['B']",
          "['B']",
          "['F']",
          "['P']",
          "['F']",
          "['F']",
          "['P']",
          "['P']",
          "['F']",
          "['B']",
          "['B']",
          "['B']",
          "['B']",
          "['E']",
          "['P']",
          "['B']",
          "['B']",
          "['E']",
          "['E']",
          "['P']",
          "['E']",
          "['E']",
          "['F']",
          "['F']",
          "['P']",
          "['B']",
          "['P']",
          "['P']",
          "['E']",
          "['F']",
          "['P']",
          "['F']",
          "['E']",
          "['P']",
          "['E']",
          "['E']",
          "['B']",
          "['P']",
          "['B']",
          "['F']",
          "['B']",
          "['P']",
          "['B']",
          "['E']",
          "['E']",
          "['E']",
          "['E']",
          "['E']",
          "['E']",
          "['E']",
          "['F', 'F']",
          "['B', 'B']",
          "['B', 'B']",
          "['B', 'B']",
          "['E', 'E']",
          "['E', 'E']",
          "['B', 'B']",
          "['B', 'B']",
          "['F', 'F']",
          "['B', 'B']",
          "['B', 'B']",
          "['E', 'E']",
          "['P', 'P']",
          "['F', 'F']",
          "['P', 'P']",
          "['E', 'E']",
          "['E', 'E']",
          "['B', 'B']",
          "['E', 'E']",
          "['B', 'B']",
          "['E']",
          "['E']",
          "['E']",
          "['E', 'E']",
          "['E', 'E']",
          "['E', 'E']",
          "['E', 'E']",
          "['B', 'B']",
          "['B', 'B']",
          "['F', 'F']",
          "['P', 'P']",
          "['E', 'E']",
          "['P', 'P']",
          "['B', 'B']",
          "['B', 'B']",
          "['E', 'E']",
          "['B', 'B']",
          "['F', 'F']",
          "['P', 'P']",
          "['E', 'E']",
          "['E', 'E']",
          "['B', 'B']",
          "['F', 'F']",
          "['P', 'P']",
          "['F', 'F']",
          "['F', 'F']",
          "['E', 'E']",
          "['E', 'E']",
          "['B', 'B']",
          "['F', 'F']",
          "['B', 'B']",
          "['F', 'F']",
          "['P', 'P']",
          "['E', 'E']",
          "['B', 'B', 'B']",
          "['P', 'P', 'P']",
          "['E', 'E', 'E']",
          "['B', 'B', 'B']",
          "['B', 'B', 'B']",
          "['F', 'F', 'F']",
          "['E', 'E', 'E']",
          "['P', 'P', 'P']",
          "['P', 'P', 'P']",
          "['P', 'P', 'P']",
          "['P', 'P', 'P']",
          "['E', 'E', 'E']",
          "['P', 'P', 'P']",
          "['P', 'P']",
          "['B', 'B']",
          "['P', 'P']",
          "['F', 'F']",
          "['E', 'E']",
          "['B', 'B']",
          "['F', 'F']",
          "['P', 'P']",
          "['P', 'P']",
          "['B', 'B']",
          "['P', 'P']",
          "['B', 'B']",
          "['B', 'B']",
          "['B', 'B']",
          "['P', 'P']",
          "['F', 'F']",
          "['E', 'E']",
          "['E', 'E']",
          "['B', 'B']",
          "['B', 'B']",
          "['E', 'E']",
          "['P', 'P']",
          "['P', 'P']",
          "['E']",
          "['B']",
          "['P']",
          "['E']",
          "['P']",
          "['E']",
          "['B']",
          "['P']",
          "['E']",
          "['E']",
          "['E', 'E']",
          "['B', 'B']",
          "['E', 'E']",
          "['E', 'E']",
          "['B', 'B']",
          "['E', 'E']",
          "['E', 'E']",
          "['B']",
          "['P']",
          "['F']",
          "['B']",
          "['E']",
          "['E']",
          "['E']",
          "['E']",
          "['B']",
          "['P']",
          "['F']",
          "['E']",
          "['B']",
          "['P']",
          "['P']",
          "['B']",
          "['F']",
          "['B']",
          "['F']",
          "['F']",
          "['P']",
          "['P']",
          "['B']",
          "['E']",
          "['B']",
          "['B']",
          "['E']",
          "['P']",
          "['B']",
          "['E']",
          "['B']",
          "['E']",
          "['P']",
          "['E']",
          "['E']",
          "['F']",
          "['E']",
          "['E']",
          "['P']",
          "['E']",
          "['P']",
          "['F']",
          "['E']",
          "['P']",
          "['B']",
          "['B']",
          "['B', 'B']",
          "['E', 'E']",
          "['P', 'P']",
          "['E', 'E']",
          "['F', 'F']",
          "['P', 'P']",
          "['P', 'P']",
          "['P', 'P']",
          "['E', 'E']",
          "['F', 'F']",
          "['B', 'B']",
          "['F', 'F']",
          "['P', 'P']",
          "['B', 'B']",
          "['B', 'B']",
          "['P', 'P']",
          "['B', 'B']",
          "['P', 'P', 'P']",
          "['B', 'B', 'B']",
          "['P', 'P', 'P']",
          "['E', 'E', 'E']",
          "['B', 'B', 'B']",
          "['B', 'B', 'B']",
          "['B', 'B', 'B']",
          "['P', 'P', 'P']",
          "['B', 'B', 'B']",
          "['P', 'P', 'P']",
          "['E', 'E', 'E']",
          "['P', 'P', 'P']",
          "['E', 'E', 'E']",
          "['E', 'E', 'E']",
          "['P', 'P', 'P']",
          "['B', 'B', 'B']",
          "['F', 'F', 'F']",
          "['P', 'P', 'P']",
          "['F', 'F', 'F']",
          "['F', 'F', 'F']",
          "['F', 'F', 'F']",
          "['B', 'B', 'B']",
          "['F', 'F', 'F']",
          "['F', 'F', 'F']",
          "['B', 'B', 'B']",
          "['E', 'E', 'E']",
          "['B', 'B', 'B']",
          "['P', 'P', 'P']",
          "['B', 'B', 'B']",
          "['E', 'E', 'E']",
          "['P', 'P', 'P']",
          "['B', 'B', 'B']",
          "['E', 'E', 'E']",
          "['P', 'P', 'P']",
          "['E', 'E', 'E']",
          "['E']",
          "['P']",
          "['E']",
          "['P']",
          "['E']",
          "['F']",
          "['E']",
          "['B']",
          "['P']",
          "['F']",
          "['B']",
          "['B']",
          "['P']",
          "['E']",
          "['B']",
          "['B']",
          "['P']",
          "['P']",
          "['B']",
          "['P']",
          "['B']",
          "['F']",
          "['B']",
          "['B']",
          "['F']",
          "['B']",
          "['F']",
          "['B']",
          "['F']",
          "['F']",
          "['B']",
          "['B']",
          "['E']",
          "['B']",
          "['E']",
          "['B']",
          "['P']",
          "['B']",
          "['P']",
          "['B']",
          "['E']",
          "['F']",
          "['B']",
          "['E']",
          "['P']",
          "['F']",
          "['P']",
          "['F']",
          "['E']",
          "['B']",
          "['B', 'B']",
          "['P', 'P']",
          "['P', 'P']",
          "['P', 'P']",
          "['F', 'F']",
          "['P', 'P']",
          "['F', 'F']",
          "['B', 'B']",
          "['F', 'F']",
          "['P', 'P']",
          "['F', 'F']",
          "['F', 'F']",
          "['F']",
          "['E']",
          "['E']",
          "['E']",
          "['P']",
          "['P']",
          "['P']",
          "['P']",
          "['P']",
          "['P']",
          "['P']",
          "['P']",
          "['P']",
          "['E']",
          "['B']",
          "['E']",
          "['B']",
          "['E']",
          "['P', 'P']",
          "['P', 'P']",
          "['E', 'E']",
          "['B', 'B']",
          "['B', 'B']",
          "['F', 'F']",
          "['P', 'P']",
          "['E']",
          "['E']",
          "['E', 'E', 'E']",
          "['P', 'P', 'P']",
          "['B', 'B', 'B']",
          "['E', 'E', 'E']",
          "['B', 'B', 'B']",
          "['P', 'P', 'P']",
          "['F', 'F', 'F']",
          "['E', 'E', 'E']",
          "['E', 'E', 'E']",
          "['E', 'E']",
          "['B', 'B']",
          "['B', 'B']",
          "['B', 'B']",
          "['B', 'B']",
          "['E', 'E']",
          "['B']",
          "['E']",
          "['B']",
          "['E']",
          "['B', 'B']",
          "['F', 'F']",
          "['B', 'B']",
          "['E', 'E']",
          "['B', 'B']",
          "['P', 'P']",
          "['B', 'B']",
          "['B', 'B']",
          "['P', 'P']",
          "['B', 'B']",
          "['B', 'B']",
          "['P', 'P']",
          "['E', 'E']",
          "['P', 'P']",
          "['F', 'F']",
          "['B', 'B']",
          "['F', 'F']",
          "['E', 'E']",
          "['E', 'E']",
          "['B', 'B']",
          "['P', 'P']",
          "['P', 'P']",
          "['B', 'B']",
          "['F', 'F']",
          "['P', 'P']",
          "['F', 'F']",
          "['E', 'E']",
          "['B', 'B']",
          "['E', 'E']",
          "['B', 'B']",
          "['F', 'F']",
          "['F', 'F', 'F']",
          "['B', 'B', 'B']",
          "['P', 'P', 'P']",
          "['B', 'B', 'B']",
          "['F', 'F', 'F']",
          "['P', 'P', 'P']",
          "['E', 'E', 'E']",
          "['B', 'B', 'B']",
          "['E', 'E', 'E']",
          "['B', 'B', 'B']",
          "['E', 'E', 'E']",
          "['F', 'F', 'F']",
          "['E', 'E', 'E']",
          "['P', 'P', 'P']",
          "['B', 'B', 'B']",
          "['F', 'F', 'F']",
          "['E', 'E']",
          "['P', 'P']",
          "['E', 'E']",
          "['E', 'E']",
          "['F', 'F']",
          "['B', 'B']",
          "['P', 'P']",
          "['P', 'P']",
          "['P', 'P']",
          "['B', 'B']",
          "['B', 'B']",
          "['F', 'F']",
          "['B', 'B']",
          "['B', 'B']",
          "['E', 'E']",
          "['P', 'P']",
          "['B', 'B']",
          "['P', 'P']",
          "['E', 'E']",
          "['B', 'B']",
          "['B', 'B']",
          "['B', 'B']",
          "['E', 'E']",
          "['P', 'P']",
          "['F', 'F']",
          "['F', 'F']",
          "['P', 'P']",
          "['B', 'B']",
          "['F', 'F']",
          "['B', 'B']",
          "[]",
          "[]",
          "[]",
          "[]",
          "[]",
          "[]",
          "[]",
          "[]",
          "[]",
          "[]",
          "[]",
          "[]",
          "[]",
          "[]",
          "[]",
          "[]",
          "[]",
          "[]",
          "[]",
          "[]",
          "[]",
          "[]",
          "[]",
          "[]",
          "[]",
          "[]",
          "[]",
          "[]",
          "[]",
          "[]",
          "[]",
          "[]",
          "[]",
          "[]",
          "[]",
          "[]",
          "[]",
          "[]",
          "[]",
          "[]",
          "[]",
          "[]",
          "[]"
         ],
         "legendgroup": "",
         "name": "",
         "showlegend": true,
         "type": "pie"
        }
       ],
       "layout": {
        "legend": {
         "tracegroupgap": 0
        },
        "template": {
         "data": {
          "bar": [
           {
            "error_x": {
             "color": "#2a3f5f"
            },
            "error_y": {
             "color": "#2a3f5f"
            },
            "marker": {
             "line": {
              "color": "#E5ECF6",
              "width": 0.5
             },
             "pattern": {
              "fillmode": "overlay",
              "size": 10,
              "solidity": 0.2
             }
            },
            "type": "bar"
           }
          ],
          "barpolar": [
           {
            "marker": {
             "line": {
              "color": "#E5ECF6",
              "width": 0.5
             },
             "pattern": {
              "fillmode": "overlay",
              "size": 10,
              "solidity": 0.2
             }
            },
            "type": "barpolar"
           }
          ],
          "carpet": [
           {
            "aaxis": {
             "endlinecolor": "#2a3f5f",
             "gridcolor": "white",
             "linecolor": "white",
             "minorgridcolor": "white",
             "startlinecolor": "#2a3f5f"
            },
            "baxis": {
             "endlinecolor": "#2a3f5f",
             "gridcolor": "white",
             "linecolor": "white",
             "minorgridcolor": "white",
             "startlinecolor": "#2a3f5f"
            },
            "type": "carpet"
           }
          ],
          "choropleth": [
           {
            "colorbar": {
             "outlinewidth": 0,
             "ticks": ""
            },
            "type": "choropleth"
           }
          ],
          "contour": [
           {
            "colorbar": {
             "outlinewidth": 0,
             "ticks": ""
            },
            "colorscale": [
             [
              0,
              "#0d0887"
             ],
             [
              0.1111111111111111,
              "#46039f"
             ],
             [
              0.2222222222222222,
              "#7201a8"
             ],
             [
              0.3333333333333333,
              "#9c179e"
             ],
             [
              0.4444444444444444,
              "#bd3786"
             ],
             [
              0.5555555555555556,
              "#d8576b"
             ],
             [
              0.6666666666666666,
              "#ed7953"
             ],
             [
              0.7777777777777778,
              "#fb9f3a"
             ],
             [
              0.8888888888888888,
              "#fdca26"
             ],
             [
              1,
              "#f0f921"
             ]
            ],
            "type": "contour"
           }
          ],
          "contourcarpet": [
           {
            "colorbar": {
             "outlinewidth": 0,
             "ticks": ""
            },
            "type": "contourcarpet"
           }
          ],
          "heatmap": [
           {
            "colorbar": {
             "outlinewidth": 0,
             "ticks": ""
            },
            "colorscale": [
             [
              0,
              "#0d0887"
             ],
             [
              0.1111111111111111,
              "#46039f"
             ],
             [
              0.2222222222222222,
              "#7201a8"
             ],
             [
              0.3333333333333333,
              "#9c179e"
             ],
             [
              0.4444444444444444,
              "#bd3786"
             ],
             [
              0.5555555555555556,
              "#d8576b"
             ],
             [
              0.6666666666666666,
              "#ed7953"
             ],
             [
              0.7777777777777778,
              "#fb9f3a"
             ],
             [
              0.8888888888888888,
              "#fdca26"
             ],
             [
              1,
              "#f0f921"
             ]
            ],
            "type": "heatmap"
           }
          ],
          "heatmapgl": [
           {
            "colorbar": {
             "outlinewidth": 0,
             "ticks": ""
            },
            "colorscale": [
             [
              0,
              "#0d0887"
             ],
             [
              0.1111111111111111,
              "#46039f"
             ],
             [
              0.2222222222222222,
              "#7201a8"
             ],
             [
              0.3333333333333333,
              "#9c179e"
             ],
             [
              0.4444444444444444,
              "#bd3786"
             ],
             [
              0.5555555555555556,
              "#d8576b"
             ],
             [
              0.6666666666666666,
              "#ed7953"
             ],
             [
              0.7777777777777778,
              "#fb9f3a"
             ],
             [
              0.8888888888888888,
              "#fdca26"
             ],
             [
              1,
              "#f0f921"
             ]
            ],
            "type": "heatmapgl"
           }
          ],
          "histogram": [
           {
            "marker": {
             "pattern": {
              "fillmode": "overlay",
              "size": 10,
              "solidity": 0.2
             }
            },
            "type": "histogram"
           }
          ],
          "histogram2d": [
           {
            "colorbar": {
             "outlinewidth": 0,
             "ticks": ""
            },
            "colorscale": [
             [
              0,
              "#0d0887"
             ],
             [
              0.1111111111111111,
              "#46039f"
             ],
             [
              0.2222222222222222,
              "#7201a8"
             ],
             [
              0.3333333333333333,
              "#9c179e"
             ],
             [
              0.4444444444444444,
              "#bd3786"
             ],
             [
              0.5555555555555556,
              "#d8576b"
             ],
             [
              0.6666666666666666,
              "#ed7953"
             ],
             [
              0.7777777777777778,
              "#fb9f3a"
             ],
             [
              0.8888888888888888,
              "#fdca26"
             ],
             [
              1,
              "#f0f921"
             ]
            ],
            "type": "histogram2d"
           }
          ],
          "histogram2dcontour": [
           {
            "colorbar": {
             "outlinewidth": 0,
             "ticks": ""
            },
            "colorscale": [
             [
              0,
              "#0d0887"
             ],
             [
              0.1111111111111111,
              "#46039f"
             ],
             [
              0.2222222222222222,
              "#7201a8"
             ],
             [
              0.3333333333333333,
              "#9c179e"
             ],
             [
              0.4444444444444444,
              "#bd3786"
             ],
             [
              0.5555555555555556,
              "#d8576b"
             ],
             [
              0.6666666666666666,
              "#ed7953"
             ],
             [
              0.7777777777777778,
              "#fb9f3a"
             ],
             [
              0.8888888888888888,
              "#fdca26"
             ],
             [
              1,
              "#f0f921"
             ]
            ],
            "type": "histogram2dcontour"
           }
          ],
          "mesh3d": [
           {
            "colorbar": {
             "outlinewidth": 0,
             "ticks": ""
            },
            "type": "mesh3d"
           }
          ],
          "parcoords": [
           {
            "line": {
             "colorbar": {
              "outlinewidth": 0,
              "ticks": ""
             }
            },
            "type": "parcoords"
           }
          ],
          "pie": [
           {
            "automargin": true,
            "type": "pie"
           }
          ],
          "scatter": [
           {
            "fillpattern": {
             "fillmode": "overlay",
             "size": 10,
             "solidity": 0.2
            },
            "type": "scatter"
           }
          ],
          "scatter3d": [
           {
            "line": {
             "colorbar": {
              "outlinewidth": 0,
              "ticks": ""
             }
            },
            "marker": {
             "colorbar": {
              "outlinewidth": 0,
              "ticks": ""
             }
            },
            "type": "scatter3d"
           }
          ],
          "scattercarpet": [
           {
            "marker": {
             "colorbar": {
              "outlinewidth": 0,
              "ticks": ""
             }
            },
            "type": "scattercarpet"
           }
          ],
          "scattergeo": [
           {
            "marker": {
             "colorbar": {
              "outlinewidth": 0,
              "ticks": ""
             }
            },
            "type": "scattergeo"
           }
          ],
          "scattergl": [
           {
            "marker": {
             "colorbar": {
              "outlinewidth": 0,
              "ticks": ""
             }
            },
            "type": "scattergl"
           }
          ],
          "scattermapbox": [
           {
            "marker": {
             "colorbar": {
              "outlinewidth": 0,
              "ticks": ""
             }
            },
            "type": "scattermapbox"
           }
          ],
          "scatterpolar": [
           {
            "marker": {
             "colorbar": {
              "outlinewidth": 0,
              "ticks": ""
             }
            },
            "type": "scatterpolar"
           }
          ],
          "scatterpolargl": [
           {
            "marker": {
             "colorbar": {
              "outlinewidth": 0,
              "ticks": ""
             }
            },
            "type": "scatterpolargl"
           }
          ],
          "scatterternary": [
           {
            "marker": {
             "colorbar": {
              "outlinewidth": 0,
              "ticks": ""
             }
            },
            "type": "scatterternary"
           }
          ],
          "surface": [
           {
            "colorbar": {
             "outlinewidth": 0,
             "ticks": ""
            },
            "colorscale": [
             [
              0,
              "#0d0887"
             ],
             [
              0.1111111111111111,
              "#46039f"
             ],
             [
              0.2222222222222222,
              "#7201a8"
             ],
             [
              0.3333333333333333,
              "#9c179e"
             ],
             [
              0.4444444444444444,
              "#bd3786"
             ],
             [
              0.5555555555555556,
              "#d8576b"
             ],
             [
              0.6666666666666666,
              "#ed7953"
             ],
             [
              0.7777777777777778,
              "#fb9f3a"
             ],
             [
              0.8888888888888888,
              "#fdca26"
             ],
             [
              1,
              "#f0f921"
             ]
            ],
            "type": "surface"
           }
          ],
          "table": [
           {
            "cells": {
             "fill": {
              "color": "#EBF0F8"
             },
             "line": {
              "color": "white"
             }
            },
            "header": {
             "fill": {
              "color": "#C8D4E3"
             },
             "line": {
              "color": "white"
             }
            },
            "type": "table"
           }
          ]
         },
         "layout": {
          "annotationdefaults": {
           "arrowcolor": "#2a3f5f",
           "arrowhead": 0,
           "arrowwidth": 1
          },
          "autotypenumbers": "strict",
          "coloraxis": {
           "colorbar": {
            "outlinewidth": 0,
            "ticks": ""
           }
          },
          "colorscale": {
           "diverging": [
            [
             0,
             "#8e0152"
            ],
            [
             0.1,
             "#c51b7d"
            ],
            [
             0.2,
             "#de77ae"
            ],
            [
             0.3,
             "#f1b6da"
            ],
            [
             0.4,
             "#fde0ef"
            ],
            [
             0.5,
             "#f7f7f7"
            ],
            [
             0.6,
             "#e6f5d0"
            ],
            [
             0.7,
             "#b8e186"
            ],
            [
             0.8,
             "#7fbc41"
            ],
            [
             0.9,
             "#4d9221"
            ],
            [
             1,
             "#276419"
            ]
           ],
           "sequential": [
            [
             0,
             "#0d0887"
            ],
            [
             0.1111111111111111,
             "#46039f"
            ],
            [
             0.2222222222222222,
             "#7201a8"
            ],
            [
             0.3333333333333333,
             "#9c179e"
            ],
            [
             0.4444444444444444,
             "#bd3786"
            ],
            [
             0.5555555555555556,
             "#d8576b"
            ],
            [
             0.6666666666666666,
             "#ed7953"
            ],
            [
             0.7777777777777778,
             "#fb9f3a"
            ],
            [
             0.8888888888888888,
             "#fdca26"
            ],
            [
             1,
             "#f0f921"
            ]
           ],
           "sequentialminus": [
            [
             0,
             "#0d0887"
            ],
            [
             0.1111111111111111,
             "#46039f"
            ],
            [
             0.2222222222222222,
             "#7201a8"
            ],
            [
             0.3333333333333333,
             "#9c179e"
            ],
            [
             0.4444444444444444,
             "#bd3786"
            ],
            [
             0.5555555555555556,
             "#d8576b"
            ],
            [
             0.6666666666666666,
             "#ed7953"
            ],
            [
             0.7777777777777778,
             "#fb9f3a"
            ],
            [
             0.8888888888888888,
             "#fdca26"
            ],
            [
             1,
             "#f0f921"
            ]
           ]
          },
          "colorway": [
           "#636efa",
           "#EF553B",
           "#00cc96",
           "#ab63fa",
           "#FFA15A",
           "#19d3f3",
           "#FF6692",
           "#B6E880",
           "#FF97FF",
           "#FECB52"
          ],
          "font": {
           "color": "#2a3f5f"
          },
          "geo": {
           "bgcolor": "white",
           "lakecolor": "white",
           "landcolor": "#E5ECF6",
           "showlakes": true,
           "showland": true,
           "subunitcolor": "white"
          },
          "hoverlabel": {
           "align": "left"
          },
          "hovermode": "closest",
          "mapbox": {
           "style": "light"
          },
          "paper_bgcolor": "white",
          "plot_bgcolor": "#E5ECF6",
          "polar": {
           "angularaxis": {
            "gridcolor": "white",
            "linecolor": "white",
            "ticks": ""
           },
           "bgcolor": "#E5ECF6",
           "radialaxis": {
            "gridcolor": "white",
            "linecolor": "white",
            "ticks": ""
           }
          },
          "scene": {
           "xaxis": {
            "backgroundcolor": "#E5ECF6",
            "gridcolor": "white",
            "gridwidth": 2,
            "linecolor": "white",
            "showbackground": true,
            "ticks": "",
            "zerolinecolor": "white"
           },
           "yaxis": {
            "backgroundcolor": "#E5ECF6",
            "gridcolor": "white",
            "gridwidth": 2,
            "linecolor": "white",
            "showbackground": true,
            "ticks": "",
            "zerolinecolor": "white"
           },
           "zaxis": {
            "backgroundcolor": "#E5ECF6",
            "gridcolor": "white",
            "gridwidth": 2,
            "linecolor": "white",
            "showbackground": true,
            "ticks": "",
            "zerolinecolor": "white"
           }
          },
          "shapedefaults": {
           "line": {
            "color": "#2a3f5f"
           }
          },
          "ternary": {
           "aaxis": {
            "gridcolor": "white",
            "linecolor": "white",
            "ticks": ""
           },
           "baxis": {
            "gridcolor": "white",
            "linecolor": "white",
            "ticks": ""
           },
           "bgcolor": "#E5ECF6",
           "caxis": {
            "gridcolor": "white",
            "linecolor": "white",
            "ticks": ""
           }
          },
          "title": {
           "x": 0.05
          },
          "xaxis": {
           "automargin": true,
           "gridcolor": "white",
           "linecolor": "white",
           "ticks": "",
           "title": {
            "standoff": 15
           },
           "zerolinecolor": "white",
           "zerolinewidth": 2
          },
          "yaxis": {
           "automargin": true,
           "gridcolor": "white",
           "linecolor": "white",
           "ticks": "",
           "title": {
            "standoff": 15
           },
           "zerolinecolor": "white",
           "zerolinewidth": 2
          }
         }
        },
        "title": {
         "text": "Class Distribution for All PNRS"
        }
       }
      }
     },
     "metadata": {},
     "output_type": "display_data"
    },
    {
     "data": {
      "application/vnd.plotly.v1+json": {
       "config": {
        "plotlyServerURL": "https://plot.ly"
       },
       "data": [
        {
         "domain": {
          "x": [
           0,
           1
          ],
          "y": [
           0,
           1
          ]
         },
         "hovertemplate": "canclled_class=%{label}<extra></extra>",
         "labels": [
          "[E]",
          "[F]",
          "[R]",
          "[E]",
          "[E]",
          "[R]",
          "[C]",
          "[E]",
          "[R]",
          "[E]",
          "[C]",
          "[C]",
          "[C]",
          "[F]",
          "[R]",
          "[F]",
          "[F]",
          "[R]",
          "[R]",
          "[F]",
          "[C]",
          "[C]",
          "[C]",
          "[C]",
          "[E]",
          "[R]",
          "[C]",
          "[C]",
          "[E]",
          "[E]",
          "[R]",
          "[E]",
          "[E]",
          "[F]",
          "[F]",
          "[R]",
          "[C]",
          "[R]",
          "[R]",
          "[E]",
          "[F]",
          "[R]",
          "[F]",
          "[E]",
          "[R]",
          "[E]",
          "[E]",
          "[C]",
          "[R]",
          "[C]",
          "[F]",
          "[C]",
          "[R]",
          "[C]",
          "[E]",
          "[E]",
          "[E]",
          "[E]",
          "[E]",
          "[E]",
          "[E]",
          "[F]",
          "[C]",
          "[C]",
          "[C]",
          "[E]",
          "[E]",
          "[C]",
          "[C]",
          "[F]",
          "[C]",
          "[C]",
          "[E]",
          "[R]",
          "[F]",
          "[R]",
          "[E]",
          "[E]",
          "[C]",
          "[E]",
          "[C]",
          "[E]",
          "[E]",
          "[E]",
          "[E]",
          "[E]",
          "[E]",
          "[E]",
          "[C]",
          "[C]",
          "[F]",
          "[R]",
          "[E]",
          "[R]",
          "[C]",
          "[C]",
          "[E]",
          "[C]",
          "[F]",
          "[R]",
          "[E]",
          "[E]",
          "[C]",
          "[F]",
          "[R]",
          "[F]",
          "[F]",
          "[E]",
          "[E]",
          "[C]",
          "[F]",
          "[C]",
          "[F]",
          "[R]",
          "[E]",
          "[C]",
          "[R]",
          "[E]",
          "[C]",
          "[C]",
          "[F]",
          "[E]",
          "[R]",
          "[R]",
          "[R]",
          "[R]",
          "[E]",
          "[R]",
          "[R]",
          "[C]",
          "[R]",
          "[F]",
          "[E]",
          "[C]",
          "[F]",
          "[R]",
          "[R]",
          "[C]",
          "[R]",
          "[C]",
          "[C]",
          "[C]",
          "[R]",
          "[F]",
          "[E]",
          "[E]",
          "[C]",
          "[C]",
          "[E]",
          "[R]",
          "[R]",
          "[E]",
          "[C]",
          "[R]",
          "[E]",
          "[R]",
          "[E]",
          "[C]",
          "[R]",
          "[E]",
          "[E]",
          "[E]",
          "[C]",
          "[E]",
          "[E]",
          "[C]",
          "[E]",
          "[E]",
          "[C]",
          "[R]",
          "[F]",
          "[C]",
          "[E]",
          "[E]",
          "[E]",
          "[E]",
          "[C]",
          "[R]",
          "[F]",
          "[E]",
          "[C]",
          "[R]",
          "[R]",
          "[C]",
          "[F]",
          "[C]",
          "[F]",
          "[F]",
          "[R]",
          "[R]",
          "[C]",
          "[E]",
          "[C]",
          "[C]",
          "[E]",
          "[R]",
          "[C]",
          "[E]",
          "[C]",
          "[E]",
          "[R]",
          "[E]",
          "[E]",
          "[F]",
          "[E]",
          "[E]",
          "[R]",
          "[E]",
          "[R]",
          "[F]",
          "[E]",
          "[R]",
          "[C]",
          "[C]",
          "[C]",
          "[E]",
          "[R]",
          "[E]",
          "[F]",
          "[R]",
          "[R]",
          "[R]",
          "[E]",
          "[F]",
          "[C]",
          "[F]",
          "[R]",
          "[C]",
          "[C]",
          "[R]",
          "[C]",
          "[R]",
          "[C]",
          "[R]",
          "[E]",
          "[C]",
          "[C]",
          "[C]",
          "[R]",
          "[C]",
          "[R]",
          "[E]",
          "[R]",
          "[E]",
          "[E]",
          "[R]",
          "[C]",
          "[F]",
          "[R]",
          "[F]",
          "[F]",
          "[F]",
          "[C]",
          "[F]",
          "[F]",
          "[C]",
          "[E]",
          "[C]",
          "[R]",
          "[C]",
          "[E]",
          "[R]",
          "[C]",
          "[E]",
          "[R]",
          "[E]",
          "[E]",
          "[R]",
          "[E]",
          "[R]",
          "[E]",
          "[F]",
          "[E]",
          "[C]",
          "[R]",
          "[F]",
          "[C]",
          "[C]",
          "[R]",
          "[E]",
          "[C]",
          "[C]",
          "[R]",
          "[R]",
          "[C]",
          "[R]",
          "[C]",
          "[F]",
          "[C]",
          "[C]",
          "[F]",
          "[C]",
          "[F]",
          "[C]",
          "[F]",
          "[F]",
          "[C]",
          "[C]",
          "[E]",
          "[C]",
          "[E]",
          "[C]",
          "[R]",
          "[C]",
          "[R]",
          "[C]",
          "[E]",
          "[F]",
          "[C]",
          "[E]",
          "[R]",
          "[F]",
          "[R]",
          "[F]",
          "[E]",
          "[C]",
          "[C]",
          "[R]",
          "[R]",
          "[R]",
          "[F]",
          "[R]",
          "[F]",
          "[C]",
          "[F]",
          "[R]",
          "[F]",
          "[F]",
          "[F]",
          "[E]",
          "[E]",
          "[E]",
          "[R]",
          "[R]",
          "[R]",
          "[R]",
          "[R]",
          "[R]",
          "[R]",
          "[R]",
          "[R]",
          "[E]",
          "[C]",
          "[E]",
          "[C]",
          "[E]",
          "[R]",
          "[R]",
          "[E]",
          "[C]",
          "[C]",
          "[F]",
          "[R]",
          "[E]",
          "[E]",
          "[E]",
          "[R]",
          "[C]",
          "[E]",
          "[C]",
          "[R]",
          "[F]",
          "[E]",
          "[E]",
          "[E]",
          "[C]",
          "[C]",
          "[C]",
          "[C]",
          "[E]",
          "[C]",
          "[E]",
          "[C]",
          "[E]",
          "[C]",
          "[F]",
          "[C]",
          "[E]",
          "[C]",
          "[R]",
          "[C]",
          "[C]",
          "[R]",
          "[C]",
          "[C]",
          "[R]",
          "[E]",
          "[R]",
          "[F]",
          "[C]",
          "[F]",
          "[E]",
          "[E]",
          "[C]",
          "[R]",
          "[R]",
          "[C]",
          "[F]",
          "[R]",
          "[F]",
          "[E]",
          "[C]",
          "[E]",
          "[C]",
          "[F]",
          "[F]",
          "[C]",
          "[R]",
          "[C]",
          "[F]",
          "[R]",
          "[E]",
          "[C]",
          "[E]",
          "[C]",
          "[E]",
          "[F]",
          "[E]",
          "[R]",
          "[C]",
          "[F]",
          "[E]",
          "[R]",
          "[E]",
          "[E]",
          "[F]",
          "[C]",
          "[R]",
          "[R]",
          "[R]",
          "[C]",
          "[C]",
          "[F]",
          "[C]",
          "[C]",
          "[E]",
          "[R]",
          "[C]",
          "[R]",
          "[E]",
          "[C]",
          "[C]",
          "[C]",
          "[E]",
          "[R]",
          "[F]",
          "[F]",
          "[R]",
          "[C]",
          "[F]",
          "[C]",
          "[F]",
          "[C]",
          "[F]",
          "[F]",
          "[E]",
          "[E]",
          "[C]",
          "[E]",
          "[F]",
          "[R]",
          "[R]",
          "[E]",
          "[E]",
          "[F]",
          "[R]",
          "[R]",
          "[R]",
          "[E]",
          "[E]",
          "[C]",
          "[E]",
          "[R]",
          "[E]",
          "[C]",
          "[R]",
          "[E]",
          "[R]",
          "[F]",
          "[R]",
          "[E]",
          "[R]",
          "[C]",
          "[C]",
          "[F]",
          "[C]",
          "[E]",
          "[E]",
          "[C]",
          "[C]",
          "[C]",
          "[R]",
          "[C]",
          "[E]"
         ],
         "legendgroup": "",
         "name": "",
         "showlegend": true,
         "type": "pie"
        }
       ],
       "layout": {
        "legend": {
         "tracegroupgap": 0
        },
        "template": {
         "data": {
          "bar": [
           {
            "error_x": {
             "color": "#2a3f5f"
            },
            "error_y": {
             "color": "#2a3f5f"
            },
            "marker": {
             "line": {
              "color": "#E5ECF6",
              "width": 0.5
             },
             "pattern": {
              "fillmode": "overlay",
              "size": 10,
              "solidity": 0.2
             }
            },
            "type": "bar"
           }
          ],
          "barpolar": [
           {
            "marker": {
             "line": {
              "color": "#E5ECF6",
              "width": 0.5
             },
             "pattern": {
              "fillmode": "overlay",
              "size": 10,
              "solidity": 0.2
             }
            },
            "type": "barpolar"
           }
          ],
          "carpet": [
           {
            "aaxis": {
             "endlinecolor": "#2a3f5f",
             "gridcolor": "white",
             "linecolor": "white",
             "minorgridcolor": "white",
             "startlinecolor": "#2a3f5f"
            },
            "baxis": {
             "endlinecolor": "#2a3f5f",
             "gridcolor": "white",
             "linecolor": "white",
             "minorgridcolor": "white",
             "startlinecolor": "#2a3f5f"
            },
            "type": "carpet"
           }
          ],
          "choropleth": [
           {
            "colorbar": {
             "outlinewidth": 0,
             "ticks": ""
            },
            "type": "choropleth"
           }
          ],
          "contour": [
           {
            "colorbar": {
             "outlinewidth": 0,
             "ticks": ""
            },
            "colorscale": [
             [
              0,
              "#0d0887"
             ],
             [
              0.1111111111111111,
              "#46039f"
             ],
             [
              0.2222222222222222,
              "#7201a8"
             ],
             [
              0.3333333333333333,
              "#9c179e"
             ],
             [
              0.4444444444444444,
              "#bd3786"
             ],
             [
              0.5555555555555556,
              "#d8576b"
             ],
             [
              0.6666666666666666,
              "#ed7953"
             ],
             [
              0.7777777777777778,
              "#fb9f3a"
             ],
             [
              0.8888888888888888,
              "#fdca26"
             ],
             [
              1,
              "#f0f921"
             ]
            ],
            "type": "contour"
           }
          ],
          "contourcarpet": [
           {
            "colorbar": {
             "outlinewidth": 0,
             "ticks": ""
            },
            "type": "contourcarpet"
           }
          ],
          "heatmap": [
           {
            "colorbar": {
             "outlinewidth": 0,
             "ticks": ""
            },
            "colorscale": [
             [
              0,
              "#0d0887"
             ],
             [
              0.1111111111111111,
              "#46039f"
             ],
             [
              0.2222222222222222,
              "#7201a8"
             ],
             [
              0.3333333333333333,
              "#9c179e"
             ],
             [
              0.4444444444444444,
              "#bd3786"
             ],
             [
              0.5555555555555556,
              "#d8576b"
             ],
             [
              0.6666666666666666,
              "#ed7953"
             ],
             [
              0.7777777777777778,
              "#fb9f3a"
             ],
             [
              0.8888888888888888,
              "#fdca26"
             ],
             [
              1,
              "#f0f921"
             ]
            ],
            "type": "heatmap"
           }
          ],
          "heatmapgl": [
           {
            "colorbar": {
             "outlinewidth": 0,
             "ticks": ""
            },
            "colorscale": [
             [
              0,
              "#0d0887"
             ],
             [
              0.1111111111111111,
              "#46039f"
             ],
             [
              0.2222222222222222,
              "#7201a8"
             ],
             [
              0.3333333333333333,
              "#9c179e"
             ],
             [
              0.4444444444444444,
              "#bd3786"
             ],
             [
              0.5555555555555556,
              "#d8576b"
             ],
             [
              0.6666666666666666,
              "#ed7953"
             ],
             [
              0.7777777777777778,
              "#fb9f3a"
             ],
             [
              0.8888888888888888,
              "#fdca26"
             ],
             [
              1,
              "#f0f921"
             ]
            ],
            "type": "heatmapgl"
           }
          ],
          "histogram": [
           {
            "marker": {
             "pattern": {
              "fillmode": "overlay",
              "size": 10,
              "solidity": 0.2
             }
            },
            "type": "histogram"
           }
          ],
          "histogram2d": [
           {
            "colorbar": {
             "outlinewidth": 0,
             "ticks": ""
            },
            "colorscale": [
             [
              0,
              "#0d0887"
             ],
             [
              0.1111111111111111,
              "#46039f"
             ],
             [
              0.2222222222222222,
              "#7201a8"
             ],
             [
              0.3333333333333333,
              "#9c179e"
             ],
             [
              0.4444444444444444,
              "#bd3786"
             ],
             [
              0.5555555555555556,
              "#d8576b"
             ],
             [
              0.6666666666666666,
              "#ed7953"
             ],
             [
              0.7777777777777778,
              "#fb9f3a"
             ],
             [
              0.8888888888888888,
              "#fdca26"
             ],
             [
              1,
              "#f0f921"
             ]
            ],
            "type": "histogram2d"
           }
          ],
          "histogram2dcontour": [
           {
            "colorbar": {
             "outlinewidth": 0,
             "ticks": ""
            },
            "colorscale": [
             [
              0,
              "#0d0887"
             ],
             [
              0.1111111111111111,
              "#46039f"
             ],
             [
              0.2222222222222222,
              "#7201a8"
             ],
             [
              0.3333333333333333,
              "#9c179e"
             ],
             [
              0.4444444444444444,
              "#bd3786"
             ],
             [
              0.5555555555555556,
              "#d8576b"
             ],
             [
              0.6666666666666666,
              "#ed7953"
             ],
             [
              0.7777777777777778,
              "#fb9f3a"
             ],
             [
              0.8888888888888888,
              "#fdca26"
             ],
             [
              1,
              "#f0f921"
             ]
            ],
            "type": "histogram2dcontour"
           }
          ],
          "mesh3d": [
           {
            "colorbar": {
             "outlinewidth": 0,
             "ticks": ""
            },
            "type": "mesh3d"
           }
          ],
          "parcoords": [
           {
            "line": {
             "colorbar": {
              "outlinewidth": 0,
              "ticks": ""
             }
            },
            "type": "parcoords"
           }
          ],
          "pie": [
           {
            "automargin": true,
            "type": "pie"
           }
          ],
          "scatter": [
           {
            "fillpattern": {
             "fillmode": "overlay",
             "size": 10,
             "solidity": 0.2
            },
            "type": "scatter"
           }
          ],
          "scatter3d": [
           {
            "line": {
             "colorbar": {
              "outlinewidth": 0,
              "ticks": ""
             }
            },
            "marker": {
             "colorbar": {
              "outlinewidth": 0,
              "ticks": ""
             }
            },
            "type": "scatter3d"
           }
          ],
          "scattercarpet": [
           {
            "marker": {
             "colorbar": {
              "outlinewidth": 0,
              "ticks": ""
             }
            },
            "type": "scattercarpet"
           }
          ],
          "scattergeo": [
           {
            "marker": {
             "colorbar": {
              "outlinewidth": 0,
              "ticks": ""
             }
            },
            "type": "scattergeo"
           }
          ],
          "scattergl": [
           {
            "marker": {
             "colorbar": {
              "outlinewidth": 0,
              "ticks": ""
             }
            },
            "type": "scattergl"
           }
          ],
          "scattermapbox": [
           {
            "marker": {
             "colorbar": {
              "outlinewidth": 0,
              "ticks": ""
             }
            },
            "type": "scattermapbox"
           }
          ],
          "scatterpolar": [
           {
            "marker": {
             "colorbar": {
              "outlinewidth": 0,
              "ticks": ""
             }
            },
            "type": "scatterpolar"
           }
          ],
          "scatterpolargl": [
           {
            "marker": {
             "colorbar": {
              "outlinewidth": 0,
              "ticks": ""
             }
            },
            "type": "scatterpolargl"
           }
          ],
          "scatterternary": [
           {
            "marker": {
             "colorbar": {
              "outlinewidth": 0,
              "ticks": ""
             }
            },
            "type": "scatterternary"
           }
          ],
          "surface": [
           {
            "colorbar": {
             "outlinewidth": 0,
             "ticks": ""
            },
            "colorscale": [
             [
              0,
              "#0d0887"
             ],
             [
              0.1111111111111111,
              "#46039f"
             ],
             [
              0.2222222222222222,
              "#7201a8"
             ],
             [
              0.3333333333333333,
              "#9c179e"
             ],
             [
              0.4444444444444444,
              "#bd3786"
             ],
             [
              0.5555555555555556,
              "#d8576b"
             ],
             [
              0.6666666666666666,
              "#ed7953"
             ],
             [
              0.7777777777777778,
              "#fb9f3a"
             ],
             [
              0.8888888888888888,
              "#fdca26"
             ],
             [
              1,
              "#f0f921"
             ]
            ],
            "type": "surface"
           }
          ],
          "table": [
           {
            "cells": {
             "fill": {
              "color": "#EBF0F8"
             },
             "line": {
              "color": "white"
             }
            },
            "header": {
             "fill": {
              "color": "#C8D4E3"
             },
             "line": {
              "color": "white"
             }
            },
            "type": "table"
           }
          ]
         },
         "layout": {
          "annotationdefaults": {
           "arrowcolor": "#2a3f5f",
           "arrowhead": 0,
           "arrowwidth": 1
          },
          "autotypenumbers": "strict",
          "coloraxis": {
           "colorbar": {
            "outlinewidth": 0,
            "ticks": ""
           }
          },
          "colorscale": {
           "diverging": [
            [
             0,
             "#8e0152"
            ],
            [
             0.1,
             "#c51b7d"
            ],
            [
             0.2,
             "#de77ae"
            ],
            [
             0.3,
             "#f1b6da"
            ],
            [
             0.4,
             "#fde0ef"
            ],
            [
             0.5,
             "#f7f7f7"
            ],
            [
             0.6,
             "#e6f5d0"
            ],
            [
             0.7,
             "#b8e186"
            ],
            [
             0.8,
             "#7fbc41"
            ],
            [
             0.9,
             "#4d9221"
            ],
            [
             1,
             "#276419"
            ]
           ],
           "sequential": [
            [
             0,
             "#0d0887"
            ],
            [
             0.1111111111111111,
             "#46039f"
            ],
            [
             0.2222222222222222,
             "#7201a8"
            ],
            [
             0.3333333333333333,
             "#9c179e"
            ],
            [
             0.4444444444444444,
             "#bd3786"
            ],
            [
             0.5555555555555556,
             "#d8576b"
            ],
            [
             0.6666666666666666,
             "#ed7953"
            ],
            [
             0.7777777777777778,
             "#fb9f3a"
            ],
            [
             0.8888888888888888,
             "#fdca26"
            ],
            [
             1,
             "#f0f921"
            ]
           ],
           "sequentialminus": [
            [
             0,
             "#0d0887"
            ],
            [
             0.1111111111111111,
             "#46039f"
            ],
            [
             0.2222222222222222,
             "#7201a8"
            ],
            [
             0.3333333333333333,
             "#9c179e"
            ],
            [
             0.4444444444444444,
             "#bd3786"
            ],
            [
             0.5555555555555556,
             "#d8576b"
            ],
            [
             0.6666666666666666,
             "#ed7953"
            ],
            [
             0.7777777777777778,
             "#fb9f3a"
            ],
            [
             0.8888888888888888,
             "#fdca26"
            ],
            [
             1,
             "#f0f921"
            ]
           ]
          },
          "colorway": [
           "#636efa",
           "#EF553B",
           "#00cc96",
           "#ab63fa",
           "#FFA15A",
           "#19d3f3",
           "#FF6692",
           "#B6E880",
           "#FF97FF",
           "#FECB52"
          ],
          "font": {
           "color": "#2a3f5f"
          },
          "geo": {
           "bgcolor": "white",
           "lakecolor": "white",
           "landcolor": "#E5ECF6",
           "showlakes": true,
           "showland": true,
           "subunitcolor": "white"
          },
          "hoverlabel": {
           "align": "left"
          },
          "hovermode": "closest",
          "mapbox": {
           "style": "light"
          },
          "paper_bgcolor": "white",
          "plot_bgcolor": "#E5ECF6",
          "polar": {
           "angularaxis": {
            "gridcolor": "white",
            "linecolor": "white",
            "ticks": ""
           },
           "bgcolor": "#E5ECF6",
           "radialaxis": {
            "gridcolor": "white",
            "linecolor": "white",
            "ticks": ""
           }
          },
          "scene": {
           "xaxis": {
            "backgroundcolor": "#E5ECF6",
            "gridcolor": "white",
            "gridwidth": 2,
            "linecolor": "white",
            "showbackground": true,
            "ticks": "",
            "zerolinecolor": "white"
           },
           "yaxis": {
            "backgroundcolor": "#E5ECF6",
            "gridcolor": "white",
            "gridwidth": 2,
            "linecolor": "white",
            "showbackground": true,
            "ticks": "",
            "zerolinecolor": "white"
           },
           "zaxis": {
            "backgroundcolor": "#E5ECF6",
            "gridcolor": "white",
            "gridwidth": 2,
            "linecolor": "white",
            "showbackground": true,
            "ticks": "",
            "zerolinecolor": "white"
           }
          },
          "shapedefaults": {
           "line": {
            "color": "#2a3f5f"
           }
          },
          "ternary": {
           "aaxis": {
            "gridcolor": "white",
            "linecolor": "white",
            "ticks": ""
           },
           "baxis": {
            "gridcolor": "white",
            "linecolor": "white",
            "ticks": ""
           },
           "bgcolor": "#E5ECF6",
           "caxis": {
            "gridcolor": "white",
            "linecolor": "white",
            "ticks": ""
           }
          },
          "title": {
           "x": 0.05
          },
          "xaxis": {
           "automargin": true,
           "gridcolor": "white",
           "linecolor": "white",
           "ticks": "",
           "title": {
            "standoff": 15
           },
           "zerolinecolor": "white",
           "zerolinewidth": 2
          },
          "yaxis": {
           "automargin": true,
           "gridcolor": "white",
           "linecolor": "white",
           "ticks": "",
           "title": {
            "standoff": 15
           },
           "zerolinecolor": "white",
           "zerolinewidth": 2
          }
         }
        },
        "title": {
         "text": "Class Distribution for Cancelled PNRS"
        }
       }
      }
     },
     "metadata": {},
     "output_type": "display_data"
    }
   ],
   "source": [
    "# plot for class distribution for cancelled flights\n",
    "fig = px.pie(df, names='allocated_classes', title='Class Distribution for All PNRS')\n",
    "\n",
    "# plot for class distribution for cancelled flights\n",
    "fig2 = px.pie(df, names='canclled_class', title='Class Distribution for Cancelled PNRS')\n",
    "fig.show()\n",
    "fig2.show()\n",
    "\n"
   ]
  },
  {
   "cell_type": "code",
   "execution_count": 13,
   "metadata": {},
   "outputs": [
    {
     "name": "stdout",
     "output_type": "stream",
     "text": [
      "Mean Delay: 27.613747228381374 hours, std_dev: 21.943406489684325\n"
     ]
    },
    {
     "data": {
      "application/vnd.plotly.v1+json": {
       "config": {
        "plotlyServerURL": "https://plot.ly"
       },
       "data": [
        {
         "alignmentgroup": "True",
         "hovertemplate": "pnr=%{x}<br>allocated_flights_score=%{y}<extra></extra>",
         "legendgroup": "",
         "marker": {
          "color": "blue",
          "pattern": {
           "shape": ""
          }
         },
         "name": "",
         "offsetgroup": "",
         "orientation": "v",
         "showlegend": false,
         "textposition": "auto",
         "type": "bar",
         "x": [
          "WJMV67",
          "UNSF23",
          "TGXX73",
          "OGNC74",
          "ZOGF53",
          "GWNV19",
          "JGQQ52",
          "TGTE84",
          "UNYK86",
          "HAJT64",
          "ONGL32",
          "AGLB29",
          "VTNP31",
          "XSCX58",
          "NQIR91",
          "YDIV49",
          "NDWM53",
          "VRKF96",
          "YVFV40",
          "QKBU91",
          "GXUC18",
          "PFHK83",
          "HAMF65",
          "RCJP27",
          "GUKB59",
          "OYXB82",
          "JZDS61",
          "IKFF97",
          "HJMG32",
          "FBHC43",
          "TZVR85",
          "ODUR60",
          "LEJE37",
          "TIOK51",
          "EJQJ68",
          "SGDT71",
          "PPAX23",
          "ARWF60",
          "SXKC58",
          "VFLG14",
          "BENO63",
          "DUTC29",
          "LJSQ23",
          "NXVJ18",
          "VVPN34",
          "UMFN26",
          "HUSS80",
          "JAFL69",
          "HTXZ52",
          "EBBQ47",
          "XJSK78",
          "MBOQ39",
          "VFSF33",
          "ECJI31",
          "GPNU96",
          "LLDJ77",
          "CKXS65",
          "VDFF44",
          "UBHZ78",
          "TJEQ90",
          "MXUV18",
          "GXSK66",
          "OIMB80",
          "SCJT65",
          "QJLV48",
          "UKUK40",
          "ANCE37",
          "BPIA17",
          "DIKX30",
          "UWSX94",
          "FETM37",
          "MSZX21",
          "ETZY91",
          "CDWU92",
          "FMEB47",
          "GCZN99",
          "ORDB55",
          "FHGJ87",
          "RMIB10",
          "KLNK89",
          "OPTF44",
          "MEAE27",
          "FOEH31",
          "TBBM88",
          "DULQ82",
          "UCQU27",
          "NFUH97",
          "CFTY17",
          "ZYXC32",
          "LQRR20",
          "XXUJ80",
          "SETU42",
          "TBVA58",
          "GQCC71",
          "UANL74",
          "RYRI54",
          "KLPS61",
          "BLQF17",
          "YDLG96",
          "NOBW66",
          "LGSG11",
          "NNFX90",
          "MEFS34",
          "BWBC11",
          "EJGI27",
          "XKDR47",
          "VNMI75",
          "ONAJ71",
          "VGCG50",
          "CFKT22",
          "MGUS94",
          "ZXNE22",
          "WFSI48",
          "OBWW74",
          "BWLY10",
          "ZZJJ93",
          "HPCB35",
          "HWON19",
          "KQZY95",
          "JRHR53",
          "FSIF74",
          "YNPW68",
          "SAZH59",
          "HIDK34",
          "POAQ69",
          "AEKU34",
          "AXAX32",
          "BTUY63",
          "GKJN81",
          "WGUO57",
          "GZJH95",
          "TOGD18",
          "YPQV77",
          "PQKA70",
          "ZRGW22",
          "UXDE15",
          "GHFD72",
          "GCMG66",
          "BXPK37",
          "HXSA63",
          "HHXB42",
          "HBSS30",
          "HLWC88",
          "OOQU17",
          "JIZC52",
          "KCDU66",
          "BTPM40",
          "VWMU23",
          "LZNB89",
          "RSWB62",
          "NEVB63",
          "LLCM69",
          "OIEV75",
          "PBYB37",
          "STRO84",
          "NBTI23",
          "NUEC95",
          "JVZL51",
          "SUBP18",
          "IXJC94",
          "ENHP81",
          "CLLT73",
          "WETD68",
          "CNNN69",
          "CZIL98",
          "DDSN90",
          "TEKX84",
          "TVJT23",
          "XTGX73",
          "BSOA62",
          "UJQR86",
          "LDQA24",
          "CDCV79",
          "ITOY34",
          "DSFR43",
          "OIVX64",
          "BBOZ29",
          "BZSF12",
          "ARKD19",
          "BGZE20",
          "CKTX37",
          "WNYS90",
          "KAVF60",
          "RRGS45",
          "QLHD46",
          "KCJS73",
          "JVHJ26",
          "ZDKC36",
          "QUVY84",
          "CKOO43",
          "LHQF76",
          "IXYT77",
          "OJNO70",
          "UZKL22",
          "NAPT42",
          "WFMJ55",
          "CAJQ90",
          "ASEF54",
          "XDQQ87",
          "ZELQ21",
          "AXIQ57",
          "DPIN74",
          "SJTN28",
          "SBHC33",
          "DTSX26",
          "RHRA39",
          "CMXE97",
          "PAWH48",
          "VXSU87",
          "NATL70",
          "LQMR87",
          "ONGM57",
          "GYNV48",
          "JCJN49",
          "WWGP94",
          "FXHE50",
          "QMKZ57",
          "PDKO77",
          "QBVN74",
          "YFYA31",
          "VICJ80",
          "EEXO48",
          "ABJY21",
          "BMSX65",
          "ZXAG92",
          "CNPO73",
          "SKXE42",
          "NAIB34",
          "MHRH19",
          "LKOW23",
          "NVIM24",
          "HVJB92",
          "SNYI92",
          "CQIK83",
          "FKRF40",
          "FYFP65",
          "KAZA18",
          "GQHO73",
          "DXIE73",
          "ORIX85",
          "RPGC12",
          "DQCF43",
          "PQOV16",
          "KLYP49",
          "COIB65",
          "STMT31",
          "RWBR52",
          "TOIY80",
          "DUKC21",
          "TZOM47",
          "TGJW16",
          "AQNL47",
          "HEPT26",
          "QFOR80",
          "APYV63",
          "CONH42",
          "ODZN95",
          "JCQJ32",
          "UCJT38",
          "AHZG32",
          "JLNP60",
          "ARVH27",
          "TZTL99",
          "ZASK74",
          "AUOO52",
          "MVFO51",
          "WHQC27",
          "NITW35",
          "WUME37",
          "ESWL74",
          "ESKU68",
          "KLBU17",
          "ZGYQ56",
          "BFCN84",
          "LZTJ27",
          "XMCD50",
          "BCOG34",
          "FIZY56",
          "OENH79",
          "AIVN76",
          "VUKP31",
          "PPTC43",
          "YXOI63",
          "KENT99",
          "ADBU76",
          "CSVC82",
          "GVTP10",
          "UNSN60",
          "VRMJ38",
          "HEKU82",
          "ZWEK49",
          "VWYV75",
          "RFML44",
          "RMBZ73",
          "HVFK10",
          "STKH22",
          "BSXO45",
          "CYGT37",
          "CCDD14",
          "EFUM72",
          "OEOB78",
          "ULNA40",
          "HQFT40",
          "GCBX54",
          "IZWI35",
          "NNEP91",
          "LGSP81",
          "MTIH10",
          "JSTA99",
          "PTNO98",
          "CYSU36",
          "QWFD56",
          "YPGF74",
          "DLAU55",
          "BPUD35",
          "SJOG81",
          "GRYJ10",
          "UIPM64",
          "XIEJ75",
          "JCCL86",
          "NJRI89",
          "SYQS89",
          "WCTN75",
          "JBPE61",
          "DBXT38",
          "NCBF52",
          "AGTZ20",
          "EHXX65",
          "JRTJ85",
          "JTJI79",
          "CSRR51",
          "QECF46",
          "KOFM20",
          "RRMM37",
          "RXDW39",
          "PQOY36",
          "OWSQ97",
          "ALRK90",
          "RFWU14",
          "OZUT25",
          "XTBX90",
          "XOQT13",
          "NOGS81",
          "MFND91",
          "DWZZ61",
          "WBMS77",
          "IHAN83",
          "DEIG60",
          "KGVE56",
          "NTHH51",
          "ZGCS80",
          "SHRF14",
          "MWKJ36",
          "KFYE74",
          "SQMX53",
          "GTNR68",
          "KZRO57",
          "KOYD46",
          "DJJY87",
          "JBTR23",
          "XWGC34",
          "ALTR80",
          "QSIX89",
          "LTRM99",
          "BMKS78",
          "RZJE80",
          "DWNT24",
          "PLLI94",
          "XJTB90",
          "KJXK50",
          "GJMS34",
          "HLHZ81",
          "DOVL88",
          "GQLM65",
          "TQHY23",
          "LDCN15",
          "TMRV30",
          "RJRX96",
          "ITWI77",
          "YPEO71",
          "QMJU30",
          "DTAP43",
          "QTOL20",
          "ZVHT81",
          "XAWC41",
          "HUEU97",
          "QZBB18",
          "DOMX92",
          "FKBF56",
          "ISGA38",
          "DXDG12",
          "HWNQ25",
          "EMQE80",
          "ESAK35",
          "UXVV30",
          "KUSK79",
          "KQIR15",
          "MOBP10",
          "WYLK21",
          "SHCK89",
          "HAJF16",
          "YYXU14",
          "OISL18",
          "SHAV55",
          "PWNO45",
          "OQLJ54",
          "CXHN76",
          "TMGN22",
          "SXCJ47",
          "EBMN77",
          "VCWU29",
          "FLUS31",
          "UQWP71",
          "XAXK13",
          "UWNQ40",
          "CNKD39",
          "SRMH24",
          "ZALE77",
          "TLSS85",
          "URBX68",
          "SYSY62",
          "DXJH99",
          "LEJF43",
          "IGER93",
          "GWNX46",
          "UCRI68",
          "IPCJ60",
          "SJLU38",
          "YHZM86",
          "HKVE20",
          "GRKW19",
          "MTJF44",
          "ZEIO40",
          "NYHF21",
          "ZNLM43",
          "AVUP19",
          "RQIR95",
          "PDXW81",
          "SZPP27",
          "MHKY29",
          "FHLE86",
          "YNRD59",
          "OPKM39",
          "TVES16",
          "CESM35",
          "TPGM27",
          "YXYQ95",
          "CEOO43",
          "KZZQ98",
          "PRWK29",
          "BBKQ34",
          "EYPB50",
          "ZGTX94",
          "BCFH57",
          "KIMD35",
          "RCIC42",
          "OBZB10",
          "KKQO33",
          "WBTA61",
          "LOPU85",
          "HHLN28",
          "JQEY56",
          "CVNQ54",
          "NHPX81",
          "YHPZ35",
          "SJSW50",
          "PUYD31",
          "OBCB27",
          "WRBU48",
          "EWSG56",
          "UKYN79",
          "VFJJ76",
          "SVUD33",
          "TYAV95",
          "AKOX72",
          "QNXR94",
          "HYWJ10",
          "UBCO49",
          "RKUO87",
          "WWVY42",
          "XRAU69",
          "MSRJ79",
          "FLOW15",
          "IIQP50",
          "METU64",
          "TRXT43",
          "HFET39",
          "AIAH82",
          "CUVB41",
          "TNVG32",
          "DSVE57",
          "IZSF69",
          "TRUX86",
          "YRPB60"
         ],
         "xaxis": "x",
         "y": [
          "1.9477340410546757",
          "1.9477340410546757",
          "1.9477340410546757",
          "1.9477340410546757",
          "1.9477340410546757",
          "1.9477340410546757",
          "1.9477340410546757",
          "1.9477340410546757",
          "1.9477340410546757",
          "1.9477340410546757",
          "1.9477340410546757",
          "1.9477340410546757",
          "1.9477340410546757",
          "1.9477340410546757",
          "1.9477340410546757",
          "1.9477340410546757",
          "1.9477340410546757",
          "1.9477340410546757",
          "1.9477340410546757",
          "1.9477340410546757",
          "1.9477340410546757",
          "10.312258501325767",
          "10.312258501325767",
          "10.312258501325767",
          "10.312258501325767",
          "10.312258501325767",
          "10.312258501325767",
          "10.312258501325767",
          "10.312258501325767",
          "10.312258501325767",
          "10.312258501325767",
          "10.312258501325767",
          "10.312258501325767",
          "10.312258501325767",
          "10.312258501325767",
          "10.312258501325767",
          "10.312258501325767",
          "106.34267539816554",
          "106.34267539816554",
          "106.34267539816554",
          "106.34267539816554",
          "106.34267539816554",
          "106.34267539816554",
          "106.34267539816554",
          "106.34267539816554",
          "106.34267539816554",
          "106.34267539816554",
          "106.34267539816554",
          "106.34267539816554",
          "106.34267539816554",
          "106.34267539816554",
          "106.34267539816554",
          "106.34267539816554",
          "106.34267539816554",
          "1096.6331584284585",
          "1096.6331584284585",
          "1096.6331584284585",
          "1096.6331584284585",
          "1096.6331584284585",
          "1096.6331584284585",
          "1096.6331584284585",
          "11312.08472776234",
          "11312.08472776234",
          "11312.08472776234",
          "11312.08472776234",
          "11312.08472776234",
          "11312.08472776234",
          "11312.08472776234",
          "11312.08472776234",
          "11312.08472776234",
          "11312.08472776234",
          "11312.08472776234",
          "11312.08472776234",
          "11312.08472776234",
          "11312.08472776234",
          "11312.08472776234",
          "11312.08472776234",
          "11312.08472776234",
          "11312.08472776234",
          "11312.08472776234",
          "11312.08472776234",
          "116618.90399762252",
          "116618.90399762252",
          "116618.90399762252",
          "12402464.100400642",
          "12402464.100400642",
          "12402464.100400642",
          "12402464.100400642",
          "1343.2244322891013",
          "1343.2244322891013",
          "1343.2244322891013",
          "155.80221520150724",
          "155.80221520150724",
          "155.80221520150724",
          "155.80221520150724",
          "155.80221520150724",
          "155.80221520150724",
          "155.80221520150724",
          "155.80221520150724",
          "155.80221520150724",
          "155.80221520150724",
          "155.80221520150724",
          "155.80221520150724",
          "155.80221520150724",
          "155.80221520150724",
          "155.80221520150724",
          "155.80221520150724",
          "155.80221520150724",
          "155.80221520150724",
          "159.43633548321822",
          "159.43633548321822",
          "159.43633548321822",
          "159.43633548321822",
          "159.43633548321822",
          "159.43633548321822",
          "19.904057177213524",
          "19.904057177213524",
          "19.904057177213524",
          "19.904057177213524",
          "19.904057177213524",
          "19.904057177213524",
          "19.904057177213524",
          "19.904057177213524",
          "19.904057177213524",
          "19.904057177213524",
          "19.904057177213524",
          "19.904057177213524",
          "19.904057177213524",
          "20.238314665780226",
          "20.238314665780226",
          "20.238314665780226",
          "20.238314665780226",
          "20.238314665780226",
          "20.238314665780226",
          "20.238314665780226",
          "20.238314665780226",
          "20.238314665780226",
          "20.238314665780226",
          "20.238314665780226",
          "20.238314665780226",
          "20.238314665780226",
          "20.238314665780226",
          "20.238314665780226",
          "20.238314665780226",
          "20.238314665780226",
          "20.238314665780226",
          "20.238314665780226",
          "20.238314665780226",
          "20.238314665780226",
          "20.238314665780226",
          "20.238314665780226",
          "227142.60914665688",
          "227142.60914665688",
          "227142.60914665688",
          "227142.60914665688",
          "227142.60914665688",
          "227142.60914665688",
          "227142.60914665688",
          "227142.60914665688",
          "227142.60914665688",
          "227142.60914665688",
          "243205.04629181637",
          "243205.04629181637",
          "243205.04629181637",
          "243205.04629181637",
          "243205.04629181637",
          "243205.04629181637",
          "243205.04629181637",
          "28.03162489452614",
          "28.03162489452614",
          "28.03162489452614",
          "28.03162489452614",
          "28.03162489452614",
          "28.03162489452614",
          "28.03162489452614",
          "28.03162489452614",
          "28.03162489452614",
          "28.03162489452614",
          "28.03162489452614",
          "28.03162489452614",
          "28.03162489452614",
          "28.03162489452614",
          "28.03162489452614",
          "28.03162489452614",
          "28.03162489452614",
          "28.03162489452614",
          "28.03162489452614",
          "28.03162489452614",
          "28.03162489452614",
          "28.03162489452614",
          "28.03162489452614",
          "28.03162489452614",
          "28.03162489452614",
          "28.03162489452614",
          "28.03162489452614",
          "28.03162489452614",
          "28.03162489452614",
          "28.03162489452614",
          "28.03162489452614",
          "28.03162489452614",
          "28.03162489452614",
          "28.03162489452614",
          "28.03162489452614",
          "28.03162489452614",
          "28.03162489452614",
          "28.03162489452614",
          "28.03162489452614",
          "28.03162489452614",
          "28.03162489452614",
          "28.03162489452614",
          "28.03162489452614",
          "28.03162489452614",
          "28.03162489452614",
          "28.03162489452614",
          "300.0925385051938",
          "300.0925385051938",
          "300.0925385051938",
          "300.0925385051938",
          "300.0925385051938",
          "300.0925385051938",
          "300.0925385051938",
          "300.0925385051938",
          "300.0925385051938",
          "300.0925385051938",
          "300.0925385051938",
          "300.0925385051938",
          "300.0925385051938",
          "300.0925385051938",
          "300.0925385051938",
          "300.0925385051938",
          "300.0925385051938",
          "303.41106474507376",
          "303.41106474507376",
          "303.41106474507376",
          "303.41106474507376",
          "303.41106474507376",
          "303.41106474507376",
          "303.41106474507376",
          "303.41106474507376",
          "303.41106474507376",
          "303.41106474507376",
          "303.41106474507376",
          "303.41106474507376",
          "303.41106474507376",
          "303.41106474507376",
          "32.351741817262685",
          "32.351741817262685",
          "32.351741817262685",
          "32.351741817262685",
          "32.351741817262685",
          "32.351741817262685",
          "32.351741817262685",
          "32.351741817262685",
          "32.351741817262685",
          "32.351741817262685",
          "32.351741817262685",
          "32.351741817262685",
          "32.351741817262685",
          "32.351741817262685",
          "32.351741817262685",
          "32.351741817262685",
          "32.351741817262685",
          "32.351741817262685",
          "32.351741817262685",
          "32.351741817262685",
          "32.351741817262685",
          "39.12128399815321",
          "39.12128399815321",
          "39.12128399815321",
          "39.12128399815321",
          "39.12128399815321",
          "39.12128399815321",
          "39.12128399815321",
          "39.12128399815321",
          "39.12128399815321",
          "39.12128399815321",
          "39.12128399815321",
          "39.12128399815321",
          "39.12128399815321",
          "39.12128399815321",
          "39.12128399815321",
          "39.12128399815321",
          "39.12128399815321",
          "39.12128399815321",
          "39.12128399815321",
          "39.12128399815321",
          "39.12128399815321",
          "39.12128399815321",
          "39.12128399815321",
          "39.12128399815321",
          "39.12128399815321",
          "39.12128399815321",
          "39.12128399815321",
          "39.12128399815321",
          "39.12128399815321",
          "39.12128399815321",
          "39.12128399815321",
          "39.12128399815321",
          "39.12128399815321",
          "39.12128399815321",
          "39.12128399815321",
          "39.12128399815321",
          "39.12128399815321",
          "39.12128399815321",
          "39.12128399815321",
          "39.12128399815321",
          "39.12128399815321",
          "39.12128399815321",
          "39.12128399815321",
          "403.4287934927351",
          "4160.262005375057",
          "4160.262005375057",
          "4160.262005375057",
          "4160.262005375057",
          "4160.262005375057",
          "4160.262005375057",
          "419.87344026383215",
          "419.87344026383215",
          "419.87344026383215",
          "419.87344026383215",
          "419.87344026383215",
          "419.87344026383215",
          "419.87344026383215",
          "419.87344026383215",
          "419.87344026383215",
          "419.87344026383215",
          "419.87344026383215",
          "419.87344026383215",
          "563.0302368359511",
          "563.0302368359511",
          "563.0302368359511",
          "563.0302368359511",
          "563.0302368359511",
          "563.0302368359511",
          "563.0302368359511",
          "563.0302368359511",
          "563.0302368359511",
          "563.0302368359511",
          "563.0302368359511",
          "563.0302368359511",
          "563.0302368359511",
          "563.0302368359511",
          "563.0302368359511",
          "563.0302368359511",
          "563.0302368359511",
          "563.0302368359511",
          "565.2557777644436",
          "565.2557777644436",
          "565.2557777644436",
          "565.2557777644436",
          "565.2557777644436",
          "565.2557777644436",
          "565.2557777644436",
          "5806.1133463149945",
          "5806.1133463149945",
          "618.6283868690953",
          "618.6283868690953",
          "618.6283868690953",
          "618.6283868690953",
          "618.6283868690953",
          "618.6283868690953",
          "618.6283868690953",
          "625.2506917180065",
          "625.2506917180065",
          "6636.1917403189445",
          "6636.1917403189445",
          "6636.1917403189445",
          "6636.1917403189445",
          "6636.1917403189445",
          "6636.1917403189445",
          "677102574.9332231",
          "677102574.9332231",
          "677102574.9332231",
          "677102574.9332231",
          "7145.544110709412",
          "7145.544110709412",
          "7145.544110709412",
          "7145.544110709412",
          "7145.544110709412",
          "7145.544110709412",
          "7145.544110709412",
          "7145.544110709412",
          "7145.544110709412",
          "7145.544110709412",
          "7145.544110709412",
          "7145.544110709412",
          "7145.544110709412",
          "7145.544110709412",
          "7145.544110709412",
          "7145.544110709412",
          "7145.544110709412",
          "7145.544110709412",
          "7145.544110709412",
          "7145.544110709412",
          "7145.544110709412",
          "77.19785657297057",
          "77.19785657297057",
          "77.19785657297057",
          "77.19785657297057",
          "77.19785657297057",
          "77.19785657297057",
          "77.19785657297057",
          "77.19785657297057",
          "77.19785657297057",
          "77.19785657297057",
          "85.16915049342718",
          "85.16915049342718",
          "85.16915049342718",
          "85.16915049342718",
          "85.16915049342718",
          "85.16915049342718",
          "85.16915049342718",
          "85.16915049342718",
          "85.16915049342718",
          "8886130.758822538",
          "8886130.758822538",
          "8886130.758822538",
          "8886130.758822538",
          "8886130.758822538",
          "8886130.758822538",
          "8886130.758822538",
          "899.2429040755037",
          "899.2429040755037",
          "899.2429040755037",
          "899.2429040755037",
          "899.2429040755037",
          "899.2429040755037",
          "899.2429040755037",
          "899.2429040755037",
          "899.2429040755037",
          "899.2429040755037",
          "899.2429040755037",
          "899.2429040755037",
          "899.2429040755037",
          "899.2429040755037",
          "899.2429040755037",
          "899.2429040755037",
          "899.2429040755037",
          "899.2429040755037",
          "899.2429040755037",
          "899.2429040755037",
          "899.2429040755037",
          "899.2429040755037",
          "899.2429040755037",
          "899.2429040755037",
          "899.2429040755037",
          "899.2429040755037",
          "899.2429040755037",
          "899.2429040755037",
          "899.2429040755037",
          "899.2429040755037",
          "L",
          "L",
          "L",
          "L",
          "L",
          "L",
          "L",
          "L",
          "L",
          "L",
          "L",
          "L",
          "L",
          "L",
          "L",
          "L",
          "L",
          "L",
          "L",
          "L",
          "L",
          "L",
          "L",
          "L",
          "L",
          "L",
          "L",
          "L",
          "L",
          "L",
          "L",
          "L",
          "L",
          "L",
          "L",
          "L",
          "L",
          "L",
          "L",
          "L",
          "L",
          "L",
          "L"
         ],
         "yaxis": "y"
        },
        {
         "hovertemplate": "pnr=%{x}<br>delay=%{y}<extra></extra>",
         "legendgroup": "",
         "marker": {
          "color": "#636efa",
          "symbol": "circle"
         },
         "mode": "markers",
         "name": "",
         "orientation": "v",
         "showlegend": false,
         "type": "scatter",
         "x": [
          "WJMV67",
          "UNSF23",
          "TGXX73",
          "OGNC74",
          "ZOGF53",
          "GWNV19",
          "JGQQ52",
          "TGTE84",
          "UNYK86",
          "HAJT64",
          "ONGL32",
          "AGLB29",
          "VTNP31",
          "XSCX58",
          "NQIR91",
          "YDIV49",
          "NDWM53",
          "VRKF96",
          "YVFV40",
          "QKBU91",
          "GXUC18",
          "PFHK83",
          "HAMF65",
          "RCJP27",
          "GUKB59",
          "OYXB82",
          "JZDS61",
          "IKFF97",
          "HJMG32",
          "FBHC43",
          "TZVR85",
          "ODUR60",
          "LEJE37",
          "TIOK51",
          "EJQJ68",
          "SGDT71",
          "PPAX23",
          "ARWF60",
          "SXKC58",
          "VFLG14",
          "BENO63",
          "DUTC29",
          "LJSQ23",
          "NXVJ18",
          "VVPN34",
          "UMFN26",
          "HUSS80",
          "JAFL69",
          "HTXZ52",
          "EBBQ47",
          "XJSK78",
          "MBOQ39",
          "VFSF33",
          "ECJI31",
          "GPNU96",
          "LLDJ77",
          "CKXS65",
          "VDFF44",
          "UBHZ78",
          "TJEQ90",
          "MXUV18",
          "GXSK66",
          "OIMB80",
          "SCJT65",
          "QJLV48",
          "UKUK40",
          "ANCE37",
          "BPIA17",
          "DIKX30",
          "UWSX94",
          "FETM37",
          "MSZX21",
          "ETZY91",
          "CDWU92",
          "FMEB47",
          "GCZN99",
          "ORDB55",
          "FHGJ87",
          "RMIB10",
          "KLNK89",
          "OPTF44",
          "MEAE27",
          "FOEH31",
          "TBBM88",
          "DULQ82",
          "UCQU27",
          "NFUH97",
          "CFTY17",
          "ZYXC32",
          "LQRR20",
          "XXUJ80",
          "SETU42",
          "TBVA58",
          "GQCC71",
          "UANL74",
          "RYRI54",
          "KLPS61",
          "BLQF17",
          "YDLG96",
          "NOBW66",
          "LGSG11",
          "NNFX90",
          "MEFS34",
          "BWBC11",
          "EJGI27",
          "XKDR47",
          "VNMI75",
          "ONAJ71",
          "VGCG50",
          "CFKT22",
          "MGUS94",
          "ZXNE22",
          "WFSI48",
          "OBWW74",
          "BWLY10",
          "ZZJJ93",
          "HPCB35",
          "HWON19",
          "KQZY95",
          "JRHR53",
          "FSIF74",
          "YNPW68",
          "SAZH59",
          "HIDK34",
          "POAQ69",
          "AEKU34",
          "AXAX32",
          "BTUY63",
          "GKJN81",
          "WGUO57",
          "GZJH95",
          "TOGD18",
          "YPQV77",
          "PQKA70",
          "ZRGW22",
          "UXDE15",
          "GHFD72",
          "GCMG66",
          "BXPK37",
          "HXSA63",
          "HHXB42",
          "HBSS30",
          "HLWC88",
          "OOQU17",
          "JIZC52",
          "KCDU66",
          "BTPM40",
          "VWMU23",
          "LZNB89",
          "RSWB62",
          "NEVB63",
          "LLCM69",
          "OIEV75",
          "PBYB37",
          "STRO84",
          "NBTI23",
          "NUEC95",
          "JVZL51",
          "SUBP18",
          "IXJC94",
          "ENHP81",
          "CLLT73",
          "WETD68",
          "CNNN69",
          "CZIL98",
          "DDSN90",
          "TEKX84",
          "TVJT23",
          "XTGX73",
          "BSOA62",
          "UJQR86",
          "LDQA24",
          "CDCV79",
          "ITOY34",
          "DSFR43",
          "OIVX64",
          "BBOZ29",
          "BZSF12",
          "ARKD19",
          "BGZE20",
          "CKTX37",
          "WNYS90",
          "KAVF60",
          "RRGS45",
          "QLHD46",
          "KCJS73",
          "JVHJ26",
          "ZDKC36",
          "QUVY84",
          "CKOO43",
          "LHQF76",
          "IXYT77",
          "OJNO70",
          "UZKL22",
          "NAPT42",
          "WFMJ55",
          "CAJQ90",
          "ASEF54",
          "XDQQ87",
          "ZELQ21",
          "AXIQ57",
          "DPIN74",
          "SJTN28",
          "SBHC33",
          "DTSX26",
          "RHRA39",
          "CMXE97",
          "PAWH48",
          "VXSU87",
          "NATL70",
          "LQMR87",
          "ONGM57",
          "GYNV48",
          "JCJN49",
          "WWGP94",
          "FXHE50",
          "QMKZ57",
          "PDKO77",
          "QBVN74",
          "YFYA31",
          "VICJ80",
          "EEXO48",
          "ABJY21",
          "BMSX65",
          "ZXAG92",
          "CNPO73",
          "SKXE42",
          "NAIB34",
          "MHRH19",
          "LKOW23",
          "NVIM24",
          "HVJB92",
          "SNYI92",
          "CQIK83",
          "FKRF40",
          "FYFP65",
          "KAZA18",
          "GQHO73",
          "DXIE73",
          "ORIX85",
          "RPGC12",
          "DQCF43",
          "PQOV16",
          "KLYP49",
          "COIB65",
          "STMT31",
          "RWBR52",
          "TOIY80",
          "DUKC21",
          "TZOM47",
          "TGJW16",
          "AQNL47",
          "HEPT26",
          "QFOR80",
          "APYV63",
          "CONH42",
          "ODZN95",
          "JCQJ32",
          "UCJT38",
          "AHZG32",
          "JLNP60",
          "ARVH27",
          "TZTL99",
          "ZASK74",
          "AUOO52",
          "MVFO51",
          "WHQC27",
          "NITW35",
          "WUME37",
          "ESWL74",
          "ESKU68",
          "KLBU17",
          "ZGYQ56",
          "BFCN84",
          "LZTJ27",
          "XMCD50",
          "BCOG34",
          "FIZY56",
          "OENH79",
          "AIVN76",
          "VUKP31",
          "PPTC43",
          "YXOI63",
          "KENT99",
          "ADBU76",
          "CSVC82",
          "GVTP10",
          "UNSN60",
          "VRMJ38",
          "HEKU82",
          "ZWEK49",
          "VWYV75",
          "RFML44",
          "RMBZ73",
          "HVFK10",
          "STKH22",
          "BSXO45",
          "CYGT37",
          "CCDD14",
          "EFUM72",
          "OEOB78",
          "ULNA40",
          "HQFT40",
          "GCBX54",
          "IZWI35",
          "NNEP91",
          "LGSP81",
          "MTIH10",
          "JSTA99",
          "PTNO98",
          "CYSU36",
          "QWFD56",
          "YPGF74",
          "DLAU55",
          "BPUD35",
          "SJOG81",
          "GRYJ10",
          "UIPM64",
          "XIEJ75",
          "JCCL86",
          "NJRI89",
          "SYQS89",
          "WCTN75",
          "JBPE61",
          "DBXT38",
          "NCBF52",
          "AGTZ20",
          "EHXX65",
          "JRTJ85",
          "JTJI79",
          "CSRR51",
          "QECF46",
          "KOFM20",
          "RRMM37",
          "RXDW39",
          "PQOY36",
          "OWSQ97",
          "ALRK90",
          "RFWU14",
          "OZUT25",
          "XTBX90",
          "XOQT13",
          "NOGS81",
          "MFND91",
          "DWZZ61",
          "WBMS77",
          "IHAN83",
          "DEIG60",
          "KGVE56",
          "NTHH51",
          "ZGCS80",
          "SHRF14",
          "MWKJ36",
          "KFYE74",
          "SQMX53",
          "GTNR68",
          "KZRO57",
          "KOYD46",
          "DJJY87",
          "JBTR23",
          "XWGC34",
          "ALTR80",
          "QSIX89",
          "LTRM99",
          "BMKS78",
          "RZJE80",
          "DWNT24",
          "PLLI94",
          "XJTB90",
          "KJXK50",
          "GJMS34",
          "HLHZ81",
          "DOVL88",
          "GQLM65",
          "TQHY23",
          "LDCN15",
          "TMRV30",
          "RJRX96",
          "ITWI77",
          "YPEO71",
          "QMJU30",
          "DTAP43",
          "QTOL20",
          "ZVHT81",
          "XAWC41",
          "HUEU97",
          "QZBB18",
          "DOMX92",
          "FKBF56",
          "ISGA38",
          "DXDG12",
          "HWNQ25",
          "EMQE80",
          "ESAK35",
          "UXVV30",
          "KUSK79",
          "KQIR15",
          "MOBP10",
          "WYLK21",
          "SHCK89",
          "HAJF16",
          "YYXU14",
          "OISL18",
          "SHAV55",
          "PWNO45",
          "OQLJ54",
          "CXHN76",
          "TMGN22",
          "SXCJ47",
          "EBMN77",
          "VCWU29",
          "FLUS31",
          "UQWP71",
          "XAXK13",
          "UWNQ40",
          "CNKD39",
          "SRMH24",
          "ZALE77",
          "TLSS85",
          "URBX68",
          "SYSY62",
          "DXJH99",
          "LEJF43",
          "IGER93",
          "GWNX46",
          "UCRI68",
          "IPCJ60",
          "SJLU38",
          "YHZM86",
          "HKVE20",
          "GRKW19",
          "MTJF44",
          "ZEIO40",
          "NYHF21",
          "ZNLM43",
          "AVUP19",
          "RQIR95",
          "PDXW81",
          "SZPP27",
          "MHKY29",
          "FHLE86",
          "YNRD59",
          "OPKM39",
          "TVES16",
          "CESM35",
          "TPGM27",
          "YXYQ95",
          "CEOO43",
          "KZZQ98",
          "PRWK29",
          "BBKQ34",
          "EYPB50",
          "ZGTX94",
          "BCFH57",
          "KIMD35",
          "RCIC42",
          "OBZB10",
          "KKQO33",
          "WBTA61",
          "LOPU85",
          "HHLN28",
          "JQEY56",
          "CVNQ54",
          "NHPX81",
          "YHPZ35",
          "SJSW50",
          "PUYD31",
          "OBCB27",
          "WRBU48",
          "EWSG56",
          "UKYN79",
          "VFJJ76",
          "SVUD33",
          "TYAV95",
          "AKOX72",
          "QNXR94",
          "HYWJ10",
          "UBCO49",
          "RKUO87",
          "WWVY42",
          "XRAU69",
          "MSRJ79",
          "FLOW15",
          "IIQP50",
          "METU64",
          "TRXT43",
          "HFET39",
          "AIAH82",
          "CUVB41",
          "TNVG32",
          "DSVE57",
          "IZSF69",
          "TRUX86",
          "YRPB60"
         ],
         "xaxis": "x",
         "y": [
          9.416666666666666,
          9.416666666666666,
          9.416666666666666,
          9.416666666666666,
          9.416666666666666,
          9.416666666666666,
          9.416666666666666,
          9.416666666666666,
          9.416666666666666,
          9.416666666666666,
          9.416666666666666,
          9.416666666666666,
          9.416666666666666,
          9.416666666666666,
          9.416666666666666,
          9.416666666666666,
          9.416666666666666,
          9.416666666666666,
          9.416666666666666,
          9.416666666666666,
          9.416666666666666,
          13.366666666666667,
          13.366666666666667,
          13.366666666666667,
          13.366666666666667,
          13.366666666666667,
          13.366666666666667,
          13.366666666666667,
          13.366666666666667,
          13.366666666666667,
          13.366666666666667,
          13.366666666666667,
          13.366666666666667,
          13.366666666666667,
          13.366666666666667,
          13.366666666666667,
          13.366666666666667,
          17.65,
          17.65,
          17.65,
          17.65,
          17.65,
          17.65,
          17.65,
          17.65,
          17.65,
          17.65,
          17.65,
          17.65,
          17.65,
          17.65,
          17.65,
          17.65,
          17.65,
          7.65,
          7.65,
          7.65,
          7.65,
          7.65,
          7.65,
          7.65,
          39.18333333333333,
          39.18333333333333,
          39.18333333333333,
          39.18333333333333,
          39.18333333333333,
          39.18333333333333,
          39.18333333333333,
          39.18333333333333,
          39.18333333333333,
          39.18333333333333,
          39.18333333333333,
          39.18333333333333,
          39.18333333333333,
          39.18333333333333,
          39.18333333333333,
          39.18333333333333,
          39.18333333333333,
          39.18333333333333,
          39.18333333333333,
          39.18333333333333,
          45.88333333333333,
          45.88333333333333,
          45.88333333333333,
          60.06666666666667,
          60.06666666666667,
          60.06666666666667,
          60.06666666666667,
          38.25,
          38.25,
          38.25,
          18.016666666666666,
          18.016666666666666,
          18.016666666666666,
          18.016666666666666,
          18.016666666666666,
          18.016666666666666,
          18.016666666666666,
          18.016666666666666,
          18.016666666666666,
          18.016666666666666,
          18.016666666666666,
          18.016666666666666,
          18.016666666666666,
          18.016666666666666,
          18.016666666666666,
          18.016666666666666,
          18.016666666666666,
          18.016666666666666,
          26.883333333333333,
          26.883333333333333,
          26.883333333333333,
          26.883333333333333,
          26.883333333333333,
          26.883333333333333,
          56.233333333333334,
          56.233333333333334,
          56.233333333333334,
          56.233333333333334,
          56.233333333333334,
          56.233333333333334,
          56.233333333333334,
          56.233333333333334,
          56.233333333333334,
          56.233333333333334,
          56.233333333333334,
          56.233333333333334,
          56.233333333333334,
          18.016666666666666,
          18.016666666666666,
          18.016666666666666,
          18.016666666666666,
          18.016666666666666,
          18.016666666666666,
          18.016666666666666,
          18.016666666666666,
          18.016666666666666,
          18.016666666666666,
          18.016666666666666,
          18.016666666666666,
          18.016666666666666,
          18.016666666666666,
          18.016666666666666,
          18.016666666666666,
          18.016666666666666,
          18.016666666666666,
          18.016666666666666,
          18.016666666666666,
          18.016666666666666,
          18.016666666666666,
          18.016666666666666,
          40.1,
          40.1,
          40.1,
          40.1,
          40.1,
          40.1,
          40.1,
          40.1,
          40.1,
          40.1,
          59.06666666666667,
          59.06666666666667,
          59.06666666666667,
          59.06666666666667,
          59.06666666666667,
          59.06666666666667,
          59.06666666666667,
          -2.4833333333333334,
          -2.4833333333333334,
          -2.4833333333333334,
          -2.4833333333333334,
          6.35,
          -2.4833333333333334,
          -2.4833333333333334,
          -2.4833333333333334,
          -2.4833333333333334,
          -2.4833333333333334,
          -2.4833333333333334,
          -2.4833333333333334,
          -2.4833333333333334,
          -2.4833333333333334,
          -2.4833333333333334,
          6.35,
          -2.4833333333333334,
          -2.4833333333333334,
          -2.4833333333333334,
          6.35,
          6.35,
          -2.4833333333333334,
          6.35,
          -2.4833333333333334,
          -2.4833333333333334,
          6.35,
          -2.4833333333333334,
          6.35,
          -2.4833333333333334,
          6.35,
          -2.4833333333333334,
          -2.4833333333333334,
          -2.4833333333333334,
          -2.4833333333333334,
          -2.4833333333333334,
          6.35,
          6.35,
          -2.4833333333333334,
          -2.4833333333333334,
          -2.4833333333333334,
          -2.4833333333333334,
          6.35,
          -2.4833333333333334,
          -2.4833333333333334,
          -2.4833333333333334,
          -2.4833333333333334,
          58.016666666666666,
          58.016666666666666,
          58.016666666666666,
          58.016666666666666,
          58.016666666666666,
          58.016666666666666,
          58.016666666666666,
          58.016666666666666,
          58.016666666666666,
          58.016666666666666,
          58.016666666666666,
          58.016666666666666,
          58.016666666666666,
          58.016666666666666,
          58.016666666666666,
          58.016666666666666,
          58.016666666666666,
          64.6,
          64.6,
          64.6,
          64.6,
          64.6,
          64.6,
          64.6,
          64.6,
          64.6,
          64.6,
          64.6,
          64.6,
          64.6,
          64.6,
          31.666666666666668,
          31.666666666666668,
          31.666666666666668,
          31.666666666666668,
          31.666666666666668,
          31.666666666666668,
          31.666666666666668,
          31.666666666666668,
          31.666666666666668,
          31.666666666666668,
          31.666666666666668,
          31.666666666666668,
          31.666666666666668,
          31.666666666666668,
          31.666666666666668,
          31.666666666666668,
          31.666666666666668,
          31.666666666666668,
          31.666666666666668,
          31.666666666666668,
          31.666666666666668,
          12.816666666666666,
          12.816666666666666,
          12.816666666666666,
          12.816666666666666,
          12.816666666666666,
          12.816666666666666,
          12.816666666666666,
          12.816666666666666,
          12.816666666666666,
          7.9,
          12.816666666666666,
          12.816666666666666,
          12.816666666666666,
          12.816666666666666,
          12.816666666666666,
          12.816666666666666,
          12.816666666666666,
          12.816666666666666,
          7.9,
          12.816666666666666,
          12.816666666666666,
          12.816666666666666,
          7.9,
          7.9,
          12.816666666666666,
          12.816666666666666,
          7.9,
          7.9,
          12.816666666666666,
          12.816666666666666,
          12.816666666666666,
          7.9,
          12.816666666666666,
          12.816666666666666,
          12.816666666666666,
          7.9,
          7.9,
          12.816666666666666,
          12.816666666666666,
          12.816666666666666,
          12.816666666666666,
          7.9,
          12.816666666666666,
          13.366666666666667,
          42.2,
          42.2,
          42.2,
          42.2,
          42.2,
          42.2,
          35.06666666666667,
          35.06666666666667,
          35.06666666666667,
          35.06666666666667,
          35.06666666666667,
          35.06666666666667,
          35.06666666666667,
          35.06666666666667,
          35.06666666666667,
          35.06666666666667,
          35.06666666666667,
          35.06666666666667,
          5.033333333333333,
          5.033333333333333,
          5.033333333333333,
          5.033333333333333,
          5.033333333333333,
          5.033333333333333,
          5.033333333333333,
          5.033333333333333,
          5.033333333333333,
          5.033333333333333,
          5.033333333333333,
          5.033333333333333,
          5.033333333333333,
          5.033333333333333,
          5.033333333333333,
          5.033333333333333,
          5.033333333333333,
          5.033333333333333,
          52.833333333333336,
          52.833333333333336,
          52.833333333333336,
          52.833333333333336,
          52.833333333333336,
          52.833333333333336,
          52.833333333333336,
          17.55,
          17.55,
          25.25,
          25.25,
          25.25,
          25.25,
          25.25,
          25.25,
          25.25,
          62.43333333333333,
          62.43333333333333,
          58.016666666666666,
          58.016666666666666,
          58.016666666666666,
          58.016666666666666,
          58.016666666666666,
          58.016666666666666,
          60.11666666666667,
          60.11666666666667,
          60.11666666666667,
          60.11666666666667,
          69.55,
          69.55,
          69.55,
          69.55,
          69.55,
          69.55,
          69.55,
          69.55,
          69.55,
          69.55,
          69.55,
          69.55,
          69.55,
          69.55,
          69.55,
          69.55,
          69.55,
          69.55,
          69.55,
          69.55,
          69.55,
          16.6,
          16.6,
          16.6,
          16.6,
          16.6,
          16.6,
          16.6,
          16.6,
          16.6,
          16.6,
          41.8,
          41.8,
          41.8,
          41.8,
          41.8,
          41.8,
          41.8,
          41.8,
          41.8,
          69.76666666666667,
          69.76666666666667,
          69.76666666666667,
          69.76666666666667,
          69.76666666666667,
          69.76666666666667,
          69.76666666666667,
          12.066666666666666,
          12.066666666666666,
          12.066666666666666,
          12.066666666666666,
          12.066666666666666,
          12.066666666666666,
          12.066666666666666,
          12.066666666666666,
          12.066666666666666,
          12.066666666666666,
          12.066666666666666,
          12.066666666666666,
          12.066666666666666,
          12.066666666666666,
          12.066666666666666,
          12.066666666666666,
          12.066666666666666,
          12.066666666666666,
          12.066666666666666,
          12.066666666666666,
          12.066666666666666,
          12.066666666666666,
          12.066666666666666,
          12.066666666666666,
          12.066666666666666,
          12.066666666666666,
          12.066666666666666,
          12.066666666666666,
          12.066666666666666,
          12.066666666666666,
          null,
          null,
          null,
          null,
          null,
          null,
          null,
          null,
          null,
          null,
          null,
          null,
          null,
          null,
          null,
          null,
          null,
          null,
          null,
          null,
          null,
          null,
          null,
          null,
          null,
          null,
          null,
          null,
          null,
          null,
          null,
          null,
          null,
          null,
          null,
          null,
          null,
          null,
          null,
          null,
          null,
          null,
          null
         ],
         "yaxis": "y"
        },
        {
         "hovertemplate": "pnr=%{x}<br>delay=%{y}<extra></extra>",
         "legendgroup": "",
         "marker": {
          "color": "#636efa",
          "symbol": "circle"
         },
         "mode": "markers",
         "name": "",
         "orientation": "v",
         "showlegend": false,
         "type": "scatter",
         "x": [
          "WJMV67",
          "UNSF23",
          "TGXX73",
          "OGNC74",
          "ZOGF53",
          "GWNV19",
          "JGQQ52",
          "TGTE84",
          "UNYK86",
          "HAJT64",
          "ONGL32",
          "AGLB29",
          "VTNP31",
          "XSCX58",
          "NQIR91",
          "YDIV49",
          "NDWM53",
          "VRKF96",
          "YVFV40",
          "QKBU91",
          "GXUC18",
          "PFHK83",
          "HAMF65",
          "RCJP27",
          "GUKB59",
          "OYXB82",
          "JZDS61",
          "IKFF97",
          "HJMG32",
          "FBHC43",
          "TZVR85",
          "ODUR60",
          "LEJE37",
          "TIOK51",
          "EJQJ68",
          "SGDT71",
          "PPAX23",
          "ARWF60",
          "SXKC58",
          "VFLG14",
          "BENO63",
          "DUTC29",
          "LJSQ23",
          "NXVJ18",
          "VVPN34",
          "UMFN26",
          "HUSS80",
          "JAFL69",
          "HTXZ52",
          "EBBQ47",
          "XJSK78",
          "MBOQ39",
          "VFSF33",
          "ECJI31",
          "GPNU96",
          "LLDJ77",
          "CKXS65",
          "VDFF44",
          "UBHZ78",
          "TJEQ90",
          "MXUV18",
          "GXSK66",
          "OIMB80",
          "SCJT65",
          "QJLV48",
          "UKUK40",
          "ANCE37",
          "BPIA17",
          "DIKX30",
          "UWSX94",
          "FETM37",
          "MSZX21",
          "ETZY91",
          "CDWU92",
          "FMEB47",
          "GCZN99",
          "ORDB55",
          "FHGJ87",
          "RMIB10",
          "KLNK89",
          "OPTF44",
          "MEAE27",
          "FOEH31",
          "TBBM88",
          "DULQ82",
          "UCQU27",
          "NFUH97",
          "CFTY17",
          "ZYXC32",
          "LQRR20",
          "XXUJ80",
          "SETU42",
          "TBVA58",
          "GQCC71",
          "UANL74",
          "RYRI54",
          "KLPS61",
          "BLQF17",
          "YDLG96",
          "NOBW66",
          "LGSG11",
          "NNFX90",
          "MEFS34",
          "BWBC11",
          "EJGI27",
          "XKDR47",
          "VNMI75",
          "ONAJ71",
          "VGCG50",
          "CFKT22",
          "MGUS94",
          "ZXNE22",
          "WFSI48",
          "OBWW74",
          "BWLY10",
          "ZZJJ93",
          "HPCB35",
          "HWON19",
          "KQZY95",
          "JRHR53",
          "FSIF74",
          "YNPW68",
          "SAZH59",
          "HIDK34",
          "POAQ69",
          "AEKU34",
          "AXAX32",
          "BTUY63",
          "GKJN81",
          "WGUO57",
          "GZJH95",
          "TOGD18",
          "YPQV77",
          "PQKA70",
          "ZRGW22",
          "UXDE15",
          "GHFD72",
          "GCMG66",
          "BXPK37",
          "HXSA63",
          "HHXB42",
          "HBSS30",
          "HLWC88",
          "OOQU17",
          "JIZC52",
          "KCDU66",
          "BTPM40",
          "VWMU23",
          "LZNB89",
          "RSWB62",
          "NEVB63",
          "LLCM69",
          "OIEV75",
          "PBYB37",
          "STRO84",
          "NBTI23",
          "NUEC95",
          "JVZL51",
          "SUBP18",
          "IXJC94",
          "ENHP81",
          "CLLT73",
          "WETD68",
          "CNNN69",
          "CZIL98",
          "DDSN90",
          "TEKX84",
          "TVJT23",
          "XTGX73",
          "BSOA62",
          "UJQR86",
          "LDQA24",
          "CDCV79",
          "ITOY34",
          "DSFR43",
          "OIVX64",
          "BBOZ29",
          "BZSF12",
          "ARKD19",
          "BGZE20",
          "CKTX37",
          "WNYS90",
          "KAVF60",
          "RRGS45",
          "QLHD46",
          "KCJS73",
          "JVHJ26",
          "ZDKC36",
          "QUVY84",
          "CKOO43",
          "LHQF76",
          "IXYT77",
          "OJNO70",
          "UZKL22",
          "NAPT42",
          "WFMJ55",
          "CAJQ90",
          "ASEF54",
          "XDQQ87",
          "ZELQ21",
          "AXIQ57",
          "DPIN74",
          "SJTN28",
          "SBHC33",
          "DTSX26",
          "RHRA39",
          "CMXE97",
          "PAWH48",
          "VXSU87",
          "NATL70",
          "LQMR87",
          "ONGM57",
          "GYNV48",
          "JCJN49",
          "WWGP94",
          "FXHE50",
          "QMKZ57",
          "PDKO77",
          "QBVN74",
          "YFYA31",
          "VICJ80",
          "EEXO48",
          "ABJY21",
          "BMSX65",
          "ZXAG92",
          "CNPO73",
          "SKXE42",
          "NAIB34",
          "MHRH19",
          "LKOW23",
          "NVIM24",
          "HVJB92",
          "SNYI92",
          "CQIK83",
          "FKRF40",
          "FYFP65",
          "KAZA18",
          "GQHO73",
          "DXIE73",
          "ORIX85",
          "RPGC12",
          "DQCF43",
          "PQOV16",
          "KLYP49",
          "COIB65",
          "STMT31",
          "RWBR52",
          "TOIY80",
          "DUKC21",
          "TZOM47",
          "TGJW16",
          "AQNL47",
          "HEPT26",
          "QFOR80",
          "APYV63",
          "CONH42",
          "ODZN95",
          "JCQJ32",
          "UCJT38",
          "AHZG32",
          "JLNP60",
          "ARVH27",
          "TZTL99",
          "ZASK74",
          "AUOO52",
          "MVFO51",
          "WHQC27",
          "NITW35",
          "WUME37",
          "ESWL74",
          "ESKU68",
          "KLBU17",
          "ZGYQ56",
          "BFCN84",
          "LZTJ27",
          "XMCD50",
          "BCOG34",
          "FIZY56",
          "OENH79",
          "AIVN76",
          "VUKP31",
          "PPTC43",
          "YXOI63",
          "KENT99",
          "ADBU76",
          "CSVC82",
          "GVTP10",
          "UNSN60",
          "VRMJ38",
          "HEKU82",
          "ZWEK49",
          "VWYV75",
          "RFML44",
          "RMBZ73",
          "HVFK10",
          "STKH22",
          "BSXO45",
          "CYGT37",
          "CCDD14",
          "EFUM72",
          "OEOB78",
          "ULNA40",
          "HQFT40",
          "GCBX54",
          "IZWI35",
          "NNEP91",
          "LGSP81",
          "MTIH10",
          "JSTA99",
          "PTNO98",
          "CYSU36",
          "QWFD56",
          "YPGF74",
          "DLAU55",
          "BPUD35",
          "SJOG81",
          "GRYJ10",
          "UIPM64",
          "XIEJ75",
          "JCCL86",
          "NJRI89",
          "SYQS89",
          "WCTN75",
          "JBPE61",
          "DBXT38",
          "NCBF52",
          "AGTZ20",
          "EHXX65",
          "JRTJ85",
          "JTJI79",
          "CSRR51",
          "QECF46",
          "KOFM20",
          "RRMM37",
          "RXDW39",
          "PQOY36",
          "OWSQ97",
          "ALRK90",
          "RFWU14",
          "OZUT25",
          "XTBX90",
          "XOQT13",
          "NOGS81",
          "MFND91",
          "DWZZ61",
          "WBMS77",
          "IHAN83",
          "DEIG60",
          "KGVE56",
          "NTHH51",
          "ZGCS80",
          "SHRF14",
          "MWKJ36",
          "KFYE74",
          "SQMX53",
          "GTNR68",
          "KZRO57",
          "KOYD46",
          "DJJY87",
          "JBTR23",
          "XWGC34",
          "ALTR80",
          "QSIX89",
          "LTRM99",
          "BMKS78",
          "RZJE80",
          "DWNT24",
          "PLLI94",
          "XJTB90",
          "KJXK50",
          "GJMS34",
          "HLHZ81",
          "DOVL88",
          "GQLM65",
          "TQHY23",
          "LDCN15",
          "TMRV30",
          "RJRX96",
          "ITWI77",
          "YPEO71",
          "QMJU30",
          "DTAP43",
          "QTOL20",
          "ZVHT81",
          "XAWC41",
          "HUEU97",
          "QZBB18",
          "DOMX92",
          "FKBF56",
          "ISGA38",
          "DXDG12",
          "HWNQ25",
          "EMQE80",
          "ESAK35",
          "UXVV30",
          "KUSK79",
          "KQIR15",
          "MOBP10",
          "WYLK21",
          "SHCK89",
          "HAJF16",
          "YYXU14",
          "OISL18",
          "SHAV55",
          "PWNO45",
          "OQLJ54",
          "CXHN76",
          "TMGN22",
          "SXCJ47",
          "EBMN77",
          "VCWU29",
          "FLUS31",
          "UQWP71",
          "XAXK13",
          "UWNQ40",
          "CNKD39",
          "SRMH24",
          "ZALE77",
          "TLSS85",
          "URBX68",
          "SYSY62",
          "DXJH99",
          "LEJF43",
          "IGER93",
          "GWNX46",
          "UCRI68",
          "IPCJ60",
          "SJLU38",
          "YHZM86",
          "HKVE20",
          "GRKW19",
          "MTJF44",
          "ZEIO40",
          "NYHF21",
          "ZNLM43",
          "AVUP19",
          "RQIR95",
          "PDXW81",
          "SZPP27",
          "MHKY29",
          "FHLE86",
          "YNRD59",
          "OPKM39",
          "TVES16",
          "CESM35",
          "TPGM27",
          "YXYQ95",
          "CEOO43",
          "KZZQ98",
          "PRWK29",
          "BBKQ34",
          "EYPB50",
          "ZGTX94",
          "BCFH57",
          "KIMD35",
          "RCIC42",
          "OBZB10",
          "KKQO33",
          "WBTA61",
          "LOPU85",
          "HHLN28",
          "JQEY56",
          "CVNQ54",
          "NHPX81",
          "YHPZ35",
          "SJSW50",
          "PUYD31",
          "OBCB27",
          "WRBU48",
          "EWSG56",
          "UKYN79",
          "VFJJ76",
          "SVUD33",
          "TYAV95",
          "AKOX72",
          "QNXR94",
          "HYWJ10",
          "UBCO49",
          "RKUO87",
          "WWVY42",
          "XRAU69",
          "MSRJ79",
          "FLOW15",
          "IIQP50",
          "METU64",
          "TRXT43",
          "HFET39",
          "AIAH82",
          "CUVB41",
          "TNVG32",
          "DSVE57",
          "IZSF69",
          "TRUX86",
          "YRPB60"
         ],
         "xaxis": "x2",
         "y": [
          9.416666666666666,
          9.416666666666666,
          9.416666666666666,
          9.416666666666666,
          9.416666666666666,
          9.416666666666666,
          9.416666666666666,
          9.416666666666666,
          9.416666666666666,
          9.416666666666666,
          9.416666666666666,
          9.416666666666666,
          9.416666666666666,
          9.416666666666666,
          9.416666666666666,
          9.416666666666666,
          9.416666666666666,
          9.416666666666666,
          9.416666666666666,
          9.416666666666666,
          9.416666666666666,
          13.366666666666667,
          13.366666666666667,
          13.366666666666667,
          13.366666666666667,
          13.366666666666667,
          13.366666666666667,
          13.366666666666667,
          13.366666666666667,
          13.366666666666667,
          13.366666666666667,
          13.366666666666667,
          13.366666666666667,
          13.366666666666667,
          13.366666666666667,
          13.366666666666667,
          13.366666666666667,
          17.65,
          17.65,
          17.65,
          17.65,
          17.65,
          17.65,
          17.65,
          17.65,
          17.65,
          17.65,
          17.65,
          17.65,
          17.65,
          17.65,
          17.65,
          17.65,
          17.65,
          7.65,
          7.65,
          7.65,
          7.65,
          7.65,
          7.65,
          7.65,
          39.18333333333333,
          39.18333333333333,
          39.18333333333333,
          39.18333333333333,
          39.18333333333333,
          39.18333333333333,
          39.18333333333333,
          39.18333333333333,
          39.18333333333333,
          39.18333333333333,
          39.18333333333333,
          39.18333333333333,
          39.18333333333333,
          39.18333333333333,
          39.18333333333333,
          39.18333333333333,
          39.18333333333333,
          39.18333333333333,
          39.18333333333333,
          39.18333333333333,
          45.88333333333333,
          45.88333333333333,
          45.88333333333333,
          60.06666666666667,
          60.06666666666667,
          60.06666666666667,
          60.06666666666667,
          38.25,
          38.25,
          38.25,
          18.016666666666666,
          18.016666666666666,
          18.016666666666666,
          18.016666666666666,
          18.016666666666666,
          18.016666666666666,
          18.016666666666666,
          18.016666666666666,
          18.016666666666666,
          18.016666666666666,
          18.016666666666666,
          18.016666666666666,
          18.016666666666666,
          18.016666666666666,
          18.016666666666666,
          18.016666666666666,
          18.016666666666666,
          18.016666666666666,
          26.883333333333333,
          26.883333333333333,
          26.883333333333333,
          26.883333333333333,
          26.883333333333333,
          26.883333333333333,
          56.233333333333334,
          56.233333333333334,
          56.233333333333334,
          56.233333333333334,
          56.233333333333334,
          56.233333333333334,
          56.233333333333334,
          56.233333333333334,
          56.233333333333334,
          56.233333333333334,
          56.233333333333334,
          56.233333333333334,
          56.233333333333334,
          18.016666666666666,
          18.016666666666666,
          18.016666666666666,
          18.016666666666666,
          18.016666666666666,
          18.016666666666666,
          18.016666666666666,
          18.016666666666666,
          18.016666666666666,
          18.016666666666666,
          18.016666666666666,
          18.016666666666666,
          18.016666666666666,
          18.016666666666666,
          18.016666666666666,
          18.016666666666666,
          18.016666666666666,
          18.016666666666666,
          18.016666666666666,
          18.016666666666666,
          18.016666666666666,
          18.016666666666666,
          18.016666666666666,
          40.1,
          40.1,
          40.1,
          40.1,
          40.1,
          40.1,
          40.1,
          40.1,
          40.1,
          40.1,
          59.06666666666667,
          59.06666666666667,
          59.06666666666667,
          59.06666666666667,
          59.06666666666667,
          59.06666666666667,
          59.06666666666667,
          -2.4833333333333334,
          -2.4833333333333334,
          -2.4833333333333334,
          -2.4833333333333334,
          6.35,
          -2.4833333333333334,
          -2.4833333333333334,
          -2.4833333333333334,
          -2.4833333333333334,
          -2.4833333333333334,
          -2.4833333333333334,
          -2.4833333333333334,
          -2.4833333333333334,
          -2.4833333333333334,
          -2.4833333333333334,
          6.35,
          -2.4833333333333334,
          -2.4833333333333334,
          -2.4833333333333334,
          6.35,
          6.35,
          -2.4833333333333334,
          6.35,
          -2.4833333333333334,
          -2.4833333333333334,
          6.35,
          -2.4833333333333334,
          6.35,
          -2.4833333333333334,
          6.35,
          -2.4833333333333334,
          -2.4833333333333334,
          -2.4833333333333334,
          -2.4833333333333334,
          -2.4833333333333334,
          6.35,
          6.35,
          -2.4833333333333334,
          -2.4833333333333334,
          -2.4833333333333334,
          -2.4833333333333334,
          6.35,
          -2.4833333333333334,
          -2.4833333333333334,
          -2.4833333333333334,
          -2.4833333333333334,
          58.016666666666666,
          58.016666666666666,
          58.016666666666666,
          58.016666666666666,
          58.016666666666666,
          58.016666666666666,
          58.016666666666666,
          58.016666666666666,
          58.016666666666666,
          58.016666666666666,
          58.016666666666666,
          58.016666666666666,
          58.016666666666666,
          58.016666666666666,
          58.016666666666666,
          58.016666666666666,
          58.016666666666666,
          64.6,
          64.6,
          64.6,
          64.6,
          64.6,
          64.6,
          64.6,
          64.6,
          64.6,
          64.6,
          64.6,
          64.6,
          64.6,
          64.6,
          31.666666666666668,
          31.666666666666668,
          31.666666666666668,
          31.666666666666668,
          31.666666666666668,
          31.666666666666668,
          31.666666666666668,
          31.666666666666668,
          31.666666666666668,
          31.666666666666668,
          31.666666666666668,
          31.666666666666668,
          31.666666666666668,
          31.666666666666668,
          31.666666666666668,
          31.666666666666668,
          31.666666666666668,
          31.666666666666668,
          31.666666666666668,
          31.666666666666668,
          31.666666666666668,
          12.816666666666666,
          12.816666666666666,
          12.816666666666666,
          12.816666666666666,
          12.816666666666666,
          12.816666666666666,
          12.816666666666666,
          12.816666666666666,
          12.816666666666666,
          7.9,
          12.816666666666666,
          12.816666666666666,
          12.816666666666666,
          12.816666666666666,
          12.816666666666666,
          12.816666666666666,
          12.816666666666666,
          12.816666666666666,
          7.9,
          12.816666666666666,
          12.816666666666666,
          12.816666666666666,
          7.9,
          7.9,
          12.816666666666666,
          12.816666666666666,
          7.9,
          7.9,
          12.816666666666666,
          12.816666666666666,
          12.816666666666666,
          7.9,
          12.816666666666666,
          12.816666666666666,
          12.816666666666666,
          7.9,
          7.9,
          12.816666666666666,
          12.816666666666666,
          12.816666666666666,
          12.816666666666666,
          7.9,
          12.816666666666666,
          13.366666666666667,
          42.2,
          42.2,
          42.2,
          42.2,
          42.2,
          42.2,
          35.06666666666667,
          35.06666666666667,
          35.06666666666667,
          35.06666666666667,
          35.06666666666667,
          35.06666666666667,
          35.06666666666667,
          35.06666666666667,
          35.06666666666667,
          35.06666666666667,
          35.06666666666667,
          35.06666666666667,
          5.033333333333333,
          5.033333333333333,
          5.033333333333333,
          5.033333333333333,
          5.033333333333333,
          5.033333333333333,
          5.033333333333333,
          5.033333333333333,
          5.033333333333333,
          5.033333333333333,
          5.033333333333333,
          5.033333333333333,
          5.033333333333333,
          5.033333333333333,
          5.033333333333333,
          5.033333333333333,
          5.033333333333333,
          5.033333333333333,
          52.833333333333336,
          52.833333333333336,
          52.833333333333336,
          52.833333333333336,
          52.833333333333336,
          52.833333333333336,
          52.833333333333336,
          17.55,
          17.55,
          25.25,
          25.25,
          25.25,
          25.25,
          25.25,
          25.25,
          25.25,
          62.43333333333333,
          62.43333333333333,
          58.016666666666666,
          58.016666666666666,
          58.016666666666666,
          58.016666666666666,
          58.016666666666666,
          58.016666666666666,
          60.11666666666667,
          60.11666666666667,
          60.11666666666667,
          60.11666666666667,
          69.55,
          69.55,
          69.55,
          69.55,
          69.55,
          69.55,
          69.55,
          69.55,
          69.55,
          69.55,
          69.55,
          69.55,
          69.55,
          69.55,
          69.55,
          69.55,
          69.55,
          69.55,
          69.55,
          69.55,
          69.55,
          16.6,
          16.6,
          16.6,
          16.6,
          16.6,
          16.6,
          16.6,
          16.6,
          16.6,
          16.6,
          41.8,
          41.8,
          41.8,
          41.8,
          41.8,
          41.8,
          41.8,
          41.8,
          41.8,
          69.76666666666667,
          69.76666666666667,
          69.76666666666667,
          69.76666666666667,
          69.76666666666667,
          69.76666666666667,
          69.76666666666667,
          12.066666666666666,
          12.066666666666666,
          12.066666666666666,
          12.066666666666666,
          12.066666666666666,
          12.066666666666666,
          12.066666666666666,
          12.066666666666666,
          12.066666666666666,
          12.066666666666666,
          12.066666666666666,
          12.066666666666666,
          12.066666666666666,
          12.066666666666666,
          12.066666666666666,
          12.066666666666666,
          12.066666666666666,
          12.066666666666666,
          12.066666666666666,
          12.066666666666666,
          12.066666666666666,
          12.066666666666666,
          12.066666666666666,
          12.066666666666666,
          12.066666666666666,
          12.066666666666666,
          12.066666666666666,
          12.066666666666666,
          12.066666666666666,
          12.066666666666666,
          null,
          null,
          null,
          null,
          null,
          null,
          null,
          null,
          null,
          null,
          null,
          null,
          null,
          null,
          null,
          null,
          null,
          null,
          null,
          null,
          null,
          null,
          null,
          null,
          null,
          null,
          null,
          null,
          null,
          null,
          null,
          null,
          null,
          null,
          null,
          null,
          null,
          null,
          null,
          null,
          null,
          null,
          null
         ],
         "yaxis": "y2"
        },
        {
         "alignmentgroup": "True",
         "hovertemplate": "pnr=%{x}<br>pnr_score=%{y}<extra></extra>",
         "legendgroup": "",
         "marker": {
          "color": "green",
          "pattern": {
           "shape": ""
          }
         },
         "name": "",
         "offsetgroup": "",
         "orientation": "v",
         "showlegend": false,
         "textposition": "auto",
         "type": "bar",
         "x": [
          "WJMV67",
          "UNSF23",
          "TGXX73",
          "OGNC74",
          "ZOGF53",
          "GWNV19",
          "JGQQ52",
          "TGTE84",
          "UNYK86",
          "HAJT64",
          "ONGL32",
          "AGLB29",
          "VTNP31",
          "XSCX58",
          "NQIR91",
          "YDIV49",
          "NDWM53",
          "VRKF96",
          "YVFV40",
          "QKBU91",
          "GXUC18",
          "PFHK83",
          "HAMF65",
          "RCJP27",
          "GUKB59",
          "OYXB82",
          "JZDS61",
          "IKFF97",
          "HJMG32",
          "FBHC43",
          "TZVR85",
          "ODUR60",
          "LEJE37",
          "TIOK51",
          "EJQJ68",
          "SGDT71",
          "PPAX23",
          "ARWF60",
          "SXKC58",
          "VFLG14",
          "BENO63",
          "DUTC29",
          "LJSQ23",
          "NXVJ18",
          "VVPN34",
          "UMFN26",
          "HUSS80",
          "JAFL69",
          "HTXZ52",
          "EBBQ47",
          "XJSK78",
          "MBOQ39",
          "VFSF33",
          "ECJI31",
          "GPNU96",
          "LLDJ77",
          "CKXS65",
          "VDFF44",
          "UBHZ78",
          "TJEQ90",
          "MXUV18",
          "GXSK66",
          "OIMB80",
          "SCJT65",
          "QJLV48",
          "UKUK40",
          "ANCE37",
          "BPIA17",
          "DIKX30",
          "UWSX94",
          "FETM37",
          "MSZX21",
          "ETZY91",
          "CDWU92",
          "FMEB47",
          "GCZN99",
          "ORDB55",
          "FHGJ87",
          "RMIB10",
          "KLNK89",
          "OPTF44",
          "MEAE27",
          "FOEH31",
          "TBBM88",
          "DULQ82",
          "UCQU27",
          "NFUH97",
          "CFTY17",
          "ZYXC32",
          "LQRR20",
          "XXUJ80",
          "SETU42",
          "TBVA58",
          "GQCC71",
          "UANL74",
          "RYRI54",
          "KLPS61",
          "BLQF17",
          "YDLG96",
          "NOBW66",
          "LGSG11",
          "NNFX90",
          "MEFS34",
          "BWBC11",
          "EJGI27",
          "XKDR47",
          "VNMI75",
          "ONAJ71",
          "VGCG50",
          "CFKT22",
          "MGUS94",
          "ZXNE22",
          "WFSI48",
          "OBWW74",
          "BWLY10",
          "ZZJJ93",
          "HPCB35",
          "HWON19",
          "KQZY95",
          "JRHR53",
          "FSIF74",
          "YNPW68",
          "SAZH59",
          "HIDK34",
          "POAQ69",
          "AEKU34",
          "AXAX32",
          "BTUY63",
          "GKJN81",
          "WGUO57",
          "GZJH95",
          "TOGD18",
          "YPQV77",
          "PQKA70",
          "ZRGW22",
          "UXDE15",
          "GHFD72",
          "GCMG66",
          "BXPK37",
          "HXSA63",
          "HHXB42",
          "HBSS30",
          "HLWC88",
          "OOQU17",
          "JIZC52",
          "KCDU66",
          "BTPM40",
          "VWMU23",
          "LZNB89",
          "RSWB62",
          "NEVB63",
          "LLCM69",
          "OIEV75",
          "PBYB37",
          "STRO84",
          "NBTI23",
          "NUEC95",
          "JVZL51",
          "SUBP18",
          "IXJC94",
          "ENHP81",
          "CLLT73",
          "WETD68",
          "CNNN69",
          "CZIL98",
          "DDSN90",
          "TEKX84",
          "TVJT23",
          "XTGX73",
          "BSOA62",
          "UJQR86",
          "LDQA24",
          "CDCV79",
          "ITOY34",
          "DSFR43",
          "OIVX64",
          "BBOZ29",
          "BZSF12",
          "ARKD19",
          "BGZE20",
          "CKTX37",
          "WNYS90",
          "KAVF60",
          "RRGS45",
          "QLHD46",
          "KCJS73",
          "JVHJ26",
          "ZDKC36",
          "QUVY84",
          "CKOO43",
          "LHQF76",
          "IXYT77",
          "OJNO70",
          "UZKL22",
          "NAPT42",
          "WFMJ55",
          "CAJQ90",
          "ASEF54",
          "XDQQ87",
          "ZELQ21",
          "AXIQ57",
          "DPIN74",
          "SJTN28",
          "SBHC33",
          "DTSX26",
          "RHRA39",
          "CMXE97",
          "PAWH48",
          "VXSU87",
          "NATL70",
          "LQMR87",
          "ONGM57",
          "GYNV48",
          "JCJN49",
          "WWGP94",
          "FXHE50",
          "QMKZ57",
          "PDKO77",
          "QBVN74",
          "YFYA31",
          "VICJ80",
          "EEXO48",
          "ABJY21",
          "BMSX65",
          "ZXAG92",
          "CNPO73",
          "SKXE42",
          "NAIB34",
          "MHRH19",
          "LKOW23",
          "NVIM24",
          "HVJB92",
          "SNYI92",
          "CQIK83",
          "FKRF40",
          "FYFP65",
          "KAZA18",
          "GQHO73",
          "DXIE73",
          "ORIX85",
          "RPGC12",
          "DQCF43",
          "PQOV16",
          "KLYP49",
          "COIB65",
          "STMT31",
          "RWBR52",
          "TOIY80",
          "DUKC21",
          "TZOM47",
          "TGJW16",
          "AQNL47",
          "HEPT26",
          "QFOR80",
          "APYV63",
          "CONH42",
          "ODZN95",
          "JCQJ32",
          "UCJT38",
          "AHZG32",
          "JLNP60",
          "ARVH27",
          "TZTL99",
          "ZASK74",
          "AUOO52",
          "MVFO51",
          "WHQC27",
          "NITW35",
          "WUME37",
          "ESWL74",
          "ESKU68",
          "KLBU17",
          "ZGYQ56",
          "BFCN84",
          "LZTJ27",
          "XMCD50",
          "BCOG34",
          "FIZY56",
          "OENH79",
          "AIVN76",
          "VUKP31",
          "PPTC43",
          "YXOI63",
          "KENT99",
          "ADBU76",
          "CSVC82",
          "GVTP10",
          "UNSN60",
          "VRMJ38",
          "HEKU82",
          "ZWEK49",
          "VWYV75",
          "RFML44",
          "RMBZ73",
          "HVFK10",
          "STKH22",
          "BSXO45",
          "CYGT37",
          "CCDD14",
          "EFUM72",
          "OEOB78",
          "ULNA40",
          "HQFT40",
          "GCBX54",
          "IZWI35",
          "NNEP91",
          "LGSP81",
          "MTIH10",
          "JSTA99",
          "PTNO98",
          "CYSU36",
          "QWFD56",
          "YPGF74",
          "DLAU55",
          "BPUD35",
          "SJOG81",
          "GRYJ10",
          "UIPM64",
          "XIEJ75",
          "JCCL86",
          "NJRI89",
          "SYQS89",
          "WCTN75",
          "JBPE61",
          "DBXT38",
          "NCBF52",
          "AGTZ20",
          "EHXX65",
          "JRTJ85",
          "JTJI79",
          "CSRR51",
          "QECF46",
          "KOFM20",
          "RRMM37",
          "RXDW39",
          "PQOY36",
          "OWSQ97",
          "ALRK90",
          "RFWU14",
          "OZUT25",
          "XTBX90",
          "XOQT13",
          "NOGS81",
          "MFND91",
          "DWZZ61",
          "WBMS77",
          "IHAN83",
          "DEIG60",
          "KGVE56",
          "NTHH51",
          "ZGCS80",
          "SHRF14",
          "MWKJ36",
          "KFYE74",
          "SQMX53",
          "GTNR68",
          "KZRO57",
          "KOYD46",
          "DJJY87",
          "JBTR23",
          "XWGC34",
          "ALTR80",
          "QSIX89",
          "LTRM99",
          "BMKS78",
          "RZJE80",
          "DWNT24",
          "PLLI94",
          "XJTB90",
          "KJXK50",
          "GJMS34",
          "HLHZ81",
          "DOVL88",
          "GQLM65",
          "TQHY23",
          "LDCN15",
          "TMRV30",
          "RJRX96",
          "ITWI77",
          "YPEO71",
          "QMJU30",
          "DTAP43",
          "QTOL20",
          "ZVHT81",
          "XAWC41",
          "HUEU97",
          "QZBB18",
          "DOMX92",
          "FKBF56",
          "ISGA38",
          "DXDG12",
          "HWNQ25",
          "EMQE80",
          "ESAK35",
          "UXVV30",
          "KUSK79",
          "KQIR15",
          "MOBP10",
          "WYLK21",
          "SHCK89",
          "HAJF16",
          "YYXU14",
          "OISL18",
          "SHAV55",
          "PWNO45",
          "OQLJ54",
          "CXHN76",
          "TMGN22",
          "SXCJ47",
          "EBMN77",
          "VCWU29",
          "FLUS31",
          "UQWP71",
          "XAXK13",
          "UWNQ40",
          "CNKD39",
          "SRMH24",
          "ZALE77",
          "TLSS85",
          "URBX68",
          "SYSY62",
          "DXJH99",
          "LEJF43",
          "IGER93",
          "GWNX46",
          "UCRI68",
          "IPCJ60",
          "SJLU38",
          "YHZM86",
          "HKVE20",
          "GRKW19",
          "MTJF44",
          "ZEIO40",
          "NYHF21",
          "ZNLM43",
          "AVUP19",
          "RQIR95",
          "PDXW81",
          "SZPP27",
          "MHKY29",
          "FHLE86",
          "YNRD59",
          "OPKM39",
          "TVES16",
          "CESM35",
          "TPGM27",
          "YXYQ95",
          "CEOO43",
          "KZZQ98",
          "PRWK29",
          "BBKQ34",
          "EYPB50",
          "ZGTX94",
          "BCFH57",
          "KIMD35",
          "RCIC42",
          "OBZB10",
          "KKQO33",
          "WBTA61",
          "LOPU85",
          "HHLN28",
          "JQEY56",
          "CVNQ54",
          "NHPX81",
          "YHPZ35",
          "SJSW50",
          "PUYD31",
          "OBCB27",
          "WRBU48",
          "EWSG56",
          "UKYN79",
          "VFJJ76",
          "SVUD33",
          "TYAV95",
          "AKOX72",
          "QNXR94",
          "HYWJ10",
          "UBCO49",
          "RKUO87",
          "WWVY42",
          "XRAU69",
          "MSRJ79",
          "FLOW15",
          "IIQP50",
          "METU64",
          "TRXT43",
          "HFET39",
          "AIAH82",
          "CUVB41",
          "TNVG32",
          "DSVE57",
          "IZSF69",
          "TRUX86",
          "YRPB60"
         ],
         "xaxis": "x2",
         "y": [
          12100,
          3500,
          8000,
          8200,
          9000,
          9000,
          9000,
          2500,
          7000,
          6500,
          8700,
          6100,
          3500,
          6500,
          12600,
          3600,
          13500,
          5500,
          5600,
          6000,
          11500,
          7000,
          10000,
          11000,
          2500,
          2500,
          11100,
          16600,
          4100,
          1600,
          4000,
          2500,
          1500,
          10100,
          3500,
          3500,
          3500,
          2700,
          2000,
          3000,
          3000,
          3000,
          1500,
          1500,
          600,
          9100,
          5500,
          4500,
          3500,
          3500,
          7800,
          4500,
          4500,
          2600,
          4100,
          5100,
          2600,
          7300,
          8600,
          1600,
          3100,
          2500,
          3500,
          2600,
          4000,
          11100,
          11100,
          5000,
          10600,
          1500,
          7700,
          8000,
          5500,
          1500,
          2000,
          2000,
          2500,
          1600,
          1500,
          1500,
          3100,
          11600,
          10800,
          12600,
          6600,
          4100,
          3100,
          3600,
          3000,
          5200,
          5000,
          2500,
          9300,
          7600,
          5500,
          2500,
          4500,
          10100,
          7600,
          4500,
          3000,
          2000,
          11100,
          4000,
          4000,
          4000,
          8800,
          3000,
          4000,
          7000,
          4500,
          6700,
          2500,
          23000,
          15600,
          1000,
          8500,
          1200,
          18600,
          11500,
          4100,
          3500,
          3500,
          2200,
          10800,
          6000,
          10000,
          7500,
          7500,
          9500,
          21600,
          17300,
          16100,
          4500,
          4500,
          9500,
          11200,
          8500,
          5500,
          7500,
          7500,
          7500,
          7200,
          7000,
          10000,
          10600,
          10200,
          6000,
          6000,
          6000,
          6500,
          6000,
          6600,
          5600,
          6000,
          4100,
          600,
          7000,
          2500,
          9100,
          8700,
          11600,
          12800,
          4000,
          1600,
          7300,
          6000,
          13100,
          7600,
          1500,
          7300,
          1500,
          6000,
          9100,
          3500,
          7000,
          17000,
          1500,
          12600,
          14500,
          2500,
          1600,
          2600,
          14500,
          13000,
          7000,
          13100,
          13500,
          2500,
          15300,
          3600,
          11000,
          11000,
          4000,
          4000,
          4000,
          8000,
          12100,
          4100,
          10500,
          9600,
          4200,
          4500,
          4100,
          8600,
          4500,
          5500,
          5200,
          5000,
          5500,
          4700,
          11500,
          8500,
          5000,
          7200,
          7500,
          7000,
          7500,
          6500,
          9200,
          7500,
          15600,
          5500,
          8500,
          5000,
          7500,
          17600,
          12500,
          600,
          6000,
          11500,
          7100,
          600,
          3500,
          10600,
          4000,
          2000,
          7000,
          1500,
          2500,
          1600,
          5000,
          5000,
          3500,
          1500,
          4000,
          4000,
          19100,
          7200,
          15000,
          11100,
          3600,
          5500,
          5500,
          10600,
          9500,
          2500,
          2500,
          7000,
          15000,
          4500,
          15000,
          2500,
          6000,
          2500,
          2500,
          7000,
          2500,
          2500,
          2500,
          2500,
          2500,
          2500,
          4500,
          15100,
          8000,
          12100,
          5500,
          11000,
          2500,
          5000,
          6500,
          11100,
          5500,
          5000,
          4500,
          3500,
          9000,
          9600,
          10600,
          7700,
          3600,
          9000,
          2500,
          3500,
          3500,
          12500,
          7700,
          11800,
          13000,
          6000,
          2000,
          19500,
          7500,
          2000,
          1500,
          9100,
          1000,
          1500,
          1600,
          12500,
          8000,
          11500,
          3000,
          3100,
          10000,
          5500,
          5200,
          6000,
          4500,
          3500,
          5500,
          17000,
          10500,
          7200,
          2000,
          2000,
          2000,
          1500,
          4100,
          1500,
          1100,
          4000,
          11600,
          4000,
          2000,
          5500,
          6000,
          2000,
          8800,
          3600,
          3600,
          3500,
          11000,
          3000,
          6000,
          4000,
          4000,
          5500,
          6600,
          5000,
          6500,
          6700,
          4600,
          2100,
          4100,
          10700,
          5500,
          13100,
          9000,
          13700,
          9500,
          6100,
          4100,
          4000,
          2500,
          13100,
          4500,
          13600,
          3500,
          5200,
          9600,
          7000,
          2100,
          9500,
          10000,
          4000,
          7000,
          5000,
          6600,
          12700,
          13600,
          3600,
          6500,
          6000,
          2000,
          9700,
          1500,
          1500,
          2500,
          2500,
          7100,
          2500,
          8000,
          2000,
          5500,
          7000,
          6100,
          3500,
          14600,
          9000,
          12500,
          4500,
          9500,
          4500,
          13800,
          13600,
          6000,
          14000,
          4700,
          6200,
          15000,
          9000,
          5000,
          6000,
          1500,
          14600,
          12900,
          13600,
          9000,
          8000,
          5000,
          16000,
          6000,
          2700,
          10000,
          7600,
          3700,
          11000,
          6000,
          8200,
          1500,
          3500,
          16000,
          4000,
          15600,
          4500,
          5600,
          19100,
          9000,
          16800,
          6500,
          8000,
          11600,
          11700,
          7500,
          1500,
          1500,
          4000,
          2000,
          4000,
          3600,
          4000,
          2200,
          3600,
          12000,
          4000,
          2000,
          3500,
          4500,
          4000,
          2500,
          8500,
          5600,
          4600,
          11000,
          5700,
          1500,
          9700,
          4500,
          5000,
          2700,
          4000,
          4500,
          4500,
          4000,
          6000,
          2500,
          8600,
          6600,
          3500,
          20100,
          4500,
          1200,
          2000,
          1100,
          1100,
          1000,
          6000,
          2700,
          9100,
          600,
          5100,
          2600
         ],
         "yaxis": "y2"
        }
       ],
       "layout": {
        "annotations": [
         {
          "font": {
           "size": 16
          },
          "showarrow": false,
          "text": "Scores",
          "x": 0.5,
          "xanchor": "center",
          "xref": "paper",
          "y": 1,
          "yanchor": "bottom",
          "yref": "paper"
         },
         {
          "font": {
           "size": 16
          },
          "showarrow": false,
          "text": "PNR vs Delay",
          "x": 0.5,
          "xanchor": "center",
          "xref": "paper",
          "y": 0.6333333333333333,
          "yanchor": "bottom",
          "yref": "paper"
         },
         {
          "font": {
           "size": 16
          },
          "showarrow": false,
          "text": "Pnr Scores",
          "x": 0.5,
          "xanchor": "center",
          "xref": "paper",
          "y": 0.26666666666666666,
          "yanchor": "bottom",
          "yref": "paper"
         }
        ],
        "template": {
         "data": {
          "bar": [
           {
            "error_x": {
             "color": "#2a3f5f"
            },
            "error_y": {
             "color": "#2a3f5f"
            },
            "marker": {
             "line": {
              "color": "#E5ECF6",
              "width": 0.5
             },
             "pattern": {
              "fillmode": "overlay",
              "size": 10,
              "solidity": 0.2
             }
            },
            "type": "bar"
           }
          ],
          "barpolar": [
           {
            "marker": {
             "line": {
              "color": "#E5ECF6",
              "width": 0.5
             },
             "pattern": {
              "fillmode": "overlay",
              "size": 10,
              "solidity": 0.2
             }
            },
            "type": "barpolar"
           }
          ],
          "carpet": [
           {
            "aaxis": {
             "endlinecolor": "#2a3f5f",
             "gridcolor": "white",
             "linecolor": "white",
             "minorgridcolor": "white",
             "startlinecolor": "#2a3f5f"
            },
            "baxis": {
             "endlinecolor": "#2a3f5f",
             "gridcolor": "white",
             "linecolor": "white",
             "minorgridcolor": "white",
             "startlinecolor": "#2a3f5f"
            },
            "type": "carpet"
           }
          ],
          "choropleth": [
           {
            "colorbar": {
             "outlinewidth": 0,
             "ticks": ""
            },
            "type": "choropleth"
           }
          ],
          "contour": [
           {
            "colorbar": {
             "outlinewidth": 0,
             "ticks": ""
            },
            "colorscale": [
             [
              0,
              "#0d0887"
             ],
             [
              0.1111111111111111,
              "#46039f"
             ],
             [
              0.2222222222222222,
              "#7201a8"
             ],
             [
              0.3333333333333333,
              "#9c179e"
             ],
             [
              0.4444444444444444,
              "#bd3786"
             ],
             [
              0.5555555555555556,
              "#d8576b"
             ],
             [
              0.6666666666666666,
              "#ed7953"
             ],
             [
              0.7777777777777778,
              "#fb9f3a"
             ],
             [
              0.8888888888888888,
              "#fdca26"
             ],
             [
              1,
              "#f0f921"
             ]
            ],
            "type": "contour"
           }
          ],
          "contourcarpet": [
           {
            "colorbar": {
             "outlinewidth": 0,
             "ticks": ""
            },
            "type": "contourcarpet"
           }
          ],
          "heatmap": [
           {
            "colorbar": {
             "outlinewidth": 0,
             "ticks": ""
            },
            "colorscale": [
             [
              0,
              "#0d0887"
             ],
             [
              0.1111111111111111,
              "#46039f"
             ],
             [
              0.2222222222222222,
              "#7201a8"
             ],
             [
              0.3333333333333333,
              "#9c179e"
             ],
             [
              0.4444444444444444,
              "#bd3786"
             ],
             [
              0.5555555555555556,
              "#d8576b"
             ],
             [
              0.6666666666666666,
              "#ed7953"
             ],
             [
              0.7777777777777778,
              "#fb9f3a"
             ],
             [
              0.8888888888888888,
              "#fdca26"
             ],
             [
              1,
              "#f0f921"
             ]
            ],
            "type": "heatmap"
           }
          ],
          "heatmapgl": [
           {
            "colorbar": {
             "outlinewidth": 0,
             "ticks": ""
            },
            "colorscale": [
             [
              0,
              "#0d0887"
             ],
             [
              0.1111111111111111,
              "#46039f"
             ],
             [
              0.2222222222222222,
              "#7201a8"
             ],
             [
              0.3333333333333333,
              "#9c179e"
             ],
             [
              0.4444444444444444,
              "#bd3786"
             ],
             [
              0.5555555555555556,
              "#d8576b"
             ],
             [
              0.6666666666666666,
              "#ed7953"
             ],
             [
              0.7777777777777778,
              "#fb9f3a"
             ],
             [
              0.8888888888888888,
              "#fdca26"
             ],
             [
              1,
              "#f0f921"
             ]
            ],
            "type": "heatmapgl"
           }
          ],
          "histogram": [
           {
            "marker": {
             "pattern": {
              "fillmode": "overlay",
              "size": 10,
              "solidity": 0.2
             }
            },
            "type": "histogram"
           }
          ],
          "histogram2d": [
           {
            "colorbar": {
             "outlinewidth": 0,
             "ticks": ""
            },
            "colorscale": [
             [
              0,
              "#0d0887"
             ],
             [
              0.1111111111111111,
              "#46039f"
             ],
             [
              0.2222222222222222,
              "#7201a8"
             ],
             [
              0.3333333333333333,
              "#9c179e"
             ],
             [
              0.4444444444444444,
              "#bd3786"
             ],
             [
              0.5555555555555556,
              "#d8576b"
             ],
             [
              0.6666666666666666,
              "#ed7953"
             ],
             [
              0.7777777777777778,
              "#fb9f3a"
             ],
             [
              0.8888888888888888,
              "#fdca26"
             ],
             [
              1,
              "#f0f921"
             ]
            ],
            "type": "histogram2d"
           }
          ],
          "histogram2dcontour": [
           {
            "colorbar": {
             "outlinewidth": 0,
             "ticks": ""
            },
            "colorscale": [
             [
              0,
              "#0d0887"
             ],
             [
              0.1111111111111111,
              "#46039f"
             ],
             [
              0.2222222222222222,
              "#7201a8"
             ],
             [
              0.3333333333333333,
              "#9c179e"
             ],
             [
              0.4444444444444444,
              "#bd3786"
             ],
             [
              0.5555555555555556,
              "#d8576b"
             ],
             [
              0.6666666666666666,
              "#ed7953"
             ],
             [
              0.7777777777777778,
              "#fb9f3a"
             ],
             [
              0.8888888888888888,
              "#fdca26"
             ],
             [
              1,
              "#f0f921"
             ]
            ],
            "type": "histogram2dcontour"
           }
          ],
          "mesh3d": [
           {
            "colorbar": {
             "outlinewidth": 0,
             "ticks": ""
            },
            "type": "mesh3d"
           }
          ],
          "parcoords": [
           {
            "line": {
             "colorbar": {
              "outlinewidth": 0,
              "ticks": ""
             }
            },
            "type": "parcoords"
           }
          ],
          "pie": [
           {
            "automargin": true,
            "type": "pie"
           }
          ],
          "scatter": [
           {
            "fillpattern": {
             "fillmode": "overlay",
             "size": 10,
             "solidity": 0.2
            },
            "type": "scatter"
           }
          ],
          "scatter3d": [
           {
            "line": {
             "colorbar": {
              "outlinewidth": 0,
              "ticks": ""
             }
            },
            "marker": {
             "colorbar": {
              "outlinewidth": 0,
              "ticks": ""
             }
            },
            "type": "scatter3d"
           }
          ],
          "scattercarpet": [
           {
            "marker": {
             "colorbar": {
              "outlinewidth": 0,
              "ticks": ""
             }
            },
            "type": "scattercarpet"
           }
          ],
          "scattergeo": [
           {
            "marker": {
             "colorbar": {
              "outlinewidth": 0,
              "ticks": ""
             }
            },
            "type": "scattergeo"
           }
          ],
          "scattergl": [
           {
            "marker": {
             "colorbar": {
              "outlinewidth": 0,
              "ticks": ""
             }
            },
            "type": "scattergl"
           }
          ],
          "scattermapbox": [
           {
            "marker": {
             "colorbar": {
              "outlinewidth": 0,
              "ticks": ""
             }
            },
            "type": "scattermapbox"
           }
          ],
          "scatterpolar": [
           {
            "marker": {
             "colorbar": {
              "outlinewidth": 0,
              "ticks": ""
             }
            },
            "type": "scatterpolar"
           }
          ],
          "scatterpolargl": [
           {
            "marker": {
             "colorbar": {
              "outlinewidth": 0,
              "ticks": ""
             }
            },
            "type": "scatterpolargl"
           }
          ],
          "scatterternary": [
           {
            "marker": {
             "colorbar": {
              "outlinewidth": 0,
              "ticks": ""
             }
            },
            "type": "scatterternary"
           }
          ],
          "surface": [
           {
            "colorbar": {
             "outlinewidth": 0,
             "ticks": ""
            },
            "colorscale": [
             [
              0,
              "#0d0887"
             ],
             [
              0.1111111111111111,
              "#46039f"
             ],
             [
              0.2222222222222222,
              "#7201a8"
             ],
             [
              0.3333333333333333,
              "#9c179e"
             ],
             [
              0.4444444444444444,
              "#bd3786"
             ],
             [
              0.5555555555555556,
              "#d8576b"
             ],
             [
              0.6666666666666666,
              "#ed7953"
             ],
             [
              0.7777777777777778,
              "#fb9f3a"
             ],
             [
              0.8888888888888888,
              "#fdca26"
             ],
             [
              1,
              "#f0f921"
             ]
            ],
            "type": "surface"
           }
          ],
          "table": [
           {
            "cells": {
             "fill": {
              "color": "#EBF0F8"
             },
             "line": {
              "color": "white"
             }
            },
            "header": {
             "fill": {
              "color": "#C8D4E3"
             },
             "line": {
              "color": "white"
             }
            },
            "type": "table"
           }
          ]
         },
         "layout": {
          "annotationdefaults": {
           "arrowcolor": "#2a3f5f",
           "arrowhead": 0,
           "arrowwidth": 1
          },
          "autotypenumbers": "strict",
          "coloraxis": {
           "colorbar": {
            "outlinewidth": 0,
            "ticks": ""
           }
          },
          "colorscale": {
           "diverging": [
            [
             0,
             "#8e0152"
            ],
            [
             0.1,
             "#c51b7d"
            ],
            [
             0.2,
             "#de77ae"
            ],
            [
             0.3,
             "#f1b6da"
            ],
            [
             0.4,
             "#fde0ef"
            ],
            [
             0.5,
             "#f7f7f7"
            ],
            [
             0.6,
             "#e6f5d0"
            ],
            [
             0.7,
             "#b8e186"
            ],
            [
             0.8,
             "#7fbc41"
            ],
            [
             0.9,
             "#4d9221"
            ],
            [
             1,
             "#276419"
            ]
           ],
           "sequential": [
            [
             0,
             "#0d0887"
            ],
            [
             0.1111111111111111,
             "#46039f"
            ],
            [
             0.2222222222222222,
             "#7201a8"
            ],
            [
             0.3333333333333333,
             "#9c179e"
            ],
            [
             0.4444444444444444,
             "#bd3786"
            ],
            [
             0.5555555555555556,
             "#d8576b"
            ],
            [
             0.6666666666666666,
             "#ed7953"
            ],
            [
             0.7777777777777778,
             "#fb9f3a"
            ],
            [
             0.8888888888888888,
             "#fdca26"
            ],
            [
             1,
             "#f0f921"
            ]
           ],
           "sequentialminus": [
            [
             0,
             "#0d0887"
            ],
            [
             0.1111111111111111,
             "#46039f"
            ],
            [
             0.2222222222222222,
             "#7201a8"
            ],
            [
             0.3333333333333333,
             "#9c179e"
            ],
            [
             0.4444444444444444,
             "#bd3786"
            ],
            [
             0.5555555555555556,
             "#d8576b"
            ],
            [
             0.6666666666666666,
             "#ed7953"
            ],
            [
             0.7777777777777778,
             "#fb9f3a"
            ],
            [
             0.8888888888888888,
             "#fdca26"
            ],
            [
             1,
             "#f0f921"
            ]
           ]
          },
          "colorway": [
           "#636efa",
           "#EF553B",
           "#00cc96",
           "#ab63fa",
           "#FFA15A",
           "#19d3f3",
           "#FF6692",
           "#B6E880",
           "#FF97FF",
           "#FECB52"
          ],
          "font": {
           "color": "#2a3f5f"
          },
          "geo": {
           "bgcolor": "white",
           "lakecolor": "white",
           "landcolor": "#E5ECF6",
           "showlakes": true,
           "showland": true,
           "subunitcolor": "white"
          },
          "hoverlabel": {
           "align": "left"
          },
          "hovermode": "closest",
          "mapbox": {
           "style": "light"
          },
          "paper_bgcolor": "white",
          "plot_bgcolor": "#E5ECF6",
          "polar": {
           "angularaxis": {
            "gridcolor": "white",
            "linecolor": "white",
            "ticks": ""
           },
           "bgcolor": "#E5ECF6",
           "radialaxis": {
            "gridcolor": "white",
            "linecolor": "white",
            "ticks": ""
           }
          },
          "scene": {
           "xaxis": {
            "backgroundcolor": "#E5ECF6",
            "gridcolor": "white",
            "gridwidth": 2,
            "linecolor": "white",
            "showbackground": true,
            "ticks": "",
            "zerolinecolor": "white"
           },
           "yaxis": {
            "backgroundcolor": "#E5ECF6",
            "gridcolor": "white",
            "gridwidth": 2,
            "linecolor": "white",
            "showbackground": true,
            "ticks": "",
            "zerolinecolor": "white"
           },
           "zaxis": {
            "backgroundcolor": "#E5ECF6",
            "gridcolor": "white",
            "gridwidth": 2,
            "linecolor": "white",
            "showbackground": true,
            "ticks": "",
            "zerolinecolor": "white"
           }
          },
          "shapedefaults": {
           "line": {
            "color": "#2a3f5f"
           }
          },
          "ternary": {
           "aaxis": {
            "gridcolor": "white",
            "linecolor": "white",
            "ticks": ""
           },
           "baxis": {
            "gridcolor": "white",
            "linecolor": "white",
            "ticks": ""
           },
           "bgcolor": "#E5ECF6",
           "caxis": {
            "gridcolor": "white",
            "linecolor": "white",
            "ticks": ""
           }
          },
          "title": {
           "x": 0.05
          },
          "xaxis": {
           "automargin": true,
           "gridcolor": "white",
           "linecolor": "white",
           "ticks": "",
           "title": {
            "standoff": 15
           },
           "zerolinecolor": "white",
           "zerolinewidth": 2
          },
          "yaxis": {
           "automargin": true,
           "gridcolor": "white",
           "linecolor": "white",
           "ticks": "",
           "title": {
            "standoff": 15
           },
           "zerolinecolor": "white",
           "zerolinewidth": 2
          }
         }
        },
        "xaxis": {
         "anchor": "y",
         "domain": [
          0,
          1
         ],
         "matches": "x3",
         "showticklabels": false
        },
        "xaxis2": {
         "anchor": "y2",
         "domain": [
          0,
          1
         ],
         "matches": "x3",
         "showticklabels": false
        },
        "xaxis3": {
         "anchor": "y3",
         "domain": [
          0,
          1
         ]
        },
        "yaxis": {
         "anchor": "x",
         "domain": [
          0.7333333333333334,
          1
         ]
        },
        "yaxis2": {
         "anchor": "x2",
         "domain": [
          0.3666666666666667,
          0.6333333333333333
         ]
        },
        "yaxis3": {
         "anchor": "x3",
         "domain": [
          0,
          0.26666666666666666
         ]
        }
       }
      }
     },
     "metadata": {},
     "output_type": "display_data"
    }
   ],
   "source": [
    "#Pnr vs delay\n",
    "# Create a scatter plot for PNR vs delay\n",
    "df.sort_values(by=['allocated_flights_score'], inplace=True)\n",
    "df['canclled_flight_arrival'] = pd.to_datetime(df['canclled_flight_arrival'])\n",
    "df['allocated_flights_arrival'] = pd.to_datetime(df['allocated_flights_arrival'])\n",
    "\n",
    "# Calculate the delay\n",
    "df['delay'] = (df['allocated_flights_arrival'] - df['canclled_flight_arrival']).dt.total_seconds() / 3600\n",
    "\n",
    "# Create a scatter plot for PNR vs delay\n",
    "fig = make_subplots(rows=3, cols=1, shared_xaxes=True, vertical_spacing=0.1, subplot_titles=[\"Scores\", \"PNR vs Delay\", \"Pnr Scores\"])\n",
    "\n",
    "# Plot PNR Scores\n",
    "fig.add_trace(\n",
    "    px.bar(df, x=\"pnr\", y=\"allocated_flights_score\").update_traces(marker_color='blue').data[0],\n",
    "    row=1, col=1\n",
    ")\n",
    "\n",
    "# Plot PNR vs Delay\n",
    "fig.add_trace(\n",
    "    px.scatter(df, x='pnr', y='delay').data[0],\n",
    "    row=1, col=1\n",
    ")\n",
    "\n",
    "fig.add_trace(\n",
    "    px.scatter(df, x='pnr', y='delay').data[0],\n",
    "    row=2, col=1\n",
    ")\n",
    "\n",
    "fig.add_trace(\n",
    "    px.bar(df, x=\"pnr\", y=\"pnr_score\").update_traces(marker_color='green').data[0],\n",
    "    row=2, col=1\n",
    ")\n",
    "\n",
    "# Calculate and print the mean delay\n",
    "mean_delay = df['delay'].mean()\n",
    "print(f'Mean Delay: {mean_delay} hours, std_dev: {df[\"delay\"].std()}')\n",
    "\n",
    "# Show the plot\n",
    "fig.show()"
   ]
  },
  {
   "cell_type": "code",
   "execution_count": null,
   "metadata": {},
   "outputs": [],
   "source": []
  },
  {
   "cell_type": "code",
   "execution_count": null,
   "metadata": {},
   "outputs": [],
   "source": []
  }
 ],
 "metadata": {
  "kernelspec": {
   "display_name": "base",
   "language": "python",
   "name": "python3"
  },
  "language_info": {
   "codemirror_mode": {
    "name": "ipython",
    "version": 3
   },
   "file_extension": ".py",
   "mimetype": "text/x-python",
   "name": "python",
   "nbconvert_exporter": "python",
   "pygments_lexer": "ipython3",
   "version": "3.11.4"
  }
 },
 "nbformat": 4,
 "nbformat_minor": 2
}
