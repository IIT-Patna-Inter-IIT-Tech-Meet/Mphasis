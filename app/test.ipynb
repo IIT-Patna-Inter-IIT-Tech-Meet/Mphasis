{
 "cells": [
  {
   "cell_type": "code",
   "execution_count": 2,
   "metadata": {},
   "outputs": [],
   "source": [
    "# import matplotlib.pyplot as plt\n",
    "\n",
    "# # Assuming you have the following dictionaries\n",
    "# pnr_flight_dict = {123: 'F123', 456: 'F456', 789: 'F789', 987: 'F987'}\n",
    "# pnr_score_dict = {123: 90, 456: 80, 789: 95, 987: 70}\n",
    "# rescheduling_score_dict = {(123, 'F123'): 10, (456, 'F456'): 5, (789, 'F789'): 15, (987, 'F987'): 8}\n",
    "\n",
    "# # Sort the PNRS by scores\n",
    "# sorted_pnrs = sorted(pnr_score_dict.keys(), key=lambda x: pnr_score_dict[x], reverse=True)\n",
    "\n",
    "# # Extract flight IDs and scores for each PNR\n",
    "# flight_ids = [pnr_flight_dict[pnr] for pnr in sorted_pnrs]\n",
    "# scores = [pnr_score_dict[pnr] for pnr in sorted_pnrs]\n",
    "\n",
    "# # Plotting\n",
    "# fig, ax = plt.subplots(figsize=(10, 6))\n",
    "# bar_width = 0.35\n",
    "# index = range(len(sorted_pnrs))\n",
    "\n",
    "# # Plotting the scores\n",
    "# bars1 = ax.bar(index, scores, bar_width, label='Original Score')\n",
    "\n",
    "# # Plotting the rescheduling scores as a line plot\n",
    "# rescheduling_scores = [rescheduling_score_dict[(pnr, pnr_flight_dict[pnr])] for pnr in sorted_pnrs]\n",
    "# line = ax.plot(index, rescheduling_scores, label='Rescheduling Score', marker='o', color='red')\n",
    "\n",
    "# # Adding labels and title\n",
    "# ax.set_xlabel('PNR')\n",
    "# ax.set_ylabel('Score')\n",
    "# ax.set_title('PNRs with High Scores and Rescheduling Scores')\n",
    "# ax.set_xticks(index)\n",
    "# ax.set_xticklabels(sorted_pnrs)\n",
    "# ax.legend()\n",
    "\n",
    "# # Adding flight IDs as text on top of bars\n",
    "# for i, score in enumerate(scores):\n",
    "#     ax.text(i, score + 1, pnr_flight_dict[sorted_pnrs[i]], ha='center')\n",
    "\n",
    "# # Display the plot\n",
    "# plt.tight_layout()\n",
    "# plt.show()"
   ]
  },
  {
   "cell_type": "code",
   "execution_count": 5,
   "metadata": {},
   "outputs": [],
   "source": [
    "# import plotly.graph_objects as go\n",
    "\n",
    "# # Assuming you have the following dictionaries\n",
    "# pnr_flight_dict = {123: 'F123', 456: 'F456', 789: 'F789', 987: 'F987'}\n",
    "# pnr_score_dict = {123: 90, 456: 80, 789: 95, 987: 70}\n",
    "# rescheduling_score_dict = {(123, 'F123'): 10, (456, 'F456'): 5, (789, 'F789'): 15, (987, 'F987'): 8}\n",
    "\n",
    "# # Sort the PNRS by scores\n",
    "# sorted_pnrs = sorted(pnr_score_dict.keys(), key=lambda x: pnr_score_dict[x], reverse=True)\n",
    "\n",
    "# # Extract flight IDs and scores for each PNR\n",
    "# flight_ids = [pnr_flight_dict[pnr] for pnr in sorted_pnrs]\n",
    "# original_scores = [pnr_score_dict[pnr] for pnr in sorted_pnrs]\n",
    "# rescheduling_scores = [rescheduling_score_dict[(pnr, pnr_flight_dict[pnr])] for pnr in sorted_pnrs]\n",
    "\n",
    "# # Create a bar chart\n",
    "# fig = go.Figure()\n",
    "\n",
    "# # Bar chart for original scores\n",
    "# fig.add_trace(go.Bar(x=sorted_pnrs, y=original_scores, name='Original Score'))\n",
    "\n",
    "# # Line chart for rescheduling scores\n",
    "# fig.add_trace(go.Scatter(x=sorted_pnrs, y=rescheduling_scores, mode='lines+markers', name='Rescheduling Score', line=dict(color='red')))\n",
    "\n",
    "# # Layout customization\n",
    "# fig.update_layout(\n",
    "#     xaxis=dict(title='PNR'),\n",
    "#     yaxis=dict(title='Score'),\n",
    "#     title='PNRs with High Scores and Rescheduling Scores',\n",
    "#     barmode='group'\n",
    "# )\n",
    "\n",
    "# # Display the plot\n",
    "# fig.show()\n"
   ]
  },
  {
   "cell_type": "code",
   "execution_count": 6,
   "metadata": {},
   "outputs": [],
   "source": [
    "### TEST PLOTS\n",
    "import plotly.graph_objects as go\n",
    "from plotly.subplots import make_subplots\n",
    "import plotly.express as px\n",
    "import pandas as pd"
   ]
  },
  {
   "cell_type": "code",
   "execution_count": 7,
   "metadata": {},
   "outputs": [
    {
     "name": "stdout",
     "output_type": "stream",
     "text": [
      "Index(['pnr', 'pnr_score', 'canclled_flight', 'canclled_class',\n",
      "       'canclled_flight_departure', 'canclled_flight_arrival', 'canclled_src',\n",
      "       'canclled_dst', 'allocated_src', 'allocated_dst', 'allocated_flights',\n",
      "       'allocated_flights_departure', 'allocated_flights_arrival',\n",
      "       'allocated_classes', 'allocated_flights_score'],\n",
      "      dtype='object')\n"
     ]
    }
   ],
   "source": [
    "df = pd.read_csv('result.csv')\n",
    "print(df.keys()) "
   ]
  },
  {
   "cell_type": "code",
   "execution_count": 8,
   "metadata": {},
   "outputs": [
    {
     "name": "stdout",
     "output_type": "stream",
     "text": [
      "6497.570850202429 4194.77533747481\n"
     ]
    }
   ],
   "source": [
    "# plot for pnr_score distribution of cancelled flights-pnrs\n",
    "mean_score = df[\"pnr_score\"].mean()\n",
    "std_dev_score = df[\"pnr_score\"].std()\n",
    "fig = px.bar(\n",
    "    df, x=\"pnr\", y=\"pnr_score\", title=\"PNR Scores\", labels={\"pnr_score\": \"PNR Score\"}\n",
    ")\n",
    "# Add mean and standard deviation annotations\n",
    "fig.add_shape(\n",
    "    type=\"line\",\n",
    "    x0=-0.5,\n",
    "    x1=len(df) - 0.5,\n",
    "    y0=mean_score,\n",
    "    y1=mean_score,\n",
    "    line=dict(color=\"red\", width=2),\n",
    "    name=\"Mean\",\n",
    ")\n",
    "# Show the chart\n",
    "print(mean_score, std_dev_score)\n",
    "# fig.show()"
   ]
  },
  {
   "cell_type": "code",
   "execution_count": 9,
   "metadata": {},
   "outputs": [],
   "source": [
    "# plot for class distribution for cancelled flights\n",
    "fig = px.pie(df, names='allocated_classes', title='Class Distribution for All PNRS')\n",
    "\n",
    "# plot for class distribution for cancelled flights\n",
    "fig2 = px.pie(df, names='canclled_class', title='Class Distribution for Cancelled PNRS')\n",
    "# fig.show()\n",
    "# fig2.show()\n",
    "\n"
   ]
  },
  {
   "cell_type": "code",
   "execution_count": 10,
   "metadata": {},
   "outputs": [
    {
     "name": "stdout",
     "output_type": "stream",
     "text": [
      "Mean Delay: 27.613747228381374 hours, std_dev: 21.943406489684325\n"
     ]
    }
   ],
   "source": [
    "#Pnr vs delay\n",
    "# Create a scatter plot for PNR vs delay\n",
    "df.sort_values(by=['allocated_flights_score'], inplace=True)\n",
    "df['canclled_flight_arrival'] = pd.to_datetime(df['canclled_flight_arrival'])\n",
    "df['allocated_flights_arrival'] = pd.to_datetime(df['allocated_flights_arrival'])\n",
    "\n",
    "# Calculate the delay\n",
    "df['delay'] = (df['allocated_flights_arrival'] - df['canclled_flight_arrival']).dt.total_seconds() / 3600\n",
    "\n",
    "# Create a scatter plot for PNR vs delay\n",
    "fig = make_subplots(rows=3, cols=1, shared_xaxes=True, vertical_spacing=0.1, subplot_titles=[\"Scores\", \"PNR vs Delay\", \"Pnr Scores\"])\n",
    "\n",
    "# Plot PNR Scores\n",
    "fig.add_trace(\n",
    "    px.bar(df, x=\"pnr\", y=\"allocated_flights_score\").update_traces(marker_color='blue').data[0],\n",
    "    row=1, col=1\n",
    ")\n",
    "\n",
    "# Plot PNR vs Delay\n",
    "fig.add_trace(\n",
    "    px.scatter(df, x='pnr', y='delay').data[0],\n",
    "    row=1, col=1\n",
    ")\n",
    "\n",
    "fig.add_trace(\n",
    "    px.scatter(df, x='pnr', y='delay').data[0],\n",
    "    row=2, col=1\n",
    ")\n",
    "\n",
    "fig.add_trace(\n",
    "    px.bar(df, x=\"pnr\", y=\"pnr_score\").update_traces(marker_color='green').data[0],\n",
    "    row=2, col=1\n",
    ")\n",
    "\n",
    "# Calculate and print the mean delay\n",
    "mean_delay = df['delay'].mean()\n",
    "print(f'Mean Delay: {mean_delay} hours, std_dev: {df[\"delay\"].std()}')\n",
    "\n",
    "# Show the plot\n",
    "# fig.show()"
   ]
  },
  {
   "cell_type": "code",
   "execution_count": null,
   "metadata": {},
   "outputs": [],
   "source": []
  },
  {
   "cell_type": "code",
   "execution_count": null,
   "metadata": {},
   "outputs": [],
   "source": []
  }
 ],
 "metadata": {
  "kernelspec": {
   "display_name": "base",
   "language": "python",
   "name": "python3"
  },
  "language_info": {
   "codemirror_mode": {
    "name": "ipython",
    "version": 3
   },
   "file_extension": ".py",
   "mimetype": "text/x-python",
   "name": "python",
   "nbconvert_exporter": "python",
   "pygments_lexer": "ipython3",
   "version": "3.11.4"
  }
 },
 "nbformat": 4,
 "nbformat_minor": 2
}
