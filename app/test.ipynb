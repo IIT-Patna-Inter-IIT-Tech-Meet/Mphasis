{
 "cells": [
  {
   "cell_type": "code",
   "execution_count": 91,
   "metadata": {},
   "outputs": [],
   "source": [
    "### TEST PLOTS\n",
    "import ast\n",
    "import plotly.graph_objects as go\n",
    "from plotly.subplots import make_subplots\n",
    "import plotly.express as px\n",
    "import pandas as pd\n",
    "DIVIDER = \"----------------\""
   ]
  },
  {
   "cell_type": "code",
   "execution_count": 92,
   "metadata": {},
   "outputs": [
    {
     "name": "stdout",
     "output_type": "stream",
     "text": [
      "Index(['pnr', 'pnr_score', 'canclled_flight', 'canclled_class',\n",
      "       'canclled_flight_departure', 'canclled_flight_arrival', 'canclled_src',\n",
      "       'canclled_dst', 'allocated_src', 'allocated_dst', 'allocated_flights',\n",
      "       'allocated_flights_departure', 'allocated_flights_arrival',\n",
      "       'allocated_classes', 'allocated_flights_score'],\n",
      "      dtype='object')\n"
     ]
    }
   ],
   "source": [
    "df = pd.read_csv('result.csv')\n",
    "print(df.keys()) "
   ]
  },
  {
   "cell_type": "code",
   "execution_count": 93,
   "metadata": {},
   "outputs": [
    {
     "name": "stdout",
     "output_type": "stream",
     "text": [
      "PNR Score Stats\n",
      "Mean PNR Score:  6497.570850202429\n",
      "Std Dev. PNR Score:  4194.77533747481\n",
      "Max PNR Score:  23000\n",
      "Min PNR Score:  600\n",
      "----------------\n",
      "PNR-FLIGHT Score Stats\n",
      "Mean PNR-FLIGHT Score:  4415266.523778264\n",
      "Std Dev. PNR-FLIGHT Score:  52671444.08835817\n",
      "Max PNR-FLIGHT Score:  677419578.9808147\n",
      "Min PNR-FLIGHT Score:  -1.0\n",
      "----------------\n",
      "Allocation Stats\n",
      "Total pnr:  494\n",
      "Total allocated pnr:  459\n",
      "Total unallocated pnr:  35\n",
      "----------------\n",
      "Connection Stats\n",
      "Unallocated :  35\n",
      "Direct :  227\n",
      "One Stop :  203\n",
      "Two Stop :  29\n",
      "----------------\n",
      "Cancelled Flight Level Stats\n",
      "Total Cancelled Flights:  22\n",
      "Flight id\tTotal PNR\tReAllocated PNR\tUnallocated PNR\tUpgraded PNR\tSameState PNR\tDowngraded PNR\tDefault Flight\tDefault Allocation\n",
      "INV-ZZ-6373982\t16\t16\t0\t3\t13\t0\t('INV-ZZ-3660618',)\t10\n",
      "INV-ZZ-4196566\t43\t43\t0\t11\t32\t0\t('INV-ZZ-7997438', 'INV-ZZ-6361763')\t23\n",
      "INV-ZZ-6409985\t19\t0\t19\t0\t0\t0\tNone\t0\n",
      "INV-ZZ-6506967\t10\t10\t0\t0\t10\t0\t('INV-ZZ-1733836',)\t10\n",
      "INV-ZZ-9364354\t38\t38\t0\t13\t22\t3\t('INV-ZZ-7773574', 'INV-ZZ-5825805')\t26\n",
      "INV-ZZ-7247164\t34\t34\t0\t5\t29\t0\t('INV-ZZ-7245933', 'INV-ZZ-3012347')\t34\n",
      "INV-ZZ-9793305\t14\t14\t0\t5\t8\t1\t('INV-ZZ-9399965',)\t11\n",
      "INV-ZZ-8272529\t29\t29\t0\t3\t24\t2\t('INV-ZZ-8552205', 'INV-ZZ-6627057')\t16\n",
      "INV-ZZ-7884463\t35\t35\t0\t0\t35\t0\t('INV-ZZ-1203243',)\t35\n",
      "INV-ZZ-6468190\t24\t24\t0\t11\t12\t1\t('INV-ZZ-7119200', 'INV-ZZ-9385836')\t24\n",
      "INV-ZZ-3975371\t16\t16\t0\t0\t16\t0\t('INV-ZZ-2629788',)\t16\n",
      "INV-ZZ-8347065\t37\t37\t0\t4\t33\t0\t('INV-ZZ-1548562',)\t37\n",
      "INV-ZZ-9570629\t26\t26\t0\t0\t26\t0\t('INV-ZZ-5898356',)\t22\n",
      "INV-ZZ-6556886\t32\t32\t0\t9\t23\t0\t('INV-ZZ-5651881',)\t19\n",
      "INV-ZZ-8532545\t14\t14\t0\t5\t7\t2\t('INV-ZZ-6079233', 'INV-ZZ-6237431', 'INV-ZZ-4902419')\t11\n",
      "INV-ZZ-7763907\t11\t11\t0\t0\t11\t0\t('INV-ZZ-9006817',)\t11\n",
      "INV-ZZ-9698120\t27\t27\t0\t2\t23\t2\t('INV-ZZ-7932424', 'INV-ZZ-9262196')\t19\n",
      "INV-ZZ-3156289\t29\t19\t10\t4\t13\t2\t('INV-ZZ-2006385', 'INV-ZZ-5961863')\t19\n",
      "INV-ZZ-9177284\t21\t21\t0\t0\t21\t0\t('INV-ZZ-3596376',)\t21\n",
      "INV-ZZ-9915874\t6\t6\t0\t0\t6\t0\t('INV-ZZ-2853561', 'INV-ZZ-1769110', 'INV-ZZ-2170213')\t6\n",
      "INV-ZZ-5183618\t6\t0\t6\t0\t0\t0\tNone\t0\n",
      "INV-ZZ-5476649\t7\t7\t0\t0\t7\t0\t('INV-ZZ-7155362',)\t7\n"
     ]
    }
   ],
   "source": [
    "## STATIC REPOPRT\n",
    "mean_score = df[\"pnr_score\"].mean()\n",
    "std_dev_score = df[\"pnr_score\"].std()\n",
    "print(\"PNR Score Stats\")\n",
    "print(\"Mean PNR Score: \", mean_score)\n",
    "print(\"Std Dev. PNR Score: \", std_dev_score)\n",
    "print(\"Max PNR Score: \", df[\"pnr_score\"].max())\n",
    "print(\"Min PNR Score: \", df[\"pnr_score\"].min())\n",
    "print(DIVIDER)\n",
    "\n",
    "mean_score = df[\"allocated_flights_score\"].mean()\n",
    "std_dev_score = df[\"allocated_flights_score\"].std()\n",
    "print(\"PNR-FLIGHT Score Stats\")\n",
    "print(\"Mean PNR-FLIGHT Score: \", mean_score)\n",
    "print(\"Std Dev. PNR-FLIGHT Score: \", std_dev_score)\n",
    "print(\"Max PNR-FLIGHT Score: \", df[\"allocated_flights_score\"].max())\n",
    "print(\"Min PNR-FLIGHT Score: \", df[\"allocated_flights_score\"].min())\n",
    "print(DIVIDER)\n",
    "\n",
    "print(\"Allocation Stats\")\n",
    "total = df[\"pnr\"].count()\n",
    "allocated = df[\"allocated_src\"].count()\n",
    "print(\"Total pnr: \", total)\n",
    "print(\"Total allocated pnr: \", allocated)\n",
    "print(\"Total unallocated pnr: \", total - allocated)\n",
    "\n",
    "print(DIVIDER)\n",
    "print(\"Connection Stats\")\n",
    "\n",
    "conn = [0, 0, 0, 0]\n",
    "for x in df[\"allocated_flights\"]:\n",
    "    # laod to a list\n",
    "    x = ast.literal_eval(x)\n",
    "    conn[len(x)] += 1\n",
    "\n",
    "print(\"Unallocated : \", conn[0])\n",
    "print(\"Direct : \", conn[1])\n",
    "print(\"One Stop : \", conn[2])\n",
    "print(\"Two Stop : \", conn[3])\n",
    "\n",
    "print(DIVIDER)\n",
    "class_map = {\"F\": 0, \"B\": 1, \"P\": 2, \"E\": 3}\n",
    "flight_stats = {}\n",
    "for _, row in df.iterrows():\n",
    "    r_flight = ast.literal_eval(row[\"canclled_flight\"])[0]\n",
    "    if r_flight not in flight_stats:\n",
    "        flight_stats[r_flight] = {\n",
    "            \"total_pnr\": 0,\n",
    "            \"allocated_pnr\": 0,\n",
    "            \"unallocated_pnr\": 0,\n",
    "            \"upgraded_pnr\": 0,\n",
    "            \"samestate_pnr\": 0,\n",
    "            \"downgraded_pnr\": 0,\n",
    "            \"allocated_flight\": {},\n",
    "            \"default_flight\": None,\n",
    "            \"default_allocation\": 0\n",
    "        }\n",
    "\n",
    "    flight_stats[r_flight][\"total_pnr\"] += 1\n",
    "    if type(row[\"allocated_src\"]) == str:\n",
    "        flight_stats[r_flight][\"allocated_pnr\"] += 1\n",
    "    else:\n",
    "        flight_stats[r_flight][\"unallocated_pnr\"] += 1\n",
    "\n",
    "\n",
    "    if type(row[\"allocated_src\"]) == str:\n",
    "        r_class_score = float(class_map[row[\"canclled_class\"]])\n",
    "        a_class_score = sum([class_map[x] for x in ast.literal_eval(row[\"allocated_classes\"])]) / max(\n",
    "            len(ast.literal_eval(row[\"allocated_classes\"])), 1\n",
    "        )\n",
    "        # print(r_class_score, a_class_score, row[\"canclled_class\"], ast.literal_eval(row[\"allocated_classes\"]))\n",
    "        if r_class_score > a_class_score:\n",
    "            flight_stats[r_flight][\"upgraded_pnr\"] += 1\n",
    "        elif r_class_score < a_class_score:\n",
    "            flight_stats[r_flight][\"downgraded_pnr\"] += 1\n",
    "        else:\n",
    "            flight_stats[r_flight][\"samestate_pnr\"] += 1\n",
    "\n",
    "        k = tuple(ast.literal_eval(row[\"allocated_flights\"]))\n",
    "        if flight_stats[r_flight][\"allocated_flight\"].get(k) is None:\n",
    "            flight_stats[r_flight][\"allocated_flight\"][k] = 0\n",
    "        flight_stats[r_flight][\"allocated_flight\"][k] += 1\n",
    "\n",
    "for flight, details in flight_stats.items():\n",
    "    max_count = 0\n",
    "    max_flight = None\n",
    "    for k, v in details[\"allocated_flight\"].items():\n",
    "        if v > max_count:\n",
    "            max_count = v\n",
    "            max_flight = k\n",
    "    flight_stats[flight][\"default_flight\"] = max_flight\n",
    "    flight_stats[flight][\"default_allocation\"] = max_count\n",
    "\n",
    "\n",
    "print(\"Cancelled Flight Level Stats\")\n",
    "print(\"Total Cancelled Flights: \", len(flight_stats))\n",
    "print(\n",
    "    \"Flight id\\tTotal PNR\\tReAllocated PNR\\tUnallocated PNR\\tUpgraded PNR\\tSameState PNR\\tDowngraded PNR\\tDefault Flight\\tDefault Allocation\"\n",
    ")\n",
    "for k, v in flight_stats.items():\n",
    "    print(\n",
    "        f\"{k}\\t{v['total_pnr']}\\t{v['allocated_pnr']}\\t{v['unallocated_pnr']}\\t{v['upgraded_pnr']}\\t{v['samestate_pnr']}\\t{v['downgraded_pnr']}\\t{v['default_flight']}\\t{v['default_allocation']}\"\n",
    "    )\n"
   ]
  },
  {
   "cell_type": "code",
   "execution_count": 94,
   "metadata": {},
   "outputs": [
    {
     "name": "stdout",
     "output_type": "stream",
     "text": [
      "4415266.523778264 52671444.08835817\n"
     ]
    },
    {
     "data": {
      "application/vnd.plotly.v1+json": {
       "config": {
        "plotlyServerURL": "https://plot.ly"
       },
       "data": [
        {
         "alignmentgroup": "True",
         "hovertemplate": "pnr=%{x}<br>PNR Score=%{y}<extra></extra>",
         "legendgroup": "",
         "marker": {
          "color": "#636efa",
          "pattern": {
           "shape": ""
          }
         },
         "name": "",
         "offsetgroup": "",
         "orientation": "v",
         "showlegend": false,
         "textposition": "auto",
         "type": "bar",
         "x": [
          "OBWW74",
          "GZJH95",
          "MSRJ79",
          "HQFT40",
          "TOIY80",
          "SZPP27",
          "KQZY95",
          "SKXE42",
          "TOGD18",
          "BBOZ29",
          "WCTN75",
          "FHLE86",
          "IKFF97",
          "YPQV77",
          "LEJF43",
          "NYHF21",
          "AVUP19",
          "EEXO48",
          "BWLY10",
          "CKOO43",
          "LZTJ27",
          "TZOM47",
          "ARVH27",
          "AHZG32",
          "FLUS31",
          "SHCK89",
          "SRMH24",
          "RRGS45",
          "BGZE20",
          "SXCJ47",
          "OQLJ54",
          "XWGC34",
          "CXHN76",
          "TLSS85",
          "DTAP43",
          "XJTB90",
          "ZDKC36",
          "NDWM53",
          "DJJY87",
          "JVHJ26",
          "DWNT24",
          "TVJT23",
          "QLHD46",
          "EFUM72",
          "ZALE77",
          "WETD68",
          "QMJU30",
          "ARKD19",
          "TBBM88",
          "NQIR91",
          "YYXU14",
          "CYSU36",
          "BSXO45",
          "NAIB34",
          "ASEF54",
          "BCOG34",
          "WJMV67",
          "RCIC42",
          "CCDD14",
          "CESM35",
          "RRMM37",
          "TVES16",
          "MEAE27",
          "CLLT73",
          "JRHR53",
          "YPGF74",
          "ONGM57",
          "NVIM24",
          "GXUC18",
          "GHFD72",
          "TGJW16",
          "UKUK40",
          "ANCE37",
          "MEFS34",
          "YXOI63",
          "JZDS61",
          "MFND91",
          "SJSW50",
          "YHZM86",
          "IXYT77",
          "OJNO70",
          "OENH79",
          "RCJP27",
          "POAQ69",
          "FOEH31",
          "KZRO57",
          "APYV63",
          "FKRF40",
          "DIKX30",
          "KCDU66",
          "HEKU82",
          "ZELQ21",
          "JBPE61",
          "BTPM40",
          "BLQF17",
          "TIOK51",
          "AXAX32",
          "UCRI68",
          "JIZC52",
          "SJOG81",
          "LDCN15",
          "HAMF65",
          "WRBU48",
          "QZBB18",
          "HLHZ81",
          "AXIQ57",
          "VRMJ38",
          "CONH42",
          "SHAV55",
          "ALTR80",
          "UXDE15",
          "WGUO57",
          "TQHY23",
          "TBVA58",
          "YFYA31",
          "UMFN26",
          "DSVE57",
          "ITOY34",
          "LGSP81",
          "IXJC94",
          "HAJF16",
          "JBTR23",
          "UQWP71",
          "MHKY29",
          "URBX68",
          "UNSN60",
          "JGQQ52",
          "GWNV19",
          "ZOGF53",
          "RFML44",
          "OZUT25",
          "VNMI75",
          "ONGL32",
          "ENHP81",
          "RKUO87",
          "UBHZ78",
          "DTSX26",
          "HPCB35",
          "CVNQ54",
          "GCMG66",
          "GYNV48",
          "BMSX65",
          "GRKW19",
          "OGNC74",
          "MSZX21",
          "OPKM39",
          "QWFD56",
          "SYSY62",
          "CAJQ90",
          "ESAK35",
          "TGXX73",
          "XMCD50",
          "XJSK78",
          "FETM37",
          "ZWEK49",
          "CYGT37",
          "IPCJ60",
          "GQCC71",
          "YDLG96",
          "XTGX73",
          "BTUY63",
          "TPGM27",
          "HBSS30",
          "HHXB42",
          "HXSA63",
          "GKJN81",
          "GCBX54",
          "CNPO73",
          "VICJ80",
          "PDKO77",
          "FXHE50",
          "VDFF44",
          "UJQR86",
          "DDSN90",
          "DUKC21",
          "HLWC88",
          "WWGP94",
          "DBXT38",
          "HVJB92",
          "HWNQ25",
          "GQHO73",
          "UCJT38",
          "KQIR15",
          "OOQU17",
          "DOVL88",
          "KCJS73",
          "OIVX64",
          "WHQC27",
          "RJRX96",
          "QMKZ57",
          "UNYK86",
          "CFKT22",
          "JVZL51",
          "PFHK83",
          "MWKJ36",
          "ZXNE22",
          "DULQ82",
          "NTHH51",
          "YPEO71",
          "OIEV75",
          "WWVY42",
          "YNRD59",
          "SHRF14",
          "NEVB63",
          "PPTC43",
          "ZVHT81",
          "QBVN74",
          "HAJT64",
          "XSCX58",
          "VCWU29",
          "MOBP10",
          "QSIX89",
          "AGLB29",
          "HYWJ10",
          "ZASK74",
          "WBMS77",
          "ALRK90",
          "AEKU34",
          "TMGN22",
          "HKVE20",
          "IGER93",
          "VWMU23",
          "LZNB89",
          "RSWB62",
          "CDCV79",
          "UWNQ40",
          "OEOB78",
          "XAWC41",
          "CUVB41",
          "LKOW23",
          "QKBU91",
          "STRO84",
          "LLCM69",
          "XIEJ75",
          "TEKX84",
          "PUYD31",
          "PDXW81",
          "NHPX81",
          "YVFV40",
          "PBYB37",
          "QFOR80",
          "HEPT26",
          "OWSQ97",
          "KUSK79",
          "KOYD46",
          "ETZY91",
          "HUSS80",
          "KGVE56",
          "BXPK37",
          "UANL74",
          "NATL70",
          "CMXE97",
          "KENT99",
          "FIZY56",
          "ABJY21",
          "VRKF96",
          "SYQS89",
          "GRYJ10",
          "GJMS34",
          "PAWH48",
          "LQRR20",
          "UIPM64",
          "LLDJ77",
          "TRUX86",
          "PQOV16",
          "DQCF43",
          "BPIA17",
          "XAXK13",
          "DXJH99",
          "ZGCS80",
          "VXSU87",
          "JCJN49",
          "VUKP31",
          "ITWI77",
          "UKYN79",
          "XXUJ80",
          "ZXAG92",
          "ADBU76",
          "EBMN77",
          "LQMR87",
          "KFYE74",
          "YHPZ35",
          "JLNP60",
          "OISL18",
          "PWNO45",
          "MBOQ39",
          "VFSF33",
          "JAFL69",
          "FLOW15",
          "LOPU85",
          "EWSG56",
          "AKOX72",
          "TYAV95",
          "RQIR95",
          "ZRGW22",
          "NOBW66",
          "KLPS61",
          "PQKA70",
          "RHRA39",
          "SJTN28",
          "CSVC82",
          "BFCN84",
          "PLLI94",
          "MGUS94",
          "JCCL86",
          "DPIN74",
          "JTJI79",
          "GPNU96",
          "GTNR68",
          "FSIF74",
          "UCQU27",
          "SBHC33",
          "XDQQ87",
          "LTRM99",
          "NBTI23",
          "HJMG32",
          "QNXR94",
          "STMT31",
          "RWBR52",
          "FYFP65",
          "KOFM20",
          "RXDW39",
          "QJLV48",
          "HHLN28",
          "KZZQ98",
          "ZNLM43",
          "BBKQ34",
          "DEIG60",
          "IHAN83",
          "XKDR47",
          "BWBC11",
          "EJGI27",
          "VGCG50",
          "UZKL22",
          "WFMJ55",
          "ZGTX94",
          "NAPT42",
          "OBZB10",
          "TMRV30",
          "BMKS78",
          "TZVR85",
          "CNNN69",
          "SVUD33",
          "SJLU38",
          "XOQT13",
          "AQNL47",
          "XTBX90",
          "KIMD35",
          "CFTY17",
          "LHQF76",
          "EYPB50",
          "VWYV75",
          "QTOL20",
          "YDIV49",
          "WBTA61",
          "KLYP49",
          "CQIK83",
          "NOGS81",
          "WYLK21",
          "OIMB80",
          "SAZH59",
          "YNPW68",
          "EBBQ47",
          "HTXZ52",
          "ZEIO40",
          "DSFR43",
          "STKH22",
          "HVFK10",
          "GVTP10",
          "KJXK50",
          "VTNP31",
          "UNSF23",
          "PPAX23",
          "SGDT71",
          "EJQJ68",
          "XRAU69",
          "NJRI89",
          "MXUV18",
          "OPTF44",
          "NFUH97",
          "BPUD35",
          "DWZZ61",
          "DUTC29",
          "BENO63",
          "VFLG14",
          "ONAJ71",
          "LGSG11",
          "DLAU55",
          "ZYXC32",
          "ARWF60",
          "TNVG32",
          "VFJJ76",
          "GWNX46",
          "CKXS65",
          "SCJT65",
          "ECJI31",
          "KAVF60",
          "YRPB60",
          "UBCO49",
          "AUOO52",
          "TZTL99",
          "MVFO51",
          "JCQJ32",
          "ORIX85",
          "ODZN95",
          "GXSK66",
          "ORDB55",
          "SETU42",
          "RYRI54",
          "QUVY84",
          "CKTX37",
          "ZGYQ56",
          "KLBU17",
          "ESKU68",
          "ESWL74",
          "WUME37",
          "NITW35",
          "AIVN76",
          "JQEY56",
          "DXDG12",
          "EMQE80",
          "ISGA38",
          "RZJE80",
          "TGTE84",
          "SUBP18",
          "WFSI48",
          "GUKB59",
          "OYXB82",
          "ODUR60",
          "RMBZ73",
          "HIDK34",
          "BCFH57",
          "GQLM65",
          "SQMX53",
          "KAZA18",
          "PQOY36",
          "RFWU14",
          "FMEB47",
          "GCZN99",
          "SXKC58",
          "METU64",
          "PRWK29",
          "NNFX90",
          "IZWI35",
          "HUEU97",
          "UXVV30",
          "KKQO33",
          "ULNA40",
          "AGTZ20",
          "EHXX65",
          "NCBF52",
          "RPGC12",
          "TJEQ90",
          "FHGJ87",
          "PTNO98",
          "WNYS90",
          "FBHC43",
          "CZIL98",
          "DXIE73",
          "COIB65",
          "JRTJ85",
          "CSRR51",
          "RMIB10",
          "KLNK89",
          "CDWU92",
          "UWSX94",
          "LJSQ23",
          "NXVJ18",
          "OBCB27",
          "MTJF44",
          "CEOO43",
          "YXYQ95",
          "CNKD39",
          "BSOA62",
          "LDQA24",
          "BZSF12",
          "JSTA99",
          "NNEP91",
          "DOMX92",
          "FKBF56",
          "LEJE37",
          "HWON19",
          "IIQP50",
          "QECF46",
          "TRXT43",
          "HFET39",
          "ZZJJ93",
          "AIAH82",
          "MTIH10",
          "SNYI92",
          "VVPN34",
          "IZSF69",
          "MHRH19",
          "NUEC95"
         ],
         "xaxis": "x",
         "y": [
          23000,
          21600,
          20100,
          19500,
          19100,
          19100,
          18600,
          17600,
          17300,
          17000,
          17000,
          16800,
          16600,
          16100,
          16000,
          16000,
          15600,
          15600,
          15600,
          15300,
          15100,
          15000,
          15000,
          15000,
          15000,
          14600,
          14600,
          14500,
          14500,
          14000,
          13800,
          13700,
          13600,
          13600,
          13600,
          13600,
          13500,
          13500,
          13100,
          13100,
          13100,
          13100,
          13000,
          13000,
          12900,
          12800,
          12700,
          12600,
          12600,
          12600,
          12500,
          12500,
          12500,
          12500,
          12100,
          12100,
          12100,
          12000,
          11800,
          11700,
          11600,
          11600,
          11600,
          11600,
          11500,
          11500,
          11500,
          11500,
          11500,
          11200,
          11100,
          11100,
          11100,
          11100,
          11100,
          11100,
          11000,
          11000,
          11000,
          11000,
          11000,
          11000,
          11000,
          10800,
          10800,
          10700,
          10600,
          10600,
          10600,
          10600,
          10600,
          10500,
          10500,
          10200,
          10100,
          10100,
          10000,
          10000,
          10000,
          10000,
          10000,
          10000,
          9700,
          9700,
          9600,
          9600,
          9600,
          9500,
          9500,
          9500,
          9500,
          9500,
          9500,
          9300,
          9200,
          9100,
          9100,
          9100,
          9100,
          9100,
          9000,
          9000,
          9000,
          9000,
          9000,
          9000,
          9000,
          9000,
          9000,
          9000,
          8800,
          8800,
          8700,
          8700,
          8600,
          8600,
          8600,
          8500,
          8500,
          8500,
          8500,
          8500,
          8200,
          8200,
          8000,
          8000,
          8000,
          8000,
          8000,
          8000,
          8000,
          8000,
          7800,
          7700,
          7700,
          7700,
          7600,
          7600,
          7600,
          7600,
          7500,
          7500,
          7500,
          7500,
          7500,
          7500,
          7500,
          7500,
          7500,
          7500,
          7500,
          7300,
          7300,
          7300,
          7200,
          7200,
          7200,
          7200,
          7100,
          7100,
          7000,
          7000,
          7000,
          7000,
          7000,
          7000,
          7000,
          7000,
          7000,
          7000,
          7000,
          7000,
          7000,
          7000,
          6700,
          6700,
          6600,
          6600,
          6600,
          6600,
          6600,
          6500,
          6500,
          6500,
          6500,
          6500,
          6500,
          6500,
          6500,
          6200,
          6100,
          6100,
          6100,
          6000,
          6000,
          6000,
          6000,
          6000,
          6000,
          6000,
          6000,
          6000,
          6000,
          6000,
          6000,
          6000,
          6000,
          6000,
          6000,
          6000,
          6000,
          6000,
          6000,
          6000,
          6000,
          5700,
          5600,
          5600,
          5600,
          5600,
          5500,
          5500,
          5500,
          5500,
          5500,
          5500,
          5500,
          5500,
          5500,
          5500,
          5500,
          5500,
          5500,
          5500,
          5500,
          5500,
          5500,
          5500,
          5200,
          5200,
          5200,
          5200,
          5100,
          5100,
          5000,
          5000,
          5000,
          5000,
          5000,
          5000,
          5000,
          5000,
          5000,
          5000,
          5000,
          5000,
          5000,
          5000,
          4700,
          4700,
          4600,
          4600,
          4500,
          4500,
          4500,
          4500,
          4500,
          4500,
          4500,
          4500,
          4500,
          4500,
          4500,
          4500,
          4500,
          4500,
          4500,
          4500,
          4500,
          4500,
          4500,
          4500,
          4500,
          4500,
          4500,
          4200,
          4100,
          4100,
          4100,
          4100,
          4100,
          4100,
          4100,
          4100,
          4100,
          4100,
          4000,
          4000,
          4000,
          4000,
          4000,
          4000,
          4000,
          4000,
          4000,
          4000,
          4000,
          4000,
          4000,
          4000,
          4000,
          4000,
          4000,
          4000,
          4000,
          4000,
          4000,
          4000,
          4000,
          4000,
          4000,
          4000,
          4000,
          3700,
          3600,
          3600,
          3600,
          3600,
          3600,
          3600,
          3600,
          3600,
          3600,
          3600,
          3500,
          3500,
          3500,
          3500,
          3500,
          3500,
          3500,
          3500,
          3500,
          3500,
          3500,
          3500,
          3500,
          3500,
          3500,
          3500,
          3500,
          3500,
          3500,
          3500,
          3500,
          3500,
          3500,
          3100,
          3100,
          3100,
          3100,
          3000,
          3000,
          3000,
          3000,
          3000,
          3000,
          3000,
          3000,
          2700,
          2700,
          2700,
          2700,
          2600,
          2600,
          2600,
          2600,
          2600,
          2500,
          2500,
          2500,
          2500,
          2500,
          2500,
          2500,
          2500,
          2500,
          2500,
          2500,
          2500,
          2500,
          2500,
          2500,
          2500,
          2500,
          2500,
          2500,
          2500,
          2500,
          2500,
          2500,
          2500,
          2500,
          2500,
          2500,
          2500,
          2500,
          2500,
          2500,
          2500,
          2200,
          2200,
          2100,
          2100,
          2000,
          2000,
          2000,
          2000,
          2000,
          2000,
          2000,
          2000,
          2000,
          2000,
          2000,
          2000,
          2000,
          2000,
          2000,
          2000,
          2000,
          1600,
          1600,
          1600,
          1600,
          1600,
          1600,
          1600,
          1500,
          1500,
          1500,
          1500,
          1500,
          1500,
          1500,
          1500,
          1500,
          1500,
          1500,
          1500,
          1500,
          1500,
          1500,
          1500,
          1500,
          1500,
          1500,
          1500,
          1500,
          1500,
          1500,
          1200,
          1200,
          1100,
          1100,
          1100,
          1000,
          1000,
          1000,
          600,
          600,
          600,
          600,
          600
         ],
         "yaxis": "y"
        }
       ],
       "layout": {
        "barmode": "relative",
        "legend": {
         "tracegroupgap": 0
        },
        "shapes": [
         {
          "line": {
           "color": "red",
           "width": 2
          },
          "name": "Mean",
          "type": "line",
          "x0": -0.5,
          "x1": 493.5,
          "y0": 4415266.523778264,
          "y1": 4415266.523778264
         }
        ],
        "template": {
         "data": {
          "bar": [
           {
            "error_x": {
             "color": "#2a3f5f"
            },
            "error_y": {
             "color": "#2a3f5f"
            },
            "marker": {
             "line": {
              "color": "#E5ECF6",
              "width": 0.5
             },
             "pattern": {
              "fillmode": "overlay",
              "size": 10,
              "solidity": 0.2
             }
            },
            "type": "bar"
           }
          ],
          "barpolar": [
           {
            "marker": {
             "line": {
              "color": "#E5ECF6",
              "width": 0.5
             },
             "pattern": {
              "fillmode": "overlay",
              "size": 10,
              "solidity": 0.2
             }
            },
            "type": "barpolar"
           }
          ],
          "carpet": [
           {
            "aaxis": {
             "endlinecolor": "#2a3f5f",
             "gridcolor": "white",
             "linecolor": "white",
             "minorgridcolor": "white",
             "startlinecolor": "#2a3f5f"
            },
            "baxis": {
             "endlinecolor": "#2a3f5f",
             "gridcolor": "white",
             "linecolor": "white",
             "minorgridcolor": "white",
             "startlinecolor": "#2a3f5f"
            },
            "type": "carpet"
           }
          ],
          "choropleth": [
           {
            "colorbar": {
             "outlinewidth": 0,
             "ticks": ""
            },
            "type": "choropleth"
           }
          ],
          "contour": [
           {
            "colorbar": {
             "outlinewidth": 0,
             "ticks": ""
            },
            "colorscale": [
             [
              0,
              "#0d0887"
             ],
             [
              0.1111111111111111,
              "#46039f"
             ],
             [
              0.2222222222222222,
              "#7201a8"
             ],
             [
              0.3333333333333333,
              "#9c179e"
             ],
             [
              0.4444444444444444,
              "#bd3786"
             ],
             [
              0.5555555555555556,
              "#d8576b"
             ],
             [
              0.6666666666666666,
              "#ed7953"
             ],
             [
              0.7777777777777778,
              "#fb9f3a"
             ],
             [
              0.8888888888888888,
              "#fdca26"
             ],
             [
              1,
              "#f0f921"
             ]
            ],
            "type": "contour"
           }
          ],
          "contourcarpet": [
           {
            "colorbar": {
             "outlinewidth": 0,
             "ticks": ""
            },
            "type": "contourcarpet"
           }
          ],
          "heatmap": [
           {
            "colorbar": {
             "outlinewidth": 0,
             "ticks": ""
            },
            "colorscale": [
             [
              0,
              "#0d0887"
             ],
             [
              0.1111111111111111,
              "#46039f"
             ],
             [
              0.2222222222222222,
              "#7201a8"
             ],
             [
              0.3333333333333333,
              "#9c179e"
             ],
             [
              0.4444444444444444,
              "#bd3786"
             ],
             [
              0.5555555555555556,
              "#d8576b"
             ],
             [
              0.6666666666666666,
              "#ed7953"
             ],
             [
              0.7777777777777778,
              "#fb9f3a"
             ],
             [
              0.8888888888888888,
              "#fdca26"
             ],
             [
              1,
              "#f0f921"
             ]
            ],
            "type": "heatmap"
           }
          ],
          "heatmapgl": [
           {
            "colorbar": {
             "outlinewidth": 0,
             "ticks": ""
            },
            "colorscale": [
             [
              0,
              "#0d0887"
             ],
             [
              0.1111111111111111,
              "#46039f"
             ],
             [
              0.2222222222222222,
              "#7201a8"
             ],
             [
              0.3333333333333333,
              "#9c179e"
             ],
             [
              0.4444444444444444,
              "#bd3786"
             ],
             [
              0.5555555555555556,
              "#d8576b"
             ],
             [
              0.6666666666666666,
              "#ed7953"
             ],
             [
              0.7777777777777778,
              "#fb9f3a"
             ],
             [
              0.8888888888888888,
              "#fdca26"
             ],
             [
              1,
              "#f0f921"
             ]
            ],
            "type": "heatmapgl"
           }
          ],
          "histogram": [
           {
            "marker": {
             "pattern": {
              "fillmode": "overlay",
              "size": 10,
              "solidity": 0.2
             }
            },
            "type": "histogram"
           }
          ],
          "histogram2d": [
           {
            "colorbar": {
             "outlinewidth": 0,
             "ticks": ""
            },
            "colorscale": [
             [
              0,
              "#0d0887"
             ],
             [
              0.1111111111111111,
              "#46039f"
             ],
             [
              0.2222222222222222,
              "#7201a8"
             ],
             [
              0.3333333333333333,
              "#9c179e"
             ],
             [
              0.4444444444444444,
              "#bd3786"
             ],
             [
              0.5555555555555556,
              "#d8576b"
             ],
             [
              0.6666666666666666,
              "#ed7953"
             ],
             [
              0.7777777777777778,
              "#fb9f3a"
             ],
             [
              0.8888888888888888,
              "#fdca26"
             ],
             [
              1,
              "#f0f921"
             ]
            ],
            "type": "histogram2d"
           }
          ],
          "histogram2dcontour": [
           {
            "colorbar": {
             "outlinewidth": 0,
             "ticks": ""
            },
            "colorscale": [
             [
              0,
              "#0d0887"
             ],
             [
              0.1111111111111111,
              "#46039f"
             ],
             [
              0.2222222222222222,
              "#7201a8"
             ],
             [
              0.3333333333333333,
              "#9c179e"
             ],
             [
              0.4444444444444444,
              "#bd3786"
             ],
             [
              0.5555555555555556,
              "#d8576b"
             ],
             [
              0.6666666666666666,
              "#ed7953"
             ],
             [
              0.7777777777777778,
              "#fb9f3a"
             ],
             [
              0.8888888888888888,
              "#fdca26"
             ],
             [
              1,
              "#f0f921"
             ]
            ],
            "type": "histogram2dcontour"
           }
          ],
          "mesh3d": [
           {
            "colorbar": {
             "outlinewidth": 0,
             "ticks": ""
            },
            "type": "mesh3d"
           }
          ],
          "parcoords": [
           {
            "line": {
             "colorbar": {
              "outlinewidth": 0,
              "ticks": ""
             }
            },
            "type": "parcoords"
           }
          ],
          "pie": [
           {
            "automargin": true,
            "type": "pie"
           }
          ],
          "scatter": [
           {
            "fillpattern": {
             "fillmode": "overlay",
             "size": 10,
             "solidity": 0.2
            },
            "type": "scatter"
           }
          ],
          "scatter3d": [
           {
            "line": {
             "colorbar": {
              "outlinewidth": 0,
              "ticks": ""
             }
            },
            "marker": {
             "colorbar": {
              "outlinewidth": 0,
              "ticks": ""
             }
            },
            "type": "scatter3d"
           }
          ],
          "scattercarpet": [
           {
            "marker": {
             "colorbar": {
              "outlinewidth": 0,
              "ticks": ""
             }
            },
            "type": "scattercarpet"
           }
          ],
          "scattergeo": [
           {
            "marker": {
             "colorbar": {
              "outlinewidth": 0,
              "ticks": ""
             }
            },
            "type": "scattergeo"
           }
          ],
          "scattergl": [
           {
            "marker": {
             "colorbar": {
              "outlinewidth": 0,
              "ticks": ""
             }
            },
            "type": "scattergl"
           }
          ],
          "scattermapbox": [
           {
            "marker": {
             "colorbar": {
              "outlinewidth": 0,
              "ticks": ""
             }
            },
            "type": "scattermapbox"
           }
          ],
          "scatterpolar": [
           {
            "marker": {
             "colorbar": {
              "outlinewidth": 0,
              "ticks": ""
             }
            },
            "type": "scatterpolar"
           }
          ],
          "scatterpolargl": [
           {
            "marker": {
             "colorbar": {
              "outlinewidth": 0,
              "ticks": ""
             }
            },
            "type": "scatterpolargl"
           }
          ],
          "scatterternary": [
           {
            "marker": {
             "colorbar": {
              "outlinewidth": 0,
              "ticks": ""
             }
            },
            "type": "scatterternary"
           }
          ],
          "surface": [
           {
            "colorbar": {
             "outlinewidth": 0,
             "ticks": ""
            },
            "colorscale": [
             [
              0,
              "#0d0887"
             ],
             [
              0.1111111111111111,
              "#46039f"
             ],
             [
              0.2222222222222222,
              "#7201a8"
             ],
             [
              0.3333333333333333,
              "#9c179e"
             ],
             [
              0.4444444444444444,
              "#bd3786"
             ],
             [
              0.5555555555555556,
              "#d8576b"
             ],
             [
              0.6666666666666666,
              "#ed7953"
             ],
             [
              0.7777777777777778,
              "#fb9f3a"
             ],
             [
              0.8888888888888888,
              "#fdca26"
             ],
             [
              1,
              "#f0f921"
             ]
            ],
            "type": "surface"
           }
          ],
          "table": [
           {
            "cells": {
             "fill": {
              "color": "#EBF0F8"
             },
             "line": {
              "color": "white"
             }
            },
            "header": {
             "fill": {
              "color": "#C8D4E3"
             },
             "line": {
              "color": "white"
             }
            },
            "type": "table"
           }
          ]
         },
         "layout": {
          "annotationdefaults": {
           "arrowcolor": "#2a3f5f",
           "arrowhead": 0,
           "arrowwidth": 1
          },
          "autotypenumbers": "strict",
          "coloraxis": {
           "colorbar": {
            "outlinewidth": 0,
            "ticks": ""
           }
          },
          "colorscale": {
           "diverging": [
            [
             0,
             "#8e0152"
            ],
            [
             0.1,
             "#c51b7d"
            ],
            [
             0.2,
             "#de77ae"
            ],
            [
             0.3,
             "#f1b6da"
            ],
            [
             0.4,
             "#fde0ef"
            ],
            [
             0.5,
             "#f7f7f7"
            ],
            [
             0.6,
             "#e6f5d0"
            ],
            [
             0.7,
             "#b8e186"
            ],
            [
             0.8,
             "#7fbc41"
            ],
            [
             0.9,
             "#4d9221"
            ],
            [
             1,
             "#276419"
            ]
           ],
           "sequential": [
            [
             0,
             "#0d0887"
            ],
            [
             0.1111111111111111,
             "#46039f"
            ],
            [
             0.2222222222222222,
             "#7201a8"
            ],
            [
             0.3333333333333333,
             "#9c179e"
            ],
            [
             0.4444444444444444,
             "#bd3786"
            ],
            [
             0.5555555555555556,
             "#d8576b"
            ],
            [
             0.6666666666666666,
             "#ed7953"
            ],
            [
             0.7777777777777778,
             "#fb9f3a"
            ],
            [
             0.8888888888888888,
             "#fdca26"
            ],
            [
             1,
             "#f0f921"
            ]
           ],
           "sequentialminus": [
            [
             0,
             "#0d0887"
            ],
            [
             0.1111111111111111,
             "#46039f"
            ],
            [
             0.2222222222222222,
             "#7201a8"
            ],
            [
             0.3333333333333333,
             "#9c179e"
            ],
            [
             0.4444444444444444,
             "#bd3786"
            ],
            [
             0.5555555555555556,
             "#d8576b"
            ],
            [
             0.6666666666666666,
             "#ed7953"
            ],
            [
             0.7777777777777778,
             "#fb9f3a"
            ],
            [
             0.8888888888888888,
             "#fdca26"
            ],
            [
             1,
             "#f0f921"
            ]
           ]
          },
          "colorway": [
           "#636efa",
           "#EF553B",
           "#00cc96",
           "#ab63fa",
           "#FFA15A",
           "#19d3f3",
           "#FF6692",
           "#B6E880",
           "#FF97FF",
           "#FECB52"
          ],
          "font": {
           "color": "#2a3f5f"
          },
          "geo": {
           "bgcolor": "white",
           "lakecolor": "white",
           "landcolor": "#E5ECF6",
           "showlakes": true,
           "showland": true,
           "subunitcolor": "white"
          },
          "hoverlabel": {
           "align": "left"
          },
          "hovermode": "closest",
          "mapbox": {
           "style": "light"
          },
          "paper_bgcolor": "white",
          "plot_bgcolor": "#E5ECF6",
          "polar": {
           "angularaxis": {
            "gridcolor": "white",
            "linecolor": "white",
            "ticks": ""
           },
           "bgcolor": "#E5ECF6",
           "radialaxis": {
            "gridcolor": "white",
            "linecolor": "white",
            "ticks": ""
           }
          },
          "scene": {
           "xaxis": {
            "backgroundcolor": "#E5ECF6",
            "gridcolor": "white",
            "gridwidth": 2,
            "linecolor": "white",
            "showbackground": true,
            "ticks": "",
            "zerolinecolor": "white"
           },
           "yaxis": {
            "backgroundcolor": "#E5ECF6",
            "gridcolor": "white",
            "gridwidth": 2,
            "linecolor": "white",
            "showbackground": true,
            "ticks": "",
            "zerolinecolor": "white"
           },
           "zaxis": {
            "backgroundcolor": "#E5ECF6",
            "gridcolor": "white",
            "gridwidth": 2,
            "linecolor": "white",
            "showbackground": true,
            "ticks": "",
            "zerolinecolor": "white"
           }
          },
          "shapedefaults": {
           "line": {
            "color": "#2a3f5f"
           }
          },
          "ternary": {
           "aaxis": {
            "gridcolor": "white",
            "linecolor": "white",
            "ticks": ""
           },
           "baxis": {
            "gridcolor": "white",
            "linecolor": "white",
            "ticks": ""
           },
           "bgcolor": "#E5ECF6",
           "caxis": {
            "gridcolor": "white",
            "linecolor": "white",
            "ticks": ""
           }
          },
          "title": {
           "x": 0.05
          },
          "xaxis": {
           "automargin": true,
           "gridcolor": "white",
           "linecolor": "white",
           "ticks": "",
           "title": {
            "standoff": 15
           },
           "zerolinecolor": "white",
           "zerolinewidth": 2
          },
          "yaxis": {
           "automargin": true,
           "gridcolor": "white",
           "linecolor": "white",
           "ticks": "",
           "title": {
            "standoff": 15
           },
           "zerolinecolor": "white",
           "zerolinewidth": 2
          }
         }
        },
        "title": {
         "text": "PNR Scores"
        },
        "xaxis": {
         "anchor": "y",
         "domain": [
          0,
          1
         ],
         "title": {
          "text": "pnr"
         }
        },
        "yaxis": {
         "anchor": "x",
         "domain": [
          0,
          1
         ],
         "title": {
          "text": "PNR Score"
         }
        }
       }
      }
     },
     "metadata": {},
     "output_type": "display_data"
    }
   ],
   "source": [
    "# plot for pnr_score distribution of cancelled flights-pnrs\n",
    "fig = px.bar(\n",
    "    df, x=\"pnr\", y=\"pnr_score\", title=\"PNR Scores\", labels={\"pnr_score\": \"PNR Score\"}\n",
    ")\n",
    "# Add mean and standard deviation annotations\n",
    "fig.add_shape(\n",
    "    type=\"line\",\n",
    "    x0=-0.5,\n",
    "    x1=len(df) - 0.5,\n",
    "    y0=mean_score,\n",
    "    y1=mean_score,\n",
    "    line=dict(color=\"red\", width=2),\n",
    "    name=\"Mean\",\n",
    ")\n",
    "# Show the chart\n",
    "print(mean_score, std_dev_score)\n",
    "fig.show()"
   ]
  },
  {
   "cell_type": "code",
   "execution_count": 95,
   "metadata": {},
   "outputs": [
    {
     "data": {
      "application/vnd.plotly.v1+json": {
       "config": {
        "plotlyServerURL": "https://plot.ly"
       },
       "data": [
        {
         "domain": {
          "x": [
           0,
           1
          ],
          "y": [
           0,
           1
          ]
         },
         "hovertemplate": "allocated_classes=%{label}<extra></extra>",
         "labels": [
          "['P', 'P']",
          "['E', 'E']",
          "[]",
          "['P']",
          "['E']",
          "['E', 'E']",
          "['P']",
          "['P', 'E']",
          "['E', 'E']",
          "['P']",
          "['P', 'P']",
          "['E', 'E']",
          "['E']",
          "['E', 'E']",
          "['P', 'P']",
          "['P', 'P']",
          "['E', 'E']",
          "['E', 'E']",
          "['E', 'E']",
          "['E']",
          "['E']",
          "['P']",
          "['P']",
          "['P']",
          "['P']",
          "['E']",
          "['E', 'E', 'E']",
          "['P']",
          "['E']",
          "['P']",
          "['E']",
          "['P', 'P', 'P']",
          "['E']",
          "['E', 'E', 'E']",
          "['E', 'E']",
          "['E', 'E']",
          "['P']",
          "['P']",
          "['E', 'E', 'E']",
          "['E']",
          "['B', 'E']",
          "['E', 'P']",
          "['P']",
          "['B']",
          "['P', 'P', 'P']",
          "['E', 'P']",
          "['P', 'P']",
          "['E']",
          "['E', 'E']",
          "['E']",
          "['P']",
          "['P', 'P', 'P']",
          "['P']",
          "['P', 'P']",
          "['E']",
          "['E']",
          "['E']",
          "[]",
          "['E']",
          "['P', 'P']",
          "['P']",
          "['E', 'E']",
          "['E', 'E']",
          "['E', 'P']",
          "['P']",
          "['P', 'P', 'P']",
          "['P']",
          "['P', 'P']",
          "['P']",
          "['P', 'P']",
          "['E']",
          "['P', 'E', 'E']",
          "['B', 'E', 'E']",
          "['E', 'P']",
          "['E']",
          "['E']",
          "['P']",
          "[]",
          "['F', 'F']",
          "['P']",
          "['P']",
          "['P']",
          "['P']",
          "['B']",
          "['E', 'P']",
          "['P', 'P']",
          "['E']",
          "['B']",
          "['E', 'E']",
          "['P', 'P']",
          "['E']",
          "['B']",
          "['F', 'F']",
          "['F', 'F']",
          "['P', 'P']",
          "['E']",
          "['F']",
          "['B', 'B']",
          "['B', 'B']",
          "['B', 'B', 'B']",
          "['F', 'F']",
          "['B']",
          "[]",
          "['P', 'P']",
          "['E', 'E', 'P']",
          "['E']",
          "['E']",
          "['B']",
          "['P']",
          "['F', 'F', 'F']",
          "['P', 'P']",
          "['F', 'F']",
          "['P', 'P']",
          "['P', 'P']",
          "['F', 'F']",
          "['E']",
          "['E', 'P', 'B']",
          "['E']",
          "['E']",
          "['E']",
          "['B']",
          "['B', 'B']",
          "['B']",
          "['P', 'P']",
          "['B', 'B', 'F']",
          "['B']",
          "['F']",
          "['F']",
          "['P']",
          "['P']",
          "['B']",
          "['P', 'P']",
          "['P']",
          "['B', 'P']",
          "[]",
          "['B']",
          "['E']",
          "['P']",
          "[]",
          "['B', 'B']",
          "['B']",
          "['P', 'P']",
          "['P', 'P']",
          "['P']",
          "['F', 'F']",
          "['B', 'B']",
          "['F', 'F', 'F']",
          "['F', 'F', 'F']",
          "['B']",
          "['F', 'F']",
          "['F']",
          "['B']",
          "['E']",
          "['P', 'P']",
          "['P']",
          "['F']",
          "['E', 'E']",
          "['P', 'P']",
          "['P', 'P']",
          "['E']",
          "['F']",
          "['P', 'P']",
          "['P', 'B']",
          "['B', 'B']",
          "['P', 'B']",
          "['B', 'B']",
          "['P']",
          "['F', 'F']",
          "['B', 'B']",
          "['B', 'B']",
          "['P', 'P']",
          "['B']",
          "['E']",
          "['E', 'P']",
          "['B']",
          "['B', 'B']",
          "['B', 'B']",
          "['B', 'B']",
          "['F']",
          "['E', 'E']",
          "['F']",
          "['F']",
          "['F']",
          "['F', 'F']",
          "['B', 'P', 'P']",
          "['F']",
          "['B']",
          "['B']",
          "['F', 'F']",
          "['B', 'B']",
          "['B']",
          "['F', 'B']",
          "['P']",
          "['P']",
          "['F']",
          "['B', 'B']",
          "['E', 'P']",
          "['E']",
          "['E', 'E']",
          "['P', 'E']",
          "['E', 'P']",
          "['F', 'F']",
          "['B']",
          "['B', 'B']",
          "['B']",
          "['P', 'P']",
          "['P', 'P']",
          "['B']",
          "['B']",
          "['B']",
          "['E']",
          "['P']",
          "['E']",
          "[]",
          "['B', 'B']",
          "['P']",
          "['F']",
          "['E']",
          "['B']",
          "['F', 'F']",
          "['B', 'B']",
          "['P', 'P']",
          "['B', 'B']",
          "['P', 'P']",
          "['B']",
          "['F', 'F', 'B']",
          "['B']",
          "['B', 'B']",
          "['P', 'B']",
          "['B', 'B']",
          "['P']",
          "['B']",
          "['P']",
          "['B', 'B']",
          "['B', 'F']",
          "[]",
          "['E', 'P']",
          "['E', 'E']",
          "['E']",
          "['E']",
          "['B', 'B']",
          "['B', 'B']",
          "['F']",
          "['F']",
          "['B', 'B']",
          "['B', 'F', 'F']",
          "['P']",
          "['P']",
          "['B', 'B']",
          "['F', 'F']",
          "['F']",
          "['F']",
          "['F']",
          "['B']",
          "['P', 'F']",
          "['B']",
          "['F', 'F']",
          "['F', 'F']",
          "['B']",
          "['B']",
          "['B', 'B']",
          "['P', 'P']",
          "['E']",
          "['E', 'P']",
          "['B', 'F']",
          "['P', 'P']",
          "['P', 'P']",
          "['F']",
          "['B', 'B']",
          "['B']",
          "['F']",
          "['B']",
          "['P']",
          "['B', 'B']",
          "['B', 'B']",
          "['B', 'B']",
          "['P', 'P']",
          "['B']",
          "['F']",
          "['P']",
          "['P']",
          "['B', 'E']",
          "['F', 'F']",
          "['F']",
          "['F']",
          "['P']",
          "['P']",
          "['F']",
          "[]",
          "[]",
          "[]",
          "[]",
          "[]",
          "['B', 'B']",
          "['B', 'B']",
          "['F', 'F']",
          "['B', 'B']",
          "['B', 'B']",
          "['F']",
          "['P']",
          "['B']",
          "['B']",
          "['E', 'F']",
          "['F']",
          "['F', 'F']",
          "['B']",
          "['E', 'E']",
          "['E']",
          "['E', 'E', 'E']",
          "['E']",
          "['E', 'P']",
          "['E']",
          "['E']",
          "['P']",
          "['E']",
          "['E']",
          "[]",
          "['P', 'P']",
          "['B', 'F']",
          "['P', 'P']",
          "['B']",
          "['B']",
          "['P', 'B', 'B']",
          "[]",
          "['F', 'F']",
          "['P', 'P']",
          "['P', 'P']",
          "['P']",
          "['P']",
          "['P', 'P']",
          "['P', 'P']",
          "['B', 'B']",
          "['B', 'B']",
          "['B']",
          "['F']",
          "['B']",
          "['P']",
          "['B', 'F']",
          "['P', 'B']",
          "['B', 'B']",
          "['B']",
          "['B', 'P']",
          "['B', 'F']",
          "['B', 'B']",
          "['E', 'P']",
          "['E', 'P']",
          "['F']",
          "[]",
          "['E', 'P']",
          "['E']",
          "['E', 'B', 'E']",
          "['E']",
          "['E', 'E']",
          "['E']",
          "[]",
          "['P', 'P']",
          "['P', 'P']",
          "['F']",
          "['B']",
          "['B', 'B']",
          "['B', 'B']",
          "['P']",
          "['F']",
          "['P', 'P', 'P']",
          "['F', 'F']",
          "['B']",
          "['B']",
          "['F']",
          "['F']",
          "['B', 'B']",
          "['F']",
          "['B']",
          "['B']",
          "['B']",
          "['B']",
          "['B', 'F']",
          "['F', 'F']",
          "['E']",
          "['E', 'E']",
          "['E', 'P']",
          "['E', 'E', 'E']",
          "['P']",
          "['B']",
          "['F']",
          "['B', 'B', 'B']",
          "['B', 'B']",
          "['F', 'F']",
          "['F', 'F', 'F']",
          "['F', 'F']",
          "['B']",
          "[]",
          "[]",
          "['B', 'B']",
          "['E']",
          "['E', 'E']",
          "['E']",
          "['E']",
          "['B', 'E']",
          "[]",
          "['F', 'F']",
          "['F', 'F']",
          "['F', 'F']",
          "['B', 'F']",
          "['B', 'F']",
          "['F', 'F']",
          "['F', 'F']",
          "['B', 'B']",
          "['F', 'F']",
          "['P', 'P']",
          "['B']",
          "['F']",
          "['F']",
          "['F']",
          "['B']",
          "['F']",
          "['B']",
          "['F']",
          "['B']",
          "[]",
          "[]",
          "[]",
          "[]",
          "['B', 'B']",
          "['F']",
          "['B']",
          "['F']",
          "['F']",
          "['F']",
          "['B']",
          "['B']",
          "['B', 'B']",
          "[]",
          "['E', 'E', 'E']",
          "['P']",
          "['B', 'P']",
          "['P']",
          "['P']",
          "['B', 'B']",
          "['B', 'B']",
          "['P', 'P', 'P']",
          "[]",
          "['B', 'B']",
          "['P', 'P']",
          "['P']",
          "[]",
          "[]",
          "[]",
          "['B']",
          "['P', 'P']",
          "['P', 'P']",
          "['P', 'P']",
          "['E', 'P']",
          "['E']",
          "['E', 'E']",
          "['B']",
          "['E']",
          "['E']",
          "['E', 'P']",
          "['B', 'P']",
          "['B', 'P']",
          "['P']",
          "['B']",
          "['B', 'B']",
          "['B', 'B']",
          "['B', 'B']",
          "['B', 'B']",
          "['P']",
          "['B', 'B', 'B']",
          "[]",
          "['B', 'B']",
          "['B', 'B']",
          "['B', 'B']",
          "['F']",
          "['B']",
          "['B']",
          "['P']",
          "['B']",
          "['B']",
          "[]",
          "[]",
          "['P']",
          "['F']",
          "[]",
          "['E', 'P']",
          "['E', 'E']",
          "['E', 'P']",
          "['P', 'P']",
          "[]",
          "['P']",
          "['E', 'P']",
          "['E']",
          "[]",
          "['E', 'E']",
          "['E']"
         ],
         "legendgroup": "",
         "name": "",
         "showlegend": true,
         "type": "pie"
        }
       ],
       "layout": {
        "legend": {
         "tracegroupgap": 0
        },
        "template": {
         "data": {
          "bar": [
           {
            "error_x": {
             "color": "#2a3f5f"
            },
            "error_y": {
             "color": "#2a3f5f"
            },
            "marker": {
             "line": {
              "color": "#E5ECF6",
              "width": 0.5
             },
             "pattern": {
              "fillmode": "overlay",
              "size": 10,
              "solidity": 0.2
             }
            },
            "type": "bar"
           }
          ],
          "barpolar": [
           {
            "marker": {
             "line": {
              "color": "#E5ECF6",
              "width": 0.5
             },
             "pattern": {
              "fillmode": "overlay",
              "size": 10,
              "solidity": 0.2
             }
            },
            "type": "barpolar"
           }
          ],
          "carpet": [
           {
            "aaxis": {
             "endlinecolor": "#2a3f5f",
             "gridcolor": "white",
             "linecolor": "white",
             "minorgridcolor": "white",
             "startlinecolor": "#2a3f5f"
            },
            "baxis": {
             "endlinecolor": "#2a3f5f",
             "gridcolor": "white",
             "linecolor": "white",
             "minorgridcolor": "white",
             "startlinecolor": "#2a3f5f"
            },
            "type": "carpet"
           }
          ],
          "choropleth": [
           {
            "colorbar": {
             "outlinewidth": 0,
             "ticks": ""
            },
            "type": "choropleth"
           }
          ],
          "contour": [
           {
            "colorbar": {
             "outlinewidth": 0,
             "ticks": ""
            },
            "colorscale": [
             [
              0,
              "#0d0887"
             ],
             [
              0.1111111111111111,
              "#46039f"
             ],
             [
              0.2222222222222222,
              "#7201a8"
             ],
             [
              0.3333333333333333,
              "#9c179e"
             ],
             [
              0.4444444444444444,
              "#bd3786"
             ],
             [
              0.5555555555555556,
              "#d8576b"
             ],
             [
              0.6666666666666666,
              "#ed7953"
             ],
             [
              0.7777777777777778,
              "#fb9f3a"
             ],
             [
              0.8888888888888888,
              "#fdca26"
             ],
             [
              1,
              "#f0f921"
             ]
            ],
            "type": "contour"
           }
          ],
          "contourcarpet": [
           {
            "colorbar": {
             "outlinewidth": 0,
             "ticks": ""
            },
            "type": "contourcarpet"
           }
          ],
          "heatmap": [
           {
            "colorbar": {
             "outlinewidth": 0,
             "ticks": ""
            },
            "colorscale": [
             [
              0,
              "#0d0887"
             ],
             [
              0.1111111111111111,
              "#46039f"
             ],
             [
              0.2222222222222222,
              "#7201a8"
             ],
             [
              0.3333333333333333,
              "#9c179e"
             ],
             [
              0.4444444444444444,
              "#bd3786"
             ],
             [
              0.5555555555555556,
              "#d8576b"
             ],
             [
              0.6666666666666666,
              "#ed7953"
             ],
             [
              0.7777777777777778,
              "#fb9f3a"
             ],
             [
              0.8888888888888888,
              "#fdca26"
             ],
             [
              1,
              "#f0f921"
             ]
            ],
            "type": "heatmap"
           }
          ],
          "heatmapgl": [
           {
            "colorbar": {
             "outlinewidth": 0,
             "ticks": ""
            },
            "colorscale": [
             [
              0,
              "#0d0887"
             ],
             [
              0.1111111111111111,
              "#46039f"
             ],
             [
              0.2222222222222222,
              "#7201a8"
             ],
             [
              0.3333333333333333,
              "#9c179e"
             ],
             [
              0.4444444444444444,
              "#bd3786"
             ],
             [
              0.5555555555555556,
              "#d8576b"
             ],
             [
              0.6666666666666666,
              "#ed7953"
             ],
             [
              0.7777777777777778,
              "#fb9f3a"
             ],
             [
              0.8888888888888888,
              "#fdca26"
             ],
             [
              1,
              "#f0f921"
             ]
            ],
            "type": "heatmapgl"
           }
          ],
          "histogram": [
           {
            "marker": {
             "pattern": {
              "fillmode": "overlay",
              "size": 10,
              "solidity": 0.2
             }
            },
            "type": "histogram"
           }
          ],
          "histogram2d": [
           {
            "colorbar": {
             "outlinewidth": 0,
             "ticks": ""
            },
            "colorscale": [
             [
              0,
              "#0d0887"
             ],
             [
              0.1111111111111111,
              "#46039f"
             ],
             [
              0.2222222222222222,
              "#7201a8"
             ],
             [
              0.3333333333333333,
              "#9c179e"
             ],
             [
              0.4444444444444444,
              "#bd3786"
             ],
             [
              0.5555555555555556,
              "#d8576b"
             ],
             [
              0.6666666666666666,
              "#ed7953"
             ],
             [
              0.7777777777777778,
              "#fb9f3a"
             ],
             [
              0.8888888888888888,
              "#fdca26"
             ],
             [
              1,
              "#f0f921"
             ]
            ],
            "type": "histogram2d"
           }
          ],
          "histogram2dcontour": [
           {
            "colorbar": {
             "outlinewidth": 0,
             "ticks": ""
            },
            "colorscale": [
             [
              0,
              "#0d0887"
             ],
             [
              0.1111111111111111,
              "#46039f"
             ],
             [
              0.2222222222222222,
              "#7201a8"
             ],
             [
              0.3333333333333333,
              "#9c179e"
             ],
             [
              0.4444444444444444,
              "#bd3786"
             ],
             [
              0.5555555555555556,
              "#d8576b"
             ],
             [
              0.6666666666666666,
              "#ed7953"
             ],
             [
              0.7777777777777778,
              "#fb9f3a"
             ],
             [
              0.8888888888888888,
              "#fdca26"
             ],
             [
              1,
              "#f0f921"
             ]
            ],
            "type": "histogram2dcontour"
           }
          ],
          "mesh3d": [
           {
            "colorbar": {
             "outlinewidth": 0,
             "ticks": ""
            },
            "type": "mesh3d"
           }
          ],
          "parcoords": [
           {
            "line": {
             "colorbar": {
              "outlinewidth": 0,
              "ticks": ""
             }
            },
            "type": "parcoords"
           }
          ],
          "pie": [
           {
            "automargin": true,
            "type": "pie"
           }
          ],
          "scatter": [
           {
            "fillpattern": {
             "fillmode": "overlay",
             "size": 10,
             "solidity": 0.2
            },
            "type": "scatter"
           }
          ],
          "scatter3d": [
           {
            "line": {
             "colorbar": {
              "outlinewidth": 0,
              "ticks": ""
             }
            },
            "marker": {
             "colorbar": {
              "outlinewidth": 0,
              "ticks": ""
             }
            },
            "type": "scatter3d"
           }
          ],
          "scattercarpet": [
           {
            "marker": {
             "colorbar": {
              "outlinewidth": 0,
              "ticks": ""
             }
            },
            "type": "scattercarpet"
           }
          ],
          "scattergeo": [
           {
            "marker": {
             "colorbar": {
              "outlinewidth": 0,
              "ticks": ""
             }
            },
            "type": "scattergeo"
           }
          ],
          "scattergl": [
           {
            "marker": {
             "colorbar": {
              "outlinewidth": 0,
              "ticks": ""
             }
            },
            "type": "scattergl"
           }
          ],
          "scattermapbox": [
           {
            "marker": {
             "colorbar": {
              "outlinewidth": 0,
              "ticks": ""
             }
            },
            "type": "scattermapbox"
           }
          ],
          "scatterpolar": [
           {
            "marker": {
             "colorbar": {
              "outlinewidth": 0,
              "ticks": ""
             }
            },
            "type": "scatterpolar"
           }
          ],
          "scatterpolargl": [
           {
            "marker": {
             "colorbar": {
              "outlinewidth": 0,
              "ticks": ""
             }
            },
            "type": "scatterpolargl"
           }
          ],
          "scatterternary": [
           {
            "marker": {
             "colorbar": {
              "outlinewidth": 0,
              "ticks": ""
             }
            },
            "type": "scatterternary"
           }
          ],
          "surface": [
           {
            "colorbar": {
             "outlinewidth": 0,
             "ticks": ""
            },
            "colorscale": [
             [
              0,
              "#0d0887"
             ],
             [
              0.1111111111111111,
              "#46039f"
             ],
             [
              0.2222222222222222,
              "#7201a8"
             ],
             [
              0.3333333333333333,
              "#9c179e"
             ],
             [
              0.4444444444444444,
              "#bd3786"
             ],
             [
              0.5555555555555556,
              "#d8576b"
             ],
             [
              0.6666666666666666,
              "#ed7953"
             ],
             [
              0.7777777777777778,
              "#fb9f3a"
             ],
             [
              0.8888888888888888,
              "#fdca26"
             ],
             [
              1,
              "#f0f921"
             ]
            ],
            "type": "surface"
           }
          ],
          "table": [
           {
            "cells": {
             "fill": {
              "color": "#EBF0F8"
             },
             "line": {
              "color": "white"
             }
            },
            "header": {
             "fill": {
              "color": "#C8D4E3"
             },
             "line": {
              "color": "white"
             }
            },
            "type": "table"
           }
          ]
         },
         "layout": {
          "annotationdefaults": {
           "arrowcolor": "#2a3f5f",
           "arrowhead": 0,
           "arrowwidth": 1
          },
          "autotypenumbers": "strict",
          "coloraxis": {
           "colorbar": {
            "outlinewidth": 0,
            "ticks": ""
           }
          },
          "colorscale": {
           "diverging": [
            [
             0,
             "#8e0152"
            ],
            [
             0.1,
             "#c51b7d"
            ],
            [
             0.2,
             "#de77ae"
            ],
            [
             0.3,
             "#f1b6da"
            ],
            [
             0.4,
             "#fde0ef"
            ],
            [
             0.5,
             "#f7f7f7"
            ],
            [
             0.6,
             "#e6f5d0"
            ],
            [
             0.7,
             "#b8e186"
            ],
            [
             0.8,
             "#7fbc41"
            ],
            [
             0.9,
             "#4d9221"
            ],
            [
             1,
             "#276419"
            ]
           ],
           "sequential": [
            [
             0,
             "#0d0887"
            ],
            [
             0.1111111111111111,
             "#46039f"
            ],
            [
             0.2222222222222222,
             "#7201a8"
            ],
            [
             0.3333333333333333,
             "#9c179e"
            ],
            [
             0.4444444444444444,
             "#bd3786"
            ],
            [
             0.5555555555555556,
             "#d8576b"
            ],
            [
             0.6666666666666666,
             "#ed7953"
            ],
            [
             0.7777777777777778,
             "#fb9f3a"
            ],
            [
             0.8888888888888888,
             "#fdca26"
            ],
            [
             1,
             "#f0f921"
            ]
           ],
           "sequentialminus": [
            [
             0,
             "#0d0887"
            ],
            [
             0.1111111111111111,
             "#46039f"
            ],
            [
             0.2222222222222222,
             "#7201a8"
            ],
            [
             0.3333333333333333,
             "#9c179e"
            ],
            [
             0.4444444444444444,
             "#bd3786"
            ],
            [
             0.5555555555555556,
             "#d8576b"
            ],
            [
             0.6666666666666666,
             "#ed7953"
            ],
            [
             0.7777777777777778,
             "#fb9f3a"
            ],
            [
             0.8888888888888888,
             "#fdca26"
            ],
            [
             1,
             "#f0f921"
            ]
           ]
          },
          "colorway": [
           "#636efa",
           "#EF553B",
           "#00cc96",
           "#ab63fa",
           "#FFA15A",
           "#19d3f3",
           "#FF6692",
           "#B6E880",
           "#FF97FF",
           "#FECB52"
          ],
          "font": {
           "color": "#2a3f5f"
          },
          "geo": {
           "bgcolor": "white",
           "lakecolor": "white",
           "landcolor": "#E5ECF6",
           "showlakes": true,
           "showland": true,
           "subunitcolor": "white"
          },
          "hoverlabel": {
           "align": "left"
          },
          "hovermode": "closest",
          "mapbox": {
           "style": "light"
          },
          "paper_bgcolor": "white",
          "plot_bgcolor": "#E5ECF6",
          "polar": {
           "angularaxis": {
            "gridcolor": "white",
            "linecolor": "white",
            "ticks": ""
           },
           "bgcolor": "#E5ECF6",
           "radialaxis": {
            "gridcolor": "white",
            "linecolor": "white",
            "ticks": ""
           }
          },
          "scene": {
           "xaxis": {
            "backgroundcolor": "#E5ECF6",
            "gridcolor": "white",
            "gridwidth": 2,
            "linecolor": "white",
            "showbackground": true,
            "ticks": "",
            "zerolinecolor": "white"
           },
           "yaxis": {
            "backgroundcolor": "#E5ECF6",
            "gridcolor": "white",
            "gridwidth": 2,
            "linecolor": "white",
            "showbackground": true,
            "ticks": "",
            "zerolinecolor": "white"
           },
           "zaxis": {
            "backgroundcolor": "#E5ECF6",
            "gridcolor": "white",
            "gridwidth": 2,
            "linecolor": "white",
            "showbackground": true,
            "ticks": "",
            "zerolinecolor": "white"
           }
          },
          "shapedefaults": {
           "line": {
            "color": "#2a3f5f"
           }
          },
          "ternary": {
           "aaxis": {
            "gridcolor": "white",
            "linecolor": "white",
            "ticks": ""
           },
           "baxis": {
            "gridcolor": "white",
            "linecolor": "white",
            "ticks": ""
           },
           "bgcolor": "#E5ECF6",
           "caxis": {
            "gridcolor": "white",
            "linecolor": "white",
            "ticks": ""
           }
          },
          "title": {
           "x": 0.05
          },
          "xaxis": {
           "automargin": true,
           "gridcolor": "white",
           "linecolor": "white",
           "ticks": "",
           "title": {
            "standoff": 15
           },
           "zerolinecolor": "white",
           "zerolinewidth": 2
          },
          "yaxis": {
           "automargin": true,
           "gridcolor": "white",
           "linecolor": "white",
           "ticks": "",
           "title": {
            "standoff": 15
           },
           "zerolinecolor": "white",
           "zerolinewidth": 2
          }
         }
        },
        "title": {
         "text": "Class Distribution for All PNRS"
        }
       }
      }
     },
     "metadata": {},
     "output_type": "display_data"
    },
    {
     "data": {
      "application/vnd.plotly.v1+json": {
       "config": {
        "plotlyServerURL": "https://plot.ly"
       },
       "data": [
        {
         "domain": {
          "x": [
           0,
           1
          ],
          "y": [
           0,
           1
          ]
         },
         "hovertemplate": "canclled_class=%{label}<extra></extra>",
         "labels": [
          "P",
          "E",
          "E",
          "P",
          "E",
          "E",
          "E",
          "E",
          "E",
          "P",
          "P",
          "E",
          "E",
          "E",
          "P",
          "P",
          "E",
          "E",
          "E",
          "E",
          "E",
          "P",
          "P",
          "P",
          "P",
          "E",
          "E",
          "P",
          "E",
          "P",
          "E",
          "P",
          "E",
          "E",
          "E",
          "E",
          "P",
          "P",
          "E",
          "E",
          "E",
          "E",
          "P",
          "B",
          "P",
          "E",
          "P",
          "E",
          "E",
          "E",
          "P",
          "P",
          "P",
          "P",
          "E",
          "E",
          "E",
          "P",
          "E",
          "P",
          "E",
          "E",
          "E",
          "E",
          "P",
          "P",
          "P",
          "P",
          "P",
          "P",
          "E",
          "E",
          "E",
          "E",
          "E",
          "E",
          "P",
          "E",
          "F",
          "P",
          "P",
          "P",
          "P",
          "E",
          "E",
          "P",
          "E",
          "E",
          "E",
          "E",
          "E",
          "B",
          "F",
          "F",
          "E",
          "E",
          "B",
          "B",
          "B",
          "B",
          "F",
          "B",
          "P",
          "P",
          "E",
          "E",
          "E",
          "B",
          "P",
          "F",
          "P",
          "F",
          "P",
          "E",
          "F",
          "E",
          "E",
          "E",
          "E",
          "E",
          "B",
          "B",
          "B",
          "P",
          "B",
          "B",
          "F",
          "F",
          "P",
          "P",
          "E",
          "E",
          "P",
          "P",
          "E",
          "E",
          "E",
          "P",
          "B",
          "B",
          "B",
          "P",
          "P",
          "P",
          "F",
          "B",
          "F",
          "F",
          "B",
          "F",
          "F",
          "B",
          "E",
          "P",
          "P",
          "F",
          "E",
          "E",
          "E",
          "E",
          "F",
          "P",
          "P",
          "B",
          "P",
          "P",
          "P",
          "F",
          "B",
          "B",
          "P",
          "E",
          "E",
          "E",
          "P",
          "P",
          "B",
          "B",
          "E",
          "E",
          "P",
          "F",
          "B",
          "F",
          "B",
          "F",
          "B",
          "B",
          "F",
          "B",
          "B",
          "B",
          "P",
          "P",
          "F",
          "B",
          "E",
          "E",
          "E",
          "E",
          "E",
          "F",
          "B",
          "B",
          "B",
          "P",
          "P",
          "B",
          "B",
          "B",
          "E",
          "E",
          "E",
          "F",
          "B",
          "P",
          "P",
          "P",
          "B",
          "F",
          "B",
          "P",
          "B",
          "P",
          "B",
          "F",
          "B",
          "B",
          "P",
          "B",
          "P",
          "B",
          "P",
          "B",
          "B",
          "B",
          "E",
          "E",
          "E",
          "E",
          "B",
          "B",
          "P",
          "F",
          "B",
          "F",
          "P",
          "P",
          "B",
          "F",
          "F",
          "F",
          "F",
          "B",
          "F",
          "B",
          "F",
          "F",
          "B",
          "B",
          "B",
          "P",
          "E",
          "E",
          "B",
          "P",
          "P",
          "F",
          "B",
          "B",
          "F",
          "B",
          "P",
          "B",
          "P",
          "B",
          "P",
          "B",
          "F",
          "P",
          "E",
          "E",
          "F",
          "F",
          "F",
          "P",
          "P",
          "F",
          "F",
          "B",
          "B",
          "F",
          "B",
          "B",
          "B",
          "F",
          "B",
          "B",
          "F",
          "P",
          "B",
          "B",
          "B",
          "F",
          "F",
          "B",
          "E",
          "E",
          "E",
          "E",
          "E",
          "E",
          "E",
          "E",
          "E",
          "E",
          "B",
          "P",
          "B",
          "P",
          "B",
          "P",
          "B",
          "B",
          "F",
          "P",
          "P",
          "P",
          "P",
          "P",
          "P",
          "B",
          "B",
          "B",
          "F",
          "B",
          "P",
          "F",
          "B",
          "B",
          "B",
          "B",
          "B",
          "B",
          "E",
          "E",
          "E",
          "E",
          "E",
          "E",
          "E",
          "E",
          "E",
          "E",
          "P",
          "P",
          "P",
          "F",
          "B",
          "B",
          "B",
          "P",
          "F",
          "P",
          "F",
          "B",
          "B",
          "F",
          "F",
          "B",
          "F",
          "B",
          "B",
          "B",
          "B",
          "B",
          "F",
          "E",
          "E",
          "E",
          "E",
          "P",
          "B",
          "F",
          "B",
          "B",
          "F",
          "F",
          "F",
          "B",
          "P",
          "F",
          "B",
          "E",
          "E",
          "E",
          "E",
          "E",
          "F",
          "F",
          "F",
          "F",
          "B",
          "B",
          "F",
          "F",
          "B",
          "F",
          "P",
          "B",
          "F",
          "F",
          "F",
          "B",
          "F",
          "B",
          "F",
          "B",
          "F",
          "B",
          "B",
          "P",
          "B",
          "F",
          "B",
          "F",
          "F",
          "F",
          "B",
          "B",
          "B",
          "P",
          "E",
          "E",
          "B",
          "P",
          "P",
          "B",
          "B",
          "P",
          "P",
          "B",
          "P",
          "P",
          "B",
          "B",
          "P",
          "B",
          "P",
          "P",
          "P",
          "E",
          "E",
          "E",
          "E",
          "E",
          "E",
          "E",
          "B",
          "B",
          "P",
          "B",
          "B",
          "B",
          "B",
          "B",
          "P",
          "B",
          "B",
          "B",
          "B",
          "B",
          "B",
          "B",
          "B",
          "P",
          "B",
          "B",
          "B",
          "B",
          "P",
          "P",
          "P",
          "E",
          "E",
          "E",
          "P",
          "P",
          "P",
          "E",
          "E",
          "E",
          "E",
          "E"
         ],
         "legendgroup": "",
         "name": "",
         "showlegend": true,
         "type": "pie"
        }
       ],
       "layout": {
        "legend": {
         "tracegroupgap": 0
        },
        "template": {
         "data": {
          "bar": [
           {
            "error_x": {
             "color": "#2a3f5f"
            },
            "error_y": {
             "color": "#2a3f5f"
            },
            "marker": {
             "line": {
              "color": "#E5ECF6",
              "width": 0.5
             },
             "pattern": {
              "fillmode": "overlay",
              "size": 10,
              "solidity": 0.2
             }
            },
            "type": "bar"
           }
          ],
          "barpolar": [
           {
            "marker": {
             "line": {
              "color": "#E5ECF6",
              "width": 0.5
             },
             "pattern": {
              "fillmode": "overlay",
              "size": 10,
              "solidity": 0.2
             }
            },
            "type": "barpolar"
           }
          ],
          "carpet": [
           {
            "aaxis": {
             "endlinecolor": "#2a3f5f",
             "gridcolor": "white",
             "linecolor": "white",
             "minorgridcolor": "white",
             "startlinecolor": "#2a3f5f"
            },
            "baxis": {
             "endlinecolor": "#2a3f5f",
             "gridcolor": "white",
             "linecolor": "white",
             "minorgridcolor": "white",
             "startlinecolor": "#2a3f5f"
            },
            "type": "carpet"
           }
          ],
          "choropleth": [
           {
            "colorbar": {
             "outlinewidth": 0,
             "ticks": ""
            },
            "type": "choropleth"
           }
          ],
          "contour": [
           {
            "colorbar": {
             "outlinewidth": 0,
             "ticks": ""
            },
            "colorscale": [
             [
              0,
              "#0d0887"
             ],
             [
              0.1111111111111111,
              "#46039f"
             ],
             [
              0.2222222222222222,
              "#7201a8"
             ],
             [
              0.3333333333333333,
              "#9c179e"
             ],
             [
              0.4444444444444444,
              "#bd3786"
             ],
             [
              0.5555555555555556,
              "#d8576b"
             ],
             [
              0.6666666666666666,
              "#ed7953"
             ],
             [
              0.7777777777777778,
              "#fb9f3a"
             ],
             [
              0.8888888888888888,
              "#fdca26"
             ],
             [
              1,
              "#f0f921"
             ]
            ],
            "type": "contour"
           }
          ],
          "contourcarpet": [
           {
            "colorbar": {
             "outlinewidth": 0,
             "ticks": ""
            },
            "type": "contourcarpet"
           }
          ],
          "heatmap": [
           {
            "colorbar": {
             "outlinewidth": 0,
             "ticks": ""
            },
            "colorscale": [
             [
              0,
              "#0d0887"
             ],
             [
              0.1111111111111111,
              "#46039f"
             ],
             [
              0.2222222222222222,
              "#7201a8"
             ],
             [
              0.3333333333333333,
              "#9c179e"
             ],
             [
              0.4444444444444444,
              "#bd3786"
             ],
             [
              0.5555555555555556,
              "#d8576b"
             ],
             [
              0.6666666666666666,
              "#ed7953"
             ],
             [
              0.7777777777777778,
              "#fb9f3a"
             ],
             [
              0.8888888888888888,
              "#fdca26"
             ],
             [
              1,
              "#f0f921"
             ]
            ],
            "type": "heatmap"
           }
          ],
          "heatmapgl": [
           {
            "colorbar": {
             "outlinewidth": 0,
             "ticks": ""
            },
            "colorscale": [
             [
              0,
              "#0d0887"
             ],
             [
              0.1111111111111111,
              "#46039f"
             ],
             [
              0.2222222222222222,
              "#7201a8"
             ],
             [
              0.3333333333333333,
              "#9c179e"
             ],
             [
              0.4444444444444444,
              "#bd3786"
             ],
             [
              0.5555555555555556,
              "#d8576b"
             ],
             [
              0.6666666666666666,
              "#ed7953"
             ],
             [
              0.7777777777777778,
              "#fb9f3a"
             ],
             [
              0.8888888888888888,
              "#fdca26"
             ],
             [
              1,
              "#f0f921"
             ]
            ],
            "type": "heatmapgl"
           }
          ],
          "histogram": [
           {
            "marker": {
             "pattern": {
              "fillmode": "overlay",
              "size": 10,
              "solidity": 0.2
             }
            },
            "type": "histogram"
           }
          ],
          "histogram2d": [
           {
            "colorbar": {
             "outlinewidth": 0,
             "ticks": ""
            },
            "colorscale": [
             [
              0,
              "#0d0887"
             ],
             [
              0.1111111111111111,
              "#46039f"
             ],
             [
              0.2222222222222222,
              "#7201a8"
             ],
             [
              0.3333333333333333,
              "#9c179e"
             ],
             [
              0.4444444444444444,
              "#bd3786"
             ],
             [
              0.5555555555555556,
              "#d8576b"
             ],
             [
              0.6666666666666666,
              "#ed7953"
             ],
             [
              0.7777777777777778,
              "#fb9f3a"
             ],
             [
              0.8888888888888888,
              "#fdca26"
             ],
             [
              1,
              "#f0f921"
             ]
            ],
            "type": "histogram2d"
           }
          ],
          "histogram2dcontour": [
           {
            "colorbar": {
             "outlinewidth": 0,
             "ticks": ""
            },
            "colorscale": [
             [
              0,
              "#0d0887"
             ],
             [
              0.1111111111111111,
              "#46039f"
             ],
             [
              0.2222222222222222,
              "#7201a8"
             ],
             [
              0.3333333333333333,
              "#9c179e"
             ],
             [
              0.4444444444444444,
              "#bd3786"
             ],
             [
              0.5555555555555556,
              "#d8576b"
             ],
             [
              0.6666666666666666,
              "#ed7953"
             ],
             [
              0.7777777777777778,
              "#fb9f3a"
             ],
             [
              0.8888888888888888,
              "#fdca26"
             ],
             [
              1,
              "#f0f921"
             ]
            ],
            "type": "histogram2dcontour"
           }
          ],
          "mesh3d": [
           {
            "colorbar": {
             "outlinewidth": 0,
             "ticks": ""
            },
            "type": "mesh3d"
           }
          ],
          "parcoords": [
           {
            "line": {
             "colorbar": {
              "outlinewidth": 0,
              "ticks": ""
             }
            },
            "type": "parcoords"
           }
          ],
          "pie": [
           {
            "automargin": true,
            "type": "pie"
           }
          ],
          "scatter": [
           {
            "fillpattern": {
             "fillmode": "overlay",
             "size": 10,
             "solidity": 0.2
            },
            "type": "scatter"
           }
          ],
          "scatter3d": [
           {
            "line": {
             "colorbar": {
              "outlinewidth": 0,
              "ticks": ""
             }
            },
            "marker": {
             "colorbar": {
              "outlinewidth": 0,
              "ticks": ""
             }
            },
            "type": "scatter3d"
           }
          ],
          "scattercarpet": [
           {
            "marker": {
             "colorbar": {
              "outlinewidth": 0,
              "ticks": ""
             }
            },
            "type": "scattercarpet"
           }
          ],
          "scattergeo": [
           {
            "marker": {
             "colorbar": {
              "outlinewidth": 0,
              "ticks": ""
             }
            },
            "type": "scattergeo"
           }
          ],
          "scattergl": [
           {
            "marker": {
             "colorbar": {
              "outlinewidth": 0,
              "ticks": ""
             }
            },
            "type": "scattergl"
           }
          ],
          "scattermapbox": [
           {
            "marker": {
             "colorbar": {
              "outlinewidth": 0,
              "ticks": ""
             }
            },
            "type": "scattermapbox"
           }
          ],
          "scatterpolar": [
           {
            "marker": {
             "colorbar": {
              "outlinewidth": 0,
              "ticks": ""
             }
            },
            "type": "scatterpolar"
           }
          ],
          "scatterpolargl": [
           {
            "marker": {
             "colorbar": {
              "outlinewidth": 0,
              "ticks": ""
             }
            },
            "type": "scatterpolargl"
           }
          ],
          "scatterternary": [
           {
            "marker": {
             "colorbar": {
              "outlinewidth": 0,
              "ticks": ""
             }
            },
            "type": "scatterternary"
           }
          ],
          "surface": [
           {
            "colorbar": {
             "outlinewidth": 0,
             "ticks": ""
            },
            "colorscale": [
             [
              0,
              "#0d0887"
             ],
             [
              0.1111111111111111,
              "#46039f"
             ],
             [
              0.2222222222222222,
              "#7201a8"
             ],
             [
              0.3333333333333333,
              "#9c179e"
             ],
             [
              0.4444444444444444,
              "#bd3786"
             ],
             [
              0.5555555555555556,
              "#d8576b"
             ],
             [
              0.6666666666666666,
              "#ed7953"
             ],
             [
              0.7777777777777778,
              "#fb9f3a"
             ],
             [
              0.8888888888888888,
              "#fdca26"
             ],
             [
              1,
              "#f0f921"
             ]
            ],
            "type": "surface"
           }
          ],
          "table": [
           {
            "cells": {
             "fill": {
              "color": "#EBF0F8"
             },
             "line": {
              "color": "white"
             }
            },
            "header": {
             "fill": {
              "color": "#C8D4E3"
             },
             "line": {
              "color": "white"
             }
            },
            "type": "table"
           }
          ]
         },
         "layout": {
          "annotationdefaults": {
           "arrowcolor": "#2a3f5f",
           "arrowhead": 0,
           "arrowwidth": 1
          },
          "autotypenumbers": "strict",
          "coloraxis": {
           "colorbar": {
            "outlinewidth": 0,
            "ticks": ""
           }
          },
          "colorscale": {
           "diverging": [
            [
             0,
             "#8e0152"
            ],
            [
             0.1,
             "#c51b7d"
            ],
            [
             0.2,
             "#de77ae"
            ],
            [
             0.3,
             "#f1b6da"
            ],
            [
             0.4,
             "#fde0ef"
            ],
            [
             0.5,
             "#f7f7f7"
            ],
            [
             0.6,
             "#e6f5d0"
            ],
            [
             0.7,
             "#b8e186"
            ],
            [
             0.8,
             "#7fbc41"
            ],
            [
             0.9,
             "#4d9221"
            ],
            [
             1,
             "#276419"
            ]
           ],
           "sequential": [
            [
             0,
             "#0d0887"
            ],
            [
             0.1111111111111111,
             "#46039f"
            ],
            [
             0.2222222222222222,
             "#7201a8"
            ],
            [
             0.3333333333333333,
             "#9c179e"
            ],
            [
             0.4444444444444444,
             "#bd3786"
            ],
            [
             0.5555555555555556,
             "#d8576b"
            ],
            [
             0.6666666666666666,
             "#ed7953"
            ],
            [
             0.7777777777777778,
             "#fb9f3a"
            ],
            [
             0.8888888888888888,
             "#fdca26"
            ],
            [
             1,
             "#f0f921"
            ]
           ],
           "sequentialminus": [
            [
             0,
             "#0d0887"
            ],
            [
             0.1111111111111111,
             "#46039f"
            ],
            [
             0.2222222222222222,
             "#7201a8"
            ],
            [
             0.3333333333333333,
             "#9c179e"
            ],
            [
             0.4444444444444444,
             "#bd3786"
            ],
            [
             0.5555555555555556,
             "#d8576b"
            ],
            [
             0.6666666666666666,
             "#ed7953"
            ],
            [
             0.7777777777777778,
             "#fb9f3a"
            ],
            [
             0.8888888888888888,
             "#fdca26"
            ],
            [
             1,
             "#f0f921"
            ]
           ]
          },
          "colorway": [
           "#636efa",
           "#EF553B",
           "#00cc96",
           "#ab63fa",
           "#FFA15A",
           "#19d3f3",
           "#FF6692",
           "#B6E880",
           "#FF97FF",
           "#FECB52"
          ],
          "font": {
           "color": "#2a3f5f"
          },
          "geo": {
           "bgcolor": "white",
           "lakecolor": "white",
           "landcolor": "#E5ECF6",
           "showlakes": true,
           "showland": true,
           "subunitcolor": "white"
          },
          "hoverlabel": {
           "align": "left"
          },
          "hovermode": "closest",
          "mapbox": {
           "style": "light"
          },
          "paper_bgcolor": "white",
          "plot_bgcolor": "#E5ECF6",
          "polar": {
           "angularaxis": {
            "gridcolor": "white",
            "linecolor": "white",
            "ticks": ""
           },
           "bgcolor": "#E5ECF6",
           "radialaxis": {
            "gridcolor": "white",
            "linecolor": "white",
            "ticks": ""
           }
          },
          "scene": {
           "xaxis": {
            "backgroundcolor": "#E5ECF6",
            "gridcolor": "white",
            "gridwidth": 2,
            "linecolor": "white",
            "showbackground": true,
            "ticks": "",
            "zerolinecolor": "white"
           },
           "yaxis": {
            "backgroundcolor": "#E5ECF6",
            "gridcolor": "white",
            "gridwidth": 2,
            "linecolor": "white",
            "showbackground": true,
            "ticks": "",
            "zerolinecolor": "white"
           },
           "zaxis": {
            "backgroundcolor": "#E5ECF6",
            "gridcolor": "white",
            "gridwidth": 2,
            "linecolor": "white",
            "showbackground": true,
            "ticks": "",
            "zerolinecolor": "white"
           }
          },
          "shapedefaults": {
           "line": {
            "color": "#2a3f5f"
           }
          },
          "ternary": {
           "aaxis": {
            "gridcolor": "white",
            "linecolor": "white",
            "ticks": ""
           },
           "baxis": {
            "gridcolor": "white",
            "linecolor": "white",
            "ticks": ""
           },
           "bgcolor": "#E5ECF6",
           "caxis": {
            "gridcolor": "white",
            "linecolor": "white",
            "ticks": ""
           }
          },
          "title": {
           "x": 0.05
          },
          "xaxis": {
           "automargin": true,
           "gridcolor": "white",
           "linecolor": "white",
           "ticks": "",
           "title": {
            "standoff": 15
           },
           "zerolinecolor": "white",
           "zerolinewidth": 2
          },
          "yaxis": {
           "automargin": true,
           "gridcolor": "white",
           "linecolor": "white",
           "ticks": "",
           "title": {
            "standoff": 15
           },
           "zerolinecolor": "white",
           "zerolinewidth": 2
          }
         }
        },
        "title": {
         "text": "Class Distribution for Cancelled PNRS"
        }
       }
      }
     },
     "metadata": {},
     "output_type": "display_data"
    }
   ],
   "source": [
    "# plot for class distribution for cancelled flights\n",
    "fig = px.pie(df, names='allocated_classes', title='Class Distribution for All PNRS')\n",
    "\n",
    "# plot for class distribution for cancelled flights\n",
    "fig2 = px.pie(df, names='canclled_class', title='Class Distribution for Cancelled PNRS')\n",
    "fig.show()\n",
    "fig2.show()\n",
    "\n"
   ]
  },
  {
   "cell_type": "code",
   "execution_count": 96,
   "metadata": {},
   "outputs": [
    {
     "name": "stdout",
     "output_type": "stream",
     "text": [
      "Mean Delay: 23.21038489469862 hours, std_dev: 19.9204727958815\n"
     ]
    },
    {
     "data": {
      "application/vnd.plotly.v1+json": {
       "config": {
        "plotlyServerURL": "https://plot.ly"
       },
       "data": [
        {
         "alignmentgroup": "True",
         "hovertemplate": "pnr=%{x}<br>allocated_flights_score=%{y}<extra></extra>",
         "legendgroup": "",
         "marker": {
          "color": "blue",
          "pattern": {
           "shape": ""
          }
         },
         "name": "",
         "offsetgroup": "",
         "orientation": "v",
         "showlegend": false,
         "textposition": "auto",
         "type": "bar",
         "x": [
          "OBCB27",
          "FKBF56",
          "KIMD35",
          "HYWJ10",
          "RCIC42",
          "METU64",
          "CVNQ54",
          "QNXR94",
          "RKUO87",
          "WRBU48",
          "IIQP50",
          "UBCO49",
          "SJSW50",
          "KKQO33",
          "HUEU97",
          "DOMX92",
          "VFJJ76",
          "AIAH82",
          "UXVV30",
          "TYAV95",
          "ISGA38",
          "MSRJ79",
          "IZSF69",
          "EMQE80",
          "HHLN28",
          "DXDG12",
          "JQEY56",
          "BCFH57",
          "FLOW15",
          "WBTA61",
          "LOPU85",
          "TNVG32",
          "PUYD31",
          "EWSG56",
          "AKOX72",
          "WJMV67",
          "XSCX58",
          "HAJT64",
          "NQIR91",
          "GXUC18",
          "TGTE84",
          "AGLB29",
          "YVFV40",
          "NDWM53",
          "UNSF23",
          "YDIV49",
          "VRKF96",
          "TGXX73",
          "OGNC74",
          "UNYK86",
          "ONGL32",
          "QKBU91",
          "ZOGF53",
          "VTNP31",
          "GWNV19",
          "JGQQ52",
          "AXIQ57",
          "IXYT77",
          "OJNO70",
          "XTGX73",
          "ITOY34",
          "CKTX37",
          "KCJS73",
          "CAJQ90",
          "ZELQ21",
          "WNYS90",
          "KAVF60",
          "OIVX64",
          "DPIN74",
          "SJTN28",
          "GYNV48",
          "VXSU87",
          "RHRA39",
          "LQMR87",
          "NAPT42",
          "JCJN49",
          "QLHD46",
          "BBOZ29",
          "PAWH48",
          "DSFR43",
          "CKOO43",
          "CMXE97",
          "BGZE20",
          "JVHJ26",
          "ARKD19",
          "BZSF12",
          "LDQA24",
          "XDQQ87",
          "BSOA62",
          "UJQR86",
          "ONGM57",
          "WHQC27",
          "NITW35",
          "BFCN84",
          "ZGYQ56",
          "JSTA99",
          "LGSP81",
          "NNEP91",
          "WUME37",
          "KLBU17",
          "CSVC82",
          "YXOI63",
          "UNSN60",
          "KENT99",
          "GVTP10",
          "IZWI35",
          "OENH79",
          "ESWL74",
          "ESKU68",
          "EFUM72",
          "PPTC43",
          "VWYV75",
          "LZTJ27",
          "AIVN76",
          "FIZY56",
          "BSXO45",
          "ZWEK49",
          "VUKP31",
          "HVFK10",
          "STKH22",
          "BCOG34",
          "CCDD14",
          "OEOB78",
          "GCBX54",
          "JRHR53",
          "YNPW68",
          "HPCB35",
          "BTUY63",
          "FSIF74",
          "SHCK89",
          "AHZG32",
          "ARVH27",
          "TOIY80",
          "UCJT38",
          "TZOM47",
          "MFND91",
          "KUSK79",
          "TGJW16",
          "CONH42",
          "SHAV55",
          "MOBP10",
          "YYXU14",
          "WBMS77",
          "APYV63",
          "PWNO45",
          "GPNU96",
          "HAJF16",
          "AXAX32",
          "KQZY95",
          "RRMM37",
          "DUKC21",
          "KQIR15",
          "RXDW39",
          "LHQF76",
          "ASEF54",
          "SBHC33",
          "DTSX26",
          "QUVY84",
          "WFMJ55",
          "ZDKC36",
          "UZKL22",
          "RRGS45",
          "NATL70",
          "CDCV79",
          "ALTR80",
          "GTNR68",
          "DJJY87",
          "XWGC34",
          "UKUK40",
          "OWSQ97",
          "GQHO73",
          "ALRK90",
          "UBHZ78",
          "OZUT25",
          "FKRF40",
          "VDFF44",
          "ANCE37",
          "HWON19",
          "PTNO98",
          "POAQ69",
          "QJLV48",
          "ETZY91",
          "HVJB92",
          "XTBX90",
          "JTJI79",
          "AUOO52",
          "TZTL99",
          "STMT31",
          "FYFP65",
          "MVFO51",
          "ZASK74",
          "ODZN95",
          "HEPT26",
          "JLNP60",
          "QFOR80",
          "CQIK83",
          "KLYP49",
          "DQCF43",
          "SNYI92",
          "RWBR52",
          "QECF46",
          "AQNL47",
          "PQOV16",
          "JCQJ32",
          "ORIX85",
          "XOQT13",
          "RPGC12",
          "KAZA18",
          "DXIE73",
          "COIB65",
          "LEJE37",
          "PPAX23",
          "EJQJ68",
          "JZDS61",
          "RCJP27",
          "HJMG32",
          "GUKB59",
          "SGDT71",
          "TIOK51",
          "HAMF65",
          "OYXB82",
          "FBHC43",
          "ODUR60",
          "IKFF97",
          "TZVR85",
          "PFHK83",
          "OISL18",
          "NOGS81",
          "MXUV18",
          "WYLK21",
          "DWZZ61",
          "PQOY36",
          "KOFM20",
          "RFWU14",
          "TJEQ90",
          "CSRR51",
          "CKXS65",
          "JRTJ85",
          "LLDJ77",
          "AEKU34",
          "YPQV77",
          "GZJH95",
          "TOGD18",
          "HHXB42",
          "WGUO57",
          "GHFD72",
          "OOQU17",
          "BTPM40",
          "JIZC52",
          "GCMG66",
          "UXDE15",
          "PQKA70",
          "HXSA63",
          "HBSS30",
          "MEFS34",
          "CNPO73",
          "SKXE42",
          "SQMX53",
          "LTRM99",
          "QSIX89",
          "KFYE74",
          "DWNT24",
          "CYSU36",
          "SJOG81",
          "QWFD56",
          "DLAU55",
          "BPUD35",
          "YPGF74",
          "EBMN77",
          "JAFL69",
          "VFSF33",
          "MBOQ39",
          "HUSS80",
          "XAXK13",
          "CXHN76",
          "OQLJ54",
          "SXCJ47",
          "FLUS31",
          "UMFN26",
          "VCWU29",
          "VVPN34",
          "TMGN22",
          "LJSQ23",
          "ARWF60",
          "BENO63",
          "DUTC29",
          "UQWP71",
          "EBBQ47",
          "ECJI31",
          "XJSK78",
          "MTJF44",
          "YXYQ95",
          "YHZM86",
          "CEOO43",
          "AVUP19",
          "CESM35",
          "NYHF21",
          "LEJF43",
          "FHLE86",
          "SZPP27",
          "KZZQ98",
          "TVES16",
          "UCRI68",
          "MHKY29",
          "SJLU38",
          "ZEIO40",
          "GWNX46",
          "IGER93",
          "HKVE20",
          "YNRD59",
          "ZNLM43",
          "TPGM27",
          "IPCJ60",
          "BBKQ34",
          "OPKM39",
          "GRKW19",
          "PRWK29",
          "DXJH99",
          "RQIR95",
          "GQCC71",
          "TBVA58",
          "GKJN81",
          "HLWC88",
          "VNMI75",
          "KCDU66",
          "BLQF17",
          "YDLG96",
          "OBWW74",
          "ZXNE22",
          "BWLY10",
          "XMCD50",
          "VRMJ38",
          "ULNA40",
          "RFML44",
          "HEKU82",
          "RMBZ73",
          "ADBU76",
          "MTIH10",
          "HQFT40",
          "CYGT37",
          "ABJY21",
          "PLLI94",
          "SHRF14",
          "NTHH51",
          "KGVE56",
          "DEIG60",
          "ZGCS80",
          "IHAN83",
          "MWKJ36",
          "ZZJJ93",
          "HIDK34",
          "SAZH59",
          "QMJU30",
          "RJRX96",
          "HWNQ25",
          "YPEO71",
          "ZVHT81",
          "DTAP43",
          "ESAK35",
          "XAWC41",
          "QZBB18",
          "LDCN15",
          "TQHY23",
          "ITWI77",
          "QTOL20",
          "CUVB41",
          "SYQS89",
          "DBXT38",
          "UIPM64",
          "XIEJ75",
          "JCCL86",
          "AGTZ20",
          "GRYJ10",
          "EHXX65",
          "NJRI89",
          "WCTN75",
          "JBPE61",
          "NCBF52",
          "XRAU69",
          "WWVY42",
          "CLLT73",
          "TEKX84",
          "SVUD33",
          "TVJT23",
          "HFET39",
          "WETD68",
          "TRUX86",
          "CZIL98",
          "DDSN90",
          "CNNN69",
          "NXVJ18",
          "HTXZ52",
          "VFLG14",
          "SXKC58",
          "DIKX30",
          "ORDB55",
          "RMIB10",
          "KLNK89",
          "GXSK66",
          "GCZN99",
          "SCJT65",
          "BPIA17",
          "MSZX21",
          "FMEB47",
          "JBTR23",
          "CDWU92",
          "OPTF44",
          "KOYD46",
          "FHGJ87",
          "KZRO57",
          "OIMB80",
          "FETM37",
          "UWSX94",
          "DULQ82",
          "NFUH97",
          "PDXW81",
          "CFTY17",
          "UCQU27",
          "TRXT43",
          "KLPS61",
          "NHPX81",
          "ZRGW22",
          "ONAJ71",
          "NNFX90",
          "UANL74",
          "LGSG11",
          "NOBW66",
          "RSWB62",
          "LZNB89",
          "VWMU23",
          "BXPK37",
          "NEVB63",
          "EJGI27",
          "RYRI54",
          "XKDR47",
          "SETU42",
          "BWBC11",
          "VGCG50",
          "YFYA31",
          "QMKZ57",
          "NVIM24",
          "NAIB34",
          "WWGP94",
          "QBVN74",
          "BMSX65",
          "FXHE50",
          "EEXO48",
          "ZXAG92",
          "LKOW23",
          "XJTB90",
          "PDKO77",
          "VICJ80",
          "ZYXC32",
          "KJXK50",
          "LQRR20",
          "MHRH19",
          "MEAE27",
          "TBBM88",
          "BMKS78",
          "RZJE80",
          "XXUJ80",
          "FOEH31",
          "CFKT22",
          "OIEV75",
          "ENHP81",
          "NUEC95",
          "STRO84",
          "NBTI23",
          "LLCM69",
          "IXJC94",
          "MGUS94",
          "WFSI48",
          "JVZL51",
          "SUBP18",
          "PBYB37",
          "UKYN79",
          "YRPB60",
          "YHPZ35",
          "SRMH24",
          "GQLM65",
          "TLSS85",
          "ZALE77",
          "SYSY62",
          "URBX68",
          "HLHZ81",
          "UWNQ40",
          "DSVE57",
          "EYPB50",
          "DOVL88",
          "OBZB10",
          "TMRV30",
          "GJMS34",
          "ZGTX94",
          "CNKD39"
         ],
         "xaxis": "x",
         "y": [
          -1,
          -1,
          -1,
          -1,
          -1,
          -1,
          -1,
          -1,
          -1,
          -1,
          -1,
          -1,
          -1,
          -1,
          -1,
          -1,
          -1,
          -1,
          -1,
          -1,
          -1,
          -1,
          -1,
          -1,
          -1,
          -1,
          -1,
          -1,
          -1,
          -1,
          -1,
          -1,
          -1,
          -1,
          -1,
          92.96486534157648,
          92.96486534157648,
          92.96486534157648,
          92.96486534157648,
          92.96486534157648,
          92.96486534157648,
          92.96486534157648,
          92.96486534157648,
          92.96486534157648,
          92.96486534157648,
          92.96486534157648,
          92.96486534157648,
          92.96486534157648,
          92.96486534157648,
          92.96486534157648,
          92.96486534157648,
          92.96486534157648,
          92.96486534157648,
          92.96486534157648,
          92.96486534157648,
          92.96486534157648,
          119.04875619504796,
          119.04875619504796,
          119.04875619504796,
          119.04875619504796,
          119.04875619504796,
          119.04875619504796,
          119.04875619504796,
          119.04875619504796,
          119.04875619504796,
          119.04875619504796,
          119.04875619504796,
          119.04875619504796,
          119.04875619504796,
          119.04875619504796,
          119.04875619504796,
          119.04875619504796,
          119.04875619504796,
          119.04875619504796,
          119.04875619504796,
          119.04875619504796,
          119.04875619504796,
          119.04875619504796,
          119.04875619504796,
          119.04875619504796,
          119.04875619504796,
          119.04875619504796,
          119.04875619504796,
          119.04875619504796,
          119.04875619504796,
          119.04875619504796,
          119.04875619504796,
          119.04875619504796,
          119.04875619504796,
          119.04875619504796,
          119.04875619504796,
          443.5500774908883,
          443.5500774908883,
          443.5500774908883,
          443.5500774908883,
          443.5500774908883,
          443.5500774908883,
          443.5500774908883,
          443.5500774908883,
          443.5500774908883,
          443.5500774908883,
          443.5500774908883,
          443.5500774908883,
          443.5500774908883,
          443.5500774908883,
          443.5500774908883,
          443.5500774908883,
          443.5500774908883,
          443.5500774908883,
          443.5500774908883,
          443.5500774908883,
          443.5500774908883,
          443.5500774908883,
          443.5500774908883,
          443.5500774908883,
          443.5500774908883,
          443.5500774908883,
          443.5500774908883,
          443.5500774908883,
          443.5500774908883,
          443.5500774908883,
          443.5500774908883,
          443.5500774908883,
          443.5500774908883,
          459.02694352587935,
          459.02694352587935,
          459.02694352587935,
          459.02694352587935,
          459.02694352587935,
          597.1456887946434,
          597.1456887946434,
          597.1456887946434,
          597.1456887946434,
          597.1456887946434,
          597.1456887946434,
          597.1456887946434,
          597.1456887946434,
          597.1456887946434,
          597.1456887946434,
          597.1456887946434,
          597.1456887946434,
          597.1456887946434,
          597.1456887946434,
          597.1456887946434,
          597.1456887946434,
          597.1456887946434,
          597.1456887946434,
          611.5560423825696,
          611.5560423825696,
          670.3729122341166,
          670.3729122341166,
          670.3729122341166,
          670.3729122341166,
          694.1732579388879,
          694.1732579388879,
          694.1732579388879,
          694.1732579388879,
          694.1732579388879,
          694.1732579388879,
          694.1732579388879,
          694.1732579388879,
          694.1732579388879,
          694.1732579388879,
          694.1732579388879,
          700.7937628957652,
          700.7937628957652,
          700.7937628957652,
          700.7937628957652,
          735.3063760057219,
          776.7155876322822,
          776.7155876322822,
          776.7155876322822,
          776.7155876322822,
          776.7155876322822,
          776.7155876322822,
          776.7155876322822,
          789.904526038866,
          818.6832912724042,
          818.6832912724042,
          818.6832912724042,
          829.1213850751542,
          829.1213850751542,
          883.0582630304477,
          883.0582630304477,
          970.0813544353788,
          970.0813544353788,
          970.0813544353788,
          970.0813544353788,
          970.0813544353788,
          970.0813544353788,
          970.0813544353788,
          970.0813544353788,
          970.0813544353788,
          970.0813544353788,
          970.0813544353788,
          970.0813544353788,
          970.0813544353788,
          970.0813544353788,
          972.9887214639712,
          972.9887214639712,
          972.9887214639712,
          972.9887214639712,
          972.9887214639712,
          972.9887214639712,
          972.9887214639712,
          972.9887214639712,
          972.9887214639712,
          977.782159325744,
          977.782159325744,
          977.782159325744,
          1107.9454169297842,
          1107.9454169297842,
          1107.9454169297842,
          1107.9454169297842,
          1107.9454169297842,
          1107.9454169297842,
          1107.9454169297842,
          1107.9454169297842,
          1107.9454169297842,
          1107.9454169297842,
          1107.9454169297842,
          1107.9454169297842,
          1107.9454169297842,
          1107.9454169297842,
          1107.9454169297842,
          1107.9454169297842,
          1187.6502897289804,
          1187.6502897289804,
          1187.6502897289804,
          1187.6502897289804,
          1187.6502897289804,
          1187.6502897289804,
          1187.6502897289804,
          1187.6502897289804,
          1187.6502897289804,
          1187.6502897289804,
          1187.6502897289804,
          1187.6502897289804,
          1187.6502897289804,
          1190.200787720153,
          1266.617867590669,
          1266.617867590669,
          1266.617867590669,
          1266.617867590669,
          1266.617867590669,
          1266.617867590669,
          1266.617867590669,
          1266.617867590669,
          1266.617867590669,
          1266.617867590669,
          1266.617867590669,
          1266.617867590669,
          1282.4669985244918,
          1282.4669985244918,
          1282.4669985244918,
          1623.0318165120138,
          2908.814745911952,
          3021.0792710398814,
          3021.0792710398814,
          3021.0792710398814,
          3021.0792710398814,
          4439.28960757611,
          4607.329149223111,
          4607.329149223111,
          4607.329149223111,
          4607.329149223111,
          4607.329149223111,
          4607.329149223111,
          5022.1115156973,
          5022.1115156973,
          5022.1115156973,
          5022.1115156973,
          5022.1115156973,
          5022.1115156973,
          5022.1115156973,
          5022.1115156973,
          5022.1115156973,
          5022.1115156973,
          5022.1115156973,
          5022.1115156973,
          5022.1115156973,
          5022.1115156973,
          5022.1115156973,
          5022.1115156973,
          5022.1115156973,
          5022.1115156973,
          5022.1115156973,
          5022.1115156973,
          5022.1115156973,
          5022.1115156973,
          5818.730026203097,
          5818.730026203097,
          5818.730026203097,
          5818.730026203097,
          5818.730026203097,
          5818.730026203097,
          5818.730026203097,
          5818.730026203097,
          5818.730026203097,
          5818.730026203097,
          5818.730026203097,
          5818.730026203097,
          5818.730026203097,
          5818.730026203097,
          5818.730026203097,
          5818.730026203097,
          5818.730026203097,
          5818.730026203097,
          5818.730026203097,
          5818.730026203097,
          5818.730026203097,
          5818.730026203097,
          5818.730026203097,
          5818.730026203097,
          5818.730026203097,
          5818.730026203097,
          5818.730026203097,
          5818.730026203097,
          5818.730026203097,
          11494.598450935637,
          11494.598450935637,
          11494.598450935637,
          11494.598450935637,
          11494.598450935637,
          11494.598450935637,
          11494.598450935637,
          11494.598450935637,
          13554.278617103784,
          13554.278617103784,
          13554.278617103784,
          19166.840175976868,
          19166.840175976868,
          19166.840175976868,
          19166.840175976868,
          19166.840175976868,
          19166.840175976868,
          19166.840175976868,
          19166.840175976868,
          19166.840175976868,
          19166.840175976868,
          20523.66503257869,
          20596.892256018164,
          22047.551331729905,
          22047.551331729905,
          22047.551331729905,
          22047.551331729905,
          22047.551331729905,
          22047.551331729905,
          22047.551331729905,
          26773.42883554966,
          26773.42883554966,
          26773.42883554966,
          29577.438699008864,
          29577.438699008864,
          29577.438699008864,
          29577.438699008864,
          29577.438699008864,
          29577.438699008864,
          29577.438699008864,
          29577.438699008864,
          29577.438699008864,
          29577.438699008864,
          29577.438699008864,
          29577.438699008864,
          29577.438699008864,
          32154.96789255786,
          36740.09439633892,
          36740.09439633892,
          36740.09439633892,
          36740.09439633892,
          36740.09439633892,
          36740.09439633892,
          36740.09439633892,
          36740.09439633892,
          36740.09439633892,
          36740.09439633892,
          36740.09439633892,
          36740.09439633892,
          36741.16978240515,
          36741.16978240515,
          36741.16978240515,
          36741.16978240515,
          36741.16978240515,
          36741.16978240515,
          36741.16978240515,
          36741.16978240515,
          36741.16978240515,
          36741.16978240515,
          36741.16978240515,
          36742.67060456094,
          38216.19592826646,
          38216.19592826646,
          38216.19592826646,
          38216.19592826646,
          71208.31197988335,
          71208.31197988335,
          71208.31197988335,
          71208.31197988335,
          71208.31197988335,
          71208.31197988335,
          71208.31197988335,
          71208.31197988335,
          71208.31197988335,
          71208.31197988335,
          71208.31197988335,
          71208.31197988335,
          71208.31197988335,
          71208.31197988335,
          71208.31197988335,
          71208.31197988335,
          71208.31197988335,
          71208.31197988335,
          71208.31197988335,
          84465.05730499944,
          84465.05730499944,
          84465.05730499944,
          84465.05730499944,
          84465.05730499944,
          98750.19181938698,
          98750.19181938698,
          98750.19181938698,
          98750.19181938698,
          98750.19181938698,
          98750.19181938698,
          98750.19181938698,
          98750.19181938698,
          98750.19181938698,
          98750.19181938698,
          98750.19181938698,
          98750.19181938698,
          98750.19181938698,
          98750.19181938698,
          98750.19181938698,
          98750.19181938698,
          98750.19181938698,
          98750.19181938698,
          98750.19181938698,
          98750.19181938698,
          100114.49670769415,
          100114.49670769415,
          100114.49670769415,
          100114.49670769415,
          100114.49670769415,
          100114.49670769415,
          100114.49670769415,
          100114.49670769415,
          100114.49670769415,
          100114.49670769415,
          100114.49670769415,
          100114.49670769415,
          100114.49670769415,
          100114.49670769415,
          100114.49670769415,
          106450.5959095079,
          106450.5959095079,
          106450.5959095079,
          106450.5959095079,
          106450.5959095079,
          106450.5959095079,
          106450.5959095079,
          106450.5959095079,
          110326.62816010528,
          317197.5993789891,
          317197.5993789891,
          317197.5993789891,
          389898.4005656608,
          389898.4005656608,
          389898.4005656608,
          389898.4005656608,
          389898.4005656608,
          389898.4005656608,
          389898.4005656608,
          389898.4005656608,
          389898.4005656608,
          389898.4005656608,
          627566.1290098839,
          1242426.2267284675,
          1242426.2267284675,
          8922714.038965972,
          8922714.038965972,
          8922714.038965972,
          8922714.038965972,
          8922714.038965972,
          8922748.551579082,
          8922748.551579082,
          8922842.366588151,
          8924088.932658516,
          8925530.296757037,
          8932170.337230053,
          17315330.92627149,
          17315330.92627149,
          677115935.6600528,
          677115935.6600528,
          677419578.9808147
         ],
         "yaxis": "y"
        },
        {
         "hovertemplate": "pnr=%{x}<br>delay=%{y}<extra></extra>",
         "legendgroup": "",
         "marker": {
          "color": "#636efa",
          "symbol": "circle"
         },
         "mode": "markers",
         "name": "",
         "orientation": "v",
         "showlegend": false,
         "type": "scatter",
         "x": [
          "OBCB27",
          "FKBF56",
          "KIMD35",
          "HYWJ10",
          "RCIC42",
          "METU64",
          "CVNQ54",
          "QNXR94",
          "RKUO87",
          "WRBU48",
          "IIQP50",
          "UBCO49",
          "SJSW50",
          "KKQO33",
          "HUEU97",
          "DOMX92",
          "VFJJ76",
          "AIAH82",
          "UXVV30",
          "TYAV95",
          "ISGA38",
          "MSRJ79",
          "IZSF69",
          "EMQE80",
          "HHLN28",
          "DXDG12",
          "JQEY56",
          "BCFH57",
          "FLOW15",
          "WBTA61",
          "LOPU85",
          "TNVG32",
          "PUYD31",
          "EWSG56",
          "AKOX72",
          "WJMV67",
          "XSCX58",
          "HAJT64",
          "NQIR91",
          "GXUC18",
          "TGTE84",
          "AGLB29",
          "YVFV40",
          "NDWM53",
          "UNSF23",
          "YDIV49",
          "VRKF96",
          "TGXX73",
          "OGNC74",
          "UNYK86",
          "ONGL32",
          "QKBU91",
          "ZOGF53",
          "VTNP31",
          "GWNV19",
          "JGQQ52",
          "AXIQ57",
          "IXYT77",
          "OJNO70",
          "XTGX73",
          "ITOY34",
          "CKTX37",
          "KCJS73",
          "CAJQ90",
          "ZELQ21",
          "WNYS90",
          "KAVF60",
          "OIVX64",
          "DPIN74",
          "SJTN28",
          "GYNV48",
          "VXSU87",
          "RHRA39",
          "LQMR87",
          "NAPT42",
          "JCJN49",
          "QLHD46",
          "BBOZ29",
          "PAWH48",
          "DSFR43",
          "CKOO43",
          "CMXE97",
          "BGZE20",
          "JVHJ26",
          "ARKD19",
          "BZSF12",
          "LDQA24",
          "XDQQ87",
          "BSOA62",
          "UJQR86",
          "ONGM57",
          "WHQC27",
          "NITW35",
          "BFCN84",
          "ZGYQ56",
          "JSTA99",
          "LGSP81",
          "NNEP91",
          "WUME37",
          "KLBU17",
          "CSVC82",
          "YXOI63",
          "UNSN60",
          "KENT99",
          "GVTP10",
          "IZWI35",
          "OENH79",
          "ESWL74",
          "ESKU68",
          "EFUM72",
          "PPTC43",
          "VWYV75",
          "LZTJ27",
          "AIVN76",
          "FIZY56",
          "BSXO45",
          "ZWEK49",
          "VUKP31",
          "HVFK10",
          "STKH22",
          "BCOG34",
          "CCDD14",
          "OEOB78",
          "GCBX54",
          "JRHR53",
          "YNPW68",
          "HPCB35",
          "BTUY63",
          "FSIF74",
          "SHCK89",
          "AHZG32",
          "ARVH27",
          "TOIY80",
          "UCJT38",
          "TZOM47",
          "MFND91",
          "KUSK79",
          "TGJW16",
          "CONH42",
          "SHAV55",
          "MOBP10",
          "YYXU14",
          "WBMS77",
          "APYV63",
          "PWNO45",
          "GPNU96",
          "HAJF16",
          "AXAX32",
          "KQZY95",
          "RRMM37",
          "DUKC21",
          "KQIR15",
          "RXDW39",
          "LHQF76",
          "ASEF54",
          "SBHC33",
          "DTSX26",
          "QUVY84",
          "WFMJ55",
          "ZDKC36",
          "UZKL22",
          "RRGS45",
          "NATL70",
          "CDCV79",
          "ALTR80",
          "GTNR68",
          "DJJY87",
          "XWGC34",
          "UKUK40",
          "OWSQ97",
          "GQHO73",
          "ALRK90",
          "UBHZ78",
          "OZUT25",
          "FKRF40",
          "VDFF44",
          "ANCE37",
          "HWON19",
          "PTNO98",
          "POAQ69",
          "QJLV48",
          "ETZY91",
          "HVJB92",
          "XTBX90",
          "JTJI79",
          "AUOO52",
          "TZTL99",
          "STMT31",
          "FYFP65",
          "MVFO51",
          "ZASK74",
          "ODZN95",
          "HEPT26",
          "JLNP60",
          "QFOR80",
          "CQIK83",
          "KLYP49",
          "DQCF43",
          "SNYI92",
          "RWBR52",
          "QECF46",
          "AQNL47",
          "PQOV16",
          "JCQJ32",
          "ORIX85",
          "XOQT13",
          "RPGC12",
          "KAZA18",
          "DXIE73",
          "COIB65",
          "LEJE37",
          "PPAX23",
          "EJQJ68",
          "JZDS61",
          "RCJP27",
          "HJMG32",
          "GUKB59",
          "SGDT71",
          "TIOK51",
          "HAMF65",
          "OYXB82",
          "FBHC43",
          "ODUR60",
          "IKFF97",
          "TZVR85",
          "PFHK83",
          "OISL18",
          "NOGS81",
          "MXUV18",
          "WYLK21",
          "DWZZ61",
          "PQOY36",
          "KOFM20",
          "RFWU14",
          "TJEQ90",
          "CSRR51",
          "CKXS65",
          "JRTJ85",
          "LLDJ77",
          "AEKU34",
          "YPQV77",
          "GZJH95",
          "TOGD18",
          "HHXB42",
          "WGUO57",
          "GHFD72",
          "OOQU17",
          "BTPM40",
          "JIZC52",
          "GCMG66",
          "UXDE15",
          "PQKA70",
          "HXSA63",
          "HBSS30",
          "MEFS34",
          "CNPO73",
          "SKXE42",
          "SQMX53",
          "LTRM99",
          "QSIX89",
          "KFYE74",
          "DWNT24",
          "CYSU36",
          "SJOG81",
          "QWFD56",
          "DLAU55",
          "BPUD35",
          "YPGF74",
          "EBMN77",
          "JAFL69",
          "VFSF33",
          "MBOQ39",
          "HUSS80",
          "XAXK13",
          "CXHN76",
          "OQLJ54",
          "SXCJ47",
          "FLUS31",
          "UMFN26",
          "VCWU29",
          "VVPN34",
          "TMGN22",
          "LJSQ23",
          "ARWF60",
          "BENO63",
          "DUTC29",
          "UQWP71",
          "EBBQ47",
          "ECJI31",
          "XJSK78",
          "MTJF44",
          "YXYQ95",
          "YHZM86",
          "CEOO43",
          "AVUP19",
          "CESM35",
          "NYHF21",
          "LEJF43",
          "FHLE86",
          "SZPP27",
          "KZZQ98",
          "TVES16",
          "UCRI68",
          "MHKY29",
          "SJLU38",
          "ZEIO40",
          "GWNX46",
          "IGER93",
          "HKVE20",
          "YNRD59",
          "ZNLM43",
          "TPGM27",
          "IPCJ60",
          "BBKQ34",
          "OPKM39",
          "GRKW19",
          "PRWK29",
          "DXJH99",
          "RQIR95",
          "GQCC71",
          "TBVA58",
          "GKJN81",
          "HLWC88",
          "VNMI75",
          "KCDU66",
          "BLQF17",
          "YDLG96",
          "OBWW74",
          "ZXNE22",
          "BWLY10",
          "XMCD50",
          "VRMJ38",
          "ULNA40",
          "RFML44",
          "HEKU82",
          "RMBZ73",
          "ADBU76",
          "MTIH10",
          "HQFT40",
          "CYGT37",
          "ABJY21",
          "PLLI94",
          "SHRF14",
          "NTHH51",
          "KGVE56",
          "DEIG60",
          "ZGCS80",
          "IHAN83",
          "MWKJ36",
          "ZZJJ93",
          "HIDK34",
          "SAZH59",
          "QMJU30",
          "RJRX96",
          "HWNQ25",
          "YPEO71",
          "ZVHT81",
          "DTAP43",
          "ESAK35",
          "XAWC41",
          "QZBB18",
          "LDCN15",
          "TQHY23",
          "ITWI77",
          "QTOL20",
          "CUVB41",
          "SYQS89",
          "DBXT38",
          "UIPM64",
          "XIEJ75",
          "JCCL86",
          "AGTZ20",
          "GRYJ10",
          "EHXX65",
          "NJRI89",
          "WCTN75",
          "JBPE61",
          "NCBF52",
          "XRAU69",
          "WWVY42",
          "CLLT73",
          "TEKX84",
          "SVUD33",
          "TVJT23",
          "HFET39",
          "WETD68",
          "TRUX86",
          "CZIL98",
          "DDSN90",
          "CNNN69",
          "NXVJ18",
          "HTXZ52",
          "VFLG14",
          "SXKC58",
          "DIKX30",
          "ORDB55",
          "RMIB10",
          "KLNK89",
          "GXSK66",
          "GCZN99",
          "SCJT65",
          "BPIA17",
          "MSZX21",
          "FMEB47",
          "JBTR23",
          "CDWU92",
          "OPTF44",
          "KOYD46",
          "FHGJ87",
          "KZRO57",
          "OIMB80",
          "FETM37",
          "UWSX94",
          "DULQ82",
          "NFUH97",
          "PDXW81",
          "CFTY17",
          "UCQU27",
          "TRXT43",
          "KLPS61",
          "NHPX81",
          "ZRGW22",
          "ONAJ71",
          "NNFX90",
          "UANL74",
          "LGSG11",
          "NOBW66",
          "RSWB62",
          "LZNB89",
          "VWMU23",
          "BXPK37",
          "NEVB63",
          "EJGI27",
          "RYRI54",
          "XKDR47",
          "SETU42",
          "BWBC11",
          "VGCG50",
          "YFYA31",
          "QMKZ57",
          "NVIM24",
          "NAIB34",
          "WWGP94",
          "QBVN74",
          "BMSX65",
          "FXHE50",
          "EEXO48",
          "ZXAG92",
          "LKOW23",
          "XJTB90",
          "PDKO77",
          "VICJ80",
          "ZYXC32",
          "KJXK50",
          "LQRR20",
          "MHRH19",
          "MEAE27",
          "TBBM88",
          "BMKS78",
          "RZJE80",
          "XXUJ80",
          "FOEH31",
          "CFKT22",
          "OIEV75",
          "ENHP81",
          "NUEC95",
          "STRO84",
          "NBTI23",
          "LLCM69",
          "IXJC94",
          "MGUS94",
          "WFSI48",
          "JVZL51",
          "SUBP18",
          "PBYB37",
          "UKYN79",
          "YRPB60",
          "YHPZ35",
          "SRMH24",
          "GQLM65",
          "TLSS85",
          "ZALE77",
          "SYSY62",
          "URBX68",
          "HLHZ81",
          "UWNQ40",
          "DSVE57",
          "EYPB50",
          "DOVL88",
          "OBZB10",
          "TMRV30",
          "GJMS34",
          "ZGTX94",
          "CNKD39"
         ],
         "xaxis": "x",
         "y": [
          null,
          null,
          null,
          null,
          null,
          null,
          null,
          null,
          null,
          null,
          null,
          null,
          null,
          null,
          null,
          null,
          null,
          null,
          null,
          null,
          null,
          null,
          null,
          null,
          null,
          null,
          null,
          null,
          null,
          null,
          null,
          null,
          null,
          null,
          null,
          9.416666666666666,
          9.416666666666666,
          9.416666666666666,
          9.416666666666666,
          9.416666666666666,
          9.416666666666666,
          9.416666666666666,
          9.416666666666666,
          9.416666666666666,
          9.416666666666666,
          9.416666666666666,
          9.416666666666666,
          9.416666666666666,
          9.416666666666666,
          9.416666666666666,
          9.416666666666666,
          9.416666666666666,
          9.416666666666666,
          9.416666666666666,
          9.416666666666666,
          9.416666666666666,
          -2.4833333333333334,
          -2.4833333333333334,
          -2.4833333333333334,
          -2.4833333333333334,
          -2.4833333333333334,
          -2.4833333333333334,
          -2.4833333333333334,
          -2.4833333333333334,
          -2.4833333333333334,
          -2.4833333333333334,
          -2.4833333333333334,
          -2.4833333333333334,
          -2.4833333333333334,
          -2.4833333333333334,
          -2.4833333333333334,
          -2.4833333333333334,
          -2.4833333333333334,
          -2.4833333333333334,
          -2.4833333333333334,
          -2.4833333333333334,
          -2.4833333333333334,
          -2.4833333333333334,
          -2.4833333333333334,
          -2.4833333333333334,
          -2.4833333333333334,
          -2.4833333333333334,
          -2.4833333333333334,
          -2.4833333333333334,
          -2.4833333333333334,
          -2.4833333333333334,
          -2.4833333333333334,
          -2.4833333333333334,
          -2.4833333333333334,
          -2.4833333333333334,
          -2.4833333333333334,
          12.816666666666666,
          12.816666666666666,
          12.816666666666666,
          12.816666666666666,
          12.816666666666666,
          12.816666666666666,
          12.816666666666666,
          12.816666666666666,
          12.816666666666666,
          12.816666666666666,
          12.816666666666666,
          12.816666666666666,
          12.816666666666666,
          12.816666666666666,
          12.816666666666666,
          12.816666666666666,
          12.816666666666666,
          12.816666666666666,
          12.816666666666666,
          12.816666666666666,
          12.816666666666666,
          12.816666666666666,
          12.816666666666666,
          12.816666666666666,
          12.816666666666666,
          12.816666666666666,
          12.816666666666666,
          12.816666666666666,
          12.816666666666666,
          12.816666666666666,
          12.816666666666666,
          12.816666666666666,
          12.816666666666666,
          13.366666666666667,
          13.366666666666667,
          13.366666666666667,
          13.366666666666667,
          13.366666666666667,
          5.033333333333333,
          5.033333333333333,
          5.033333333333333,
          5.033333333333333,
          5.033333333333333,
          5.033333333333333,
          5.033333333333333,
          5.033333333333333,
          5.033333333333333,
          5.033333333333333,
          5.033333333333333,
          5.033333333333333,
          5.033333333333333,
          5.033333333333333,
          5.033333333333333,
          5.033333333333333,
          5.033333333333333,
          5.033333333333333,
          13.366666666666667,
          13.366666666666667,
          5.033333333333333,
          5.033333333333333,
          5.033333333333333,
          5.033333333333333,
          6.35,
          6.35,
          6.35,
          6.35,
          6.35,
          6.35,
          6.35,
          6.35,
          6.35,
          6.35,
          6.35,
          25.25,
          25.25,
          25.25,
          25.25,
          25.25,
          5.033333333333333,
          5.033333333333333,
          5.033333333333333,
          5.033333333333333,
          5.033333333333333,
          5.033333333333333,
          5.033333333333333,
          25.25,
          13.366666666666667,
          13.366666666666667,
          13.366666666666667,
          25.25,
          25.25,
          5.033333333333333,
          5.033333333333333,
          18.766666666666666,
          18.766666666666666,
          18.766666666666666,
          18.766666666666666,
          18.766666666666666,
          18.766666666666666,
          18.766666666666666,
          18.766666666666666,
          18.766666666666666,
          18.766666666666666,
          18.766666666666666,
          18.766666666666666,
          18.766666666666666,
          18.766666666666666,
          18.766666666666666,
          18.766666666666666,
          18.766666666666666,
          18.766666666666666,
          18.766666666666666,
          18.766666666666666,
          18.766666666666666,
          18.766666666666666,
          18.766666666666666,
          18.766666666666666,
          18.766666666666666,
          18.766666666666666,
          13.366666666666667,
          13.366666666666667,
          13.366666666666667,
          13.366666666666667,
          13.366666666666667,
          13.366666666666667,
          13.366666666666667,
          13.366666666666667,
          13.366666666666667,
          13.366666666666667,
          13.366666666666667,
          13.366666666666667,
          13.366666666666667,
          13.366666666666667,
          13.366666666666667,
          13.366666666666667,
          7.65,
          7.65,
          7.65,
          7.65,
          7.65,
          7.65,
          7.65,
          7.65,
          7.65,
          7.65,
          7.65,
          7.65,
          7.65,
          13.366666666666667,
          18.016666666666666,
          18.016666666666666,
          18.016666666666666,
          18.016666666666666,
          18.016666666666666,
          18.016666666666666,
          18.016666666666666,
          18.016666666666666,
          18.016666666666666,
          18.016666666666666,
          18.016666666666666,
          18.016666666666666,
          18.016666666666666,
          18.016666666666666,
          18.016666666666666,
          38.25,
          38.25,
          12.816666666666666,
          12.816666666666666,
          12.816666666666666,
          12.816666666666666,
          38.25,
          64.2,
          64.2,
          64.2,
          64.2,
          64.2,
          64.2,
          17.65,
          17.65,
          17.65,
          17.65,
          17.65,
          17.65,
          17.65,
          17.65,
          17.65,
          17.65,
          17.65,
          17.65,
          17.65,
          17.65,
          17.65,
          17.65,
          17.65,
          17.65,
          17.65,
          17.65,
          17.65,
          17.65,
          12.066666666666666,
          12.066666666666666,
          12.066666666666666,
          12.066666666666666,
          12.066666666666666,
          12.066666666666666,
          12.066666666666666,
          12.066666666666666,
          12.066666666666666,
          12.066666666666666,
          12.066666666666666,
          12.066666666666666,
          12.066666666666666,
          12.066666666666666,
          12.066666666666666,
          12.066666666666666,
          12.066666666666666,
          12.066666666666666,
          12.066666666666666,
          12.066666666666666,
          12.066666666666666,
          12.066666666666666,
          12.066666666666666,
          12.066666666666666,
          12.066666666666666,
          12.066666666666666,
          12.066666666666666,
          12.066666666666666,
          12.066666666666666,
          18.016666666666666,
          18.016666666666666,
          18.016666666666666,
          18.016666666666666,
          18.016666666666666,
          18.016666666666666,
          18.016666666666666,
          18.016666666666666,
          26.883333333333333,
          26.883333333333333,
          26.883333333333333,
          21.516666666666666,
          21.516666666666666,
          21.516666666666666,
          21.516666666666666,
          21.516666666666666,
          21.516666666666666,
          21.516666666666666,
          21.516666666666666,
          21.516666666666666,
          21.516666666666666,
          38.25,
          38.25,
          25.933333333333334,
          25.933333333333334,
          25.933333333333334,
          25.933333333333334,
          25.933333333333334,
          25.933333333333334,
          25.933333333333334,
          56.233333333333334,
          56.233333333333334,
          56.233333333333334,
          69.55,
          69.55,
          69.55,
          69.55,
          69.55,
          69.55,
          69.55,
          69.55,
          69.55,
          69.55,
          69.55,
          69.55,
          69.55,
          69.55,
          35.06666666666667,
          35.06666666666667,
          35.06666666666667,
          35.06666666666667,
          35.06666666666667,
          35.06666666666667,
          35.06666666666667,
          35.06666666666667,
          35.06666666666667,
          35.06666666666667,
          35.06666666666667,
          35.06666666666667,
          35.06666666666667,
          35.06666666666667,
          35.06666666666667,
          35.06666666666667,
          35.06666666666667,
          35.06666666666667,
          35.06666666666667,
          35.06666666666667,
          35.06666666666667,
          35.06666666666667,
          35.06666666666667,
          35.06666666666667,
          41.8,
          41.8,
          41.8,
          41.8,
          39.18333333333333,
          39.18333333333333,
          39.18333333333333,
          39.18333333333333,
          39.18333333333333,
          39.18333333333333,
          39.18333333333333,
          39.18333333333333,
          39.18333333333333,
          39.18333333333333,
          39.18333333333333,
          39.18333333333333,
          39.18333333333333,
          39.18333333333333,
          39.18333333333333,
          39.18333333333333,
          39.18333333333333,
          39.18333333333333,
          39.18333333333333,
          12.066666666666666,
          12.066666666666666,
          12.066666666666666,
          12.066666666666666,
          12.066666666666666,
          18.016666666666666,
          18.016666666666666,
          18.016666666666666,
          18.016666666666666,
          18.016666666666666,
          18.016666666666666,
          18.016666666666666,
          18.016666666666666,
          18.016666666666666,
          18.016666666666666,
          18.016666666666666,
          18.016666666666666,
          18.016666666666666,
          18.016666666666666,
          18.016666666666666,
          18.016666666666666,
          18.016666666666666,
          18.016666666666666,
          18.016666666666666,
          18.016666666666666,
          58.016666666666666,
          58.016666666666666,
          58.016666666666666,
          58.016666666666666,
          58.016666666666666,
          58.016666666666666,
          58.016666666666666,
          58.016666666666666,
          58.016666666666666,
          58.016666666666666,
          58.016666666666666,
          58.016666666666666,
          58.016666666666666,
          58.016666666666666,
          58.016666666666666,
          58.016666666666666,
          58.016666666666666,
          58.016666666666666,
          58.016666666666666,
          58.016666666666666,
          58.016666666666666,
          58.016666666666666,
          58.016666666666666,
          58.016666666666666,
          26.883333333333333,
          26.883333333333333,
          26.883333333333333,
          40.1,
          40.1,
          40.1,
          40.1,
          40.1,
          40.1,
          40.1,
          40.1,
          40.1,
          40.1,
          69.55,
          69.55,
          69.55,
          69.76666666666667,
          69.76666666666667,
          69.76666666666667,
          69.76666666666667,
          69.76666666666667,
          69.76666666666667,
          69.76666666666667,
          69.76666666666667,
          69.76666666666667,
          69.76666666666667,
          69.76666666666667,
          69.55,
          69.55,
          60.11666666666667,
          60.11666666666667,
          60.11666666666667
         ],
         "yaxis": "y"
        },
        {
         "hovertemplate": "pnr=%{x}<br>delay=%{y}<extra></extra>",
         "legendgroup": "",
         "marker": {
          "color": "#636efa",
          "symbol": "circle"
         },
         "mode": "markers",
         "name": "",
         "orientation": "v",
         "showlegend": false,
         "type": "scatter",
         "x": [
          "OBCB27",
          "FKBF56",
          "KIMD35",
          "HYWJ10",
          "RCIC42",
          "METU64",
          "CVNQ54",
          "QNXR94",
          "RKUO87",
          "WRBU48",
          "IIQP50",
          "UBCO49",
          "SJSW50",
          "KKQO33",
          "HUEU97",
          "DOMX92",
          "VFJJ76",
          "AIAH82",
          "UXVV30",
          "TYAV95",
          "ISGA38",
          "MSRJ79",
          "IZSF69",
          "EMQE80",
          "HHLN28",
          "DXDG12",
          "JQEY56",
          "BCFH57",
          "FLOW15",
          "WBTA61",
          "LOPU85",
          "TNVG32",
          "PUYD31",
          "EWSG56",
          "AKOX72",
          "WJMV67",
          "XSCX58",
          "HAJT64",
          "NQIR91",
          "GXUC18",
          "TGTE84",
          "AGLB29",
          "YVFV40",
          "NDWM53",
          "UNSF23",
          "YDIV49",
          "VRKF96",
          "TGXX73",
          "OGNC74",
          "UNYK86",
          "ONGL32",
          "QKBU91",
          "ZOGF53",
          "VTNP31",
          "GWNV19",
          "JGQQ52",
          "AXIQ57",
          "IXYT77",
          "OJNO70",
          "XTGX73",
          "ITOY34",
          "CKTX37",
          "KCJS73",
          "CAJQ90",
          "ZELQ21",
          "WNYS90",
          "KAVF60",
          "OIVX64",
          "DPIN74",
          "SJTN28",
          "GYNV48",
          "VXSU87",
          "RHRA39",
          "LQMR87",
          "NAPT42",
          "JCJN49",
          "QLHD46",
          "BBOZ29",
          "PAWH48",
          "DSFR43",
          "CKOO43",
          "CMXE97",
          "BGZE20",
          "JVHJ26",
          "ARKD19",
          "BZSF12",
          "LDQA24",
          "XDQQ87",
          "BSOA62",
          "UJQR86",
          "ONGM57",
          "WHQC27",
          "NITW35",
          "BFCN84",
          "ZGYQ56",
          "JSTA99",
          "LGSP81",
          "NNEP91",
          "WUME37",
          "KLBU17",
          "CSVC82",
          "YXOI63",
          "UNSN60",
          "KENT99",
          "GVTP10",
          "IZWI35",
          "OENH79",
          "ESWL74",
          "ESKU68",
          "EFUM72",
          "PPTC43",
          "VWYV75",
          "LZTJ27",
          "AIVN76",
          "FIZY56",
          "BSXO45",
          "ZWEK49",
          "VUKP31",
          "HVFK10",
          "STKH22",
          "BCOG34",
          "CCDD14",
          "OEOB78",
          "GCBX54",
          "JRHR53",
          "YNPW68",
          "HPCB35",
          "BTUY63",
          "FSIF74",
          "SHCK89",
          "AHZG32",
          "ARVH27",
          "TOIY80",
          "UCJT38",
          "TZOM47",
          "MFND91",
          "KUSK79",
          "TGJW16",
          "CONH42",
          "SHAV55",
          "MOBP10",
          "YYXU14",
          "WBMS77",
          "APYV63",
          "PWNO45",
          "GPNU96",
          "HAJF16",
          "AXAX32",
          "KQZY95",
          "RRMM37",
          "DUKC21",
          "KQIR15",
          "RXDW39",
          "LHQF76",
          "ASEF54",
          "SBHC33",
          "DTSX26",
          "QUVY84",
          "WFMJ55",
          "ZDKC36",
          "UZKL22",
          "RRGS45",
          "NATL70",
          "CDCV79",
          "ALTR80",
          "GTNR68",
          "DJJY87",
          "XWGC34",
          "UKUK40",
          "OWSQ97",
          "GQHO73",
          "ALRK90",
          "UBHZ78",
          "OZUT25",
          "FKRF40",
          "VDFF44",
          "ANCE37",
          "HWON19",
          "PTNO98",
          "POAQ69",
          "QJLV48",
          "ETZY91",
          "HVJB92",
          "XTBX90",
          "JTJI79",
          "AUOO52",
          "TZTL99",
          "STMT31",
          "FYFP65",
          "MVFO51",
          "ZASK74",
          "ODZN95",
          "HEPT26",
          "JLNP60",
          "QFOR80",
          "CQIK83",
          "KLYP49",
          "DQCF43",
          "SNYI92",
          "RWBR52",
          "QECF46",
          "AQNL47",
          "PQOV16",
          "JCQJ32",
          "ORIX85",
          "XOQT13",
          "RPGC12",
          "KAZA18",
          "DXIE73",
          "COIB65",
          "LEJE37",
          "PPAX23",
          "EJQJ68",
          "JZDS61",
          "RCJP27",
          "HJMG32",
          "GUKB59",
          "SGDT71",
          "TIOK51",
          "HAMF65",
          "OYXB82",
          "FBHC43",
          "ODUR60",
          "IKFF97",
          "TZVR85",
          "PFHK83",
          "OISL18",
          "NOGS81",
          "MXUV18",
          "WYLK21",
          "DWZZ61",
          "PQOY36",
          "KOFM20",
          "RFWU14",
          "TJEQ90",
          "CSRR51",
          "CKXS65",
          "JRTJ85",
          "LLDJ77",
          "AEKU34",
          "YPQV77",
          "GZJH95",
          "TOGD18",
          "HHXB42",
          "WGUO57",
          "GHFD72",
          "OOQU17",
          "BTPM40",
          "JIZC52",
          "GCMG66",
          "UXDE15",
          "PQKA70",
          "HXSA63",
          "HBSS30",
          "MEFS34",
          "CNPO73",
          "SKXE42",
          "SQMX53",
          "LTRM99",
          "QSIX89",
          "KFYE74",
          "DWNT24",
          "CYSU36",
          "SJOG81",
          "QWFD56",
          "DLAU55",
          "BPUD35",
          "YPGF74",
          "EBMN77",
          "JAFL69",
          "VFSF33",
          "MBOQ39",
          "HUSS80",
          "XAXK13",
          "CXHN76",
          "OQLJ54",
          "SXCJ47",
          "FLUS31",
          "UMFN26",
          "VCWU29",
          "VVPN34",
          "TMGN22",
          "LJSQ23",
          "ARWF60",
          "BENO63",
          "DUTC29",
          "UQWP71",
          "EBBQ47",
          "ECJI31",
          "XJSK78",
          "MTJF44",
          "YXYQ95",
          "YHZM86",
          "CEOO43",
          "AVUP19",
          "CESM35",
          "NYHF21",
          "LEJF43",
          "FHLE86",
          "SZPP27",
          "KZZQ98",
          "TVES16",
          "UCRI68",
          "MHKY29",
          "SJLU38",
          "ZEIO40",
          "GWNX46",
          "IGER93",
          "HKVE20",
          "YNRD59",
          "ZNLM43",
          "TPGM27",
          "IPCJ60",
          "BBKQ34",
          "OPKM39",
          "GRKW19",
          "PRWK29",
          "DXJH99",
          "RQIR95",
          "GQCC71",
          "TBVA58",
          "GKJN81",
          "HLWC88",
          "VNMI75",
          "KCDU66",
          "BLQF17",
          "YDLG96",
          "OBWW74",
          "ZXNE22",
          "BWLY10",
          "XMCD50",
          "VRMJ38",
          "ULNA40",
          "RFML44",
          "HEKU82",
          "RMBZ73",
          "ADBU76",
          "MTIH10",
          "HQFT40",
          "CYGT37",
          "ABJY21",
          "PLLI94",
          "SHRF14",
          "NTHH51",
          "KGVE56",
          "DEIG60",
          "ZGCS80",
          "IHAN83",
          "MWKJ36",
          "ZZJJ93",
          "HIDK34",
          "SAZH59",
          "QMJU30",
          "RJRX96",
          "HWNQ25",
          "YPEO71",
          "ZVHT81",
          "DTAP43",
          "ESAK35",
          "XAWC41",
          "QZBB18",
          "LDCN15",
          "TQHY23",
          "ITWI77",
          "QTOL20",
          "CUVB41",
          "SYQS89",
          "DBXT38",
          "UIPM64",
          "XIEJ75",
          "JCCL86",
          "AGTZ20",
          "GRYJ10",
          "EHXX65",
          "NJRI89",
          "WCTN75",
          "JBPE61",
          "NCBF52",
          "XRAU69",
          "WWVY42",
          "CLLT73",
          "TEKX84",
          "SVUD33",
          "TVJT23",
          "HFET39",
          "WETD68",
          "TRUX86",
          "CZIL98",
          "DDSN90",
          "CNNN69",
          "NXVJ18",
          "HTXZ52",
          "VFLG14",
          "SXKC58",
          "DIKX30",
          "ORDB55",
          "RMIB10",
          "KLNK89",
          "GXSK66",
          "GCZN99",
          "SCJT65",
          "BPIA17",
          "MSZX21",
          "FMEB47",
          "JBTR23",
          "CDWU92",
          "OPTF44",
          "KOYD46",
          "FHGJ87",
          "KZRO57",
          "OIMB80",
          "FETM37",
          "UWSX94",
          "DULQ82",
          "NFUH97",
          "PDXW81",
          "CFTY17",
          "UCQU27",
          "TRXT43",
          "KLPS61",
          "NHPX81",
          "ZRGW22",
          "ONAJ71",
          "NNFX90",
          "UANL74",
          "LGSG11",
          "NOBW66",
          "RSWB62",
          "LZNB89",
          "VWMU23",
          "BXPK37",
          "NEVB63",
          "EJGI27",
          "RYRI54",
          "XKDR47",
          "SETU42",
          "BWBC11",
          "VGCG50",
          "YFYA31",
          "QMKZ57",
          "NVIM24",
          "NAIB34",
          "WWGP94",
          "QBVN74",
          "BMSX65",
          "FXHE50",
          "EEXO48",
          "ZXAG92",
          "LKOW23",
          "XJTB90",
          "PDKO77",
          "VICJ80",
          "ZYXC32",
          "KJXK50",
          "LQRR20",
          "MHRH19",
          "MEAE27",
          "TBBM88",
          "BMKS78",
          "RZJE80",
          "XXUJ80",
          "FOEH31",
          "CFKT22",
          "OIEV75",
          "ENHP81",
          "NUEC95",
          "STRO84",
          "NBTI23",
          "LLCM69",
          "IXJC94",
          "MGUS94",
          "WFSI48",
          "JVZL51",
          "SUBP18",
          "PBYB37",
          "UKYN79",
          "YRPB60",
          "YHPZ35",
          "SRMH24",
          "GQLM65",
          "TLSS85",
          "ZALE77",
          "SYSY62",
          "URBX68",
          "HLHZ81",
          "UWNQ40",
          "DSVE57",
          "EYPB50",
          "DOVL88",
          "OBZB10",
          "TMRV30",
          "GJMS34",
          "ZGTX94",
          "CNKD39"
         ],
         "xaxis": "x2",
         "y": [
          null,
          null,
          null,
          null,
          null,
          null,
          null,
          null,
          null,
          null,
          null,
          null,
          null,
          null,
          null,
          null,
          null,
          null,
          null,
          null,
          null,
          null,
          null,
          null,
          null,
          null,
          null,
          null,
          null,
          null,
          null,
          null,
          null,
          null,
          null,
          9.416666666666666,
          9.416666666666666,
          9.416666666666666,
          9.416666666666666,
          9.416666666666666,
          9.416666666666666,
          9.416666666666666,
          9.416666666666666,
          9.416666666666666,
          9.416666666666666,
          9.416666666666666,
          9.416666666666666,
          9.416666666666666,
          9.416666666666666,
          9.416666666666666,
          9.416666666666666,
          9.416666666666666,
          9.416666666666666,
          9.416666666666666,
          9.416666666666666,
          9.416666666666666,
          -2.4833333333333334,
          -2.4833333333333334,
          -2.4833333333333334,
          -2.4833333333333334,
          -2.4833333333333334,
          -2.4833333333333334,
          -2.4833333333333334,
          -2.4833333333333334,
          -2.4833333333333334,
          -2.4833333333333334,
          -2.4833333333333334,
          -2.4833333333333334,
          -2.4833333333333334,
          -2.4833333333333334,
          -2.4833333333333334,
          -2.4833333333333334,
          -2.4833333333333334,
          -2.4833333333333334,
          -2.4833333333333334,
          -2.4833333333333334,
          -2.4833333333333334,
          -2.4833333333333334,
          -2.4833333333333334,
          -2.4833333333333334,
          -2.4833333333333334,
          -2.4833333333333334,
          -2.4833333333333334,
          -2.4833333333333334,
          -2.4833333333333334,
          -2.4833333333333334,
          -2.4833333333333334,
          -2.4833333333333334,
          -2.4833333333333334,
          -2.4833333333333334,
          -2.4833333333333334,
          12.816666666666666,
          12.816666666666666,
          12.816666666666666,
          12.816666666666666,
          12.816666666666666,
          12.816666666666666,
          12.816666666666666,
          12.816666666666666,
          12.816666666666666,
          12.816666666666666,
          12.816666666666666,
          12.816666666666666,
          12.816666666666666,
          12.816666666666666,
          12.816666666666666,
          12.816666666666666,
          12.816666666666666,
          12.816666666666666,
          12.816666666666666,
          12.816666666666666,
          12.816666666666666,
          12.816666666666666,
          12.816666666666666,
          12.816666666666666,
          12.816666666666666,
          12.816666666666666,
          12.816666666666666,
          12.816666666666666,
          12.816666666666666,
          12.816666666666666,
          12.816666666666666,
          12.816666666666666,
          12.816666666666666,
          13.366666666666667,
          13.366666666666667,
          13.366666666666667,
          13.366666666666667,
          13.366666666666667,
          5.033333333333333,
          5.033333333333333,
          5.033333333333333,
          5.033333333333333,
          5.033333333333333,
          5.033333333333333,
          5.033333333333333,
          5.033333333333333,
          5.033333333333333,
          5.033333333333333,
          5.033333333333333,
          5.033333333333333,
          5.033333333333333,
          5.033333333333333,
          5.033333333333333,
          5.033333333333333,
          5.033333333333333,
          5.033333333333333,
          13.366666666666667,
          13.366666666666667,
          5.033333333333333,
          5.033333333333333,
          5.033333333333333,
          5.033333333333333,
          6.35,
          6.35,
          6.35,
          6.35,
          6.35,
          6.35,
          6.35,
          6.35,
          6.35,
          6.35,
          6.35,
          25.25,
          25.25,
          25.25,
          25.25,
          25.25,
          5.033333333333333,
          5.033333333333333,
          5.033333333333333,
          5.033333333333333,
          5.033333333333333,
          5.033333333333333,
          5.033333333333333,
          25.25,
          13.366666666666667,
          13.366666666666667,
          13.366666666666667,
          25.25,
          25.25,
          5.033333333333333,
          5.033333333333333,
          18.766666666666666,
          18.766666666666666,
          18.766666666666666,
          18.766666666666666,
          18.766666666666666,
          18.766666666666666,
          18.766666666666666,
          18.766666666666666,
          18.766666666666666,
          18.766666666666666,
          18.766666666666666,
          18.766666666666666,
          18.766666666666666,
          18.766666666666666,
          18.766666666666666,
          18.766666666666666,
          18.766666666666666,
          18.766666666666666,
          18.766666666666666,
          18.766666666666666,
          18.766666666666666,
          18.766666666666666,
          18.766666666666666,
          18.766666666666666,
          18.766666666666666,
          18.766666666666666,
          13.366666666666667,
          13.366666666666667,
          13.366666666666667,
          13.366666666666667,
          13.366666666666667,
          13.366666666666667,
          13.366666666666667,
          13.366666666666667,
          13.366666666666667,
          13.366666666666667,
          13.366666666666667,
          13.366666666666667,
          13.366666666666667,
          13.366666666666667,
          13.366666666666667,
          13.366666666666667,
          7.65,
          7.65,
          7.65,
          7.65,
          7.65,
          7.65,
          7.65,
          7.65,
          7.65,
          7.65,
          7.65,
          7.65,
          7.65,
          13.366666666666667,
          18.016666666666666,
          18.016666666666666,
          18.016666666666666,
          18.016666666666666,
          18.016666666666666,
          18.016666666666666,
          18.016666666666666,
          18.016666666666666,
          18.016666666666666,
          18.016666666666666,
          18.016666666666666,
          18.016666666666666,
          18.016666666666666,
          18.016666666666666,
          18.016666666666666,
          38.25,
          38.25,
          12.816666666666666,
          12.816666666666666,
          12.816666666666666,
          12.816666666666666,
          38.25,
          64.2,
          64.2,
          64.2,
          64.2,
          64.2,
          64.2,
          17.65,
          17.65,
          17.65,
          17.65,
          17.65,
          17.65,
          17.65,
          17.65,
          17.65,
          17.65,
          17.65,
          17.65,
          17.65,
          17.65,
          17.65,
          17.65,
          17.65,
          17.65,
          17.65,
          17.65,
          17.65,
          17.65,
          12.066666666666666,
          12.066666666666666,
          12.066666666666666,
          12.066666666666666,
          12.066666666666666,
          12.066666666666666,
          12.066666666666666,
          12.066666666666666,
          12.066666666666666,
          12.066666666666666,
          12.066666666666666,
          12.066666666666666,
          12.066666666666666,
          12.066666666666666,
          12.066666666666666,
          12.066666666666666,
          12.066666666666666,
          12.066666666666666,
          12.066666666666666,
          12.066666666666666,
          12.066666666666666,
          12.066666666666666,
          12.066666666666666,
          12.066666666666666,
          12.066666666666666,
          12.066666666666666,
          12.066666666666666,
          12.066666666666666,
          12.066666666666666,
          18.016666666666666,
          18.016666666666666,
          18.016666666666666,
          18.016666666666666,
          18.016666666666666,
          18.016666666666666,
          18.016666666666666,
          18.016666666666666,
          26.883333333333333,
          26.883333333333333,
          26.883333333333333,
          21.516666666666666,
          21.516666666666666,
          21.516666666666666,
          21.516666666666666,
          21.516666666666666,
          21.516666666666666,
          21.516666666666666,
          21.516666666666666,
          21.516666666666666,
          21.516666666666666,
          38.25,
          38.25,
          25.933333333333334,
          25.933333333333334,
          25.933333333333334,
          25.933333333333334,
          25.933333333333334,
          25.933333333333334,
          25.933333333333334,
          56.233333333333334,
          56.233333333333334,
          56.233333333333334,
          69.55,
          69.55,
          69.55,
          69.55,
          69.55,
          69.55,
          69.55,
          69.55,
          69.55,
          69.55,
          69.55,
          69.55,
          69.55,
          69.55,
          35.06666666666667,
          35.06666666666667,
          35.06666666666667,
          35.06666666666667,
          35.06666666666667,
          35.06666666666667,
          35.06666666666667,
          35.06666666666667,
          35.06666666666667,
          35.06666666666667,
          35.06666666666667,
          35.06666666666667,
          35.06666666666667,
          35.06666666666667,
          35.06666666666667,
          35.06666666666667,
          35.06666666666667,
          35.06666666666667,
          35.06666666666667,
          35.06666666666667,
          35.06666666666667,
          35.06666666666667,
          35.06666666666667,
          35.06666666666667,
          41.8,
          41.8,
          41.8,
          41.8,
          39.18333333333333,
          39.18333333333333,
          39.18333333333333,
          39.18333333333333,
          39.18333333333333,
          39.18333333333333,
          39.18333333333333,
          39.18333333333333,
          39.18333333333333,
          39.18333333333333,
          39.18333333333333,
          39.18333333333333,
          39.18333333333333,
          39.18333333333333,
          39.18333333333333,
          39.18333333333333,
          39.18333333333333,
          39.18333333333333,
          39.18333333333333,
          12.066666666666666,
          12.066666666666666,
          12.066666666666666,
          12.066666666666666,
          12.066666666666666,
          18.016666666666666,
          18.016666666666666,
          18.016666666666666,
          18.016666666666666,
          18.016666666666666,
          18.016666666666666,
          18.016666666666666,
          18.016666666666666,
          18.016666666666666,
          18.016666666666666,
          18.016666666666666,
          18.016666666666666,
          18.016666666666666,
          18.016666666666666,
          18.016666666666666,
          18.016666666666666,
          18.016666666666666,
          18.016666666666666,
          18.016666666666666,
          18.016666666666666,
          58.016666666666666,
          58.016666666666666,
          58.016666666666666,
          58.016666666666666,
          58.016666666666666,
          58.016666666666666,
          58.016666666666666,
          58.016666666666666,
          58.016666666666666,
          58.016666666666666,
          58.016666666666666,
          58.016666666666666,
          58.016666666666666,
          58.016666666666666,
          58.016666666666666,
          58.016666666666666,
          58.016666666666666,
          58.016666666666666,
          58.016666666666666,
          58.016666666666666,
          58.016666666666666,
          58.016666666666666,
          58.016666666666666,
          58.016666666666666,
          26.883333333333333,
          26.883333333333333,
          26.883333333333333,
          40.1,
          40.1,
          40.1,
          40.1,
          40.1,
          40.1,
          40.1,
          40.1,
          40.1,
          40.1,
          69.55,
          69.55,
          69.55,
          69.76666666666667,
          69.76666666666667,
          69.76666666666667,
          69.76666666666667,
          69.76666666666667,
          69.76666666666667,
          69.76666666666667,
          69.76666666666667,
          69.76666666666667,
          69.76666666666667,
          69.76666666666667,
          69.55,
          69.55,
          60.11666666666667,
          60.11666666666667,
          60.11666666666667
         ],
         "yaxis": "y2"
        },
        {
         "alignmentgroup": "True",
         "hovertemplate": "pnr=%{x}<br>pnr_score=%{y}<extra></extra>",
         "legendgroup": "",
         "marker": {
          "color": "green",
          "pattern": {
           "shape": ""
          }
         },
         "name": "",
         "offsetgroup": "",
         "orientation": "v",
         "showlegend": false,
         "textposition": "auto",
         "type": "bar",
         "x": [
          "OBCB27",
          "FKBF56",
          "KIMD35",
          "HYWJ10",
          "RCIC42",
          "METU64",
          "CVNQ54",
          "QNXR94",
          "RKUO87",
          "WRBU48",
          "IIQP50",
          "UBCO49",
          "SJSW50",
          "KKQO33",
          "HUEU97",
          "DOMX92",
          "VFJJ76",
          "AIAH82",
          "UXVV30",
          "TYAV95",
          "ISGA38",
          "MSRJ79",
          "IZSF69",
          "EMQE80",
          "HHLN28",
          "DXDG12",
          "JQEY56",
          "BCFH57",
          "FLOW15",
          "WBTA61",
          "LOPU85",
          "TNVG32",
          "PUYD31",
          "EWSG56",
          "AKOX72",
          "WJMV67",
          "XSCX58",
          "HAJT64",
          "NQIR91",
          "GXUC18",
          "TGTE84",
          "AGLB29",
          "YVFV40",
          "NDWM53",
          "UNSF23",
          "YDIV49",
          "VRKF96",
          "TGXX73",
          "OGNC74",
          "UNYK86",
          "ONGL32",
          "QKBU91",
          "ZOGF53",
          "VTNP31",
          "GWNV19",
          "JGQQ52",
          "AXIQ57",
          "IXYT77",
          "OJNO70",
          "XTGX73",
          "ITOY34",
          "CKTX37",
          "KCJS73",
          "CAJQ90",
          "ZELQ21",
          "WNYS90",
          "KAVF60",
          "OIVX64",
          "DPIN74",
          "SJTN28",
          "GYNV48",
          "VXSU87",
          "RHRA39",
          "LQMR87",
          "NAPT42",
          "JCJN49",
          "QLHD46",
          "BBOZ29",
          "PAWH48",
          "DSFR43",
          "CKOO43",
          "CMXE97",
          "BGZE20",
          "JVHJ26",
          "ARKD19",
          "BZSF12",
          "LDQA24",
          "XDQQ87",
          "BSOA62",
          "UJQR86",
          "ONGM57",
          "WHQC27",
          "NITW35",
          "BFCN84",
          "ZGYQ56",
          "JSTA99",
          "LGSP81",
          "NNEP91",
          "WUME37",
          "KLBU17",
          "CSVC82",
          "YXOI63",
          "UNSN60",
          "KENT99",
          "GVTP10",
          "IZWI35",
          "OENH79",
          "ESWL74",
          "ESKU68",
          "EFUM72",
          "PPTC43",
          "VWYV75",
          "LZTJ27",
          "AIVN76",
          "FIZY56",
          "BSXO45",
          "ZWEK49",
          "VUKP31",
          "HVFK10",
          "STKH22",
          "BCOG34",
          "CCDD14",
          "OEOB78",
          "GCBX54",
          "JRHR53",
          "YNPW68",
          "HPCB35",
          "BTUY63",
          "FSIF74",
          "SHCK89",
          "AHZG32",
          "ARVH27",
          "TOIY80",
          "UCJT38",
          "TZOM47",
          "MFND91",
          "KUSK79",
          "TGJW16",
          "CONH42",
          "SHAV55",
          "MOBP10",
          "YYXU14",
          "WBMS77",
          "APYV63",
          "PWNO45",
          "GPNU96",
          "HAJF16",
          "AXAX32",
          "KQZY95",
          "RRMM37",
          "DUKC21",
          "KQIR15",
          "RXDW39",
          "LHQF76",
          "ASEF54",
          "SBHC33",
          "DTSX26",
          "QUVY84",
          "WFMJ55",
          "ZDKC36",
          "UZKL22",
          "RRGS45",
          "NATL70",
          "CDCV79",
          "ALTR80",
          "GTNR68",
          "DJJY87",
          "XWGC34",
          "UKUK40",
          "OWSQ97",
          "GQHO73",
          "ALRK90",
          "UBHZ78",
          "OZUT25",
          "FKRF40",
          "VDFF44",
          "ANCE37",
          "HWON19",
          "PTNO98",
          "POAQ69",
          "QJLV48",
          "ETZY91",
          "HVJB92",
          "XTBX90",
          "JTJI79",
          "AUOO52",
          "TZTL99",
          "STMT31",
          "FYFP65",
          "MVFO51",
          "ZASK74",
          "ODZN95",
          "HEPT26",
          "JLNP60",
          "QFOR80",
          "CQIK83",
          "KLYP49",
          "DQCF43",
          "SNYI92",
          "RWBR52",
          "QECF46",
          "AQNL47",
          "PQOV16",
          "JCQJ32",
          "ORIX85",
          "XOQT13",
          "RPGC12",
          "KAZA18",
          "DXIE73",
          "COIB65",
          "LEJE37",
          "PPAX23",
          "EJQJ68",
          "JZDS61",
          "RCJP27",
          "HJMG32",
          "GUKB59",
          "SGDT71",
          "TIOK51",
          "HAMF65",
          "OYXB82",
          "FBHC43",
          "ODUR60",
          "IKFF97",
          "TZVR85",
          "PFHK83",
          "OISL18",
          "NOGS81",
          "MXUV18",
          "WYLK21",
          "DWZZ61",
          "PQOY36",
          "KOFM20",
          "RFWU14",
          "TJEQ90",
          "CSRR51",
          "CKXS65",
          "JRTJ85",
          "LLDJ77",
          "AEKU34",
          "YPQV77",
          "GZJH95",
          "TOGD18",
          "HHXB42",
          "WGUO57",
          "GHFD72",
          "OOQU17",
          "BTPM40",
          "JIZC52",
          "GCMG66",
          "UXDE15",
          "PQKA70",
          "HXSA63",
          "HBSS30",
          "MEFS34",
          "CNPO73",
          "SKXE42",
          "SQMX53",
          "LTRM99",
          "QSIX89",
          "KFYE74",
          "DWNT24",
          "CYSU36",
          "SJOG81",
          "QWFD56",
          "DLAU55",
          "BPUD35",
          "YPGF74",
          "EBMN77",
          "JAFL69",
          "VFSF33",
          "MBOQ39",
          "HUSS80",
          "XAXK13",
          "CXHN76",
          "OQLJ54",
          "SXCJ47",
          "FLUS31",
          "UMFN26",
          "VCWU29",
          "VVPN34",
          "TMGN22",
          "LJSQ23",
          "ARWF60",
          "BENO63",
          "DUTC29",
          "UQWP71",
          "EBBQ47",
          "ECJI31",
          "XJSK78",
          "MTJF44",
          "YXYQ95",
          "YHZM86",
          "CEOO43",
          "AVUP19",
          "CESM35",
          "NYHF21",
          "LEJF43",
          "FHLE86",
          "SZPP27",
          "KZZQ98",
          "TVES16",
          "UCRI68",
          "MHKY29",
          "SJLU38",
          "ZEIO40",
          "GWNX46",
          "IGER93",
          "HKVE20",
          "YNRD59",
          "ZNLM43",
          "TPGM27",
          "IPCJ60",
          "BBKQ34",
          "OPKM39",
          "GRKW19",
          "PRWK29",
          "DXJH99",
          "RQIR95",
          "GQCC71",
          "TBVA58",
          "GKJN81",
          "HLWC88",
          "VNMI75",
          "KCDU66",
          "BLQF17",
          "YDLG96",
          "OBWW74",
          "ZXNE22",
          "BWLY10",
          "XMCD50",
          "VRMJ38",
          "ULNA40",
          "RFML44",
          "HEKU82",
          "RMBZ73",
          "ADBU76",
          "MTIH10",
          "HQFT40",
          "CYGT37",
          "ABJY21",
          "PLLI94",
          "SHRF14",
          "NTHH51",
          "KGVE56",
          "DEIG60",
          "ZGCS80",
          "IHAN83",
          "MWKJ36",
          "ZZJJ93",
          "HIDK34",
          "SAZH59",
          "QMJU30",
          "RJRX96",
          "HWNQ25",
          "YPEO71",
          "ZVHT81",
          "DTAP43",
          "ESAK35",
          "XAWC41",
          "QZBB18",
          "LDCN15",
          "TQHY23",
          "ITWI77",
          "QTOL20",
          "CUVB41",
          "SYQS89",
          "DBXT38",
          "UIPM64",
          "XIEJ75",
          "JCCL86",
          "AGTZ20",
          "GRYJ10",
          "EHXX65",
          "NJRI89",
          "WCTN75",
          "JBPE61",
          "NCBF52",
          "XRAU69",
          "WWVY42",
          "CLLT73",
          "TEKX84",
          "SVUD33",
          "TVJT23",
          "HFET39",
          "WETD68",
          "TRUX86",
          "CZIL98",
          "DDSN90",
          "CNNN69",
          "NXVJ18",
          "HTXZ52",
          "VFLG14",
          "SXKC58",
          "DIKX30",
          "ORDB55",
          "RMIB10",
          "KLNK89",
          "GXSK66",
          "GCZN99",
          "SCJT65",
          "BPIA17",
          "MSZX21",
          "FMEB47",
          "JBTR23",
          "CDWU92",
          "OPTF44",
          "KOYD46",
          "FHGJ87",
          "KZRO57",
          "OIMB80",
          "FETM37",
          "UWSX94",
          "DULQ82",
          "NFUH97",
          "PDXW81",
          "CFTY17",
          "UCQU27",
          "TRXT43",
          "KLPS61",
          "NHPX81",
          "ZRGW22",
          "ONAJ71",
          "NNFX90",
          "UANL74",
          "LGSG11",
          "NOBW66",
          "RSWB62",
          "LZNB89",
          "VWMU23",
          "BXPK37",
          "NEVB63",
          "EJGI27",
          "RYRI54",
          "XKDR47",
          "SETU42",
          "BWBC11",
          "VGCG50",
          "YFYA31",
          "QMKZ57",
          "NVIM24",
          "NAIB34",
          "WWGP94",
          "QBVN74",
          "BMSX65",
          "FXHE50",
          "EEXO48",
          "ZXAG92",
          "LKOW23",
          "XJTB90",
          "PDKO77",
          "VICJ80",
          "ZYXC32",
          "KJXK50",
          "LQRR20",
          "MHRH19",
          "MEAE27",
          "TBBM88",
          "BMKS78",
          "RZJE80",
          "XXUJ80",
          "FOEH31",
          "CFKT22",
          "OIEV75",
          "ENHP81",
          "NUEC95",
          "STRO84",
          "NBTI23",
          "LLCM69",
          "IXJC94",
          "MGUS94",
          "WFSI48",
          "JVZL51",
          "SUBP18",
          "PBYB37",
          "UKYN79",
          "YRPB60",
          "YHPZ35",
          "SRMH24",
          "GQLM65",
          "TLSS85",
          "ZALE77",
          "SYSY62",
          "URBX68",
          "HLHZ81",
          "UWNQ40",
          "DSVE57",
          "EYPB50",
          "DOVL88",
          "OBZB10",
          "TMRV30",
          "GJMS34",
          "ZGTX94",
          "CNKD39"
         ],
         "xaxis": "x2",
         "y": [
          1500,
          1500,
          3600,
          6000,
          12000,
          2000,
          8500,
          4000,
          8600,
          9700,
          1200,
          2500,
          11000,
          2000,
          2000,
          1500,
          2700,
          1000,
          2000,
          4500,
          2500,
          20100,
          600,
          2500,
          4000,
          2500,
          2500,
          2200,
          4500,
          3500,
          4500,
          2700,
          5700,
          4500,
          4500,
          12100,
          6500,
          6500,
          12600,
          11500,
          2500,
          6100,
          5600,
          13500,
          3500,
          3600,
          5500,
          8000,
          8200,
          7000,
          8700,
          6000,
          9000,
          3500,
          9000,
          9000,
          9600,
          11000,
          11000,
          7600,
          9100,
          2500,
          7000,
          8000,
          10500,
          1600,
          2600,
          7000,
          4200,
          4500,
          8500,
          5000,
          4500,
          4700,
          4000,
          5000,
          13000,
          17000,
          5200,
          3500,
          15300,
          5500,
          14500,
          13100,
          12600,
          1500,
          1500,
          4100,
          1500,
          7300,
          11500,
          7000,
          2500,
          4500,
          2500,
          1500,
          9100,
          1500,
          2500,
          2500,
          4500,
          11100,
          9000,
          5500,
          3500,
          2000,
          11000,
          2500,
          2500,
          13000,
          6500,
          3600,
          15100,
          2500,
          5500,
          12500,
          7700,
          5000,
          3500,
          3500,
          12100,
          11800,
          6000,
          7500,
          11500,
          3500,
          8500,
          7500,
          4100,
          14600,
          15000,
          15000,
          19100,
          7000,
          15000,
          11000,
          5500,
          11100,
          9500,
          9500,
          6100,
          12500,
          6000,
          10600,
          4500,
          4100,
          9000,
          10000,
          18600,
          11600,
          7200,
          7000,
          4000,
          3600,
          12100,
          4100,
          8600,
          2500,
          4000,
          13500,
          4000,
          14500,
          5500,
          6000,
          9500,
          4100,
          13100,
          13700,
          11100,
          5500,
          7000,
          6000,
          8600,
          8800,
          10600,
          7300,
          11100,
          1200,
          1600,
          10800,
          4000,
          5500,
          7100,
          3600,
          4100,
          2500,
          2500,
          4000,
          4000,
          2500,
          6000,
          2500,
          5500,
          4500,
          5500,
          3500,
          3500,
          5000,
          600,
          4000,
          1100,
          3600,
          5000,
          2500,
          2500,
          3600,
          1600,
          2000,
          1500,
          1500,
          1500,
          3500,
          3500,
          11100,
          11000,
          4100,
          2500,
          3500,
          10100,
          10000,
          2500,
          1600,
          2500,
          16600,
          4000,
          7000,
          4500,
          3500,
          3100,
          3500,
          3000,
          2000,
          4000,
          2000,
          1600,
          1500,
          2600,
          1500,
          5100,
          6000,
          16100,
          21600,
          17300,
          7500,
          9500,
          11200,
          7000,
          10200,
          10000,
          8500,
          9500,
          4500,
          7500,
          7500,
          11100,
          7500,
          17600,
          2100,
          4100,
          6100,
          4600,
          13100,
          12500,
          10000,
          8000,
          3000,
          3100,
          11500,
          4700,
          4500,
          4500,
          4500,
          5500,
          5000,
          13600,
          13800,
          14000,
          15000,
          9100,
          6200,
          600,
          6000,
          1500,
          2700,
          3000,
          3000,
          9000,
          3500,
          2600,
          7800,
          1500,
          1500,
          11000,
          1500,
          15600,
          11700,
          16000,
          16000,
          16800,
          19100,
          4000,
          11600,
          10000,
          9000,
          3700,
          3500,
          2700,
          6000,
          6000,
          6500,
          4000,
          7500,
          7600,
          4000,
          8000,
          8200,
          2000,
          5000,
          4500,
          7600,
          9300,
          7500,
          7200,
          8800,
          10600,
          10100,
          7600,
          23000,
          6700,
          15600,
          8000,
          9600,
          2000,
          9000,
          10600,
          2500,
          5000,
          1000,
          19500,
          7700,
          5500,
          4500,
          6500,
          6600,
          5500,
          4000,
          5000,
          4000,
          6700,
          1000,
          2200,
          3500,
          12700,
          7000,
          7100,
          6600,
          6500,
          13600,
          8000,
          6000,
          9700,
          10000,
          9500,
          5000,
          3600,
          6000,
          5500,
          7200,
          5200,
          6000,
          4500,
          2000,
          5500,
          2000,
          3500,
          17000,
          10500,
          2000,
          3500,
          6600,
          11600,
          6000,
          4000,
          13100,
          1100,
          12800,
          5100,
          1600,
          7300,
          4000,
          1500,
          3500,
          3000,
          2000,
          10600,
          2500,
          1500,
          1500,
          2500,
          2000,
          2600,
          5000,
          8000,
          2000,
          9000,
          1500,
          3100,
          5500,
          1600,
          10700,
          3500,
          7700,
          1500,
          6600,
          3100,
          5600,
          3600,
          4100,
          1100,
          4500,
          5600,
          4500,
          3000,
          2000,
          5500,
          3000,
          4500,
          6000,
          6000,
          6000,
          5500,
          6500,
          4000,
          2500,
          4000,
          2500,
          4000,
          4000,
          9200,
          7000,
          11500,
          12500,
          7200,
          6500,
          8500,
          7500,
          15600,
          5000,
          6000,
          13600,
          7500,
          7500,
          3000,
          3500,
          5200,
          600,
          11600,
          12600,
          4000,
          2500,
          5000,
          10800,
          7000,
          6600,
          8700,
          600,
          6000,
          4100,
          6000,
          9100,
          4500,
          2500,
          7000,
          2500,
          5600,
          5000,
          2600,
          4600,
          14600,
          2100,
          13600,
          12900,
          8000,
          9000,
          9600,
          6000,
          9100,
          3600,
          7000,
          4000,
          4000,
          5200,
          4000,
          1500
         ],
         "yaxis": "y2"
        }
       ],
       "layout": {
        "annotations": [
         {
          "font": {
           "size": 16
          },
          "showarrow": false,
          "text": "Scores",
          "x": 0.5,
          "xanchor": "center",
          "xref": "paper",
          "y": 1,
          "yanchor": "bottom",
          "yref": "paper"
         },
         {
          "font": {
           "size": 16
          },
          "showarrow": false,
          "text": "PNR vs Delay",
          "x": 0.5,
          "xanchor": "center",
          "xref": "paper",
          "y": 0.6333333333333333,
          "yanchor": "bottom",
          "yref": "paper"
         },
         {
          "font": {
           "size": 16
          },
          "showarrow": false,
          "text": "Pnr Scores",
          "x": 0.5,
          "xanchor": "center",
          "xref": "paper",
          "y": 0.26666666666666666,
          "yanchor": "bottom",
          "yref": "paper"
         }
        ],
        "template": {
         "data": {
          "bar": [
           {
            "error_x": {
             "color": "#2a3f5f"
            },
            "error_y": {
             "color": "#2a3f5f"
            },
            "marker": {
             "line": {
              "color": "#E5ECF6",
              "width": 0.5
             },
             "pattern": {
              "fillmode": "overlay",
              "size": 10,
              "solidity": 0.2
             }
            },
            "type": "bar"
           }
          ],
          "barpolar": [
           {
            "marker": {
             "line": {
              "color": "#E5ECF6",
              "width": 0.5
             },
             "pattern": {
              "fillmode": "overlay",
              "size": 10,
              "solidity": 0.2
             }
            },
            "type": "barpolar"
           }
          ],
          "carpet": [
           {
            "aaxis": {
             "endlinecolor": "#2a3f5f",
             "gridcolor": "white",
             "linecolor": "white",
             "minorgridcolor": "white",
             "startlinecolor": "#2a3f5f"
            },
            "baxis": {
             "endlinecolor": "#2a3f5f",
             "gridcolor": "white",
             "linecolor": "white",
             "minorgridcolor": "white",
             "startlinecolor": "#2a3f5f"
            },
            "type": "carpet"
           }
          ],
          "choropleth": [
           {
            "colorbar": {
             "outlinewidth": 0,
             "ticks": ""
            },
            "type": "choropleth"
           }
          ],
          "contour": [
           {
            "colorbar": {
             "outlinewidth": 0,
             "ticks": ""
            },
            "colorscale": [
             [
              0,
              "#0d0887"
             ],
             [
              0.1111111111111111,
              "#46039f"
             ],
             [
              0.2222222222222222,
              "#7201a8"
             ],
             [
              0.3333333333333333,
              "#9c179e"
             ],
             [
              0.4444444444444444,
              "#bd3786"
             ],
             [
              0.5555555555555556,
              "#d8576b"
             ],
             [
              0.6666666666666666,
              "#ed7953"
             ],
             [
              0.7777777777777778,
              "#fb9f3a"
             ],
             [
              0.8888888888888888,
              "#fdca26"
             ],
             [
              1,
              "#f0f921"
             ]
            ],
            "type": "contour"
           }
          ],
          "contourcarpet": [
           {
            "colorbar": {
             "outlinewidth": 0,
             "ticks": ""
            },
            "type": "contourcarpet"
           }
          ],
          "heatmap": [
           {
            "colorbar": {
             "outlinewidth": 0,
             "ticks": ""
            },
            "colorscale": [
             [
              0,
              "#0d0887"
             ],
             [
              0.1111111111111111,
              "#46039f"
             ],
             [
              0.2222222222222222,
              "#7201a8"
             ],
             [
              0.3333333333333333,
              "#9c179e"
             ],
             [
              0.4444444444444444,
              "#bd3786"
             ],
             [
              0.5555555555555556,
              "#d8576b"
             ],
             [
              0.6666666666666666,
              "#ed7953"
             ],
             [
              0.7777777777777778,
              "#fb9f3a"
             ],
             [
              0.8888888888888888,
              "#fdca26"
             ],
             [
              1,
              "#f0f921"
             ]
            ],
            "type": "heatmap"
           }
          ],
          "heatmapgl": [
           {
            "colorbar": {
             "outlinewidth": 0,
             "ticks": ""
            },
            "colorscale": [
             [
              0,
              "#0d0887"
             ],
             [
              0.1111111111111111,
              "#46039f"
             ],
             [
              0.2222222222222222,
              "#7201a8"
             ],
             [
              0.3333333333333333,
              "#9c179e"
             ],
             [
              0.4444444444444444,
              "#bd3786"
             ],
             [
              0.5555555555555556,
              "#d8576b"
             ],
             [
              0.6666666666666666,
              "#ed7953"
             ],
             [
              0.7777777777777778,
              "#fb9f3a"
             ],
             [
              0.8888888888888888,
              "#fdca26"
             ],
             [
              1,
              "#f0f921"
             ]
            ],
            "type": "heatmapgl"
           }
          ],
          "histogram": [
           {
            "marker": {
             "pattern": {
              "fillmode": "overlay",
              "size": 10,
              "solidity": 0.2
             }
            },
            "type": "histogram"
           }
          ],
          "histogram2d": [
           {
            "colorbar": {
             "outlinewidth": 0,
             "ticks": ""
            },
            "colorscale": [
             [
              0,
              "#0d0887"
             ],
             [
              0.1111111111111111,
              "#46039f"
             ],
             [
              0.2222222222222222,
              "#7201a8"
             ],
             [
              0.3333333333333333,
              "#9c179e"
             ],
             [
              0.4444444444444444,
              "#bd3786"
             ],
             [
              0.5555555555555556,
              "#d8576b"
             ],
             [
              0.6666666666666666,
              "#ed7953"
             ],
             [
              0.7777777777777778,
              "#fb9f3a"
             ],
             [
              0.8888888888888888,
              "#fdca26"
             ],
             [
              1,
              "#f0f921"
             ]
            ],
            "type": "histogram2d"
           }
          ],
          "histogram2dcontour": [
           {
            "colorbar": {
             "outlinewidth": 0,
             "ticks": ""
            },
            "colorscale": [
             [
              0,
              "#0d0887"
             ],
             [
              0.1111111111111111,
              "#46039f"
             ],
             [
              0.2222222222222222,
              "#7201a8"
             ],
             [
              0.3333333333333333,
              "#9c179e"
             ],
             [
              0.4444444444444444,
              "#bd3786"
             ],
             [
              0.5555555555555556,
              "#d8576b"
             ],
             [
              0.6666666666666666,
              "#ed7953"
             ],
             [
              0.7777777777777778,
              "#fb9f3a"
             ],
             [
              0.8888888888888888,
              "#fdca26"
             ],
             [
              1,
              "#f0f921"
             ]
            ],
            "type": "histogram2dcontour"
           }
          ],
          "mesh3d": [
           {
            "colorbar": {
             "outlinewidth": 0,
             "ticks": ""
            },
            "type": "mesh3d"
           }
          ],
          "parcoords": [
           {
            "line": {
             "colorbar": {
              "outlinewidth": 0,
              "ticks": ""
             }
            },
            "type": "parcoords"
           }
          ],
          "pie": [
           {
            "automargin": true,
            "type": "pie"
           }
          ],
          "scatter": [
           {
            "fillpattern": {
             "fillmode": "overlay",
             "size": 10,
             "solidity": 0.2
            },
            "type": "scatter"
           }
          ],
          "scatter3d": [
           {
            "line": {
             "colorbar": {
              "outlinewidth": 0,
              "ticks": ""
             }
            },
            "marker": {
             "colorbar": {
              "outlinewidth": 0,
              "ticks": ""
             }
            },
            "type": "scatter3d"
           }
          ],
          "scattercarpet": [
           {
            "marker": {
             "colorbar": {
              "outlinewidth": 0,
              "ticks": ""
             }
            },
            "type": "scattercarpet"
           }
          ],
          "scattergeo": [
           {
            "marker": {
             "colorbar": {
              "outlinewidth": 0,
              "ticks": ""
             }
            },
            "type": "scattergeo"
           }
          ],
          "scattergl": [
           {
            "marker": {
             "colorbar": {
              "outlinewidth": 0,
              "ticks": ""
             }
            },
            "type": "scattergl"
           }
          ],
          "scattermapbox": [
           {
            "marker": {
             "colorbar": {
              "outlinewidth": 0,
              "ticks": ""
             }
            },
            "type": "scattermapbox"
           }
          ],
          "scatterpolar": [
           {
            "marker": {
             "colorbar": {
              "outlinewidth": 0,
              "ticks": ""
             }
            },
            "type": "scatterpolar"
           }
          ],
          "scatterpolargl": [
           {
            "marker": {
             "colorbar": {
              "outlinewidth": 0,
              "ticks": ""
             }
            },
            "type": "scatterpolargl"
           }
          ],
          "scatterternary": [
           {
            "marker": {
             "colorbar": {
              "outlinewidth": 0,
              "ticks": ""
             }
            },
            "type": "scatterternary"
           }
          ],
          "surface": [
           {
            "colorbar": {
             "outlinewidth": 0,
             "ticks": ""
            },
            "colorscale": [
             [
              0,
              "#0d0887"
             ],
             [
              0.1111111111111111,
              "#46039f"
             ],
             [
              0.2222222222222222,
              "#7201a8"
             ],
             [
              0.3333333333333333,
              "#9c179e"
             ],
             [
              0.4444444444444444,
              "#bd3786"
             ],
             [
              0.5555555555555556,
              "#d8576b"
             ],
             [
              0.6666666666666666,
              "#ed7953"
             ],
             [
              0.7777777777777778,
              "#fb9f3a"
             ],
             [
              0.8888888888888888,
              "#fdca26"
             ],
             [
              1,
              "#f0f921"
             ]
            ],
            "type": "surface"
           }
          ],
          "table": [
           {
            "cells": {
             "fill": {
              "color": "#EBF0F8"
             },
             "line": {
              "color": "white"
             }
            },
            "header": {
             "fill": {
              "color": "#C8D4E3"
             },
             "line": {
              "color": "white"
             }
            },
            "type": "table"
           }
          ]
         },
         "layout": {
          "annotationdefaults": {
           "arrowcolor": "#2a3f5f",
           "arrowhead": 0,
           "arrowwidth": 1
          },
          "autotypenumbers": "strict",
          "coloraxis": {
           "colorbar": {
            "outlinewidth": 0,
            "ticks": ""
           }
          },
          "colorscale": {
           "diverging": [
            [
             0,
             "#8e0152"
            ],
            [
             0.1,
             "#c51b7d"
            ],
            [
             0.2,
             "#de77ae"
            ],
            [
             0.3,
             "#f1b6da"
            ],
            [
             0.4,
             "#fde0ef"
            ],
            [
             0.5,
             "#f7f7f7"
            ],
            [
             0.6,
             "#e6f5d0"
            ],
            [
             0.7,
             "#b8e186"
            ],
            [
             0.8,
             "#7fbc41"
            ],
            [
             0.9,
             "#4d9221"
            ],
            [
             1,
             "#276419"
            ]
           ],
           "sequential": [
            [
             0,
             "#0d0887"
            ],
            [
             0.1111111111111111,
             "#46039f"
            ],
            [
             0.2222222222222222,
             "#7201a8"
            ],
            [
             0.3333333333333333,
             "#9c179e"
            ],
            [
             0.4444444444444444,
             "#bd3786"
            ],
            [
             0.5555555555555556,
             "#d8576b"
            ],
            [
             0.6666666666666666,
             "#ed7953"
            ],
            [
             0.7777777777777778,
             "#fb9f3a"
            ],
            [
             0.8888888888888888,
             "#fdca26"
            ],
            [
             1,
             "#f0f921"
            ]
           ],
           "sequentialminus": [
            [
             0,
             "#0d0887"
            ],
            [
             0.1111111111111111,
             "#46039f"
            ],
            [
             0.2222222222222222,
             "#7201a8"
            ],
            [
             0.3333333333333333,
             "#9c179e"
            ],
            [
             0.4444444444444444,
             "#bd3786"
            ],
            [
             0.5555555555555556,
             "#d8576b"
            ],
            [
             0.6666666666666666,
             "#ed7953"
            ],
            [
             0.7777777777777778,
             "#fb9f3a"
            ],
            [
             0.8888888888888888,
             "#fdca26"
            ],
            [
             1,
             "#f0f921"
            ]
           ]
          },
          "colorway": [
           "#636efa",
           "#EF553B",
           "#00cc96",
           "#ab63fa",
           "#FFA15A",
           "#19d3f3",
           "#FF6692",
           "#B6E880",
           "#FF97FF",
           "#FECB52"
          ],
          "font": {
           "color": "#2a3f5f"
          },
          "geo": {
           "bgcolor": "white",
           "lakecolor": "white",
           "landcolor": "#E5ECF6",
           "showlakes": true,
           "showland": true,
           "subunitcolor": "white"
          },
          "hoverlabel": {
           "align": "left"
          },
          "hovermode": "closest",
          "mapbox": {
           "style": "light"
          },
          "paper_bgcolor": "white",
          "plot_bgcolor": "#E5ECF6",
          "polar": {
           "angularaxis": {
            "gridcolor": "white",
            "linecolor": "white",
            "ticks": ""
           },
           "bgcolor": "#E5ECF6",
           "radialaxis": {
            "gridcolor": "white",
            "linecolor": "white",
            "ticks": ""
           }
          },
          "scene": {
           "xaxis": {
            "backgroundcolor": "#E5ECF6",
            "gridcolor": "white",
            "gridwidth": 2,
            "linecolor": "white",
            "showbackground": true,
            "ticks": "",
            "zerolinecolor": "white"
           },
           "yaxis": {
            "backgroundcolor": "#E5ECF6",
            "gridcolor": "white",
            "gridwidth": 2,
            "linecolor": "white",
            "showbackground": true,
            "ticks": "",
            "zerolinecolor": "white"
           },
           "zaxis": {
            "backgroundcolor": "#E5ECF6",
            "gridcolor": "white",
            "gridwidth": 2,
            "linecolor": "white",
            "showbackground": true,
            "ticks": "",
            "zerolinecolor": "white"
           }
          },
          "shapedefaults": {
           "line": {
            "color": "#2a3f5f"
           }
          },
          "ternary": {
           "aaxis": {
            "gridcolor": "white",
            "linecolor": "white",
            "ticks": ""
           },
           "baxis": {
            "gridcolor": "white",
            "linecolor": "white",
            "ticks": ""
           },
           "bgcolor": "#E5ECF6",
           "caxis": {
            "gridcolor": "white",
            "linecolor": "white",
            "ticks": ""
           }
          },
          "title": {
           "x": 0.05
          },
          "xaxis": {
           "automargin": true,
           "gridcolor": "white",
           "linecolor": "white",
           "ticks": "",
           "title": {
            "standoff": 15
           },
           "zerolinecolor": "white",
           "zerolinewidth": 2
          },
          "yaxis": {
           "automargin": true,
           "gridcolor": "white",
           "linecolor": "white",
           "ticks": "",
           "title": {
            "standoff": 15
           },
           "zerolinecolor": "white",
           "zerolinewidth": 2
          }
         }
        },
        "xaxis": {
         "anchor": "y",
         "domain": [
          0,
          1
         ],
         "matches": "x3",
         "showticklabels": false
        },
        "xaxis2": {
         "anchor": "y2",
         "domain": [
          0,
          1
         ],
         "matches": "x3",
         "showticklabels": false
        },
        "xaxis3": {
         "anchor": "y3",
         "domain": [
          0,
          1
         ]
        },
        "yaxis": {
         "anchor": "x",
         "domain": [
          0.7333333333333334,
          1
         ]
        },
        "yaxis2": {
         "anchor": "x2",
         "domain": [
          0.3666666666666667,
          0.6333333333333333
         ]
        },
        "yaxis3": {
         "anchor": "x3",
         "domain": [
          0,
          0.26666666666666666
         ]
        }
       }
      }
     },
     "metadata": {},
     "output_type": "display_data"
    }
   ],
   "source": [
    "#Pnr vs delay\n",
    "# Create a scatter plot for PNR vs delay\n",
    "df.sort_values(by=['allocated_flights_score'], inplace=True)\n",
    "df['canclled_flight_arrival'] = pd.to_datetime(df['canclled_flight_arrival'])\n",
    "df['allocated_flights_arrival'] = pd.to_datetime(df['allocated_flights_arrival'])\n",
    "\n",
    "# Calculate the delay\n",
    "df['delay'] = (df['allocated_flights_arrival'] - df['canclled_flight_arrival']).dt.total_seconds() / 3600\n",
    "\n",
    "# Create a scatter plot for PNR vs delay\n",
    "fig = make_subplots(rows=3, cols=1, shared_xaxes=True, vertical_spacing=0.1, subplot_titles=[\"Scores\", \"PNR vs Delay\", \"Pnr Scores\"])\n",
    "\n",
    "# Plot PNR Scores\n",
    "fig.add_trace(\n",
    "    px.bar(df, x=\"pnr\", y=\"allocated_flights_score\").update_traces(marker_color='blue').data[0],\n",
    "    row=1, col=1\n",
    ")\n",
    "\n",
    "# Plot PNR vs Delay\n",
    "fig.add_trace(\n",
    "    px.scatter(df, x='pnr', y='delay').data[0],\n",
    "    row=1, col=1\n",
    ")\n",
    "\n",
    "fig.add_trace(\n",
    "    px.scatter(df, x='pnr', y='delay').data[0],\n",
    "    row=2, col=1\n",
    ")\n",
    "\n",
    "fig.add_trace(\n",
    "    px.bar(df, x=\"pnr\", y=\"pnr_score\").update_traces(marker_color='green').data[0],\n",
    "    row=2, col=1\n",
    ")\n",
    "\n",
    "# Calculate and print the mean delay\n",
    "mean_delay = df['delay'].mean()\n",
    "print(f'Mean Delay: {mean_delay} hours, std_dev: {df[\"delay\"].std()}')\n",
    "\n",
    "# Show the plot\n",
    "fig.show()"
   ]
  },
  {
   "cell_type": "code",
   "execution_count": null,
   "metadata": {},
   "outputs": [],
   "source": []
  },
  {
   "cell_type": "code",
   "execution_count": null,
   "metadata": {},
   "outputs": [],
   "source": []
  }
 ],
 "metadata": {
  "kernelspec": {
   "display_name": "base",
   "language": "python",
   "name": "python3"
  },
  "language_info": {
   "codemirror_mode": {
    "name": "ipython",
    "version": 3
   },
   "file_extension": ".py",
   "mimetype": "text/x-python",
   "name": "python",
   "nbconvert_exporter": "python",
   "pygments_lexer": "ipython3",
   "version": "3.11.4"
  }
 },
 "nbformat": 4,
 "nbformat_minor": 2
}
