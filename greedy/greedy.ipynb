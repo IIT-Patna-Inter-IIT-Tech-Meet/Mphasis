{
 "cells": [
  {
   "cell_type": "code",
   "execution_count": 1,
   "id": "05472e5a",
   "metadata": {},
   "outputs": [],
   "source": [
    "import requests\n",
    "import json\n",
    "\n",
    "HOST = \"http://10.38.2.35:8000/\"\n",
    "API_CANCLED = \"canclled\"\n",
    "API_PNR_RANKING = \"pnr_ranking?flight_id=\"\n",
    "API_ALT_FLIGHT=\"alt_flight?flight_id=\"\n",
    "\n",
    "def get_cancled():\n",
    "    response = requests.request(\"GET\", HOST + API_CANCLED, headers={}, data={})\n",
    "    return json.loads(response.text)\n",
    "\n",
    "def get_pnrs(flight_id):\n",
    "    response = requests.request(\"GET\", HOST + API_PNR_RANKING + str(flight_id), headers={}, data={})\n",
    "    return json.loads(response.text)\n",
    "\n",
    "def get_alt_flights(flight_id):\n",
    "    response = requests.request(\"GET\", HOST + API_ALT_FLIGHT + str(flight_id), headers={}, data={})\n",
    "    return json.loads(response.text)"
   ]
  },
  {
   "cell_type": "code",
   "execution_count": 2,
   "id": "5519d322",
   "metadata": {},
   "outputs": [],
   "source": [
    "cancel=get_cancled()"
   ]
  },
  {
   "cell_type": "code",
   "execution_count": null,
   "id": "c886e0b1",
   "metadata": {},
   "outputs": [],
   "source": [
    "\n",
    "    "
   ]
  },
  {
   "cell_type": "code",
   "execution_count": 3,
   "id": "baec4859",
   "metadata": {},
   "outputs": [],
   "source": [
    "cancel['data'][0]\n",
    "map_cabin={ 'F':'F','P':'F','C':'B','J':'B','Z':'B','Q':'P','R':'P','S':'P','T':'P','H':'P','M':'P',\n",
    "          'Y':'E', 'A':'E', 'B':'E', 'D':'E', 'E':'E', 'G':'E', 'I':'E', 'K':'E', 'L':'E', 'N':'E', 'O':'E',\n",
    "           'U':'E', 'V':'E','W':'E','X':'E'}"
   ]
  },
  {
   "cell_type": "code",
   "execution_count": 4,
   "id": "29416038",
   "metadata": {},
   "outputs": [],
   "source": [
    "# get_alt_flights('c53865e9')"
   ]
  },
  {
   "cell_type": "code",
   "execution_count": 5,
   "id": "56257d60",
   "metadata": {},
   "outputs": [],
   "source": [
    "pnr={}\n",
    "alt_flight={}\n",
    "for f in cancel['data']:\n",
    "    pnr[f['flight_id']]=get_pnrs(f['flight_id'])['data']\n",
    "    alt=get_alt_flights(f['flight_id'])['data']\n",
    "    f2=[]\n",
    "    for flight in alt:\n",
    "        f3={}\n",
    "        f3['flight_id']=flight['flight_id']\n",
    "        f3['F']=0\n",
    "        f3['B']=0\n",
    "        f3['P']=0\n",
    "        f3['E']=0\n",
    "#         print()\n",
    "        for key in map_cabin:\n",
    "            if key in flight['avilable_seats']:\n",
    "                f3[map_cabin[key]]+=flight['avilable_seats'][key]\n",
    "        f2.append(f3)\n",
    "    alt_flight[f['flight_id']]=f2"
   ]
  },
  {
   "cell_type": "code",
   "execution_count": 24,
   "id": "c8ac739a",
   "metadata": {},
   "outputs": [],
   "source": [
    "for i in alt_flight:\n",
    "#     print(alt_flight[i])\n",
    "    break\n",
    "    "
   ]
  },
  {
   "cell_type": "code",
   "execution_count": 25,
   "id": "e8f60507",
   "metadata": {},
   "outputs": [],
   "source": [
    "used_seat={}\n",
    "\n",
    "for i in alt_flight:\n",
    "    for j in alt_flight[i]:\n",
    "        used_seat[j['flight_id']]={'F':0,'B':0,'P':0,'E':0}\n",
    "#             print(j)\n",
    "        \n",
    "# used_seat"
   ]
  },
  {
   "cell_type": "code",
   "execution_count": 26,
   "id": "c148c549",
   "metadata": {},
   "outputs": [],
   "source": [
    "# pnr"
   ]
  },
  {
   "cell_type": "code",
   "execution_count": 27,
   "id": "0d761e02",
   "metadata": {},
   "outputs": [],
   "source": [
    "needed_seat=[]\n",
    "for i in pnr:\n",
    "    alloc={}\n",
    "    for j in pnr[i]:\n",
    "        alloc=j;\n",
    "        alloc['flight_id']=i\n",
    "        needed_seat.append(alloc)"
   ]
  },
  {
   "cell_type": "code",
   "execution_count": 28,
   "id": "6ff12a94",
   "metadata": {},
   "outputs": [],
   "source": [
    "sorted_pnr = sorted(needed_seat, key=lambda x: x['score'],reverse=True)"
   ]
  },
  {
   "cell_type": "code",
   "execution_count": 29,
   "id": "c10f32c9",
   "metadata": {},
   "outputs": [],
   "source": [
    "allocated={}\n",
    "\n",
    "for i in sorted_pnr:\n",
    "    allocated[i['pnr']]='NULL'\n",
    "    "
   ]
  },
  {
   "cell_type": "code",
   "execution_count": 30,
   "id": "ae399b31",
   "metadata": {},
   "outputs": [],
   "source": [
    "index_pnr=0\n",
    "flight_index={i : {'F':0,'B':0,'P':0,'E':0} for i in pnr}\n",
    "# flight_index\n",
    "# used_seat"
   ]
  },
  {
   "cell_type": "code",
   "execution_count": 31,
   "id": "8178a9da",
   "metadata": {},
   "outputs": [],
   "source": [
    "# allocated"
   ]
  },
  {
   "cell_type": "code",
   "execution_count": 32,
   "id": "4c37fd02",
   "metadata": {},
   "outputs": [],
   "source": [
    "# ik=0\n",
    "flights=4\n",
    "cabins=['F','B','P','E']\n",
    "cabin_ind={'F':0 , 'B':1,'P':2,'E':3}\n",
    "for i in sorted_pnr:\n",
    "#     ik+=1\n",
    "    \n",
    "#     if(ik>5):\n",
    "#         break\n",
    "#     print(i)\n",
    "    f=0;\n",
    "    list=[]\n",
    "    ok=1;\n",
    "    cabin_no=cabin_ind[map_cabin[i['class']]]\n",
    "    while(ok==1 and cabin_no<8):\n",
    "        cabin=cabins[cabin_no%4]\n",
    "        ind = 0\n",
    "#     print(used_seat)\n",
    "        while(ind<len(alt_flight[i['flight_id']])):\n",
    "        \n",
    "            max_seat=alt_flight[i['flight_id']][ind][cabin]\n",
    "            alt = alt_flight[i['flight_id']][ind]['flight_id']\n",
    "#             print(max_seat)\n",
    "#             print(ind)\n",
    "#             print(alt)\n",
    "#         print(used_seat)\n",
    "        \n",
    "            if(used_seat[alt][cabin]+i['pax']<=max_seat):\n",
    "#                 used_seat[alt][cabin]+=i['pax'];\n",
    "#                 allocated[i['pnr']]=[alt,cabins[cabin_no%4],1]\n",
    "#                 print(\"allovc\")\n",
    "#                 ok=0\n",
    "#                 break\n",
    "                \n",
    "                if(f<flights):\n",
    "                    if f==0:\n",
    "                        used_seat[alt][cabin]+=i['pax']\n",
    "                    list.append([alt,cabins[cabin_no%4]])\n",
    "                    f+=1;\n",
    "                else:\n",
    "                    ok=0\n",
    "                    break;\n",
    "        \n",
    "            ind+=1\n",
    "            \n",
    "        cabin_no+=1\n",
    "    allocated[i['pnr']]=list"
   ]
  },
  {
   "cell_type": "code",
   "execution_count": 33,
   "id": "be30e59c",
   "metadata": {},
   "outputs": [],
   "source": [
    "# used_seat"
   ]
  },
  {
   "cell_type": "code",
   "execution_count": 34,
   "id": "58828dc3",
   "metadata": {},
   "outputs": [],
   "source": [
    "# allocated"
   ]
  },
  {
   "cell_type": "code",
   "execution_count": 35,
   "id": "333f2a2b",
   "metadata": {},
   "outputs": [],
   "source": [
    "sum=0\n",
    "for i in allocated: \n",
    "    if allocated[i]=='NULL' or allocated[i]==[]:\n",
    "        sum+=1"
   ]
  },
  {
   "cell_type": "code",
   "execution_count": 36,
   "id": "baea6367",
   "metadata": {},
   "outputs": [
    {
     "data": {
      "text/plain": [
       "591"
      ]
     },
     "execution_count": 36,
     "metadata": {},
     "output_type": "execute_result"
    }
   ],
   "source": [
    "sum\n"
   ]
  },
  {
   "cell_type": "code",
   "execution_count": 37,
   "id": "4667d259",
   "metadata": {},
   "outputs": [
    {
     "data": {
      "text/plain": [
       "4014"
      ]
     },
     "execution_count": 37,
     "metadata": {},
     "output_type": "execute_result"
    }
   ],
   "source": [
    "len(allocated)"
   ]
  },
  {
   "cell_type": "code",
   "execution_count": null,
   "id": "104dc561",
   "metadata": {},
   "outputs": [],
   "source": []
  }
 ],
 "metadata": {
  "kernelspec": {
   "display_name": "Python 3 (ipykernel)",
   "language": "python",
   "name": "python3"
  },
  "language_info": {
   "codemirror_mode": {
    "name": "ipython",
    "version": 3
   },
   "file_extension": ".py",
   "mimetype": "text/x-python",
   "name": "python",
   "nbconvert_exporter": "python",
   "pygments_lexer": "ipython3",
   "version": "3.10.9"
  }
 },
 "nbformat": 4,
 "nbformat_minor": 5
}
