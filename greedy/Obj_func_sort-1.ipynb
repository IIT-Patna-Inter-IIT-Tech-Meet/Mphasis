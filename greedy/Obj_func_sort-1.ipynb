{
 "cells": [
  {
   "cell_type": "code",
   "execution_count": 1,
   "id": "cb6d6657",
   "metadata": {},
   "outputs": [],
   "source": [
    "import re\n",
    "import math"
   ]
  },
  {
   "cell_type": "code",
   "execution_count": 2,
   "id": "239c8f57",
   "metadata": {},
   "outputs": [],
   "source": [
    "import requests\n",
    "import json\n",
    "\n",
    "HOST = \"http://10.35.0.112:8000/\"\n",
    "API_CANCLED = \"canclled\"\n",
    "API_PNR_RANKING = \"pnr_ranking?flight_id=\"\n",
    "API_ALT_FLIGHT=\"alt_flight?flight_id=\"\n",
    "\n",
    "def get_cancled():\n",
    "    response = requests.request(\"GET\", HOST + API_CANCLED, headers={}, data={})\n",
    "    return json.loads(response.text)\n",
    "\n",
    "def get_pnrs(flight_id):\n",
    "    response = requests.request(\"GET\", HOST + API_PNR_RANKING + str(flight_id), headers={}, data={})\n",
    "    return json.loads(response.text)\n",
    "\n",
    "def get_alt_flights(flight_id):\n",
    "    response = requests.request(\"GET\", HOST + API_ALT_FLIGHT + str(flight_id), headers={}, data={})\n",
    "    return json.loads(response.text)"
   ]
  },
  {
   "cell_type": "code",
   "execution_count": 3,
   "id": "63f22e39",
   "metadata": {},
   "outputs": [
    {
     "ename": "ConnectionError",
     "evalue": "HTTPConnectionPool(host='10.35.0.112', port=8000): Max retries exceeded with url: /canclled (Caused by NewConnectionError('<urllib3.connection.HTTPConnection object at 0x00000265D8313910>: Failed to establish a new connection: [WinError 10061] No connection could be made because the target machine actively refused it'))",
     "output_type": "error",
     "traceback": [
      "\u001b[1;31m---------------------------------------------------------------------------\u001b[0m",
      "\u001b[1;31mConnectionRefusedError\u001b[0m                    Traceback (most recent call last)",
      "File \u001b[1;32mc:\\Users\\aadit\\Desktop\\Mphasis\\venv\\lib\\site-packages\\urllib3\\connection.py:203\u001b[0m, in \u001b[0;36mHTTPConnection._new_conn\u001b[1;34m(self)\u001b[0m\n\u001b[0;32m    202\u001b[0m \u001b[38;5;28;01mtry\u001b[39;00m:\n\u001b[1;32m--> 203\u001b[0m     sock \u001b[38;5;241m=\u001b[39m \u001b[43mconnection\u001b[49m\u001b[38;5;241;43m.\u001b[39;49m\u001b[43mcreate_connection\u001b[49m\u001b[43m(\u001b[49m\n\u001b[0;32m    204\u001b[0m \u001b[43m        \u001b[49m\u001b[43m(\u001b[49m\u001b[38;5;28;43mself\u001b[39;49m\u001b[38;5;241;43m.\u001b[39;49m\u001b[43m_dns_host\u001b[49m\u001b[43m,\u001b[49m\u001b[43m \u001b[49m\u001b[38;5;28;43mself\u001b[39;49m\u001b[38;5;241;43m.\u001b[39;49m\u001b[43mport\u001b[49m\u001b[43m)\u001b[49m\u001b[43m,\u001b[49m\n\u001b[0;32m    205\u001b[0m \u001b[43m        \u001b[49m\u001b[38;5;28;43mself\u001b[39;49m\u001b[38;5;241;43m.\u001b[39;49m\u001b[43mtimeout\u001b[49m\u001b[43m,\u001b[49m\n\u001b[0;32m    206\u001b[0m \u001b[43m        \u001b[49m\u001b[43msource_address\u001b[49m\u001b[38;5;241;43m=\u001b[39;49m\u001b[38;5;28;43mself\u001b[39;49m\u001b[38;5;241;43m.\u001b[39;49m\u001b[43msource_address\u001b[49m\u001b[43m,\u001b[49m\n\u001b[0;32m    207\u001b[0m \u001b[43m        \u001b[49m\u001b[43msocket_options\u001b[49m\u001b[38;5;241;43m=\u001b[39;49m\u001b[38;5;28;43mself\u001b[39;49m\u001b[38;5;241;43m.\u001b[39;49m\u001b[43msocket_options\u001b[49m\u001b[43m,\u001b[49m\n\u001b[0;32m    208\u001b[0m \u001b[43m    \u001b[49m\u001b[43m)\u001b[49m\n\u001b[0;32m    209\u001b[0m \u001b[38;5;28;01mexcept\u001b[39;00m socket\u001b[38;5;241m.\u001b[39mgaierror \u001b[38;5;28;01mas\u001b[39;00m e:\n",
      "File \u001b[1;32mc:\\Users\\aadit\\Desktop\\Mphasis\\venv\\lib\\site-packages\\urllib3\\util\\connection.py:85\u001b[0m, in \u001b[0;36mcreate_connection\u001b[1;34m(address, timeout, source_address, socket_options)\u001b[0m\n\u001b[0;32m     84\u001b[0m \u001b[38;5;28;01mtry\u001b[39;00m:\n\u001b[1;32m---> 85\u001b[0m     \u001b[38;5;28;01mraise\u001b[39;00m err\n\u001b[0;32m     86\u001b[0m \u001b[38;5;28;01mfinally\u001b[39;00m:\n\u001b[0;32m     87\u001b[0m     \u001b[38;5;66;03m# Break explicitly a reference cycle\u001b[39;00m\n",
      "File \u001b[1;32mc:\\Users\\aadit\\Desktop\\Mphasis\\venv\\lib\\site-packages\\urllib3\\util\\connection.py:73\u001b[0m, in \u001b[0;36mcreate_connection\u001b[1;34m(address, timeout, source_address, socket_options)\u001b[0m\n\u001b[0;32m     72\u001b[0m     sock\u001b[38;5;241m.\u001b[39mbind(source_address)\n\u001b[1;32m---> 73\u001b[0m \u001b[43msock\u001b[49m\u001b[38;5;241;43m.\u001b[39;49m\u001b[43mconnect\u001b[49m\u001b[43m(\u001b[49m\u001b[43msa\u001b[49m\u001b[43m)\u001b[49m\n\u001b[0;32m     74\u001b[0m \u001b[38;5;66;03m# Break explicitly a reference cycle\u001b[39;00m\n",
      "\u001b[1;31mConnectionRefusedError\u001b[0m: [WinError 10061] No connection could be made because the target machine actively refused it",
      "\nThe above exception was the direct cause of the following exception:\n",
      "\u001b[1;31mNewConnectionError\u001b[0m                        Traceback (most recent call last)",
      "File \u001b[1;32mc:\\Users\\aadit\\Desktop\\Mphasis\\venv\\lib\\site-packages\\urllib3\\connectionpool.py:790\u001b[0m, in \u001b[0;36mHTTPConnectionPool.urlopen\u001b[1;34m(self, method, url, body, headers, retries, redirect, assert_same_host, timeout, pool_timeout, release_conn, chunked, body_pos, preload_content, decode_content, **response_kw)\u001b[0m\n\u001b[0;32m    789\u001b[0m \u001b[38;5;66;03m# Make the request on the HTTPConnection object\u001b[39;00m\n\u001b[1;32m--> 790\u001b[0m response \u001b[38;5;241m=\u001b[39m \u001b[38;5;28mself\u001b[39m\u001b[38;5;241m.\u001b[39m_make_request(\n\u001b[0;32m    791\u001b[0m     conn,\n\u001b[0;32m    792\u001b[0m     method,\n\u001b[0;32m    793\u001b[0m     url,\n\u001b[0;32m    794\u001b[0m     timeout\u001b[38;5;241m=\u001b[39mtimeout_obj,\n\u001b[0;32m    795\u001b[0m     body\u001b[38;5;241m=\u001b[39mbody,\n\u001b[0;32m    796\u001b[0m     headers\u001b[38;5;241m=\u001b[39mheaders,\n\u001b[0;32m    797\u001b[0m     chunked\u001b[38;5;241m=\u001b[39mchunked,\n\u001b[0;32m    798\u001b[0m     retries\u001b[38;5;241m=\u001b[39mretries,\n\u001b[0;32m    799\u001b[0m     response_conn\u001b[38;5;241m=\u001b[39mresponse_conn,\n\u001b[0;32m    800\u001b[0m     preload_content\u001b[38;5;241m=\u001b[39mpreload_content,\n\u001b[0;32m    801\u001b[0m     decode_content\u001b[38;5;241m=\u001b[39mdecode_content,\n\u001b[0;32m    802\u001b[0m     \u001b[38;5;241m*\u001b[39m\u001b[38;5;241m*\u001b[39mresponse_kw,\n\u001b[0;32m    803\u001b[0m )\n\u001b[0;32m    805\u001b[0m \u001b[38;5;66;03m# Everything went great!\u001b[39;00m\n",
      "File \u001b[1;32mc:\\Users\\aadit\\Desktop\\Mphasis\\venv\\lib\\site-packages\\urllib3\\connectionpool.py:496\u001b[0m, in \u001b[0;36mHTTPConnectionPool._make_request\u001b[1;34m(self, conn, method, url, body, headers, retries, timeout, chunked, response_conn, preload_content, decode_content, enforce_content_length)\u001b[0m\n\u001b[0;32m    495\u001b[0m \u001b[38;5;28;01mtry\u001b[39;00m:\n\u001b[1;32m--> 496\u001b[0m     \u001b[43mconn\u001b[49m\u001b[38;5;241;43m.\u001b[39;49m\u001b[43mrequest\u001b[49m\u001b[43m(\u001b[49m\n\u001b[0;32m    497\u001b[0m \u001b[43m        \u001b[49m\u001b[43mmethod\u001b[49m\u001b[43m,\u001b[49m\n\u001b[0;32m    498\u001b[0m \u001b[43m        \u001b[49m\u001b[43murl\u001b[49m\u001b[43m,\u001b[49m\n\u001b[0;32m    499\u001b[0m \u001b[43m        \u001b[49m\u001b[43mbody\u001b[49m\u001b[38;5;241;43m=\u001b[39;49m\u001b[43mbody\u001b[49m\u001b[43m,\u001b[49m\n\u001b[0;32m    500\u001b[0m \u001b[43m        \u001b[49m\u001b[43mheaders\u001b[49m\u001b[38;5;241;43m=\u001b[39;49m\u001b[43mheaders\u001b[49m\u001b[43m,\u001b[49m\n\u001b[0;32m    501\u001b[0m \u001b[43m        \u001b[49m\u001b[43mchunked\u001b[49m\u001b[38;5;241;43m=\u001b[39;49m\u001b[43mchunked\u001b[49m\u001b[43m,\u001b[49m\n\u001b[0;32m    502\u001b[0m \u001b[43m        \u001b[49m\u001b[43mpreload_content\u001b[49m\u001b[38;5;241;43m=\u001b[39;49m\u001b[43mpreload_content\u001b[49m\u001b[43m,\u001b[49m\n\u001b[0;32m    503\u001b[0m \u001b[43m        \u001b[49m\u001b[43mdecode_content\u001b[49m\u001b[38;5;241;43m=\u001b[39;49m\u001b[43mdecode_content\u001b[49m\u001b[43m,\u001b[49m\n\u001b[0;32m    504\u001b[0m \u001b[43m        \u001b[49m\u001b[43menforce_content_length\u001b[49m\u001b[38;5;241;43m=\u001b[39;49m\u001b[43menforce_content_length\u001b[49m\u001b[43m,\u001b[49m\n\u001b[0;32m    505\u001b[0m \u001b[43m    \u001b[49m\u001b[43m)\u001b[49m\n\u001b[0;32m    507\u001b[0m \u001b[38;5;66;03m# We are swallowing BrokenPipeError (errno.EPIPE) since the server is\u001b[39;00m\n\u001b[0;32m    508\u001b[0m \u001b[38;5;66;03m# legitimately able to close the connection after sending a valid response.\u001b[39;00m\n\u001b[0;32m    509\u001b[0m \u001b[38;5;66;03m# With this behaviour, the received response is still readable.\u001b[39;00m\n",
      "File \u001b[1;32mc:\\Users\\aadit\\Desktop\\Mphasis\\venv\\lib\\site-packages\\urllib3\\connection.py:395\u001b[0m, in \u001b[0;36mHTTPConnection.request\u001b[1;34m(self, method, url, body, headers, chunked, preload_content, decode_content, enforce_content_length)\u001b[0m\n\u001b[0;32m    394\u001b[0m     \u001b[38;5;28mself\u001b[39m\u001b[38;5;241m.\u001b[39mputheader(header, value)\n\u001b[1;32m--> 395\u001b[0m \u001b[38;5;28;43mself\u001b[39;49m\u001b[38;5;241;43m.\u001b[39;49m\u001b[43mendheaders\u001b[49m\u001b[43m(\u001b[49m\u001b[43m)\u001b[49m\n\u001b[0;32m    397\u001b[0m \u001b[38;5;66;03m# If we're given a body we start sending that in chunks.\u001b[39;00m\n",
      "File \u001b[1;32mC:\\Program Files\\WindowsApps\\PythonSoftwareFoundation.Python.3.10_3.10.3056.0_x64__qbz5n2kfra8p0\\lib\\http\\client.py:1278\u001b[0m, in \u001b[0;36mHTTPConnection.endheaders\u001b[1;34m(self, message_body, encode_chunked)\u001b[0m\n\u001b[0;32m   1277\u001b[0m     \u001b[38;5;28;01mraise\u001b[39;00m CannotSendHeader()\n\u001b[1;32m-> 1278\u001b[0m \u001b[38;5;28;43mself\u001b[39;49m\u001b[38;5;241;43m.\u001b[39;49m\u001b[43m_send_output\u001b[49m\u001b[43m(\u001b[49m\u001b[43mmessage_body\u001b[49m\u001b[43m,\u001b[49m\u001b[43m \u001b[49m\u001b[43mencode_chunked\u001b[49m\u001b[38;5;241;43m=\u001b[39;49m\u001b[43mencode_chunked\u001b[49m\u001b[43m)\u001b[49m\n",
      "File \u001b[1;32mC:\\Program Files\\WindowsApps\\PythonSoftwareFoundation.Python.3.10_3.10.3056.0_x64__qbz5n2kfra8p0\\lib\\http\\client.py:1038\u001b[0m, in \u001b[0;36mHTTPConnection._send_output\u001b[1;34m(self, message_body, encode_chunked)\u001b[0m\n\u001b[0;32m   1037\u001b[0m \u001b[38;5;28;01mdel\u001b[39;00m \u001b[38;5;28mself\u001b[39m\u001b[38;5;241m.\u001b[39m_buffer[:]\n\u001b[1;32m-> 1038\u001b[0m \u001b[38;5;28;43mself\u001b[39;49m\u001b[38;5;241;43m.\u001b[39;49m\u001b[43msend\u001b[49m\u001b[43m(\u001b[49m\u001b[43mmsg\u001b[49m\u001b[43m)\u001b[49m\n\u001b[0;32m   1040\u001b[0m \u001b[38;5;28;01mif\u001b[39;00m message_body \u001b[38;5;129;01mis\u001b[39;00m \u001b[38;5;129;01mnot\u001b[39;00m \u001b[38;5;28;01mNone\u001b[39;00m:\n\u001b[0;32m   1041\u001b[0m \n\u001b[0;32m   1042\u001b[0m     \u001b[38;5;66;03m# create a consistent interface to message_body\u001b[39;00m\n",
      "File \u001b[1;32mC:\\Program Files\\WindowsApps\\PythonSoftwareFoundation.Python.3.10_3.10.3056.0_x64__qbz5n2kfra8p0\\lib\\http\\client.py:976\u001b[0m, in \u001b[0;36mHTTPConnection.send\u001b[1;34m(self, data)\u001b[0m\n\u001b[0;32m    975\u001b[0m \u001b[38;5;28;01mif\u001b[39;00m \u001b[38;5;28mself\u001b[39m\u001b[38;5;241m.\u001b[39mauto_open:\n\u001b[1;32m--> 976\u001b[0m     \u001b[38;5;28;43mself\u001b[39;49m\u001b[38;5;241;43m.\u001b[39;49m\u001b[43mconnect\u001b[49m\u001b[43m(\u001b[49m\u001b[43m)\u001b[49m\n\u001b[0;32m    977\u001b[0m \u001b[38;5;28;01melse\u001b[39;00m:\n",
      "File \u001b[1;32mc:\\Users\\aadit\\Desktop\\Mphasis\\venv\\lib\\site-packages\\urllib3\\connection.py:243\u001b[0m, in \u001b[0;36mHTTPConnection.connect\u001b[1;34m(self)\u001b[0m\n\u001b[0;32m    242\u001b[0m \u001b[38;5;28;01mdef\u001b[39;00m \u001b[38;5;21mconnect\u001b[39m(\u001b[38;5;28mself\u001b[39m) \u001b[38;5;241m-\u001b[39m\u001b[38;5;241m>\u001b[39m \u001b[38;5;28;01mNone\u001b[39;00m:\n\u001b[1;32m--> 243\u001b[0m     \u001b[38;5;28mself\u001b[39m\u001b[38;5;241m.\u001b[39msock \u001b[38;5;241m=\u001b[39m \u001b[38;5;28;43mself\u001b[39;49m\u001b[38;5;241;43m.\u001b[39;49m\u001b[43m_new_conn\u001b[49m\u001b[43m(\u001b[49m\u001b[43m)\u001b[49m\n\u001b[0;32m    244\u001b[0m     \u001b[38;5;28;01mif\u001b[39;00m \u001b[38;5;28mself\u001b[39m\u001b[38;5;241m.\u001b[39m_tunnel_host:\n\u001b[0;32m    245\u001b[0m         \u001b[38;5;66;03m# If we're tunneling it means we're connected to our proxy.\u001b[39;00m\n",
      "File \u001b[1;32mc:\\Users\\aadit\\Desktop\\Mphasis\\venv\\lib\\site-packages\\urllib3\\connection.py:218\u001b[0m, in \u001b[0;36mHTTPConnection._new_conn\u001b[1;34m(self)\u001b[0m\n\u001b[0;32m    217\u001b[0m \u001b[38;5;28;01mexcept\u001b[39;00m \u001b[38;5;167;01mOSError\u001b[39;00m \u001b[38;5;28;01mas\u001b[39;00m e:\n\u001b[1;32m--> 218\u001b[0m     \u001b[38;5;28;01mraise\u001b[39;00m NewConnectionError(\n\u001b[0;32m    219\u001b[0m         \u001b[38;5;28mself\u001b[39m, \u001b[38;5;124mf\u001b[39m\u001b[38;5;124m\"\u001b[39m\u001b[38;5;124mFailed to establish a new connection: \u001b[39m\u001b[38;5;132;01m{\u001b[39;00me\u001b[38;5;132;01m}\u001b[39;00m\u001b[38;5;124m\"\u001b[39m\n\u001b[0;32m    220\u001b[0m     ) \u001b[38;5;28;01mfrom\u001b[39;00m \u001b[38;5;21;01me\u001b[39;00m\n\u001b[0;32m    222\u001b[0m \u001b[38;5;66;03m# Audit hooks are only available in Python 3.8+\u001b[39;00m\n",
      "\u001b[1;31mNewConnectionError\u001b[0m: <urllib3.connection.HTTPConnection object at 0x00000265D8313910>: Failed to establish a new connection: [WinError 10061] No connection could be made because the target machine actively refused it",
      "\nThe above exception was the direct cause of the following exception:\n",
      "\u001b[1;31mMaxRetryError\u001b[0m                             Traceback (most recent call last)",
      "File \u001b[1;32mc:\\Users\\aadit\\Desktop\\Mphasis\\venv\\lib\\site-packages\\requests\\adapters.py:486\u001b[0m, in \u001b[0;36mHTTPAdapter.send\u001b[1;34m(self, request, stream, timeout, verify, cert, proxies)\u001b[0m\n\u001b[0;32m    485\u001b[0m \u001b[38;5;28;01mtry\u001b[39;00m:\n\u001b[1;32m--> 486\u001b[0m     resp \u001b[38;5;241m=\u001b[39m \u001b[43mconn\u001b[49m\u001b[38;5;241;43m.\u001b[39;49m\u001b[43murlopen\u001b[49m\u001b[43m(\u001b[49m\n\u001b[0;32m    487\u001b[0m \u001b[43m        \u001b[49m\u001b[43mmethod\u001b[49m\u001b[38;5;241;43m=\u001b[39;49m\u001b[43mrequest\u001b[49m\u001b[38;5;241;43m.\u001b[39;49m\u001b[43mmethod\u001b[49m\u001b[43m,\u001b[49m\n\u001b[0;32m    488\u001b[0m \u001b[43m        \u001b[49m\u001b[43murl\u001b[49m\u001b[38;5;241;43m=\u001b[39;49m\u001b[43murl\u001b[49m\u001b[43m,\u001b[49m\n\u001b[0;32m    489\u001b[0m \u001b[43m        \u001b[49m\u001b[43mbody\u001b[49m\u001b[38;5;241;43m=\u001b[39;49m\u001b[43mrequest\u001b[49m\u001b[38;5;241;43m.\u001b[39;49m\u001b[43mbody\u001b[49m\u001b[43m,\u001b[49m\n\u001b[0;32m    490\u001b[0m \u001b[43m        \u001b[49m\u001b[43mheaders\u001b[49m\u001b[38;5;241;43m=\u001b[39;49m\u001b[43mrequest\u001b[49m\u001b[38;5;241;43m.\u001b[39;49m\u001b[43mheaders\u001b[49m\u001b[43m,\u001b[49m\n\u001b[0;32m    491\u001b[0m \u001b[43m        \u001b[49m\u001b[43mredirect\u001b[49m\u001b[38;5;241;43m=\u001b[39;49m\u001b[38;5;28;43;01mFalse\u001b[39;49;00m\u001b[43m,\u001b[49m\n\u001b[0;32m    492\u001b[0m \u001b[43m        \u001b[49m\u001b[43massert_same_host\u001b[49m\u001b[38;5;241;43m=\u001b[39;49m\u001b[38;5;28;43;01mFalse\u001b[39;49;00m\u001b[43m,\u001b[49m\n\u001b[0;32m    493\u001b[0m \u001b[43m        \u001b[49m\u001b[43mpreload_content\u001b[49m\u001b[38;5;241;43m=\u001b[39;49m\u001b[38;5;28;43;01mFalse\u001b[39;49;00m\u001b[43m,\u001b[49m\n\u001b[0;32m    494\u001b[0m \u001b[43m        \u001b[49m\u001b[43mdecode_content\u001b[49m\u001b[38;5;241;43m=\u001b[39;49m\u001b[38;5;28;43;01mFalse\u001b[39;49;00m\u001b[43m,\u001b[49m\n\u001b[0;32m    495\u001b[0m \u001b[43m        \u001b[49m\u001b[43mretries\u001b[49m\u001b[38;5;241;43m=\u001b[39;49m\u001b[38;5;28;43mself\u001b[39;49m\u001b[38;5;241;43m.\u001b[39;49m\u001b[43mmax_retries\u001b[49m\u001b[43m,\u001b[49m\n\u001b[0;32m    496\u001b[0m \u001b[43m        \u001b[49m\u001b[43mtimeout\u001b[49m\u001b[38;5;241;43m=\u001b[39;49m\u001b[43mtimeout\u001b[49m\u001b[43m,\u001b[49m\n\u001b[0;32m    497\u001b[0m \u001b[43m        \u001b[49m\u001b[43mchunked\u001b[49m\u001b[38;5;241;43m=\u001b[39;49m\u001b[43mchunked\u001b[49m\u001b[43m,\u001b[49m\n\u001b[0;32m    498\u001b[0m \u001b[43m    \u001b[49m\u001b[43m)\u001b[49m\n\u001b[0;32m    500\u001b[0m \u001b[38;5;28;01mexcept\u001b[39;00m (ProtocolError, \u001b[38;5;167;01mOSError\u001b[39;00m) \u001b[38;5;28;01mas\u001b[39;00m err:\n",
      "File \u001b[1;32mc:\\Users\\aadit\\Desktop\\Mphasis\\venv\\lib\\site-packages\\urllib3\\connectionpool.py:844\u001b[0m, in \u001b[0;36mHTTPConnectionPool.urlopen\u001b[1;34m(self, method, url, body, headers, retries, redirect, assert_same_host, timeout, pool_timeout, release_conn, chunked, body_pos, preload_content, decode_content, **response_kw)\u001b[0m\n\u001b[0;32m    842\u001b[0m     new_e \u001b[38;5;241m=\u001b[39m ProtocolError(\u001b[38;5;124m\"\u001b[39m\u001b[38;5;124mConnection aborted.\u001b[39m\u001b[38;5;124m\"\u001b[39m, new_e)\n\u001b[1;32m--> 844\u001b[0m retries \u001b[38;5;241m=\u001b[39m \u001b[43mretries\u001b[49m\u001b[38;5;241;43m.\u001b[39;49m\u001b[43mincrement\u001b[49m\u001b[43m(\u001b[49m\n\u001b[0;32m    845\u001b[0m \u001b[43m    \u001b[49m\u001b[43mmethod\u001b[49m\u001b[43m,\u001b[49m\u001b[43m \u001b[49m\u001b[43murl\u001b[49m\u001b[43m,\u001b[49m\u001b[43m \u001b[49m\u001b[43merror\u001b[49m\u001b[38;5;241;43m=\u001b[39;49m\u001b[43mnew_e\u001b[49m\u001b[43m,\u001b[49m\u001b[43m \u001b[49m\u001b[43m_pool\u001b[49m\u001b[38;5;241;43m=\u001b[39;49m\u001b[38;5;28;43mself\u001b[39;49m\u001b[43m,\u001b[49m\u001b[43m \u001b[49m\u001b[43m_stacktrace\u001b[49m\u001b[38;5;241;43m=\u001b[39;49m\u001b[43msys\u001b[49m\u001b[38;5;241;43m.\u001b[39;49m\u001b[43mexc_info\u001b[49m\u001b[43m(\u001b[49m\u001b[43m)\u001b[49m\u001b[43m[\u001b[49m\u001b[38;5;241;43m2\u001b[39;49m\u001b[43m]\u001b[49m\n\u001b[0;32m    846\u001b[0m \u001b[43m\u001b[49m\u001b[43m)\u001b[49m\n\u001b[0;32m    847\u001b[0m retries\u001b[38;5;241m.\u001b[39msleep()\n",
      "File \u001b[1;32mc:\\Users\\aadit\\Desktop\\Mphasis\\venv\\lib\\site-packages\\urllib3\\util\\retry.py:515\u001b[0m, in \u001b[0;36mRetry.increment\u001b[1;34m(self, method, url, response, error, _pool, _stacktrace)\u001b[0m\n\u001b[0;32m    514\u001b[0m     reason \u001b[38;5;241m=\u001b[39m error \u001b[38;5;129;01mor\u001b[39;00m ResponseError(cause)\n\u001b[1;32m--> 515\u001b[0m     \u001b[38;5;28;01mraise\u001b[39;00m MaxRetryError(_pool, url, reason) \u001b[38;5;28;01mfrom\u001b[39;00m \u001b[38;5;21;01mreason\u001b[39;00m  \u001b[38;5;66;03m# type: ignore[arg-type]\u001b[39;00m\n\u001b[0;32m    517\u001b[0m log\u001b[38;5;241m.\u001b[39mdebug(\u001b[38;5;124m\"\u001b[39m\u001b[38;5;124mIncremented Retry for (url=\u001b[39m\u001b[38;5;124m'\u001b[39m\u001b[38;5;132;01m%s\u001b[39;00m\u001b[38;5;124m'\u001b[39m\u001b[38;5;124m): \u001b[39m\u001b[38;5;132;01m%r\u001b[39;00m\u001b[38;5;124m\"\u001b[39m, url, new_retry)\n",
      "\u001b[1;31mMaxRetryError\u001b[0m: HTTPConnectionPool(host='10.35.0.112', port=8000): Max retries exceeded with url: /canclled (Caused by NewConnectionError('<urllib3.connection.HTTPConnection object at 0x00000265D8313910>: Failed to establish a new connection: [WinError 10061] No connection could be made because the target machine actively refused it'))",
      "\nDuring handling of the above exception, another exception occurred:\n",
      "\u001b[1;31mConnectionError\u001b[0m                           Traceback (most recent call last)",
      "Cell \u001b[1;32mIn[3], line 1\u001b[0m\n\u001b[1;32m----> 1\u001b[0m cancel\u001b[38;5;241m=\u001b[39m\u001b[43mget_cancled\u001b[49m\u001b[43m(\u001b[49m\u001b[43m)\u001b[49m\n\u001b[0;32m      2\u001b[0m \u001b[38;5;28mlen\u001b[39m(cancel)\n\u001b[0;32m      3\u001b[0m x\u001b[38;5;241m=\u001b[39mget_alt_flights(\u001b[38;5;124m'\u001b[39m\u001b[38;5;124m61d83160\u001b[39m\u001b[38;5;124m'\u001b[39m)\n",
      "Cell \u001b[1;32mIn[2], line 10\u001b[0m, in \u001b[0;36mget_cancled\u001b[1;34m()\u001b[0m\n\u001b[0;32m      9\u001b[0m \u001b[38;5;28;01mdef\u001b[39;00m \u001b[38;5;21mget_cancled\u001b[39m():\n\u001b[1;32m---> 10\u001b[0m     response \u001b[38;5;241m=\u001b[39m \u001b[43mrequests\u001b[49m\u001b[38;5;241;43m.\u001b[39;49m\u001b[43mrequest\u001b[49m\u001b[43m(\u001b[49m\u001b[38;5;124;43m\"\u001b[39;49m\u001b[38;5;124;43mGET\u001b[39;49m\u001b[38;5;124;43m\"\u001b[39;49m\u001b[43m,\u001b[49m\u001b[43m \u001b[49m\u001b[43mHOST\u001b[49m\u001b[43m \u001b[49m\u001b[38;5;241;43m+\u001b[39;49m\u001b[43m \u001b[49m\u001b[43mAPI_CANCLED\u001b[49m\u001b[43m,\u001b[49m\u001b[43m \u001b[49m\u001b[43mheaders\u001b[49m\u001b[38;5;241;43m=\u001b[39;49m\u001b[43m{\u001b[49m\u001b[43m}\u001b[49m\u001b[43m,\u001b[49m\u001b[43m \u001b[49m\u001b[43mdata\u001b[49m\u001b[38;5;241;43m=\u001b[39;49m\u001b[43m{\u001b[49m\u001b[43m}\u001b[49m\u001b[43m)\u001b[49m\n\u001b[0;32m     11\u001b[0m     \u001b[38;5;28;01mreturn\u001b[39;00m json\u001b[38;5;241m.\u001b[39mloads(response\u001b[38;5;241m.\u001b[39mtext)\n",
      "File \u001b[1;32mc:\\Users\\aadit\\Desktop\\Mphasis\\venv\\lib\\site-packages\\requests\\api.py:59\u001b[0m, in \u001b[0;36mrequest\u001b[1;34m(method, url, **kwargs)\u001b[0m\n\u001b[0;32m     55\u001b[0m \u001b[38;5;66;03m# By using the 'with' statement we are sure the session is closed, thus we\u001b[39;00m\n\u001b[0;32m     56\u001b[0m \u001b[38;5;66;03m# avoid leaving sockets open which can trigger a ResourceWarning in some\u001b[39;00m\n\u001b[0;32m     57\u001b[0m \u001b[38;5;66;03m# cases, and look like a memory leak in others.\u001b[39;00m\n\u001b[0;32m     58\u001b[0m \u001b[38;5;28;01mwith\u001b[39;00m sessions\u001b[38;5;241m.\u001b[39mSession() \u001b[38;5;28;01mas\u001b[39;00m session:\n\u001b[1;32m---> 59\u001b[0m     \u001b[38;5;28;01mreturn\u001b[39;00m session\u001b[38;5;241m.\u001b[39mrequest(method\u001b[38;5;241m=\u001b[39mmethod, url\u001b[38;5;241m=\u001b[39murl, \u001b[38;5;241m*\u001b[39m\u001b[38;5;241m*\u001b[39mkwargs)\n",
      "File \u001b[1;32mc:\\Users\\aadit\\Desktop\\Mphasis\\venv\\lib\\site-packages\\requests\\sessions.py:589\u001b[0m, in \u001b[0;36mSession.request\u001b[1;34m(self, method, url, params, data, headers, cookies, files, auth, timeout, allow_redirects, proxies, hooks, stream, verify, cert, json)\u001b[0m\n\u001b[0;32m    584\u001b[0m send_kwargs \u001b[38;5;241m=\u001b[39m {\n\u001b[0;32m    585\u001b[0m     \u001b[38;5;124m\"\u001b[39m\u001b[38;5;124mtimeout\u001b[39m\u001b[38;5;124m\"\u001b[39m: timeout,\n\u001b[0;32m    586\u001b[0m     \u001b[38;5;124m\"\u001b[39m\u001b[38;5;124mallow_redirects\u001b[39m\u001b[38;5;124m\"\u001b[39m: allow_redirects,\n\u001b[0;32m    587\u001b[0m }\n\u001b[0;32m    588\u001b[0m send_kwargs\u001b[38;5;241m.\u001b[39mupdate(settings)\n\u001b[1;32m--> 589\u001b[0m resp \u001b[38;5;241m=\u001b[39m \u001b[38;5;28mself\u001b[39m\u001b[38;5;241m.\u001b[39msend(prep, \u001b[38;5;241m*\u001b[39m\u001b[38;5;241m*\u001b[39msend_kwargs)\n\u001b[0;32m    591\u001b[0m \u001b[38;5;28;01mreturn\u001b[39;00m resp\n",
      "File \u001b[1;32mc:\\Users\\aadit\\Desktop\\Mphasis\\venv\\lib\\site-packages\\requests\\sessions.py:703\u001b[0m, in \u001b[0;36mSession.send\u001b[1;34m(self, request, **kwargs)\u001b[0m\n\u001b[0;32m    700\u001b[0m start \u001b[38;5;241m=\u001b[39m preferred_clock()\n\u001b[0;32m    702\u001b[0m \u001b[38;5;66;03m# Send the request\u001b[39;00m\n\u001b[1;32m--> 703\u001b[0m r \u001b[38;5;241m=\u001b[39m adapter\u001b[38;5;241m.\u001b[39msend(request, \u001b[38;5;241m*\u001b[39m\u001b[38;5;241m*\u001b[39mkwargs)\n\u001b[0;32m    705\u001b[0m \u001b[38;5;66;03m# Total elapsed time of the request (approximately)\u001b[39;00m\n\u001b[0;32m    706\u001b[0m elapsed \u001b[38;5;241m=\u001b[39m preferred_clock() \u001b[38;5;241m-\u001b[39m start\n",
      "File \u001b[1;32mc:\\Users\\aadit\\Desktop\\Mphasis\\venv\\lib\\site-packages\\requests\\adapters.py:519\u001b[0m, in \u001b[0;36mHTTPAdapter.send\u001b[1;34m(self, request, stream, timeout, verify, cert, proxies)\u001b[0m\n\u001b[0;32m    515\u001b[0m     \u001b[38;5;28;01mif\u001b[39;00m \u001b[38;5;28misinstance\u001b[39m(e\u001b[38;5;241m.\u001b[39mreason, _SSLError):\n\u001b[0;32m    516\u001b[0m         \u001b[38;5;66;03m# This branch is for urllib3 v1.22 and later.\u001b[39;00m\n\u001b[0;32m    517\u001b[0m         \u001b[38;5;28;01mraise\u001b[39;00m SSLError(e, request\u001b[38;5;241m=\u001b[39mrequest)\n\u001b[1;32m--> 519\u001b[0m     \u001b[38;5;28;01mraise\u001b[39;00m \u001b[38;5;167;01mConnectionError\u001b[39;00m(e, request\u001b[38;5;241m=\u001b[39mrequest)\n\u001b[0;32m    521\u001b[0m \u001b[38;5;28;01mexcept\u001b[39;00m ClosedPoolError \u001b[38;5;28;01mas\u001b[39;00m e:\n\u001b[0;32m    522\u001b[0m     \u001b[38;5;28;01mraise\u001b[39;00m \u001b[38;5;167;01mConnectionError\u001b[39;00m(e, request\u001b[38;5;241m=\u001b[39mrequest)\n",
      "\u001b[1;31mConnectionError\u001b[0m: HTTPConnectionPool(host='10.35.0.112', port=8000): Max retries exceeded with url: /canclled (Caused by NewConnectionError('<urllib3.connection.HTTPConnection object at 0x00000265D8313910>: Failed to establish a new connection: [WinError 10061] No connection could be made because the target machine actively refused it'))"
     ]
    }
   ],
   "source": [
    "cancel=get_cancled()\n",
    "len(cancel)\n",
    "x=get_alt_flights('61d83160')\n",
    "x"
   ]
  },
  {
   "cell_type": "code",
   "execution_count": 4,
   "id": "b8609006",
   "metadata": {},
   "outputs": [],
   "source": [
    "map_cabin={ 'F':'F','P':'F','C':'B','J':'B','Z':'B','Q':'P','R':'P','S':'P','T':'P','H':'P','M':'P',\n",
    "          'Y':'E', 'A':'E', 'B':'E', 'D':'E', 'E':'E', 'G':'E', 'I':'E', 'K':'E', 'L':'E', 'N':'E', 'O':'E',\n",
    "           'U':'E', 'V':'E','W':'E','X':'E'}\n",
    "cabins=['F','B','P','E']\n",
    "cabin_ind={'F':0 , 'B':1,'P':2,'E':3}\n",
    "\n",
    "class_ind = {'F':'0', 'P':'1', 'C':'2', 'J':'3', 'Z':'4', 'Q':'5', 'R':'6', 'S':'7', 'T':'8', 'H':'9', 'M':'10',\n",
    "             'Y':'11', 'A':'12', 'B':'13', 'D':'14', 'E':'15', 'G':'16', 'I':'17', 'K':'18', 'L':'19', 'N':'20', 'O':'21',\n",
    "             'U':'22', 'V':'23', 'W':'24', 'X':'25'}\n",
    "\n",
    "ind_class = {'0': 'F', '1': 'P', '2': 'C', '3': 'J', '4': 'Z', '5': 'Q', '6': 'R', '7': 'S', '8': 'T', '9': 'H', '10': 'M',\n",
    "             '11': 'Y', '12': 'A', '13': 'B', '14': 'D', '15': 'E', '16': 'G', '17': 'I', '18': 'K', '19': 'L', '20': 'N', '21': 'O',\n",
    "            '22': 'U', '23': 'V', '24': 'W', '25': 'X'}"
   ]
  },
  {
   "cell_type": "code",
   "execution_count": 5,
   "id": "294c552e",
   "metadata": {},
   "outputs": [],
   "source": [
    "def preprocess_data(get_pnrs,alt_flight )\n",
    "pnr={}\n",
    "alt_flight={}\n",
    "# pnr_flight={}\n",
    "for f in cancel['data']:\n",
    "#     print(f['flight_id'])\n",
    "    pnr[f['flight_id']]=get_pnrs(f['flight_id'])['data']\n",
    "    alt=get_alt_flights(f['flight_id'])['data']\n",
    "    f2=[]\n",
    "    for flight in alt['data']:\n",
    "        f3={}\n",
    "        f3['flight_id']=flight['flight_id']\n",
    "        f3['delay']=flight['delay']\n",
    "        f3['flight_time']=flight['flight_time']\n",
    "        f3['F']=0\n",
    "        f3['B']=0\n",
    "        f3['P']=0\n",
    "        f3['E']=0\n",
    "#         print()\n",
    "        for key in map_cabin:\n",
    "            if key in flight['avilable_seats']:\n",
    "                f3[map_cabin[key]]+=flight['avilable_seats'][key]\n",
    "        f2.append(f3)\n",
    "    f4=[]\n",
    "    for flight in alt['c_flights']:\n",
    "        f5=[]\n",
    "        for fl in flight:\n",
    "            f3={}\n",
    "            f3['flight_id']=fl['flight_id']\n",
    "            f3['delay']=fl['delay']\n",
    "            f3['flight_time']=fl['flight_time']\n",
    "            f3['F']=0\n",
    "            f3['B']=0\n",
    "            f3['P']=0\n",
    "            f3['E']=0\n",
    "#         print()\n",
    "            for key in map_cabin:\n",
    "                if key in fl['avilable_seats']:\n",
    "                    f3[map_cabin[key]]+=fl['avilable_seats'][key]\n",
    "            f5.append(f3)\n",
    "        f4.append(f5)\n",
    "    f6=[]\n",
    "    for flight in alt['t_flights']:\n",
    "        f7=[]\n",
    "        for fl in flight:\n",
    "            f3={}\n",
    "            f3['flight_id']=fl['flight_id']\n",
    "            f3['delay']=fl['delay']\n",
    "            f3['flight_time']=fl['flight_time']\n",
    "            f3['F']=0\n",
    "            f3['B']=0\n",
    "            f3['P']=0\n",
    "            f3['E']=0\n",
    "#         print()\n",
    "            for key in map_cabin:\n",
    "                if key in fl['avilable_seats']:\n",
    "                    f3[map_cabin[key]]+=fl['avilable_seats'][key]\n",
    "            f7.append(f3)\n",
    "        f6.append(f7)\n",
    "#     print(f['flight_id'])\n",
    "    alt_flight[f['flight_id']]={'n_flights':f2,'c_flights':f4,'t_flights':f6}"
   ]
  },
  {
   "cell_type": "code",
   "execution_count": 6,
   "id": "95b85c35",
   "metadata": {},
   "outputs": [],
   "source": [
    "# for k in alt_flight:\n",
    "#     print(k)"
   ]
  },
  {
   "cell_type": "code",
   "execution_count": 8,
   "id": "ef3ba295",
   "metadata": {},
   "outputs": [],
   "source": [
    "used_seat={}\n",
    "max_seat={}\n",
    "\n",
    "for i in alt_flight:\n",
    "    for j in alt_flight[i]['n_flights']:\n",
    "        used_seat[j['flight_id']]={ 'F':'0','P':'0','C':'0','J':'0','Z':'0','Q':'0','R':'0','S':'0','T':'0','H':'0','M':'0',\n",
    "          'Y':'0', 'A':'0', 'B':'0', 'D':'0', 'E':'0', 'G':'0', 'I':'0', 'K':'0', 'L':'0', 'N':'0', 'O':'0',\n",
    "           'U':'0', 'V':'0','W':'0','X':'0'}\n",
    "    for j in alt_flight[i]['c_flights']:\n",
    "        used_seat[j[0]['flight_id']]={ 'F':'0','P':'0','C':'0','J':'0','Z':'0','Q':'0','R':'0','S':'0','T':'0','H':'0','M':'0',\n",
    "          'Y':'0', 'A':'0', 'B':'0', 'D':'0', 'E':'0', 'G':'0', 'I':'0', 'K':'0', 'L':'0', 'N':'0', 'O':'0',\n",
    "           'U':'0', 'V':'0','W':'0','X':'0'}\n",
    "        used_seat[j[1]['flight_id']]={ 'F':'0','P':'0','C':'0','J':'0','Z':'0','Q':'0','R':'0','S':'0','T':'0','H':'0','M':'0',\n",
    "          'Y':'0', 'A':'0', 'B':'0', 'D':'0', 'E':'0', 'G':'0', 'I':'0', 'K':'0', 'L':'0', 'N':'0', 'O':'0',\n",
    "           'U':'0', 'V':'0','W':'0','X':'0'}\n",
    "    for j in alt_flight[i]['t_flights']:\n",
    "        used_seat[j[0]['flight_id']]={ 'F':'0','P':'0','C':'0','J':'0','Z':'0','Q':'0','R':'0','S':'0','T':'0','H':'0','M':'0',\n",
    "          'Y':'0', 'A':'0', 'B':'0', 'D':'0', 'E':'0', 'G':'0', 'I':'0', 'K':'0', 'L':'0', 'N':'0', 'O':'0',\n",
    "           'U':'0', 'V':'0','W':'0','X':'0'}\n",
    "        used_seat[j[1]['flight_id']]={ 'F':'0','P':'0','C':'0','J':'0','Z':'0','Q':'0','R':'0','S':'0','T':'0','H':'0','M':'0',\n",
    "          'Y':'0', 'A':'0', 'B':'0', 'D':'0', 'E':'0', 'G':'0', 'I':'0', 'K':'0', 'L':'0', 'N':'0', 'O':'0',\n",
    "           'U':'0', 'V':'0','W':'0','X':'0'}\n",
    "        used_seat[j[2]['flight_id']]={ 'F':'0','P':'0','C':'0','J':'0','Z':'0','Q':'0','R':'0','S':'0','T':'0','H':'0','M':'0',\n",
    "          'Y':'0', 'A':'0', 'B':'0', 'D':'0', 'E':'0', 'G':'0', 'I':'0', 'K':'0', 'L':'0', 'N':'0', 'O':'0',\n",
    "           'U':'0', 'V':'0','W':'0','X':'0'}\n",
    "        "
   ]
  },
  {
   "cell_type": "code",
   "execution_count": 70,
   "id": "ff7448ab",
   "metadata": {},
   "outputs": [],
   "source": [
    "used_seat={}\n",
    "maximum_seat={}\n",
    "\n",
    "for i in alt_flight:\n",
    "    for j in alt_flight[i]['n_flights']:\n",
    "        used_seat[j['flight_id']]={'F':0,'B':0,'P':0,'E':0}\n",
    "        maximum_seat[j['flight_id']]={'F':j['F'],'B':j['B'],'P':j['P'],'E':j['E']}\n",
    "    for j in alt_flight[i]['c_flights']:\n",
    "        used_seat[j[0]['flight_id']]={'F':0,'B':0,'P':0,'E':0}\n",
    "        maximum_seat[j[0]['flight_id']]={'F':j[0]['F'],'B':j[0]['B'],'P':j[0]['P'],'E':j[0]['E']}\n",
    "        used_seat[j[1]['flight_id']]={'F':0,'B':0,'P':0,'E':0}\n",
    "        maximum_seat[j[1]['flight_id']]={'F':j[1]['F'],'B':j[1]['B'],'P':j[1]['P'],'E':j[1]['E']}\n",
    "    for j in alt_flight[i]['t_flights']:\n",
    "        used_seat[j[0]['flight_id']]={'F':0,'B':0,'P':0,'E':0}\n",
    "        maximum_seat[j[0]['flight_id']]={'F':j[0]['F'],'B':j[0]['B'],'P':j[0]['P'],'E':j[0]['E']}\n",
    "        used_seat[j[1]['flight_id']]={'F':0,'B':0,'P':0,'E':0}\n",
    "        maximum_seat[j[1]['flight_id']]={'F':j[1]['F'],'B':j[1]['B'],'P':j[1]['P'],'E':j[1]['E']}\n",
    "        used_seat[j[2]['flight_id']]={'F':0,'B':0,'P':0,'E':0}\n",
    "        maximum_seat[j[2]['flight_id']]={'F':j[2]['F'],'B':j[2]['B'],'P':j[2]['P'],'E':j[2]['E']}\n",
    "        "
   ]
  },
  {
   "cell_type": "code",
   "execution_count": 71,
   "id": "36c63bba",
   "metadata": {},
   "outputs": [],
   "source": [
    "# used_seat"
   ]
  },
  {
   "cell_type": "code",
   "execution_count": 72,
   "id": "99db5b64",
   "metadata": {},
   "outputs": [],
   "source": [
    "needed_seat=[]\n",
    "for i in pnr:\n",
    "    alloc={}\n",
    "    for j in pnr[i]:\n",
    "        alloc=j\n",
    "        alloc['flight_id']=i\n",
    "        needed_seat.append(alloc)\n",
    "sorted_pnr = sorted(needed_seat, key=lambda x: x['score'],reverse=True)"
   ]
  },
  {
   "cell_type": "code",
   "execution_count": 73,
   "id": "58e23830",
   "metadata": {},
   "outputs": [],
   "source": [
    "allocated={}\n",
    "\n",
    "for i in sorted_pnr:\n",
    "    allocated[i['pnr']]='NULL'"
   ]
  },
  {
   "cell_type": "code",
   "execution_count": 74,
   "id": "cdb42bf4",
   "metadata": {},
   "outputs": [],
   "source": [
    "# alt_flight"
   ]
  },
  {
   "cell_type": "code",
   "execution_count": 75,
   "id": "d8632d46",
   "metadata": {},
   "outputs": [],
   "source": [
    "def get_delay_cost(delay_str):\n",
    "    pattern = re.compile(r'P(\\d+)DT(\\d+)H(\\d+)M')\n",
    "    match = pattern.match(delay_str)\n",
    "    days, hours, minutes = map(int, match.groups())\n",
    "    time = days*24 + hours\n",
    "    if(minutes>30):\n",
    "        time+=1\n",
    "    time = math.exp(time/3)\n",
    "    return time\n",
    "\n",
    "def get_layoff_cost(delay_str):\n",
    "    pattern = re.compile(r'P(\\d+)DT(\\d+)H(\\d+)M')\n",
    "    match = pattern.match(delay_str)\n",
    "    days, hours, minutes = map(int, match.groups())\n",
    "    time = days*24 + hours\n",
    "    if(minutes>30):\n",
    "        time+=1\n",
    "    time = math.exp(time/2.5)\n",
    "    return time\n",
    "\n",
    "\n",
    "def get_flight_time_score(d,s):\n",
    "    pattern = re.compile(r'P(\\d+)DT(\\d+)H(\\d+)M')\n",
    "    match = pattern.match(s)\n",
    "    days, hours, minutes = map(int, match.groups())\n",
    "    time = days*24 + hours\n",
    "    if(minutes>30):\n",
    "        time+=1\n",
    "    if d==0 :\n",
    "        return 0\n",
    "    elif(d>0):\n",
    "        return d*math.exp(time/1.2)\n",
    "    else:\n",
    "        return (-d)*math.exp(time/1.5)\n",
    "\n",
    "    "
   ]
  },
  {
   "cell_type": "code",
   "execution_count": 76,
   "id": "2529b06d",
   "metadata": {},
   "outputs": [],
   "source": [
    "tot_cost=0"
   ]
  },
  {
   "cell_type": "code",
   "execution_count": 77,
   "id": "7e456fd6",
   "metadata": {},
   "outputs": [],
   "source": [
    "tot_cost=0\n",
    "def obj(flights,pnr):\n",
    "    global tot_cost\n",
    "    n_flights=flights['n_flights']\n",
    "    c_flights=flights['c_flights']\n",
    "    t_flights=flights['t_flights']\n",
    "    \n",
    "#     c_flights=[]\n",
    "#     print(n_flights[0])\n",
    "#     print(c_flights[0])\n",
    "#     return\n",
    "#     print(len(n_flights))\n",
    "#     print(len(c_flights))\n",
    "#     print(n_flights)\n",
    "    f_id=[-1]\n",
    "    c_id=[-1]\n",
    "    val=1e18\n",
    "    c_up=3\n",
    "    c_down=2\n",
    "    temp_id=0\n",
    "    cabin0=cabin_ind[map_cabin[pnr['class']]]\n",
    "    for f in  n_flights:\n",
    "#         print(f)\n",
    "#         break\n",
    "        cost=get_delay_cost(f['delay'])\n",
    "            \n",
    "        for i in cabins:\n",
    "            if(f[i]<pnr['pax']+used_seat[f['flight_id']][i]):\n",
    "                continue\n",
    "            d=cabin_ind[i]-cabin0\n",
    "            c=get_flight_time_score(d,f['flight_time'])\n",
    "#             print(c+cost)\n",
    "            if(c+cost<val):\n",
    "                val=c+cost\n",
    "                f_id=[f['flight_id']]\n",
    "                c_id=[i]\n",
    "#             temp_id+=1\n",
    "#     flight_no=temp_id/n_class\n",
    "#     class_no=temp_id%n_class\n",
    "#     print('kkkkkk')\n",
    "    for f in c_flights:\n",
    "        \n",
    "#         print(f[1]['delay'])\n",
    "        cost=get_delay_cost(f[0]['delay'])+get_layoff_cost(f[1]['delay'])\n",
    "        \n",
    "        for i in cabins:\n",
    "            for j in cabins:\n",
    "                if(f[0][i]<pnr['pax']+used_seat[f[0]['flight_id']][i] or f[1][j]<pnr['pax']+used_seat[f[0]['flight_id']][j]):\n",
    "                    continue\n",
    "                d1=cabin_ind[i]-cabin0\n",
    "                d2=cabin_ind[j]-cabin0\n",
    "                c=get_flight_time_score(d1,f[0]['flight_time'])\n",
    "                c+=get_flight_time_score(d2,f[1]['flight_time'])\n",
    "#                 print(c+cost)\n",
    "                if(c+cost<val):\n",
    "                    val=c+cost\n",
    "                    f_id=[f[0]['flight_id'],f[1]['flight_id']]\n",
    "                    c_id=[i,j]\n",
    "                    \n",
    "    for f in t_flights:\n",
    "        \n",
    "#         print(f[1]['delay'])\n",
    "        cost=get_delay_cost(f[0]['delay'])+get_layoff_cost(f[1]['delay'])+get_layoff_cost(f[2]['delay'])\n",
    "        \n",
    "        for i in cabins:\n",
    "            for j in cabins:\n",
    "                for k in cabins:\n",
    "                    if(f[0][i]<pnr['pax']+used_seat[f[0]['flight_id']][i] or f[1][j]<pnr['pax']+used_seat[f[1]['flight_id']][j]\n",
    "                  or f[2][k]<pnr['pax']+used_seat[f[2]['flight_id']][k]):\n",
    "                        continue\n",
    "                    d1=cabin_ind[i]-cabin0\n",
    "                    d2=cabin_ind[j]-cabin0\n",
    "                    d3=cabin_ind[k]-cabin0\n",
    "                    c=get_flight_time_score(d1,f[0]['flight_time'])\n",
    "                    c+=get_flight_time_score(d2,f[1]['flight_time'])\n",
    "                    c+=get_flight_time_score(d3,f[2]['flight_time'])\n",
    "#                 print(c+cost)\n",
    "                    if(c+cost<val):\n",
    "                        val=c+cost\n",
    "                        f_id=[f[0]['flight_id'],f[1]['flight_id'],f[2]['flight_id']]\n",
    "                        c_id=[i,j,k]\n",
    "     \n",
    "    if val!=1e18:\n",
    "        tot_cost+=val\n",
    "    return f_id,c_id,val"
   ]
  },
  {
   "cell_type": "code",
   "execution_count": null,
   "id": "fba3e2c7",
   "metadata": {},
   "outputs": [],
   "source": []
  },
  {
   "cell_type": "code",
   "execution_count": 78,
   "id": "c7dbc161",
   "metadata": {},
   "outputs": [],
   "source": [
    "# tot_cost=0\n",
    "for i in sorted_pnr:\n",
    "#     print(i)\n",
    "    f_id=i['flight_id']\n",
    "    flight_id,cabin_id,cost=obj(alt_flight[f_id],i)\n",
    "#     break\n",
    "#     print(flight_id)\n",
    "#     print(cabin_id)\n",
    "    if(len(flight_id)==3):\n",
    "        allocated[i['pnr']]=[flight_id,cabin_id,cost]\n",
    "        used_seat[flight_id[0]][cabin_id[0]]+=i['pax']\n",
    "        used_seat[flight_id[1]][cabin_id[1]]+=i['pax']\n",
    "        used_seat[flight_id[2]][cabin_id[2]]+=i['pax']\n",
    "    elif(len(flight_id)==2):\n",
    "        allocated[i['pnr']]=[flight_id,cabin_id,cost]\n",
    "        used_seat[flight_id[0]][cabin_id[0]]+=i['pax']\n",
    "        used_seat[flight_id[1]][cabin_id[1]]+=i['pax']\n",
    "    elif(flight_id[0]!=-1):\n",
    "        allocated[i['pnr']]=[flight_id[0],cabin_id[0],cost]\n",
    "        used_seat[flight_id[0]][cabin_id[0]]+=i['pax']"
   ]
  },
  {
   "cell_type": "code",
   "execution_count": 79,
   "id": "ef3a20d8",
   "metadata": {},
   "outputs": [],
   "source": [
    "#  allocated"
   ]
  },
  {
   "cell_type": "code",
   "execution_count": 80,
   "id": "f3c42214",
   "metadata": {},
   "outputs": [],
   "source": [
    "pnr_flight={}\n",
    "for i in sorted_pnr:\n",
    "    pnr_flight[i['pnr']]=i['flight_id']"
   ]
  },
  {
   "cell_type": "code",
   "execution_count": 81,
   "id": "03f9160b",
   "metadata": {},
   "outputs": [],
   "source": [
    "remaining_seat={}\n",
    "for i in used_seat:\n",
    "    k={}\n",
    "    for j in used_seat[i]:\n",
    "        k[j]=maximum_seat[i][j]-used_seat[i][j]\n",
    "    remaining_seat[i]=k \n",
    "remaining_seat\n",
    "sum=0\n",
    "flight_cancel={}\n",
    "for i in allocated: \n",
    "    if allocated[i]=='NULL':\n",
    "        if pnr_flight[i] in flight_cancel:\n",
    "            flight_cancel[pnr_flight[i]]+=1\n",
    "        else:\n",
    "            flight_cancel[pnr_flight[i]]=1 \n",
    "#         for k in alt_flight[pnr_flight[i]]['n_flights']:\n",
    "#             print(k)\n",
    "#             print(remaining_seat[k['flight_id']])"
   ]
  },
  {
   "cell_type": "code",
   "execution_count": 82,
   "id": "461ad273",
   "metadata": {},
   "outputs": [
    {
     "data": {
      "text/plain": [
       "{'eafeb9ac': 49, '20dc7713': 45}"
      ]
     },
     "execution_count": 82,
     "metadata": {},
     "output_type": "execute_result"
    }
   ],
   "source": [
    "flight_cancel"
   ]
  },
  {
   "cell_type": "code",
   "execution_count": 83,
   "id": "65422352",
   "metadata": {},
   "outputs": [
    {
     "data": {
      "text/plain": [
       "2"
      ]
     },
     "execution_count": 83,
     "metadata": {},
     "output_type": "execute_result"
    }
   ],
   "source": [
    "len(flight_cancel)"
   ]
  },
  {
   "cell_type": "code",
   "execution_count": 84,
   "id": "4c38c905",
   "metadata": {},
   "outputs": [
    {
     "data": {
      "text/plain": [
       "81"
      ]
     },
     "execution_count": 84,
     "metadata": {},
     "output_type": "execute_result"
    }
   ],
   "source": [
    "len(cancel['data'])"
   ]
  },
  {
   "cell_type": "code",
   "execution_count": 91,
   "id": "02030288",
   "metadata": {},
   "outputs": [],
   "source": [
    "# maximum_seat"
   ]
  },
  {
   "cell_type": "code",
   "execution_count": 92,
   "id": "2a2cc844",
   "metadata": {},
   "outputs": [
    {
     "data": {
      "text/plain": [
       "5838"
      ]
     },
     "execution_count": 92,
     "metadata": {},
     "output_type": "execute_result"
    }
   ],
   "source": [
    "sum=0\n",
    "for i in allocated: \n",
    "    if allocated[i]=='NULL' or allocated[i]==[]:\n",
    "        sum+=1\n",
    "len(allocated)"
   ]
  },
  {
   "cell_type": "code",
   "execution_count": 93,
   "id": "2819c322",
   "metadata": {},
   "outputs": [
    {
     "data": {
      "text/plain": [
       "94"
      ]
     },
     "execution_count": 93,
     "metadata": {},
     "output_type": "execute_result"
    }
   ],
   "source": [
    "sum"
   ]
  },
  {
   "cell_type": "code",
   "execution_count": 94,
   "id": "3978a960",
   "metadata": {},
   "outputs": [
    {
     "data": {
      "text/plain": [
       "5744"
      ]
     },
     "execution_count": 94,
     "metadata": {},
     "output_type": "execute_result"
    }
   ],
   "source": [
    "x=len(allocated)-sum\n",
    "x"
   ]
  },
  {
   "cell_type": "code",
   "execution_count": 95,
   "id": "d78fee39",
   "metadata": {},
   "outputs": [
    {
     "data": {
      "text/plain": [
       "2672606.877986451"
      ]
     },
     "execution_count": 95,
     "metadata": {},
     "output_type": "execute_result"
    }
   ],
   "source": [
    "tot_cost/x"
   ]
  },
  {
   "cell_type": "code",
   "execution_count": 96,
   "id": "50ac05eb",
   "metadata": {},
   "outputs": [
    {
     "data": {
      "text/plain": [
       "15351453907.154175"
      ]
     },
     "execution_count": 96,
     "metadata": {},
     "output_type": "execute_result"
    }
   ],
   "source": [
    "tot_cost"
   ]
  },
  {
   "cell_type": "code",
   "execution_count": null,
   "id": "a48eb301",
   "metadata": {},
   "outputs": [],
   "source": []
  },
  {
   "cell_type": "code",
   "execution_count": null,
   "id": "8483da06",
   "metadata": {},
   "outputs": [],
   "source": []
  }
 ],
 "metadata": {
  "kernelspec": {
   "display_name": "Python 3 (ipykernel)",
   "language": "python",
   "name": "python3"
  },
  "language_info": {
   "codemirror_mode": {
    "name": "ipython",
    "version": 3
   },
   "file_extension": ".py",
   "mimetype": "text/x-python",
   "name": "python",
   "nbconvert_exporter": "python",
   "pygments_lexer": "ipython3",
   "version": "3.10.11"
  }
 },
 "nbformat": 4,
 "nbformat_minor": 5
}
