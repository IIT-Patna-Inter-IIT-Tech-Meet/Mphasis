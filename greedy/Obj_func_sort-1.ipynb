{
 "cells": [
  {
   "cell_type": "code",
   "execution_count": 1,
   "id": "cb6d6657",
   "metadata": {},
   "outputs": [],
   "source": [
    "import re\n",
    "import math"
   ]
  },
  {
   "cell_type": "code",
   "execution_count": 2,
   "id": "239c8f57",
   "metadata": {},
   "outputs": [],
   "source": [
    "import requests\n",
    "import json\n",
    "\n",
    "HOST = \"http://10.35.0.112:8000/\"\n",
    "API_CANCLED = \"canclled\"\n",
    "API_PNR_RANKING = \"pnr_ranking?flight_id=\"\n",
    "API_ALT_FLIGHT=\"alt_flight?flight_id=\"\n",
    "\n",
    "def get_cancled():\n",
    "    response = requests.request(\"GET\", HOST + API_CANCLED, headers={}, data={})\n",
    "    return json.loads(response.text)\n",
    "\n",
    "def get_pnrs(flight_id):\n",
    "    response = requests.request(\"GET\", HOST + API_PNR_RANKING + str(flight_id), headers={}, data={})\n",
    "    return json.loads(response.text)\n",
    "\n",
    "def get_alt_flights(flight_id):\n",
    "    response = requests.request(\"GET\", HOST + API_ALT_FLIGHT + str(flight_id), headers={}, data={})\n",
    "    return json.loads(response.text)"
   ]
  },
  {
   "cell_type": "code",
   "execution_count": 3,
   "id": "63f22e39",
   "metadata": {},
   "outputs": [
    {
     "data": {
      "text/plain": [
       "{'data': {'error': 'Flight does not exist'}}"
      ]
     },
     "execution_count": 3,
     "metadata": {},
     "output_type": "execute_result"
    }
   ],
   "source": [
    "cancel=get_cancled()\n",
    "len(cancel)\n",
    "x=get_alt_flights('61d83160')\n",
    "x"
   ]
  },
  {
   "cell_type": "code",
   "execution_count": 4,
   "id": "b8609006",
   "metadata": {},
   "outputs": [],
   "source": [
    "map_cabin={ 'F':'F','P':'F','C':'B','J':'B','Z':'B','Q':'P','R':'P','S':'P','T':'P','H':'P','M':'P',\n",
    "          'Y':'E', 'A':'E', 'B':'E', 'D':'E', 'E':'E', 'G':'E', 'I':'E', 'K':'E', 'L':'E', 'N':'E', 'O':'E',\n",
    "           'U':'E', 'V':'E','W':'E','X':'E'}\n",
    "cabins=['F','B','P','E']\n",
    "cabin_ind={'F':0 , 'B':1,'P':2,'E':3}\n",
    "\n",
    "class_ind = {'F':'0', 'P':'1', 'C':'2', 'J':'3', 'Z':'4', 'Q':'5', 'R':'6', 'S':'7', 'T':'8', 'H':'9', 'M':'10',\n",
    "             'Y':'11', 'A':'12', 'B':'13', 'D':'14', 'E':'15', 'G':'16', 'I':'17', 'K':'18', 'L':'19', 'N':'20', 'O':'21',\n",
    "             'U':'22', 'V':'23', 'W':'24', 'X':'25'}\n",
    "\n",
    "ind_class = {'0': 'F', '1': 'P', '2': 'C', '3': 'J', '4': 'Z', '5': 'Q', '6': 'R', '7': 'S', '8': 'T', '9': 'H', '10': 'M',\n",
    "             '11': 'Y', '12': 'A', '13': 'B', '14': 'D', '15': 'E', '16': 'G', '17': 'I', '18': 'K', '19': 'L', '20': 'N', '21': 'O',\n",
    "            '22': 'U', '23': 'V', '24': 'W', '25': 'X'}"
   ]
  },
  {
   "cell_type": "code",
   "execution_count": 5,
   "id": "294c552e",
   "metadata": {},
   "outputs": [],
   "source": [
    "def preprocess_data(get_pnrs,alt_flight )\n",
    "pnr={}\n",
    "alt_flight={}\n",
    "# pnr_flight={}\n",
    "for f in cancel['data']:\n",
    "#     print(f['flight_id'])\n",
    "    pnr[f['flight_id']]=get_pnrs(f['flight_id'])['data']\n",
    "    alt=get_alt_flights(f['flight_id'])['data']\n",
    "    f2=[]\n",
    "    for flight in alt['data']:\n",
    "        f3={}\n",
    "        f3['flight_id']=flight['flight_id']\n",
    "        f3['delay']=flight['delay']\n",
    "        f3['flight_time']=flight['flight_time']\n",
    "        f3['F']=0\n",
    "        f3['B']=0\n",
    "        f3['P']=0\n",
    "        f3['E']=0\n",
    "#         print()\n",
    "        for key in map_cabin:\n",
    "            if key in flight['avilable_seats']:\n",
    "                f3[map_cabin[key]]+=flight['avilable_seats'][key]\n",
    "        f2.append(f3)\n",
    "    f4=[]\n",
    "    for flight in alt['c_flights']:\n",
    "        f5=[]\n",
    "        for fl in flight:\n",
    "            f3={}\n",
    "            f3['flight_id']=fl['flight_id']\n",
    "            f3['delay']=fl['delay']\n",
    "            f3['flight_time']=fl['flight_time']\n",
    "            f3['F']=0\n",
    "            f3['B']=0\n",
    "            f3['P']=0\n",
    "            f3['E']=0\n",
    "#         print()\n",
    "            for key in map_cabin:\n",
    "                if key in fl['avilable_seats']:\n",
    "                    f3[map_cabin[key]]+=fl['avilable_seats'][key]\n",
    "            f5.append(f3)\n",
    "        f4.append(f5)\n",
    "    f6=[]\n",
    "    for flight in alt['t_flights']:\n",
    "        f7=[]\n",
    "        for fl in flight:\n",
    "            f3={}\n",
    "            f3['flight_id']=fl['flight_id']\n",
    "            f3['delay']=fl['delay']\n",
    "            f3['flight_time']=fl['flight_time']\n",
    "            f3['F']=0\n",
    "            f3['B']=0\n",
    "            f3['P']=0\n",
    "            f3['E']=0\n",
    "#         print()\n",
    "            for key in map_cabin:\n",
    "                if key in fl['avilable_seats']:\n",
    "                    f3[map_cabin[key]]+=fl['avilable_seats'][key]\n",
    "            f7.append(f3)\n",
    "        f6.append(f7)\n",
    "#     print(f['flight_id'])\n",
    "    alt_flight[f['flight_id']]={'n_flights':f2,'c_flights':f4,'t_flights':f6}"
   ]
  },
  {
   "cell_type": "code",
   "execution_count": 6,
   "id": "95b85c35",
   "metadata": {},
   "outputs": [],
   "source": [
    "# for k in alt_flight:\n",
    "#     print(k)"
   ]
  },
  {
   "cell_type": "code",
   "execution_count": 7,
   "id": "ef3ba295",
   "metadata": {},
   "outputs": [],
   "source": [
    "used_seat={}\n",
    "max_seat={}\n",
    "\n",
    "for i in alt_flight:\n",
    "    for j in alt_flight[i]['n_flights']:\n",
    "        used_seat[j['flight_id']]={ 'F':'0','P':'0','C':'0','J':'0','Z':'0','Q':'0','R':'0','S':'0','T':'0','H':'0','M':'0',\n",
    "          'Y':'0', 'A':'0', 'B':'0', 'D':'0', 'E':'0', 'G':'0', 'I':'0', 'K':'0', 'L':'0', 'N':'0', 'O':'0',\n",
    "           'U':'0', 'V':'0','W':'0','X':'0'}\n",
    "    for j in alt_flight[i]['c_flights']:\n",
    "        used_seat[j[0]['flight_id']]={ 'F':'0','P':'0','C':'0','J':'0','Z':'0','Q':'0','R':'0','S':'0','T':'0','H':'0','M':'0',\n",
    "          'Y':'0', 'A':'0', 'B':'0', 'D':'0', 'E':'0', 'G':'0', 'I':'0', 'K':'0', 'L':'0', 'N':'0', 'O':'0',\n",
    "           'U':'0', 'V':'0','W':'0','X':'0'}\n",
    "        used_seat[j[1]['flight_id']]={ 'F':'0','P':'0','C':'0','J':'0','Z':'0','Q':'0','R':'0','S':'0','T':'0','H':'0','M':'0',\n",
    "          'Y':'0', 'A':'0', 'B':'0', 'D':'0', 'E':'0', 'G':'0', 'I':'0', 'K':'0', 'L':'0', 'N':'0', 'O':'0',\n",
    "           'U':'0', 'V':'0','W':'0','X':'0'}\n",
    "    for j in alt_flight[i]['t_flights']:\n",
    "        used_seat[j[0]['flight_id']]={ 'F':'0','P':'0','C':'0','J':'0','Z':'0','Q':'0','R':'0','S':'0','T':'0','H':'0','M':'0',\n",
    "          'Y':'0', 'A':'0', 'B':'0', 'D':'0', 'E':'0', 'G':'0', 'I':'0', 'K':'0', 'L':'0', 'N':'0', 'O':'0',\n",
    "           'U':'0', 'V':'0','W':'0','X':'0'}\n",
    "        used_seat[j[1]['flight_id']]={ 'F':'0','P':'0','C':'0','J':'0','Z':'0','Q':'0','R':'0','S':'0','T':'0','H':'0','M':'0',\n",
    "          'Y':'0', 'A':'0', 'B':'0', 'D':'0', 'E':'0', 'G':'0', 'I':'0', 'K':'0', 'L':'0', 'N':'0', 'O':'0',\n",
    "           'U':'0', 'V':'0','W':'0','X':'0'}\n",
    "        used_seat[j[2]['flight_id']]={ 'F':'0','P':'0','C':'0','J':'0','Z':'0','Q':'0','R':'0','S':'0','T':'0','H':'0','M':'0',\n",
    "          'Y':'0', 'A':'0', 'B':'0', 'D':'0', 'E':'0', 'G':'0', 'I':'0', 'K':'0', 'L':'0', 'N':'0', 'O':'0',\n",
    "           'U':'0', 'V':'0','W':'0','X':'0'}\n",
    "        "
   ]
  },
  {
   "cell_type": "code",
   "execution_count": 8,
   "id": "ff7448ab",
   "metadata": {},
   "outputs": [],
   "source": [
    "used_seat={}\n",
    "maximum_seat={}\n",
    "\n",
    "for i in alt_flight:\n",
    "    for j in alt_flight[i]['n_flights']:\n",
    "        used_seat[j['flight_id']]={'F':0,'B':0,'P':0,'E':0}\n",
    "        maximum_seat[j['flight_id']]={'F':j['F'],'B':j['B'],'P':j['P'],'E':j['E']}\n",
    "    for j in alt_flight[i]['c_flights']:\n",
    "        used_seat[j[0]['flight_id']]={'F':0,'B':0,'P':0,'E':0}\n",
    "        maximum_seat[j[0]['flight_id']]={'F':j[0]['F'],'B':j[0]['B'],'P':j[0]['P'],'E':j[0]['E']}\n",
    "        used_seat[j[1]['flight_id']]={'F':0,'B':0,'P':0,'E':0}\n",
    "        maximum_seat[j[1]['flight_id']]={'F':j[1]['F'],'B':j[1]['B'],'P':j[1]['P'],'E':j[1]['E']}\n",
    "    for j in alt_flight[i]['t_flights']:\n",
    "        used_seat[j[0]['flight_id']]={'F':0,'B':0,'P':0,'E':0}\n",
    "        maximum_seat[j[0]['flight_id']]={'F':j[0]['F'],'B':j[0]['B'],'P':j[0]['P'],'E':j[0]['E']}\n",
    "        used_seat[j[1]['flight_id']]={'F':0,'B':0,'P':0,'E':0}\n",
    "        maximum_seat[j[1]['flight_id']]={'F':j[1]['F'],'B':j[1]['B'],'P':j[1]['P'],'E':j[1]['E']}\n",
    "        used_seat[j[2]['flight_id']]={'F':0,'B':0,'P':0,'E':0}\n",
    "        maximum_seat[j[2]['flight_id']]={'F':j[2]['F'],'B':j[2]['B'],'P':j[2]['P'],'E':j[2]['E']}\n",
    "        "
   ]
  },
  {
   "cell_type": "code",
   "execution_count": 9,
   "id": "36c63bba",
   "metadata": {},
   "outputs": [],
   "source": [
    "# used_seat"
   ]
  },
  {
   "cell_type": "code",
   "execution_count": 10,
   "id": "99db5b64",
   "metadata": {},
   "outputs": [],
   "source": [
    "needed_seat=[]\n",
    "for i in pnr:\n",
    "    alloc={}\n",
    "    for j in pnr[i]:\n",
    "        alloc=j\n",
    "        alloc['flight_id']=i\n",
    "        needed_seat.append(alloc)\n",
    "sorted_pnr = sorted(needed_seat, key=lambda x: x['score'],reverse=True)"
   ]
  },
  {
   "cell_type": "code",
   "execution_count": 11,
   "id": "58e23830",
   "metadata": {},
   "outputs": [],
   "source": [
    "allocated={}\n",
    "\n",
    "for i in sorted_pnr:\n",
    "    allocated[i['pnr']]='NULL'"
   ]
  },
  {
   "cell_type": "code",
   "execution_count": 12,
   "id": "cdb42bf4",
   "metadata": {},
   "outputs": [],
   "source": [
    "# alt_flight"
   ]
  },
  {
   "cell_type": "code",
   "execution_count": 13,
   "id": "d8632d46",
   "metadata": {},
   "outputs": [],
   "source": [
    "def get_delay_cost(delay_str):\n",
    "    pattern = re.compile(r'P(\\d+)DT(\\d+)H(\\d+)M')\n",
    "    match = pattern.match(delay_str)\n",
    "    days, hours, minutes = map(int, match.groups())\n",
    "    time = days*24 + hours\n",
    "    if(minutes>30):\n",
    "        time+=1\n",
    "    time = math.exp(time/3)\n",
    "    return time\n",
    "\n",
    "def get_layoff_cost(delay_str):\n",
    "    pattern = re.compile(r'P(\\d+)DT(\\d+)H(\\d+)M')\n",
    "    match = pattern.match(delay_str)\n",
    "    days, hours, minutes = map(int, match.groups())\n",
    "    time = days*24 + hours\n",
    "    if(minutes>30):\n",
    "        time+=1\n",
    "    time = math.exp(time/2.5)\n",
    "    return time\n",
    "\n",
    "\n",
    "def get_flight_time_score(d,s):\n",
    "    pattern = re.compile(r'P(\\d+)DT(\\d+)H(\\d+)M')\n",
    "    match = pattern.match(s)\n",
    "    days, hours, minutes = map(int, match.groups())\n",
    "    time = days*24 + hours\n",
    "    if(minutes>30):\n",
    "        time+=1\n",
    "    if d==0 :\n",
    "        return 0\n",
    "    elif(d>0):\n",
    "        return d*math.exp(time/1.2)\n",
    "    else:\n",
    "        return (-d)*math.exp(time/1.5)\n",
    "\n",
    "    "
   ]
  },
  {
   "cell_type": "code",
   "execution_count": 14,
   "id": "2529b06d",
   "metadata": {},
   "outputs": [],
   "source": [
    "tot_cost=0"
   ]
  },
  {
   "cell_type": "code",
   "execution_count": 15,
   "id": "7e456fd6",
   "metadata": {},
   "outputs": [],
   "source": [
    "tot_cost=0\n",
    "def obj(flights,pnr):\n",
    "    global tot_cost\n",
    "    n_flights=flights['n_flights']\n",
    "    c_flights=flights['c_flights']\n",
    "    t_flights=flights['t_flights']\n",
    "    \n",
    "#     c_flights=[]\n",
    "#     print(n_flights[0])\n",
    "#     print(c_flights[0])\n",
    "#     return\n",
    "#     print(len(n_flights))\n",
    "#     print(len(c_flights))\n",
    "#     print(n_flights)\n",
    "    f_id=[-1]\n",
    "    c_id=[-1]\n",
    "    val=1e18\n",
    "    c_up=3\n",
    "    c_down=2\n",
    "    temp_id=0\n",
    "    cabin0=cabin_ind[map_cabin[pnr['class']]]\n",
    "    for f in  n_flights:\n",
    "#         print(f)\n",
    "#         break\n",
    "        cost=get_delay_cost(f['delay'])\n",
    "            \n",
    "        for i in cabins:\n",
    "            if(f[i]<pnr['pax']+used_seat[f['flight_id']][i]):\n",
    "                continue\n",
    "            d=cabin_ind[i]-cabin0\n",
    "            c=get_flight_time_score(d,f['flight_time'])\n",
    "#             print(c+cost)\n",
    "            if(c+cost<val):\n",
    "                val=c+cost\n",
    "                f_id=[f['flight_id']]\n",
    "                c_id=[i]\n",
    "#             temp_id+=1\n",
    "#     flight_no=temp_id/n_class\n",
    "#     class_no=temp_id%n_class\n",
    "#     print('kkkkkk')\n",
    "    for f in c_flights:\n",
    "        \n",
    "#         print(f[1]['delay'])\n",
    "        cost=get_delay_cost(f[0]['delay'])+get_layoff_cost(f[1]['delay'])\n",
    "        \n",
    "        for i in cabins:\n",
    "            for j in cabins:\n",
    "                if(f[0][i]<pnr['pax']+used_seat[f[0]['flight_id']][i] or f[1][j]<pnr['pax']+used_seat[f[0]['flight_id']][j]):\n",
    "                    continue\n",
    "                d1=cabin_ind[i]-cabin0\n",
    "                d2=cabin_ind[j]-cabin0\n",
    "                c=get_flight_time_score(d1,f[0]['flight_time'])\n",
    "                c+=get_flight_time_score(d2,f[1]['flight_time'])\n",
    "#                 print(c+cost)\n",
    "                if(c+cost<val):\n",
    "                    val=c+cost\n",
    "                    f_id=[f[0]['flight_id'],f[1]['flight_id']]\n",
    "                    c_id=[i,j]\n",
    "                    \n",
    "    for f in t_flights:\n",
    "        \n",
    "#         print(f[1]['delay'])\n",
    "        cost=get_delay_cost(f[0]['delay'])+get_layoff_cost(f[1]['delay'])+get_layoff_cost(f[2]['delay'])\n",
    "        \n",
    "        for i in cabins:\n",
    "            for j in cabins:\n",
    "                for k in cabins:\n",
    "                    if(f[0][i]<pnr['pax']+used_seat[f[0]['flight_id']][i] or f[1][j]<pnr['pax']+used_seat[f[1]['flight_id']][j]\n",
    "                  or f[2][k]<pnr['pax']+used_seat[f[2]['flight_id']][k]):\n",
    "                        continue\n",
    "                    d1=cabin_ind[i]-cabin0\n",
    "                    d2=cabin_ind[j]-cabin0\n",
    "                    d3=cabin_ind[k]-cabin0\n",
    "                    c=get_flight_time_score(d1,f[0]['flight_time'])\n",
    "                    c+=get_flight_time_score(d2,f[1]['flight_time'])\n",
    "                    c+=get_flight_time_score(d3,f[2]['flight_time'])\n",
    "#                 print(c+cost)\n",
    "                    if(c+cost<val):\n",
    "                        val=c+cost\n",
    "                        f_id=[f[0]['flight_id'],f[1]['flight_id'],f[2]['flight_id']]\n",
    "                        c_id=[i,j,k]\n",
    "     \n",
    "    if val!=1e18:\n",
    "        tot_cost+=val\n",
    "    return f_id,c_id,val"
   ]
  },
  {
   "cell_type": "code",
   "execution_count": null,
   "id": "fba3e2c7",
   "metadata": {},
   "outputs": [],
   "source": []
  },
  {
   "cell_type": "code",
   "execution_count": 16,
   "id": "c7dbc161",
   "metadata": {},
   "outputs": [],
   "source": [
    "# tot_cost=0\n",
    "for i in sorted_pnr:\n",
    "#     print(i)\n",
    "    f_id=i['flight_id']\n",
    "    flight_id,cabin_id,cost=obj(alt_flight[f_id],i)\n",
    "#     break\n",
    "#     print(flight_id)\n",
    "#     print(cabin_id)\n",
    "    if(len(flight_id)==3):\n",
    "        allocated[i['pnr']]=[flight_id,cabin_id,cost]\n",
    "        used_seat[flight_id[0]][cabin_id[0]]+=i['pax']\n",
    "        used_seat[flight_id[1]][cabin_id[1]]+=i['pax']\n",
    "        used_seat[flight_id[2]][cabin_id[2]]+=i['pax']\n",
    "    elif(len(flight_id)==2):\n",
    "        allocated[i['pnr']]=[flight_id,cabin_id,cost]\n",
    "        used_seat[flight_id[0]][cabin_id[0]]+=i['pax']\n",
    "        used_seat[flight_id[1]][cabin_id[1]]+=i['pax']\n",
    "    elif(flight_id[0]!=-1):\n",
    "        allocated[i['pnr']]=[flight_id[0],cabin_id[0],cost]\n",
    "        used_seat[flight_id[0]][cabin_id[0]]+=i['pax']"
   ]
  },
  {
   "cell_type": "code",
   "execution_count": 17,
   "id": "ef3a20d8",
   "metadata": {},
   "outputs": [],
   "source": [
    "#  allocated"
   ]
  },
  {
   "cell_type": "code",
   "execution_count": 18,
   "id": "f3c42214",
   "metadata": {},
   "outputs": [],
   "source": [
    "pnr_flight={}\n",
    "for i in sorted_pnr:\n",
    "    pnr_flight[i['pnr']]=i['flight_id']"
   ]
  },
  {
   "cell_type": "code",
   "execution_count": 19,
   "id": "03f9160b",
   "metadata": {},
   "outputs": [],
   "source": [
    "remaining_seat={}\n",
    "for i in used_seat:\n",
    "    k={}\n",
    "    for j in used_seat[i]:\n",
    "        k[j]=maximum_seat[i][j]-used_seat[i][j]\n",
    "    remaining_seat[i]=k \n",
    "remaining_seat\n",
    "sum=0\n",
    "flight_cancel={}\n",
    "for i in allocated: \n",
    "    if allocated[i]=='NULL':\n",
    "        if pnr_flight[i] in flight_cancel:\n",
    "            flight_cancel[pnr_flight[i]]+=1\n",
    "        else:\n",
    "            flight_cancel[pnr_flight[i]]=1 \n",
    "#         for k in alt_flight[pnr_flight[i]]['n_flights']:\n",
    "#             print(k)\n",
    "#             print(remaining_seat[k['flight_id']])"
   ]
  },
  {
   "cell_type": "code",
   "execution_count": 20,
   "id": "461ad273",
   "metadata": {},
   "outputs": [
    {
     "data": {
      "text/plain": [
       "{'INV-ZZ-1594157': 50,\n",
       " 'INV-ZZ-9711495': 13,\n",
       " 'INV-ZZ-3193130': 20,\n",
       " 'INV-ZZ-6129434': 29,\n",
       " 'INV-ZZ-5481055': 12,\n",
       " 'INV-ZZ-6235385': 28,\n",
       " 'INV-ZZ-8519614': 15}"
      ]
     },
     "execution_count": 20,
     "metadata": {},
     "output_type": "execute_result"
    }
   ],
   "source": [
    "flight_cancel"
   ]
  },
  {
   "cell_type": "code",
   "execution_count": 21,
   "id": "65422352",
   "metadata": {},
   "outputs": [
    {
     "data": {
      "text/plain": [
       "7"
      ]
     },
     "execution_count": 21,
     "metadata": {},
     "output_type": "execute_result"
    }
   ],
   "source": [
    "len(flight_cancel)"
   ]
  },
  {
   "cell_type": "code",
   "execution_count": 22,
   "id": "4c38c905",
   "metadata": {},
   "outputs": [
    {
     "data": {
      "text/plain": [
       "24"
      ]
     },
     "execution_count": 22,
     "metadata": {},
     "output_type": "execute_result"
    }
   ],
   "source": [
    "len(cancel['data'])"
   ]
  },
  {
   "cell_type": "code",
   "execution_count": 23,
   "id": "02030288",
   "metadata": {},
   "outputs": [],
   "source": [
    "# maximum_seat"
   ]
  },
  {
   "cell_type": "code",
   "execution_count": 24,
   "id": "2a2cc844",
   "metadata": {},
   "outputs": [
    {
     "data": {
      "text/plain": [
       "494"
      ]
     },
     "execution_count": 24,
     "metadata": {},
     "output_type": "execute_result"
    }
   ],
   "source": [
    "sum=0\n",
    "for i in allocated: \n",
    "    if allocated[i]=='NULL' or allocated[i]==[]:\n",
    "        sum+=1\n",
    "len(allocated)"
   ]
  },
  {
   "cell_type": "code",
   "execution_count": 25,
   "id": "2819c322",
   "metadata": {},
   "outputs": [
    {
     "data": {
      "text/plain": [
       "167"
      ]
     },
     "execution_count": 25,
     "metadata": {},
     "output_type": "execute_result"
    }
   ],
   "source": [
    "sum"
   ]
  },
  {
   "cell_type": "code",
   "execution_count": 26,
   "id": "3978a960",
   "metadata": {},
   "outputs": [
    {
     "data": {
      "text/plain": [
       "327"
      ]
     },
     "execution_count": 26,
     "metadata": {},
     "output_type": "execute_result"
    }
   ],
   "source": [
    "x=len(allocated)-sum\n",
    "x"
   ]
  },
  {
   "cell_type": "code",
   "execution_count": 27,
   "id": "d78fee39",
   "metadata": {},
   "outputs": [
    {
     "data": {
      "text/plain": [
       "4444231.642332075"
      ]
     },
     "execution_count": 27,
     "metadata": {},
     "output_type": "execute_result"
    }
   ],
   "source": [
    "tot_cost/x"
   ]
  },
  {
   "cell_type": "code",
   "execution_count": 28,
   "id": "50ac05eb",
   "metadata": {},
   "outputs": [
    {
     "data": {
      "text/plain": [
       "1453263747.0425887"
      ]
     },
     "execution_count": 28,
     "metadata": {},
     "output_type": "execute_result"
    }
   ],
   "source": [
    "tot_cost"
   ]
  },
  {
   "cell_type": "code",
   "execution_count": null,
   "id": "a48eb301",
   "metadata": {},
   "outputs": [],
   "source": []
  },
  {
   "cell_type": "code",
   "execution_count": null,
   "id": "8483da06",
   "metadata": {},
   "outputs": [],
   "source": []
  }
 ],
 "metadata": {
  "kernelspec": {
   "display_name": "Python 3 (ipykernel)",
   "language": "python",
   "name": "python3"
  },
  "language_info": {
   "codemirror_mode": {
    "name": "ipython",
    "version": 3
   },
   "file_extension": ".py",
   "mimetype": "text/x-python",
   "name": "python",
   "nbconvert_exporter": "python",
   "pygments_lexer": "ipython3",
   "version": "3.11.4"
  }
 },
 "nbformat": 4,
 "nbformat_minor": 5
}
